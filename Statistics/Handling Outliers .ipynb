{
 "cells": [
  {
   "cell_type": "code",
   "execution_count": 2,
   "id": "34aeadbe-9d58-4299-bf0e-2aa703d902b4",
   "metadata": {},
   "outputs": [],
   "source": [
    "import numpy as np\n",
    "lst_mark = [45,32,56,75,89,54,56,21,84,65,15,65,23,56,54,84,65,1000,1100]"
   ]
  },
  {
   "cell_type": "code",
   "execution_count": 4,
   "id": "1a07a10d-a59a-4067-90d8-35b2358daf83",
   "metadata": {},
   "outputs": [
    {
     "data": {
      "text/plain": [
       "array([49.5])"
      ]
     },
     "execution_count": 4,
     "metadata": {},
     "output_type": "execute_result"
    }
   ],
   "source": [
    "np.percentile(lst_mark,[25])"
   ]
  },
  {
   "cell_type": "code",
   "execution_count": 5,
   "id": "18f511b2-74a7-488c-95b0-4878fa0a2b85",
   "metadata": {},
   "outputs": [
    {
     "data": {
      "text/plain": [
       "array([79.5])"
      ]
     },
     "execution_count": 5,
     "metadata": {},
     "output_type": "execute_result"
    }
   ],
   "source": [
    "np.percentile(lst_mark,[75])"
   ]
  },
  {
   "cell_type": "code",
   "execution_count": 6,
   "id": "eca1c7b9-8f45-4eef-b430-78cb757407b3",
   "metadata": {},
   "outputs": [
    {
     "data": {
      "text/plain": [
       "array([1100.])"
      ]
     },
     "execution_count": 6,
     "metadata": {},
     "output_type": "execute_result"
    }
   ],
   "source": [
    "np.percentile(lst_mark,[100])"
   ]
  },
  {
   "cell_type": "code",
   "execution_count": 7,
   "id": "237fb9f5-2ff1-46d4-b0e0-aecc3b1d2819",
   "metadata": {},
   "outputs": [
    {
     "data": {
      "text/plain": [
       "array([56.])"
      ]
     },
     "execution_count": 7,
     "metadata": {},
     "output_type": "execute_result"
    }
   ],
   "source": [
    "np.percentile(lst_mark,[50])"
   ]
  },
  {
   "cell_type": "code",
   "execution_count": 8,
   "id": "39ca750c-2f7d-414a-8a54-b228e7ebba54",
   "metadata": {},
   "outputs": [],
   "source": [
    "#lower fence and higher fence"
   ]
  },
  {
   "cell_type": "code",
   "execution_count": 10,
   "id": "f228481f-51a3-4711-b495-576ef346f230",
   "metadata": {},
   "outputs": [
    {
     "name": "stdout",
     "output_type": "stream",
     "text": [
      "[49.5]\n"
     ]
    }
   ],
   "source": [
    "q1= np.percentile(lst_mark,[25])\n",
    "print(q1)"
   ]
  },
  {
   "cell_type": "code",
   "execution_count": 11,
   "id": "a41444fa-8aeb-4a1c-b315-9f76d0d14356",
   "metadata": {},
   "outputs": [],
   "source": [
    "minimum,q1,q2,q3,maximum= np.quantile(lst_mark,[0,0.25,0.50,0.75,1.0])"
   ]
  },
  {
   "cell_type": "code",
   "execution_count": 12,
   "id": "5887fb5f-969b-4ffc-9683-2c92d916d1a6",
   "metadata": {},
   "outputs": [
    {
     "data": {
      "text/plain": [
       "(15.0, 49.5, 56.0, 79.5, 1100.0)"
      ]
     },
     "execution_count": 12,
     "metadata": {},
     "output_type": "execute_result"
    }
   ],
   "source": [
    "minimum,q1,q2,q3,maximum"
   ]
  },
  {
   "cell_type": "code",
   "execution_count": 13,
   "id": "dae164bb-de14-4f31-955d-dd612809e85a",
   "metadata": {},
   "outputs": [],
   "source": [
    "iqr = q3-q1"
   ]
  },
  {
   "cell_type": "code",
   "execution_count": 14,
   "id": "9cc5e040-ea9e-4ff5-b85b-b70b59affabc",
   "metadata": {},
   "outputs": [
    {
     "data": {
      "text/plain": [
       "30.0"
      ]
     },
     "execution_count": 14,
     "metadata": {},
     "output_type": "execute_result"
    }
   ],
   "source": [
    "iqr"
   ]
  },
  {
   "cell_type": "code",
   "execution_count": 17,
   "id": "bb920679-8aa4-402f-b3ab-761174f68d9d",
   "metadata": {},
   "outputs": [],
   "source": [
    "lower_fance = q1-1.5*(iqr)\n",
    "higher_fance = q3+1.5*(iqr)"
   ]
  },
  {
   "cell_type": "code",
   "execution_count": 18,
   "id": "d17b7a49-00da-4030-b0a5-d2de5cd0c9ed",
   "metadata": {},
   "outputs": [
    {
     "data": {
      "text/plain": [
       "(4.5, 124.5)"
      ]
     },
     "execution_count": 18,
     "metadata": {},
     "output_type": "execute_result"
    }
   ],
   "source": [
    "lower_fance,higher_fance"
   ]
  },
  {
   "cell_type": "code",
   "execution_count": 21,
   "id": "48ee4c02-ab23-44d6-8f67-a2dc22f6429b",
   "metadata": {},
   "outputs": [
    {
     "name": "stdout",
     "output_type": "stream",
     "text": [
      "this is not an outliers\n",
      "this is not an outliers\n",
      "this is not an outliers\n",
      "this is not an outliers\n",
      "this is not an outliers\n",
      "this is not an outliers\n",
      "this is not an outliers\n",
      "this is not an outliers\n",
      "this is not an outliers\n",
      "this is not an outliers\n",
      "this is not an outliers\n",
      "this is not an outliers\n",
      "this is not an outliers\n",
      "this is not an outliers\n",
      "this is not an outliers\n",
      "this is not an outliers\n",
      "this is not an outliers\n"
     ]
    }
   ],
   "source": [
    "outliers= []\n",
    "for i in lst_mark:\n",
    "    if i>=4.5 and i<=124.5:\n",
    "        print(\"this is not an outliers\")\n",
    "    else:\n",
    "        outliers.append(i)"
   ]
  },
  {
   "cell_type": "code",
   "execution_count": 22,
   "id": "6fd087e1-ab39-4e7d-8c03-89a3bd2dcb7d",
   "metadata": {},
   "outputs": [
    {
     "data": {
      "text/plain": [
       "[1000, 1100]"
      ]
     },
     "execution_count": 22,
     "metadata": {},
     "output_type": "execute_result"
    }
   ],
   "source": [
    "outliers"
   ]
  },
  {
   "cell_type": "code",
   "execution_count": 23,
   "id": "d3838776-934e-40a1-87ea-437d1bf32e21",
   "metadata": {},
   "outputs": [],
   "source": [
    "import seaborn as sns"
   ]
  },
  {
   "cell_type": "code",
   "execution_count": 24,
   "id": "412036e7-c471-480b-b483-ebd460ad4724",
   "metadata": {},
   "outputs": [
    {
     "data": {
      "text/plain": [
       "<AxesSubplot: >"
      ]
     },
     "execution_count": 24,
     "metadata": {},
     "output_type": "execute_result"
    },
    {
     "data": {
      "image/png": "[encoded data removed]",
      "text/plain": [
       "<Figure size 640x480 with 1 Axes>"
      ]
     },
     "metadata": {},
     "output_type": "display_data"
    }
   ],
   "source": [
    "sns.boxplot(lst_mark)"
   ]
  },
  {
   "cell_type": "code",
   "execution_count": 25,
   "id": "fb912b09-e0b7-4962-8f29-5d9c39afd286",
   "metadata": {},
   "outputs": [],
   "source": [
    "lst_mark = [45,32,56,75,89,54,56,21,84,65,15,65,23,56,54,84,65]"
   ]
  },
  {
   "cell_type": "code",
   "execution_count": 26,
   "id": "8fcaff1f-ecb4-4ce3-bcc5-e81f18386d1f",
   "metadata": {},
   "outputs": [
    {
     "data": {
      "text/plain": [
       "<AxesSubplot: >"
      ]
     },
     "execution_count": 26,
     "metadata": {},
     "output_type": "execute_result"
    },
    {
     "data": {
      "image/png": "[encoded data removed]",
      "text/plain": [
       "<Figure size 640x480 with 1 Axes>"
      ]
     },
     "metadata": {},
     "output_type": "display_data"
    }
   ],
   "source": [
    "sns.boxplot(lst_mark)"
   ]
  },
  {
   "cell_type": "code",
   "execution_count": null,
   "id": "dc932194-e3e5-46a7-9a50-6604db1f15bb",
   "metadata": {},
   "outputs": [],
   "source": []
  }
 ],
 "metadata": {
  "kernelspec": {
   "display_name": "Python 3 (ipykernel)",
   "language": "python",
   "name": "python3"
  },
  "language_info": {
   "codemirror_mode": {
    "name": "ipython",
    "version": 3
   },
   "file_extension": ".py",
   "mimetype": "text/x-python",
   "name": "python",
   "nbconvert_exporter": "python",
   "pygments_lexer": "ipython3",
   "version": "3.10.8"
  }
 },
 "nbformat": 4,
 "nbformat_minor": 5
}
