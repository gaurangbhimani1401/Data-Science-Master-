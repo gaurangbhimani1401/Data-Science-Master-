{
 "cells": [
  {
   "cell_type": "markdown",
   "id": "f26f418d-09ae-46b4-a4bb-62365d68035e",
   "metadata": {},
   "source": [
    "Chi Square Test with Python"
   ]
  },
  {
   "cell_type": "code",
   "execution_count": 1,
   "id": "a2523312-f6a1-4863-9097-5dac8f5edb87",
   "metadata": {},
   "outputs": [],
   "source": [
    "import scipy.stats as stat\n",
    "import numpy as np"
   ]
  },
  {
   "cell_type": "code",
   "execution_count": 2,
   "id": "40fd92fb-d964-4864-93fa-a1c610a73354",
   "metadata": {},
   "outputs": [],
   "source": [
    "expected_data = [5,7,3,2,6,8,9]"
   ]
  },
  {
   "cell_type": "code",
   "execution_count": 3,
   "id": "ca47d72e-034d-44be-b73f-6145247084e8",
   "metadata": {},
   "outputs": [],
   "source": [
    "observed_data = [8,5,2,6,8,5,6]"
   ]
  },
  {
   "cell_type": "code",
   "execution_count": 4,
   "id": "5448faa8-e05e-4d87-9eff-573c4a2da384",
   "metadata": {},
   "outputs": [
    {
     "data": {
      "text/plain": [
       "(40, 40)"
      ]
     },
     "execution_count": 4,
     "metadata": {},
     "output_type": "execute_result"
    }
   ],
   "source": [
    "sum(expected_data),sum(observed_data)"
   ]
  },
  {
   "cell_type": "code",
   "execution_count": 5,
   "id": "610f9db0-1b44-4fe5-8f57-0b3e53189b7b",
   "metadata": {},
   "outputs": [],
   "source": [
    "chi_squre,p_value = stat.chisquare(observed_data,expected_data)"
   ]
  },
  {
   "cell_type": "code",
   "execution_count": 6,
   "id": "520922cc-5eff-46da-a654-e1c83d8dff9d",
   "metadata": {},
   "outputs": [
    {
     "data": {
      "text/plain": [
       "(13.496428571428572, 0.035796080685283824)"
      ]
     },
     "execution_count": 6,
     "metadata": {},
     "output_type": "execute_result"
    }
   ],
   "source": [
    "chi_squre,p_value"
   ]
  },
  {
   "cell_type": "code",
   "execution_count": 9,
   "id": "1c776810-93a7-47f9-97ce-d13a6eeb0104",
   "metadata": {},
   "outputs": [
    {
     "name": "stdout",
     "output_type": "stream",
     "text": [
      "6\n"
     ]
    }
   ],
   "source": [
    "signifience_value = 0.05\n",
    "dof = len(expected_data)-1\n",
    "print(dof)\n",
    "critical_value = stat.chi2.ppf(1-signifience_value,dof)"
   ]
  },
  {
   "cell_type": "code",
   "execution_count": 10,
   "id": "8ba79f46-f560-44ee-8a20-71d471a9886d",
   "metadata": {},
   "outputs": [
    {
     "data": {
      "text/plain": [
       "12.591587243743977"
      ]
     },
     "execution_count": 10,
     "metadata": {},
     "output_type": "execute_result"
    }
   ],
   "source": [
    "critical_value"
   ]
  },
  {
   "cell_type": "code",
   "execution_count": 11,
   "id": "88ee9790-a0d5-4dfa-bc46-0d196afb1c3b",
   "metadata": {},
   "outputs": [
    {
     "name": "stdout",
     "output_type": "stream",
     "text": [
      "Reject the null hypothesis\n"
     ]
    }
   ],
   "source": [
    "if chi_squre > critical_value:\n",
    "    print(\"Reject the null hypothesis\")\n",
    "else:\n",
    "    print(\"Accept the null hypothesis\")"
   ]
  },
  {
   "cell_type": "code",
   "execution_count": null,
   "id": "609c7e69-1efd-44cb-999c-7f96a93b7ef0",
   "metadata": {},
   "outputs": [],
   "source": []
  }
 ],
 "metadata": {
  "kernelspec": {
   "display_name": "Python 3 (ipykernel)",
   "language": "python",
   "name": "python3"
  },
  "language_info": {
   "codemirror_mode": {
    "name": "ipython",
    "version": 3
   },
   "file_extension": ".py",
   "mimetype": "text/x-python",
   "name": "python",
   "nbconvert_exporter": "python",
   "pygments_lexer": "ipython3",
   "version": "3.10.8"
  }
 },
 "nbformat": 4,
 "nbformat_minor": 5
}
