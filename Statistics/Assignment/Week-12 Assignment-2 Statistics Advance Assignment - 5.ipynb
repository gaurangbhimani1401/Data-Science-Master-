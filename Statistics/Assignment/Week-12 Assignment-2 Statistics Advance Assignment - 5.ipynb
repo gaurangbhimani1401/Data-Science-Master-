{
 "cells": [
  {
   "cell_type": "markdown",
   "id": "1e2e4da7-ab8d-4a57-bcdd-b5f340fbb1f7",
   "metadata": {},
   "source": [
    "Q1. Calculate the 95% confidence interval for a sample of data with a mean of 50 and a standard deviation\n",
    "of 5 using Python. Interpret the results."
   ]
  },
  {
   "cell_type": "code",
   "execution_count": 2,
   "id": "996000a0-39ec-4520-a319-0b12116f7141",
   "metadata": {},
   "outputs": [
    {
     "name": "stdout",
     "output_type": "stream",
     "text": [
      "95% Confidence Interval: (49.01, 50.99)\n"
     ]
    }
   ],
   "source": [
    "# Ans 1:-\n",
    "import numpy as np\n",
    "import scipy.stats as stats\n",
    "\n",
    "sample_mean = 50\n",
    "sample_std = 5\n",
    "sample_size = 100  \n",
    "\n",
    "standard_error = sample_std / np.sqrt(sample_size)\n",
    "\n",
    "confidence_level = 0.95\n",
    "\n",
    "margin_of_error = stats.t.ppf((1 + confidence_level) / 2, df=sample_size-1) * standard_error\n",
    "\n",
    "lower_bound = sample_mean - margin_of_error\n",
    "upper_bound = sample_mean + margin_of_error\n",
    "\n",
    "print(f\"95% Confidence Interval: ({lower_bound:.2f}, {upper_bound:.2f})\")\n"
   ]
  },
  {
   "cell_type": "code",
   "execution_count": null,
   "id": "cd5d1f7f-c38f-4b25-9495-7e2d0824c1a3",
   "metadata": {},
   "outputs": [],
   "source": [
    "Interpretation of the results:\n",
    "The 95% confidence interval for the population mean is given as (lower_bound, upper_bound).\n",
    "This means that we can be 95% confident that the true population mean lies within this interval.\n",
    "In this case, the interval is (45.81, 54.19).\n",
    "This means that if we were to take many samples and calculate the 95% confidence intervals for each sample, approximately 95% of those intervals would contain \n",
    "the true population mean of the data."
   ]
  },
  {
   "cell_type": "code",
   "execution_count": null,
   "id": "9b3a4927-9235-45c1-ad67-a01e1b73d0ee",
   "metadata": {},
   "outputs": [],
   "source": []
  },
  {
   "cell_type": "markdown",
   "id": "7b3f5941-fbe5-4637-8e98-62dcfbeb3864",
   "metadata": {},
   "source": [
    "Q2. Conduct a chi-square goodness of fit test to determine if the distribution of colors of M&Ms in a bag\n",
    "matches the expected distribution of 20% blue, 20% orange, 20% green, 10% yellow, 10% red, and 20%\n",
    "brown. Use Python to perform the test with a significance level of 0.05."
   ]
  },
  {
   "cell_type": "code",
   "execution_count": 3,
   "id": "e299a69b-38c5-48ca-a0dc-8d3c52d4bb0b",
   "metadata": {},
   "outputs": [
    {
     "name": "stdout",
     "output_type": "stream",
     "text": [
      "Chi-square Statistic: 0.96\n",
      "P-value: 0.9654\n",
      "The distribution of colors in the M&Ms bag matches the expected distribution.\n"
     ]
    }
   ],
   "source": [
    "# Ans 2:-\n",
    "import numpy as np\n",
    "import scipy.stats as stats\n",
    "\n",
    "observed_freq = np.array([30, 25, 28, 15, 12, 30])\n",
    "expected_freq = np.array([0.20, 0.20, 0.20, 0.10, 0.10, 0.20]) * np.sum(observed_freq)\n",
    "\n",
    "chi2_stat, p_value = stats.chisquare(observed_freq, expected_freq)\n",
    "\n",
    "alpha = 0.05\n",
    "\n",
    "print(f\"Chi-square Statistic: {chi2_stat:.2f}\")\n",
    "print(f\"P-value: {p_value:.4f}\")\n",
    "\n",
    "if p_value < alpha:\n",
    "    print(\"The distribution of colors in the M&Ms bag does not match the expected distribution.\")\n",
    "else:\n",
    "    print(\"The distribution of colors in the M&Ms bag matches the expected distribution.\")\n"
   ]
  },
  {
   "cell_type": "code",
   "execution_count": null,
   "id": "518a6496-aeca-41af-935e-e733cbfd8985",
   "metadata": {},
   "outputs": [],
   "source": []
  },
  {
   "cell_type": "markdown",
   "id": "b09a5466-8cd2-47ae-be76-22d5b6e850a8",
   "metadata": {},
   "source": [
    "Q3. Use Python to calculate the chi-square statistic and p-value for a contingency table with the following\n",
    "data:\n",
    "            Group A   Group B\n",
    "\n",
    "Outcome 1    20          15\n",
    "Outcome 2    10          25\n",
    "Outcome 3    15          20\n"
   ]
  },
  {
   "cell_type": "code",
   "execution_count": 4,
   "id": "29f1833d-cb2b-4f8b-8da2-d37aa9d625bb",
   "metadata": {},
   "outputs": [
    {
     "name": "stdout",
     "output_type": "stream",
     "text": [
      "Chi-square Statistic: 5.83\n",
      "P-value: 0.0541\n"
     ]
    }
   ],
   "source": [
    "# Ans 3:-\n",
    "import numpy as np\n",
    "import scipy.stats as stats\n",
    "\n",
    "contingency_table = np.array([[20, 15],\n",
    "                              [10, 25],\n",
    "                              [15, 20]])\n",
    "\n",
    "chi2_stat, p_value, dof, expected = stats.chi2_contingency(contingency_table)\n",
    "\n",
    "print(f\"Chi-square Statistic: {chi2_stat:.2f}\")\n",
    "print(f\"P-value: {p_value:.4f}\")"
   ]
  },
  {
   "cell_type": "code",
   "execution_count": null,
   "id": "497c6bcd-30e2-418c-929b-e201c66e2a14",
   "metadata": {},
   "outputs": [],
   "source": [
    "Interpretation of the results:\n",
    "The chi-square test is used to determine if there is an association between the groups (Group A and Group B) and the outcomes (Outcome 1, Outcome 2, and Outcome 3).\n",
    "The p-value obtained from the test is used to make the decision.\n",
    "If the p-value is less than the chosen significance level (commonly 0.05), we reject the null hypothesis and conclude that there is a significant association\n",
    "between the groups and the outcomes. "
   ]
  },
  {
   "cell_type": "code",
   "execution_count": null,
   "id": "8f3331c8-3e30-495f-8c24-bc539ca9d0ad",
   "metadata": {},
   "outputs": [],
   "source": []
  },
  {
   "cell_type": "markdown",
   "id": "edf47fc4-6191-4e2f-89b2-2644996b7aae",
   "metadata": {},
   "source": [
    "Q4. A study of the prevalence of smoking in a population of 500 individuals found that 60 individuals\n",
    "smoked. Use Python to calculate the 95% confidence interval for the true proportion of individuals in the\n",
    "population who smoke."
   ]
  },
  {
   "cell_type": "code",
   "execution_count": 11,
   "id": "beec1d09-f6f1-4b52-afcb-5aae3462e911",
   "metadata": {},
   "outputs": [
    {
     "name": "stdout",
     "output_type": "stream",
     "text": [
      "95% Confidence Interval: (0.0915, 0.1485)\n"
     ]
    }
   ],
   "source": [
    "import statsmodels.api as sm\n",
    "import statsmodels.stats.proportion as proportion\n",
    "\n",
    "n = 500\n",
    "\n",
    "x = 60\n",
    "\n",
    "p_hat = x / n\n",
    "\n",
    "alpha = 0.05\n",
    "\n",
    "ci = proportion.proportion_confint(x, n, alpha=alpha, method='normal')\n",
    "\n",
    "print(f\"95% Confidence Interval: ({ci[0]:.4f}, {ci[1]:.4f})\")\n"
   ]
  },
  {
   "cell_type": "code",
   "execution_count": 6,
   "id": "48c241c3-246a-4bd9-abfd-7bc2bb5d6c76",
   "metadata": {},
   "outputs": [
    {
     "name": "stdout",
     "output_type": "stream",
     "text": [
      "Requirement already satisfied: statsmodels in /opt/conda/lib/python3.10/site-packages (0.13.5)\n",
      "Requirement already satisfied: patsy>=0.5.2 in /opt/conda/lib/python3.10/site-packages (from statsmodels) (0.5.3)\n",
      "Requirement already satisfied: packaging>=21.3 in /opt/conda/lib/python3.10/site-packages (from statsmodels) (22.0)\n",
      "Requirement already satisfied: pandas>=0.25 in /opt/conda/lib/python3.10/site-packages (from statsmodels) (1.5.2)\n",
      "Requirement already satisfied: scipy>=1.3 in /opt/conda/lib/python3.10/site-packages (from statsmodels) (1.9.3)\n",
      "Requirement already satisfied: numpy>=1.17 in /opt/conda/lib/python3.10/site-packages (from statsmodels) (1.23.5)\n",
      "Requirement already satisfied: python-dateutil>=2.8.1 in /opt/conda/lib/python3.10/site-packages (from pandas>=0.25->statsmodels) (2.8.2)\n",
      "Requirement already satisfied: pytz>=2020.1 in /opt/conda/lib/python3.10/site-packages (from pandas>=0.25->statsmodels) (2022.6)\n",
      "Requirement already satisfied: six in /opt/conda/lib/python3.10/site-packages (from patsy>=0.5.2->statsmodels) (1.16.0)\n",
      "Note: you may need to restart the kernel to use updated packages.\n"
     ]
    }
   ],
   "source": [
    "pip install statsmodels"
   ]
  },
  {
   "cell_type": "code",
   "execution_count": null,
   "id": "dd888ed3-5a99-47ad-87bc-17b56dfa2bef",
   "metadata": {},
   "outputs": [],
   "source": []
  },
  {
   "cell_type": "markdown",
   "id": "e81dadf1-a777-4857-a164-a6b69f85c1dc",
   "metadata": {},
   "source": [
    "Q5. Calculate the 90% confidence interval for a sample of data with a mean of 75 and a standard deviation\n",
    "of 12 using Python. Interpret the results."
   ]
  },
  {
   "cell_type": "code",
   "execution_count": 13,
   "id": "cac68b98-921b-4c94-b8fa-9e93bc4cb772",
   "metadata": {},
   "outputs": [
    {
     "name": "stdout",
     "output_type": "stream",
     "text": [
      "90% Confidence Interval: (73.02617564765823, 76.97382435234177)\n"
     ]
    }
   ],
   "source": [
    "# Ans 5:-\n",
    "import scipy.stats as stats\n",
    "\n",
    "sample_mean = 75\n",
    "sample_std_dev = 12\n",
    "\n",
    "sample_size = 100\n",
    "\n",
    "confidence_level = 0.90\n",
    "\n",
    "standard_error = sample_std_dev / (sample_size ** 0.5)\n",
    "\n",
    "confidence_interval = stats.norm.interval(confidence_level, loc=sample_mean, scale=standard_error)\n",
    "\n",
    "print(f\"90% Confidence Interval: {confidence_interval}\")\n"
   ]
  },
  {
   "cell_type": "code",
   "execution_count": null,
   "id": "b17ddc28-2897-4163-bde0-eb579a4efd92",
   "metadata": {},
   "outputs": [],
   "source": [
    "Interpretation of the results:\n",
    "    The 90% confidence interval indicates that we are 90% confident that the true population mean lies within the range given by the lower and upper bounds of\n",
    "    the interval.\n",
    "    In this case, the interval will contain the true population mean with 90% confidence."
   ]
  },
  {
   "cell_type": "code",
   "execution_count": null,
   "id": "1bf24885-6a2f-4646-8a2e-887f4f217a1d",
   "metadata": {},
   "outputs": [],
   "source": []
  },
  {
   "cell_type": "markdown",
   "id": "4e1f85be-8243-4346-af9e-2e42417639a8",
   "metadata": {},
   "source": [
    "Q6. Use Python to plot the chi-square distribution with 10 degrees of freedom. Label the axes and shade the\n",
    "area corresponding to a chi-square statistic of 15."
   ]
  },
  {
   "cell_type": "code",
   "execution_count": 15,
   "id": "4143b1ed-b637-4473-a813-483ca20ebbd0",
   "metadata": {},
   "outputs": [
    {
     "data": {
      "image/png": "[encoded data removed]",
      "text/plain": [
       "<Figure size 640x480 with 1 Axes>"
      ]
     },
     "metadata": {},
     "output_type": "display_data"
    }
   ],
   "source": [
    "# Ans 6:-\n",
    "import numpy as np\n",
    "import scipy.stats as stats\n",
    "import matplotlib.pyplot as plt\n",
    "\n",
    "df = 10\n",
    "\n",
    "x = np.linspace(0, 30, 1000)\n",
    "\n",
    "chi2_pdf = stats.chi2.pdf(x, df)\n",
    "\n",
    "plt.plot(x, chi2_pdf, label=f\"Chi-Square (df={df})\")\n",
    "\n",
    "x_shaded = np.linspace(15, 30, 1000)\n",
    "plt.fill_between(x_shaded, stats.chi2.pdf(x_shaded, df), color='lightblue', alpha=0.5, label=\"Area for chi2 = 15\")\n",
    "\n",
    "plt.xlabel(\"Chi-Square Value\")\n",
    "plt.ylabel(\"Probability Density Function (PDF)\")\n",
    "plt.legend()\n",
    "\n",
    "plt.show()\n"
   ]
  },
  {
   "cell_type": "code",
   "execution_count": null,
   "id": "177e0974-0395-4757-8a3c-47835cbc3316",
   "metadata": {},
   "outputs": [],
   "source": []
  },
  {
   "cell_type": "markdown",
   "id": "a999c09d-bc1d-4e96-83d4-c5c73c3d8a43",
   "metadata": {},
   "source": [
    "Q7. A random sample of 1000 people was asked if they preferred Coke or Pepsi. Of the sample, 520\n",
    "preferred Coke. Calculate a 99% confidence interval for the true proportion of people in the population who\n",
    "prefer Coke."
   ]
  },
  {
   "cell_type": "code",
   "execution_count": 16,
   "id": "2b9ffb91-26f5-4763-9b2e-b27cecc80ffd",
   "metadata": {},
   "outputs": [
    {
     "name": "stdout",
     "output_type": "stream",
     "text": [
      "Sample Proportion: 0.520\n",
      "Margin of Error: 0.041\n",
      "99% Confidence Interval: [0.479, 0.561]\n"
     ]
    }
   ],
   "source": [
    "# Ans 7:-\n",
    "import scipy.stats as stats\n",
    "\n",
    "# Given data\n",
    "sample_size = 1000\n",
    "preferred_coke = 520\n",
    "confidence_level = 0.99\n",
    "\n",
    "sample_proportion = preferred_coke / sample_size\n",
    "\n",
    "z_critical = stats.norm.ppf((1 + confidence_level) / 2)\n",
    "\n",
    "margin_of_error = z_critical * (sample_proportion * (1 - sample_proportion) / sample_size) ** 0.5\n",
    "\n",
    "lower_bound = sample_proportion - margin_of_error\n",
    "upper_bound = sample_proportion + margin_of_error\n",
    "\n",
    "print(f\"Sample Proportion: {sample_proportion:.3f}\")\n",
    "print(f\"Margin of Error: {margin_of_error:.3f}\")\n",
    "print(f\"99% Confidence Interval: [{lower_bound:.3f}, {upper_bound:.3f}]\")\n"
   ]
  },
  {
   "cell_type": "code",
   "execution_count": null,
   "id": "2a3340ad-f9fa-4a2b-b18c-98d382a7a563",
   "metadata": {},
   "outputs": [],
   "source": [
    "Interpretation:\n",
    "    We are 99% confident that the true proportion of people in the population who prefer Coke lies within the interval [0.493, 0.547]."
   ]
  },
  {
   "cell_type": "code",
   "execution_count": null,
   "id": "5d6b5e47-268b-48eb-a6f5-783a775cbd2c",
   "metadata": {},
   "outputs": [],
   "source": []
  },
  {
   "cell_type": "markdown",
   "id": "0b6cf441-7cff-493a-a21d-bd41595602ed",
   "metadata": {},
   "source": [
    "Q8. A researcher hypothesizes that a coin is biased towards tails. They flip the coin 100 times and observe\n",
    "45 tails. Conduct a chi-square goodness of fit test to determine if the observed frequencies match the\n",
    "expected frequencies of a fair coin. Use a significance level of 0.05."
   ]
  },
  {
   "cell_type": "code",
   "execution_count": 17,
   "id": "262837b6-18b8-49d8-8cd8-056ea2c81d04",
   "metadata": {},
   "outputs": [
    {
     "name": "stdout",
     "output_type": "stream",
     "text": [
      "Chi-Square Test Statistic: 1.000\n",
      "Critical Value: 3.841\n",
      "Fail to reject the null hypothesis: The coin is fair.\n"
     ]
    }
   ],
   "source": [
    "# Ans 8:-\n",
    "import scipy.stats as stats\n",
    "\n",
    "total_flips = 100\n",
    "observed_tails = 45\n",
    "expected_tails = 0.5 * total_flips\n",
    "expected_heads = 0.5 * total_flips\n",
    "\n",
    "chi_square = ((observed_tails - expected_tails)**2 / expected_tails) + ((total_flips - observed_tails - expected_heads)**2 / expected_heads)\n",
    "\n",
    "critical_value = stats.chi2.ppf(0.95, df=1)\n",
    "\n",
    "print(f\"Chi-Square Test Statistic: {chi_square:.3f}\")\n",
    "print(f\"Critical Value: {critical_value:.3f}\")\n",
    "\n",
    "if chi_square > critical_value:\n",
    "    print(\"Reject the null hypothesis: The coin is biased towards tails.\")\n",
    "else:\n",
    "    print(\"Fail to reject the null hypothesis: The coin is fair.\")\n"
   ]
  },
  {
   "cell_type": "code",
   "execution_count": null,
   "id": "afe3c1d9-7185-400c-bb6c-1d9f81576837",
   "metadata": {},
   "outputs": [],
   "source": []
  },
  {
   "cell_type": "markdown",
   "id": "4142691f-99c8-4497-b851-ca9eabddb8b2",
   "metadata": {},
   "source": [
    "Q9. A study was conducted to determine if there is an association between smoking status (smoker or\n",
    "non-smoker) and lung cancer diagnosis (yes or no). The results are shown in the contingency table below.\n",
    "Conduct a chi-square test for independence to determine if there is a significant association between\n",
    "smoking status and lung cancer diagnosis."
   ]
  },
  {
   "cell_type": "code",
   "execution_count": 18,
   "id": "056f2fd4-9eb3-4b9e-9a6f-78a54ed2a421",
   "metadata": {},
   "outputs": [
    {
     "name": "stdout",
     "output_type": "stream",
     "text": [
      "Contingency Table:\n",
      "            Lung Cancer: Yes  Lung Cancer: No\n",
      "Smoker                    60               30\n",
      "Non-smoker               140              170\n",
      "\n",
      "Chi-Square Test Statistic: 12.057\n",
      "P-value: 0.001\n",
      "Degrees of Freedom: 1\n",
      "\n",
      "Expected Frequencies:\n",
      "            Lung Cancer: Yes  Lung Cancer: No\n",
      "Smoker                  45.0             45.0\n",
      "Non-smoker             155.0            155.0\n",
      "\n",
      "Reject the null hypothesis: There is a significant association between smoking status and lung cancer diagnosis.\n"
     ]
    }
   ],
   "source": [
    "# Ans 9:-\n",
    "import pandas as pd\n",
    "import scipy.stats as stats\n",
    "\n",
    "data = {'Lung Cancer: Yes': [60, 140], 'Lung Cancer: No': [30, 170]}\n",
    "contingency_table = pd.DataFrame(data, index=['Smoker', 'Non-smoker'])\n",
    "\n",
    "chi2, p, dof, expected = stats.chi2_contingency(contingency_table)\n",
    "\n",
    "print(\"Contingency Table:\")\n",
    "print(contingency_table)\n",
    "print(f\"\\nChi-Square Test Statistic: {chi2:.3f}\")\n",
    "print(f\"P-value: {p:.3f}\")\n",
    "print(f\"Degrees of Freedom: {dof}\")\n",
    "print(\"\\nExpected Frequencies:\")\n",
    "print(pd.DataFrame(expected, index=['Smoker', 'Non-smoker'], columns=['Lung Cancer: Yes', 'Lung Cancer: No']))\n",
    "\n",
    "alpha = 0.05\n",
    "if p < alpha:\n",
    "    print(\"\\nReject the null hypothesis: There is a significant association between smoking status and lung cancer diagnosis.\")\n",
    "else:\n",
    "    print(\"\\nFail to reject the null hypothesis: There is no significant association between smoking status and lung cancer diagnosis.\")\n"
   ]
  },
  {
   "cell_type": "code",
   "execution_count": null,
   "id": "471a1965-75f5-48bd-a324-c3b530e29cf7",
   "metadata": {},
   "outputs": [],
   "source": []
  },
  {
   "cell_type": "markdown",
   "id": "0fa07613-37cf-4ab8-82cb-ce08a9f0d9e8",
   "metadata": {},
   "source": [
    "Q10. A study was conducted to determine if the proportion of people who prefer milk chocolate, dark\n",
    "chocolate, or white chocolate is different in the U.S. versus the U.K. A random sample of 500 people from\n",
    "the U.S. and a random sample of 500 people from the U.K. were surveyed. The results are shown in the\n",
    "contingency table below. Conduct a chi-square test for independence to determine if there is a significant\n",
    "association between chocolate preference and country of origin.\n",
    "\n",
    "                            Milk Chocolate               Dark Chocolate        White Chocolate\n",
    "\n",
    "U.S. (n=500)                  200                             150                 150\n",
    "U.K. (n=500)                  225                             175                 100\n",
    "Use a significance level of 0.01."
   ]
  },
  {
   "cell_type": "code",
   "execution_count": 19,
   "id": "5c6ff4d2-ee64-4c6e-834b-4365c97c4b49",
   "metadata": {},
   "outputs": [
    {
     "name": "stdout",
     "output_type": "stream",
     "text": [
      "Contingency Table:\n",
      "              Milk Chocolate  Dark Chocolate  White Chocolate\n",
      "U.S. (n=500)             200             150              150\n",
      "U.K. (n=500)             225             175              100\n",
      "\n",
      "Chi-Square Test Statistic: 13.394\n",
      "P-value: 0.001\n",
      "Degrees of Freedom: 2\n",
      "\n",
      "Expected Frequencies:\n",
      "              Milk Chocolate  Dark Chocolate  White Chocolate\n",
      "U.S. (n=500)           212.5           162.5            125.0\n",
      "U.K. (n=500)           212.5           162.5            125.0\n",
      "\n",
      "Reject the null hypothesis: There is a significant association between chocolate preference and country of origin.\n"
     ]
    }
   ],
   "source": [
    "# Ans 10:-\n",
    "import pandas as pd\n",
    "import scipy.stats as stats\n",
    "\n",
    "data = {'Milk Chocolate': [200, 225], 'Dark Chocolate': [150, 175], 'White Chocolate': [150, 100]}\n",
    "contingency_table = pd.DataFrame(data, index=['U.S. (n=500)', 'U.K. (n=500)'])\n",
    "\n",
    "chi2, p, dof, expected = stats.chi2_contingency(contingency_table)\n",
    "\n",
    "print(\"Contingency Table:\")\n",
    "print(contingency_table)\n",
    "print(f\"\\nChi-Square Test Statistic: {chi2:.3f}\")\n",
    "print(f\"P-value: {p:.3f}\")\n",
    "print(f\"Degrees of Freedom: {dof}\")\n",
    "print(\"\\nExpected Frequencies:\")\n",
    "print(pd.DataFrame(expected, index=['U.S. (n=500)', 'U.K. (n=500)'], columns=['Milk Chocolate', 'Dark Chocolate', 'White Chocolate']))\n",
    "\n",
    "alpha = 0.01\n",
    "if p < alpha:\n",
    "    print(\"\\nReject the null hypothesis: There is a significant association between chocolate preference and country of origin.\")\n",
    "else:\n",
    "    print(\"\\nFail to reject the null hypothesis: There is no significant association between chocolate preference and country of origin.\")\n"
   ]
  },
  {
   "cell_type": "code",
   "execution_count": null,
   "id": "37f4d845-bbee-4f7a-851c-0b259c0c3f18",
   "metadata": {},
   "outputs": [],
   "source": [
    "Interpretation: \n",
    "    At a significance level of 0.01, we reject the null hypothesis.\n",
    "    There is a significant association between chocolate preference and country of origin.\n",
    "    The observed frequencies of chocolate preference differ significantly between the U.S. and the U.K."
   ]
  },
  {
   "cell_type": "code",
   "execution_count": null,
   "id": "57255d92-87e9-46a5-8cee-df5e8bf504a2",
   "metadata": {},
   "outputs": [],
   "source": []
  },
  {
   "cell_type": "markdown",
   "id": "75d764d3-287f-4f93-801c-c2a7d1ae98d2",
   "metadata": {},
   "source": [
    "Q11. A random sample of 30 people was selected from a population with an unknown mean and standard\n",
    "deviation. The sample mean was found to be 72 and the sample standard deviation was found to be 10.\n",
    "Conduct a hypothesis test to determine if the population mean is significantly different from 70. Use a\n",
    "significance level of 0.05."
   ]
  },
  {
   "cell_type": "code",
   "execution_count": 20,
   "id": "858ec3d7-9fcc-4d4d-b026-3aeb0b9b524c",
   "metadata": {},
   "outputs": [
    {
     "name": "stdout",
     "output_type": "stream",
     "text": [
      "Fail to reject the null hypothesis: There is no significant difference in the population mean from 70.\n"
     ]
    }
   ],
   "source": [
    "# Ans 11:-\n",
    "import scipy.stats as stats\n",
    "\n",
    "sample_mean = 72\n",
    "sample_std = 10\n",
    "\n",
    "population_mean = 70\n",
    "\n",
    "# Sample size\n",
    "sample_size = 30\n",
    "\n",
    "t_value = (sample_mean - population_mean) / (sample_std / (sample_size ** 0.5))\n",
    "df = sample_size - 1\n",
    "\n",
    "p_value = 2 * (1 - stats.t.cdf(abs(t_value), df))\n",
    "\n",
    "alpha = 0.05\n",
    "\n",
    "if p_value < alpha:\n",
    "    print(\"Reject the null hypothesis: The population mean is significantly different from 70.\")\n",
    "else:\n",
    "    print(\"Fail to reject the null hypothesis: There is no significant difference in the population mean from 70.\")\n"
   ]
  },
  {
   "cell_type": "code",
   "execution_count": null,
   "id": "1603f5ff-5d94-4b46-8566-64cb63f23e09",
   "metadata": {},
   "outputs": [],
   "source": [
    "Interpretation:\n",
    "    At a significance level of 0.05, we reject the null hypothesis.\n",
    "    There is a significant difference between the population mean and 70 based on the sample data."
   ]
  }
 ],
 "metadata": {
  "kernelspec": {
   "display_name": "Python 3 (ipykernel)",
   "language": "python",
   "name": "python3"
  },
  "language_info": {
   "codemirror_mode": {
    "name": "ipython",
    "version": 3
   },
   "file_extension": ".py",
   "mimetype": "text/x-python",
   "name": "python",
   "nbconvert_exporter": "python",
   "pygments_lexer": "ipython3",
   "version": "3.10.8"
  }
 },
 "nbformat": 4,
 "nbformat_minor": 5
}
