{
 "cells": [
  {
   "cell_type": "markdown",
   "id": "80fe7427-e08d-4cdc-ab2d-32a69e072fbd",
   "metadata": {},
   "source": [
    "Q1. Pearson correlation coefficient is a measure of the linear relationship between two variables. Suppose\n",
    "you have collected data on the amount of time students spend studying for an exam and their final exam\n",
    "scores. Calculate the Pearson correlation coefficient between these two variables and interpret the result."
   ]
  },
  {
   "cell_type": "code",
   "execution_count": 2,
   "id": "f78f2ca2-571c-41d4-b607-688641f0e284",
   "metadata": {},
   "outputs": [
    {
     "name": "stdout",
     "output_type": "stream",
     "text": [
      "Pearson Correlation Coefficient: 0.9933992677987826\n",
      "p-value: 0.0006431193269336988\n"
     ]
    }
   ],
   "source": [
    "# Ans 1:-\n",
    "time_spent_studying = [5, 10, 15, 20, 25] \n",
    "final_exam_scores = [60, 70, 75, 85, 90]\n",
    "from scipy.stats import pearsonr\n",
    "\n",
    "correlation_coefficient, p_value = pearsonr(time_spent_studying, final_exam_scores)\n",
    "\n",
    "print(\"Pearson Correlation Coefficient:\", correlation_coefficient)\n",
    "print(\"p-value:\", p_value)\n"
   ]
  },
  {
   "cell_type": "code",
   "execution_count": null,
   "id": "37b7cbb6-9f72-41c4-a819-b7f625e481cc",
   "metadata": {},
   "outputs": [],
   "source": [
    "Interpretation:\n",
    "    The Pearson correlation coefficient (r) ranges between -1 and 1. The sign of the coefficient indicates the direction of the relationship, while the magnitude\n",
    "    indicates the strength of the relationship"
   ]
  },
  {
   "cell_type": "code",
   "execution_count": null,
   "id": "40c6752a-ad3d-46a4-bbc7-4bc335f271f0",
   "metadata": {},
   "outputs": [],
   "source": []
  },
  {
   "cell_type": "markdown",
   "id": "7a7d7381-a248-4e7f-88da-6ec39f921a9a",
   "metadata": {},
   "source": [
    "Q2. Spearman's rank correlation is a measure of the monotonic relationship between two variables.\n",
    "Suppose you have collected data on the amount of sleep individuals get each night and their overall job\n",
    "satisfaction level on a scale of 1 to 10. Calculate the Spearman's rank correlation between these two\n",
    "variables and interpret the result."
   ]
  },
  {
   "cell_type": "code",
   "execution_count": 3,
   "id": "b9bedfea-7ad2-453e-8cdf-5f2e791617a1",
   "metadata": {},
   "outputs": [
    {
     "name": "stdout",
     "output_type": "stream",
     "text": [
      "Spearman's Rank Correlation Coefficient: 0.9746794344808963\n",
      "p-value: 0.004818230468198566\n"
     ]
    }
   ],
   "source": [
    "# Ans 2:-\n",
    "amount_of_sleep = [7, 6, 8, 5, 6] \n",
    "job_satisfaction = [8, 7, 9, 5, 6]\n",
    "from scipy.stats import spearmanr\n",
    "\n",
    "correlation_coefficient, p_value = spearmanr(amount_of_sleep, job_satisfaction)\n",
    "\n",
    "print(\"Spearman's Rank Correlation Coefficient:\", correlation_coefficient)\n",
    "print(\"p-value:\", p_value)\n"
   ]
  },
  {
   "cell_type": "code",
   "execution_count": null,
   "id": "25a81dff-74ad-4568-9c7e-8f405ebdc06c",
   "metadata": {},
   "outputs": [],
   "source": [
    "Interpretation:\n",
    "Spearmans rank correlation coefficient (rho) ranges between -1 and 1, just like Pearson correlation.\n",
    "However, Spearmans correlation measures the strength and direction of a monotonic relationship, which is any relationship that consistently increases or\n",
    "decreases without necessarily being linear."
   ]
  },
  {
   "cell_type": "code",
   "execution_count": null,
   "id": "c291b0da-0876-42b0-8e24-dc0199bd2f73",
   "metadata": {},
   "outputs": [],
   "source": []
  },
  {
   "cell_type": "markdown",
   "id": "065080e9-9933-4ba5-b8ae-2ebdf8afb13d",
   "metadata": {},
   "source": [
    "Q3. Suppose you are conducting a study to examine the relationship between the number of hours of\n",
    "exercise per week and body mass index (BMI) in a sample of adults. You collected data on both variables\n",
    "for 50 participants. Calculate the Pearson correlation coefficient and the Spearman's rank correlation\n",
    "between these two variables and compare the results."
   ]
  },
  {
   "cell_type": "code",
   "execution_count": 5,
   "id": "882a46cd-088a-4f98-b482-74232ff51447",
   "metadata": {},
   "outputs": [
    {
     "name": "stdout",
     "output_type": "stream",
     "text": [
      "Error: Both lists must have the same length.\n"
     ]
    }
   ],
   "source": [
    "import numpy as np\n",
    "from scipy.stats import pearsonr, spearmanr\n",
    "\n",
    "hours_of_exercise = [3, 5, 4, 2, 6, 1, 3, 2, 5, 4, 2, 3, 1, 6, 4, 5, 3, 2, 4, 1, 3, 6, 5, 2, 4, 3, 5, 1, 2, 6, 4, 3, 5, 1, 2, 4, 3, 6, 5, 2, 4, 3, 1, 5, 6, 2, 4, 3, 1, 5]\n",
    "bmi = [25.5, 28.2, 24.9, 26.8, 30.1, 27.5, 29.3, 25.8, 31.2, 28.9, 26.7, 30.5, 28.2, 32.1, 27.8, 29.9, 26.4, 28.5, 29.7, 25.9, 30.8, 27.3, 29.6, 25.1, 28.9, 26.2, 30.3, 27.4, 29.8, 26.5, 31.0, 28.1, 30.2, 27.9, 29.4, 26.3, 30.6, 28.8, 31.1, 27.2, 30.0, 28.3, 31.3, 27.6, 30.4, 28.7, 31.4, 27.0, 30.7]\n",
    "\n",
    "if len(hours_of_exercise) == len(bmi):\n",
    "    pearson_corr_coefficient, pearson_p_value = pearsonr(hours_of_exercise, bmi)\n",
    "\n",
    "    spearman_corr_coefficient, spearman_p_value = spearmanr(hours_of_exercise, bmi)\n",
    "\n",
    "    print(\"Pearson Correlation Coefficient:\", pearson_corr_coefficient)\n",
    "    print(\"Pearson p-value:\", pearson_p_value)\n",
    "\n",
    "    print(\"Spearman's Rank Correlation Coefficient:\", spearman_corr_coefficient)\n",
    "    print(\"Spearman p-value:\", spearman_p_value)\n",
    "else:\n",
    "    print(\"Error: Both lists must have the same length.\")\n"
   ]
  },
  {
   "cell_type": "code",
   "execution_count": null,
   "id": "58ea95f1-d25b-49df-80fc-ec8e0ecf1308",
   "metadata": {},
   "outputs": [],
   "source": []
  },
  {
   "cell_type": "markdown",
   "id": "65b79551-5b4b-420d-ac32-ca8d27384f80",
   "metadata": {},
   "source": [
    "Q4. A researcher is interested in examining the relationship between the number of hours individuals\n",
    "spend watching television per day and their level of physical activity. The researcher collected data on\n",
    "both variables from a sample of 50 participants. Calculate the Pearson correlation coefficient between\n",
    "these two variables."
   ]
  },
  {
   "cell_type": "code",
   "execution_count": 6,
   "id": "92bcaf64-3666-4763-95c8-25c64bbfaf84",
   "metadata": {},
   "outputs": [
    {
     "name": "stdout",
     "output_type": "stream",
     "text": [
      "Pearson Correlation Coefficient: 1.0\n",
      "Pearson p-value: 0.0\n"
     ]
    }
   ],
   "source": [
    "# Ans 4:-\n",
    "import numpy as np\n",
    "from scipy.stats import pearsonr\n",
    "\n",
    "hours_watching_tv = [2, 1, 3, 4, 2, 3, 1, 2, 3, 4, 2, 3, 1, 2, 3, 4, 2, 3, 1, 2, 3, 4, 2, 3, 1, 2, 3, 4, 2, 3, 1, 2, 3, 4, 2, 3, 1, 2, 3, 4, 2, 3, 1, 2, 3, 4, 2, 3]\n",
    "physical_activity = [5, 4, 6, 7, 5, 6, 4, 5, 6, 7, 5, 6, 4, 5, 6, 7, 5, 6, 4, 5, 6, 7, 5, 6, 4, 5, 6, 7, 5, 6, 4, 5, 6, 7, 5, 6, 4, 5, 6, 7, 5, 6, 4, 5, 6, 7, 5, 6]\n",
    "\n",
    "pearson_corr_coefficient, pearson_p_value = pearsonr(hours_watching_tv, physical_activity)\n",
    "\n",
    "print(\"Pearson Correlation Coefficient:\", pearson_corr_coefficient)\n",
    "print(\"Pearson p-value:\", pearson_p_value)\n"
   ]
  },
  {
   "cell_type": "code",
   "execution_count": null,
   "id": "0a491226-9b5e-4631-9003-b715981d6b98",
   "metadata": {},
   "outputs": [],
   "source": []
  },
  {
   "cell_type": "markdown",
   "id": "54145619-b30f-4cb8-88e9-8ea106922330",
   "metadata": {},
   "source": [
    "Q5. A survey was conducted to examine the relationship between age and preference for a particular\n",
    "brand of soft drink. The survey results are shown below:\n",
    "\n",
    "Age(Years)\n",
    "25            Coke\n",
    "42            Pepsi\n",
    "37            Mountain dew\n",
    "19            Coke\n",
    "31            Pepsi\n",
    "28            Coke"
   ]
  },
  {
   "cell_type": "code",
   "execution_count": 8,
   "id": "e91a6755-9200-48dc-83a2-be5b5e752973",
   "metadata": {},
   "outputs": [
    {
     "name": "stdout",
     "output_type": "stream",
     "text": [
      "   Age Soft Drink Preference\n",
      "0   25                  Coke\n",
      "1   42                 Pepsi\n",
      "2   37          Mountain Dew\n",
      "3   19                  Coke\n",
      "4   31                 Pepsi\n",
      "5   28                  Coke\n"
     ]
    }
   ],
   "source": [
    "# Ans 5:-\n",
    "import pandas as pd\n",
    "\n",
    "age = [25, 42, 37, 19, 31, 28]\n",
    "soft_drink = ['Coke', 'Pepsi', 'Mountain Dew', 'Coke', 'Pepsi', 'Coke']\n",
    "\n",
    "data = pd.DataFrame({'Age': age, 'Soft Drink Preference': soft_drink})\n",
    "\n",
    "print(data)\n"
   ]
  },
  {
   "cell_type": "code",
   "execution_count": 9,
   "id": "a4553886-aa38-4f4e-a2ae-80fd317fbde8",
   "metadata": {},
   "outputs": [
    {
     "name": "stdout",
     "output_type": "stream",
     "text": [
      "Soft Drink Preference  Coke  Mountain Dew  Pepsi\n",
      "Age Group                                       \n",
      "<20                       1             0      0\n",
      "20-30                     2             0      0\n",
      "30-40                     0             1      1\n",
      "40+                       0             0      1\n"
     ]
    }
   ],
   "source": [
    "data['Age Group'] = pd.cut(data['Age'], bins=[0, 20, 30, 40, 100], labels=['<20', '20-30', '30-40', '40+'])\n",
    "\n",
    "cross_tab = pd.crosstab(data['Age Group'], data['Soft Drink Preference'])\n",
    "\n",
    "print(cross_tab)\n"
   ]
  },
  {
   "cell_type": "code",
   "execution_count": null,
   "id": "486ab84b-601b-456d-ae1f-5ab759364348",
   "metadata": {},
   "outputs": [],
   "source": []
  },
  {
   "cell_type": "markdown",
   "id": "ad841783-3fe5-4317-9693-c774483e23b8",
   "metadata": {},
   "source": [
    "Q6. A company is interested in examining the relationship between the number of sales calls made per day\n",
    "and the number of sales made per week. The company collected data on both variables from a sample of\n",
    "30 sales representatives. Calculate the Pearson correlation coefficient between these two variables."
   ]
  },
  {
   "cell_type": "code",
   "execution_count": 11,
   "id": "4edb6292-2556-4628-9230-c5e9ac55f292",
   "metadata": {},
   "outputs": [
    {
     "name": "stdout",
     "output_type": "stream",
     "text": [
      "Pearson correlation coefficient: 1.0\n",
      "P-value: 0.0\n"
     ]
    }
   ],
   "source": [
    "# Ans 6:-\n",
    "import numpy as np\n",
    "from scipy.stats import pearsonr\n",
    "\n",
    "sales_calls_per_day = [25, 30, 20, 15, 28, 32, 24, 18, 26, 29, 31, 23, 19, 27, 22, 17, 21, 33, 16, 20, 29, 28, 26, 30, 27, 24, 22, 25, 20, 19]\n",
    "sales_per_week = [75, 90, 60, 45, 84, 96, 72, 54, 78, 87, 93, 69, 57, 81, 66, 51, 63, 99, 48, 60, 87, 84, 78, 90, 81, 72, 66, 75, 60, 57]\n",
    "\n",
    "corr_coefficient, p_value = pearsonr(sales_calls_per_day, sales_per_week)\n",
    "\n",
    "print(\"Pearson correlation coefficient:\", corr_coefficient)\n",
    "print(\"P-value:\", p_value)\n"
   ]
  },
  {
   "cell_type": "code",
   "execution_count": null,
   "id": "a4f65be6-e414-42a8-9ee5-8fd41c1d987e",
   "metadata": {},
   "outputs": [],
   "source": []
  }
 ],
 "metadata": {
  "kernelspec": {
   "display_name": "Python 3 (ipykernel)",
   "language": "python",
   "name": "python3"
  },
  "language_info": {
   "codemirror_mode": {
    "name": "ipython",
    "version": 3
   },
   "file_extension": ".py",
   "mimetype": "text/x-python",
   "name": "python",
   "nbconvert_exporter": "python",
   "pygments_lexer": "ipython3",
   "version": "3.10.8"
  }
 },
 "nbformat": 4,
 "nbformat_minor": 5
}
