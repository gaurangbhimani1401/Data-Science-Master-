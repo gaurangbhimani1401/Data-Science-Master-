{
 "cells": [
  {
   "cell_type": "markdown",
   "id": "c873201b-a7ba-4eca-a830-3421e0ac5ffe",
   "metadata": {},
   "source": [
    "Q1. Write a Python function that takes in two arrays of data and calculates the F-value for a variance ratio\n",
    "test. The function should return the F-value and the corresponding p-value for the test."
   ]
  },
  {
   "cell_type": "code",
   "execution_count": 1,
   "id": "e8b70694-96d2-4a80-b913-64f553fea531",
   "metadata": {},
   "outputs": [
    {
     "name": "stdout",
     "output_type": "stream",
     "text": [
      "F-value: 2.1538461538461537\n",
      "p-value: 0.18039544877850128\n"
     ]
    }
   ],
   "source": [
    "# Ans 1:-\n",
    "import numpy as np\n",
    "from scipy.stats import f_oneway\n",
    "\n",
    "def variance_ratio_test(data1, data2):\n",
    "    \n",
    "    data1 = np.array(data1)\n",
    "    data2 = np.array(data2)\n",
    "\n",
    "    F, p = f_oneway(data1, data2)\n",
    "\n",
    "    return F, p\n",
    "\n",
    "data1 = [3, 4, 6, 8, 10]\n",
    "data2 = [5, 7, 9, 11, 13]\n",
    "F_value, p_value = variance_ratio_test(data1, data2)\n",
    "print(\"F-value:\", F_value)\n",
    "print(\"p-value:\", p_value)\n"
   ]
  },
  {
   "cell_type": "code",
   "execution_count": null,
   "id": "5ea0df1f-ee35-4ec6-a0a3-e96640a26f6a",
   "metadata": {},
   "outputs": [],
   "source": []
  },
  {
   "cell_type": "markdown",
   "id": "f2c63a0f-2602-47a6-80b2-11b5b1cde074",
   "metadata": {},
   "source": [
    "Q2. Given a significance level of 0.05 and the degrees of freedom for the numerator and denominator of an\n",
    "F-distribution, write a Python function that returns the critical F-value for a two-tailed test."
   ]
  },
  {
   "cell_type": "code",
   "execution_count": 2,
   "id": "0eb9f0bb-5324-4cf9-9f3d-d2a1330ed9e2",
   "metadata": {},
   "outputs": [
    {
     "name": "stdout",
     "output_type": "stream",
     "text": [
      "Critical F-value: 4.152804030062877\n"
     ]
    }
   ],
   "source": [
    "# Ans 2:-\n",
    "from scipy.stats import f\n",
    "\n",
    "def critical_f_value(significance_level, dfn, dfd):\n",
    "   \n",
    "    critical_f = f.ppf(1 - significance_level / 2, dfn, dfd)\n",
    "\n",
    "    return critical_f\n",
    "\n",
    "significance_level = 0.05\n",
    "degrees_of_freedom_numerator = 3\n",
    "degrees_of_freedom_denominator = 15\n",
    "critical_f = critical_f_value(significance_level, degrees_of_freedom_numerator, degrees_of_freedom_denominator)\n",
    "print(\"Critical F-value:\", critical_f)\n"
   ]
  },
  {
   "cell_type": "code",
   "execution_count": null,
   "id": "143fa3a1-ba6c-4366-81a7-82615158393a",
   "metadata": {},
   "outputs": [],
   "source": []
  },
  {
   "cell_type": "markdown",
   "id": "330625c4-9987-44cf-9f66-befe4c56b3a7",
   "metadata": {},
   "source": [
    "Q3. Write a Python program that generates random samples from two normal distributions with known\n",
    "\n",
    "variances and uses an F-test to determine if the variances are equal. The program should output the F-\n",
    "value, degrees of freedom, and p-value for the test."
   ]
  },
  {
   "cell_type": "code",
   "execution_count": 4,
   "id": "86bbd8cf-db11-4207-86e1-9cbe2eb031d1",
   "metadata": {},
   "outputs": [
    {
     "name": "stdout",
     "output_type": "stream",
     "text": [
      "F-value: 0.09644796696191937\n",
      "Degrees of freedom (numerator): 19\n",
      "Degrees of freedom (denominator): 19\n",
      "P-value: 0.7578316640802899\n"
     ]
    }
   ],
   "source": [
    "# Ans 3:-\n",
    "import numpy as np\n",
    "from scipy.stats import f_oneway\n",
    "\n",
    "def test_equal_variances(sample1, sample2):\n",
    "   \n",
    "    f_value, p_value = f_oneway(sample1, sample2)\n",
    "\n",
    "    dfn = len(sample1) - 1\n",
    "    dfd = len(sample2) - 1\n",
    "\n",
    "    return f_value, dfn, dfd, p_value\n",
    "\n",
    "np.random.seed(42)\n",
    "variance1 = 4.0\n",
    "variance2 = 4.0\n",
    "sample_size = 20\n",
    "sample1 = np.random.normal(loc=0, scale=np.sqrt(variance1), size=sample_size)\n",
    "sample2 = np.random.normal(loc=0, scale=np.sqrt(variance2), size=sample_size)\n",
    "\n",
    "f_value, dfn, dfd, p_value = test_equal_variances(sample1, sample2)\n",
    "\n",
    "print(\"F-value:\", f_value)\n",
    "print(\"Degrees of freedom (numerator):\", dfn)\n",
    "print(\"Degrees of freedom (denominator):\", dfd)\n",
    "print(\"P-value:\", p_value)\n"
   ]
  },
  {
   "cell_type": "code",
   "execution_count": null,
   "id": "210447ec-943a-4e0a-a4f5-1fd2d623dab2",
   "metadata": {},
   "outputs": [],
   "source": []
  },
  {
   "cell_type": "markdown",
   "id": "bc6d3a73-0e93-4ebe-bb29-fed46a94d413",
   "metadata": {},
   "source": [
    "Q4.The variances of two populations are known to be 10 and 15. A sample of 12 observations is taken from\n",
    "each population. Conduct an F-test at the 5% significance level to determine if the variances are\n",
    "significantly different."
   ]
  },
  {
   "cell_type": "code",
   "execution_count": 5,
   "id": "820ed0ef-2609-4299-bef9-2907580ea8ee",
   "metadata": {},
   "outputs": [
    {
     "name": "stdout",
     "output_type": "stream",
     "text": [
      "Reject H0: Variances are significantly different.\n"
     ]
    }
   ],
   "source": [
    "# Ans 4:-\n",
    "from scipy.stats import f\n",
    "\n",
    "def f_test(sample1, sample2, alpha):\n",
    "    \n",
    "    var1 = np.var(sample1, ddof=1)\n",
    "    var2 = np.var(sample2, ddof=1)\n",
    "\n",
    "    f_statistic = var1 / var2\n",
    "\n",
    "    df1 = len(sample1) - 1\n",
    "    df2 = len(sample2) - 1\n",
    "\n",
    "    critical_f = f.ppf(1 - alpha/2, df1, df2)\n",
    "\n",
    "    if f_statistic < critical_f or f_statistic > 1/critical_f:\n",
    "        return \"Reject H0: Variances are significantly different.\"\n",
    "    else:\n",
    "        return \"Fail to reject H0: Variances are not significantly different.\"\n",
    "\n",
    "sample1 = np.random.normal(loc=0, scale=np.sqrt(10), size=12)\n",
    "sample2 = np.random.normal(loc=0, scale=np.sqrt(15), size=12)\n",
    "alpha = 0.05\n",
    "\n",
    "result = f_test(sample1, sample2, alpha)\n",
    "print(result)\n"
   ]
  },
  {
   "cell_type": "code",
   "execution_count": null,
   "id": "d2b54f29-41cb-4200-a04d-1aef402e1774",
   "metadata": {},
   "outputs": [],
   "source": []
  },
  {
   "cell_type": "markdown",
   "id": "10384f12-cb18-466e-bbe6-6b71727a9040",
   "metadata": {},
   "source": [
    "Q5. A manufacturer claims that the variance of the diameter of a certain product is 0.005. A sample of 25\n",
    "products is taken, and the sample variance is found to be 0.006. Conduct an F-test at the 1% significance\n",
    "level to determine if the claim is justified."
   ]
  },
  {
   "cell_type": "code",
   "execution_count": 6,
   "id": "6a768743-4a35-428c-9dbb-51b37d476f0c",
   "metadata": {},
   "outputs": [
    {
     "name": "stdout",
     "output_type": "stream",
     "text": [
      "Fail to reject H0: The claimed variance is justified.\n"
     ]
    }
   ],
   "source": [
    "# Ans 5:-\n",
    "from scipy.stats import f\n",
    "\n",
    "def f_test(sample_variance, claimed_variance, sample_size, alpha):\n",
    "   \n",
    "    f_statistic = sample_variance / claimed_variance\n",
    "\n",
    "    df1 = sample_size - 1\n",
    "    df2 = 0  \n",
    "\n",
    "    critical_f = f.ppf(1 - alpha/2, df1, df2)\n",
    "\n",
    "    if f_statistic < critical_f or f_statistic > 1/critical_f:\n",
    "        return \"Reject H0: The claimed variance is not justified.\"\n",
    "    else:\n",
    "        return \"Fail to reject H0: The claimed variance is justified.\"\n",
    "\n",
    "sample_variance = 0.006\n",
    "claimed_variance = 0.005\n",
    "sample_size = 25\n",
    "alpha = 0.01\n",
    "\n",
    "result = f_test(sample_variance, claimed_variance, sample_size, alpha)\n",
    "print(result)\n"
   ]
  },
  {
   "cell_type": "code",
   "execution_count": null,
   "id": "71c1deb9-5fee-43b2-ba4d-6417047b161e",
   "metadata": {},
   "outputs": [],
   "source": []
  },
  {
   "cell_type": "markdown",
   "id": "ec9249ff-132a-410c-9536-37144450f37f",
   "metadata": {},
   "source": [
    "Q6. Write a Python function that takes in the degrees of freedom for the numerator and denominator of an\n",
    "F-distribution and calculates the mean and variance of the distribution. The function should return the\n",
    "mean and variance as a tuple."
   ]
  },
  {
   "cell_type": "code",
   "execution_count": 7,
   "id": "cd226be5-25da-48da-beef-e74dea4af3ed",
   "metadata": {},
   "outputs": [
    {
     "name": "stdout",
     "output_type": "stream",
     "text": [
      "Mean: 1.25\n",
      "Variance: 1.3541666666666667\n"
     ]
    }
   ],
   "source": [
    "# Ans 6:-\n",
    "def f_distribution_mean_variance(df1, df2):\n",
    "    \n",
    "    mean = df2 / (df2 - 2)\n",
    "    variance = (2 * (df2**2) * (df1 + df2 - 2)) / (df1 * (df2 - 2)**2 * (df2 - 4))\n",
    "\n",
    "    return mean, variance\n",
    "\n",
    "df1 = 5\n",
    "df2 = 10\n",
    "mean, variance = f_distribution_mean_variance(df1, df2)\n",
    "print(\"Mean:\", mean)\n",
    "print(\"Variance:\", variance)\n"
   ]
  },
  {
   "cell_type": "code",
   "execution_count": null,
   "id": "a67fa58b-8706-4334-a8d6-48c3a3c97187",
   "metadata": {},
   "outputs": [],
   "source": []
  },
  {
   "cell_type": "markdown",
   "id": "27160187-0b84-4e32-8b2d-ca6221ea44c9",
   "metadata": {},
   "source": [
    "Q7. A random sample of 10 measurements is taken from a normal population with unknown variance. The\n",
    "sample variance is found to be 25. Another random sample of 15 measurements is taken from another\n",
    "normal population with unknown variance, and the sample variance is found to be 20. Conduct an F-test\n",
    "at the 10% significance level to determine if the variances are significantly different."
   ]
  },
  {
   "cell_type": "code",
   "execution_count": 8,
   "id": "a7b3dd20-414c-40d9-b8a6-8824cf4ef477",
   "metadata": {},
   "outputs": [
    {
     "name": "stdout",
     "output_type": "stream",
     "text": [
      "F-statistic: 1.25\n",
      "Critical F-value: 2.6457907352338195\n",
      "Reject null hypothesis: False\n"
     ]
    }
   ],
   "source": [
    "# Ans 7:-\n",
    "import scipy.stats as stats\n",
    "\n",
    "def f_test_for_variances(sample_var1, n1, sample_var2, n2, alpha):\n",
    "  \n",
    "    f_statistic = max(sample_var1 / sample_var2, sample_var2 / sample_var1)\n",
    "\n",
    "    # Determine degrees of freedom\n",
    "    df1 = n1 - 1\n",
    "    df2 = n2 - 1\n",
    "\n",
    "    # Calculate the critical F-value\n",
    "    critical_f = stats.f.ppf(1 - alpha / 2, df1, df2)\n",
    "\n",
    "    reject_null = f_statistic > critical_f\n",
    "\n",
    "    return f_statistic, critical_f, reject_null\n",
    "\n",
    "sample_var1 = 25\n",
    "n1 = 10\n",
    "sample_var2 = 20\n",
    "n2 = 15\n",
    "alpha = 0.10\n",
    "\n",
    "f_statistic, critical_f, reject_null = f_test_for_variances(sample_var1, n1, sample_var2, n2, alpha)\n",
    "\n",
    "print(\"F-statistic:\", f_statistic)\n",
    "print(\"Critical F-value:\", critical_f)\n",
    "print(\"Reject null hypothesis:\", reject_null)\n"
   ]
  },
  {
   "cell_type": "code",
   "execution_count": null,
   "id": "979b0e1e-6202-4a2a-a09d-d51004015b16",
   "metadata": {},
   "outputs": [],
   "source": []
  },
  {
   "cell_type": "markdown",
   "id": "3f947713-4311-4838-8d35-b827eee9398e",
   "metadata": {},
   "source": [
    "Q8. The following data represent the waiting times in minutes at two different restaurants on a Saturday\n",
    "night: Restaurant A: 24, 25, 28, 23, 22, 20, 27; Restaurant B: 31, 33, 35, 30, 32, 36. Conduct an F-test at the 5%\n",
    "significance level to determine if the variances are significantly different."
   ]
  },
  {
   "cell_type": "code",
   "execution_count": 9,
   "id": "d79be747-2374-4f59-b230-7413b45dd186",
   "metadata": {},
   "outputs": [
    {
     "name": "stdout",
     "output_type": "stream",
     "text": [
      "F-statistic: 1.4551907719609583\n",
      "Critical F-value: 6.977701858535566\n",
      "Reject null hypothesis: False\n"
     ]
    }
   ],
   "source": [
    "# Ans 8:-\n",
    "import numpy as np\n",
    "import scipy.stats as stats\n",
    "\n",
    "def f_test_for_variances(sample1, sample2, alpha):\n",
    "   \n",
    "    var1 = np.var(sample1, ddof=1)\n",
    "    var2 = np.var(sample2, ddof=1)\n",
    "\n",
    "    df1 = len(sample1) - 1\n",
    "    df2 = len(sample2) - 1\n",
    "\n",
    "    f_statistic = max(var1 / var2, var2 / var1)\n",
    "\n",
    "    critical_f = stats.f.ppf(1 - alpha / 2, df1, df2)\n",
    "\n",
    "    reject_null = f_statistic > critical_f\n",
    "\n",
    "    return f_statistic, critical_f, reject_null\n",
    "\n",
    "sample_a = np.array([24, 25, 28, 23, 22, 20, 27])\n",
    "sample_b = np.array([31, 33, 35, 30, 32, 36])\n",
    "alpha = 0.05\n",
    "\n",
    "f_statistic, critical_f, reject_null = f_test_for_variances(sample_a, sample_b, alpha)\n",
    "\n",
    "print(\"F-statistic:\", f_statistic)\n",
    "print(\"Critical F-value:\", critical_f)\n",
    "print(\"Reject null hypothesis:\", reject_null)\n"
   ]
  },
  {
   "cell_type": "code",
   "execution_count": null,
   "id": "971897ce-e627-4ab6-87a4-7851ca4f6097",
   "metadata": {},
   "outputs": [],
   "source": []
  },
  {
   "cell_type": "markdown",
   "id": "b5edabb8-197b-437b-af2d-97dc512039b1",
   "metadata": {},
   "source": [
    "Q9. The following data represent the test scores of two groups of students: Group A: 80, 85, 90, 92, 87, 83;\n",
    "Group B: 75, 78, 82, 79, 81, 84. Conduct an F-test at the 1% significance level to determine if the variances\n",
    "are significantly different."
   ]
  },
  {
   "cell_type": "code",
   "execution_count": 10,
   "id": "3c558a63-c795-4c47-834e-f1230f204ebf",
   "metadata": {},
   "outputs": [
    {
     "name": "stdout",
     "output_type": "stream",
     "text": [
      "F-statistic: 1.9442622950819677\n",
      "Critical F-value: 14.939605459912224\n",
      "Reject null hypothesis: False\n"
     ]
    }
   ],
   "source": [
    "# Ans 9:-\n",
    "import numpy as np\n",
    "import scipy.stats as stats\n",
    "\n",
    "def f_test_for_variances(sample1, sample2, alpha):\n",
    "   \n",
    "    var1 = np.var(sample1, ddof=1)\n",
    "    var2 = np.var(sample2, ddof=1)\n",
    "\n",
    "    df1 = len(sample1) - 1\n",
    "    df2 = len(sample2) - 1\n",
    "\n",
    "    f_statistic = max(var1 / var2, var2 / var1)\n",
    "\n",
    "    critical_f = stats.f.ppf(1 - alpha / 2, df1, df2)\n",
    "\n",
    "    reject_null = f_statistic > critical_f\n",
    "\n",
    "    return f_statistic, critical_f, reject_null\n",
    "\n",
    "group_a_scores = np.array([80, 85, 90, 92, 87, 83])\n",
    "group_b_scores = np.array([75, 78, 82, 79, 81, 84])\n",
    "alpha = 0.01\n",
    "\n",
    "f_statistic, critical_f, reject_null = f_test_for_variances(group_a_scores, group_b_scores, alpha)\n",
    "\n",
    "print(\"F-statistic:\", f_statistic)\n",
    "print(\"Critical F-value:\", critical_f)\n",
    "print(\"Reject null hypothesis:\", reject_null)\n"
   ]
  },
  {
   "cell_type": "code",
   "execution_count": null,
   "id": "ef515ff2-6e28-4e89-8166-f32bc5c2483a",
   "metadata": {},
   "outputs": [],
   "source": []
  }
 ],
 "metadata": {
  "kernelspec": {
   "display_name": "Python 3 (ipykernel)",
   "language": "python",
   "name": "python3"
  },
  "language_info": {
   "codemirror_mode": {
    "name": "ipython",
    "version": 3
   },
   "file_extension": ".py",
   "mimetype": "text/x-python",
   "name": "python",
   "nbconvert_exporter": "python",
   "pygments_lexer": "ipython3",
   "version": "3.10.8"
  }
 },
 "nbformat": 4,
 "nbformat_minor": 5
}
