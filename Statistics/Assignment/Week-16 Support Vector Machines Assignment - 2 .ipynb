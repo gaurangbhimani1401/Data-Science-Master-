{
 "cells": [
  {
   "cell_type": "markdown",
   "id": "1804cadd-1125-4259-a44c-c1479a236ca2",
   "metadata": {},
   "source": [
    "Q1. What is the relationship between polynomial functions and kernel functions in machine learning\n",
    "algorithms?"
   ]
  },
  {
   "cell_type": "code",
   "execution_count": null,
   "id": "e4449844-2cc6-4edf-9173-5e0594577d61",
   "metadata": {},
   "outputs": [],
   "source": [
    "Ans 1:-Polynomial functions and kernel functions in machine learning are related in the context of kernel methods, which include kernelized versions of various \n",
    "algorithms, such as Support Vector Machines (SVMs) and the kernel trick."
   ]
  },
  {
   "cell_type": "code",
   "execution_count": null,
   "id": "326b029a-7625-40c7-8628-03b12fa6018e",
   "metadata": {},
   "outputs": [],
   "source": [
    "Kernel Functions:\n",
    "    Kernel functions are a class of functions used to implicitly transform data into a higher-dimensional space without actually performing the transformation \n",
    "    explicitly.\n",
    "    They are primarily used in kernel methods like the kernelized SVM, kernelized Ridge regression, etc."
   ]
  },
  {
   "cell_type": "code",
   "execution_count": null,
   "id": "3d724287-1125-4f0b-90ac-87a47c0f1007",
   "metadata": {},
   "outputs": [],
   "source": [
    "Polynomial Kernels:\n",
    "    A polynomial kernel is a specific type of kernel function used to capture non-linearity in data.\n",
    "    It is used to map data into a higher-dimensional space using a polynomial function, such as (x * y + c)^d, where d is the degree of the polynomial."
   ]
  },
  {
   "cell_type": "code",
   "execution_count": null,
   "id": "9d8072ed-d3f5-4e7d-920b-dde9edd617cc",
   "metadata": {},
   "outputs": [],
   "source": [
    "Relationship:\n",
    "    Polynomial kernels are a type of kernel function. \n",
    "    They apply polynomial transformations to the input features, effectively mapping the data into a higher-dimensional space.\n",
    "    This allows them to capture non-linear relationships between features.\n",
    "    The general concept of kernel functions is broader and includes other functions like the RBF kernel and linear kernel"
   ]
  },
  {
   "cell_type": "code",
   "execution_count": null,
   "id": "333297f6-23e5-401d-8845-c1fee1638ddd",
   "metadata": {},
   "outputs": [],
   "source": []
  },
  {
   "cell_type": "markdown",
   "id": "bff5df1b-ec94-4266-9243-1046112c55eb",
   "metadata": {},
   "source": [
    "Q2. How can we implement an SVM with a polynomial kernel in Python using Scikit-learn?"
   ]
  },
  {
   "cell_type": "code",
   "execution_count": null,
   "id": "27bd2b83-e166-4359-9bec-e0e65dd4235a",
   "metadata": {},
   "outputs": [],
   "source": [
    "Ans 2:-\n",
    "Import Libraries:\n",
    "    Import the necessary libraries, including Scikit-learn for the SVM model and data manipulation, and NumPy for data handling:"
   ]
  },
  {
   "cell_type": "code",
   "execution_count": 1,
   "id": "7fc4045b-8058-4466-ab04-aea7b1816074",
   "metadata": {},
   "outputs": [],
   "source": [
    "from sklearn import datasets\n",
    "from sklearn.model_selection import train_test_split\n",
    "from sklearn.svm import SVC\n",
    "import numpy as np"
   ]
  },
  {
   "cell_type": "code",
   "execution_count": null,
   "id": "d28d88bb-3be1-4583-8023-1355e7d6d60f",
   "metadata": {},
   "outputs": [],
   "source": [
    "Load the Dataset:\n",
    "Load the dataset you want to work with. In this example, we'll use the Iris dataset as it's readily available in Scikit-learn:"
   ]
  },
  {
   "cell_type": "code",
   "execution_count": 2,
   "id": "300885ba-a540-42c3-9627-251c60d4103a",
   "metadata": {},
   "outputs": [],
   "source": [
    "iris = datasets.load_iris()\n",
    "X = iris.data[:, :2]  # We'll use the first two features for visualization\n",
    "y = iris.target"
   ]
  },
  {
   "cell_type": "code",
   "execution_count": null,
   "id": "1cf880c3-7aff-4d4b-8da9-9038ea5a7344",
   "metadata": {},
   "outputs": [],
   "source": [
    "Split the Dataset:\n",
    "Split the dataset into a training set and a testing set to evaluate the SVM's performance"
   ]
  },
  {
   "cell_type": "code",
   "execution_count": 3,
   "id": "5d316d19-9195-41cc-a848-69aa1d87d1f0",
   "metadata": {},
   "outputs": [],
   "source": [
    "X_train, X_test, y_train, y_test = train_test_split(X, y, test_size=0.3, random_state=42)"
   ]
  },
  {
   "cell_type": "code",
   "execution_count": null,
   "id": "edd4ef37-4a79-4374-9fd1-a3b4f553bdb9",
   "metadata": {},
   "outputs": [],
   "source": [
    "Create and Train the SVM Model:\n",
    "Create an SVM model with a polynomial kernel using Scikit-learn's SVC (Support Vector Classification) class. You can specify the kernel type by setting kernel='poly':"
   ]
  },
  {
   "cell_type": "code",
   "execution_count": 4,
   "id": "f390a4f8-6206-4f0d-ac36-c6aae92e8340",
   "metadata": {},
   "outputs": [
    {
     "data": {
      "text/html": [
       "<style>#sk-container-id-1 {color: black;background-color: white;}#sk-container-id-1 pre{padding: 0;}#sk-container-id-1 div.sk-toggleable {background-color: white;}#sk-container-id-1 label.sk-toggleable__label {cursor: pointer;display: block;width: 100%;margin-bottom: 0;padding: 0.3em;box-sizing: border-box;text-align: center;}#sk-container-id-1 label.sk-toggleable__label-arrow:before {content: \"▸\";float: left;margin-right: 0.25em;color: #696969;}#sk-container-id-1 label.sk-toggleable__label-arrow:hover:before {color: black;}#sk-container-id-1 div.sk-estimator:hover label.sk-toggleable__label-arrow:before {color: black;}#sk-container-id-1 div.sk-toggleable__content {max-height: 0;max-width: 0;overflow: hidden;text-align: left;background-color: #f0f8ff;}#sk-container-id-1 div.sk-toggleable__content pre {margin: 0.2em;color: black;border-radius: 0.25em;background-color: #f0f8ff;}#sk-container-id-1 input.sk-toggleable__control:checked~div.sk-toggleable__content {max-height: 200px;max-width: 100%;overflow: auto;}#sk-container-id-1 input.sk-toggleable__control:checked~label.sk-toggleable__label-arrow:before {content: \"▾\";}#sk-container-id-1 div.sk-estimator input.sk-toggleable__control:checked~label.sk-toggleable__label {background-color: #d4ebff;}#sk-container-id-1 div.sk-label input.sk-toggleable__control:checked~label.sk-toggleable__label {background-color: #d4ebff;}#sk-container-id-1 input.sk-hidden--visually {border: 0;clip: rect(1px 1px 1px 1px);clip: rect(1px, 1px, 1px, 1px);height: 1px;margin: -1px;overflow: hidden;padding: 0;position: absolute;width: 1px;}#sk-container-id-1 div.sk-estimator {font-family: monospace;background-color: #f0f8ff;border: 1px dotted black;border-radius: 0.25em;box-sizing: border-box;margin-bottom: 0.5em;}#sk-container-id-1 div.sk-estimator:hover {background-color: #d4ebff;}#sk-container-id-1 div.sk-parallel-item::after {content: \"\";width: 100%;border-bottom: 1px solid gray;flex-grow: 1;}#sk-container-id-1 div.sk-label:hover label.sk-toggleable__label {background-color: #d4ebff;}#sk-container-id-1 div.sk-serial::before {content: \"\";position: absolute;border-left: 1px solid gray;box-sizing: border-box;top: 0;bottom: 0;left: 50%;z-index: 0;}#sk-container-id-1 div.sk-serial {display: flex;flex-direction: column;align-items: center;background-color: white;padding-right: 0.2em;padding-left: 0.2em;position: relative;}#sk-container-id-1 div.sk-item {position: relative;z-index: 1;}#sk-container-id-1 div.sk-parallel {display: flex;align-items: stretch;justify-content: center;background-color: white;position: relative;}#sk-container-id-1 div.sk-item::before, #sk-container-id-1 div.sk-parallel-item::before {content: \"\";position: absolute;border-left: 1px solid gray;box-sizing: border-box;top: 0;bottom: 0;left: 50%;z-index: -1;}#sk-container-id-1 div.sk-parallel-item {display: flex;flex-direction: column;z-index: 1;position: relative;background-color: white;}#sk-container-id-1 div.sk-parallel-item:first-child::after {align-self: flex-end;width: 50%;}#sk-container-id-1 div.sk-parallel-item:last-child::after {align-self: flex-start;width: 50%;}#sk-container-id-1 div.sk-parallel-item:only-child::after {width: 0;}#sk-container-id-1 div.sk-dashed-wrapped {border: 1px dashed gray;margin: 0 0.4em 0.5em 0.4em;box-sizing: border-box;padding-bottom: 0.4em;background-color: white;}#sk-container-id-1 div.sk-label label {font-family: monospace;font-weight: bold;display: inline-block;line-height: 1.2em;}#sk-container-id-1 div.sk-label-container {text-align: center;}#sk-container-id-1 div.sk-container {/* jupyter's `normalize.less` sets `[hidden] { display: none; }` but bootstrap.min.css set `[hidden] { display: none !important; }` so we also need the `!important` here to be able to override the default hidden behavior on the sphinx rendered scikit-learn.org. See: https://github.com/scikit-learn/scikit-learn/issues/21755 */display: inline-block !important;position: relative;}#sk-container-id-1 div.sk-text-repr-fallback {display: none;}</style><div id=\"sk-container-id-1\" class=\"sk-top-container\"><div class=\"sk-text-repr-fallback\"><pre>SVC(kernel=&#x27;poly&#x27;)</pre><b>In a Jupyter environment, please rerun this cell to show the HTML representation or trust the notebook. <br />On GitHub, the HTML representation is unable to render, please try loading this page with nbviewer.org.</b></div><div class=\"sk-container\" hidden><div class=\"sk-item\"><div class=\"sk-estimator sk-toggleable\"><input class=\"sk-toggleable__control sk-hidden--visually\" id=\"sk-estimator-id-1\" type=\"checkbox\" checked><label for=\"sk-estimator-id-1\" class=\"sk-toggleable__label sk-toggleable__label-arrow\">SVC</label><div class=\"sk-toggleable__content\"><pre>SVC(kernel=&#x27;poly&#x27;)</pre></div></div></div></div></div>"
      ],
      "text/plain": [
       "SVC(kernel='poly')"
      ]
     },
     "execution_count": 4,
     "metadata": {},
     "output_type": "execute_result"
    }
   ],
   "source": [
    "clf = SVC(kernel='poly', degree=3)  # Use a 3rd-degree polynomial kernel\n",
    "clf.fit(X_train, y_train)"
   ]
  },
  {
   "cell_type": "code",
   "execution_count": null,
   "id": "576cb885-a46f-4b10-8ec8-4ad2a3b18526",
   "metadata": {},
   "outputs": [],
   "source": [
    "Make Predictions:\n",
    "Use the trained SVM model to make predictions on the test data:"
   ]
  },
  {
   "cell_type": "code",
   "execution_count": 5,
   "id": "9cefe88e-23c7-4693-8e9d-5e652968c9b0",
   "metadata": {},
   "outputs": [],
   "source": [
    "y_pred = clf.predict(X_test)\n"
   ]
  },
  {
   "cell_type": "code",
   "execution_count": null,
   "id": "432e9819-a563-4161-9371-e9c4094b8df2",
   "metadata": {},
   "outputs": [],
   "source": [
    "Evaluate the Model:\n",
    "You can evaluate the model's performance using various metrics like accuracy, precision, recall, and F1-score. For example:"
   ]
  },
  {
   "cell_type": "code",
   "execution_count": 6,
   "id": "0ef3d574-6072-4de5-add7-4f408f02779d",
   "metadata": {},
   "outputs": [
    {
     "name": "stdout",
     "output_type": "stream",
     "text": [
      "Accuracy: 0.73\n"
     ]
    }
   ],
   "source": [
    "from sklearn.metrics import accuracy_score\n",
    "\n",
    "accuracy = accuracy_score(y_test, y_pred)\n",
    "print(f\"Accuracy: {accuracy:.2f}\")\n"
   ]
  },
  {
   "cell_type": "code",
   "execution_count": null,
   "id": "e4aa68d1-ee67-40fc-a113-d8735fae4f2c",
   "metadata": {},
   "outputs": [],
   "source": [
    "Visualize Decision Boundaries:\n",
    "You can visualize the decision boundaries using a mesh grid and contour plots. This step is optional but helps you understand how the SVM model is separating classes:"
   ]
  },
  {
   "cell_type": "code",
   "execution_count": 7,
   "id": "69ebcf09-cab9-4997-997a-ce9f0a279d32",
   "metadata": {},
   "outputs": [
    {
     "data": {
      "image/png": "[encoded data removed]",
      "text/plain": [
       "<Figure size 640x480 with 1 Axes>"
      ]
     },
     "metadata": {},
     "output_type": "display_data"
    }
   ],
   "source": [
    "import matplotlib.pyplot as plt\n",
    "\n",
    "h = .02\n",
    "x_min, x_max = X[:, 0].min() - 1, X[:, 0].max() + 1\n",
    "y_min, y_max = X[:, 1].min() - 1, X[:, 1].max() + 1\n",
    "xx, yy = np.meshgrid(np.arange(x_min, x_max, h), np.arange(y_min, y_max, h))\n",
    "Z = clf.predict(np.c_[xx.ravel(), yy.ravel()])\n",
    "Z = Z.reshape(xx.shape)\n",
    "\n",
    "plt.contourf(xx, yy, Z, cmap=plt.cm.coolwarm, alpha=0.8)\n",
    "plt.scatter(X[:, 0], X[:, 1], c=y, cmap=plt.cm.coolwarm)\n",
    "plt.xlabel('Feature 1')\n",
    "plt.ylabel('Feature 2')\n",
    "plt.title('SVM Decision Boundaries with Polynomial Kernel')\n",
    "plt.show()\n"
   ]
  },
  {
   "cell_type": "code",
   "execution_count": null,
   "id": "a3ebd1be-6abc-4908-9765-efb468ef73ca",
   "metadata": {},
   "outputs": [],
   "source": []
  },
  {
   "cell_type": "markdown",
   "id": "93ef21ad-5fb6-4fe9-b4ba-c1014d9f3749",
   "metadata": {},
   "source": [
    "Q3. How does increasing the value of epsilon affect the number of support vectors in SVR?"
   ]
  },
  {
   "cell_type": "code",
   "execution_count": null,
   "id": "14ad7e6f-9850-44d0-842f-dabdd4ba418e",
   "metadata": {},
   "outputs": [],
   "source": [
    "Ans 3:-In Support Vector Regression (SVR), the parameter epsilon (ε) controls the width of the ε-insensitive tube. \n",
    "The ε-insensitive tube is the range within which errors are not penalized in the SVR objective function."
   ]
  },
  {
   "cell_type": "code",
   "execution_count": null,
   "id": "201d0f52-453f-4f87-929e-2dc99ffd105e",
   "metadata": {},
   "outputs": [],
   "source": [
    "Small Epsilon (ε):\n",
    "    When ε is set to a small value, the ε-insensitive tube is narrow.\n",
    "    This means that data points must be very close to the predicted values to be considered support vectors. \n",
    "    As a result, the SVR model aims for a tight fit to the training data. \n",
    "    In this case, the SVR model is more sensitive to the training data, and its more likely to have a larger number of support vectors."
   ]
  },
  {
   "cell_type": "code",
   "execution_count": null,
   "id": "e01d83a4-7a84-4e1e-9e12-111228a5025d",
   "metadata": {},
   "outputs": [],
   "source": [
    "Large Epsilon (ε): \n",
    "    When ε is set to a larger value, the ε-insensitive tube is wider. \n",
    "    This allows data points to deviate from the predicted values within a wider margin (ε) without incurring a penalty. \n",
    "    Consequently, the SVR model is less sensitive to the training data and is more tolerant of errors.\n",
    "    In this case, the model might have fewer support vectors."
   ]
  },
  {
   "cell_type": "code",
   "execution_count": null,
   "id": "3cef2a13-b285-4863-8712-d30afd22708a",
   "metadata": {},
   "outputs": [],
   "source": [
    "The choice of ε depends on the specific problem and the trade-off between model complexity and fitting to the training data. \n",
    "A small ε results in a more complex model with more support vectors, while a large ε leads to a simpler model with fewer support vectors. \n",
    "The selection of the appropriate ε value often involves experimentation and validation on a validation dataset to strike the right balance between bias and variance."
   ]
  },
  {
   "cell_type": "code",
   "execution_count": null,
   "id": "141bbe6a-8800-43de-a296-cf933647e973",
   "metadata": {},
   "outputs": [],
   "source": []
  },
  {
   "cell_type": "markdown",
   "id": "26f1858e-c2e6-4ae1-9980-5e69ccaa5417",
   "metadata": {},
   "source": [
    "Q4. How does the choice of kernel function, C parameter, epsilon parameter, and gamma parameter\n",
    "affect the performance of Support Vector Regression (SVR)? Can you explain how each parameter works\n",
    "and provide examples of when you might want to increase or decrease its value?"
   ]
  },
  {
   "cell_type": "code",
   "execution_count": null,
   "id": "0e480ca7-bb6c-48d6-bd48-ea4cec437c96",
   "metadata": {},
   "outputs": [],
   "source": [
    "Ans 4:-Support Vector Regression (SVR) is a flexible algorithm with multiple parameters that can be adjusted to influence its performance and generalization \n",
    "capabilities. \n",
    "Lets discuss how the choice of kernel function, C parameter, epsilon parameter (ε), and gamma parameter (for non-linear kernels) can affect SVRs performance and when\n",
    "you might want to adjust their values:"
   ]
  },
  {
   "cell_type": "code",
   "execution_count": null,
   "id": "1b7645f0-e6ae-45d0-9f81-4efd83a4f675",
   "metadata": {},
   "outputs": [],
   "source": [
    "Kernel Function:\n",
    "    Linear Kernel (default): \n",
    "        The linear kernel assumes that the relationship between the features and the target variable is linear. \n",
    "        Use this when you expect a linear relationship. \n",
    "        For example, if you believe that a feature has a linear influence on the target variable, a linear kernel is appropriate.\n",
    "\n",
    "Polynomial Kernel: \n",
    "    The polynomial kernel can capture non-linear relationships between features and the target variable. \n",
    "    The degree of the polynomial (e.g., degree=2 for a quadratic kernel) controls the models complexity.\n",
    "    Increase the degree for more complex relationships."
   ]
  },
  {
   "cell_type": "code",
   "execution_count": null,
   "id": "067ba7c5-b43b-4eba-a7db-d214e9aeb815",
   "metadata": {},
   "outputs": [],
   "source": [
    "C Parameter (Cost Parameter):\n",
    "    The C parameter trades off correct classification of training examples against maximization of the margin. \n",
    "    It controls the trade-off between achieving a low training error and a low testing error.\n",
    "    Smaller C values make the margin wider, allowing for more training errors (soft margin). "
   ]
  },
  {
   "cell_type": "code",
   "execution_count": null,
   "id": "ac7c2183-a2b8-4fb6-9f32-f923bd2b7970",
   "metadata": {},
   "outputs": [],
   "source": [
    "Epsilon (ε) Parameter:\n",
    "    The ε parameter defines the size of the ε-insensitive tube around the predicted values.\n",
    "    Data points within this tube do not contribute to the loss function.\n",
    "    Smaller ε values result in a narrow tube, requiring a close fit to the data. \n",
    "    Larger ε values create a wider tube, allowing more flexibility."
   ]
  },
  {
   "cell_type": "code",
   "execution_count": null,
   "id": "68202af0-50e1-472e-b650-b555af509cb6",
   "metadata": {},
   "outputs": [],
   "source": [
    "Gamma (γ) Parameter (RBF Kernel Specific):\n",
    "    The gamma parameter defines how much influence a single training example has. \n",
    "    Small gamma values make the kernel more flexible, considering a wide range of data points. \n",
    "    Larger gamma values make the kernel less flexible, causing it to focus on nearby data points.\n",
    "    Increase gamma for a model that pays attention to finer details in the data. \n",
    "    Decrease gamma for a smoother, more general model."
   ]
  },
  {
   "cell_type": "code",
   "execution_count": null,
   "id": "6190bc4d-a670-4995-86d6-07373764b585",
   "metadata": {},
   "outputs": [],
   "source": []
  },
  {
   "cell_type": "markdown",
   "id": "5cfb9e68-0cfa-40ef-9f4c-fc4159bcbb75",
   "metadata": {},
   "source": [
    "Q5. Assignment:\n",
    "L Import the necessary libraries and load the dataseg\n",
    "L Split the dataset into training and testing setZ\n",
    "L Preprocess the data using any technique of your choice (e.g. scaling, normaliMationK\n",
    "L Create an instance of the SVC classifier and train it on the training datW\n",
    "L hse the trained classifier to predict the labels of the testing datW\n",
    "L Evaluate the performance of the classifier using any metric of your choice (e.g. accuracy,\n",
    "precision, recall, F1-scoreK\n",
    "L Tune the hyperparameters of the SVC classifier using GridSearchCV or RandomiMedSearchCV to\n",
    "improve its performanc_\n",
    "L Train the tuned classifier on the entire dataseg\n",
    "L Save the trained classifier to a file for future use."
   ]
  },
  {
   "cell_type": "code",
   "execution_count": 8,
   "id": "3d73e6d4-45e2-4e3f-b693-2ec895444a7d",
   "metadata": {},
   "outputs": [
    {
     "name": "stdout",
     "output_type": "stream",
     "text": [
      "Accuracy: 1.00\n",
      "Precision: 1.00\n",
      "Recall: 1.00\n",
      "F1 Score: 1.00\n",
      "Best Hyperparameters: {'C': 10, 'gamma': 'scale', 'kernel': 'linear'}\n"
     ]
    },
    {
     "data": {
      "text/plain": [
       "['svm_classifier.pkl']"
      ]
     },
     "execution_count": 8,
     "metadata": {},
     "output_type": "execute_result"
    }
   ],
   "source": [
    "# Ans 5:-\n",
    "# Step 1: Import necessary libraries and load the dataset\n",
    "import numpy as np\n",
    "from sklearn.datasets import load_iris\n",
    "from sklearn.model_selection import train_test_split\n",
    "from sklearn.preprocessing import StandardScaler\n",
    "from sklearn.svm import SVC\n",
    "from sklearn.metrics import accuracy_score, precision_score, recall_score, f1_score\n",
    "from sklearn.model_selection import GridSearchCV\n",
    "import joblib  # To save the trained classifier to a file\n",
    "\n",
    "# Load the iris dataset\n",
    "data = load_iris()\n",
    "X = data.data\n",
    "y = data.target\n",
    "\n",
    "# Step 2: Split the dataset into training and testing sets\n",
    "X_train, X_test, y_train, y_test = train_test_split(X, y, test_size=0.2, random_state=42)\n",
    "\n",
    "# Step 3: Preprocess the data using scaling (standardization)\n",
    "scaler = StandardScaler()\n",
    "X_train = scaler.fit_transform(X_train)\n",
    "X_test = scaler.transform(X_test)\n",
    "\n",
    "# Step 4: Create an instance of the SVC classifier and train it on the training data\n",
    "clf = SVC(kernel='rbf', C=1, gamma='scale', random_state=42)  # You can change kernel, C, and gamma\n",
    "clf.fit(X_train, y_train)\n",
    "\n",
    "# Step 5: Use the trained classifier to predict the labels of the testing data\n",
    "y_pred = clf.predict(X_test)\n",
    "\n",
    "# Step 6: Evaluate the performance of the classifier using metrics of your choice\n",
    "accuracy = accuracy_score(y_test, y_pred)\n",
    "precision = precision_score(y_test, y_pred, average='weighted')\n",
    "recall = recall_score(y_test, y_pred, average='weighted')\n",
    "f1 = f1_score(y_test, y_pred, average='weighted')\n",
    "\n",
    "print(f'Accuracy: {accuracy:.2f}')\n",
    "print(f'Precision: {precision:.2f}')\n",
    "print(f'Recall: {recall:.2f}')\n",
    "print(f'F1 Score: {f1:.2f}')\n",
    "\n",
    "# Step 7: Tune the hyperparameters of the SVC classifier using GridSearchCV or RandomizedSearchCV\n",
    "param_grid = {\n",
    "    'C': [0.1, 1, 10],\n",
    "    'kernel': ['linear', 'rbf', 'poly'],\n",
    "    'gamma': ['scale', 'auto', 0.1, 1]\n",
    "}\n",
    "\n",
    "grid_search = GridSearchCV(clf, param_grid, cv=5)\n",
    "grid_search.fit(X_train, y_train)\n",
    "\n",
    "# Get the best parameters from the grid search\n",
    "best_params = grid_search.best_params_\n",
    "print('Best Hyperparameters:', best_params)\n",
    "\n",
    "# Step 8: Train the tuned classifier on the entire dataset\n",
    "clf_tuned = SVC(**best_params, random_state=42)\n",
    "clf_tuned.fit(X, y)\n",
    "\n",
    "# Step 9: Save the trained classifier to a file for future use\n",
    "joblib.dump(clf_tuned, 'svm_classifier.pkl')\n"
   ]
  },
  {
   "cell_type": "code",
   "execution_count": null,
   "id": "06392b32-30e8-4d06-8ac3-ae40de6e81e0",
   "metadata": {},
   "outputs": [],
   "source": [
    "This code performs the following tasks:\n",
    "    Loads the iris dataset and splits it into training and testing sets.\n",
    "    Preprocesses the data by scaling it using standardization.\n",
    "    Creates an instance of the SVC classifier, trains it on the training data, and makes predictions on the test data.\n",
    "    Evaluates the classifier's performance using metrics like accuracy, precision, recall, and F1 score.\n",
    "    Tunes the hyperparameters using GridSearchCV or RandomizedSearchCV and prints the best hyperparameters.\n",
    "    Retrains the tuned classifier on the entire dataset.\n",
    "    Saves the trained classifier to a file named 'svm_classifier.pkl'."
   ]
  }
 ],
 "metadata": {
  "kernelspec": {
   "display_name": "Python 3 (ipykernel)",
   "language": "python",
   "name": "python3"
  },
  "language_info": {
   "codemirror_mode": {
    "name": "ipython",
    "version": 3
   },
   "file_extension": ".py",
   "mimetype": "text/x-python",
   "name": "python",
   "nbconvert_exporter": "python",
   "pygments_lexer": "ipython3",
   "version": "3.10.8"
  }
 },
 "nbformat": 4,
 "nbformat_minor": 5
}
