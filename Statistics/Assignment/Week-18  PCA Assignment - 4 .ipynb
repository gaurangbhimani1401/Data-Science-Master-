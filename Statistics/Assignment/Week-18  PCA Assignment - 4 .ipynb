{
 "cells": [
  {
   "cell_type": "code",
   "execution_count": 1,
   "id": "30e75109-98b9-4996-a207-7178ba2ea90e",
   "metadata": {},
   "outputs": [],
   "source": [
    "Introduction:\n",
    "\n",
    "Brief overview of PCA and the problem statement.\n",
    "Data Loading:\n",
    "\n",
    "Download the wine dataset from the UCI Machine Learning Repository.\n",
    "Load the dataset into a Pandas dataframe."
   ]
  },
  {
   "cell_type": "code",
   "execution_count": 3,
   "id": "41e6defd-4694-46b3-b28f-45893ba1cc7c",
   "metadata": {},
   "outputs": [],
   "source": [
    "import pandas as pd\n",
    "\n",
    "# Load the wine dataset\n",
    "url = \"https://archive.ics.uci.edu/ml/machine-learning-databases/wine/wine.data\"\n",
    "columns = [...]  # Define column names based on dataset description\n",
    "df = pd.read_csv(url, names=columns)\n"
   ]
  },
  {
   "cell_type": "code",
   "execution_count": null,
   "id": "0d5a7b14-e547-4ecd-96de-ae5b1f14e336",
   "metadata": {},
   "outputs": [],
   "source": [
    "Data Preprocessing:\n",
    "Split the dataset into features and target variables.\n",
    "Perform any necessary preprocessing steps (scaling, normalisation, missing value imputation)."
   ]
  },
  {
   "cell_type": "code",
   "execution_count": null,
   "id": "d9576099-2221-4d9a-bc69-ec8b5eaf7801",
   "metadata": {},
   "outputs": [],
   "source": [
    "X = df.iloc[:, 1:] \n",
    "y = df.iloc[:, 0]\n",
    "from sklearn.preprocessing import StandardScaler\n",
    "scaler = StandardScaler()\n",
    "X_scaled = scaler.fit_transform(X)"
   ]
  },
  {
   "cell_type": "code",
   "execution_count": null,
   "id": "441b89e4-b452-400e-849d-475f7fb74047",
   "metadata": {},
   "outputs": [],
   "source": [
    "PCA Implementation:\n",
    "Implement PCA on the preprocessed dataset using scikit-learn.\n",
    "Determine the optimal number of principal components based on the explained variance ratio."
   ]
  },
  {
   "cell_type": "code",
   "execution_count": null,
   "id": "9163afa2-b225-41b4-85f1-dd48083917b5",
   "metadata": {},
   "outputs": [],
   "source": [
    "from sklearn.decomposition import PCA\n",
    "pca = PCA()\n",
    "X_pca = pca.fit_transform(X_scaled)\n",
    "explained_variance_ratio = pca.explained_variance_ratio_\n",
    "cumulative_variance_ratio = explained_variance_ratio.cumsum()"
   ]
  },
  {
   "cell_type": "code",
   "execution_count": null,
   "id": "5966d93e-0b15-4165-ac82-db46064d2bbf",
   "metadata": {},
   "outputs": [],
   "source": [
    "Visualisation:\n",
    "Visualize the results of PCA using a scatter plot."
   ]
  },
  {
   "cell_type": "code",
   "execution_count": null,
   "id": "b2c29985-5b0f-49ad-97c5-a97a1214e95b",
   "metadata": {},
   "outputs": [],
   "source": [
    "import matplotlib.pyplot as plt\n",
    "\n",
    "# Scatter plot of the first two principal components\n",
    "plt.scatter(X_pca[:, 0], X_pca[:, 1], c=y, cmap='viridis')\n",
    "plt.xlabel('Principal Component 1')\n",
    "plt.ylabel('Principal Component 2')\n",
    "plt.title('PCA Results')\n",
    "plt.show()\n"
   ]
  },
  {
   "cell_type": "code",
   "execution_count": null,
   "id": "666579a5-af46-46a9-b000-993756a3fb6a",
   "metadata": {},
   "outputs": [],
   "source": [
    "Clustering:\n",
    "Perform clustering on the PCA-transformed data using the K-Means clustering algorithm."
   ]
  },
  {
   "cell_type": "code",
   "execution_count": null,
   "id": "b3170090-03d9-452a-add5-7cb1edb922ed",
   "metadata": {},
   "outputs": [],
   "source": [
    "from sklearn.cluster import KMeans\n",
    "\n",
    "# Choose the number of clusters based on your analysis\n",
    "n_clusters = ...\n",
    "kmeans = KMeans(n_clusters=n_clusters, random_state=42)\n",
    "y_kmeans = kmeans.fit_predict(X_pca)\n"
   ]
  },
  {
   "cell_type": "code",
   "execution_count": null,
   "id": "95d49c02-1718-41de-bff5-7a837e7f912c",
   "metadata": {},
   "outputs": [],
   "source": [
    "Evaluation:\n",
    "Evaluate the performance metrics for the clustering algorithm."
   ]
  },
  {
   "cell_type": "code",
   "execution_count": null,
   "id": "f224ddbd-125d-4534-bb65-6cc3078904a1",
   "metadata": {},
   "outputs": [],
   "source": [
    "from sklearn.metrics import silhouette_score\n",
    "\n",
    "silhouette_score_value = silhouette_score(X_pca, y_kmeans)\n",
    "print(f\"Silhouette Score: {silhouette_score_value}\")\n"
   ]
  },
  {
   "cell_type": "code",
   "execution_count": null,
   "id": "9b4d4099-04b5-4a4b-bae2-bcd4cead9233",
   "metadata": {},
   "outputs": [],
   "source": [
    "Summary and Conclusion:\n",
    "Interpret the results of PCA and clustering analysis.\n",
    "Report:\n",
    "Prepare a separate report summarizing the PCA and clustering analysis, including key findings, insights, and any visualizations.\n",
    "This is a basic outline, and you may need to adapt it based on your specific requirements and analysis goals."
   ]
  }
 ],
 "metadata": {
  "kernelspec": {
   "display_name": "Python 3 (ipykernel)",
   "language": "python",
   "name": "python3"
  },
  "language_info": {
   "codemirror_mode": {
    "name": "ipython",
    "version": 3
   },
   "file_extension": ".py",
   "mimetype": "text/x-python",
   "name": "python",
   "nbconvert_exporter": "python",
   "pygments_lexer": "ipython3",
   "version": "3.10.8"
  }
 },
 "nbformat": 4,
 "nbformat_minor": 5
}
