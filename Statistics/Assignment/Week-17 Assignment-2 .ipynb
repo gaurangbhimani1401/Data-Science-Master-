{
 "cells": [
  {
   "cell_type": "markdown",
   "id": "253beb23-21af-40a0-89b2-d10cf74ec5af",
   "metadata": {},
   "source": [
    "Q1. A company conducted a survey of its employees and found that 70% of the employees use the\n",
    "company's health insurance plan, while 40% of the employees who use the plan are smokers. What is the\n",
    "probability that an employee is a smoker given that he/she uses the health insurance plan?"
   ]
  },
  {
   "cell_type": "code",
   "execution_count": null,
   "id": "307cc5ed-8676-4469-9a46-e5030d491593",
   "metadata": {},
   "outputs": [],
   "source": [
    "Ans 1:-\n",
    "This problem can be solved using conditional probability. The notation P(A|B) epresents the probability of event A occurring given that event B has occurred."
   ]
  },
  {
   "cell_type": "code",
   "execution_count": null,
   "id": "b66136a9-cc72-464b-b027-6e6a3a7f03b0",
   "metadata": {},
   "outputs": [],
   "source": [
    "Lets define the events:\n",
    "    A:Employee is a smoker.\n",
    "    B:Employee uses the health insurance plan.\n",
    "    \n",
    "We are asked to find P(A|B) the probability that an employee is a smoker given that they use the health insurance plan."
   ]
  },
  {
   "cell_type": "code",
   "execution_count": null,
   "id": "69025244-9bd0-456a-9ed4-e7a54dfa4170",
   "metadata": {},
   "outputs": [],
   "source": [
    "The formula for conditional probability is given by: P(A|B)=P(A∩B)/P(B)"
   ]
  },
  {
   "cell_type": "code",
   "execution_count": null,
   "id": "24269481-3999-4e1f-ba6a-27152c9904d5",
   "metadata": {},
   "outputs": [],
   "source": [
    "where:\n",
    "    P(A∩B)is the probability that an employee is both a smoker and uses the health insurance plan.\n",
    "    P(B) is the probability that an employee uses the health insurance plan."
   ]
  },
  {
   "cell_type": "code",
   "execution_count": null,
   "id": "51d9cfb9-9a11-43d2-99bd-d8671b26b04b",
   "metadata": {},
   "outputs": [],
   "source": [
    "From the information provided:\n",
    "        P(A∩B) =0.70(70% of employees use the health insurance plan).\n",
    "        P(B)=0.40(40% of employees who use the plan are smokers)."
   ]
  },
  {
   "cell_type": "code",
   "execution_count": null,
   "id": "c14c33f2-8678-438b-a0fd-9ed3068a63f1",
   "metadata": {},
   "outputs": [],
   "source": [
    "Now, substitute these values into the formula:\n",
    "    P(A|B)=0.70/0.40"
   ]
  },
  {
   "cell_type": "code",
   "execution_count": null,
   "id": "76f1d000-48a2-4ff3-8855-cfabcec85393",
   "metadata": {},
   "outputs": [],
   "source": [
    "Calculate this expression to find the probability that an employee is a smoker given that they use the health insurance plan.\n",
    "\n",
    "I made an error in the previous response. Let me correct it.\n",
    "\n",
    "Given:\n",
    "    P(B):Probability that an employee uses the health insurance plan = 0.70\n",
    "    P(A|B): Probability that an employee is a smoker given that they use the health insurance plan = 0.40"
   ]
  },
  {
   "cell_type": "code",
   "execution_count": null,
   "id": "29815b63-0d72-4aa2-a128-9bb599e3c61c",
   "metadata": {},
   "outputs": [],
   "source": []
  },
  {
   "cell_type": "markdown",
   "id": "241db7fb-7f7e-4376-85f5-a1be24537504",
   "metadata": {},
   "source": [
    "Q2. What is the difference between Bernoulli Naive Bayes and Multinomial Naive Bayes?"
   ]
  },
  {
   "cell_type": "code",
   "execution_count": null,
   "id": "60495ec2-4d88-436b-8963-2720caf50e81",
   "metadata": {},
   "outputs": [],
   "source": [
    "Ans 2:-\n",
    "The main difference between Bernoulli Naive Bayes and Multinomial Naive Bayes lies in the type of data they are designed to handle:\n",
    "\n",
    "Bernoulli Naive Bayes:\n",
    "Type of Data:\n",
    "    It is suitable for binary or boolean data, where features represent presence or absence.\n",
    "Use Case: \n",
    "    Commonly used for document classification tasks, where the presence or absence of words in a document is considered.\n",
    "    \n",
    "Multinomial Naive Bayes:\n",
    "Type of Data: \n",
    "    It is suitable for discrete data, typically used for document classification tasks where the features represent word counts or term frequencies.\n",
    "Use Case:\n",
    "    Its commonly used in text classification tasks where the frequency of words in a document matters.\n",
    "    In summary, the choice between Bernoulli and Multinomial Naive Bayes depends on the nature of the data you are working with.\n",
    "    If your features are binary (presence/absence), Bernoulli Naive Bayes may be more appropriate. \n",
    "    If your features are counts or frequencies, Multinomial Naive Bayes is often a better choice."
   ]
  },
  {
   "cell_type": "code",
   "execution_count": null,
   "id": "4fea3153-9baf-4a8f-adb1-a7980f1e58d0",
   "metadata": {},
   "outputs": [],
   "source": []
  },
  {
   "cell_type": "markdown",
   "id": "dab62e9d-68db-4923-b367-abc52d16bf43",
   "metadata": {},
   "source": [
    "Q3. How does Bernoulli Naive Bayes handle missing values?"
   ]
  },
  {
   "cell_type": "code",
   "execution_count": null,
   "id": "baf72036-0c61-4b7c-a49a-493d293255ce",
   "metadata": {},
   "outputs": [],
   "source": [
    "Ans 3:-\n",
    "In the context of Naive Bayes classifiers, particularly Bernoulli Naive Bayes, missing values can be handled in the following way:\n",
    "\n",
    "Ignoring Missing Values:\n",
    "    The simplest approach is to ignore missing values during the training and prediction phases. \n",
    "    In this case, missing values are treated as if the corresponding features are not present.\n",
    "    \n",
    "Imputation:\n",
    "    Another approach is to impute missing values with a certain default value or a statistical measure (e.g., mean, median, or mode). \n",
    "    However, the choice of imputation method may impact the performance of the classifier.\n",
    "    \n",
    "Custom Handling:\n",
    "    Depending on the specific characteristics of your dataset and problem, you might choose a custom approach for handling missing values. \n",
    "    For instance, you could assign a special code or value to represent missing values."
   ]
  },
  {
   "cell_type": "code",
   "execution_count": null,
   "id": "7027dda2-b4d0-41f4-a8dd-9d8e8ca5c38d",
   "metadata": {},
   "outputs": [],
   "source": []
  },
  {
   "cell_type": "markdown",
   "id": "847dd086-9229-44f7-a711-90c9df3128e8",
   "metadata": {},
   "source": [
    "Q4. Can Gaussian Naive Bayes be used for multi-class classification?"
   ]
  },
  {
   "cell_type": "code",
   "execution_count": null,
   "id": "8daba077-8c60-4279-a281-a3ffd2f7b20c",
   "metadata": {},
   "outputs": [],
   "source": [
    "Ans 4:-\n",
    "Yes, Gaussian Naive Bayes can be used for multi-class classification. \n",
    "The Naive Bayes algorithm, including the Gaussian variant, can be extended to handle multiple classes by using a one-vs-all (OvA) or one-vs-one (OvO) strategy.\n",
    "\n",
    "Here's how each strategy works:\n",
    "\n",
    "One-vs-All (OvA):\n",
    "    For K classes,K  classifiers are trained, each considering one class as the positive class and the rest as the negative class. \n",
    "    During prediction, the class with the highest probability from the K classifiers is chosen.\n",
    "    \n",
    "One-vs-One (OvO):\n",
    "    For K classes classifiers are trained, each considering a pair of classes. \n",
    "    During prediction, each classifier votes for one of the classes, and the class with the most votes is chosen."
   ]
  },
  {
   "cell_type": "code",
   "execution_count": null,
   "id": "a9a073c9-c221-4975-8093-b4a32ad6da06",
   "metadata": {},
   "outputs": [],
   "source": [
    "Gaussian Naive Bayes is well-suited for problems where the features are continuous and follow a Gaussian (normal) distribution. \n",
    "It assumes that the features are conditionally independent given the class.\n",
    "While its commonly used for binary classification, it can be adapted for multi-class problems using the strategies mentioned above."
   ]
  }
 ],
 "metadata": {
  "kernelspec": {
   "display_name": "Python 3 (ipykernel)",
   "language": "python",
   "name": "python3"
  },
  "language_info": {
   "codemirror_mode": {
    "name": "ipython",
    "version": 3
   },
   "file_extension": ".py",
   "mimetype": "text/x-python",
   "name": "python",
   "nbconvert_exporter": "python",
   "pygments_lexer": "ipython3",
   "version": "3.10.8"
  }
 },
 "nbformat": 4,
 "nbformat_minor": 5
}
