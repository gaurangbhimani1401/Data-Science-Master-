{
 "cells": [
  {
   "cell_type": "markdown",
   "id": "2d052cfc-ec33-4f0f-8fdd-44c1068da978",
   "metadata": {},
   "source": [
    "Q1: What are the Probability Mass Function (PMF) and Probability Density Function (PDF)? Explain with\n",
    "an example."
   ]
  },
  {
   "cell_type": "code",
   "execution_count": null,
   "id": "4c024a98-10e2-4205-837f-061d8d3b6755",
   "metadata": {},
   "outputs": [],
   "source": [
    "Ans 1:-\n",
    "Probability Mass Function (PMF):\n",
    "The Probability Mass Function (PMF) is used for discrete random variables.\n",
    "It gives the probability of a specific outcome occurring.\n",
    "The PMF provides a probability value for each possible value of the discrete random variable."
   ]
  },
  {
   "cell_type": "code",
   "execution_count": null,
   "id": "e6dbc6b5-b9f3-4e38-bf40-2d5ae03f34aa",
   "metadata": {},
   "outputs": [],
   "source": [
    "Example of PMF:\n",
    "Consider rolling a fair six-sided die. The random variable X represents the outcome of the roll (1, 2, 3, 4, 5, or 6). The PMF of X is given by:\n",
    "\n",
    "PMF(X) = {1/6 for X = 1,\n",
    "1/6 for X = 2,\n",
    "1/6 for X = 3,\n",
    "1/6 for X = 4,\n",
    "1/6 for X = 5,\n",
    "1/6 for X = 6,\n",
    "0 otherwise}"
   ]
  },
  {
   "cell_type": "code",
   "execution_count": null,
   "id": "2542048d-2c47-42e2-af3e-b6b61fc3eb9d",
   "metadata": {},
   "outputs": [],
   "source": [
    "Probability Density Function (PDF):\n",
    "The Probability Density Function (PDF) is used for continuous random variables.\n",
    "It gives the probability density at a particular value of the continuous random variable.\n",
    "Unlike the PMF, which gives probabilities for specific values, the PDF gives the relative likelihood of a random variable taking on a value within a given range."
   ]
  },
  {
   "cell_type": "code",
   "execution_count": null,
   "id": "4fdfc00c-5fc6-4acc-ad21-5d1fb041a27b",
   "metadata": {},
   "outputs": [],
   "source": [
    "Example of PDF:\n",
    "Consider the height of adult humans, which is a continuous random variable.\n",
    "Let X be the height in centimeters.\n",
    "The PDF of X would describe the relative likelihood of a person having a height within a certain range of values."
   ]
  },
  {
   "cell_type": "code",
   "execution_count": null,
   "id": "babc934d-a094-4438-b1b9-cfd9d15d2e3d",
   "metadata": {},
   "outputs": [],
   "source": []
  },
  {
   "cell_type": "markdown",
   "id": "df978850-e338-43c3-9677-30dc672300f3",
   "metadata": {},
   "source": [
    "Q2: What is Cumulative Density Function (CDF)? Explain with an example. Why CDF is used?"
   ]
  },
  {
   "cell_type": "code",
   "execution_count": null,
   "id": "6f982a1c-b433-4435-b204-0bd46626ba9a",
   "metadata": {},
   "outputs": [],
   "source": [
    "Ans 2:-\n",
    "The Cumulative Density Function (CDF) is a statistical function used to describe the probability that a random variable takes on a value less than or equal to a specific value.\n",
    "In other words, it gives the probability of observing a value less than or equal to a given value in the distribution."
   ]
  },
  {
   "cell_type": "code",
   "execution_count": null,
   "id": "491f5807-a73d-4af5-9128-122be3106c8c",
   "metadata": {},
   "outputs": [],
   "source": [
    "Let's consider the rolling of a fair six-sided die. The random variable X represents the outcome of the roll (1, 2, 3, 4, 5, or 6). The CDF of X can be calculated as follows:\n",
    "\n",
    "CDF(X) = {0 for x < 1,\n",
    "1/6 for 1 ≤ x < 2,\n",
    "2/6 for 2 ≤ x < 3,\n",
    "3/6 for 3 ≤ x < 4,\n",
    "4/6 for 4 ≤ x < 5,\n",
    "5/6 for 5 ≤ x < 6,\n",
    "1 for x ≥ 6}"
   ]
  },
  {
   "cell_type": "code",
   "execution_count": null,
   "id": "86950936-4029-4116-b9ca-21ea8ff4dab9",
   "metadata": {},
   "outputs": [],
   "source": [
    "Probability Calculations:\n",
    "    The CDF provides a convenient way to calculate probabilities of events for a given random variable.\n",
    "\n",
    "Distribution Characteristics:\n",
    "    The CDF characterizes the behavior of a probability distribution, showing how the probability accumulates as we move along the values of the random variable."
   ]
  },
  {
   "cell_type": "code",
   "execution_count": null,
   "id": "25ee3876-33ff-49d2-b882-a10bd24bb4cb",
   "metadata": {},
   "outputs": [],
   "source": []
  },
  {
   "cell_type": "markdown",
   "id": "fb8c221c-3ec2-4021-877d-ce1ec9f28be4",
   "metadata": {},
   "source": [
    "Q3: What are some examples of situations where the normal distribution might be used as a model?\n",
    "Explain how the parameters of the normal distribution relate to the shape of the distribution."
   ]
  },
  {
   "cell_type": "code",
   "execution_count": null,
   "id": "5b337f61-4a99-4e77-93f2-84050cc7bbb4",
   "metadata": {},
   "outputs": [],
   "source": [
    "Ans 3:-The normal distribution, also known as the Gaussian distribution, is one of the most widely used probability distributions in statistics.\n",
    "It is often used to model continuous random variables in situations where the data exhibit a bell-shaped, symmetric pattern."
   ]
  },
  {
   "cell_type": "code",
   "execution_count": null,
   "id": "18822d93-c920-49df-9d21-b7ba273e2095",
   "metadata": {},
   "outputs": [],
   "source": [
    "Examples:\n",
    "Heights of Adult Humans: The heights of adult humans tend to follow a normal distribution.\n",
    "Most people fall near the mean height, with fewer individuals at the extreme ends (very tall or very short)."
   ]
  },
  {
   "cell_type": "code",
   "execution_count": null,
   "id": "7710d232-8b13-4fb3-a1de-8f0e19064ec3",
   "metadata": {},
   "outputs": [],
   "source": []
  },
  {
   "cell_type": "markdown",
   "id": "660230c5-67b5-48dd-a028-7d95b57fa655",
   "metadata": {},
   "source": [
    "Q4: Explain the importance of Normal Distribution. Give a few real-life examples of Normal\n",
    "Distribution."
   ]
  },
  {
   "cell_type": "code",
   "execution_count": null,
   "id": "9f92fd7f-1c7d-4526-9298-cca197b45584",
   "metadata": {},
   "outputs": [],
   "source": [
    "Ans 4:-\n",
    "Central Limit Theorem:\n",
    "    One of the most significant reasons for the importance of the normal distribution is the Central Limit Theorem (CLT).\n",
    "    The CLT states that the sum or average of a large number of independent and identically distributed random variables tends to follow a normal distribution,\n",
    "    regardless of the underlying distribution of the individual variables."
   ]
  },
  {
   "cell_type": "code",
   "execution_count": null,
   "id": "ef0fa818-711d-411a-9502-894f92a2701f",
   "metadata": {},
   "outputs": [],
   "source": [
    "Approximation of Real-World Data:\n",
    "    Many real-world phenomena can be approximated by a normal distribution.\n",
    "    While not all data perfectly follow a normal distribution, many natural processes and measurements, when averaged or aggregated, tend to exhibit a bell-shaped\n",
    "    pattern."
   ]
  },
  {
   "cell_type": "code",
   "execution_count": null,
   "id": "9f6082e4-ab70-4610-b8ff-43dd8da7ba4a",
   "metadata": {},
   "outputs": [],
   "source": [
    "Ease of Use:\n",
    "    The normal distribution has well-known properties and is mathematically tractable, making it easier to work with in statistical calculations and analyses.\n",
    "    Many statistical tests and techniques are specifically designed for normal data, simplifying the analysis process."
   ]
  },
  {
   "cell_type": "code",
   "execution_count": null,
   "id": "fe7a1177-47a2-42ca-ae39-c811309d5069",
   "metadata": {},
   "outputs": [],
   "source": []
  },
  {
   "cell_type": "markdown",
   "id": "9e676a2c-3214-47db-8274-d37445b8cc2b",
   "metadata": {},
   "source": [
    "Q5: What is Bernaulli Distribution? Give an Example. What is the difference between Bernoulli\n",
    "Distribution and Binomial Distribution?"
   ]
  },
  {
   "cell_type": "code",
   "execution_count": null,
   "id": "765b8065-e04a-4625-b064-c82b06539f2e",
   "metadata": {},
   "outputs": [],
   "source": [
    "Ans 5:-\n",
    "Bernoulli Distribution:\n",
    "    The Bernoulli distribution is a discrete probability distribution that models a random experiment with two possible outcomes: success (usually represented as 1)\n",
    "    and failure (usually represented as 0).\n",
    "    It is named after the Swiss mathematician Jacob Bernoulli. "
   ]
  },
  {
   "cell_type": "code",
   "execution_count": null,
   "id": "d8ab4a9c-70d1-4e46-8671-d9a658e1ed2e",
   "metadata": {},
   "outputs": [],
   "source": [
    "Consider a coin flip as an example of a Bernoulli distribution. When flipping a fair coin, the probability of getting heads (success) is 0.5 (p=0.5), and the \n",
    "probability of getting tails (failure) is also 0.5.\n",
    "So, the Bernoulli distribution for a fair coin flip can be represented as follows:\n",
    "    P(X = 1) = 0.5 (probability of getting heads)\n",
    "    P(X = 0) = 0.5 (probability of getting tails)"
   ]
  },
  {
   "cell_type": "code",
   "execution_count": null,
   "id": "425e691d-728e-4aef-a738-cb06319b52cd",
   "metadata": {},
   "outputs": [],
   "source": [
    "Difference between Bernoulli Distribution and Binomial Distribution:\n",
    "\n",
    "Number of Trials:\n",
    "Bernoulli Distribution:\n",
    "    Represents a single trial or a single event with only two possible outcomes (success or failure).\n",
    "Binomial Distribution:\n",
    "    Represents the number of successes in a fixed number of independent Bernoulli trials (experiments), where each trial has the same\n",
    "probability of success (p)."
   ]
  },
  {
   "cell_type": "code",
   "execution_count": null,
   "id": "e7fa94c4-c02e-402a-ba7f-772aedbfe7d4",
   "metadata": {},
   "outputs": [],
   "source": [
    "Probability Parameter:\n",
    "Bernoulli Distribution:\n",
    "    Has a single probability parameter p, representing the probability of success in a single trial.\n",
    "Binomial Distribution:\n",
    "    Has two parameters: n (the number of trials) and p (the probability of success in a single trial)."
   ]
  },
  {
   "cell_type": "code",
   "execution_count": null,
   "id": "e1fdee0b-8e16-48da-9354-4290687fd5c3",
   "metadata": {},
   "outputs": [],
   "source": [
    "Probability Mass Function:\n",
    "Bernoulli Distribution:\n",
    "    PMF gives the probability of getting a specific outcome in a single trial.\n",
    "Binomial Distribution:\n",
    "    PMF gives the probability of getting exactly k successes in n trials."
   ]
  },
  {
   "cell_type": "code",
   "execution_count": null,
   "id": "a0297bd7-62ee-4e94-9ca6-e976df12dba6",
   "metadata": {},
   "outputs": [],
   "source": []
  },
  {
   "cell_type": "markdown",
   "id": "5a15bdc0-c7d5-470b-8d04-2a7a2f2e8f00",
   "metadata": {},
   "source": [
    "Q6. Consider a dataset with a mean of 50 and a standard deviation of 10. If we assume that the dataset\n",
    "is normally distributed, what is the probability that a randomly selected observation will be greater\n",
    "than 60? Use the appropriate formula and show your calculations."
   ]
  },
  {
   "cell_type": "code",
   "execution_count": null,
   "id": "3e7a83e3-9540-42e4-891e-cc4a6c3a75f6",
   "metadata": {},
   "outputs": [],
   "source": [
    "Ans 6:-\n",
    "To find the probability that a randomly selected observation from a normally distributed dataset with a mean of 50 and a standard deviation of 10 will be greater\n",
    "than 60, we can use the standard normal distribution and the z-score formula.\n",
    "z = (x - μ) / σ\n",
    "Now, we can calculate the z-score for x = 60:\n",
    "\n",
    "z = (60 - 50) / 10\n",
    "z = 1\n",
    "\n",
    "P(Z > 1) = 1 - P(Z ≤ 1)\n",
    "\n",
    "From the standard normal table, P(Z ≤ 1) is approximately 0.8413.\n",
    "\n",
    "Therefore,\n",
    "P(Z > 1) = 1 - 0.8413\n",
    "P(Z > 1) ≈ 0.1587"
   ]
  },
  {
   "cell_type": "code",
   "execution_count": null,
   "id": "2335b3f7-c802-441a-94c1-77cdf98842a5",
   "metadata": {},
   "outputs": [],
   "source": []
  },
  {
   "cell_type": "markdown",
   "id": "77dd853d-40aa-44ee-bed2-116e283cdc03",
   "metadata": {},
   "source": [
    "Q7: Explain uniform Distribution with an example."
   ]
  },
  {
   "cell_type": "code",
   "execution_count": null,
   "id": "d334c32f-1392-4656-9cb8-29f576e24c46",
   "metadata": {},
   "outputs": [],
   "source": [
    "Ans 7:-\n",
    "Uniform distribution is a probability distribution where all outcomes have an equal probability of occurring.\n",
    "In other words, each value in the distribution has the same likelihood of being observed within a specific range.\n",
    "Consider a fair six-sided die. When you roll the die, each face (1, 2, 3, 4, 5, or 6) has an equal chance of landing face-up.\n",
    "Let's represent the random variable X as the result of rolling the die. The probability distribution of X will be:\n",
    "\n",
    "P(X = 1) = 1/6\n",
    "P(X = 2) = 1/6\n",
    "P(X = 3) = 1/6\n",
    "P(X = 4) = 1/6\n",
    "P(X = 5) = 1/6\n",
    "P(X = 6) = 1/6"
   ]
  },
  {
   "cell_type": "code",
   "execution_count": null,
   "id": "0b910900-3f7c-47e9-9792-8e7c763e2968",
   "metadata": {},
   "outputs": [],
   "source": []
  },
  {
   "cell_type": "markdown",
   "id": "9b6e10e6-9186-4621-8d1c-c75c8b5d0870",
   "metadata": {},
   "source": [
    "Q8: What is the z score? State the importance of the z score."
   ]
  },
  {
   "cell_type": "code",
   "execution_count": null,
   "id": "983f3ad4-51e0-425e-bca4-b9954e685a4d",
   "metadata": {},
   "outputs": [],
   "source": [
    "Ans 8:-\n",
    "The z-score, also known as the standard score, is a statistical measure that quantifies the distance of a data point from the mean of a dataset in terms of\n",
    "standard deviations.\n",
    "It indicates how many standard deviations a data point is above or below the mean."
   ]
  },
  {
   "cell_type": "code",
   "execution_count": null,
   "id": "d338a230-2dfe-453d-932a-b3f581c4deee",
   "metadata": {},
   "outputs": [],
   "source": [
    "Standardization:\n",
    "    The z-score standardizes data, transforming it into a common scale with a mean of 0 and a standard deviation of 1.\n",
    "    This allows for comparisons between different datasets that might have different units and scales.\n",
    "\n",
    "Outlier Detection:\n",
    "    Z-scores are useful for identifying outliers in a dataset.\n",
    "    Extreme values with high positive or negative z-scores are considered outliers since they are significantly different from the mean."
   ]
  },
  {
   "cell_type": "code",
   "execution_count": null,
   "id": "43a17282-43a2-4290-85f7-43e4a6b79010",
   "metadata": {},
   "outputs": [],
   "source": []
  },
  {
   "cell_type": "markdown",
   "id": "48c28ec9-2138-45be-87f9-109b96fce8c3",
   "metadata": {},
   "source": [
    "Q9: What is Central Limit Theorem? State the significance of the Central Limit Theorem."
   ]
  },
  {
   "cell_type": "code",
   "execution_count": null,
   "id": "927aabd5-8976-4969-b1af-631fb5f4f589",
   "metadata": {},
   "outputs": [],
   "source": [
    "Ans 9:-\n",
    "The Central Limit Theorem (CLT) is a fundamental concept in statistics that describes the behavior of sample means or sample sums from a population, regardless of\n",
    "the shape of the original population distribution."
   ]
  },
  {
   "cell_type": "code",
   "execution_count": null,
   "id": "df5b9070-8d87-4d14-9d59-9719e334e34a",
   "metadata": {},
   "outputs": [],
   "source": [
    "Approximation of the Normal Distribution:\n",
    "    The CLT allows statisticians to use the normal distribution to approximate the distribution of sample means, which simplifies many statistical calculations \n",
    "    and hypothesis testing procedures.\n",
    "\n",
    "Sample Size Determination:\n",
    "    The CLT helps determine the minimum sample size required to obtain accurate estimates of population parameters.\n",
    "    A larger sample size ensures a better approximation to a normal distribution.\n",
    "\n",
    "Inference and Hypothesis Testing:\n",
    "    The CLT is the basis for many statistical inference techniques, such as constructing confidence intervals and conducting hypothesis tests for population means.\n",
    "\n",
    "Population Estimation:\n",
    "    The CLT provides a framework for estimating population parameters based on sample statistics, even when the original population distribution is unknown."
   ]
  },
  {
   "cell_type": "code",
   "execution_count": null,
   "id": "88c2dc77-cccd-4dd5-aef9-320aef75cd66",
   "metadata": {},
   "outputs": [],
   "source": []
  },
  {
   "cell_type": "markdown",
   "id": "b15b9997-91ed-45aa-9591-46c5497d02fa",
   "metadata": {},
   "source": [
    "Q10: State the assumptions of the Central Limit Theorem."
   ]
  },
  {
   "cell_type": "code",
   "execution_count": null,
   "id": "3f5e5740-eb9d-44d3-a228-a7d1f2525f7e",
   "metadata": {},
   "outputs": [],
   "source": [
    "Ans 10:-\n",
    "Random Sampling:\n",
    "    The data should be collected through a random sampling process from the population of interest.\n",
    "    This means that each individual in the population has an equal chance of being included in the sample.\n",
    "\n",
    "Independence:\n",
    "    The observations in the sample should be independent of each other.\n",
    "    This means that the value of one observation does not influence the value of another observation in the sample.\n",
    "\n",
    "Finite Variance:\n",
    "    The population from which the sample is drawn should have a finite variance (i.e., the data points should not vary to infinity).\n",
    "    If the variance is infinite, the CLT may not apply.\n",
    "\n",
    "Sample Size:\n",
    "    The sample size should be sufficiently large.\n",
    "    While there is no strict rule for what constitutes \"sufficiently large,\" as a general guideline, a sample size of at least 30 is often considered \n",
    "    adequate for the CLT to hold."
   ]
  }
 ],
 "metadata": {
  "kernelspec": {
   "display_name": "Python 3 (ipykernel)",
   "language": "python",
   "name": "python3"
  },
  "language_info": {
   "codemirror_mode": {
    "name": "ipython",
    "version": 3
   },
   "file_extension": ".py",
   "mimetype": "text/x-python",
   "name": "python",
   "nbconvert_exporter": "python",
   "pygments_lexer": "ipython3",
   "version": "3.10.8"
  }
 },
 "nbformat": 4,
 "nbformat_minor": 5
}
