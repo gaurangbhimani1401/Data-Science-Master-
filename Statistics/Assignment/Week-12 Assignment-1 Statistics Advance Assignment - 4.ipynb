{
 "cells": [
  {
   "cell_type": "markdown",
   "id": "ced16b2c-a9c7-4d7c-bac7-b791bffec8ed",
   "metadata": {},
   "source": [
    "Q1: What is the difference between a t-test and a z-test? Provide an example scenario where you would\n",
    "use each type of test."
   ]
  },
  {
   "cell_type": "code",
   "execution_count": null,
   "id": "7ac1ec36-5fdc-4c96-a5bb-b1e019f74acb",
   "metadata": {},
   "outputs": [],
   "source": [
    "Ans 1:-\n",
    "T-test:\n",
    "    T-tests are used when the sample size is small (typically less than 30) and the population standard deviation is unknown.\n",
    "    It is commonly used when comparing the means of two samples or when testing the difference between a sample mean and a known or hypothesized population mean.\n",
    "    T-tests are also used when dealing with non-normally distributed data, provided the sample size is reasonably large."
   ]
  },
  {
   "cell_type": "code",
   "execution_count": null,
   "id": "03b6f530-5fc5-4485-bd00-58a6c7ffb850",
   "metadata": {},
   "outputs": [],
   "source": [
    "Example scenario for t-test:\n",
    "    Suppose we want to compare the average test scores of two groups of students, where the sample sizes are small\n",
    "    (e.g., 20 students in each group) and the population standard deviation is unknown.\n",
    "    In this case, we would use a t-test to determine if there is a significant difference in the mean test scores between the two groups."
   ]
  },
  {
   "cell_type": "code",
   "execution_count": null,
   "id": "a9af1bb6-fd32-421a-8cc3-e99a897b4937",
   "metadata": {},
   "outputs": [],
   "source": [
    "Z-test:\n",
    "    Z-tests are used when the sample size is large (typically greater than 30) and the population standard deviation is known.\n",
    "    It is appropriate when comparing the means of two large samples or when testing the difference between a sample mean and a known or hypothesized population mean.\n",
    "    Z-tests assume that the data is normally distributed"
   ]
  },
  {
   "cell_type": "code",
   "execution_count": null,
   "id": "9875cc6f-25a3-49db-be96-5b0f2927ff4d",
   "metadata": {},
   "outputs": [],
   "source": [
    "Example scenario for z-test:\n",
    "    Consider a situation where we want to compare the average height of male students in a school to the known population average height of all male students\n",
    "    of the same age.\n",
    "    If the sample size is large (e.g., 100 or more male students) and we know the population standard deviation, we can use a z-test to determine if the sample\n",
    "    mean height significantly differs from the known population mean height."
   ]
  },
  {
   "cell_type": "code",
   "execution_count": null,
   "id": "08ae6d29-119a-42e1-ab4c-a5ef210ac2c3",
   "metadata": {},
   "outputs": [],
   "source": []
  },
  {
   "cell_type": "markdown",
   "id": "9841db60-85c1-4e68-9220-11960e830ec7",
   "metadata": {},
   "source": [
    "Q2: Differentiate between one-tailed and two-tailed tests."
   ]
  },
  {
   "cell_type": "code",
   "execution_count": null,
   "id": "f8673088-da44-4e6e-8f4b-c21314fdb46c",
   "metadata": {},
   "outputs": [],
   "source": [
    "Ans 2:-\n",
    "One-tailed test:\n",
    "    In a one-tailed test, the null hypothesis is tested against a specific direction of effect (either greater than or less than).\n",
    "    It is used when there is a specific hypothesis or research question that suggests a directional difference or effect in the data.\n",
    "    The critical region for the test is located entirely on one side of the sampling distribution."
   ]
  },
  {
   "cell_type": "code",
   "execution_count": null,
   "id": "a1056ccb-03b0-4fc5-9e58-19129b9fc0ca",
   "metadata": {},
   "outputs": [],
   "source": [
    "Two-tailed test:\n",
    "    In a two-tailed test, the null hypothesis is tested against the possibility of any difference or effect, regardless of direction\n",
    "    (either greater than or less than).\n",
    "    It is used when there is no specific hypothesis or when we want to test for the possibility of a difference in either direction.\n",
    "    The critical region for the test is divided between both sides of the sampling distribution."
   ]
  },
  {
   "cell_type": "code",
   "execution_count": null,
   "id": "8308ace5-fa88-428b-b18f-bd4c7b524b30",
   "metadata": {},
   "outputs": [],
   "source": []
  },
  {
   "cell_type": "markdown",
   "id": "d93b5a85-db81-4b85-a018-31b579ec075a",
   "metadata": {},
   "source": [
    "Q3: Explain the concept of Type 1 and Type 2 errors in hypothesis testing. Provide an example scenario for\n",
    "each type of error."
   ]
  },
  {
   "cell_type": "code",
   "execution_count": null,
   "id": "0f32bb7f-38b1-46a1-b7a8-b6a0399d1a96",
   "metadata": {},
   "outputs": [],
   "source": [
    "Ans 3:-\n",
    "Type 1 error (False Positive):\n",
    "    A Type 1 error occurs when we reject a null hypothesis that is actually true.\n",
    "    It is also known as a \"false positive\" or \"alpha error.\"\n",
    "    The probability of committing a Type 1 error is denoted by the significance level (α).\n",
    "    It represents the chance of concluding there is an effect or difference when there is none in the population."
   ]
  },
  {
   "cell_type": "code",
   "execution_count": null,
   "id": "3c5a9d97-0736-4d0f-bd7f-9aede6661ecf",
   "metadata": {},
   "outputs": [],
   "source": [
    "Example:\n",
    "    Suppose a medical researcher is testing a new drugs effectiveness.\n",
    "    The null hypothesis (H0) is that the drug has no effect (no improvement in patient outcomes).\n",
    "    The alternative hypothesis (Ha) is that the drug does have an effect (improvement in patient outcomes).\n",
    "    If the researcher mistakenly rejects the null hypothesis and claims that the drug is effective when it is not, it is a Type 1 error."
   ]
  },
  {
   "cell_type": "code",
   "execution_count": null,
   "id": "b03e99f4-4776-48bb-bf99-278f90bf8460",
   "metadata": {},
   "outputs": [],
   "source": [
    "Type 2 error (False Negative):\n",
    "    A Type 2 error occurs when we fail to reject a null hypothesis that is actually false.\n",
    "    It is also known as a \"false negative\" or \"beta error.\"\n",
    "    The probability of committing a Type 2 error is denoted by β.\n",
    "    It represents the chance of failing to detect an effect or difference in the population when one exists."
   ]
  },
  {
   "cell_type": "code",
   "execution_count": null,
   "id": "b6778260-858c-477a-883f-9695aa71afb5",
   "metadata": {},
   "outputs": [],
   "source": [
    "Example:\n",
    "Continuing with the medical researchers scenario, if the null hypothesis (H0) is false, i.e., the drug does have a positive effect on patient outcomes,\n",
    "and the researcher fails to reject the null hypothesis, it is a Type 2 error."
   ]
  },
  {
   "cell_type": "code",
   "execution_count": null,
   "id": "5989adf8-7c59-4870-9f5f-1c46e2c999e4",
   "metadata": {},
   "outputs": [],
   "source": []
  },
  {
   "cell_type": "markdown",
   "id": "121ece0e-5cee-409c-b899-3a7a1c3b29a2",
   "metadata": {},
   "source": [
    "Q4: Explain Bayes's theorem with an example."
   ]
  },
  {
   "cell_type": "code",
   "execution_count": null,
   "id": "4db2f126-07be-4958-8719-8024369e43ce",
   "metadata": {},
   "outputs": [],
   "source": [
    "Ans 4:-\n",
    "Bayes theorem is a fundamental concept in probability theory and statistics.\n",
    "It allows us to update the probability of a hypothesis based on new evidence or data.\n",
    "The theorem is named after the English mathematician and philosopher Thomas Bayes."
   ]
  },
  {
   "cell_type": "code",
   "execution_count": null,
   "id": "0bff6b73-2298-47b7-af4d-f8096484e182",
   "metadata": {},
   "outputs": [],
   "source": [
    "P(H|E) = P(E\\H).P(H)/P(E)"
   ]
  },
  {
   "cell_type": "code",
   "execution_count": null,
   "id": "970b7056-8aa7-48d7-af8f-524d5fda74bb",
   "metadata": {},
   "outputs": [],
   "source": [
    "Example:\n",
    "Lets consider a medical scenario where a patient takes a diagnostic test for a rare disease. The disease occurs in only 1% of the population \n",
    "(P(H)=0.01), and the test is 95% accurate (0.95P(E∣H)=0.95)."
   ]
  },
  {
   "cell_type": "code",
   "execution_count": null,
   "id": "acd7e559-5397-41bc-b2b3-49fd59e57083",
   "metadata": {},
   "outputs": [],
   "source": []
  },
  {
   "cell_type": "markdown",
   "id": "fdb5a9ef-3708-4b00-8ffa-970d07a60f55",
   "metadata": {},
   "source": [
    "Q5: What is a confidence interval? How to calculate the confidence interval, explain with an example."
   ]
  },
  {
   "cell_type": "code",
   "execution_count": null,
   "id": "fec429c0-e889-4927-aacd-e6119f1c6218",
   "metadata": {},
   "outputs": [],
   "source": [
    "Ans 5:-\n",
    "A confidence interval is a statistical range that provides an estimate of the true value of a population parameter (such as a population mean or proportion)\n",
    "with a certain level of confidence.\n",
    "It gives a range of values within which we believe the population parameter is likely to fall."
   ]
  },
  {
   "cell_type": "code",
   "execution_count": null,
   "id": "a8f4eba4-035f-466c-a6b4-5b8b53473b26",
   "metadata": {},
   "outputs": [],
   "source": [
    "To calculate a confidence interval, we need three main components:\n",
    "    Sample data:\n",
    "        A random sample from the population of interest.\n",
    "        \n",
    "    Confidence level:\n",
    "        The level of confidence we want to have in our interval, typically expressed as a percentage (e.g., 95% confidence level).\n",
    "        \n",
    "    Estimation method:\n",
    "        The statistical method used to compute the confidence interval based on the sample data and the chosen confidence level."
   ]
  },
  {
   "cell_type": "code",
   "execution_count": 1,
   "id": "46797978-d75a-473b-9d7d-d006498494bb",
   "metadata": {},
   "outputs": [
    {
     "name": "stdout",
     "output_type": "stream",
     "text": [
      "95% Confidence Interval: (177.15803144877626, 182.84196855122374)\n"
     ]
    }
   ],
   "source": [
    "import numpy as np\n",
    "from scipy.stats import t\n",
    "\n",
    "sample_mean = 180\n",
    "sample_std = 10\n",
    "sample_size = 50\n",
    "confidence_level = 0.95\n",
    "degrees_of_freedom = sample_size - 1\n",
    "\n",
    "critical_value = t.ppf((1 + confidence_level) / 2, degrees_of_freedom)\n",
    "\n",
    "margin_of_error = critical_value * (sample_std / np.sqrt(sample_size))\n",
    "\n",
    "confidence_interval_lower = sample_mean - margin_of_error\n",
    "confidence_interval_upper = sample_mean + margin_of_error\n",
    "\n",
    "print(f\"95% Confidence Interval: ({confidence_interval_lower}, {confidence_interval_upper})\")\n"
   ]
  },
  {
   "cell_type": "code",
   "execution_count": null,
   "id": "8188d6ff-b1e1-45b2-9c91-03809c2055fa",
   "metadata": {},
   "outputs": [],
   "source": []
  },
  {
   "cell_type": "markdown",
   "id": "deaba77b-2b67-40c0-8eae-2d57d8b4adf3",
   "metadata": {},
   "source": [
    "Q6. Use Bayes' Theorem to calculate the probability of an event occurring given prior knowledge of the\n",
    "event's probability and new evidence. Provide a sample problem and solution."
   ]
  },
  {
   "cell_type": "code",
   "execution_count": null,
   "id": "f64e80fb-0d4c-4aad-84ab-e1899c313344",
   "metadata": {},
   "outputs": [],
   "source": [
    "Ans 6:-\n",
    "Suppose a factory produces light bulbs, and it is known from historical data that 5% of the bulbs are defective (prior probability).\n",
    "A quality control test is conducted, and the test correctly identifies defective bulbs 90% of the time (sensitivity or true positive rate), but it also\n",
    "incorrectly identifies non-defective bulbs as defective 10% of the time (false positive rate)."
   ]
  },
  {
   "cell_type": "code",
   "execution_count": null,
   "id": "5550b4d4-100c-449f-a2bf-6c7fa6a4f041",
   "metadata": {},
   "outputs": [],
   "source": [
    "Now, a light bulb is randomly selected from the production line, and the quality control test is performed.\n",
    "The test results indicate that the bulb is defective.\n",
    "What is the probability that the bulb is indeed defective (posterior probability) given the test result?"
   ]
  },
  {
   "cell_type": "code",
   "execution_count": null,
   "id": "5ad27bd9-25e0-440d-a85f-80ae2df70f35",
   "metadata": {},
   "outputs": [],
   "source": [
    "Solution using Bayes' Theorem:\n",
    "Let's define the events:\n",
    "D = The bulb is defective.\n",
    "T = The test result indicates the bulb is defective.\n",
    "\n",
    "Bayes' Theorem states:\n",
    "P(D∣T)= P(T)P(T∣D/⋅P(D)\n",
    "\n",
    "P(T)=P(T∣D)⋅P(D)+P(T∣D′)⋅P(D′)\n",
    "\n",
    "Now, lets calculate the posterior probability using the given values:\n",
    "P(T)=(0.90⋅0.05)+(0.10⋅0.95)=0.045+0.095=0.14\n",
    "\n",
    "Now, we can use Bayes' Theorem:\n",
    "P(D∣T)= 0.140*90*0.05/0.14 ≈0.3214\n",
    "\n",
    "So, the probability that the bulb is indeed defective (given the positive test result) is approximately 0.3214 or 32.14%.\n",
    "Despite the positive test result, there is still some uncertainty due to the false positive rate of the test."
   ]
  },
  {
   "cell_type": "code",
   "execution_count": null,
   "id": "52baadfb-5992-4f82-978b-e95ce0c54d37",
   "metadata": {},
   "outputs": [],
   "source": []
  },
  {
   "cell_type": "markdown",
   "id": "c45ecbd0-17aa-40a6-9206-e4af12cdca26",
   "metadata": {},
   "source": [
    "Q7. Calculate the 95% confidence interval for a sample of data with a mean of 50 and a standard deviation\n",
    "of 5. Interpret the results."
   ]
  },
  {
   "cell_type": "code",
   "execution_count": null,
   "id": "55bf2402-ca3d-4308-a7a5-baee3843e280",
   "metadata": {},
   "outputs": [],
   "source": [
    "Ans 7:-\n",
    "To calculate the 95% confidence interval for a sample of data with a mean of 50 and a standard deviation of 5, we can use the formula for a confidence interval \n",
    "for a population mean:"
   ]
  },
  {
   "cell_type": "code",
   "execution_count": 2,
   "id": "0c84a9e4-3703-43a6-a10f-6e94c67921eb",
   "metadata": {},
   "outputs": [
    {
     "name": "stdout",
     "output_type": "stream",
     "text": [
      "The 95% confidence interval is (48.21, 51.79)\n"
     ]
    }
   ],
   "source": [
    "import scipy.stats as stats\n",
    "\n",
    "sample_mean = 50\n",
    "sample_std_dev = 5\n",
    "sample_size = 30 \n",
    "\n",
    "standard_error = sample_std_dev / (sample_size ** 0.5)\n",
    "\n",
    "confidence_level = 0.95\n",
    "Z = stats.norm.ppf((1 + confidence_level) / 2)\n",
    "\n",
    "lower_bound = sample_mean - Z * standard_error\n",
    "upper_bound = sample_mean + Z * standard_error\n",
    "\n",
    "print(f\"The 95% confidence interval is ({lower_bound:.2f}, {upper_bound:.2f})\")\n"
   ]
  },
  {
   "cell_type": "code",
   "execution_count": null,
   "id": "d5214f06-e4f6-4340-adbd-3a43c9614111",
   "metadata": {},
   "outputs": [],
   "source": []
  },
  {
   "cell_type": "markdown",
   "id": "e349e85d-d814-4471-8dc5-99564dbba129",
   "metadata": {},
   "source": [
    "Q8. What is the margin of error in a confidence interval? How does sample size affect the margin of error?\n",
    "Provide an example of a scenario where a larger sample size would result in a smaller margin of error."
   ]
  },
  {
   "cell_type": "code",
   "execution_count": null,
   "id": "8123bcb4-f04d-41b3-9119-9ed5a9678743",
   "metadata": {},
   "outputs": [],
   "source": [
    "Ans 8:-\n",
    "The margin of error in a confidence interval is a measure of the uncertainty associated with estimating a population parameter based on a sample. \n",
    "It represents the range within which the true population parameter is likely to fall with a certain level of confidence."
   ]
  },
  {
   "cell_type": "code",
   "execution_count": null,
   "id": "ec4899c7-8cd4-4239-ad0a-c3e2c77a6ec9",
   "metadata": {},
   "outputs": [],
   "source": [
    "A larger sample size generally results in a smaller margin of error.\n",
    "As the sample size increases, the variability in the sample estimates decreases, leading to a more precise estimate of the population parameter."
   ]
  },
  {
   "cell_type": "code",
   "execution_count": null,
   "id": "68523efd-7361-4fc1-87d2-269049411782",
   "metadata": {},
   "outputs": [],
   "source": [
    "Lets consider an example of estimating the average height of students in a school.\n",
    "Suppose we want to determine a 95% confidence interval for the average height of students based on two different sample sizes: 50 and 200."
   ]
  },
  {
   "cell_type": "code",
   "execution_count": null,
   "id": "7e000ada-9bf0-4b0e-9069-e92ea24ffcfc",
   "metadata": {},
   "outputs": [],
   "source": []
  },
  {
   "cell_type": "markdown",
   "id": "404ad89d-0217-4bae-a5fc-ba74f2a3fb54",
   "metadata": {},
   "source": [
    "Q9. Calculate the z-score for a data point with a value of 75, a population mean of 70, and a population\n",
    "standard deviation of 5. Interpret the results."
   ]
  },
  {
   "cell_type": "code",
   "execution_count": null,
   "id": "11005c81-d409-4cde-9952-a2c740d45568",
   "metadata": {},
   "outputs": [],
   "source": [
    "Ans 9:-\n",
    "z = (X - μ) / σ\n",
    "X = 75\n",
    "μ = 70\n",
    "σ = 5\n",
    "z = (75 - 70) / 5\n",
    "z = 5 / 5\n",
    "z = 1"
   ]
  },
  {
   "cell_type": "code",
   "execution_count": null,
   "id": "083106cb-5ef6-4f39-bb0f-0dbed0c339ed",
   "metadata": {},
   "outputs": [],
   "source": []
  },
  {
   "cell_type": "markdown",
   "id": "457dcf22-4fa7-496c-aa38-436d6133ec21",
   "metadata": {},
   "source": [
    "Q10. In a study of the effectiveness of a new weight loss drug, a sample of 50 participants lost an average\n",
    "of 6 pounds with a standard deviation of 2.5 pounds. Conduct a hypothesis test to determine if the drug is\n",
    "significantly effective at a 95% confidence level using a t-test."
   ]
  },
  {
   "cell_type": "code",
   "execution_count": null,
   "id": "66823f7a-30ae-41b4-89d1-fa5dfd8650a0",
   "metadata": {},
   "outputs": [],
   "source": [
    "Ans 10:-\n",
    "To conduct a hypothesis test to determine if the weight loss drug is significantly effective, we can perform a one-sample t-test.\n",
    "The null and alternative hypotheses for the test are as follows:"
   ]
  },
  {
   "cell_type": "code",
   "execution_count": null,
   "id": "3d0065d7-1802-4a23-b3ad-e2881f307116",
   "metadata": {},
   "outputs": [],
   "source": [
    "Null Hypothesis (H0):\n",
    "    The weight loss drug is not significantly effective, and the average weight loss in the population is zero.\n",
    "Alternative Hypothesis (Ha):\n",
    "    The weight loss drug is significantly effective, and the average weight loss in the population is greater than zero."
   ]
  },
  {
   "cell_type": "code",
   "execution_count": null,
   "id": "d0c94c1f-2545-4262-8ab1-a4cf1f2be1fa",
   "metadata": {},
   "outputs": [],
   "source": [
    "t = (sample mean - hypothesized population mean) / (sample standard deviation / sqrt(sample size))"
   ]
  },
  {
   "cell_type": "code",
   "execution_count": null,
   "id": "951452a8-8626-45e2-bbe9-b86f2a3fc526",
   "metadata": {},
   "outputs": [],
   "source": [
    "Sample mean (X̄) = 6 pounds\n",
    "Sample standard deviation (s) = 2.5 pounds\n",
    "Sample size (n) = 50"
   ]
  },
  {
   "cell_type": "code",
   "execution_count": null,
   "id": "a323a23a-d384-4d88-a6d6-62594b45dfbb",
   "metadata": {},
   "outputs": [],
   "source": [
    "t = (6 - 0) / (2.5 / sqrt(50))\n",
    "t = 6 / (2.5 / 7.071)\n",
    "t = 6 / 0.354\n",
    "t = 16.949"
   ]
  },
  {
   "cell_type": "code",
   "execution_count": null,
   "id": "c2f5e3d9-7f74-42e6-82af-029f118da417",
   "metadata": {},
   "outputs": [],
   "source": [
    "Next, we need to find the degrees of freedom for the t-distribution. In this case, the degrees of freedom are n - 1 = 50 - 1 = 49."
   ]
  },
  {
   "cell_type": "code",
   "execution_count": null,
   "id": "f87f9a04-89c6-4732-a961-2fb7c40806c5",
   "metadata": {},
   "outputs": [],
   "source": [
    "Using the t-distribution table or a statistical software, we can find the critical t-value for a 95% confidence level with 49 degrees of freedom.\n",
    "Lets assume the critical t-value is 1.676 "
   ]
  },
  {
   "cell_type": "code",
   "execution_count": null,
   "id": "431e35be-8cd1-4c43-8d5d-ea458b3416cd",
   "metadata": {},
   "outputs": [],
   "source": [
    "Based on the one-sample t-test at a 95% confidence level, there is enough evidence to conclude that the weight loss drug is significantly effective,\n",
    "as the average weight loss in the sample is significantly greater than zero."
   ]
  },
  {
   "cell_type": "code",
   "execution_count": null,
   "id": "a7997018-66f1-49dc-a85e-61c292c4a04f",
   "metadata": {},
   "outputs": [],
   "source": []
  },
  {
   "cell_type": "markdown",
   "id": "d01fc550-aac0-4c4f-9cd8-f16ee39f5f30",
   "metadata": {},
   "source": [
    "Q11. In a survey of 500 people, 65% reported being satisfied with their current job. Calculate the 95%\n",
    "confidence interval for the true proportion of people who are satisfied with their job."
   ]
  },
  {
   "cell_type": "code",
   "execution_count": null,
   "id": "12829960-1d6d-4bc9-b3b2-a871ce88b9fd",
   "metadata": {},
   "outputs": [],
   "source": [
    "Ans 11:-\n",
    "To calculate the 95% confidence interval for the true proportion of people who are satisfied with their job, we can use the formula for the confidence interval\n",
    "for a proportion. "
   ]
  },
  {
   "cell_type": "code",
   "execution_count": null,
   "id": "4bb88c61-e506-4583-b81b-a7959bf764e5",
   "metadata": {},
   "outputs": [],
   "source": [
    "Confidence Interval = Sample Proportion ± Margin of Error"
   ]
  },
  {
   "cell_type": "code",
   "execution_count": null,
   "id": "6fcd19b3-4047-4c6c-b4b6-9f3549762d28",
   "metadata": {},
   "outputs": [],
   "source": [
    "Sample Proportion (p̂) = 0.65\n",
    "Sample Size (n) = 500\n",
    "Z (for 95% confidence level) = 1.96"
   ]
  },
  {
   "cell_type": "code",
   "execution_count": null,
   "id": "88425445-c658-4785-88d2-a8aff59936bb",
   "metadata": {},
   "outputs": [],
   "source": [
    "Margin of Error (ME) = 1.96 * sqrt((0.65 * (1 - 0.65)) / 500)\n",
    "Margin of Error (ME) = 1.96 * sqrt((0.65 * 0.35) / 500)\n",
    "Margin of Error (ME) = 1.96 * sqrt(0.2275 / 500)\n",
    "Margin of Error (ME) = 1.96 * 0.03004\n",
    "Margin of Error (ME) ≈ 0.059\n",
    "\n",
    "Confidence Interval = 0.65 ± 0.059\n",
    "\n",
    "Lower Limit of Confidence Interval = 0.65 - 0.059 ≈ 0.591\n",
    "Upper Limit of Confidence Interval = 0.65 + 0.059 ≈ 0.709\n",
    "\n",
    "The 95% confidence interval for the true proportion of people who are satisfied with their job is approximately (0.591, 0.709).\n",
    "This means that we can be 95% confident that the true proportion of people satisfied with their job lies between 59.1% and 70.9%."
   ]
  },
  {
   "cell_type": "code",
   "execution_count": null,
   "id": "662cb231-2400-43b1-a2d0-ed76bc36490b",
   "metadata": {},
   "outputs": [],
   "source": []
  },
  {
   "cell_type": "markdown",
   "id": "aa233ddc-236d-45e9-995b-9305dbb3ae57",
   "metadata": {},
   "source": [
    "Q12. A researcher is testing the effectiveness of two different teaching methods on student performance.\n",
    "Sample A has a mean score of 85 with a standard deviation of 6, while sample B has a mean score of 82\n",
    "with a standard deviation of 5. Conduct a hypothesis test to determine if the two teaching methods have a\n",
    "significant difference in student performance using a t-test with a significance level of 0.01."
   ]
  },
  {
   "cell_type": "code",
   "execution_count": null,
   "id": "9e2e0c70-125c-433f-97bb-801d70a9bcbd",
   "metadata": {},
   "outputs": [],
   "source": [
    "Ans 12:-\n",
    "To determine if there is a significant difference in student performance between the two teaching methods, we can conduct an independent samples t-test.\n",
    "The null hypothesis (H0) is that there is no difference between the means of the two groups, and the alternative hypothesis (Ha) is that there is a significant\n",
    "difference between the means.\n",
    "\n",
    "Null Hypothesis (H0): μA - μB = 0 (There is no difference in the means of the two groups)\n",
    "Alternative Hypothesis (Ha): μA - μB ≠ 0 (There is a significant difference in the means of the two groups)"
   ]
  },
  {
   "cell_type": "code",
   "execution_count": null,
   "id": "d32b94be-eb02-4ac7-bfaf-3ba01f0f54f0",
   "metadata": {},
   "outputs": [],
   "source": [
    "Where:\n",
    "μA is the population mean of sample A (teaching method A)\n",
    "μB is the population mean of sample B (teaching method B)"
   ]
  },
  {
   "cell_type": "code",
   "execution_count": null,
   "id": "9f0fdddf-78e9-47e1-a6ae-6ef19c6fa8de",
   "metadata": {},
   "outputs": [],
   "source": [
    "Given the following information:\n",
    "Sample A: Mean (x̄A) = 85, Standard Deviation (σA) = 6, Sample Size (nA) = ?\n",
    "Sample B: Mean (x̄B) = 82, Standard Deviation (σB) = 5, Sample Size (nB) = ?"
   ]
  },
  {
   "cell_type": "code",
   "execution_count": null,
   "id": "e423dfe6-46cf-4247-9d83-df15a698fd74",
   "metadata": {},
   "outputs": [],
   "source": [
    "We are not given the sample sizes (nA and nB), which are necessary to calculate the pooled standard deviation and conduct the t-test. \n",
    "Without the sample sizes, we cannot proceed with the t-test."
   ]
  },
  {
   "cell_type": "code",
   "execution_count": null,
   "id": "0b33d2eb-18e5-484c-90d5-b9c2180ca100",
   "metadata": {},
   "outputs": [],
   "source": [
    "To conduct the t-test, we would need to know the sample sizes for both groups (nA and nB).\n",
    "Once we have the sample sizes, we can calculate the pooled standard deviation, the test statistic (t-value), and compare it with the critical t-value at a\n",
    "significance level of 0.01 to determine if we can reject or fail to reject the null hypothesis."
   ]
  },
  {
   "cell_type": "code",
   "execution_count": null,
   "id": "b1d6052c-2e7f-424f-88b2-0df80f96e30e",
   "metadata": {},
   "outputs": [],
   "source": []
  },
  {
   "cell_type": "markdown",
   "id": "7d882399-af8c-4693-9a24-4ee4c5bffd8d",
   "metadata": {},
   "source": [
    "Q13. A population has a mean of 60 and a standard deviation of 8. A sample of 50 observations has a mean\n",
    "of 65. Calculate the 90% confidence interval for the true population mean."
   ]
  },
  {
   "cell_type": "code",
   "execution_count": null,
   "id": "9ab7c9af-a88a-4a6c-b568-709ef21e9efe",
   "metadata": {},
   "outputs": [],
   "source": [
    "Ans 13:-\n",
    "To calculate the 90% confidence interval for the true population mean, we can use the formula:\n",
    "Confidence Interval = sample mean ± (critical value) * (standard error)"
   ]
  },
  {
   "cell_type": "code",
   "execution_count": null,
   "id": "38e541a8-78c4-42b2-9d73-507269c6dc0f",
   "metadata": {},
   "outputs": [],
   "source": [
    "Confidence Interval = 65 ± 1.645 * 1.131\n",
    "\n",
    "Lower Limit = 65 - (1.645 * 1.131) ≈ 63.13\n",
    "Upper Limit = 65 + (1.645 * 1.131) ≈ 66.87"
   ]
  },
  {
   "cell_type": "code",
   "execution_count": null,
   "id": "6148ac68-fc90-4566-afbf-a37e684e67ab",
   "metadata": {},
   "outputs": [],
   "source": [
    "Therefore, the 90% confidence interval for the true population mean is approximately 63.13 to 66.87."
   ]
  },
  {
   "cell_type": "code",
   "execution_count": null,
   "id": "8eecc178-437a-44b4-b713-adce57bdda6b",
   "metadata": {},
   "outputs": [],
   "source": []
  },
  {
   "cell_type": "markdown",
   "id": "af4a284e-04d7-436b-b11f-ce9b386458a8",
   "metadata": {},
   "source": [
    "Q14. In a study of the effects of caffeine on reaction time, a sample of 30 participants had an average\n",
    "reaction time of 0.25 seconds with a standard deviation of 0.05 seconds. Conduct a hypothesis test to\n",
    "determine if the caffeine has a significant effect on reaction time at a 90% confidence level using a t-test."
   ]
  },
  {
   "cell_type": "code",
   "execution_count": null,
   "id": "2a698776-791c-4691-8623-a703542f5d93",
   "metadata": {},
   "outputs": [],
   "source": [
    "Ans 14:-\n",
    "Null Hypothesis (H0): Caffeine does not have a significant effect on reaction time.\n",
    "Alternative Hypothesis (Ha): Caffeine has a significant effect on reaction time."
   ]
  },
  {
   "cell_type": "code",
   "execution_count": null,
   "id": "1a3a1168-9a55-4b02-b030-8be06358cde3",
   "metadata": {},
   "outputs": [],
   "source": [
    "Given:\n",
    "Sample size (n) = 30\n",
    "Sample mean (x̄) = 0.25 seconds\n",
    "Sample standard deviation (s) = 0.05 seconds\n",
    "Confidence level = 90% (α = 0.10)"
   ]
  },
  {
   "cell_type": "code",
   "execution_count": null,
   "id": "32d6fe28-40b6-4512-8daa-9111189d15d7",
   "metadata": {},
   "outputs": [],
   "source": [
    "Next, we calculate the t-statistic using the formula:\n",
    "t = (x̄ - μ) / (s / √n)"
   ]
  },
  {
   "cell_type": "code",
   "execution_count": null,
   "id": "612d0d28-1cb4-40c0-bb87-0f69b5bcbccc",
   "metadata": {},
   "outputs": [],
   "source": [
    "t = (0.25 - 0) / (0.05 / √30) ≈ 6.708"
   ]
  },
  {
   "cell_type": "code",
   "execution_count": null,
   "id": "3ce95c9a-4ec6-431f-838c-951507b396b8",
   "metadata": {},
   "outputs": [],
   "source": [
    "Since the calculated t-value (6.708) is much larger than the critical t-value (1.699), we can reject the null hypothesis."
   ]
  },
  {
   "cell_type": "code",
   "execution_count": null,
   "id": "1216d8ec-20c9-4257-b0b4-b5884ece100e",
   "metadata": {},
   "outputs": [],
   "source": [
    "Conclusion: At a 90% confidence level, there is sufficient evidence to suggest that caffeine has a significant effect on reaction time, as the\n",
    "t-test statistic is significant at the 0.10 level of significance."
   ]
  }
 ],
 "metadata": {
  "kernelspec": {
   "display_name": "Python 3 (ipykernel)",
   "language": "python",
   "name": "python3"
  },
  "language_info": {
   "codemirror_mode": {
    "name": "ipython",
    "version": 3
   },
   "file_extension": ".py",
   "mimetype": "text/x-python",
   "name": "python",
   "nbconvert_exporter": "python",
   "pygments_lexer": "ipython3",
   "version": "3.10.8"
  }
 },
 "nbformat": 4,
 "nbformat_minor": 5
}
