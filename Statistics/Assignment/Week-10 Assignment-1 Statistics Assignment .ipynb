{
 "cells": [
  {
   "cell_type": "markdown",
   "id": "a637c6fe-b608-415a-9505-9137b2c9a8de",
   "metadata": {},
   "source": [
    "Q1. What is Statistics?"
   ]
  },
  {
   "cell_type": "code",
   "execution_count": null,
   "id": "46a79d6e-b20e-4d06-b4cc-29baa023f067",
   "metadata": {},
   "outputs": [],
   "source": [
    "Ans 1:- \n",
    "Statistics deals with the collection, analysis, interpretation, presentation, and organization of data.\n",
    "It involves the methods and techniques for collecting, summarizing, and analyzing data to make inferences, draw conclusions, and make informed decisions."
   ]
  },
  {
   "cell_type": "code",
   "execution_count": null,
   "id": "feebf320-532a-4ab6-9508-0a29ef4495f1",
   "metadata": {},
   "outputs": [],
   "source": []
  },
  {
   "cell_type": "markdown",
   "id": "45bb49ce-63cb-4931-9f77-2fd38ff22509",
   "metadata": {},
   "source": [
    "Q2. Define the different types of statistics and give an example of when each type might be used."
   ]
  },
  {
   "cell_type": "code",
   "execution_count": null,
   "id": "34b6a2ab-e337-449d-8e2a-965496559f7e",
   "metadata": {},
   "outputs": [],
   "source": [
    "Ans 2:- There are two main types of statistics: descriptive statistics and inferential statistics."
   ]
  },
  {
   "cell_type": "code",
   "execution_count": null,
   "id": "80c61f3e-f4a4-4764-8e84-0430e425dec4",
   "metadata": {},
   "outputs": [],
   "source": [
    "Descriptive Statistics:\n",
    "    Descriptive statistics involves the methods and techniques used to summarize and describe the main features of a dataset.\n",
    "    It provides measures of central tendency, variability, and distribution of the data"
   ]
  },
  {
   "cell_type": "code",
   "execution_count": null,
   "id": "03a18c98-474e-4c21-9838-adad21619ecf",
   "metadata": {},
   "outputs": [],
   "source": [
    "Examples of descriptive statistics include:Mean,Median,Histogram"
   ]
  },
  {
   "cell_type": "code",
   "execution_count": null,
   "id": "4d946e17-6e4f-4cef-8050-0ef84342f6dd",
   "metadata": {},
   "outputs": [],
   "source": [
    "Inferential Statistics:\n",
    "    Inferential statistics involves using sample data to make inferences or draw conclusions about a larger population.\n",
    "    It allows us to make predictions, test hypotheses, and estimate population parameters based on sample statistics. "
   ]
  },
  {
   "cell_type": "code",
   "execution_count": null,
   "id": "d7cef8e4-4c63-4fed-8106-ce4b900fc061",
   "metadata": {},
   "outputs": [],
   "source": [
    "Examples of inferential statistics include:Hypothesis Testing,Confidence Intervals,Regression Analysis"
   ]
  },
  {
   "cell_type": "code",
   "execution_count": null,
   "id": "134ae148-b6d5-4b77-9dff-bde822e85c05",
   "metadata": {},
   "outputs": [],
   "source": []
  },
  {
   "cell_type": "markdown",
   "id": "213501bc-3e94-42e6-8f4a-575fe5c5e139",
   "metadata": {},
   "source": [
    "Q3. What are the different types of data and how do they differ from each other? Provide an example of\n",
    "each type of data."
   ]
  },
  {
   "cell_type": "code",
   "execution_count": null,
   "id": "c3066e7a-3378-434a-8d0c-99640073211b",
   "metadata": {},
   "outputs": [],
   "source": [
    "Ans 3:-\n",
    "Nominal Data:\n",
    "    Nominal data consists of categories or labels that do not have any inherent order or numerical value.\n",
    "    The categories are distinct and mutually exclusive\n",
    "    Gender (e.g., male, female)\n",
    "    Marital status (e.g., single, married, divorced)\n",
    "    Eye color (e.g., blue, green, brown)"
   ]
  },
  {
   "cell_type": "code",
   "execution_count": null,
   "id": "b3326239-c3c0-484b-99a5-b4b852c4e880",
   "metadata": {},
   "outputs": [],
   "source": [
    "Ordinal Data:\n",
    "    Ordinal data represents categories or labels with an inherent order or ranking.\n",
    "    The intervals between the categories may not be equal. \n",
    "    Education level (e.g., elementary, high school, college, graduate)\n",
    "    Satisfaction rating (e.g., very dissatisfied, dissatisfied, neutral, satisfied, very satisfied)\n",
    "    Likert scale responses (e.g., strongly disagree, disagree, neutral, agree, strongly agree)"
   ]
  },
  {
   "cell_type": "code",
   "execution_count": null,
   "id": "0dfae61e-ab1c-4967-a902-453a614ee56c",
   "metadata": {},
   "outputs": [],
   "source": [
    "Interval Data:\n",
    "    Interval data is numeric data where the intervals between values are equal, but there is no meaningful zero point.\n",
    "    Temperature measured in Celsius or Fahrenheit (e.g., 20°C, 35°F)\n",
    "    Calendar dates (e.g., January 1st, February 15th)\n",
    "    IQ scores (e.g., 100, 120, 140)"
   ]
  },
  {
   "cell_type": "code",
   "execution_count": null,
   "id": "76603657-150e-45e7-bebf-b2b01e7d6853",
   "metadata": {},
   "outputs": [],
   "source": [
    "Ratio Data:\n",
    "    Ratio data is numeric data where the intervals between values are equal, and there is a meaningful zero point.\n",
    "    Ratio data allows for meaningful comparisons of ratios and proportions.\n",
    "    Height (e.g., 150 cm, 180 cm)\n",
    "    Weight (e.g., 50 kg, 80 kg)\n",
    "    Time (e.g., 10 seconds, 2 minutes)"
   ]
  },
  {
   "cell_type": "code",
   "execution_count": null,
   "id": "aa2feefe-0304-44e3-a63c-0e2d40ad162f",
   "metadata": {},
   "outputs": [],
   "source": []
  },
  {
   "cell_type": "markdown",
   "id": "bd36bc1f-1c64-41dd-b3e3-fa4f12a1366a",
   "metadata": {},
   "source": [
    "Q4. Categorise the following datasets with respect to quantitative and qualitative data types:\n",
    "(i) Grading in exam: A+, A, B+, B, C+, C, D, E\n",
    "(ii) Colour of mangoes: yellow, green, orange, red\n",
    "(iii) Height data of a class: [178.9, 179, 179.5, 176, 177.2, 178.3, 175.8,...]\n",
    "(iv) Number of mangoes exported by a farm: [500, 600, 478, 672, ...]"
   ]
  },
  {
   "cell_type": "code",
   "execution_count": null,
   "id": "5ecafdad-95cf-4d00-ba47-a773ffde7d69",
   "metadata": {},
   "outputs": [],
   "source": [
    "Ans 4:-\n",
    "Grading in exam: Qualitative (ordinal) data.\n",
    "Colour of mangoes: Qualitative (nominal) data. \n",
    "Height data of a class: Quantitative (continuous) data.\n",
    "Number of mangoes exported by a farm: Quantitative (discrete) data."
   ]
  },
  {
   "cell_type": "code",
   "execution_count": null,
   "id": "8767b668-6797-4f54-9227-80020df108aa",
   "metadata": {},
   "outputs": [],
   "source": []
  },
  {
   "cell_type": "markdown",
   "id": "2604195b-c1bf-48b9-927a-2f9a80ab2b7d",
   "metadata": {},
   "source": [
    "Q5. Explain the concept of levels of measurement and give an example of a variable for each level."
   ]
  },
  {
   "cell_type": "code",
   "execution_count": null,
   "id": "caba47bf-06ed-4b7b-aa6a-15826af4ca8c",
   "metadata": {},
   "outputs": [],
   "source": [
    "Ans 5:-\n",
    "Nominal level:\n",
    "    This is the lowest level of measurement, where data is categorized into distinct groups or categories.\n",
    "    Examples include gender (male/female), eye color (blue/brown/green), or car brands (Toyota/Honda/Ford)."
   ]
  },
  {
   "cell_type": "code",
   "execution_count": null,
   "id": "13387c57-3a40-453e-8db3-a809e879b03a",
   "metadata": {},
   "outputs": [],
   "source": [
    "Ordinal level:\n",
    "    In this level, data can be categorized and ranked in a specific order, but the differences between categories may not be uniform.\n",
    "    Examples include educational levels (high school/diploma/undergraduate/postgraduate) or survey ratings (strongly agree/agree/neutral/disagree/strongly disagree)."
   ]
  },
  {
   "cell_type": "code",
   "execution_count": null,
   "id": "bd9c2c0b-8afa-4dfd-96b1-fc97ab773e00",
   "metadata": {},
   "outputs": [],
   "source": [
    "Interval level:\n",
    "    At this level, data can be categorized and ranked, and the differences between categories are uniform.\n",
    "    However, there is no true zero point.\n",
    "    Examples include temperature measured in Celsius or Fahrenheit, where zero does not indicate the absence of temperature."
   ]
  },
  {
   "cell_type": "code",
   "execution_count": null,
   "id": "0cad4425-f42d-4f32-8eed-ea66a9b7bb51",
   "metadata": {},
   "outputs": [],
   "source": [
    "Ratio level:\n",
    "    This is the highest level of measurement, where data can be categorized, ranked, and the differences between categories are uniform.\n",
    "    Additionally, it has a true zero point, indicating the absence of the variable.\n",
    "    Examples include height, weight, or time in seconds."
   ]
  },
  {
   "cell_type": "code",
   "execution_count": null,
   "id": "0a1f998a-0ae7-4de9-afd9-59589af366b2",
   "metadata": {},
   "outputs": [],
   "source": []
  },
  {
   "cell_type": "markdown",
   "id": "8ff26844-0402-4fe5-817a-430e7022324c",
   "metadata": {},
   "source": [
    "Q6. Why is it important to understand the level of measurement when analyzing data? Provide an\n",
    "example to illustrate your answer."
   ]
  },
  {
   "cell_type": "code",
   "execution_count": null,
   "id": "75c9798f-220b-48f3-a5ff-da1ca4ddc2ed",
   "metadata": {},
   "outputs": [],
   "source": [
    "Ans 6:-Understanding the level of measurement is important when analyzing data because it determines the appropriate statistical techniques and operations that can be applied to the data. "
   ]
  },
  {
   "cell_type": "code",
   "execution_count": null,
   "id": "41b9385d-1fdb-43b7-8a2e-295a1ecd9424",
   "metadata": {},
   "outputs": [],
   "source": [
    "For example, consider a research study that collects data on the level of customer satisfaction for a product using a Likert scale\n",
    "(e.g.strongly disagree, disagree, neutral, agree, strongly agree).\n",
    "The level of measurement for this data would be ordinal because the responses can be ranked but the differences between categories may not be equal."
   ]
  },
  {
   "cell_type": "code",
   "execution_count": null,
   "id": "f8420b3f-7759-4805-a5c0-6037f2d84de0",
   "metadata": {},
   "outputs": [],
   "source": []
  },
  {
   "cell_type": "markdown",
   "id": "838eba6f-76fd-48c6-8411-ec6137ead7a9",
   "metadata": {},
   "source": [
    "Q7. How nominal data type is different from ordinal data type."
   ]
  },
  {
   "cell_type": "code",
   "execution_count": null,
   "id": "3c464eca-825c-4841-ba7a-ec7215235702",
   "metadata": {},
   "outputs": [],
   "source": [
    "Ans 7:-Nominal and ordinal data types are both categorical data types, but they differ in terms of the level of measurement and the characteristics of the categories."
   ]
  },
  {
   "cell_type": "code",
   "execution_count": null,
   "id": "661cd70f-b658-45cd-aa22-95d4d653e4c5",
   "metadata": {},
   "outputs": [],
   "source": [
    "Nominal Data:\n",
    "    Nominal data represents categories that have no inherent order or ranking.\n",
    "    The categories are mutually exclusive and there is no numerical or logical relationship between them.\n",
    "    Examples of nominal data include gender (male, female), eye color (blue, brown, green), and car brands (Toyota, Ford, Honda).\n",
    "    Nominal data can be represented using labels, codes, or words."
   ]
  },
  {
   "cell_type": "code",
   "execution_count": null,
   "id": "c586d7b3-160a-497d-ba2d-6cd464f6a107",
   "metadata": {},
   "outputs": [],
   "source": [
    "Ordinal Data:\n",
    "    Ordinal data represents categories that have a specific order or ranking.\n",
    "    The categories have a relative position or hierarchy, indicating more or less of a certain characteristic.\n",
    "    The differences between categories may not be uniform or quantifiable.\n",
    "    Examples of ordinal data include educational levels (elementary, high school, college), Likert scale responses (strongly disagree, disagree, neutral, agree, strongly agree), and survey ratings (poor, fair, good, excellent).\n",
    "    Ordinal data can be represented using labels, codes, or numbers."
   ]
  },
  {
   "cell_type": "code",
   "execution_count": null,
   "id": "ce26ed7b-faf6-4214-a154-6811302bfdac",
   "metadata": {},
   "outputs": [],
   "source": []
  },
  {
   "cell_type": "markdown",
   "id": "7b2fb4b4-6982-4967-b1d3-9b61c862ad35",
   "metadata": {},
   "source": [
    "Q8. Which type of plot can be used to display data in terms of range?"
   ]
  },
  {
   "cell_type": "code",
   "execution_count": null,
   "id": "be1e03ea-43d9-449f-aef4-9fc214a2e4ea",
   "metadata": {},
   "outputs": [],
   "source": [
    "Ans 8:-A box plot, also known as a box-and-whisker plot, is commonly used to display data in terms of range.\n",
    "    It provides a visual representation of the distribution of a dataset by showing the minimum, first quartile, median, third quartile, and maximum values."
   ]
  },
  {
   "cell_type": "code",
   "execution_count": null,
   "id": "4b7aeff7-8f1b-4f32-bf44-29e8f89ae843",
   "metadata": {},
   "outputs": [],
   "source": []
  },
  {
   "cell_type": "markdown",
   "id": "725cad72-f89c-42eb-a2b3-f0be8a6bb086",
   "metadata": {},
   "source": [
    "Q9. Describe the difference between descriptive and inferential statistics. Give an example of each\n",
    "type of statistics and explain how they are used."
   ]
  },
  {
   "cell_type": "code",
   "execution_count": null,
   "id": "2bd37767-f2d6-4e19-ac6d-45d5d6f9a49a",
   "metadata": {},
   "outputs": [],
   "source": [
    "Ans 9:-\n",
    "Descriptive Statistics:\n",
    "    Descriptive statistics involve organizing, summarizing, and presenting data in a meaningful way.\n",
    "    It focuses on describing the main characteristics of a dataset, such as central tendency (mean, median, mode), dispersion (range, standard deviation), and\n",
    "    shape (skewness, kurtosis)."
   ]
  },
  {
   "cell_type": "code",
   "execution_count": null,
   "id": "8ff5603e-5ad6-40b8-b0db-797af2baf23d",
   "metadata": {},
   "outputs": [],
   "source": [
    "Example:\n",
    "    Suppose you have collected data on the heights of students in a class.\n",
    "    Descriptive statistics would involve calculating measures such as the mean height, median height, and standard deviation to describe the central tendency and variability of the heights within the class. "
   ]
  },
  {
   "cell_type": "code",
   "execution_count": null,
   "id": "c590b1a4-d28e-4d71-bb53-2ac6ee7cfbda",
   "metadata": {},
   "outputs": [],
   "source": [
    "Inferential Statistics:\n",
    "    Inferential statistics involves making inferences, predictions, or generalizations about a population based on sample data.\n",
    "    It aims to draw conclusions or make statements about a larger population by analyzing a subset of the population (sample). "
   ]
  },
  {
   "cell_type": "code",
   "execution_count": null,
   "id": "ce8ae8a1-0ab5-4e7f-9aef-5efa438f36d5",
   "metadata": {},
   "outputs": [],
   "source": [
    "Example:\n",
    "    Suppose you want to determine if there is a significant difference in the mean heights between male and female students in a school. "
   ]
  },
  {
   "cell_type": "code",
   "execution_count": null,
   "id": "a443381d-768c-45d8-a091-f9dc84741b53",
   "metadata": {},
   "outputs": [],
   "source": []
  },
  {
   "cell_type": "markdown",
   "id": "c1d576b0-4400-44e4-a4e7-54ef38c11811",
   "metadata": {},
   "source": [
    "Q10. What are some common measures of central tendency and variability used in statistics? Explain\n",
    "how each measure can be used to describe a dataset."
   ]
  },
  {
   "cell_type": "code",
   "execution_count": null,
   "id": "cc67b8c6-169e-4951-b00a-c191f4c8a132",
   "metadata": {},
   "outputs": [],
   "source": [
    "Ans 10:-\n",
    "Measures of Central Tendency:\n",
    "\n",
    "Mean: \n",
    "    The mean is the average value of a dataset.\n",
    "    It is calculated by summing all the values and dividing by the number of observations.\n",
    "    The mean provides a measure of the central value around which the data points are distributed.\n",
    "    \n",
    "    \n",
    "Median:\n",
    "    The median is the middle value of a dataset when the observations are arranged in ascending or descending order.\n",
    "    It divides the dataset into two equal halves.\n",
    "    The median is useful when there are outliers or when the data is skewed.\n",
    "    \n",
    "    \n",
    "Mode:\n",
    "    The mode is the value that occurs most frequently in a dataset.\n",
    "    It represents the most common observation or category.\n",
    "    The mode is useful for categorical data or when identifying the most typical value."
   ]
  },
  {
   "cell_type": "code",
   "execution_count": null,
   "id": "61bba6e9-bcff-4ec7-a5f9-21ca00dbdf10",
   "metadata": {},
   "outputs": [],
   "source": [
    "Measures of Variability:\n",
    "    \n",
    "Range:\n",
    "    The range is the difference between the maximum and minimum values in a dataset.\n",
    "    It provides an indication of the spread or dispersion of the data.\n",
    "    However, it is sensitive to outliers and may not accurately represent the variability.\n",
    "    \n",
    "    \n",
    "Variance:\n",
    "    The variance measures the average squared deviation of each data point from the mean.\n",
    "    It provides a measure of how the data points are spread around the mean.\n",
    "    A higher variance indicates greater dispersion.\n",
    "    \n",
    "    \n",
    "Standard Deviation:\n",
    "    The standard deviation is the square root of the variance.\n",
    "    It provides a measure of the average distance between each data point and the mean. \n",
    "    A smaller standard deviation indicates less dispersion and more closely clustered data points."
   ]
  }
 ],
 "metadata": {
  "kernelspec": {
   "display_name": "Python 3 (ipykernel)",
   "language": "python",
   "name": "python3"
  },
  "language_info": {
   "codemirror_mode": {
    "name": "ipython",
    "version": 3
   },
   "file_extension": ".py",
   "mimetype": "text/x-python",
   "name": "python",
   "nbconvert_exporter": "python",
   "pygments_lexer": "ipython3",
   "version": "3.10.8"
  }
 },
 "nbformat": 4,
 "nbformat_minor": 5
}
