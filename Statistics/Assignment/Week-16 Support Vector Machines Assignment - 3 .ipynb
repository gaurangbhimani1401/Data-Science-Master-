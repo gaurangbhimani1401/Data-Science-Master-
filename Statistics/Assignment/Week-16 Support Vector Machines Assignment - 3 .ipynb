{
 "cells": [
  {
   "cell_type": "markdown",
   "id": "5b46cd26-ffda-460d-b12c-f1f8a789189a",
   "metadata": {},
   "source": [
    "Q1. In order to predict house price based on several characteristics, such as location, square footage,\n",
    "number of bedrooms, etc., you are developing an SVM regression model. Which regression metric in this\n",
    "situation would be the best to employ?"
   ]
  },
  {
   "cell_type": "code",
   "execution_count": null,
   "id": "42b4fc5b-147e-4237-8ce6-00abd34161a1",
   "metadata": {},
   "outputs": [],
   "source": [
    "Ans 1:- In the context of developing an SVM regression model to predict house prices based on various characteristics, you typically want to use regression metrics \n",
    "that measure the accuracy of the models predictions. \n",
    "One of the most common regression metrics used for this purpose is the Mean Absolute Error (MAE)."
   ]
  },
  {
   "cell_type": "code",
   "execution_count": null,
   "id": "359792f6-6370-4a80-8bbc-65cc7f419f8c",
   "metadata": {},
   "outputs": [],
   "source": [
    "Mean Absolute Error (MAE) calculates the average absolute differences between the predicted house prices and the actual house prices. \n",
    "It gives you a measure of the average prediction error in the same units as your target variable (e.g., dollars for house prices).\n",
    "Lower MAE values indicate better model performance, as they represent smaller prediction errors."
   ]
  },
  {
   "cell_type": "code",
   "execution_count": null,
   "id": "fea2b7f2-6dd9-4535-af3a-390125f05d69",
   "metadata": {},
   "outputs": [],
   "source": [
    "Mean Squared Error (MSE):\n",
    "    MSE measures the average squared differences between actual and predicted values. \n",
    "    It provides higher penalties for large errors and is commonly used for regression tasks.\n",
    "\n",
    "Root Mean Squared Error (RMSE):\n",
    "    RMSE is the square root of the MSE and provides a measure of the average magnitude of errors in the same units as the target variable.\n",
    "\n",
    "R-squared (R2): \n",
    "    R-squared measures the proportion of the variance in the target variable that is explained by the model.\n",
    "    A higher R-squared indicates a better fit, but it doesnt provide information about prediction errors."
   ]
  },
  {
   "cell_type": "code",
   "execution_count": null,
   "id": "e0a8af4c-74b4-41b7-99c3-e00c533e1f4b",
   "metadata": {},
   "outputs": [],
   "source": []
  },
  {
   "cell_type": "markdown",
   "id": "ae8a0575-dcd0-4d39-93a8-5705338354c6",
   "metadata": {},
   "source": [
    "Q2. You have built an SVM regression model and are trying to decide between using MSE or R-squared as\n",
    "your evaluation metric. Which metric would be more appropriate if your goal is to predict the actual price\n",
    "of a house as accurately as possible?"
   ]
  },
  {
   "cell_type": "code",
   "execution_count": null,
   "id": "e1c9398c-83ca-4801-bf23-36c3fd59b65b",
   "metadata": {},
   "outputs": [],
   "source": [
    "Ans 2:-When your goal is to predict the actual price of a house as accurately as possible using an SVM regression model, the Mean Squared Error (MSE) is the more \n",
    "appropriate evaluation metric."
   ]
  },
  {
   "cell_type": "code",
   "execution_count": null,
   "id": "e0a66533-dab2-4675-b0d3-e0f34ceca9e7",
   "metadata": {},
   "outputs": [],
   "source": [
    "MSE (Mean Squared Error): \n",
    "    MSE measures the average of the squared differences between the predicted values and the actual values.\n",
    "    It is the most commonly used metric for regression tasks, including house price prediction. \n",
    "    Larger errors are penalized more heavily, making it a suitable choice when the primary objective is to minimize prediction errors and get as close to the actual \n",
    "    house prices as possible.\n",
    "\n",
    "MSE = (1/n) * Σ (actual_price - predicted_price)²\n",
    "\n",
    "R-squared (R2):\n",
    "    R-squared measures the proportion of the variance in the target variable (house prices) that is explained by the model. \n",
    "    While R-squared can provide insights into how well the independent variables explain the variation in the target variable, it doesnt directly measure prediction \n",
    "    accuracy. \n",
    "    A high R-squared indicates a good fit, but it doesnt ensure that your predictions are accurate in terms of actual house prices."
   ]
  },
  {
   "cell_type": "code",
   "execution_count": null,
   "id": "c3ea20e0-36c6-4415-b721-4d33346e4e4b",
   "metadata": {},
   "outputs": [],
   "source": []
  },
  {
   "cell_type": "markdown",
   "id": "99531a02-5770-4a07-b298-5abd04c7523c",
   "metadata": {},
   "source": [
    "Q3. You have a dataset with a significant number of outliers and are trying to select an appropriate\n",
    "regression metric to use with your SVM model. Which metric would be the most appropriate in this\n",
    "scenario?"
   ]
  },
  {
   "cell_type": "code",
   "execution_count": null,
   "id": "786e4a4e-b8fa-4058-9830-3be4eea1792e",
   "metadata": {},
   "outputs": [],
   "source": [
    "Ans 3:-When dealing with a dataset that contains a significant number of outliers, the Mean Absolute Error (MAE) is often the most appropriate regression metric to \n",
    "use with your SVM model."
   ]
  },
  {
   "cell_type": "code",
   "execution_count": null,
   "id": "b811778b-5968-4590-8f52-112b10df024d",
   "metadata": {},
   "outputs": [],
   "source": [
    "Robustness to Outliers:\n",
    "    MAE is less sensitive to outliers compared to metrics like Mean Squared Error (MSE). \n",
    "    Outliers have a significant impact on MSE because of the squared differences, which can lead to large errors. \n",
    "    In contrast, MAE treats all errors equally, making it a more robust choice when outliers are present.\n",
    "\n",
    "Absolute Differences: \n",
    "    MAE measures the average absolute differences between predicted values and actual values. \n",
    "    This property ensures that outliers, which can have disproportionately large errors, are considered but not excessively penalized.\n",
    "\n",
    "Interpretability: \n",
    "    MAE provides results in the same unit as the target variable (e.g., house prices), which makes it easier to interpret and explain the models performance, \n",
    "    especially when outliers are present."
   ]
  },
  {
   "cell_type": "code",
   "execution_count": null,
   "id": "dfc1b08c-7d64-42c7-8cd5-dd85c522cb36",
   "metadata": {},
   "outputs": [],
   "source": []
  },
  {
   "cell_type": "markdown",
   "id": "ebd09840-1867-42d2-9cb9-119fe154087d",
   "metadata": {},
   "source": [
    "Q4. You have built an SVM regression model using a polynomial kernel and are trying to select the best\n",
    "metric to evaluate its performance. You have calculated both MSE and RMSE and found that both values\n",
    "are very close. Which metric should you choose to use in this case?"
   ]
  },
  {
   "cell_type": "code",
   "execution_count": null,
   "id": "f2c0e520-8d61-489e-9405-9e3af5c7deb2",
   "metadata": {},
   "outputs": [],
   "source": [
    "Ans 4:-\n",
    "In a scenario where you have built an SVM regression model using a polynomial kernel, and both the Mean Squared Error (MSE) and Root Mean Squared Error (RMSE) are \n",
    "very close, its generally a good practice to choose the RMSE as the metric for evaluating the model's performance."
   ]
  },
  {
   "cell_type": "code",
   "execution_count": null,
   "id": "3cebbc00-2f0c-4ad3-8353-7d2ea571bf52",
   "metadata": {},
   "outputs": [],
   "source": [
    "Interpretability: \n",
    "    RMSE is more interpretable than MSE because it is in the same unit as the target variable. \n",
    "    This means that the RMSE value provides a direct measure of how much your predictions deviate from the actual values. \n",
    "    This makes it easier to convey the models performance to stakeholders or non-technical audiences.\n",
    "\n",
    "Sensitivity to Scale: \n",
    "    RMSE is sensitive to the scale of the data. \n",
    "    If you have features or target variables with different units or magnitudes, using RMSE can ensure that all variables are on a consistent scale, making it easier\n",
    "    to compare the error to the size of the predictions.\n",
    "\n",
    "Root Transformation: \n",
    "    RMSE is a variant of MSE, where the square root is taken of the error values. \n",
    "    This transformation helps to mitigate the impact of outliers, which is valuable for improving the robustness of your evaluation metric."
   ]
  },
  {
   "cell_type": "code",
   "execution_count": null,
   "id": "fcbd4852-955a-483b-b15a-1a76a57db228",
   "metadata": {},
   "outputs": [],
   "source": []
  },
  {
   "cell_type": "markdown",
   "id": "96b1703c-5a24-4d9b-8e79-f1e55bf53cb4",
   "metadata": {},
   "source": [
    "Q5. You are comparing the performance of different SVM regression models using different kernels (linear,\n",
    "polynomial, and RBF) and are trying to select the best evaluation metric. Which metric would be most\n",
    "appropriate if your goal is to measure how well the model explains the variance in the target variable?"
   ]
  },
  {
   "cell_type": "code",
   "execution_count": null,
   "id": "f8a737d4-e489-415c-a934-88cd1ad412f0",
   "metadata": {},
   "outputs": [],
   "source": [
    "Ans 5:-When comparing the performance of different SVM regression models with various kernels (linear, polynomial, and RBF) and your goal is to measure how well the \n",
    "model explains the variance in the target variable, the most appropriate evaluation metric is R-squared (R^2), also known as the coefficient of determination."
   ]
  },
  {
   "cell_type": "code",
   "execution_count": null,
   "id": "bb97186a-fec8-4e7f-a37e-e1b96bba30f5",
   "metadata": {},
   "outputs": [],
   "source": [
    "R-squared quantifies the proportion of the variance in the target variable that is explained by the model. Specifically, R-squared ranges from 0 to 1, where:\n",
    "\n",
    "An R-squared value of 0 means that the model explains none of the variance in the target variable.\n",
    "An R-squared value of 1 indicates that the model explains all of the variance in the target variable."
   ]
  },
  {
   "cell_type": "code",
   "execution_count": null,
   "id": "de67ee1e-96bf-4a54-8b9e-82a7dc892ef6",
   "metadata": {},
   "outputs": [],
   "source": [
    "In this context, R-squared is a suitable choice because it directly measures how well the model accounts for the variance in the target variable, providing insights \n",
    "into the models goodness of fit. \n",
    "Higher R-squared values suggest a better fit, indicating that a larger proportion of the variance in the target variable is explained by the model."
   ]
  }
 ],
 "metadata": {
  "kernelspec": {
   "display_name": "Python 3 (ipykernel)",
   "language": "python",
   "name": "python3"
  },
  "language_info": {
   "codemirror_mode": {
    "name": "ipython",
    "version": 3
   },
   "file_extension": ".py",
   "mimetype": "text/x-python",
   "name": "python",
   "nbconvert_exporter": "python",
   "pygments_lexer": "ipython3",
   "version": "3.10.8"
  }
 },
 "nbformat": 4,
 "nbformat_minor": 5
}
