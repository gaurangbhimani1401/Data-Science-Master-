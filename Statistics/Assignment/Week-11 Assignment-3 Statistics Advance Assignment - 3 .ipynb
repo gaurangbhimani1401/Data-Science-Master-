{
 "cells": [
  {
   "cell_type": "markdown",
   "id": "11fccd6f-0da5-4373-88f4-a04d86505284",
   "metadata": {},
   "source": [
    "Q1: What is Estimation Statistics? Explain point estimate and interval estimate."
   ]
  },
  {
   "cell_type": "code",
   "execution_count": null,
   "id": "103630b9-7e0c-4168-bc58-3b196097ee7e",
   "metadata": {},
   "outputs": [],
   "source": [
    "Ans 1:-\n",
    "Estimation statistics is a branch of statistics that involves making inferences and predictions about population parameters based on sample data.\n",
    "It allows us to estimate or approximate unknown population parameters using sample statistics. "
   ]
  },
  {
   "cell_type": "code",
   "execution_count": null,
   "id": "7b540e3f-7334-466c-bbae-6d93ee6aa009",
   "metadata": {},
   "outputs": [],
   "source": [
    "Point Estimate:\n",
    "Point estimate is a single value that is used to estimate an unknown population parameter.\n",
    "It is obtained by using a sample statistic, such as the sample mean or sample proportion, as an estimate of the corresponding population parameter, such as\n",
    "the population mean or population proportion."
   ]
  },
  {
   "cell_type": "code",
   "execution_count": null,
   "id": "f7e2159d-b694-419a-a309-987d74b15b88",
   "metadata": {},
   "outputs": [],
   "source": [
    "Interval Estimate (Confidence Interval):\n",
    "Interval estimate, also known as a confidence interval, provides a range of values within which the unknown population parameter is likely\n",
    "to lie, along with a level of confidence associated with that range.\n",
    "It is a range of values rather than a single point estimate. "
   ]
  },
  {
   "cell_type": "code",
   "execution_count": null,
   "id": "c1fb2f68-0cb5-47a9-b3c5-35e822f2bae5",
   "metadata": {},
   "outputs": [],
   "source": []
  },
  {
   "cell_type": "markdown",
   "id": "2f836bc9-f97e-4fde-91d9-5c9ffe5cd1fe",
   "metadata": {},
   "source": [
    "Q2. Write a Python function to estimate the population mean using a sample mean and standard\n",
    "deviation."
   ]
  },
  {
   "cell_type": "code",
   "execution_count": 2,
   "id": "dbb3c8ca-a49a-4be2-822f-7f7f029f50ec",
   "metadata": {},
   "outputs": [],
   "source": [
    "# Ans 2:-\n",
    "import math\n",
    "def estimate_population_mean(sample_mean, sample_std_dev, sample_size):\n",
    "    sem = sample_std_dev / math.sqrt(sample_size)\n",
    "    moe = 1.96 * sem\n",
    "    lower_bound = sample_mean - moe\n",
    "    upper_bound = sample_mean + moe\n",
    "    estimated_population_mean = (lower_bound + upper_bound) / 2\n",
    "    return estimated_population_mean"
   ]
  },
  {
   "cell_type": "code",
   "execution_count": 3,
   "id": "6f2355a8-521b-456f-a49b-6766ee9e5957",
   "metadata": {},
   "outputs": [
    {
     "name": "stdout",
     "output_type": "stream",
     "text": [
      "Estimated Population Mean: 50.0\n"
     ]
    }
   ],
   "source": [
    "sample_mean = 50.0\n",
    "sample_std_dev = 10.0\n",
    "sample_size = 100\n",
    "estimated_mean = estimate_population_mean(sample_mean, sample_std_dev, sample_size)\n",
    "print(\"Estimated Population Mean:\", estimated_mean)"
   ]
  },
  {
   "cell_type": "code",
   "execution_count": null,
   "id": "6d0345c2-1765-436b-9f24-a0c8b84232b2",
   "metadata": {},
   "outputs": [],
   "source": []
  },
  {
   "cell_type": "markdown",
   "id": "6b338132-c207-4547-86e1-7aecdf4e9f0a",
   "metadata": {},
   "source": [
    "Q3: What is Hypothesis testing? Why is it used? State the importance of Hypothesis testing."
   ]
  },
  {
   "cell_type": "code",
   "execution_count": null,
   "id": "51f72b6e-246b-4f8f-8f87-520d8caf018e",
   "metadata": {},
   "outputs": [],
   "source": [
    "Ans 3:-\n",
    "Hypothesis testing is a statistical method used to make inferences about a population based on a sample of data.\n",
    "It involves formulating two competing hypotheses, the null hypothesis (H0) and the alternative hypothesis (Ha), and then using sample data to determine\n",
    "which hypothesis is more likely to be true."
   ]
  },
  {
   "cell_type": "code",
   "execution_count": null,
   "id": "1b8abb96-410f-48d1-ad19-31ea79128cb0",
   "metadata": {},
   "outputs": [],
   "source": [
    "Determine the validity of assumptions:\n",
    "    Hypothesis testing allows researchers to test assumptions or claims made about a population based on sample data.\n",
    "    It helps in assessing whether an observed difference or effect is due to chance or a real difference exists in the population.\n",
    "\n",
    "Make decisions in uncertainty:\n",
    "    Hypothesis testing provides a systematic and objective way to make decisions when faced with uncertainty.\n",
    "    Researchers can either accept the null hypothesis or reject it in favor of the alternative hypothesis, based on the strength of evidence provided by the data."
   ]
  },
  {
   "cell_type": "code",
   "execution_count": null,
   "id": "6ad2005c-b430-44f0-9490-cb14faf2ae9f",
   "metadata": {},
   "outputs": [],
   "source": [
    "Objectivity: Hypothesis testing provides an objective and systematic approach to drawing conclusions based on evidence from data, reducing the risk of bias in\n",
    "decision-making.\n",
    "\n",
    "Falsifiability: The process of hypothesis testing involves the possibility of rejecting the null hypothesis, which ensures that scientific claims are testable and\n",
    "falsifiable.\n",
    "\n",
    "Rigor: Hypothesis testing adds rigor to the research process by providing a structured method to assess the significance of results and draw valid conclusions.\n",
    "\n",
    "Generalizability: Hypothesis testing allows researchers to make inferences about a population from a sample, increasing the generalizability of study findings."
   ]
  },
  {
   "cell_type": "code",
   "execution_count": null,
   "id": "4452f4a3-e9b6-498d-a4cc-bea8962d2d90",
   "metadata": {},
   "outputs": [],
   "source": []
  },
  {
   "cell_type": "markdown",
   "id": "d9f123dc-a6dc-4c51-a011-7c50a850b85f",
   "metadata": {},
   "source": [
    "Q4. Create a hypothesis that states whether the average weight of male college students is greater than\n",
    "the average weight of female college students."
   ]
  },
  {
   "cell_type": "code",
   "execution_count": null,
   "id": "2c768862-c028-4804-9090-acce417e1fb5",
   "metadata": {},
   "outputs": [],
   "source": [
    "Ans 4:-\n",
    "Hypothesis:\n",
    "Null Hypothesis (H0):\n",
    "    The average weight of male college students is not greater than the average weight of female college students.\n",
    "\n",
    "Alternative Hypothesis (Ha):\n",
    "    The average weight of male college students is greater than the average weight of female college students.\n",
    "    \n",
    "H0: μ_male <= μ_female\n",
    "Ha: μ_male > μ_female\n",
    "\n",
    "Where:\n",
    "μ_male represents the population mean weight of male college students,\n",
    "μ_female represents the population mean weight of female college students."
   ]
  },
  {
   "cell_type": "code",
   "execution_count": null,
   "id": "0c63ef69-ed26-45bc-a6ea-f978efb1e1f1",
   "metadata": {},
   "outputs": [],
   "source": []
  },
  {
   "cell_type": "markdown",
   "id": "f95927c4-bfff-4567-9fe9-c0ed01212318",
   "metadata": {},
   "source": [
    "Q5. Write a Python script to conduct a hypothesis test on the difference between two population means,\n",
    "given a sample from each population."
   ]
  },
  {
   "cell_type": "code",
   "execution_count": 1,
   "id": "977353ef-16f0-4178-b784-eefdd989b4d5",
   "metadata": {},
   "outputs": [
    {
     "name": "stdout",
     "output_type": "stream",
     "text": [
      "T-statistic: 2.888741522913896\n",
      "P-value: 0.020238195742784536\n",
      "Reject the null hypothesis: There is a significant difference between the population means.\n"
     ]
    }
   ],
   "source": [
    "# Ans 5:-\n",
    "import numpy as np\n",
    "from scipy.stats import ttest_ind\n",
    "sample1 = np.array([25, 30, 35, 40, 45])\n",
    "sample2 = np.array([20, 22, 24, 26, 28])\n",
    "t_statistic, p_value = ttest_ind(sample1, sample2)\n",
    "print(\"T-statistic:\", t_statistic)\n",
    "print(\"P-value:\", p_value)\n",
    "alpha = 0.05\n",
    "if p_value < alpha:\n",
    "    print(\"Reject the null hypothesis: There is a significant difference between the population means.\")\n",
    "else:\n",
    "    print(\"Fail to reject the null hypothesis: There is no significant difference between the population means.\")"
   ]
  },
  {
   "cell_type": "code",
   "execution_count": null,
   "id": "dc24f8c3-67d7-4aef-ac2a-9b641b811ad7",
   "metadata": {},
   "outputs": [],
   "source": []
  },
  {
   "cell_type": "markdown",
   "id": "859217b9-e950-49ad-97fc-96c44cc2db60",
   "metadata": {},
   "source": [
    "Q6: What is a null and alternative hypothesis? Give some examples."
   ]
  },
  {
   "cell_type": "code",
   "execution_count": null,
   "id": "b49f166e-f2da-48e9-b490-b91121ac212a",
   "metadata": {},
   "outputs": [],
   "source": [
    "Ans 6:-In hypothesis testing, the null hypothesis (H0) and alternative hypothesis (Ha) are two competing statements about a population parameter.\n",
    "The null hypothesis represents the status quo or no effect, while the alternative hypothesis represents the claim or effect we want to test."
   ]
  },
  {
   "cell_type": "code",
   "execution_count": null,
   "id": "e7e83adb-d740-4209-bccc-2806594a864b",
   "metadata": {},
   "outputs": [],
   "source": [
    "Example: Testing the Effectiveness of a New Drug\n",
    "\n",
    "Null Hypothesis (H0): The new drug has no effect on patients' recovery time.\n",
    "Alternative Hypothesis (Ha): The new drug reduces patients' recovery time significantly."
   ]
  },
  {
   "cell_type": "code",
   "execution_count": null,
   "id": "a0da40e1-25e6-4eb0-b468-0969c106c2d7",
   "metadata": {},
   "outputs": [],
   "source": []
  },
  {
   "cell_type": "markdown",
   "id": "e1539683-3451-4ae5-b61d-32597d247fc0",
   "metadata": {},
   "source": [
    "Q7: Write down the steps involved in hypothesis testing."
   ]
  },
  {
   "cell_type": "code",
   "execution_count": null,
   "id": "9f60e776-62c4-43eb-84b3-2549a29d8fc1",
   "metadata": {},
   "outputs": [],
   "source": [
    "Ans 7:-\n",
    "State the Hypotheses:\n",
    "    Formulate the null hypothesis (H0) that represents the status quo or no effect.\n",
    "    \n",
    "Choose the Significance Level (α):\n",
    "    The significance level (α) is the probability of making a Type I error, which is the probability of rejecting the null hypothesis when it is true.\n",
    "    \n",
    "Select the Test Statistic:\n",
    "    Choose an appropriate test statistic based on the type of data and the nature of the hypothesis test.\n",
    "    \n",
    "Collect Sample Data:\n",
    "    Collect a random sample from the population of interest.\n",
    "    \n",
    "Compute the Test Statistic:\n",
    "    Calculate the test statistic using the sample data and the chosen formula for the specific test.\n",
    "    \n",
    "Draw Conclusions:\n",
    "    Based on the decision made in Step 8, draw conclusions about the population parameter being tested.\n",
    "    \n",
    "Report the Results:\n",
    "    Report the findings of the hypothesis test, including the conclusion and any relevant statistical evidence."
   ]
  },
  {
   "cell_type": "code",
   "execution_count": null,
   "id": "ef5da024-2dcf-4021-9aec-7a2ee36fe329",
   "metadata": {},
   "outputs": [],
   "source": []
  },
  {
   "cell_type": "markdown",
   "id": "5c8a2394-d16d-40c2-8550-e0a2046c41e7",
   "metadata": {},
   "source": [
    "Q8. Define p-value and explain its significance in hypothesis testing."
   ]
  },
  {
   "cell_type": "code",
   "execution_count": null,
   "id": "6a5d2b29-23bd-4501-b991-b149c7f55a98",
   "metadata": {},
   "outputs": [],
   "source": [
    "Ans 8:-The p-value, also known as the probability value, is a crucial concept in hypothesis testing.\n",
    "It represents the probability of obtaining the observed results (or more extreme results) when the null hypothesis is true. "
   ]
  },
  {
   "cell_type": "code",
   "execution_count": null,
   "id": "8dc1bf69-8c22-48bb-8de6-3e625271c4f5",
   "metadata": {},
   "outputs": [],
   "source": [
    "If the p-value is small (typically smaller than the chosen significance level α), it suggests strong evidence against the null hypothesis.\n",
    "In this case, we reject the null hypothesis in favor of the alternative hypothesis.\n",
    "If the p-value is large, it suggests weak evidence against the null hypothesis.\n",
    "In this case, we fail to reject the null hypothesis, and we do not have enough evidence to support the claim made in the alternative hypothesis."
   ]
  },
  {
   "cell_type": "code",
   "execution_count": null,
   "id": "a52726e0-6fc8-48dd-be55-2de139ab097c",
   "metadata": {},
   "outputs": [],
   "source": []
  },
  {
   "cell_type": "markdown",
   "id": "bdca350c-341b-485c-813c-865153a666ab",
   "metadata": {},
   "source": [
    "Q9. Generate a Student's t-distribution plot using Python's matplotlib library, with the degrees of freedom\n",
    "parameter set to 10."
   ]
  },
  {
   "cell_type": "code",
   "execution_count": 3,
   "id": "bdada934-f2f0-43d2-b127-137704266f7e",
   "metadata": {},
   "outputs": [
    {
     "data": {
      "text/plain": [
       "<matplotlib.legend.Legend at 0x7f5167f80b50>"
      ]
     },
     "execution_count": 3,
     "metadata": {},
     "output_type": "execute_result"
    },
    {
     "data": {
      "image/png": "[encoded data removed]",
      "text/plain": [
       "<Figure size 640x480 with 1 Axes>"
      ]
     },
     "metadata": {},
     "output_type": "display_data"
    }
   ],
   "source": [
    "# Ans 9:-\n",
    "import numpy as np\n",
    "import matplotlib.pyplot as plt\n",
    "from scipy.stats import t\n",
    "df = 10\n",
    "data = np.random.standard_t(df, size=1000)\n",
    "plt.hist(data, bins=30, density=True, alpha=0.6, color='b', label='Sample Data')\n",
    "x = np.linspace(-5, 5, 1000)\n",
    "pdf = t.pdf(x, df)\n",
    "plt.plot(x, pdf, 'r', label='t-Distribution (df=10)')\n",
    "plt.xlabel('Value')\n",
    "plt.ylabel('Density')\n",
    "plt.title('Student\\'s t-Distribution')\n",
    "plt.legend()"
   ]
  },
  {
   "cell_type": "code",
   "execution_count": null,
   "id": "e806cb42-fc26-45bb-bc2a-83b017a8daa8",
   "metadata": {},
   "outputs": [],
   "source": []
  },
  {
   "cell_type": "markdown",
   "id": "41b3ee04-d84a-4c4c-bda1-34facd9a99af",
   "metadata": {},
   "source": [
    "Q10. Write a Python program to calculate the two-sample t-test for independent samples, given two\n",
    "random samples of equal size and a null hypothesis that the population means are equal."
   ]
  },
  {
   "cell_type": "code",
   "execution_count": 4,
   "id": "a0cf9762-039d-40e0-9fcd-949d58329131",
   "metadata": {},
   "outputs": [
    {
     "name": "stdout",
     "output_type": "stream",
     "text": [
      "Two-Sample t-Test Results:\n",
      "T-Statistic: -8.291477287320195\n",
      "P-Value: 1.6872308342628304e-14\n",
      "The null hypothesis can be rejected. The means of the two samples are significantly different.\n"
     ]
    }
   ],
   "source": [
    "# Ans 10:-\n",
    "import numpy as np\n",
    "from scipy.stats import ttest_ind\n",
    "sample1 = np.random.normal(loc=30, scale=5, size=100)  \n",
    "sample2 = np.random.normal(loc=35, scale=5, size=100)  \n",
    "\n",
    "t_statistic, p_value = ttest_ind(sample1, sample2, equal_var=True)  \n",
    "\n",
    "print(\"Two-Sample t-Test Results:\")\n",
    "print(f\"T-Statistic: {t_statistic}\")\n",
    "print(f\"P-Value: {p_value}\")\n",
    "\n",
    "if p_value < 0.05:  \n",
    "    print(\"The null hypothesis can be rejected. The means of the two samples are significantly different.\")\n",
    "else:\n",
    "    print(\"The null hypothesis cannot be rejected. There is no significant difference in the means of the two samples.\")\n"
   ]
  },
  {
   "cell_type": "code",
   "execution_count": null,
   "id": "a08e55ad-50a6-4a97-95ab-07c964c48393",
   "metadata": {},
   "outputs": [],
   "source": []
  },
  {
   "cell_type": "markdown",
   "id": "423acea7-a48e-4b53-9447-fc3e50818b1e",
   "metadata": {},
   "source": [
    "Q11: What is Student’s t distribution? When to use the t-Distribution."
   ]
  },
  {
   "cell_type": "code",
   "execution_count": null,
   "id": "dc950325-9ca4-4d84-a386-5cf16798a38f",
   "metadata": {},
   "outputs": [],
   "source": [
    "Ans 11:-\n",
    "Students t-distribution, often referred to simply as the t-distribution, is a probability distribution that is used in hypothesis testing and \n",
    "statistical inference when the sample size is small and the population standard deviation is unknown. "
   ]
  },
  {
   "cell_type": "code",
   "execution_count": null,
   "id": "663e7ba4-45b5-4f3e-85da-ca533c50dfdd",
   "metadata": {},
   "outputs": [],
   "source": [
    "Small Sample Size:\n",
    "    When the sample size is small (typically n < 30), the t-distribution is used to calculate critical values for hypothesis testing, confidence intervals,\n",
    "    and other statistical analyses.\n",
    "\n",
    "Unknown Population Standard Deviation:\n",
    "    If the population standard deviation is unknown, the t-distribution is used to estimate parameters based on the sample standard deviation.\n",
    "\n",
    "Comparing Means:\n",
    "    When comparing means of two independent samples, such as in the two-sample t-test, the t-distribution is used to determine whether there is a\n",
    "    significant difference between the means."
   ]
  },
  {
   "cell_type": "code",
   "execution_count": null,
   "id": "5c4689b6-d114-4e22-927d-bfc49ee2ecff",
   "metadata": {},
   "outputs": [],
   "source": []
  },
  {
   "cell_type": "markdown",
   "id": "d2bdc136-046e-4e6f-9fa4-1619d71d2e1a",
   "metadata": {},
   "source": [
    "Q12: What is t-statistic? State the formula for t-statistic."
   ]
  },
  {
   "cell_type": "code",
   "execution_count": null,
   "id": "e75a174b-5ba2-4347-8723-e3bd39c429c4",
   "metadata": {},
   "outputs": [],
   "source": [
    "Ans 12:-\n",
    "The t-statistic is a measure used in hypothesis testing to assess whether the means of two groups or the mean of a single group is significantly different\n",
    "from a hypothesized value."
   ]
  },
  {
   "cell_type": "code",
   "execution_count": null,
   "id": "f1743ce8-2a49-4bf5-9e3b-da9dd0419b94",
   "metadata": {},
   "outputs": [],
   "source": [
    "For a single sample t-test, the formula for the t-statistic is:\n",
    "\n",
    "t = (sample_mean - hypothesized_value) / (sample_standard_error)\n",
    "\n",
    "For a two-sample independent t-test, the formula for the t-statistic is:\n",
    "\n",
    "t = (mean_group1 - mean_group2) / sqrt((s1^2 / n1) + (s2^2 / n2))"
   ]
  },
  {
   "cell_type": "code",
   "execution_count": null,
   "id": "54e85ff0-d7d2-4968-b1ea-c22d4bd12d39",
   "metadata": {},
   "outputs": [],
   "source": []
  },
  {
   "cell_type": "markdown",
   "id": "c78753a2-9412-4b12-b001-9197275ba1f7",
   "metadata": {},
   "source": [
    "Q13. A coffee shop owner wants to estimate the average daily revenue for their shop. They take a random\n",
    "sample of 50 days and find the sample mean revenue to be $500 with a standard deviation of $50.\n",
    "Estimate the population mean revenue with a 95% confidence interval."
   ]
  },
  {
   "cell_type": "code",
   "execution_count": null,
   "id": "14f761a9-e869-45ab-9da2-b6489e1f4c5e",
   "metadata": {},
   "outputs": [],
   "source": [
    "Ans 13:-\n",
    "Sample Mean = $500 (given)\n",
    "Standard Deviation (σ) = $50 (given)\n",
    "Sample Size (n) = 50 (given)\n",
    "Critical Value for a 95% confidence level (z) ≈ 1.96 (from the standard normal distribution table)\n",
    "Standard Error (SE) = σ / sqrt(n)\n",
    "Standard Error (SE) = σ / sqrt(n)\n",
    "\n",
    "Lets calculate the confidence interval:\n",
    "\n",
    "Standard Error (SE) = $50 / sqrt(50) ≈ $7.07\n",
    "\n",
    "Confidence Interval = $500 ± 1.96 * $7.07\n",
    "Confidence Interval ≈ $500 ± $13.87"
   ]
  },
  {
   "cell_type": "code",
   "execution_count": null,
   "id": "59adb143-d34b-495f-a634-4f47e068a169",
   "metadata": {},
   "outputs": [],
   "source": []
  },
  {
   "cell_type": "markdown",
   "id": "5bae49ff-3e88-4d66-8e40-27cdc5a55043",
   "metadata": {},
   "source": [
    "Q14. A researcher hypothesizes that a new drug will decrease blood pressure by 10 mmHg. They conduct a\n",
    "clinical trial with 100 patients and find that the sample mean decrease in blood pressure is 8 mmHg with a\n",
    "standard deviation of 3 mmHg. Test the hypothesis with a significance level of 0.05."
   ]
  },
  {
   "cell_type": "code",
   "execution_count": null,
   "id": "359ddad1-91c4-4439-a494-40bdfbc9c028",
   "metadata": {},
   "outputs": [],
   "source": [
    "Ans 14:-\n",
    "Sample Mean (x̄) = 8 mmHg\n",
    "Sample Standard Deviation (s) = 3 mmHg\n",
    "Sample Size (n) = 100\n",
    "Hypothesized Mean (μ0) = 10 mmHg (from the null hypothesis)"
   ]
  },
  {
   "cell_type": "code",
   "execution_count": null,
   "id": "2263c0d1-52c9-41c0-a1d0-0e2da9e34041",
   "metadata": {},
   "outputs": [],
   "source": [
    "Calculate the critical t-value for a significance level of 0.05 and 99 degrees of freedom using a t-table or a t-distribution calculator.\n",
    "The critical t-value is approximately -1.984.\n",
    "Compare the absolute value of the t-statistic with the critical t-value:|-6.67| > |-1.984|\n",
    "\n",
    "Step 6: Calculate the p-value:\n",
    "Since the t-statistic is negative, we need to find the area under the t-distribution curve to the left of -6.67.\n",
    "The p-value is the probability of obtaining a t-statistic as extreme or more extreme than the one calculated.\n",
    "\n",
    "The p-value is very small (close to 0) because the t-statistic is far in the tail of the t-distribution.\n",
    "Therefore, the p-value is less than the significance level of 0.05.\n",
    "\n",
    "Step 7: Make a conclusion:\n",
    "Since the p-value is less than the significance level (0.05), we reject the null hypothesis.\n",
    "This means that there is evidence to support the claim that the new drug decreases blood pressure by 10 mmHg."
   ]
  },
  {
   "cell_type": "code",
   "execution_count": null,
   "id": "dc9daea9-f6e8-434d-b800-e8c3175ee9a7",
   "metadata": {},
   "outputs": [],
   "source": []
  },
  {
   "cell_type": "markdown",
   "id": "a5f2e4cf-0eda-4a2d-b565-0aff336c45a5",
   "metadata": {},
   "source": [
    "Q15. An electronics company produces a certain type of product with a mean weight of 5 pounds and a\n",
    "standard deviation of 0.5 pounds. A random sample of 25 products is taken, and the sample mean weight\n",
    "is found to be 4.8 pounds. Test the hypothesis that the true mean weight of the products is less than 5\n",
    "pounds with a significance level of 0.01."
   ]
  },
  {
   "cell_type": "code",
   "execution_count": null,
   "id": "d16a82a4-71b1-433e-84dd-e0edfc23d3ad",
   "metadata": {},
   "outputs": [],
   "source": [
    "Ans 15:-\n",
    "Population Mean (μ) = 5 pounds\n",
    "Population Standard Deviation (σ) = 0.5 pounds\n",
    "Sample Size (n) = 25\n",
    "Sample Mean (x̄) = 4.8 pounds\n",
    "Significance level (α) = 0.01\n",
    "Step 1: Calculate the standard error (SE) of the sample mean:\n",
    "SE = σ / sqrt(n) = 0.5 / sqrt(25) = 0.5 / 5 = 0.1\n",
    "\n",
    "Step 2: Calculate the t-statistic:\n",
    "t = (x̄ - μ) / SE = (4.8 - 5) / 0.1 ≈ -2\n",
    "\n",
    "Step 3: Calculate the degrees of freedom (df):\n",
    "df = n - 1 = 25 - 1 = 24\n",
    "\n",
    "Step 4: Find the critical t-value for a one-tailed test with a significance level of 0.01 and 24 degrees of freedom.\n",
    "The critical t-value is approximately -2.492.\n",
    "\n",
    "Step 5: Compare the t-statistic with the critical t-value:\n",
    "-2 < -2.492\n",
    "\n",
    "Step 6: Calculate the p-value:\n",
    "Since the t-statistic is negative, we need to find the area under the t-distribution curve to the left of -2.\n",
    "The p-value is the probability of obtaining a t-statistic as extreme or more extreme than the one calculated.\n",
    "\n",
    "The p-value is greater than 0.01 (closer to 0.05) because the t-statistic is not far in the tail of the t-distribution.\n",
    "\n",
    "Step 7: Make a conclusion:\n",
    "Since the p-value is greater than the significance level (0.01), we fail to reject the null hypothesis.\n",
    "There is not enough evidence to support the claim that the true mean weight of the products is less than 5 pounds."
   ]
  },
  {
   "cell_type": "code",
   "execution_count": null,
   "id": "82fa0f7c-10d6-4739-9168-a3beb6c4122e",
   "metadata": {},
   "outputs": [],
   "source": []
  },
  {
   "cell_type": "markdown",
   "id": "9b022cd3-d97b-4577-b4c3-1aeb58999b5d",
   "metadata": {},
   "source": [
    "Q16. Two groups of students are given different study materials to prepare for a test. The first group (n1 =\n",
    "30) has a mean score of 80 with a standard deviation of 10, and the second group (n2 = 40) has a mean\n",
    "score of 75 with a standard deviation of 8. Test the hypothesis that the population means for the two\n",
    "groups are equal with a significance level of 0.01."
   ]
  },
  {
   "cell_type": "code",
   "execution_count": null,
   "id": "e6197aed-fff8-4ec8-9f08-6c29fb1f5b40",
   "metadata": {},
   "outputs": [],
   "source": [
    "Ans 16:-\n",
    "Group 1 (n1):\n",
    "\n",
    "Sample Size (n1) = 30\n",
    "Sample Mean (x̄1) = 80\n",
    "Sample Standard Deviation (s1) = 10\n",
    "Group 2 (n2):\n",
    "\n",
    "Sample Size (n2) = 40\n",
    "Sample Mean (x̄2) = 75\n",
    "Sample Standard Deviation (s2) = 8\n",
    "Significance level (α) = 0.01"
   ]
  },
  {
   "cell_type": "code",
   "execution_count": null,
   "id": "3f986af7-bc00-4216-baea-cf56cdee3e33",
   "metadata": {},
   "outputs": [],
   "source": [
    "Step 1: Calculate the pooled standard error (SEp):\n",
    "SEp = sqrt((s1^2 / n1) + (s2^2 / n2))\n",
    "SEp = sqrt((10^2 / 30) + (8^2 / 40)) ≈ sqrt(3.333 + 1) ≈ sqrt(4.333) ≈ 2.08\n",
    "\n",
    "Step 2: Calculate the t-statistic:\n",
    "t = (x̄1 - x̄2) / SEp = (80 - 75) / 2.08 ≈ 2.40\n",
    "\n",
    "Step 3: Calculate the degrees of freedom (df):\n",
    "df = n1 + n2 - 2 = 30 + 40 - 2 = 68\n",
    "\n",
    "Step 4: Find the critical t-value for a two-tailed test with a significance level of 0.01 and 68 degrees of freedom.\n",
    "The critical t-value is approximately ±2.660.\n",
    "\n",
    "Step 5: Compare the t-statistic with the critical t-value:\n",
    "|2.40| < 2.660\n",
    "\n",
    "Since the absolute value of the t-statistic is less than the critical t-value, we do not reject the null hypothesis.\n",
    "\n",
    "Step 6: Calculate the p-value:\n",
    "The p-value is the probability of obtaining a t-statistic as extreme or more extreme than the one calculated.\n",
    "In this case, the p-value is greater than 0.01 (closer to 0.05) because the t-statistic is not far in the tails of the t-distribution.\n",
    "\n",
    "Step 7: Make a conclusion:\n",
    "Since the p-value is greater than the significance level (0.01), we fail to reject the null hypothesis.\n",
    "There is not enough evidence to support the claim that the population means for the two groups are different."
   ]
  },
  {
   "cell_type": "code",
   "execution_count": null,
   "id": "da83d404-0efb-444d-b710-21b1253cc020",
   "metadata": {},
   "outputs": [],
   "source": []
  },
  {
   "cell_type": "markdown",
   "id": "adf4c38d-2be6-45d4-8e0c-683259a6f88c",
   "metadata": {},
   "source": [
    "Q17. A marketing company wants to estimate the average number of ads watched by viewers during a TV\n",
    "program. They take a random sample of 50 viewers and find that the sample mean is 4 with a standard\n",
    "deviation of 1.5. Estimate the population mean with a 99% confidence interval."
   ]
  },
  {
   "cell_type": "code",
   "execution_count": null,
   "id": "e4f572a0-c3e7-41cd-88fd-1c3650a6029a",
   "metadata": {},
   "outputs": [],
   "source": [
    "Ans 17:-\n",
    "Given data:\n",
    "Sample Size (n) = 50\n",
    "Sample Mean (x̄) = 4\n",
    "Sample Standard Deviation (s) = 1.5\n",
    "Confidence Level = 99% (which corresponds to a significance level of α = 0.01)\n",
    "\n",
    "Step 1: Find the critical value (z) for a 99% confidence level (α = 0.01).\n",
    "We can use the standard normal distribution table or a statistical software to find the critical value.\n",
    "For a 99% confidence level, the critical value is approximately 2.576.\n",
    "\n",
    "Step 2: Calculate the standard error (SE):\n",
    "SE = s / sqrt(n) = 1.5 / sqrt(50) ≈ 1.5 / 7.07 ≈ 0.212\n",
    "\n",
    "Step 3: Calculate the confidence interval:\n",
    "Confidence Interval = 4 ± (2.576) * (0.212)\n",
    "\n",
    "Lower Limit = 4 - (2.576) * (0.212) ≈ 3.455\n",
    "Upper Limit = 4 + (2.576) * (0.212) ≈ 4.545\n",
    "\n",
    "The 99% confidence interval for the population mean is approximately 3.455 to 4.545."
   ]
  }
 ],
 "metadata": {
  "kernelspec": {
   "display_name": "Python 3 (ipykernel)",
   "language": "python",
   "name": "python3"
  },
  "language_info": {
   "codemirror_mode": {
    "name": "ipython",
    "version": 3
   },
   "file_extension": ".py",
   "mimetype": "text/x-python",
   "name": "python",
   "nbconvert_exporter": "python",
   "pygments_lexer": "ipython3",
   "version": "3.10.8"
  }
 },
 "nbformat": 4,
 "nbformat_minor": 5
}
