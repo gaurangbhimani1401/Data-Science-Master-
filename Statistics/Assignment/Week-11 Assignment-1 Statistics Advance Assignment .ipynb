{
 "cells": [
  {
   "cell_type": "markdown",
   "id": "15a2d115-620f-4121-8d13-16e453037627",
   "metadata": {},
   "source": [
    "Q1. What is the Probability density function?"
   ]
  },
  {
   "cell_type": "code",
   "execution_count": null,
   "id": "ee166d0f-0011-4f87-b884-db7e60a2950a",
   "metadata": {},
   "outputs": [],
   "source": [
    "Ans 1:- \n",
    "The Probability Density Function (PDF) is a function that describes the likelihood of a continuous random variable taking on a specific value. \n",
    "It represents the relative likelihood of the variable having a particular value.\n",
    "In other words, it gives the probability of the random variable falling within a specific range of values."
   ]
  },
  {
   "cell_type": "code",
   "execution_count": null,
   "id": "d8ca409a-d756-4883-aced-cb6805e5de71",
   "metadata": {},
   "outputs": [],
   "source": []
  },
  {
   "cell_type": "markdown",
   "id": "1c2b419e-5620-490b-bd83-6a0f8a7d1e0e",
   "metadata": {},
   "source": [
    "Q2. What are the types of Probability distribution?"
   ]
  },
  {
   "cell_type": "code",
   "execution_count": null,
   "id": "e2e8fff8-1112-42bd-9b6d-4399e072fd67",
   "metadata": {},
   "outputs": [],
   "source": [
    "Ans 2:-\n",
    "Bernoulli Distribution:\n",
    "    Models a binary outcome (success/failure) with a single trial, where the probability of success (p) is constant.\n",
    "    \n",
    "Binomial Distribution:\n",
    "    Models the number of successes in a fixed number of independent Bernoulli trials.\n",
    "    \n",
    "Poisson Distribution:\n",
    "    Models the number of events occurring in a fixed interval of time or space, with a constant rate of occurrence.\n",
    "    \n",
    "Geometric Distribution:\n",
    "    Models the number of trials required to achieve the first success in a series of independent Bernoulli trials.\n",
    "    \n",
    "Hypergeometric Distribution:\n",
    "    Models the number of successes in a fixed number of trials when sampling without replacement from a finite population of two distinct categories."
   ]
  },
  {
   "cell_type": "code",
   "execution_count": null,
   "id": "0b47dc9d-3f85-4dcb-9414-db0924158dc8",
   "metadata": {},
   "outputs": [],
   "source": []
  },
  {
   "cell_type": "markdown",
   "id": "7f865bc9-db0a-4f07-83cd-87ec087e1cfe",
   "metadata": {},
   "source": [
    "Q3. Write a Python function to calculate the probability density function of a normal distribution with\n",
    "given mean and standard deviation at a given point."
   ]
  },
  {
   "cell_type": "code",
   "execution_count": 1,
   "id": "cfa9a857-2347-434d-a094-2179272201ac",
   "metadata": {},
   "outputs": [],
   "source": [
    "# Ans 3:-\n",
    "import math\n",
    "\n",
    "def normal_pdf(x, mean, std_dev):\n",
    "    coefficient = 1 / (std_dev * math.sqrt(2 * math.pi))\n",
    "    exponent = -((x - mean) ** 2) / (2 * std_dev ** 2)\n",
    "    pdf_value = coefficient * math.exp(exponent)\n",
    "    return pdf_value"
   ]
  },
  {
   "cell_type": "code",
   "execution_count": 2,
   "id": "23639fce-9af6-4159-a87b-50e9c137be3e",
   "metadata": {},
   "outputs": [
    {
     "name": "stdout",
     "output_type": "stream",
     "text": [
      "The probability density function at x = 1.5 is: 0.1295\n"
     ]
    }
   ],
   "source": [
    "mean = 0\n",
    "std_dev = 1\n",
    "x = 1.5\n",
    "pdf_result = normal_pdf(x, mean, std_dev)\n",
    "print(f\"The probability density function at x = {x} is: {pdf_result:.4f}\")"
   ]
  },
  {
   "cell_type": "code",
   "execution_count": null,
   "id": "8fad8d52-8e5e-43b3-9c41-2ee237b99c6c",
   "metadata": {},
   "outputs": [],
   "source": []
  },
  {
   "cell_type": "markdown",
   "id": "de74c302-c008-413c-931a-451224ceda86",
   "metadata": {},
   "source": [
    "Q4. What are the properties of Binomial distribution? Give two examples of events where binomial\n",
    "distribution can be applied."
   ]
  },
  {
   "cell_type": "code",
   "execution_count": null,
   "id": "139d8d2b-9099-4d46-9a58-f4bd5f89b266",
   "metadata": {},
   "outputs": [],
   "source": [
    "Ans 4:-\n",
    "The properties of the binomial distribution are as follows:\n",
    "\n",
    "1. The binomial distribution models a discrete random variable.\n",
    "2. It consists of a fixed number of independent trials, denoted by 'n'.\n",
    "3. Each trial can result in one of two possible outcomes, often referred to as \"success\" and \"failure.\"\n",
    "4. The probability of success in a single trial is denoted by 'p', and the probability of failure is 'q' (where q = 1 - p).\n",
    "5. The outcomes of each trial are independent of each other."
   ]
  },
  {
   "cell_type": "code",
   "execution_count": null,
   "id": "e4e9c060-4c90-46ce-be59-3d704258acb3",
   "metadata": {},
   "outputs": [],
   "source": [
    "Coin Toss: \n",
    "    Suppose we toss a fair coin 10 times and want to know the probability of getting exactly 7 heads.\n",
    "    Here, each toss of the coin has two possible outcomes: heads (success) or tails (failure).\n",
    "    The number of trials is 10 (n = 10), and the probability of getting heads is 0.5 (p = 0.5).\n",
    "\n",
    "Exam Pass Rate:\n",
    "    In a class of 50 students taking an exam, the pass rate is 70%.\n",
    "    We want to find the probability that exactly 35 students pass the exam.\n",
    "    Each student either passes (success) or fails (failure). The number of trials is 50 (n = 50), and the probability of passing is 0.7 (p = 0.7)."
   ]
  },
  {
   "cell_type": "code",
   "execution_count": null,
   "id": "b5a3aa44-6a81-4397-b874-b286dbc69810",
   "metadata": {},
   "outputs": [],
   "source": []
  },
  {
   "cell_type": "markdown",
   "id": "9f473783-931a-494e-841b-2d1278bbcef3",
   "metadata": {},
   "source": [
    "Q5. Generate a random sample of size 1000 from a binomial distribution with probability of success 0.4\n",
    "and plot a histogram of the results using matplotlib."
   ]
  },
  {
   "cell_type": "code",
   "execution_count": 3,
   "id": "56183485-ec41-490e-8396-7f6cfcb365b5",
   "metadata": {},
   "outputs": [
    {
     "data": {
      "image/png": "[encoded data removed]",
      "text/plain": [
       "<Figure size 640x480 with 1 Axes>"
      ]
     },
     "metadata": {},
     "output_type": "display_data"
    }
   ],
   "source": [
    "# Ans 5:-\n",
    "import numpy as np\n",
    "import matplotlib.pyplot as plt\n",
    "n = 1000\n",
    "p = 0.4\n",
    "sample = np.random.binomial(n, p, size=1000)\n",
    "\n",
    "plt.hist(sample, bins=20, edgecolor='black')\n",
    "plt.xlabel('Number of Successes')\n",
    "plt.ylabel('Frequency')\n",
    "plt.title('Histogram of Random Sample from Binomial Distribution')\n",
    "plt.show()"
   ]
  },
  {
   "cell_type": "code",
   "execution_count": null,
   "id": "69433aa8-0fce-4831-b337-6eb8712ea745",
   "metadata": {},
   "outputs": [],
   "source": []
  },
  {
   "cell_type": "markdown",
   "id": "df1efa93-af37-49cb-96ba-c91a5cc8899f",
   "metadata": {},
   "source": [
    "Q6. Write a Python function to calculate the cumulative distribution function of a Poisson distribution\n",
    "with given mean at a given point."
   ]
  },
  {
   "cell_type": "code",
   "execution_count": 4,
   "id": "58494e98-4a0b-407e-9017-09f2068c8057",
   "metadata": {},
   "outputs": [
    {
     "name": "stdout",
     "output_type": "stream",
     "text": [
      "CDF at k = 4: 0.8911780189141513\n"
     ]
    }
   ],
   "source": [
    "# Ans 6:-\n",
    "from scipy.stats import poisson\n",
    "\n",
    "def poisson_cdf(mean, k):\n",
    "     return poisson.cdf(k, mean)\n",
    "    \n",
    "mean = 2.5\n",
    "k = 4\n",
    "cdf_value = poisson_cdf(mean, k)\n",
    "print(f\"CDF at k = {k}: {cdf_value}\")"
   ]
  },
  {
   "cell_type": "code",
   "execution_count": null,
   "id": "561a647e-233a-42ef-a250-e2be43725a36",
   "metadata": {},
   "outputs": [],
   "source": []
  },
  {
   "cell_type": "markdown",
   "id": "38d71609-fe7b-455e-ab87-175faf9052fa",
   "metadata": {},
   "source": [
    "Q7. How Binomial distribution different from Poisson distribution?"
   ]
  },
  {
   "cell_type": "code",
   "execution_count": null,
   "id": "9b990811-19e1-496c-af2c-df6930cee81f",
   "metadata": {},
   "outputs": [],
   "source": [
    "Ans 7:-\n",
    "Definition:\n",
    "Binomial Distribution:\n",
    "    The binomial distribution is used to model the number of successes in a fixed number of independent Bernoulli trials.\n",
    "    In each trial, there are only two possible outcomes, typically labeled as \"success\" and \"failure.\"\n",
    "Poisson Distribution:\n",
    "    The Poisson distribution is used to model the number of events occurring in a fixed interval of time or space, given the average rate of occurrence.\n",
    "    \n",
    "Number of Trials/Events:\n",
    "Binomial Distribution:\n",
    "    It is applicable when there is a fixed number of trials (n), and each trial is independent of the others.\n",
    "Poisson Distribution:\n",
    "    It is applicable when the number of events occurring in a fixed interval is independent, and there is no fixed number of trials.\n",
    "    \n",
    "Possible Outcomes:\n",
    "Binomial Distribution:\n",
    "    The possible outcomes are discrete and limited to non-negative integers from 0 to n.\n",
    "Poisson Distribution:\n",
    "    The possible outcomes are discrete and range from 0 to infinity."
   ]
  },
  {
   "cell_type": "code",
   "execution_count": null,
   "id": "5dc2bd26-a3cd-44a1-9a00-b9a30a190549",
   "metadata": {},
   "outputs": [],
   "source": []
  },
  {
   "cell_type": "markdown",
   "id": "63e2be90-4036-4328-a9cb-cc824a7abf6e",
   "metadata": {},
   "source": [
    "Q8. Generate a random sample of size 1000 from a Poisson distribution with mean 5 and calculate the\n",
    "sample mean and variance."
   ]
  },
  {
   "cell_type": "code",
   "execution_count": 6,
   "id": "2e281305-e580-42b2-a220-8f431e6f8611",
   "metadata": {},
   "outputs": [
    {
     "name": "stdout",
     "output_type": "stream",
     "text": [
      "Sample Mean: 4.985\n",
      "Sample Variance: 4.9967749999999995\n"
     ]
    }
   ],
   "source": [
    "# Ans 8:-\n",
    "import numpy as np\n",
    "np.random.seed(42)\n",
    "sample_size = 1000\n",
    "mean = 5\n",
    "random_sample = np.random.poisson(mean, sample_size)\n",
    "sample_mean = np.mean(random_sample)\n",
    "sample_variance = np.var(random_sample)\n",
    "print(\"Sample Mean:\", sample_mean)\n",
    "print(\"Sample Variance:\", sample_variance)"
   ]
  },
  {
   "cell_type": "code",
   "execution_count": null,
   "id": "8ee006bd-344a-4d5e-b7ae-65b76372ceee",
   "metadata": {},
   "outputs": [],
   "source": []
  },
  {
   "cell_type": "markdown",
   "id": "a0419d14-8ede-4d2f-acca-cfb40669871d",
   "metadata": {},
   "source": [
    "Q9. How mean and variance are related in Binomial distribution and Poisson distribution?"
   ]
  },
  {
   "cell_type": "code",
   "execution_count": null,
   "id": "081b8c4c-89a3-4785-98db-95ec47b6d102",
   "metadata": {},
   "outputs": [],
   "source": [
    "Ans 9:-\n",
    "For the Binomial distribution:\n",
    "\n",
    "Mean (μ) = n * p\n",
    "where n is the number of trials and p is the probability of success in each trial.\n",
    "\n",
    "Variance (σ^2) = n * p * (1 - p)\n",
    "\n",
    "For the Poisson distribution:\n",
    "\n",
    "Mean (μ) = λ\n",
    "where λ (lambda) is the average rate of events occurring in a fixed interval of time or space.\n",
    "\n",
    "Variance (σ^2) = λ"
   ]
  },
  {
   "cell_type": "code",
   "execution_count": null,
   "id": "0ae89311-90de-4f12-a2b3-222a962967af",
   "metadata": {},
   "outputs": [],
   "source": []
  },
  {
   "cell_type": "markdown",
   "id": "50cee40a-4ce0-43d3-8567-d99e8cd0de4e",
   "metadata": {},
   "source": [
    "Q10. In normal distribution with respect to mean position, where does the least frequent data appear?"
   ]
  },
  {
   "cell_type": "code",
   "execution_count": null,
   "id": "49f1c125-6ab9-44c0-9c4d-93598b7a0d74",
   "metadata": {},
   "outputs": [],
   "source": [
    "Ans 10:-\n",
    "In a normal distribution, the least frequent data appears in the tails of the distribution, which are located on both ends of the curve.\n",
    "The tails of the normal distribution represent the extreme values, and they occur with lower frequencies compared to the values around the mean."
   ]
  }
 ],
 "metadata": {
  "kernelspec": {
   "display_name": "Python 3 (ipykernel)",
   "language": "python",
   "name": "python3"
  },
  "language_info": {
   "codemirror_mode": {
    "name": "ipython",
    "version": 3
   },
   "file_extension": ".py",
   "mimetype": "text/x-python",
   "name": "python",
   "nbconvert_exporter": "python",
   "pygments_lexer": "ipython3",
   "version": "3.10.8"
  }
 },
 "nbformat": 4,
 "nbformat_minor": 5
}
