{
 "cells": [
  {
   "cell_type": "markdown",
   "id": "708949e8-12a8-4d5e-9c4d-9c74986cf2ee",
   "metadata": {},
   "source": [
    "Q1. What is data encoding? How is it useful in data science?"
   ]
  },
  {
   "cell_type": "code",
   "execution_count": null,
   "id": "9da73c28-2ab2-45dd-b352-f72aa203a865",
   "metadata": {},
   "outputs": [],
   "source": [
    "Ans 1:-\n",
    "Data encoding, also known as data transformation or data encoding, is the process of converting categorical or textual data into a numerical format that can be\n",
    "easily processed and used in various data analysis and machine learning algorithms.\n",
    "In data science, data encoding plays a crucial role in preparing the data for analysis, as many machine learning models and statistical techniques require numerical\n",
    "input features."
   ]
  },
  {
   "cell_type": "code",
   "execution_count": null,
   "id": "f1c22ad2-9cf3-4aaa-81f9-4324e894c2af",
   "metadata": {},
   "outputs": [],
   "source": [
    "Numerical Representation:\n",
    "    Many machine learning algorithms and statistical techniques can only handle numerical data.\n",
    "    Data encoding allows us to represent categorical or textual information in a format that can be processed by these algorithms.\n",
    "\n",
    "Feature Engineering:\n",
    "    Data encoding is an essential step in feature engineering, where we transform the raw data into meaningful and relevant features that can improve the performance\n",
    "    of machine learning models.\n",
    "\n",
    "Data Preprocessing:\n",
    "    Data encoding is a part of the data preprocessing pipeline, which involves handling missing values, scaling numerical features, and converting categorical data\n",
    "    to numerical form before feeding it to the model.\n",
    "\n",
    "Model Compatibility:\n",
    "    Data encoding ensures that the input data is compatible with the requirements of the chosen machine learning model, which typically expects numerical input."
   ]
  },
  {
   "cell_type": "code",
   "execution_count": null,
   "id": "d7d7ba23-4b03-4f66-bbd9-55ae14f1a50d",
   "metadata": {},
   "outputs": [],
   "source": []
  },
  {
   "cell_type": "markdown",
   "id": "7de5a0dc-d117-4921-9578-09ca836b68b6",
   "metadata": {},
   "source": [
    "Q2. What is nominal encoding? Provide an example of how you would use it in a real-world scenario."
   ]
  },
  {
   "cell_type": "code",
   "execution_count": null,
   "id": "1dcf3fd2-e0fc-4527-b87b-2aacf49679ba",
   "metadata": {},
   "outputs": [],
   "source": [
    "Ans 2:-\n",
    "Nominal encoding, also known as label encoding or integer encoding, is a data encoding technique used to convert categorical variables with no inherent order into\n",
    "numerical values.\n",
    "In nominal encoding, each category is assigned a unique integer label, which allows the data to be represented in a numerical format suitable for machine learning\n",
    "algorithms"
   ]
  },
  {
   "cell_type": "code",
   "execution_count": null,
   "id": "160b97d1-08e5-45bb-bc14-14b6b1b1aedc",
   "metadata": {},
   "outputs": [],
   "source": [
    "Example of Nominal Encoding:\n",
    "    Lets consider a real-world scenario of customer data for an e-commerce website.\n",
    "    The dataset contains a categorical variable named \"City\" representing the city of residence for each customer.\n",
    "    The \"City\" variable has categories such as \"New York,\" \"Los Angeles,\" \"Chicago,\" and \"Miami,\" with no inherent ordering between the cities."
   ]
  },
  {
   "cell_type": "code",
   "execution_count": 1,
   "id": "08d05350-e933-42d9-ba0b-66090ef8ba89",
   "metadata": {},
   "outputs": [
    {
     "name": "stdout",
     "output_type": "stream",
     "text": [
      "   Customer ID  City  Age  Gender  Income\n",
      "0            1     1   35    Male   60000\n",
      "1            2     2   28  Female   75000\n",
      "2            3     3   42    Male   80000\n",
      "3            4     4   30  Female   55000\n",
      "4            5     1   50    Male   90000\n"
     ]
    }
   ],
   "source": [
    "import pandas as pd\n",
    "\n",
    "data = {\n",
    "    'Customer ID': [1, 2, 3, 4, 5],\n",
    "    'City': ['New York', 'Los Angeles', 'Chicago', 'Miami', 'New York'],\n",
    "    'Age': [35, 28, 42, 30, 50],\n",
    "    'Gender': ['Male', 'Female', 'Male', 'Female', 'Male'],\n",
    "    'Income': [60000, 75000, 80000, 55000, 90000]\n",
    "}\n",
    "\n",
    "df = pd.DataFrame(data)\n",
    "\n",
    "city_encoding = {\n",
    "    'New York': 1,\n",
    "    'Los Angeles': 2,\n",
    "    'Chicago': 3,\n",
    "    'Miami': 4\n",
    "}\n",
    "\n",
    "df['City'] = df['City'].map(city_encoding)\n",
    "\n",
    "print(df)\n"
   ]
  },
  {
   "cell_type": "code",
   "execution_count": null,
   "id": "319fcb7c-2e20-4155-8c2a-9d8dfb741282",
   "metadata": {},
   "outputs": [],
   "source": []
  },
  {
   "cell_type": "markdown",
   "id": "cb1e1f82-d845-4b5e-b6f6-a2896882a6e3",
   "metadata": {},
   "source": [
    "Q3. In what situations is nominal encoding preferred over one-hot encoding? Provide a practical example."
   ]
  },
  {
   "cell_type": "code",
   "execution_count": null,
   "id": "f016ab21-82f5-416d-9474-bc8655972425",
   "metadata": {},
   "outputs": [],
   "source": [
    "Ans 3:-\n",
    "Nominal encoding is preferred over one-hot encoding in situations where the categorical variable has a high cardinality, meaning it has a large number of unique\n",
    "categories.\n",
    "One-hot encoding can lead to a significant increase in the number of features, which can cause the curse of dimensionality and make the dataset computationally\n",
    "expensive and prone to overfitting."
   ]
  },
  {
   "cell_type": "code",
   "execution_count": 2,
   "id": "f63e217f-7c40-4020-9bd5-04e07a87cf8a",
   "metadata": {},
   "outputs": [
    {
     "name": "stdout",
     "output_type": "stream",
     "text": [
      "   Product ID  Category  Price  Rating  Quantity\n",
      "0           1         1    500     4.5       100\n",
      "1           2         2     50     4.2       500\n",
      "2           3         1   1000     4.8        50\n",
      "3           4         3    200     4.0       300\n",
      "4           5         4    300     4.7       200\n"
     ]
    }
   ],
   "source": [
    "import pandas as pd\n",
    "\n",
    "data = {\n",
    "    'Product ID': [1, 2, 3, 4, 5],\n",
    "    'Category': ['Electronics', 'Clothing', 'Electronics', 'Home & Kitchen', 'Sports & Outdoors'],\n",
    "    'Price': [500, 50, 1000, 200, 300],\n",
    "    'Rating': [4.5, 4.2, 4.8, 4.0, 4.7],\n",
    "    'Quantity': [100, 500, 50, 300, 200]\n",
    "}\n",
    "\n",
    "df = pd.DataFrame(data)\n",
    "\n",
    "category_encoding = {\n",
    "    'Electronics': 1,\n",
    "    'Clothing': 2,\n",
    "    'Home & Kitchen': 3,\n",
    "    'Sports & Outdoors': 4\n",
    "}\n",
    "\n",
    "df['Category'] = df['Category'].map(category_encoding)\n",
    "\n",
    "print(df)\n"
   ]
  },
  {
   "cell_type": "code",
   "execution_count": null,
   "id": "18541383-9c40-4583-be45-a5a5289e9042",
   "metadata": {},
   "outputs": [],
   "source": []
  },
  {
   "cell_type": "markdown",
   "id": "10af129c-60a2-4209-ac84-554afb13dfa5",
   "metadata": {},
   "source": [
    "Q4. Suppose you have a dataset containing categorical data with 5 unique values. Which encoding\n",
    "technique would you use to transform this data into a format suitable for machine learning algorithms?\n",
    "Explain why you made this choice."
   ]
  },
  {
   "cell_type": "code",
   "execution_count": null,
   "id": "e274671a-db0f-4df1-a45e-0ad04c15b763",
   "metadata": {},
   "outputs": [],
   "source": [
    "Ans 4:-\n",
    "If the dataset contains categorical data with 5 unique values, one of the encoding techniques that can be used to transform the data into a format suitable for\n",
    "machine learning algorithms is \"One-Hot Encoding.\""
   ]
  },
  {
   "cell_type": "code",
   "execution_count": null,
   "id": "d33a5599-25f0-45a1-b82d-dcfa26e03852",
   "metadata": {},
   "outputs": [],
   "source": [
    "One-Hot Encoding is a popular technique used to convert categorical variables into a binary representation, where each unique category is represented by a binary\n",
    "vector of 0s and 1s.\n",
    "One column is created for each unique category, and the presence of a category is indicated by a 1 in the corresponding column and 0s in all other columns."
   ]
  },
  {
   "cell_type": "code",
   "execution_count": null,
   "id": "c3c21a58-2684-4f78-b780-48cb5bec1acf",
   "metadata": {},
   "outputs": [],
   "source": [
    "Maintaining the Uniqueness of Categories:\n",
    "    One-Hot Encoding ensures that each category is represented by a distinct binary vector, preserving the unique information of each category in the dataset.\n",
    "\n",
    "Avoiding Ordinal Assumptions:\n",
    "    One-Hot Encoding does not impose any ordinal assumptions on the categories, unlike techniques like Label Encoding, which may inadvertently introduce an ordinal\n",
    "    relationship between the categories.\n",
    "\n",
    "Compatibility with Machine Learning Algorithms:\n",
    "    Many machine learning algorithms require numerical inputs, and One-Hot Encoding provides a numerical representation of categorical data that is compatible\n",
    "    with a wide range of algorithms.\n",
    "\n",
    "Avoiding Misinterpretation:\n",
    "    Using One-Hot Encoding helps prevent the misinterpretation of categorical data as numerical data with an implicit order, ensuring that the model treats each\n",
    "    category as a separate entity."
   ]
  },
  {
   "cell_type": "code",
   "execution_count": null,
   "id": "589394f8-9d83-40c9-8d94-adc79a1c4651",
   "metadata": {},
   "outputs": [],
   "source": []
  },
  {
   "cell_type": "markdown",
   "id": "c9cb46eb-c748-4386-88ac-7ce66473d18d",
   "metadata": {},
   "source": [
    "Q5. In a machine learning project, you have a dataset with 1000 rows and 5 columns. Two of the columns\n",
    "are categorical, and the remaining three columns are numerical. If you were to use nominal encoding to\n",
    "transform the categorical data, how many new columns would be created? Show your calculations."
   ]
  },
  {
   "cell_type": "code",
   "execution_count": null,
   "id": "a42ca07e-0afa-4ecf-9439-3a2c0ae3e783",
   "metadata": {},
   "outputs": [],
   "source": [
    "Ans 5:-\n",
    "To use nominal encoding to transform the categorical data, you would create a new column for each unique category in each of the two categorical columns.\n",
    "The number of new columns created would be equal to the total number of unique categories in both columns."
   ]
  },
  {
   "cell_type": "code",
   "execution_count": null,
   "id": "6a42b28a-dab7-4258-b7a8-130ad1d43d9f",
   "metadata": {},
   "outputs": [],
   "source": [
    "Number of unique categories in the first categorical column = 4\n",
    "Number of unique categories in the second categorical column = 5\n",
    "\n",
    "Total number of new columns = Number of unique categories in column 1 + Number of unique categories in column 2\n",
    "Total number of new columns = 4 + 5 = 9"
   ]
  },
  {
   "cell_type": "code",
   "execution_count": null,
   "id": "4eabb782-db78-48b3-8bcc-baac4eec5ac5",
   "metadata": {},
   "outputs": [],
   "source": [
    "Therefore, using nominal encoding would create 9 new columns in the dataset.\n",
    "Each of these new columns will represent a binary variable for each unique category in the original categorical columns"
   ]
  },
  {
   "cell_type": "code",
   "execution_count": null,
   "id": "befbdb97-6d42-4eb6-b586-080a27aa7f38",
   "metadata": {},
   "outputs": [],
   "source": []
  },
  {
   "cell_type": "markdown",
   "id": "e1fe02a0-3eaa-4d2a-812c-5285fdfdf880",
   "metadata": {},
   "source": [
    "Q6. You are working with a dataset containing information about different types of animals, including their\n",
    "species, habitat, and diet. Which encoding technique would you use to transform the categorical data into\n",
    "a format suitable for machine learning algorithms? Justify your answer."
   ]
  },
  {
   "cell_type": "code",
   "execution_count": null,
   "id": "bdf8fe39-c6b9-4c0f-969c-bf7c075495d5",
   "metadata": {},
   "outputs": [],
   "source": [
    "Ans 6:-\n",
    "For the given dataset containing information about different types of animals, including their species, habitat, and diet, the most appropriate encoding technique\n",
    "would be \"One-Hot Encoding.\""
   ]
  },
  {
   "cell_type": "code",
   "execution_count": null,
   "id": "815b3cc4-7e1c-4012-a424-52f5c76fd1ed",
   "metadata": {},
   "outputs": [],
   "source": [
    "Handling Categorical Variables:\n",
    "    One-Hot Encoding is particularly suitable for handling categorical variables with multiple unique categories, such as species, habitat, and diet in this case.\n",
    "    It will convert each unique category into a binary vector representation, avoiding any ordinal assumptions between the categories.\n",
    "\n",
    "Preserving Information:\n",
    "    One-Hot Encoding preserves the unique information of each category in separate binary columns.\n",
    "    This representation allows the machine learning algorithm to consider each category independently and prevent any bias or ordering between them.\n",
    "\n",
    "Compatibility with Algorithms:\n",
    "    Many machine learning algorithms require numerical input.\n",
    "    One-Hot Encoding converts the categorical data into a numerical format that can be effectively used by various algorithms."
   ]
  },
  {
   "cell_type": "code",
   "execution_count": null,
   "id": "ea83e69c-32e6-401a-935b-1a56b1036e7a",
   "metadata": {},
   "outputs": [],
   "source": []
  },
  {
   "cell_type": "markdown",
   "id": "20810289-5723-4451-b346-9ab6782233ea",
   "metadata": {},
   "source": [
    "Q7.You are working on a project that involves predicting customer churn for a telecommunications\n",
    "company. You have a dataset with 5 features, including the customer's gender, age, contract type,\n",
    "monthly charges, and tenure. Which encoding technique(s) would you use to transform the categorical\n",
    "data into numerical data? Provide a step-by-step explanation of how you would implement the encoding."
   ]
  },
  {
   "cell_type": "code",
   "execution_count": null,
   "id": "4f4f5e8a-a808-4892-ac69-dc888bdd3aef",
   "metadata": {},
   "outputs": [],
   "source": [
    "Ans 7:-\n",
    "To transform the categorical data into numerical data for the customer churn prediction project, we would use the following encoding techniques for each\n",
    "categorical feature:\n",
    "    \n",
    "Gender:\n",
    "    Since gender is a binary categorical feature (male/female), we can use Label Encoding to convert it into numerical values.\n",
    "\n",
    "Contract Type:\n",
    "    The contract type is likely to have more than two categories (e.g., monthly, yearly, etc.).\n",
    "    In this case, we would use One-Hot Encoding to convert each contract type category into a separate binary column."
   ]
  },
  {
   "cell_type": "code",
   "execution_count": null,
   "id": "44465e68-3c3c-420a-965d-2f8848ee90b0",
   "metadata": {},
   "outputs": [],
   "source": [
    "Step 1: Load and preprocess the dataset:\n",
    "    Load the dataset containing customer information, including gender, age, contract type, monthly charges, and tenure.\n",
    "    Handle any missing data and perform necessary data cleaning.\n",
    "    \n",
    "Step 2: Label Encoding for Gender:\n",
    "    Use Label Encoding to convert the \"gender\" column, which contains binary categories (e.g., \"male\" and \"female\"), into numerical values (e.g., 0 and 1).\n",
    "    \n",
    "Step 3: One-Hot Encoding for Contract Type:\n",
    "    Use One-Hot Encoding to convert the \"contract type\" column, which contains multiple categories (e.g., \"monthly,\" \"yearly,\" etc.), into separate binary columns.\n",
    "    For example, if the original contract type categories are [\"monthly\", \"yearly\", \"two-year\"], after One-Hot Encoding, we will have three new binary columns:\n",
    "    \"contract_type_monthly\", \"contract_type_yearly\", and \"contract_type_two-year.\"\n",
    "    Each row will have a 1 in the corresponding contract type column and 0s in all other contract type columns.\n",
    "    \n",
    "Step 4: Normalize Numerical Features (Optional):\n",
    "    Since the \"age,\" \"monthly charges,\" and \"tenure\" features are numerical, we might choose to normalize or scale them to a common range\n",
    "    (e.g., using Min-Max scaling) to ensure they have equal importance in the model."
   ]
  },
  {
   "cell_type": "code",
   "execution_count": null,
   "id": "4b175fbe-4fe6-4d32-85f1-cbb3b96f82d1",
   "metadata": {},
   "outputs": [],
   "source": []
  }
 ],
 "metadata": {
  "kernelspec": {
   "display_name": "Python 3 (ipykernel)",
   "language": "python",
   "name": "python3"
  },
  "language_info": {
   "codemirror_mode": {
    "name": "ipython",
    "version": 3
   },
   "file_extension": ".py",
   "mimetype": "text/x-python",
   "name": "python",
   "nbconvert_exporter": "python",
   "pygments_lexer": "ipython3",
   "version": "3.10.8"
  }
 },
 "nbformat": 4,
 "nbformat_minor": 5
}
