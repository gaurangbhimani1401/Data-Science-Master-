{
 "cells": [
  {
   "cell_type": "markdown",
   "id": "8ba995c0-7715-4bda-8d70-6520a08e17aa",
   "metadata": {},
   "source": [
    "Q1. Import the dataset and examine the variables. Use descriptive statistics and visualizations to\n",
    "understand the distribution and relationships between the variables."
   ]
  },
  {
   "cell_type": "code",
   "execution_count": null,
   "id": "8a4a5dd4-faf0-48e3-b10f-6c1452a6c56a",
   "metadata": {},
   "outputs": [],
   "source": [
    "Ans 1:-Import the necessary libraries and load the dataset:"
   ]
  },
  {
   "cell_type": "code",
   "execution_count": 1,
   "id": "f7ec47bc-e691-491c-8ba9-1b672037f824",
   "metadata": {},
   "outputs": [],
   "source": [
    "import pandas as pd\n",
    "import seaborn as sns\n",
    "import matplotlib.pyplot as plt\n",
    "url = \"https://drive.google.com/file/d/1Q4J8KS1wm4-_YTuc389enPh6O-eTNcx2/view?usp=sharing\"\n",
    "data = pd.read_csv(url)"
   ]
  },
  {
   "cell_type": "code",
   "execution_count": 2,
   "id": "26f0bc2b-120d-4534-afc9-7832ea5e65d7",
   "metadata": {},
   "outputs": [
    {
     "name": "stdout",
     "output_type": "stream",
     "text": [
      "  <!DOCTYPE html><html><head><meta name=\"google\" content=\"notranslate\"><meta http-equiv=\"X-UA-Compatible\" content=\"IE=edge;\"><style nonce=\"x7S7fsPSUjXA_qM-qeGwRw\">@font-face{font-family:'Roboto';font-style:italic;font-weight:400;src:url(//fonts.gstatic.com/s/roboto/v18/KFOkCnqEu92Fr1Mu51xIIzc.ttf)format('truetype');}@font-face{font-family:'Roboto';font-style:normal;font-weight:300;src:url(//fonts.gstatic.com/s/roboto/v18/KFOlCnqEu92Fr1MmSU5fBBc9.ttf)format('truetype');}@font-face{font-family:'Roboto';font-style:normal;font-weight:400;src:url(//fonts.gstatic.com/s/roboto/v18/KFOmCnqEu92Fr1Mu4mxP.ttf)format('truetype');}@font-face{font-family:'Roboto';font-style:normal;font-weight:500;src:url(//fonts.gstatic.com/s/roboto/v18/KFOlCnqEu92Fr1MmEU9fBBc9.ttf)format('truetype');}@font-face{font-family:'Roboto';font-style:normal;font-weight:700;src:url(//fonts.gstatic.com/s/roboto/v18/KFOlCnqEu92Fr1MmWUlfBBc9.ttf)format('truetype');}</style><meta name=\"referrer\" content=\"origin\"><title>diabetes.csv - Google Drive</title><meta property=\"og:title\" content=\"diabetes.csv\"><meta property=\"og:type\" content=\"article\"><meta property=\"og:site_name\" content=\"Google Docs\"><meta property=\"og:url\" content=\"https://drive.google.com/file/d/1Q4J8KS1wm4-_YTuc389enPh6O-eTNcx2/view?usp=sharing&amp;usp=embed_facebook\"><link rel=\"shortcut icon\" href=\"https://ssl.gstatic.com/images/branding/product/1x/drive_2020q4_32dp.png\"><link rel=\"stylesheet\" href=\"https://fonts.googleapis.com/css?family=Google+Sans:300  \\\n",
      "0                                               try{                                                                                                                                                                                                                                                                                                                                                                                                                                                                                                                                                                                                                                                                                                                                                                                                                                                                                                                                                                                                                                                                                                                                                                                                                                                                                                                                                                                                                                                                                                            \n",
      "1  _._F_toggles_initialize=function(a){(\"undefine...                                                                                                                                                                                                                                                                                                                                                                                                                                                                                                                                                                                                                                                                                                                                                                                                                                                                                                                                                                                                                                                                                                                                                                                                                                                                                                                                                                                                                                                                                                            \n",
      "2                                                 /*                                                                                                                                                                                                                                                                                                                                                                                                                                                                                                                                                                                                                                                                                                                                                                                                                                                                                                                                                                                                                                                                                                                                                                                                                                                                                                                                                                                                                                                                                                            \n",
      "3             Copyright The Closure Library Authors.                                                                                                                                                                                                                                                                                                                                                                                                                                                                                                                                                                                                                                                                                                                                                                                                                                                                                                                                                                                                                                                                                                                                                                                                                                                                                                                                                                                                                                                                                                            \n",
      "4                SPDX-License-Identifier: Apache-2.0                                                                                                                                                                                                                                                                                                                                                                                                                                                                                                                                                                                                                                                                                                                                                                                                                                                                                                                                                                                                                                                                                                                                                                                                                                                                                                                                                                                                                                                                                                            \n",
      "\n",
      "                             400  500  \\\n",
      "0                            NaN  NaN   \n",
      "1  _._F_toggles_initialize)([]);  NaN   \n",
      "2                            NaN  NaN   \n",
      "3                            NaN  NaN   \n",
      "4                            NaN  NaN   \n",
      "\n",
      "  700\" nonce=\"x7S7fsPSUjXA_qM-qeGwRw\"><link rel=\"stylesheet\" href=\"https://www.gstatic.com/_/apps-fileview/_/ss/k=apps-fileview.v.tA_tFv5N7mc.L.X.O/d=0/rs=AO0039tfOyeyyy5LoB2hLMm1ivHPrMzW6w\" nonce=\"x7S7fsPSUjXA_qM-qeGwRw\"><script nonce=\"IxXh4typW1sogFAMj_yDsw\">_docs_flag_initialData={\"docs-ails\":\"docs_cold\"  \\\n",
      "0                                                NaN                                                                                                                                                                                                                                                                   \n",
      "1                                                NaN                                                                                                                                                                                                                                                                   \n",
      "2                                                NaN                                                                                                                                                                                                                                                                   \n",
      "3                                                NaN                                                                                                                                                                                                                                                                   \n",
      "4                                                NaN                                                                                                                                                                                                                                                                   \n",
      "\n",
      "  docs-fwds:\"docs_sdf\" docs-crs:\"docs_crs_nl\" docs-fe-re:2 docs-fl:1  \\\n",
      "0                  NaN                    NaN          NaN       NaN   \n",
      "1                  NaN                    NaN          NaN       NaN   \n",
      "2                  NaN                    NaN          NaN       NaN   \n",
      "3                  NaN                    NaN          NaN       NaN   \n",
      "4                  NaN                    NaN          NaN       NaN   \n",
      "\n",
      "  docs-l1lc:5 docs-l1lm:\"BOM\"  ... 0.88 0.89 0.90 1.68 82159412].1 [[null.2  \\\n",
      "0         NaN             NaN  ...  NaN  NaN  NaN  NaN         NaN      NaN   \n",
      "1         NaN             NaN  ...  NaN  NaN  NaN  NaN         NaN      NaN   \n",
      "2         NaN             NaN  ...  NaN  NaN  NaN  NaN         NaN      NaN   \n",
      "3         NaN             NaN  ...  NaN  NaN  NaN  NaN         NaN      NaN   \n",
      "4         NaN             NaN  ...  NaN  NaN  NaN  NaN         NaN      NaN   \n",
      "\n",
      "  null.214 null.215  \\\n",
      "0      NaN      NaN   \n",
      "1      NaN      NaN   \n",
      "2      NaN      NaN   \n",
      "3      NaN      NaN   \n",
      "4      NaN      NaN   \n",
      "\n",
      "  https://www.gstatic.com/og/_/js/k=og.qtm.en_US.3VDdw2tG9_o.es5.O/rt=j/m=qabr,q_dnp,qapid,q_dg/exm=qaaw,qadd,qaid,qein,qhaw,qhba,qhbr,qhch,qhga,qhid,qhin/d=1/ed=1/rs=AA2YrTskDbSDgjkQESElJ7zGz0FQQf6VjQ]]]]  \\\n",
      "0                                                NaN                                                                                                                                                            \n",
      "1                                                NaN                                                                                                                                                            \n",
      "2                                                NaN                                                                                                                                                            \n",
      "3                                                NaN                                                                                                                                                            \n",
      "4                                                NaN                                                                                                                                                            \n",
      "\n",
      "  };this.gbar_=this.gbar_||{};(function(_){var window=this;  \n",
      "0                                                NaN         \n",
      "1                                                NaN         \n",
      "2                                                NaN         \n",
      "3                                                NaN         \n",
      "4                                                NaN         \n",
      "\n",
      "[5 rows x 1039 columns]\n"
     ]
    }
   ],
   "source": [
    "print(data.head())"
   ]
  },
  {
   "cell_type": "code",
   "execution_count": 3,
   "id": "481d8980-05b1-4beb-a735-afdc544630bb",
   "metadata": {},
   "outputs": [
    {
     "name": "stdout",
     "output_type": "stream",
     "text": [
      "       docs-eridwm:false    uls:\"\"  49765402  71239074  49451659  71152193  \\\n",
      "count           3.000000  2.000000       1.0       1.0       1.0       1.0   \n",
      "mean          106.666667  1.000000      64.0      67.0      64.0      67.0   \n",
      "std           131.804148  1.414214       NaN       NaN       NaN       NaN   \n",
      "min             3.000000  0.000000      64.0      67.0      64.0      67.0   \n",
      "25%            32.500000  0.500000      64.0      67.0      64.0      67.0   \n",
      "50%            62.000000  1.000000      64.0      67.0      64.0      67.0   \n",
      "75%           158.500000  1.500000      64.0      67.0      64.0      67.0   \n",
      "max           255.000000  2.000000      64.0      67.0      64.0      67.0   \n",
      "\n",
      "       50606495  50266070  5704745  5712639  ...  0.88  0.89  0.90  1.68  \\\n",
      "count       1.0       1.0      1.0      1.0  ...   0.0   0.0   0.0   0.0   \n",
      "mean       64.0      67.0     64.0     67.0  ...   NaN   NaN   NaN   NaN   \n",
      "std         NaN       NaN      NaN      NaN  ...   NaN   NaN   NaN   NaN   \n",
      "min        64.0      67.0     64.0     67.0  ...   NaN   NaN   NaN   NaN   \n",
      "25%        64.0      67.0     64.0     67.0  ...   NaN   NaN   NaN   NaN   \n",
      "50%        64.0      67.0     64.0     67.0  ...   NaN   NaN   NaN   NaN   \n",
      "75%        64.0      67.0     64.0     67.0  ...   NaN   NaN   NaN   NaN   \n",
      "max        64.0      67.0     64.0     67.0  ...   NaN   NaN   NaN   NaN   \n",
      "\n",
      "       82159412].1  [[null.2  null.214  null.215  \\\n",
      "count          0.0       0.0       0.0       0.0   \n",
      "mean           NaN       NaN       NaN       NaN   \n",
      "std            NaN       NaN       NaN       NaN   \n",
      "min            NaN       NaN       NaN       NaN   \n",
      "25%            NaN       NaN       NaN       NaN   \n",
      "50%            NaN       NaN       NaN       NaN   \n",
      "75%            NaN       NaN       NaN       NaN   \n",
      "max            NaN       NaN       NaN       NaN   \n",
      "\n",
      "       https://www.gstatic.com/og/_/js/k=og.qtm.en_US.3VDdw2tG9_o.es5.O/rt=j/m=qabr,q_dnp,qapid,q_dg/exm=qaaw,qadd,qaid,qein,qhaw,qhba,qhbr,qhch,qhga,qhid,qhin/d=1/ed=1/rs=AA2YrTskDbSDgjkQESElJ7zGz0FQQf6VjQ]]]]  \\\n",
      "count                                                0.0                                                                                                                                                             \n",
      "mean                                                 NaN                                                                                                                                                             \n",
      "std                                                  NaN                                                                                                                                                             \n",
      "min                                                  NaN                                                                                                                                                             \n",
      "25%                                                  NaN                                                                                                                                                             \n",
      "50%                                                  NaN                                                                                                                                                             \n",
      "75%                                                  NaN                                                                                                                                                             \n",
      "max                                                  NaN                                                                                                                                                             \n",
      "\n",
      "       };this.gbar_=this.gbar_||{};(function(_){var window=this;  \n",
      "count                                                0.0          \n",
      "mean                                                 NaN          \n",
      "std                                                  NaN          \n",
      "min                                                  NaN          \n",
      "25%                                                  NaN          \n",
      "50%                                                  NaN          \n",
      "75%                                                  NaN          \n",
      "max                                                  NaN          \n",
      "\n",
      "[8 rows x 700 columns]\n"
     ]
    }
   ],
   "source": [
    "print(data.describe())"
   ]
  },
  {
   "cell_type": "code",
   "execution_count": 4,
   "id": "3743ab41-58e5-4ff6-a0cf-c944076a766c",
   "metadata": {},
   "outputs": [
    {
     "name": "stdout",
     "output_type": "stream",
     "text": [
      "<!DOCTYPE html><html><head><meta name=\"google\" content=\"notranslate\"><meta http-equiv=\"X-UA-Compatible\" content=\"IE=edge;\"><style nonce=\"x7S7fsPSUjXA_qM-qeGwRw\">@font-face{font-family:'Roboto';font-style:italic;font-weight:400;src:url(//fonts.gstatic.com/s/roboto/v18/KFOkCnqEu92Fr1Mu51xIIzc.ttf)format('truetype');}@font-face{font-family:'Roboto';font-style:normal;font-weight:300;src:url(//fonts.gstatic.com/s/roboto/v18/KFOlCnqEu92Fr1MmSU5fBBc9.ttf)format('truetype');}@font-face{font-family:'Roboto';font-style:normal;font-weight:400;src:url(//fonts.gstatic.com/s/roboto/v18/KFOmCnqEu92Fr1Mu4mxP.ttf)format('truetype');}@font-face{font-family:'Roboto';font-style:normal;font-weight:500;src:url(//fonts.gstatic.com/s/roboto/v18/KFOlCnqEu92Fr1MmEU9fBBc9.ttf)format('truetype');}@font-face{font-family:'Roboto';font-style:normal;font-weight:700;src:url(//fonts.gstatic.com/s/roboto/v18/KFOlCnqEu92Fr1MmWUlfBBc9.ttf)format('truetype');}</style><meta name=\"referrer\" content=\"origin\"><title>diabetes.csv - Google Drive</title><meta property=\"og:title\" content=\"diabetes.csv\"><meta property=\"og:type\" content=\"article\"><meta property=\"og:site_name\" content=\"Google Docs\"><meta property=\"og:url\" content=\"https://drive.google.com/file/d/1Q4J8KS1wm4-_YTuc389enPh6O-eTNcx2/view?usp=sharing&amp;usp=embed_facebook\"><link rel=\"shortcut icon\" href=\"https://ssl.gstatic.com/images/branding/product/1x/drive_2020q4_32dp.png\"><link rel=\"stylesheet\" href=\"https://fonts.googleapis.com/css?family=Google+Sans:300      0\n",
      "400                                                                                                                                                                                                                                                                                                                                                                                                                                                                                                                                                                                                                                                                                                                                                                                                                                                                                                                                                                                                                                                                                                                                                                                                                                                                                                                                                                                                                                                                                                                                                             47\n",
      "500                                                                                                                                                                                                                                                                                                                                                                                                                                                                                                                                                                                                                                                                                                                                                                                                                                                                                                                                                                                                                                                                                                                                                                                                                                                                                                                                                                                                                                                                                                                                                             53\n",
      "700\" nonce=\"x7S7fsPSUjXA_qM-qeGwRw\"><link rel=\"stylesheet\" href=\"https://www.gstatic.com/_/apps-fileview/_/ss/k=apps-fileview.v.tA_tFv5N7mc.L.X.O/d=0/rs=AO0039tfOyeyyy5LoB2hLMm1ivHPrMzW6w\" nonce=\"x7S7fsPSUjXA_qM-qeGwRw\"><script nonce=\"IxXh4typW1sogFAMj_yDsw\">_docs_flag_initialData={\"docs-ails\":\"docs_cold\"                                                                                                                                                                                                                                                                                                                                                                                                                                                                                                                                                                                                                                                                                                                                                                                                                                                                                                                                                                                                                                                                                                                                                                                                                                              57\n",
      "docs-fwds:\"docs_sdf\"                                                                                                                                                                                                                                                                                                                                                                                                                                                                                                                                                                                                                                                                                                                                                                                                                                                                                                                                                                                                                                                                                                                                                                                                                                                                                                                                                                                                                                                                                                                                            61\n",
      "                                                                                                                                                                                                                                                                                                                                                                                                                                                                                                                                                                                                                                                                                                                                                                                                                                                                                                                                                                                                                                                                                                                                                                                                                                                                                                                                                                                                                                                                                                                                                              ... \n",
      "[[null.2                                                                                                                                                                                                                                                                                                                                                                                                                                                                                                                                                                                                                                                                                                                                                                                                                                                                                                                                                                                                                                                                                                                                                                                                                                                                                                                                                                                                                                                                                                                                                       125\n",
      "null.214                                                                                                                                                                                                                                                                                                                                                                                                                                                                                                                                                                                                                                                                                                                                                                                                                                                                                                                                                                                                                                                                                                                                                                                                                                                                                                                                                                                                                                                                                                                                                       125\n",
      "null.215                                                                                                                                                                                                                                                                                                                                                                                                                                                                                                                                                                                                                                                                                                                                                                                                                                                                                                                                                                                                                                                                                                                                                                                                                                                                                                                                                                                                                                                                                                                                                       125\n",
      "https://www.gstatic.com/og/_/js/k=og.qtm.en_US.3VDdw2tG9_o.es5.O/rt=j/m=qabr,q_dnp,qapid,q_dg/exm=qaaw,qadd,qaid,qein,qhaw,qhba,qhbr,qhch,qhga,qhid,qhin/d=1/ed=1/rs=AA2YrTskDbSDgjkQESElJ7zGz0FQQf6VjQ]]]]                                                                                                                                                                                                                                                                                                                                                                                                                                                                                                                                                                                                                                                                                                                                                                                                                                                                                                                                                                                                                                                                                                                                                                                                                                                                                                                                                    125\n",
      "};this.gbar_=this.gbar_||{};(function(_){var window=this;                                                                                                                                                                                                                                                                                                                                                                                                                                                                                                                                                                                                                                                                                                                                                                                                                                                                                                                                                                                                                                                                                                                                                                                                                                                                                                                                                                                                                                                                                                      125\n",
      "Length: 1039, dtype: int64\n"
     ]
    }
   ],
   "source": [
    "print(data.isnull().sum())"
   ]
  },
  {
   "cell_type": "code",
   "execution_count": null,
   "id": "3d396641-00e5-4067-9a90-844bcf27c185",
   "metadata": {},
   "outputs": [],
   "source": [
    "# # Histograms of numerical variables\n",
    "# data.hist(bins=20, figsize=(12, 8))\n",
    "# plt.show()\n",
    "\n",
    "# # Pair plot to visualize relationships\n",
    "# sns.pairplot(data, hue=\"Outcome\", diag_kind=\"kde\")\n",
    "# plt.show()\n",
    "\n",
    "# # Correlation heatmap\n",
    "# corr_matrix = data.corr()\n",
    "# plt.figure(figsize=(10, 8))\n",
    "# sns.heatmap(corr_matrix, annot=True, cmap=\"coolwarm\")\n",
    "# plt.show()"
   ]
  },
  {
   "cell_type": "code",
   "execution_count": null,
   "id": "9bd082a8-8047-40aa-98e0-ee17b7452eb2",
   "metadata": {},
   "outputs": [],
   "source": []
  },
  {
   "cell_type": "markdown",
   "id": "ad94bdf5-3dd7-401c-94d2-327087a3b824",
   "metadata": {},
   "source": [
    "Q2. Preprocess the data by cleaning missing values, removing outliers, and transforming categorical\n",
    "variables into dummy variables if necessary."
   ]
  },
  {
   "cell_type": "code",
   "execution_count": null,
   "id": "37078605-04b9-427f-92f6-a1ab86b2ea01",
   "metadata": {},
   "outputs": [],
   "source": [
    "Ans 2:-Handle Missing Values:\n",
    "    Check for missing values in the dataset and decide how to handle them. \n",
    "    You can either impute missing values or remove rows/columns with missing data, depending on the extent of missingness. "
   ]
  },
  {
   "cell_type": "code",
   "execution_count": null,
   "id": "82def270-5d3f-4b4a-a531-b6c3df75a69e",
   "metadata": {},
   "outputs": [],
   "source": [
    "data.fillna(data.mean(), inplace=True)"
   ]
  },
  {
   "cell_type": "code",
   "execution_count": null,
   "id": "ce0a47e8-108f-4279-91ce-59bc6725648c",
   "metadata": {},
   "outputs": [],
   "source": [
    "# Visualize outliers\n",
    "sns.boxplot(data=data, x='Insulin')\n",
    "plt.show()\n",
    "\n",
    "# Remove outliers for 'Insulin' variable\n",
    "outlier_threshold = 3  # Adjust this threshold as needed\n",
    "data = data[data['Insulin'] < data['Insulin'].mean() + outlier_threshold * data['Insulin'].std()]\n"
   ]
  },
  {
   "cell_type": "code",
   "execution_count": null,
   "id": "df3ff085-9f77-467b-be2a-1a8fdc8ab850",
   "metadata": {},
   "outputs": [],
   "source": [
    "# Check for missing values again\n",
    "print(data.isnull().sum())\n",
    "\n",
    "# Check for outliers (optional)\n",
    "sns.boxplot(data=data, x='Insulin')\n",
    "plt.show()\n"
   ]
  },
  {
   "cell_type": "code",
   "execution_count": null,
   "id": "9cc8c336-62aa-4f27-ae13-d61b35a9a61e",
   "metadata": {},
   "outputs": [],
   "source": []
  },
  {
   "cell_type": "markdown",
   "id": "2d4a113f-172c-4cb6-8f9b-e7054782df8a",
   "metadata": {},
   "source": [
    "Q3. Split the dataset into a training set and a test set. Use a random seed to ensure reproducibility."
   ]
  },
  {
   "cell_type": "code",
   "execution_count": null,
   "id": "50fb590d-e9e0-4fa6-bfd2-593b9209ff61",
   "metadata": {},
   "outputs": [],
   "source": [
    "# Ans 3:-\n",
    "import pandas as pd\n",
    "from sklearn.model_selection import train_test_split\n",
    "\n",
    "# Load the dataset (assuming you've already cleaned and preprocessed it)\n",
    "# Replace 'your_data.csv' with the actual file path\n",
    "data = pd.read_csv('your_data.csv')\n",
    "\n",
    "# Define the features (X) and the target (y)\n",
    "X = data.drop('Outcome', axis=1)\n",
    "y = data['Outcome']\n",
    "\n",
    "# Set a random seed for reproducibility\n",
    "random_seed = 42\n",
    "\n",
    "# Split the dataset into a training set (80%) and a test set (20%)\n",
    "X_train, X_test, y_train, y_test = train_test_split(X, y, test_size=0.2, random_state=random_seed)\n",
    "\n",
    "# Now you have X_train, X_test, y_train, and y_test for training and testing your model\n"
   ]
  },
  {
   "cell_type": "code",
   "execution_count": null,
   "id": "1858dba8-6f1e-4408-a569-a8a9f9427d10",
   "metadata": {},
   "outputs": [],
   "source": []
  },
  {
   "cell_type": "markdown",
   "id": "a810af32-1481-4adf-a922-800fc8c71d46",
   "metadata": {},
   "source": [
    "Q4. Use a decision tree algorithm, such as ID3 or C4.5, to train a decision tree model on the training set. Use\n",
    "cross-validation to optimize the hyperparameters and avoid overfitting."
   ]
  },
  {
   "cell_type": "code",
   "execution_count": null,
   "id": "e5b07827-3e34-4542-a306-70474e3374e6",
   "metadata": {},
   "outputs": [],
   "source": [
    "# Ans 4:-\n",
    "from sklearn.tree import DecisionTreeClassifier\n",
    "from sklearn.model_selection import GridSearchCV\n",
    "\n",
    "# Create a Decision Tree Classifier\n",
    "decision_tree = DecisionTreeClassifier(random_state=random_seed)\n",
    "\n",
    "# Define hyperparameters to search over\n",
    "param_grid = {\n",
    "    'criterion': ['gini', 'entropy'],  # Splitting criterion\n",
    "    'max_depth': [None, 10, 20, 30],  # Maximum depth of the tree\n",
    "    'min_samples_split': [2, 5, 10],  # Minimum samples required to split a node\n",
    "    'min_samples_leaf': [1, 2, 4]  # Minimum samples required at a leaf node\n",
    "}\n",
    "\n",
    "# Create a GridSearchCV object for hyperparameter tuning\n",
    "grid_search = GridSearchCV(estimator=decision_tree, param_grid=param_grid, cv=5)\n",
    "\n",
    "# Fit the model to the training data with cross-validation\n",
    "grid_search.fit(X_train, y_train)\n",
    "\n",
    "# Get the best hyperparameters\n",
    "best_params = grid_search.best_params_\n",
    "\n",
    "# Train a decision tree model with the best hyperparameters\n",
    "best_decision_tree = DecisionTreeClassifier(random_state=random_seed, **best_params)\n",
    "best_decision_tree.fit(X_train, y_train)\n",
    "\n",
    "# Now you have a decision tree model trained on the training set with optimized hyperparameters\n"
   ]
  },
  {
   "cell_type": "code",
   "execution_count": null,
   "id": "8dec6f65-7b60-478a-bec1-5619c8239044",
   "metadata": {},
   "outputs": [],
   "source": []
  },
  {
   "cell_type": "markdown",
   "id": "6e7b48f3-3646-4cb1-86e6-c8d07c52a2e5",
   "metadata": {},
   "source": [
    "Q5. Evaluate the performance of the decision tree model on the test set using metrics such as accuracy,\n",
    "precision, recall, and F1 score. Use confusion matrices and ROC curves to visualize the results."
   ]
  },
  {
   "cell_type": "code",
   "execution_count": null,
   "id": "0e8f49ec-f39e-4a81-be7f-3353abfcc93a",
   "metadata": {},
   "outputs": [],
   "source": [
    "Ans 5:-\n",
    "from sklearn.metrics import classification_report, confusion_matrix, roc_curve, roc_auc_score, accuracy_score, precision_score, recall_score, f1_score\n",
    "import matplotlib.pyplot as plt\n",
    "\n",
    "# Make predictions on the test set\n",
    "y_pred = best_decision_tree.predict(X_test)\n",
    "\n",
    "# Evaluate accuracy, precision, recall, and F1 score\n",
    "accuracy = accuracy_score(y_test, y_pred)\n",
    "precision = precision_score(y_test, y_pred)\n",
    "recall = recall_score(y_test, y_pred)\n",
    "f1 = f1_score(y_test, y_pred)\n",
    "\n",
    "print(\"Accuracy:\", accuracy)\n",
    "print(\"Precision:\", precision)\n",
    "print(\"Recall:\", recall)\n",
    "print(\"F1 Score:\", f1)\n",
    "\n",
    "# Generate a classification report\n",
    "report = classification_report(y_test, y_pred)\n",
    "print(\"Classification Report:\")\n",
    "print(report)\n",
    "\n",
    "# Generate a confusion matrix\n",
    "cm = confusion_matrix(y_test, y_pred)\n",
    "print(\"Confusion Matrix:\")\n",
    "print(cm)\n",
    "\n",
    "# Compute ROC curve and AUC\n",
    "y_probs = best_decision_tree.predict_proba(X_test)[:, 1]  # Probability of being in class 1\n",
    "fpr, tpr, thresholds = roc_curve(y_test, y_probs)\n",
    "roc_auc = roc_auc_score(y_test, y_probs)\n",
    "\n",
    "# Plot ROC curve\n",
    "plt.figure(figsize=(8, 6))\n",
    "plt.plot(fpr, tpr, color='darkorange', lw=2, label=f'ROC curve (AUC = {roc_auc:.2f})')\n",
    "plt.plot([0, 1], [0, 1], color='navy', lw=2, linestyle='--')\n",
    "plt.xlim([0.0, 1.0])\n",
    "plt.ylim([0.0, 1.05])\n",
    "plt.xlabel('False Positive Rate')\n",
    "plt.ylabel('True Positive Rate')\n",
    "plt.title('Receiver Operating Characteristic (ROC)')\n",
    "plt.legend(loc=\"lower right\")\n",
    "plt.show()\n"
   ]
  },
  {
   "cell_type": "code",
   "execution_count": null,
   "id": "f9e2d074-8277-481c-9a8a-fdf06791b608",
   "metadata": {},
   "outputs": [],
   "source": []
  },
  {
   "cell_type": "markdown",
   "id": "185f5ea3-f45f-426b-a17d-a5459cf4b1cd",
   "metadata": {},
   "source": [
    "Q6. Interpret the decision tree by examining the splits, branches, and leaves. Identify the most important\n",
    "variables and their thresholds. Use domain knowledge and common sense to explain the patterns and\n",
    "trends."
   ]
  },
  {
   "cell_type": "code",
   "execution_count": null,
   "id": "68ea7921-a41b-497a-b8a4-2abd0e7aa9e0",
   "metadata": {},
   "outputs": [],
   "source": [
    "Ans 6:-Interpreting a decision tree involves examining its structure, splits, branches, and leaves to understand how the model is making decisions"
   ]
  },
  {
   "cell_type": "code",
   "execution_count": null,
   "id": "209529f6-a65a-4644-be6b-214f915fe595",
   "metadata": {},
   "outputs": [],
   "source": [
    "Start with the root node: \n",
    "    The root node represents the entire dataset.\n",
    "    Its where the tree begins, and the first split is made based on the variable that provides the best separation between classes.\n",
    "    This variable is considered the most important for the initial decision.\n",
    "\n",
    "Follow the splits: \n",
    "    As you move down the tree, you encounter decision nodes (branches) that split the data based on specific conditions. \n",
    "    Each condition is associated with a variable and a threshold. \n",
    "    The variable and threshold combination tells you how the data is partitioned.\n",
    "\n",
    "Explore the leaves: \n",
    "    The leaves of the tree represent the final predictions or class assignments. \n",
    "    Each leaf contains a class label, indicating the predicted outcome.\n",
    "\n",
    "Variable importance: \n",
    "    You can assess the importance of variables by looking at how often they are used for splits and how much they influence the final predictions. \n",
    "    Variables used near the top of the tree or multiple times are generally more important.\n",
    "\n",
    "Threshold values: \n",
    "    The thresholds associated with each variable in the decision nodes are crucial for understanding how the decision tree separates data. \n",
    "    They indicate the value at which the split occurs. \n",
    "    For numeric features, this helps you identify the range of values that contribute to a particular decision."
   ]
  },
  {
   "cell_type": "code",
   "execution_count": null,
   "id": "d75d92b9-6a0b-4438-aad8-cbb37cb6ca23",
   "metadata": {},
   "outputs": [],
   "source": []
  },
  {
   "cell_type": "markdown",
   "id": "80d9a467-c914-43bb-8f59-d3182c902961",
   "metadata": {},
   "source": [
    "Q7. Validate the decision tree model by applying it to new data or testing its robustness to changes in the\n",
    "dataset or the environment. Use sensitivity analysis and scenario testing to explore the uncertainty and\n",
    "risks."
   ]
  },
  {
   "cell_type": "code",
   "execution_count": null,
   "id": "5574ddef-07c8-489b-bcae-bd319c62a33d",
   "metadata": {},
   "outputs": [],
   "source": [
    "Ans 7:-\n",
    "Holdout Testing: \n",
    "    Before applying sensitivity analysis and scenario testing, its essential to perform holdout testing. \n",
    "    Split the dataset into a training set and a separate validation or test set. \n",
    "    The decision tree model should not have seen this validation set during training.\n",
    "\n",
    "Sensitivity Analysis:\n",
    "    a. Varying Thresholds: Test the models sensitivity to the chosen decision thresholds, especially if you have manually adjusted them. \n",
    "    Explore how changes in threshold values affect the models predictions and key performance metrics.\n",
    "\n",
    "    b. Noise and Outliers: \n",
    "        Introduce noise or outliers into the validation dataset to assess the models robustness. \n",
    "        This can help determine if the model is overly sensitive to minor data perturbations.\n",
    "\n",
    "    c. Feature Perturbation:\n",
    "        Modify the input features slightly and observe how the model responds. \n",
    "        This type of sensitivity analysis can reveal which features have the most significant impact on predictions.\n",
    "\n",
    "Scenario Testing:\n",
    "    a. Changing Feature Distributions: Assess the models performance when the distribution of input features shifts.\n",
    "    \n",
    "Cross-Validation: \n",
    "    Reapply cross-validation on the original dataset with different splits to assess the models consistency. \n",
    "    It can reveal how the model performs on different subsets of the data.\n",
    "\n",
    "Error Analysis: \n",
    "    Analyze misclassified instances, especially those that the model is sensitive to, to understand the source of errors. \n",
    "    This can help you identify potential model limitations.\n",
    "\n",
    "Real-world Testing: \n",
    "    If possible, apply the model to new, unseen data collected in a real-world setting. \n",
    "    Monitor the models performance and compare its predictions to actual outcomes."
   ]
  }
 ],
 "metadata": {
  "kernelspec": {
   "display_name": "Python 3 (ipykernel)",
   "language": "python",
   "name": "python3"
  },
  "language_info": {
   "codemirror_mode": {
    "name": "ipython",
    "version": 3
   },
   "file_extension": ".py",
   "mimetype": "text/x-python",
   "name": "python",
   "nbconvert_exporter": "python",
   "pygments_lexer": "ipython3",
   "version": "3.10.8"
  }
 },
 "nbformat": 4,
 "nbformat_minor": 5
}
