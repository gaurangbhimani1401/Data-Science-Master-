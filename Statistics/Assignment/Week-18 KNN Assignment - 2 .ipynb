{
 "cells": [
  {
   "cell_type": "markdown",
   "id": "f6a43a9c-dae8-4903-821b-075b5558fb97",
   "metadata": {},
   "source": [
    "Q1. What is the main difference between the Euclidean distance metric and the Manhattan distance\n",
    "metric in KNN? How might this difference affect the performance of a KNN classifier or regressor?"
   ]
  },
  {
   "cell_type": "code",
   "execution_count": null,
   "id": "06de5079-6f2c-452a-bc55-238f17be55c9",
   "metadata": {},
   "outputs": [],
   "source": [
    "Ans 1:-The main difference between the Euclidean distance metric and the Manhattan distance metric lies in how they measure the \"distance\" between two points in a\n",
    "multi-dimensional space."
   ]
  },
  {
   "cell_type": "code",
   "execution_count": null,
   "id": "79544fb9-1125-48e2-9f75-6678b677da3a",
   "metadata": {},
   "outputs": [],
   "source": [
    "Euclidean Distance:\n",
    "    Also known as straight-line or L2 norm.\n",
    "    Represents the length of the shortest path between two points in a straight line.\n",
    "    \n",
    "Manhattan Distance:\n",
    "    Also known as city block distance, taxicab distance, or L1 norm.\n",
    "    Represents the sum of the horizontal and vertical distances between two points, as if moving along grid lines."
   ]
  },
  {
   "cell_type": "code",
   "execution_count": null,
   "id": "1d6c41d4-aa41-4419-bd72-e32127385e19",
   "metadata": {},
   "outputs": [],
   "source": [
    "Effect on KNN Performance:\n",
    "    Sensitivity to Scale:\n",
    "    Euclidean distance considers the actual \"distance\" between two points, taking into account both horizontal and vertical changes.\n",
    "    Manhattan distance considers only the sum of horizontal and vertical changes, regardless of the actual \"distance\" between points.\n",
    "    If the features have different scales, Euclidean distance may be more sensitive to these differences.\n",
    "    \n",
    "Performance in Different Spaces:\n",
    "    Euclidean distance tends to perform well in spaces where the straight-line distance is a meaningful measure.\n",
    "    Manhattan distance might be more appropriate in situations where movement along grid lines is a better representation of distance.\n",
    "    \n",
    "Curse of Dimensionality:\n",
    "    In high-dimensional spaces, the Euclidean distance tends to increase more rapidly than Manhattan distance.\n",
    "    This can impact the performance of KNN in high-dimensional spaces, as Euclidean distance might be influenced more by features with larger scales."
   ]
  },
  {
   "cell_type": "code",
   "execution_count": null,
   "id": "effb5e84-808b-4a23-af1f-95498ee688cf",
   "metadata": {},
   "outputs": [],
   "source": [
    "Considerations:\n",
    "    The choice between Euclidean and Manhattan distance depends on the nature of the data and the problem.\n",
    "    Experimentation and cross-validation are often used to determine the most suitable distance metric for a specific dataset."
   ]
  },
  {
   "cell_type": "code",
   "execution_count": null,
   "id": "2ac30117-8ca9-4fe0-9be2-c74118b11b3b",
   "metadata": {},
   "outputs": [],
   "source": []
  },
  {
   "cell_type": "markdown",
   "id": "26074a2e-0ac6-45b3-ae6d-4b00245072d4",
   "metadata": {},
   "source": [
    "Q2. How do you choose the optimal value of k for a KNN classifier or regressor? What techniques can be\n",
    "used to determine the optimal k value?"
   ]
  },
  {
   "cell_type": "code",
   "execution_count": null,
   "id": "f5c77d93-945f-43bb-84f3-479e192c10c7",
   "metadata": {},
   "outputs": [],
   "source": [
    "Ans 2:-Choosing the optimal value of k in KNN is crucial for the models performance.\n",
    "The choice of k affects the trade-off between bias and variance. \n",
    "Here are some techniques to determine the optimal k values:"
   ]
  },
  {
   "cell_type": "code",
   "execution_count": null,
   "id": "8125999f-e40d-4f7d-a7d0-143ffb2221fa",
   "metadata": {},
   "outputs": [],
   "source": [
    "Brute-Force Search:\n",
    "    Evaluate the models performance for a range of k values.\n",
    "    Train the model with different k values and use a validation set or cross-validation to assess performance.\n",
    "    Choose the k that gives the best performance on the validation set."
   ]
  },
  {
   "cell_type": "code",
   "execution_count": null,
   "id": "dc7c47a3-1668-44b6-8ff8-2b3940faef2e",
   "metadata": {},
   "outputs": [],
   "source": [
    "Odd vs. Even Values:\n",
    "    For binary classification problems, its common to choose an odd k to avoid ties.\n",
    "    With odd k there will be no ties in voting, making it easier to determine a majority class."
   ]
  },
  {
   "cell_type": "code",
   "execution_count": null,
   "id": "82c2f3c3-7efa-4c76-bb92-8826f76b7060",
   "metadata": {},
   "outputs": [],
   "source": [
    "Square Root Rule:\n",
    "    A simple rule of thumb is to set k to the square root of the number of samples.\n",
    "    This rule is based on empirical observations and is a quick way to choose an initial k values."
   ]
  },
  {
   "cell_type": "code",
   "execution_count": null,
   "id": "e2bc1aa3-262a-4d0f-81fa-9c748c5f1a16",
   "metadata": {},
   "outputs": [],
   "source": [
    "Cross-Validation:\n",
    "    Use cross-validation techniques like k-fold cross-validation to evaluate the models performance across different subsets of the data."
   ]
  },
  {
   "cell_type": "code",
   "execution_count": null,
   "id": "574037be-e5e7-4ab1-8a21-34047a00f3c4",
   "metadata": {},
   "outputs": [],
   "source": []
  },
  {
   "cell_type": "markdown",
   "id": "0d426a21-6e39-4777-b8aa-3dec3a83e4fc",
   "metadata": {},
   "source": [
    "Q3. How does the choice of distance metric affect the performance of a KNN classifier or regressor? In\n",
    "what situations might you choose one distance metric over the other?"
   ]
  },
  {
   "cell_type": "code",
   "execution_count": null,
   "id": "31993927-c182-47d5-9657-f54772586779",
   "metadata": {},
   "outputs": [],
   "source": [
    "Ans 3:-The choice of distance metric in KNN significantly affects the performance of the classifier or regressor. \n",
    "Different distance metrics capture different notions of similarity between data points.\n",
    "Here are two commonly used distance metrics and their implications:"
   ]
  },
  {
   "cell_type": "code",
   "execution_count": null,
   "id": "0de8f8cc-2866-4d0d-bc11-c5857c0b4229",
   "metadata": {},
   "outputs": [],
   "source": [
    "Euclidean Distance:\n",
    "    Assumes that the features have a continuous distribution and are measured on the same scale.\n",
    "    Sensitive to magnitudes, meaning features with larger scales may dominate the distance calculation.\n",
    "    Works well when the features are similar in scale and have a linear relationship.\n",
    "    \n",
    "Manhattan Distance (L1 Norm):\n",
    "    Less sensitive to outliers and differences in scale.\n",
    "    Suitable when the features have different units or represent different kinds of measurements.\n",
    "    Effective in cases where the actual distance traveled between points may not be relevant (e.g., city block distance)."
   ]
  },
  {
   "cell_type": "code",
   "execution_count": null,
   "id": "b0e834a4-f20f-4218-a940-6303d7c1bc05",
   "metadata": {},
   "outputs": [],
   "source": [
    "Considerations:\n",
    "    Scale Sensitivity:\n",
    "        Euclidean distance is sensitive to the scale of features.\n",
    "        If features have vastly different scales, it might be necessary to normalize the data.\n",
    "    Feature Types: \n",
    "        If the features have different units or represent different types of measurements, Manhattan distance might be a better choice.\n",
    "    Outliers: \n",
    "        If the dataset contains outliers, Manhattan distance can be less affected since it only considers the absolute differences."
   ]
  },
  {
   "cell_type": "code",
   "execution_count": null,
   "id": "f1a988c5-8f21-445b-8396-2c90f9767e5e",
   "metadata": {},
   "outputs": [],
   "source": [
    "Choosing a Distance Metric:\n",
    "    Data Exploration: \n",
    "        Analyze the data distribution and characteristics. \n",
    "        If features have similar scales and are continuous, Euclidean distance might be appropriate.\n",
    "    Empirical Testing: \n",
    "        Experiment with both distance metrics and observe how they impact the models performance using cross-validation or a holdout validation set.\n",
    "    Problem-specific Considerations: \n",
    "        Some domains may have prior knowledge suggesting the superiority of one distance metric over the other."
   ]
  },
  {
   "cell_type": "code",
   "execution_count": null,
   "id": "bded39f1-fe3c-4dae-9a8d-f8f826a5e76b",
   "metadata": {},
   "outputs": [],
   "source": []
  },
  {
   "cell_type": "markdown",
   "id": "5d20c628-30b9-49da-86a5-b0e3715f6b3d",
   "metadata": {},
   "source": [
    "Q4. What are some common hyperparameters in KNN classifiers and regressors, and how do they affect\n",
    "the performance of the model? How might you go about tuning these hyperparameters to improve\n",
    "model performance?"
   ]
  },
  {
   "cell_type": "code",
   "execution_count": null,
   "id": "413b0989-5d86-4fb6-8bdd-63fff1fffd26",
   "metadata": {},
   "outputs": [],
   "source": [
    "Ans 4:-In KNN classifiers and regressors, there are several hyperparameters that can be tuned to optimize the models performance. \n",
    "Here are some common hyperparameters and their impact:"
   ]
  },
  {
   "cell_type": "code",
   "execution_count": null,
   "id": "22620485-7c4a-43ed-89d9-959963eb80c1",
   "metadata": {},
   "outputs": [],
   "source": [
    "Number of Neighbors (k):\n",
    "    Impact:\n",
    "        Controls the number of nearest neighbors considered for predictions.\n",
    "        Small values can lead to noisy predictions, while large values may result in over-smoothed predictions.\n",
    "    Tuning:\n",
    "        Perform a hyperparameter search (grid search or random search) over a range of values for k and choose the value that gives the best performance on a \n",
    "        validation set."
   ]
  },
  {
   "cell_type": "code",
   "execution_count": null,
   "id": "19a834b7-6070-48ab-8eac-149ffe8cc818",
   "metadata": {},
   "outputs": [],
   "source": [
    "Distance Metric:\n",
    "    Impact: \n",
    "        Determines the method used to calculate distances between data points. \n",
    "        The choice of metric depends on the nature of the data.\n",
    "    Tuning:\n",
    "        Experiment with different distance metrics such as Euclidean, Manhattan, or others based on the characteristics of the dataset."
   ]
  },
  {
   "cell_type": "code",
   "execution_count": null,
   "id": "c74c1680-889e-40c9-9bd9-28a5a968d813",
   "metadata": {},
   "outputs": [],
   "source": [
    "Weights (for weighted KNN):\n",
    "    Impact: \n",
    "        Specifies whether neighbors should have equal influence or be weighted based on their distance. \n",
    "        Assigning higher weights to closer neighbors can improve accuracy.\n",
    "    Tuning: \n",
    "        Test different weight options, such as uniform (equal weights) or distance-based weights, and choose the one that performs best."
   ]
  },
  {
   "cell_type": "code",
   "execution_count": null,
   "id": "386889e6-1df9-45ed-a1ca-5e7fdea64ec3",
   "metadata": {},
   "outputs": [],
   "source": [
    "Hyperparameter Tuning Strategies:\n",
    "    Grid Search: \n",
    "        Define a grid of hyperparameter values and evaluate the models performance for each combination.\n",
    "    Random Search: \n",
    "        Randomly sample hyperparameter combinations and evaluate their performance.\n",
    "    Cross-Validation:\n",
    "        Use cross-validation to assess the models generalization performance for different hyperparameter values."
   ]
  },
  {
   "cell_type": "code",
   "execution_count": null,
   "id": "8b101909-25b3-4801-9092-2a5a1f3beed2",
   "metadata": {},
   "outputs": [],
   "source": []
  },
  {
   "cell_type": "markdown",
   "id": "6c1e1f3a-d0e5-44b2-8f4f-906a75022b66",
   "metadata": {},
   "source": [
    "Q5. How does the size of the training set affect the performance of a KNN classifier or regressor? What\n",
    "techniques can be used to optimize the size of the training set?"
   ]
  },
  {
   "cell_type": "code",
   "execution_count": null,
   "id": "832620b0-20c1-4cd5-b41b-49f2e400bd99",
   "metadata": {},
   "outputs": [],
   "source": [
    "Ans 5:-The size of the training set can significantly impact the performance of a KNN classifier or regressor. \n",
    "Heres how it influences the model and some techniques to optimize the size of the training set:"
   ]
  },
  {
   "cell_type": "code",
   "execution_count": null,
   "id": "14adc364-e55a-4ce4-8a92-f6fa6c2a722e",
   "metadata": {},
   "outputs": [],
   "source": [
    "Effect of Training Set Size:\n",
    "    Small Training Set:\n",
    "        Pros: \n",
    "            Computationally less expensive, faster training.\n",
    "        Cons: \n",
    "            Prone to overfitting, may not capture the underlying patterns in the data.\n",
    "    Large Training Set:\n",
    "        Pros:\n",
    "            More likely to capture general patterns, better generalization to unseen data.\n",
    "        Cons: \n",
    "            Computationally more expensive, slower training."
   ]
  },
  {
   "cell_type": "code",
   "execution_count": null,
   "id": "8163aa73-0602-48ca-ada2-a691072451b4",
   "metadata": {},
   "outputs": [],
   "source": [
    "Optimizing Training Set Size:\n",
    "    Cross-Validation:\n",
    "        Use cross-validation techniques (e.g., k-fold cross-validation) to assess how well the model generalizes to different subsets of the training data.\n",
    "        Cross-validation helps in estimating the models performance on unseen data and can guide decisions about the optimal training set size.\n",
    "    Learning Curves:\n",
    "        Plot learning curves that show the models performance on the training and validation sets as a function of the training set size.\n",
    "        Identify the point where increasing the training set size no longer improves performance, indicating diminishing returns.\n",
    "        \n",
    "    Random Sampling:\n",
    "        If computational resources are limited, consider random sampling from a larger dataset to create a representative training set.\n",
    "        Ensure that the sampled subset retains the essential characteristics of the overall dataset.\n",
    "    Stratified Sampling (for Classification):\n",
    "        In classification tasks, use stratified sampling to maintain the class distribution when selecting a subset of the data.\n",
    "        This ensures that each class is adequately represented in the training set."
   ]
  },
  {
   "cell_type": "code",
   "execution_count": null,
   "id": "b9e896d3-91cc-477e-9ab7-d0dade84b37e",
   "metadata": {},
   "outputs": [],
   "source": []
  },
  {
   "cell_type": "markdown",
   "id": "c5014c6a-464f-4afb-8ab1-0acadbacd9c7",
   "metadata": {},
   "source": [
    "Q6. What are some potential drawbacks of using KNN as a classifier or regressor? How might you\n",
    "overcome these drawbacks to improve the performance of the model?"
   ]
  },
  {
   "cell_type": "code",
   "execution_count": null,
   "id": "cf36fafa-0c3f-4337-ab73-06cf32a990b4",
   "metadata": {},
   "outputs": [],
   "source": [
    "Ans 6:-\n",
    "Potential Drawbacks of KNN:\n",
    "    Computational Complexity:\n",
    "        Issue:\n",
    "            KNN can be computationally expensive during inference, especially with large datasets.\n",
    "        Mitigation: \n",
    "            Use data structures like KD-trees or Ball trees for efficient nearest neighbor search.\n",
    "            Consider approximations or parallelization for large datasets.\n",
    "            \n",
    "Sensitive to Outliers:\n",
    "    Issue: Outliers can have a significant impact on KNN predictions, especially in lower-dimensional spaces.\n",
    "    Mitigation: Use anomaly detection techniques to identify and handle outliers. \n",
    "    Consider robust distance metrics or feature engineering.\n",
    "    \n",
    "Curse of Dimensionality:\n",
    "    Issue: \n",
    "        In high-dimensional spaces, the distance between data points tends to become more uniform, impacting the effectiveness of KNN.\n",
    "    Mitigation: \n",
    "        Apply dimensionality reduction techniques before using KNN or use feature selection to focus on relevant features.\n",
    "        \n",
    "Imbalanced Datasets:\n",
    "    Issue: \n",
    "        KNN may be biased towards the majority class in imbalanced datasets.\n",
    "    Mitigation:\n",
    "        Balance the dataset through oversampling, undersampling, or using techniques like SMOTE (Synthetic Minority Over-sampling Technique)."
   ]
  },
  {
   "cell_type": "code",
   "execution_count": null,
   "id": "45976b6c-a9e5-4482-bd0a-9979aa2eb258",
   "metadata": {},
   "outputs": [],
   "source": [
    "Improving KNN Performance:\n",
    "    Feature Scaling:\n",
    "        Standardize or normalize features to ensure that all features contribute equally to the distance calculation.\n",
    "    Feature Engineering:\n",
    "        Create relevant features that enhance the discriminatory power of the model.\n",
    "    Distance Metric Selection:\n",
    "        Experiment with different distance metrics based on the nature of the data.\n",
    "    Ensemble Methods:\n",
    "        Combine multiple KNN models or integrate KNN as part of an ensemble for improved robustness."
   ]
  }
 ],
 "metadata": {
  "kernelspec": {
   "display_name": "Python 3 (ipykernel)",
   "language": "python",
   "name": "python3"
  },
  "language_info": {
   "codemirror_mode": {
    "name": "ipython",
    "version": 3
   },
   "file_extension": ".py",
   "mimetype": "text/x-python",
   "name": "python",
   "nbconvert_exporter": "python",
   "pygments_lexer": "ipython3",
   "version": "3.10.8"
  }
 },
 "nbformat": 4,
 "nbformat_minor": 5
}
