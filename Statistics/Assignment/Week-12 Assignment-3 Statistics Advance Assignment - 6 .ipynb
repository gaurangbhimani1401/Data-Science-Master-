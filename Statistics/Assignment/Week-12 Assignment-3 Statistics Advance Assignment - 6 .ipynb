{
 "cells": [
  {
   "cell_type": "markdown",
   "id": "404d7dd7-9bd8-437c-837b-8b60c6767e64",
   "metadata": {},
   "source": [
    "Q1. Explain the assumptions required to use ANOVA and provide examples of violations that could impact\n",
    "the validity of the results."
   ]
  },
  {
   "cell_type": "code",
   "execution_count": null,
   "id": "2789ca3f-d669-421a-825e-1b75cf424e31",
   "metadata": {},
   "outputs": [],
   "source": [
    "Ans 1:-\n",
    "ANOVA (Analysis of Variance) is a statistical test used to compare the means of three or more groups to determine if there are significant differences between them.\n",
    "To use ANOVA, several assumptions need to be met. "
   ]
  },
  {
   "cell_type": "code",
   "execution_count": null,
   "id": "6c1610a0-23c1-45e9-aea2-1618da4c530e",
   "metadata": {},
   "outputs": [],
   "source": [
    "Independence:\n",
    "    The observations in each group must be independent of each other.\n",
    "    This means that the data points in one group should not be related to or dependent on the data points in another group."
   ]
  },
  {
   "cell_type": "code",
   "execution_count": null,
   "id": "a1c3a0bd-cfa8-41bb-8e48-283aa1c91c8e",
   "metadata": {},
   "outputs": [],
   "source": [
    "Normality:\n",
    "    The data within each group should follow a normal distribution.\n",
    "    This means that the data points in each group should be approximately normally distributed. "
   ]
  },
  {
   "cell_type": "code",
   "execution_count": null,
   "id": "d6bf1c81-b1ed-40be-bc72-a85d290e6543",
   "metadata": {},
   "outputs": [],
   "source": [
    "Homogeneity of Variance:\n",
    "    The variances of the groups should be approximately equal.\n",
    "    This means that the spread of data points in each group should be similar."
   ]
  },
  {
   "cell_type": "code",
   "execution_count": null,
   "id": "4b61b97a-0ac1-4700-893d-1c4cfb311cf6",
   "metadata": {},
   "outputs": [],
   "source": [
    "Random Sampling:\n",
    "    The data should be collected using random sampling techniques to ensure that the sample is representative of the population.\n",
    "    Non-random sampling methods may introduce biases and affect the generalizability of the results."
   ]
  },
  {
   "cell_type": "code",
   "execution_count": null,
   "id": "78a13046-1f56-4e91-98cc-1d671b7cefb0",
   "metadata": {},
   "outputs": [],
   "source": []
  },
  {
   "cell_type": "markdown",
   "id": "7eb7fd7a-3cb5-4ab5-942b-270f47758034",
   "metadata": {},
   "source": [
    "Q2. What are the three types of ANOVA, and in what situations would each be used?"
   ]
  },
  {
   "cell_type": "code",
   "execution_count": null,
   "id": "65417875-efee-4692-b1b8-caa9cd64e4ae",
   "metadata": {},
   "outputs": [],
   "source": [
    "Ans 2:-\n",
    "One-Way ANOVA:\n",
    "    One-Way ANOVA is used when there is one categorical independent variable (also known as a factor) with three or more groups, and a continuous dependent variable.\n",
    "    It is used to determine if there are any significant differences in the means of the dependent variable across the different groups of the independent variable.\n",
    "    One-Way ANOVA is appropriate when we want to compare the means of three or more groups."
   ]
  },
  {
   "cell_type": "code",
   "execution_count": null,
   "id": "7cd31f49-4183-40e5-8045-0477fe928467",
   "metadata": {},
   "outputs": [],
   "source": [
    "Two-Way ANOVA:\n",
    "    Two-Way ANOVA is used when there are two categorical independent variables (factors) and one continuous dependent variable.\n",
    "    It allows us to test the main effects of each independent variable as well as the interaction effect between the two independent variables on the dependent\n",
    "    variable."
   ]
  },
  {
   "cell_type": "code",
   "execution_count": null,
   "id": "8800bb41-a696-4249-bb97-3f9a28fbf148",
   "metadata": {},
   "outputs": [],
   "source": [
    "Repeated Measures ANOVA:\n",
    "    Repeated Measures ANOVA is used when the same participants are measured multiple times under different conditions.\n",
    "    It is used to compare the means of a continuous dependent variable across multiple time points or conditions for the same group of participants."
   ]
  },
  {
   "cell_type": "code",
   "execution_count": null,
   "id": "fc304cf4-629e-4f5f-9e35-1b2b4d0a32ee",
   "metadata": {},
   "outputs": [],
   "source": []
  },
  {
   "cell_type": "markdown",
   "id": "364cf352-4876-4e6d-980e-325a06cde208",
   "metadata": {},
   "source": [
    "Q3. What is the partitioning of variance in ANOVA, and why is it important to understand this concept?"
   ]
  },
  {
   "cell_type": "code",
   "execution_count": null,
   "id": "1962617d-20e2-4a64-84f6-dd20aaa0aba1",
   "metadata": {},
   "outputs": [],
   "source": [
    "Ans 3:-\n",
    "The partitioning of variance in ANOVA refers to the process of decomposing the total variance of the dependent variable into different components, each associated\n",
    "with a specific source of variation.\n",
    "In ANOVA, the total variance in the dependent variable is divided into two main components: the variance between groups (also known as the \"explained variance\")\n",
    "and the variance within groups (also known as the \"unexplained variance\")."
   ]
  },
  {
   "cell_type": "code",
   "execution_count": null,
   "id": "e02a0e1d-03cf-4981-8da5-eb000bb5329b",
   "metadata": {},
   "outputs": [],
   "source": [
    "Assessing Group Differences:\n",
    "    By partitioning the variance, ANOVA helps us determine if there are statistically significant differences between the means of the groups.\n",
    "    If the variance between groups is significantly larger than the variance within groups, it suggests that there are real differences between the groups and not\n",
    "    just random fluctuations."
   ]
  },
  {
   "cell_type": "code",
   "execution_count": null,
   "id": "4135f1cb-8396-4841-b7f2-b18fcbb70b1e",
   "metadata": {},
   "outputs": [],
   "source": [
    "Understanding the Effect Size:\n",
    "    The partitioning of variance also provides information about the effect size, which indicates the magnitude of the differences between the groups.\n",
    "    Effect size measures, such as eta-squared or partial eta-squared, quantify the proportion of variance in the dependent variable that can be attributed to the\n",
    "    independent variable."
   ]
  },
  {
   "cell_type": "code",
   "execution_count": null,
   "id": "42a86436-55df-4bb7-939a-6ea40081f578",
   "metadata": {},
   "outputs": [],
   "source": [
    "Validating the Model:\n",
    "    By understanding the partitioning of variance, researchers can assess how well the model fits the data and if the independent variable(s) account for a\n",
    "    substantial portion of the variability in the dependent variable."
   ]
  },
  {
   "cell_type": "code",
   "execution_count": null,
   "id": "723a7fa1-c5bc-4a2f-94a2-3e3b5a9de5d3",
   "metadata": {},
   "outputs": [],
   "source": []
  },
  {
   "cell_type": "markdown",
   "id": "b113c74a-ce9a-416e-be8e-d6c75a9568bf",
   "metadata": {},
   "source": [
    "Q4. How would you calculate the total sum of squares (SST), explained sum of squares (SSE), and residual\n",
    "sum of squares (SSR) in a one-way ANOVA using Python?"
   ]
  },
  {
   "cell_type": "code",
   "execution_count": null,
   "id": "7b77d962-1898-4b64-9f2c-59550a71f052",
   "metadata": {},
   "outputs": [],
   "source": [
    "Ans 4:-\n",
    "Step 1: Import the required libraries.\n",
    "import numpy as np\n",
    "import pandas as pd"
   ]
  },
  {
   "cell_type": "code",
   "execution_count": null,
   "id": "83d3db98-67d3-4ea3-9286-decdd26111cd",
   "metadata": {},
   "outputs": [],
   "source": [
    "Step 2: Prepare the data.\n",
    "data = {\n",
    "    'group': ['A', 'A', 'A', 'B', 'B', 'B', 'C', 'C', 'C'],\n",
    "    'score': [10, 12, 15, 8, 9, 11, 20, 22, 18]\n",
    "}\n",
    "df = pd.DataFrame(data)"
   ]
  },
  {
   "cell_type": "code",
   "execution_count": null,
   "id": "53729cb3-ec23-47df-9897-6c69ab883b24",
   "metadata": {},
   "outputs": [],
   "source": [
    "Step 3: Calculate the group means.\n",
    "group_means = df.groupby('group')['score'].mean()"
   ]
  },
  {
   "cell_type": "code",
   "execution_count": null,
   "id": "e4068e8c-e9a3-4f6d-b214-6c0930fe572f",
   "metadata": {},
   "outputs": [],
   "source": [
    "Step 4: Calculate the Total Sum of Squares (SST).\n",
    "overall_mean = df['score'].mean()\n",
    "sst = np.sum((df['score'] - overall_mean) ** 2)"
   ]
  },
  {
   "cell_type": "code",
   "execution_count": null,
   "id": "40a238ed-3b7e-410e-ae53-b971e880c56f",
   "metadata": {},
   "outputs": [],
   "source": [
    "Step 5: Calculate the Explained Sum of Squares (SSE).\n",
    "sse = np.sum((group_means - overall_mean) ** 2)"
   ]
  },
  {
   "cell_type": "code",
   "execution_count": null,
   "id": "38ffe3a8-51f1-43de-a1ab-62a877d773e0",
   "metadata": {},
   "outputs": [],
   "source": [
    "Step 6: Calculate the Residual Sum of Squares (SSR).\n",
    "ssr = np.sum((df['score'] - df.groupby('group')['score'].transform('mean')) ** 2)"
   ]
  },
  {
   "cell_type": "code",
   "execution_count": null,
   "id": "6f735999-6f4e-45e7-bbad-05f35106a2c1",
   "metadata": {},
   "outputs": [],
   "source": [
    "Step 7: Verify the relationship among SST, SSE, and SSR.\n",
    "assert np.isclose(sst, sse + ssr)"
   ]
  },
  {
   "cell_type": "code",
   "execution_count": null,
   "id": "0f41181d-fa13-443f-a5c9-b20ac54f0d2d",
   "metadata": {},
   "outputs": [],
   "source": []
  },
  {
   "cell_type": "markdown",
   "id": "86de8d99-3ba2-48a1-b31a-b12590482740",
   "metadata": {},
   "source": [
    "Q5. In a two-way ANOVA, how would you calculate the main effects and interaction effects using Python?"
   ]
  },
  {
   "cell_type": "code",
   "execution_count": null,
   "id": "f804ae64-4622-4539-85db-01e55ef89f00",
   "metadata": {},
   "outputs": [],
   "source": [
    "Ans 5:-\n",
    "Step 1: Import the required libraries.\n",
    "import pandas as pd\n",
    "import statsmodels.api as sm\n",
    "from statsmodels.formula.api import ols"
   ]
  },
  {
   "cell_type": "code",
   "execution_count": null,
   "id": "267241d6-01d1-4a49-b4c5-c98e049b4aab",
   "metadata": {},
   "outputs": [],
   "source": [
    "Step 2: Prepare the data.\n",
    "data = {\n",
    "    'group1': ['A', 'A', 'A', 'B', 'B', 'B', 'C', 'C', 'C'],\n",
    "    'group2': ['X', 'Y', 'X', 'Y', 'X', 'Y', 'X', 'Y', 'X'],\n",
    "    'score': [10, 12, 15, 8, 9, 11, 20, 22, 18]\n",
    "}\n",
    "\n",
    "df = pd.DataFrame(data)"
   ]
  },
  {
   "cell_type": "code",
   "execution_count": null,
   "id": "4b5ef6e3-b571-412f-8020-67f2bd71ab99",
   "metadata": {},
   "outputs": [],
   "source": [
    "Step 3: Fit the two-way ANOVA model.\n",
    "model = ols('score ~ group1 + group2 + group1:group2', data=df).fit()"
   ]
  },
  {
   "cell_type": "code",
   "execution_count": null,
   "id": "ab76b882-f29b-4575-88c5-265964391b21",
   "metadata": {},
   "outputs": [],
   "source": [
    "Step 4: Calculate the main effects\n",
    "main_effects = model.params[['group1[T.B]', 'group1[T.C]', 'group2[T.Y]']]"
   ]
  },
  {
   "cell_type": "code",
   "execution_count": null,
   "id": "3a4e9e33-d5d6-4e1b-9ae3-0f0afd26fd40",
   "metadata": {},
   "outputs": [],
   "source": [
    "Step 5: Calculate the interaction effect.\n",
    "interaction_effect = model.params['group1[T.B]:group2[T.Y]']"
   ]
  },
  {
   "cell_type": "code",
   "execution_count": null,
   "id": "9ee37594-4039-4b77-b85b-cc5ddec287c8",
   "metadata": {},
   "outputs": [],
   "source": []
  },
  {
   "cell_type": "markdown",
   "id": "32f95797-e303-4253-b45c-6a50ec29996d",
   "metadata": {},
   "source": [
    "Q6. Suppose you conducted a one-way ANOVA and obtained an F-statistic of 5.23 and a p-value of 0.02.\n",
    "What can you conclude about the differences between the groups, and how would you interpret these\n",
    "results?"
   ]
  },
  {
   "cell_type": "code",
   "execution_count": null,
   "id": "d1a8a804-3a89-4103-8d56-d822458c8f1f",
   "metadata": {},
   "outputs": [],
   "source": [
    "Ans 6:-\n",
    "In a one-way ANOVA, the F-statistic is used to test whether there are significant differences between the means of two or more groups.\n",
    "The p-value associated with the F-statistic indicates the probability of obtaining the observed F-statistic (or more extreme) if the null hypothesis is true."
   ]
  },
  {
   "cell_type": "code",
   "execution_count": null,
   "id": "aa65fc2a-d08d-4a82-9efa-1239efd75b43",
   "metadata": {},
   "outputs": [],
   "source": [
    "In this scenario, the obtained F-statistic is 5.23, and the p-value is 0.02.\n",
    "With a significance level of 0.05 (commonly used in hypothesis testing), the p-value is less than the significance level.\n",
    "Therefore, we can conclude that there are significant differences between the means of the groups."
   ]
  },
  {
   "cell_type": "code",
   "execution_count": null,
   "id": "22897076-7458-4721-a427-5aa2f1d31688",
   "metadata": {},
   "outputs": [],
   "source": [
    "Interpretation:\n",
    "    Since the p-value (0.02) is less than the significance level (0.05), we reject the null hypothesis.\n",
    "    This means that there is sufficient evidence to suggest that at least one of the group means is significantly different from the others.\n",
    "    In other words, there are significant differences in the population means of the groups being compared"
   ]
  },
  {
   "cell_type": "code",
   "execution_count": null,
   "id": "69bd7cb3-bff1-4500-96f8-b78a43bae4b6",
   "metadata": {},
   "outputs": [],
   "source": []
  },
  {
   "cell_type": "markdown",
   "id": "5a395349-3804-4469-87a4-fe75ba485a37",
   "metadata": {},
   "source": [
    "Q7. In a repeated measures ANOVA, how would you handle missing data, and what are the potential\n",
    "consequences of using different methods to handle missing data?"
   ]
  },
  {
   "cell_type": "code",
   "execution_count": null,
   "id": "dd177b98-1aa4-4141-a86f-017dd713651b",
   "metadata": {},
   "outputs": [],
   "source": [
    "Ans 7:-\n",
    "Handling missing data in a repeated measures ANOVA is essential to ensure accurate and reliable results.\n",
    "There are several methods to deal with missing data, and the choice of method can impact the validity and precision of the analysis.\n",
    "Here are some common methods for handling missing data in a repeated measures ANOVA:"
   ]
  },
  {
   "cell_type": "code",
   "execution_count": null,
   "id": "d6db82de-55f1-4372-ade1-1d752abd5293",
   "metadata": {},
   "outputs": [],
   "source": [
    "Complete Case Analysis (Listwise Deletion):\n",
    "    This method involves excluding any participant with missing data from the analysis.\n",
    "    It is a straightforward approach, but it can result in a loss of valuable information and reduced statistical power, especially if the missing data are not random."
   ]
  },
  {
   "cell_type": "code",
   "execution_count": null,
   "id": "27f5e43e-8655-40f7-acc7-786780039cc6",
   "metadata": {},
   "outputs": [],
   "source": [
    "Mean Imputation:\n",
    "    Mean imputation involves replacing missing data with the mean of the observed values for that variable.\n",
    "    While simple to implement, this method can lead to biased estimates and an underestimation of the standard errors, as it does not account for the variability\n",
    "    introduced by missing values."
   ]
  },
  {
   "cell_type": "code",
   "execution_count": null,
   "id": "fe41c13c-3a11-478a-8f95-b72576c4b9d2",
   "metadata": {},
   "outputs": [],
   "source": [
    "Last Observation Carried Forward (LOCF):\n",
    "    In LOCF, missing data are replaced with the last observed value for that participant.\n",
    "    This method is commonly used in longitudinal studies and clinical trials but can also lead to biased results if the missing data are not missing completely at random."
   ]
  },
  {
   "cell_type": "code",
   "execution_count": null,
   "id": "2416effa-73d9-4f75-bef3-6733fbd0d398",
   "metadata": {},
   "outputs": [],
   "source": []
  },
  {
   "cell_type": "markdown",
   "id": "4cec0c71-7725-4240-ba98-dfdf593569da",
   "metadata": {},
   "source": [
    "Q8. What are some common post-hoc tests used after ANOVA, and when would you use each one? Provide\n",
    "an example of a situation where a post-hoc test might be necessary."
   ]
  },
  {
   "cell_type": "code",
   "execution_count": null,
   "id": "ac635c04-3973-4e26-9bdc-0311ed7ad3ec",
   "metadata": {},
   "outputs": [],
   "source": [
    "Ans 8:-\n",
    "Post-hoc tests are used in ANOVA to perform pairwise comparisons between groups when the overall ANOVA test indicates a significant difference among groups.\n",
    "These tests help to identify which specific group means are significantly different from each other.\n",
    "Some common post-hoc tests used after ANOVA include:"
   ]
  },
  {
   "cell_type": "code",
   "execution_count": null,
   "id": "ca9385f6-0359-4f15-b9c2-0abe30cdf08a",
   "metadata": {},
   "outputs": [],
   "source": [
    "Tukeys Honestly Significant Difference (HSD) Test:\n",
    "    Tukeys HSD test is conservative and appropriate when the sample sizes are equal and the variances are homogeneous.\n",
    "    It controls the family-wise error rate, making it suitable for situations where multiple pairwise comparisons are being made."
   ]
  },
  {
   "cell_type": "code",
   "execution_count": null,
   "id": "150be9ee-b6e2-491e-8704-5ec236bbb3ce",
   "metadata": {},
   "outputs": [],
   "source": [
    "Bonferroni Correction:\n",
    "    The Bonferroni correction is a simple and commonly used method to adjust the significance level for multiple comparisons.\n",
    "    It divides the desired significance level (typically 0.05) by the number of pairwise comparisons to control the overall Type I error rate."
   ]
  },
  {
   "cell_type": "code",
   "execution_count": null,
   "id": "e1b1f252-28e8-4d7a-a63e-2c5026268333",
   "metadata": {},
   "outputs": [],
   "source": [
    "Scheffes Test:\n",
    "    Scheffes test is more liberal and suitable for situations with unequal sample sizes and heterogeneous variances.\n",
    "    It controls the family-wise error rate more effectively than other post-hoc tests when the number of groups is small."
   ]
  },
  {
   "cell_type": "code",
   "execution_count": null,
   "id": "0d5ad79e-80b2-42f4-a05a-19cc78c2a9de",
   "metadata": {},
   "outputs": [],
   "source": [
    "Example:\n",
    "    Suppose a study examines the effect of three different treatments (A, B, and C) on the performance of students.\n",
    "    The overall ANOVA test indicates a significant difference among the treatments.\n",
    "    To determine which specific treatments differ significantly from each other, a post-hoc test is necessary.\n",
    "\n",
    "After conducting a Tukeys HSD test, the results show that treatment A has a significantly higher mean score than treatment B (p < 0.05), but there is no\n",
    "significant difference between treatment A and treatment C (p > 0.05) or between treatment B and treatment C (p > 0.05)."
   ]
  },
  {
   "cell_type": "code",
   "execution_count": null,
   "id": "c1069376-5fa5-4dfe-995d-42c9b0b218b8",
   "metadata": {},
   "outputs": [],
   "source": []
  },
  {
   "cell_type": "markdown",
   "id": "2404050b-ccdb-4c90-b4c0-dad23870e702",
   "metadata": {},
   "source": [
    "Q9. A researcher wants to compare the mean weight loss of three diets: A, B, and C. They collect data from\n",
    "50 participants who were randomly assigned to one of the diets. Conduct a one-way ANOVA using Python\n",
    "to determine if there are any significant differences between the mean weight loss of the three diets.\n",
    "Report the F-statistic and p-value, and interpret the results."
   ]
  },
  {
   "cell_type": "code",
   "execution_count": 1,
   "id": "6e5e9e35-2ff9-4e9b-861c-88f99e94b32e",
   "metadata": {},
   "outputs": [
    {
     "name": "stdout",
     "output_type": "stream",
     "text": [
      "F-statistic: 5.770957301178106\n",
      "p-value: 0.0038657419424457332\n"
     ]
    }
   ],
   "source": [
    "# Ans 9:-\n",
    "import numpy as np\n",
    "from scipy.stats import f_oneway\n",
    "\n",
    "np.random.seed(42)  \n",
    "weight_loss_a = np.random.normal(loc=3.0, scale=0.5, size=50)\n",
    "weight_loss_b = np.random.normal(loc=2.5, scale=0.7, size=50)\n",
    "weight_loss_c = np.random.normal(loc=2.8, scale=0.6, size=50)\n",
    "\n",
    "f_statistic, p_value = f_oneway(weight_loss_a, weight_loss_b, weight_loss_c)\n",
    "\n",
    "print(\"F-statistic:\", f_statistic)\n",
    "print(\"p-value:\", p_value)"
   ]
  },
  {
   "cell_type": "code",
   "execution_count": null,
   "id": "c03e63c1-78e4-413f-babe-1ecd1fe0dc77",
   "metadata": {},
   "outputs": [],
   "source": [
    "F-statistic:\n",
    "    The F-statistic measures the ratio of the between-group variability to the within-group variability.\n",
    "    A larger F-statistic suggests more significant differences between the group means.\n",
    "    \n",
    "p-value: \n",
    "    The p-value indicates the probability of obtaining the observed F-statistic if there were no significant differences between the group means.\n",
    "    A small p-value (typically less than 0.05) suggests that there are significant differences between at least one pair of diets."
   ]
  },
  {
   "cell_type": "code",
   "execution_count": null,
   "id": "11b23e86-6375-4916-86aa-6f8752dcc9e1",
   "metadata": {},
   "outputs": [],
   "source": []
  },
  {
   "cell_type": "markdown",
   "id": "d81c5c6a-8d54-4fe1-8011-1e94a4455eec",
   "metadata": {},
   "source": [
    "Q10. A company wants to know if there are any significant differences in the average time it takes to\n",
    "complete a task using three different software programs: Program A, Program B, and Program C. They\n",
    "randomly assign 30 employees to one of the programs and record the time it takes each employee to\n",
    "complete the task. Conduct a two-way ANOVA using Python to determine if there are any main effects or\n",
    "interaction effects between the software programs and employee experience level (novice vs.\n",
    "experienced). Report the F-statistics and p-values, and interpret the results."
   ]
  },
  {
   "cell_type": "code",
   "execution_count": 2,
   "id": "9f442fae-3445-4de4-8c01-39071f551dd6",
   "metadata": {},
   "outputs": [
    {
     "name": "stdout",
     "output_type": "stream",
     "text": [
      "                            df       sum_sq    mean_sq         F    PR(>F)\n",
      "C(Experience)              1.0    18.246591  18.246591  0.722394  0.397776\n",
      "C(Program)                 2.0     0.545822   0.272911  0.010805  0.989255\n",
      "C(Experience):C(Program)   2.0    41.108842  20.554421  0.813763  0.446650\n",
      "Residual                  84.0  2121.713786  25.258497       NaN       NaN\n"
     ]
    }
   ],
   "source": [
    "# Ans 10:-\n",
    "import numpy as np\n",
    "import pandas as pd\n",
    "import statsmodels.api as sm\n",
    "from statsmodels.formula.api import ols\n",
    "\n",
    "np.random.seed(42)\n",
    "\n",
    "experience = np.random.choice([0, 1], size=90)\n",
    "\n",
    "program = np.random.choice([0, 1, 2], size=90)\n",
    "\n",
    "time_taken = np.random.normal(loc=30, scale=5, size=90)\n",
    "\n",
    "data = pd.DataFrame({'Experience': experience, 'Program': program, 'TimeTaken': time_taken})\n",
    "\n",
    "data['Experience'] = data['Experience'].map({0: 'Novice', 1: 'Experienced'})\n",
    "data['Program'] = data['Program'].map({0: 'A', 1: 'B', 2: 'C'})\n",
    "\n",
    "formula = 'TimeTaken ~ C(Experience) + C(Program) + C(Experience):C(Program)'\n",
    "model = ols(formula, data).fit()\n",
    "anova_table = sm.stats.anova_lm(model)\n",
    "\n",
    "print(anova_table)\n"
   ]
  },
  {
   "cell_type": "code",
   "execution_count": null,
   "id": "e6908b59-405b-4c52-9362-aa7e0635c46f",
   "metadata": {},
   "outputs": [],
   "source": []
  },
  {
   "cell_type": "markdown",
   "id": "b23631f6-1768-4fbd-b4a3-781116a320f0",
   "metadata": {},
   "source": [
    "Q11. An educational researcher is interested in whether a new teaching method improves student test\n",
    "scores. They randomly assign 100 students to either the control group (traditional teaching method) or the\n",
    "experimental group (new teaching method) and administer a test at the end of the semester. Conduct a\n",
    "two-sample t-test using Python to determine if there are any significant differences in test scores\n",
    "between the two groups. If the results are significant, follow up with a post-hoc test to determine which\n",
    "group(s) differ significantly from each other."
   ]
  },
  {
   "cell_type": "code",
   "execution_count": 3,
   "id": "73830995-b7be-44d0-8892-60b0b7fc69c3",
   "metadata": {},
   "outputs": [
    {
     "name": "stdout",
     "output_type": "stream",
     "text": [
      "Two-sample t-test results:\n",
      "T-statistic: -4.754695943505281\n",
      "P-value: 3.819135262679478e-06\n",
      "\n",
      "Post-hoc Tukey's HSD test results:\n",
      "  Multiple Comparison of Means - Tukey HSD, FWER=0.05   \n",
      "========================================================\n",
      " group1    group2    meandiff p-adj lower  upper  reject\n",
      "--------------------------------------------------------\n",
      "Control Experimental   6.2615   0.0 3.6645 8.8585   True\n",
      "--------------------------------------------------------\n"
     ]
    }
   ],
   "source": [
    "# Ans 11:-\n",
    "import numpy as np\n",
    "import pandas as pd\n",
    "import scipy.stats as stats\n",
    "import statsmodels.api as sm\n",
    "from statsmodels.stats.multicomp import pairwise_tukeyhsd\n",
    "\n",
    "np.random.seed(42)\n",
    "\n",
    "control_scores = np.random.normal(loc=70, scale=10, size=100)\n",
    "\n",
    "experimental_scores = np.random.normal(loc=75, scale=10, size=100)\n",
    "\n",
    "data = pd.DataFrame({'Group': ['Control'] * 100 + ['Experimental'] * 100,\n",
    "                     'TestScores': np.concatenate([control_scores, experimental_scores])})\n",
    "\n",
    "control_scores = data[data['Group'] == 'Control']['TestScores']\n",
    "experimental_scores = data[data['Group'] == 'Experimental']['TestScores']\n",
    "\n",
    "t_stat, p_value = stats.ttest_ind(control_scores, experimental_scores)\n",
    "\n",
    "print(\"Two-sample t-test results:\")\n",
    "print(f\"T-statistic: {t_stat}\")\n",
    "print(f\"P-value: {p_value}\")\n",
    "\n",
    "posthoc = pairwise_tukeyhsd(data['TestScores'], data['Group'])\n",
    "\n",
    "print(\"\\nPost-hoc Tukey's HSD test results:\")\n",
    "print(posthoc)\n"
   ]
  },
  {
   "cell_type": "code",
   "execution_count": null,
   "id": "98fa7f88-583e-4160-bfd6-40384e012cf0",
   "metadata": {},
   "outputs": [],
   "source": []
  },
  {
   "cell_type": "markdown",
   "id": "5c61ad9e-13ef-4035-aa75-bea07faad6bf",
   "metadata": {},
   "source": [
    "Q12. A researcher wants to know if there are any significant differences in the average daily sales of three\n",
    "retail stores: Store A, Store B, and Store C. They randomly select 30 days and record the sales for each store\n",
    "on those days. Conduct a repeated measures ANOVA using Python to determine if there are any\n",
    "\n",
    "significant differences in sales between the three stores. If the results are significant, follow up with a post-\n",
    "hoc test to determine which store(s) differ significantly from each other."
   ]
  },
  {
   "cell_type": "code",
   "execution_count": 2,
   "id": "d192e49f-193f-4f3d-a18d-d2ef129c8724",
   "metadata": {},
   "outputs": [
    {
     "name": "stdout",
     "output_type": "stream",
     "text": [
      "Repeated Measures ANOVA results:\n",
      "  Source  ddof1  ddof2         F     p-unc       ng2       eps\n",
      "0   Days     29     58  1.134273  0.334382  0.266097  0.068061\n",
      "\n",
      "Post-hoc Tukey's HSD test results:\n",
      "  Multiple Comparison of Means - Tukey HSD, FWER=0.05   \n",
      "========================================================\n",
      "group1 group2  meandiff p-adj    lower    upper   reject\n",
      "--------------------------------------------------------\n",
      "     A      B  104.2752 0.0002   44.2094  164.341   True\n",
      "     A      C  -30.0257 0.4611  -90.0915  30.0401  False\n",
      "     B      C -134.3009    0.0 -194.3667 -74.2351   True\n",
      "--------------------------------------------------------\n"
     ]
    }
   ],
   "source": [
    "# Ans 12:-\n",
    "import numpy as np\n",
    "import pandas as pd\n",
    "import pingouin as pg\n",
    "from statsmodels.stats.multicomp import pairwise_tukeyhsd\n",
    "\n",
    "np.random.seed(42)\n",
    "\n",
    "days = np.arange(1, 31)\n",
    "store_a_sales = np.random.normal(loc=1000, scale=100, size=30)\n",
    "store_b_sales = np.random.normal(loc=1100, scale=120, size=30)\n",
    "store_c_sales = np.random.normal(loc=950, scale=90, size=30)\n",
    "\n",
    "data = pd.DataFrame({'Days': np.tile(days, 3),\n",
    "                     'Store': np.repeat(['A', 'B', 'C'], 30),\n",
    "                     'Sales': np.concatenate([store_a_sales, store_b_sales, store_c_sales])})\n",
    "\n",
    "rm_anova = pg.rm_anova(data=data, dv='Sales', within='Days', subject='Store')\n",
    "\n",
    "print(\"Repeated Measures ANOVA results:\")\n",
    "print(rm_anova)\n",
    "\n",
    "posthoc = pairwise_tukeyhsd(data['Sales'], data['Store'])\n",
    "\n",
    "print(\"\\nPost-hoc Tukey's HSD test results:\")\n",
    "print(posthoc)\n"
   ]
  },
  {
   "cell_type": "code",
   "execution_count": 1,
   "id": "319e5c70-6fbe-44c5-94a1-b4069bce789b",
   "metadata": {},
   "outputs": [
    {
     "name": "stdout",
     "output_type": "stream",
     "text": [
      "Collecting pingouin\n",
      "  Downloading pingouin-0.5.3-py3-none-any.whl (198 kB)\n",
      "\u001b[2K     \u001b[90m━━━━━━━━━━━━━━━━━━━━━━━━━━━━━━━━━━━━━━\u001b[0m \u001b[32m198.6/198.6 kB\u001b[0m \u001b[31m19.9 MB/s\u001b[0m eta \u001b[36m0:00:00\u001b[0m\n",
      "\u001b[?25hRequirement already satisfied: scikit-learn in /opt/conda/lib/python3.10/site-packages (from pingouin) (1.2.0)\n",
      "Requirement already satisfied: scipy>=1.7 in /opt/conda/lib/python3.10/site-packages (from pingouin) (1.9.3)\n",
      "Requirement already satisfied: statsmodels>=0.13 in /opt/conda/lib/python3.10/site-packages (from pingouin) (0.13.5)\n",
      "Requirement already satisfied: numpy>=1.19 in /opt/conda/lib/python3.10/site-packages (from pingouin) (1.23.5)\n",
      "Requirement already satisfied: seaborn>=0.11 in /opt/conda/lib/python3.10/site-packages (from pingouin) (0.12.1)\n",
      "Collecting pandas-flavor>=0.2.0\n",
      "  Downloading pandas_flavor-0.6.0-py3-none-any.whl (7.2 kB)\n",
      "Collecting tabulate\n",
      "  Downloading tabulate-0.9.0-py3-none-any.whl (35 kB)\n",
      "Requirement already satisfied: matplotlib>=3.0.2 in /opt/conda/lib/python3.10/site-packages (from pingouin) (3.6.2)\n",
      "Requirement already satisfied: pandas>=1.0 in /opt/conda/lib/python3.10/site-packages (from pingouin) (1.5.2)\n",
      "Collecting outdated\n",
      "  Downloading outdated-0.2.2-py2.py3-none-any.whl (7.5 kB)\n",
      "Requirement already satisfied: cycler>=0.10 in /opt/conda/lib/python3.10/site-packages (from matplotlib>=3.0.2->pingouin) (0.11.0)\n",
      "Requirement already satisfied: contourpy>=1.0.1 in /opt/conda/lib/python3.10/site-packages (from matplotlib>=3.0.2->pingouin) (1.0.6)\n",
      "Requirement already satisfied: fonttools>=4.22.0 in /opt/conda/lib/python3.10/site-packages (from matplotlib>=3.0.2->pingouin) (4.38.0)\n",
      "Requirement already satisfied: pyparsing>=2.2.1 in /opt/conda/lib/python3.10/site-packages (from matplotlib>=3.0.2->pingouin) (3.0.9)\n",
      "Requirement already satisfied: pillow>=6.2.0 in /opt/conda/lib/python3.10/site-packages (from matplotlib>=3.0.2->pingouin) (9.2.0)\n",
      "Requirement already satisfied: kiwisolver>=1.0.1 in /opt/conda/lib/python3.10/site-packages (from matplotlib>=3.0.2->pingouin) (1.4.4)\n",
      "Requirement already satisfied: packaging>=20.0 in /opt/conda/lib/python3.10/site-packages (from matplotlib>=3.0.2->pingouin) (22.0)\n",
      "Requirement already satisfied: python-dateutil>=2.7 in /opt/conda/lib/python3.10/site-packages (from matplotlib>=3.0.2->pingouin) (2.8.2)\n",
      "Requirement already satisfied: pytz>=2020.1 in /opt/conda/lib/python3.10/site-packages (from pandas>=1.0->pingouin) (2022.6)\n",
      "Collecting xarray\n",
      "  Downloading xarray-2023.7.0-py3-none-any.whl (1.0 MB)\n",
      "\u001b[2K     \u001b[90m━━━━━━━━━━━━━━━━━━━━━━━━━━━━━━━━━━━━━━━━\u001b[0m \u001b[32m1.0/1.0 MB\u001b[0m \u001b[31m59.5 MB/s\u001b[0m eta \u001b[36m0:00:00\u001b[0m\n",
      "\u001b[?25hRequirement already satisfied: patsy>=0.5.2 in /opt/conda/lib/python3.10/site-packages (from statsmodels>=0.13->pingouin) (0.5.3)\n",
      "Collecting littleutils\n",
      "  Downloading littleutils-0.2.2.tar.gz (6.6 kB)\n",
      "  Preparing metadata (setup.py) ... \u001b[?25ldone\n",
      "\u001b[?25hRequirement already satisfied: setuptools>=44 in /opt/conda/lib/python3.10/site-packages (from outdated->pingouin) (65.5.1)\n",
      "Requirement already satisfied: requests in /opt/conda/lib/python3.10/site-packages (from outdated->pingouin) (2.28.1)\n",
      "Requirement already satisfied: joblib>=1.1.1 in /opt/conda/lib/python3.10/site-packages (from scikit-learn->pingouin) (1.2.0)\n",
      "Requirement already satisfied: threadpoolctl>=2.0.0 in /opt/conda/lib/python3.10/site-packages (from scikit-learn->pingouin) (3.1.0)\n",
      "Requirement already satisfied: six in /opt/conda/lib/python3.10/site-packages (from patsy>=0.5.2->statsmodels>=0.13->pingouin) (1.16.0)\n",
      "Requirement already satisfied: charset-normalizer<3,>=2 in /opt/conda/lib/python3.10/site-packages (from requests->outdated->pingouin) (2.1.1)\n",
      "Requirement already satisfied: certifi>=2017.4.17 in /opt/conda/lib/python3.10/site-packages (from requests->outdated->pingouin) (2022.12.7)\n",
      "Requirement already satisfied: urllib3<1.27,>=1.21.1 in /opt/conda/lib/python3.10/site-packages (from requests->outdated->pingouin) (1.26.13)\n",
      "Requirement already satisfied: idna<4,>=2.5 in /opt/conda/lib/python3.10/site-packages (from requests->outdated->pingouin) (3.4)\n",
      "Building wheels for collected packages: littleutils\n",
      "  Building wheel for littleutils (setup.py) ... \u001b[?25ldone\n",
      "\u001b[?25h  Created wheel for littleutils: filename=littleutils-0.2.2-py3-none-any.whl size=7028 sha256=d9c13b8046ba3b0d64950547b706836bc7d34db8ec2ae723423ecda49fac3935\n",
      "  Stored in directory: /home/jovyan/.cache/pip/wheels/e0/3b/9c/d55ff5bc6cfbe70537c4731a22f2ee2462c2e5010b56ac9726\n",
      "Successfully built littleutils\n",
      "Installing collected packages: littleutils, tabulate, outdated, xarray, pandas-flavor, pingouin\n",
      "Successfully installed littleutils-0.2.2 outdated-0.2.2 pandas-flavor-0.6.0 pingouin-0.5.3 tabulate-0.9.0 xarray-2023.7.0\n",
      "Note: you may need to restart the kernel to use updated packages.\n"
     ]
    }
   ],
   "source": [
    "pip install pingouin"
   ]
  },
  {
   "cell_type": "code",
   "execution_count": null,
   "id": "46dd8240-38e9-48b4-bcc8-9114917a1af7",
   "metadata": {},
   "outputs": [],
   "source": []
  }
 ],
 "metadata": {
  "kernelspec": {
   "display_name": "Python 3 (ipykernel)",
   "language": "python",
   "name": "python3"
  },
  "language_info": {
   "codemirror_mode": {
    "name": "ipython",
    "version": 3
   },
   "file_extension": ".py",
   "mimetype": "text/x-python",
   "name": "python",
   "nbconvert_exporter": "python",
   "pygments_lexer": "ipython3",
   "version": "3.10.8"
  }
 },
 "nbformat": 4,
 "nbformat_minor": 5
}
