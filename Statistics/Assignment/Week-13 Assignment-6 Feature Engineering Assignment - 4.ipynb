{
 "cells": [
  {
   "cell_type": "markdown",
   "id": "1fa25a20-ef84-41d4-9b96-868b26af1b54",
   "metadata": {},
   "source": [
    "Q1. What is the difference between Ordinal Encoding and Label Encoding? Provide an example of when you\n",
    "might choose one over the other."
   ]
  },
  {
   "cell_type": "code",
   "execution_count": null,
   "id": "4f209599-1a51-4cc2-a5f3-f448387faf15",
   "metadata": {},
   "outputs": [],
   "source": [
    "Ans 1:-\n",
    "Ordinal Encoding and Label Encoding are both techniques used to convert categorical data into numerical format, but they differ in their approach and application."
   ]
  },
  {
   "cell_type": "code",
   "execution_count": null,
   "id": "e820c8ad-7382-40a1-85e9-605c8640c73b",
   "metadata": {},
   "outputs": [],
   "source": [
    "Ordinal Encoding:\n",
    "    Ordinal Encoding is used when the categorical data has a natural order or ranking among its categories.\n",
    "    It assigns numerical values to the categories based on their order, preserving the ordinal relationship between the categories.\n",
    "    The assigned numerical values can be any integers, and the order matters in the context of the data.\n",
    "    \n",
    "Example: Educational Level\n",
    "    Suppose we have a dataset containing the \"Educational Level\" feature with categories: \"High School,\" \"Associate Degree,\" \"Bachelor's Degree,\" \"Master's Degree,\"\n",
    "    and \"Ph.D.\" In this case, we can use Ordinal Encoding to assign numerical values 1, 2, 3, 4, and 5 to the respective categories, maintaining the meaningful order\n",
    "    of educational levels."
   ]
  },
  {
   "cell_type": "code",
   "execution_count": null,
   "id": "b6d13ee2-1b92-4dd7-af93-8f767e6fc517",
   "metadata": {},
   "outputs": [],
   "source": [
    "Label Encoding:\n",
    "    Label Encoding is used when the categorical data does not have any inherent order or ranking among its categories.\n",
    "    It assigns unique numerical labels (integers) to each category, starting from 0 or 1.\n",
    "    The numerical values have no mathematical significance and do not imply any specific order among the categories.\n",
    "    \n",
    "Example: Colors\n",
    "    Suppose we have a dataset containing the \"Color\" feature with categories: \"Red,\" \"Blue,\" \"Green,\" \"Yellow,\" and \"Purple.\"\n",
    "    In this case, we can use Label Encoding to assign numerical labels 0, 1, 2, 3, and 4 to the respective colors."
   ]
  },
  {
   "cell_type": "code",
   "execution_count": null,
   "id": "d809fea6-3149-4fe5-b20a-89e17df0ea0f",
   "metadata": {},
   "outputs": [],
   "source": [
    "When to choose one over the other:\n",
    "    Choose Ordinal Encoding when the categorical data has a natural order or ranking among the categories, and you want to preserve that order in the numerical\n",
    "    representation.\n",
    "    Choose Label Encoding when the categorical data does not have any inherent order, and you only need unique numerical labels for identification purposes."
   ]
  },
  {
   "cell_type": "code",
   "execution_count": null,
   "id": "2ceefc9e-66b1-47e9-a180-bb1d7049a61e",
   "metadata": {},
   "outputs": [],
   "source": []
  },
  {
   "cell_type": "markdown",
   "id": "87fb4677-7d32-49a5-a7df-90ba20f4ba55",
   "metadata": {},
   "source": [
    "Q2. Explain how Target Guided Ordinal Encoding works and provide an example of when you might use it in\n",
    "a machine learning project."
   ]
  },
  {
   "cell_type": "code",
   "execution_count": null,
   "id": "7580c4b8-ca8b-4158-8921-abf2b0ce6ea7",
   "metadata": {},
   "outputs": [],
   "source": [
    "Ans 2:-\n",
    "Target Guided Ordinal Encoding is a feature encoding technique that is specifically used for categorical variables in the context of supervised machine learning\n",
    "projects.\n",
    "It combines the benefits of ordinal encoding with the target variables information to create a meaningful and informative numerical representation of the categorical\n",
    "data."
   ]
  },
  {
   "cell_type": "code",
   "execution_count": null,
   "id": "05dd8214-889d-46ac-a54a-8690fd81e0d3",
   "metadata": {},
   "outputs": [],
   "source": [
    "The steps involved in Target Guided Ordinal Encoding are as follows:\n",
    "    Calculate the mean of the target variable for each category in the categorical feature.\n",
    "    Order the categories based on the calculated means.\n",
    "    Assign a numerical value to each category, with lower values for categories with lower means (indicating a lower likelihood of the target outcome) and higher\n",
    "    values for categories with higher means (indicating a higher likelihood of the target outcome)."
   ]
  },
  {
   "cell_type": "code",
   "execution_count": null,
   "id": "f706bc76-971c-4a36-875f-29ffeb30ff5c",
   "metadata": {},
   "outputs": [],
   "source": [
    "Calculate the mean of the target variable \"Churn\" for each contract type category:\n",
    "    Mean of \"Churn\" for \"Monthly\" contracts = 0.30 (30% churn rate for monthly contracts)\n",
    "    Mean of \"Churn\" for \"One Year\" contracts = 0.15 (15% churn rate for one-year contracts)\n",
    "    Mean of \"Churn\" for \"Two Year\" contracts = 0.05 (5% churn rate for two-year contracts)\n",
    "    \n",
    "Order the categories based on the calculated means:\n",
    "    \"Two Year\" contracts have the lowest churn rate (0.05), so they are assigned the lowest numerical value, say 1.\n",
    "    \"One Year\" contracts have a higher churn rate (0.15), so they are assigned a higher numerical value, say 2.\n",
    "    \"Monthly\" contracts have the highest churn rate (0.30), so they are assigned the highest numerical value, say 3."
   ]
  },
  {
   "cell_type": "code",
   "execution_count": null,
   "id": "03fdf272-8787-4a0b-a350-c57fe1eaeb2f",
   "metadata": {},
   "outputs": [],
   "source": []
  },
  {
   "cell_type": "markdown",
   "id": "6257fff4-db3c-4f2b-9495-5e5f0e39e592",
   "metadata": {},
   "source": [
    "Q3. Define covariance and explain why it is important in statistical analysis. How is covariance calculated?"
   ]
  },
  {
   "cell_type": "code",
   "execution_count": null,
   "id": "b0e86584-5da9-4283-8919-e3fd8a7bd3ee",
   "metadata": {},
   "outputs": [],
   "source": [
    "Ans 3:-\n",
    "Covariance is a statistical measure that quantifies the degree to which two random variables change together.\n",
    "It measures the joint variability or co-movement between two variables and indicates the direction of their relationship (positive or negative) and the strength of\n",
    "their association."
   ]
  },
  {
   "cell_type": "code",
   "execution_count": null,
   "id": "7345017e-7ad1-4983-9d0d-63c97cf9aabd",
   "metadata": {},
   "outputs": [],
   "source": [
    "Importance of Covariance in Statistical Analysis:\n",
    "Covariance is essential in statistical analysis for several reasons:\n",
    "    \n",
    "Relationship between Variables:\n",
    "    Covariance helps to understand the relationship between two variables.\n",
    "    A positive covariance indicates that as one variable increases, the other tends to increase, and a negative covariance indicates that as one variable increases,\n",
    "    the other tends to decrease.\n",
    "\n",
    "Portfolio Diversification:\n",
    "    In finance, covariance is crucial in building diversified investment portfolios.\n",
    "    It helps to measure how different assets returns move in relation to each other,which allows investors to assess the risk and potential benefits of combining\n",
    "    assets in a portfolio.\n",
    "\n",
    "Multivariate Analysis:\n",
    "    Covariance is used in multivariate analysis to study the relationships between multiple variables simultaneously.\n",
    "    It provides insights into how different variables are related to each other in a dataset."
   ]
  },
  {
   "cell_type": "code",
   "execution_count": null,
   "id": "1d98eaf4-9cbc-4c9f-9fb0-3e395fe4d786",
   "metadata": {},
   "outputs": [],
   "source": []
  },
  {
   "cell_type": "markdown",
   "id": "ff6217fa-1bbc-4d1f-891a-c8c41f9a6d18",
   "metadata": {},
   "source": [
    "Q4. For a dataset with the following categorical variables: Color (red, green, blue), Size (small, medium,\n",
    "large), and Material (wood, metal, plastic), perform label encoding using Python's scikit-learn library.\n",
    "Show your code and explain the output."
   ]
  },
  {
   "cell_type": "code",
   "execution_count": 2,
   "id": "8008af43-d46c-4fd3-a3ad-cd49e5eea9a9",
   "metadata": {},
   "outputs": [
    {
     "name": "stdout",
     "output_type": "stream",
     "text": [
      "Encoded Colors: [2 1 0 2 0]\n",
      "Encoded Sizes: [2 1 0 1 2]\n",
      "Encoded Materials: [2 0 1 1 0]\n"
     ]
    }
   ],
   "source": [
    "# Ans 4:-\n",
    "from sklearn.preprocessing import LabelEncoder\n",
    "\n",
    "colors = ['red', 'green', 'blue', 'red', 'blue']\n",
    "sizes = ['small', 'medium', 'large', 'medium', 'small']\n",
    "materials = ['wood', 'metal', 'plastic', 'plastic', 'metal']\n",
    "\n",
    "label_encoder = LabelEncoder()\n",
    "\n",
    "encoded_colors = label_encoder.fit_transform(colors)\n",
    "encoded_sizes = label_encoder.fit_transform(sizes)\n",
    "encoded_materials = label_encoder.fit_transform(materials)\n",
    "\n",
    "print(\"Encoded Colors:\", encoded_colors)\n",
    "print(\"Encoded Sizes:\", encoded_sizes)\n",
    "print(\"Encoded Materials:\", encoded_materials)\n"
   ]
  },
  {
   "cell_type": "code",
   "execution_count": null,
   "id": "497d938f-bade-459a-9d42-a5e566fdb300",
   "metadata": {},
   "outputs": [],
   "source": []
  },
  {
   "cell_type": "markdown",
   "id": "8c3e9bf9-ba4e-48d4-b212-608dc63b48da",
   "metadata": {},
   "source": [
    "Q5. Calculate the covariance matrix for the following variables in a dataset: Age, Income, and Education\n",
    "level. Interpret the results."
   ]
  },
  {
   "cell_type": "code",
   "execution_count": 3,
   "id": "f4eca471-ccf1-4728-888a-0c47fb2051e4",
   "metadata": {},
   "outputs": [
    {
     "name": "stdout",
     "output_type": "stream",
     "text": [
      "Covariance Matrix:\n",
      "[[6.25e+01 1.25e+05 1.00e+01]\n",
      " [1.25e+05 2.50e+08 2.00e+04]\n",
      " [1.00e+01 2.00e+04 5.00e+00]]\n"
     ]
    }
   ],
   "source": [
    "# Ans 5:-\n",
    "import numpy as np\n",
    "\n",
    "age = [25, 30, 35, 40, 45]\n",
    "income = [50000, 60000, 70000, 80000, 90000]\n",
    "education = [12, 16, 14, 18, 15]\n",
    "\n",
    "data = np.array([age, income, education])\n",
    "\n",
    "cov_matrix = np.cov(data)\n",
    "\n",
    "print(\"Covariance Matrix:\")\n",
    "print(cov_matrix)\n"
   ]
  },
  {
   "cell_type": "code",
   "execution_count": null,
   "id": "eb47c0f8-355f-4e5e-a6ff-4b2132ce4488",
   "metadata": {},
   "outputs": [],
   "source": [
    "Interpretation:\n",
    "    The covariance matrix shows the covariance values between each pair of variables.\n",
    "    Each element (i, j) in the matrix represents the covariance between variable i and variable j."
   ]
  },
  {
   "cell_type": "code",
   "execution_count": null,
   "id": "2a2c25aa-a98a-4393-a397-7cd57578d88a",
   "metadata": {},
   "outputs": [],
   "source": []
  },
  {
   "cell_type": "markdown",
   "id": "b350a012-67b1-4da2-905f-4ced550e52d2",
   "metadata": {},
   "source": [
    "Q6. You are working on a machine learning project with a dataset containing several categorical\n",
    "variables, including \"Gender\" (Male/Female), \"Education Level\" (High School/Bachelor's/Master's/PhD),\n",
    "and \"Employment Status\" (Unemployed/Part-Time/Full-Time). Which encoding method would you use for\n",
    "each variable, and why?"
   ]
  },
  {
   "cell_type": "code",
   "execution_count": 5,
   "id": "8acad0e9-360a-4bf1-b760-fb675c87bb0b",
   "metadata": {},
   "outputs": [
    {
     "name": "stdout",
     "output_type": "stream",
     "text": [
      "Encoded Gender: [1 0]\n",
      "Encoded Education Level: [1 0 2 3]\n",
      "Encoded Employment Status:\n",
      "   Full-Time  Part-Time  Unemployed\n",
      "0          0          0           1\n",
      "1          0          1           0\n",
      "2          1          0           0\n"
     ]
    }
   ],
   "source": [
    "# Ans 6:-\n",
    "from sklearn.preprocessing import LabelEncoder\n",
    "\n",
    "gender = ['Male', 'Female']\n",
    "\n",
    "label_encoder = LabelEncoder()\n",
    "encoded_gender = label_encoder.fit_transform(gender)\n",
    "print(\"Encoded Gender:\", encoded_gender)\n",
    "\n",
    "education_level = ['High School', \"Bachelor's\", \"Master's\", 'PhD']\n",
    "\n",
    "ordinal_encoder = LabelEncoder()\n",
    "encoded_education_level = ordinal_encoder.fit_transform(education_level)\n",
    "print(\"Encoded Education Level:\", encoded_education_level)\n",
    "\n",
    "import pandas as pd\n",
    "\n",
    "employment_status = ['Unemployed', 'Part-Time', 'Full-Time']\n",
    "encoded_employment_status = pd.get_dummies(employment_status)\n",
    "print(\"Encoded Employment Status:\")\n",
    "print(encoded_employment_status)\n"
   ]
  },
  {
   "cell_type": "code",
   "execution_count": null,
   "id": "b4e3fe92-4cba-4512-8e3d-02b54f789918",
   "metadata": {},
   "outputs": [],
   "source": []
  },
  {
   "cell_type": "markdown",
   "id": "6cbcdacb-9280-4c2c-84c5-cffa0c46f029",
   "metadata": {},
   "source": [
    "Q7. You are analyzing a dataset with two continuous variables, \"Temperature\" and \"Humidity\", and two\n",
    "categorical variables, \"Weather Condition\" (Sunny/Cloudy/Rainy) and \"Wind Direction\" (North/South/\n",
    "East/West). Calculate the covariance between each pair of variables and interpret the results."
   ]
  },
  {
   "cell_type": "code",
   "execution_count": null,
   "id": "c38f763e-3f35-40a3-8ead-f45503148ae1",
   "metadata": {},
   "outputs": [],
   "source": [
    "Ans 7:-\n",
    "To calculate the covariance between each pair of variables in the dataset, we first need the data for the \"Temperature,\" \"Humidity,\" \"Weather Condition,\" and\n",
    "\"Wind Direction\" variables.\n",
    "Since I don't have the actual data, I'll provide a general explanation of how to interpret the covariance results"
   ]
  },
  {
   "cell_type": "code",
   "execution_count": null,
   "id": "d3ebc2d3-2ad5-4526-bff6-a407a330753b",
   "metadata": {},
   "outputs": [],
   "source": [
    "Suppose we have a dataset with the following variables:\n",
    "\n",
    "Temperature: [25, 30, 35, 40, 45]\n",
    "Humidity: [40, 50, 60, 70, 80]\n",
    "Weather Condition: [\"Sunny\", \"Cloudy\", \"Rainy\", \"Sunny\", \"Rainy\"]\n",
    "Wind Direction: [\"North\", \"South\", \"East\", \"West\", \"West\"]"
   ]
  },
  {
   "cell_type": "code",
   "execution_count": 6,
   "id": "45db8269-1b7e-4435-b785-a3531485570a",
   "metadata": {},
   "outputs": [
    {
     "name": "stdout",
     "output_type": "stream",
     "text": [
      "Covariance between Temperature and Humidity: 125.0\n"
     ]
    }
   ],
   "source": [
    "import numpy as np\n",
    "\n",
    "temperature = np.array([25, 30, 35, 40, 45])\n",
    "humidity = np.array([40, 50, 60, 70, 80])\n",
    "\n",
    "covariance = np.cov(temperature, humidity)[0, 1]\n",
    "\n",
    "print(\"Covariance between Temperature and Humidity:\", covariance)\n",
    "\n"
   ]
  },
  {
   "cell_type": "code",
   "execution_count": null,
   "id": "affd0a85-f32b-4531-8025-f2fa728ca082",
   "metadata": {},
   "outputs": [],
   "source": []
  },
  {
   "cell_type": "code",
   "execution_count": null,
   "id": "1229fc83-a395-4f5d-b3ae-8a42977fa105",
   "metadata": {},
   "outputs": [],
   "source": []
  }
 ],
 "metadata": {
  "kernelspec": {
   "display_name": "Python 3 (ipykernel)",
   "language": "python",
   "name": "python3"
  },
  "language_info": {
   "codemirror_mode": {
    "name": "ipython",
    "version": 3
   },
   "file_extension": ".py",
   "mimetype": "text/x-python",
   "name": "python",
   "nbconvert_exporter": "python",
   "pygments_lexer": "ipython3",
   "version": "3.10.8"
  }
 },
 "nbformat": 4,
 "nbformat_minor": 5
}
