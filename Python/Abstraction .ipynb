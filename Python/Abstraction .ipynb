{
 "cells": [
  {
   "cell_type": "code",
   "execution_count": 8,
   "id": "ac9e3e50-613a-403e-b21d-aa446977c1fa",
   "metadata": {},
   "outputs": [],
   "source": [
    "import abc\n",
    "class cloudus:\n",
    "    \n",
    "    @abc.abstractmethod\n",
    "    def stu_details(self):\n",
    "        pass\n",
    "    @abc.abstractmethod\n",
    "    def student_ass(self):\n",
    "        pass\n",
    "    @abc.abstractmethod\n",
    "    def student_marks(self):\n",
    "        pass"
   ]
  },
  {
   "cell_type": "code",
   "execution_count": 9,
   "id": "2e841969-02a5-4c1f-a1d6-4a2d932b16c3",
   "metadata": {},
   "outputs": [],
   "source": [
    "class devloper_details(cloudus):\n",
    "    def stu_details(self):\n",
    "        return \"this is the method for student detais\"\n",
    "    def student_ass(self):\n",
    "        return \"this is to assign the projrct\""
   ]
  },
  {
   "cell_type": "code",
   "execution_count": 10,
   "id": "34119850-096e-4219-ad3b-1c3f8f8e2f0d",
   "metadata": {},
   "outputs": [],
   "source": [
    "class data_science_returns(cloudus):\n",
    "    \n",
    "    def stu_details(self):\n",
    "        return \"return the student details for the data science class\"\n",
    "    \n",
    "    def student_ass(self):\n",
    "        return \"this will return the student assignment details for data science calss\""
   ]
  },
  {
   "cell_type": "code",
   "execution_count": 11,
   "id": "c8ffd73e-ecf6-4352-bc16-582003eca829",
   "metadata": {},
   "outputs": [
    {
     "data": {
      "text/plain": [
       "'return the student details for the data science class'"
      ]
     },
     "execution_count": 11,
     "metadata": {},
     "output_type": "execute_result"
    }
   ],
   "source": [
    "data = data_science_returns()\n",
    "data.stu_details()"
   ]
  },
  {
   "cell_type": "code",
   "execution_count": 14,
   "id": "4bbdd2b6-fdc8-4128-a8ce-f85dc9d3c063",
   "metadata": {},
   "outputs": [
    {
     "data": {
      "text/plain": [
       "'this is the method for student detais'"
      ]
     },
     "execution_count": 14,
     "metadata": {},
     "output_type": "execute_result"
    }
   ],
   "source": [
    "dd = devloper_details()\n",
    "dd.stu_details()"
   ]
  },
  {
   "cell_type": "code",
   "execution_count": null,
   "id": "e9afcb1b-553a-4b68-9359-935702381478",
   "metadata": {},
   "outputs": [],
   "source": []
  }
 ],
 "metadata": {
  "kernelspec": {
   "display_name": "Python 3 (ipykernel)",
   "language": "python",
   "name": "python3"
  },
  "language_info": {
   "codemirror_mode": {
    "name": "ipython",
    "version": 3
   },
   "file_extension": ".py",
   "mimetype": "text/x-python",
   "name": "python",
   "nbconvert_exporter": "python",
   "pygments_lexer": "ipython3",
   "version": "3.10.8"
  }
 },
 "nbformat": 4,
 "nbformat_minor": 5
}
