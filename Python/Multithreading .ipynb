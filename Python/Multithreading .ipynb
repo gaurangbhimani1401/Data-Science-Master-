{
 "cells": [
  {
   "cell_type": "code",
   "execution_count": 1,
   "id": "9797fa83-5dc0-4196-9686-8ddf4cb358b5",
   "metadata": {},
   "outputs": [],
   "source": [
    "import threading"
   ]
  },
  {
   "cell_type": "code",
   "execution_count": 6,
   "id": "26d8e39d-9d29-4499-b185-ac843bb5c05b",
   "metadata": {},
   "outputs": [],
   "source": [
    "def test(id):\n",
    "    print(\"programe start %d\"%id)"
   ]
  },
  {
   "cell_type": "code",
   "execution_count": 7,
   "id": "3a0b4030-25b9-486c-9ee5-add5cde573d5",
   "metadata": {},
   "outputs": [
    {
     "name": "stdout",
     "output_type": "stream",
     "text": [
      "programe start 456\n"
     ]
    }
   ],
   "source": [
    "test(456)"
   ]
  },
  {
   "cell_type": "code",
   "execution_count": 11,
   "id": "6c795a43-81b1-42e2-919c-a8337250e8f0",
   "metadata": {},
   "outputs": [],
   "source": [
    "thread = [threading.Thread(target = test , args = (i,))for i in range(10)]"
   ]
  },
  {
   "cell_type": "code",
   "execution_count": 12,
   "id": "8db3379f-91ce-4ee0-9229-b70b53c865a7",
   "metadata": {},
   "outputs": [
    {
     "name": "stdout",
     "output_type": "stream",
     "text": [
      "programe start 0\n",
      "programe start 1\n",
      "programe start 2\n",
      "programe start 3\n",
      "programe start 4\n",
      "programe start 5\n",
      "programe start 6\n",
      "programe start 7\n",
      "programe start 8\n",
      "programe start 9\n"
     ]
    }
   ],
   "source": [
    "for t in thread:\n",
    "    t.start()"
   ]
  },
  {
   "cell_type": "code",
   "execution_count": 13,
   "id": "99efafe9-0558-4507-8c17-6c48064783f6",
   "metadata": {},
   "outputs": [
    {
     "data": {
      "text/plain": [
       "[<Thread(Thread-5 (test), stopped 139976563996224)>,\n",
       " <Thread(Thread-6 (test), stopped 139976563996224)>,\n",
       " <Thread(Thread-7 (test), stopped 139976563996224)>,\n",
       " <Thread(Thread-8 (test), stopped 139976563996224)>,\n",
       " <Thread(Thread-9 (test), stopped 139976563996224)>,\n",
       " <Thread(Thread-10 (test), stopped 139976555603520)>,\n",
       " <Thread(Thread-11 (test), stopped 139976555603520)>,\n",
       " <Thread(Thread-12 (test), stopped 139976555603520)>,\n",
       " <Thread(Thread-13 (test), stopped 139976555603520)>,\n",
       " <Thread(Thread-14 (test), stopped 139976555603520)>]"
      ]
     },
     "execution_count": 13,
     "metadata": {},
     "output_type": "execute_result"
    }
   ],
   "source": [
    "thread"
   ]
  },
  {
   "cell_type": "code",
   "execution_count": 31,
   "id": "1daf5b6c-357a-4d11-b2fd-2c0b04806f42",
   "metadata": {},
   "outputs": [],
   "source": [
    "import threading\n",
    "import urllib.request\n",
    "\n",
    "def file_download(url, filename):\n",
    "    urllib.request.urlretrieve(url,filename)\n",
    "    "
   ]
  },
  {
   "cell_type": "code",
   "execution_count": 35,
   "id": "d55c1d59-9c6a-4cbe-9466-a9a66b40dc99",
   "metadata": {},
   "outputs": [],
   "source": [
    "url_list = ['https://github.com/gaurangbhimani1401/Data-Science-Master-/blob/main/Python/Assignment%20Python/Week-1%20Assignment-1.ipynb','https://github.com/gaurangbhimani1401/Data-Science-Master-/blob/main/Python/Assignment%20Python/Week-2%20Assignment-1.ipynb']"
   ]
  },
  {
   "cell_type": "code",
   "execution_count": 36,
   "id": "676c1e59-7948-4982-8bb4-72ec40dca88a",
   "metadata": {},
   "outputs": [],
   "source": [
    "filename_list = ['abc.txt','abc1.txt']"
   ]
  },
  {
   "cell_type": "code",
   "execution_count": 37,
   "id": "cad1a3f3-d928-4560-b593-3c72beba12de",
   "metadata": {},
   "outputs": [],
   "source": [
    "ther =[threading.Thread(target=file_download , args=(url_list[i], filename_list[i])) for i in range(len(url_list))]"
   ]
  },
  {
   "cell_type": "code",
   "execution_count": 38,
   "id": "0eb2df26-0c16-478f-9f8f-0787da09735d",
   "metadata": {},
   "outputs": [
    {
     "data": {
      "text/plain": [
       "[<Thread(Thread-9 (file_download), initial)>,\n",
       " <Thread(Thread-10 (file_download), initial)>]"
      ]
     },
     "execution_count": 38,
     "metadata": {},
     "output_type": "execute_result"
    }
   ],
   "source": [
    "ther"
   ]
  },
  {
   "cell_type": "code",
   "execution_count": 39,
   "id": "5db03daa-344e-4876-ba80-25bea1d0e994",
   "metadata": {},
   "outputs": [],
   "source": [
    "for t in ther:\n",
    "    t.start()"
   ]
  },
  {
   "cell_type": "code",
   "execution_count": 67,
   "id": "05afabbc-4181-47e7-93ae-f08b04cd675c",
   "metadata": {},
   "outputs": [],
   "source": [
    "import time"
   ]
  },
  {
   "cell_type": "code",
   "execution_count": 51,
   "id": "0a56e482-df1f-44f5-b0f0-5e470abdfa85",
   "metadata": {},
   "outputs": [],
   "source": [
    "def test1(id):\n",
    "    for i in range(10):\n",
    "        print(\"test %d printing %d %s \"%(id,i,time.ctime()))\n",
    "        time.sleep(1)"
   ]
  },
  {
   "cell_type": "code",
   "execution_count": 52,
   "id": "1e477475-80bd-4a3e-88a4-218ad94f9b3e",
   "metadata": {},
   "outputs": [
    {
     "name": "stdout",
     "output_type": "stream",
     "text": [
      "test 1 printing 0 Tue Jun 13 04:47:51 2023 \n",
      "test 1 printing 1 Tue Jun 13 04:47:52 2023 \n",
      "test 1 printing 2 Tue Jun 13 04:47:53 2023 \n",
      "test 1 printing 3 Tue Jun 13 04:47:54 2023 \n",
      "test 1 printing 4 Tue Jun 13 04:47:55 2023 \n",
      "test 1 printing 5 Tue Jun 13 04:47:56 2023 \n",
      "test 1 printing 6 Tue Jun 13 04:47:57 2023 \n",
      "test 1 printing 7 Tue Jun 13 04:47:58 2023 \n",
      "test 1 printing 8 Tue Jun 13 04:47:59 2023 \n",
      "test 1 printing 9 Tue Jun 13 04:48:00 2023 \n"
     ]
    }
   ],
   "source": [
    "test1(1)"
   ]
  },
  {
   "cell_type": "code",
   "execution_count": 53,
   "id": "4bf33fbd-ce98-46cf-9cc6-a8005409ac3f",
   "metadata": {},
   "outputs": [],
   "source": [
    "ther1 = [threading.Thread(target=test1, args=(i,)) for i in range(3)]"
   ]
  },
  {
   "cell_type": "code",
   "execution_count": 54,
   "id": "c6afab59-6a1f-465a-8073-6842354d994a",
   "metadata": {},
   "outputs": [
    {
     "name": "stdout",
     "output_type": "stream",
     "text": [
      "test 0 printing 0 Tue Jun 13 04:48:10 2023 \n",
      "test 1 printing 0 Tue Jun 13 04:48:10 2023 \n",
      "test 2 printing 0 Tue Jun 13 04:48:10 2023 \n",
      "test 0 printing 1 Tue Jun 13 04:48:11 2023 \n",
      "test 1 printing 1 Tue Jun 13 04:48:11 2023 \n",
      "test 2 printing 1 Tue Jun 13 04:48:11 2023 \n",
      "test 0 printing 2 Tue Jun 13 04:48:12 2023 \n",
      "test 1 printing 2 Tue Jun 13 04:48:12 2023 \n",
      "test 2 printing 2 Tue Jun 13 04:48:12 2023 \n",
      "test 0 printing 3 Tue Jun 13 04:48:13 2023 \n",
      "test 1 printing 3 Tue Jun 13 04:48:13 2023 \n",
      "test 2 printing 3 Tue Jun 13 04:48:13 2023 \n",
      "test 0 printing 4 Tue Jun 13 04:48:14 2023 \n",
      "test 1 printing 4 Tue Jun 13 04:48:14 2023 \n",
      "test 2 printing 4 Tue Jun 13 04:48:14 2023 \n",
      "test 0 printing 5 Tue Jun 13 04:48:15 2023 \n",
      "test 2 printing 5 Tue Jun 13 04:48:15 2023 \n",
      "test 1 printing 5 Tue Jun 13 04:48:15 2023 \n",
      "test 0 printing 6 Tue Jun 13 04:48:16 2023 \n",
      "test 2 printing 6 Tue Jun 13 04:48:16 2023 \n",
      "test 1 printing 6 Tue Jun 13 04:48:16 2023 \n",
      "test 0 printing 7 Tue Jun 13 04:48:17 2023 \n",
      "test 2 printing 7 Tue Jun 13 04:48:17 2023 \n",
      "test 1 printing 7 Tue Jun 13 04:48:17 2023 \n",
      "test 0 printing 8 Tue Jun 13 04:48:18 2023 \n",
      "test 2 printing 8 Tue Jun 13 04:48:18 2023 \n",
      "test 1 printing 8 Tue Jun 13 04:48:18 2023 \n",
      "test 0 printing 9 Tue Jun 13 04:48:19 2023 \n",
      "test 2 printing 9 Tue Jun 13 04:48:19 2023 \n",
      "test 1 printing 9 Tue Jun 13 04:48:19 2023 \n"
     ]
    }
   ],
   "source": [
    "for t in ther1:\n",
    "    t.start()"
   ]
  },
  {
   "cell_type": "code",
   "execution_count": 79,
   "id": "773122a9-fc78-4203-b6ea-bf686cc4cc99",
   "metadata": {},
   "outputs": [
    {
     "name": "stdout",
     "output_type": "stream",
     "text": [
      "test2 id 0 has increased the shared variable by 1\n",
      "test2 id 1 has increased the shared variable by 2\n",
      "test2 id 2 has increased the shared variable by 3\n"
     ]
    }
   ],
   "source": [
    "import threading\n",
    "import time\n",
    "\n",
    "shared_var = 0\n",
    "lock_var = threading.Lock()\n",
    "\n",
    "def test2(thread_id):\n",
    "    global shared_var\n",
    "    with lock_var:\n",
    "        shared_var = shared_var + 1\n",
    "        print(\"test2 id %d has increased the shared variable by %d\" % (thread_id, shared_var))\n",
    "        time.sleep(1)\n",
    "\n",
    "threads = [threading.Thread(target=test2, args=(thread_id,)) for thread_id in range(3)]\n",
    "for t in threads:\n",
    "    t.start()\n",
    "\n",
    "# for t in threads:\n",
    "#     t.join()\n"
   ]
  },
  {
   "cell_type": "code",
   "execution_count": null,
   "id": "0a25a091-47d7-4c7b-80da-74e013134dfd",
   "metadata": {},
   "outputs": [],
   "source": []
  }
 ],
 "metadata": {
  "kernelspec": {
   "display_name": "Python 3 (ipykernel)",
   "language": "python",
   "name": "python3"
  },
  "language_info": {
   "codemirror_mode": {
    "name": "ipython",
    "version": 3
   },
   "file_extension": ".py",
   "mimetype": "text/x-python",
   "name": "python",
   "nbconvert_exporter": "python",
   "pygments_lexer": "ipython3",
   "version": "3.10.8"
  }
 },
 "nbformat": 4,
 "nbformat_minor": 5
}
