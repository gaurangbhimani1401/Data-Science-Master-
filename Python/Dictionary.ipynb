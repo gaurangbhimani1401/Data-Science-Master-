{
 "cells": [
  {
   "cell_type": "code",
   "execution_count": 2,
   "id": "5cd76d86-67af-4b3d-b3e1-d600718c80c2",
   "metadata": {},
   "outputs": [],
   "source": [
    "d = {}"
   ]
  },
  {
   "cell_type": "code",
   "execution_count": 3,
   "id": "269a76b4-80d5-4789-b5f2-9348580be938",
   "metadata": {},
   "outputs": [
    {
     "data": {
      "text/plain": [
       "dict"
      ]
     },
     "execution_count": 3,
     "metadata": {},
     "output_type": "execute_result"
    }
   ],
   "source": [
    "type(d)"
   ]
  },
  {
   "cell_type": "code",
   "execution_count": 10,
   "id": "68904b16-5b20-4966-98b8-8320022b3d18",
   "metadata": {},
   "outputs": [],
   "source": [
    "d = {'name' : \"gaurang\", 'email' : \"abc@gmail.com\", 'mobile no' : 12456789, 12 : \"abc\",True :\"hello\"}"
   ]
  },
  {
   "cell_type": "code",
   "execution_count": 11,
   "id": "812cd0cc-5445-4523-bd7e-0a4c050bdbc9",
   "metadata": {},
   "outputs": [
    {
     "data": {
      "text/plain": [
       "{'name': 'gaurang',\n",
       " 'email': 'abc@gmail.com',\n",
       " 'mobile no': 12456789,\n",
       " 12: 'abc',\n",
       " True: 'hello'}"
      ]
     },
     "execution_count": 11,
     "metadata": {},
     "output_type": "execute_result"
    }
   ],
   "source": [
    "d"
   ]
  },
  {
   "cell_type": "code",
   "execution_count": 12,
   "id": "d2b8d5eb-5ae3-401a-82b3-03f8e623a0b3",
   "metadata": {},
   "outputs": [
    {
     "data": {
      "text/plain": [
       "'gaurang'"
      ]
     },
     "execution_count": 12,
     "metadata": {},
     "output_type": "execute_result"
    }
   ],
   "source": [
    "d['name']"
   ]
  },
  {
   "cell_type": "code",
   "execution_count": 13,
   "id": "cf8c6bb2-6cd4-43d5-bbb5-fb3574deb1a9",
   "metadata": {},
   "outputs": [
    {
     "data": {
      "text/plain": [
       "12456789"
      ]
     },
     "execution_count": 13,
     "metadata": {},
     "output_type": "execute_result"
    }
   ],
   "source": [
    "d['mobile no']"
   ]
  },
  {
   "cell_type": "code",
   "execution_count": 14,
   "id": "241784b6-e731-4624-abf9-09c15f3d3007",
   "metadata": {},
   "outputs": [
    {
     "data": {
      "text/plain": [
       "'hello'"
      ]
     },
     "execution_count": 14,
     "metadata": {},
     "output_type": "execute_result"
    }
   ],
   "source": [
    "d[1]"
   ]
  },
  {
   "cell_type": "code",
   "execution_count": 15,
   "id": "8de99e1d-24f8-4b8e-b386-ade0ff640d1a",
   "metadata": {},
   "outputs": [],
   "source": [
    "d1 = {'name' : 'gaurang', 'mobile' : 384013434 , 'email' : \"abcd@gmail.com\" , 'name':\"mohan\"}"
   ]
  },
  {
   "cell_type": "code",
   "execution_count": 16,
   "id": "b6372b1f-00f9-41b3-88e1-fa2d6ee1acaf",
   "metadata": {},
   "outputs": [
    {
     "data": {
      "text/plain": [
       "{'name': 'mohan', 'mobile': 384013434, 'email': 'abcd@gmail.com'}"
      ]
     },
     "execution_count": 16,
     "metadata": {},
     "output_type": "execute_result"
    }
   ],
   "source": [
    "d1"
   ]
  },
  {
   "cell_type": "code",
   "execution_count": 17,
   "id": "19feb0cf-6828-43ff-902e-1f6ebc9dcf54",
   "metadata": {},
   "outputs": [
    {
     "data": {
      "text/plain": [
       "'mohan'"
      ]
     },
     "execution_count": 17,
     "metadata": {},
     "output_type": "execute_result"
    }
   ],
   "source": [
    "d1['name']"
   ]
  },
  {
   "cell_type": "code",
   "execution_count": 1,
   "id": "0b87e569-7ec9-4073-8740-87437c2d835b",
   "metadata": {},
   "outputs": [],
   "source": [
    "d3 = {'company':\"cloudus\", 'tech': [\"flutter\",\"Android\",\"IOS\",\"Back end\",\"php\"] }"
   ]
  },
  {
   "cell_type": "code",
   "execution_count": 2,
   "id": "839a0aa7-db55-4fb3-bd6b-4eb47f8eace7",
   "metadata": {},
   "outputs": [
    {
     "data": {
      "text/plain": [
       "{'company': 'cloudus',\n",
       " 'tech': ['flutter', 'Android', 'IOS', 'Back end', 'php']}"
      ]
     },
     "execution_count": 2,
     "metadata": {},
     "output_type": "execute_result"
    }
   ],
   "source": [
    "d3"
   ]
  },
  {
   "cell_type": "code",
   "execution_count": 5,
   "id": "11fb1c47-f905-4983-9f75-dbf1ed816a23",
   "metadata": {},
   "outputs": [
    {
     "data": {
      "text/plain": [
       "'Back end'"
      ]
     },
     "execution_count": 5,
     "metadata": {},
     "output_type": "execute_result"
    }
   ],
   "source": [
    "d3['tech'][3]"
   ]
  },
  {
   "cell_type": "code",
   "execution_count": 8,
   "id": "79f716fc-a4ce-472c-865e-0f1ffa1e20b6",
   "metadata": {},
   "outputs": [],
   "source": [
    "d4 = {'number' : [23,54,13,54,34,64,24],\"Assignment\" : (1,2,3,4,5,6),\"date\" : {22,25,26,}, \"class_time\":{\"flutter\" : 4, \"backend\" : 5, \"android\" : 6}}"
   ]
  },
  {
   "cell_type": "code",
   "execution_count": 9,
   "id": "9c607506-e2ce-4f76-b865-70e960ec5106",
   "metadata": {},
   "outputs": [
    {
     "data": {
      "text/plain": [
       "{'number': [23, 54, 13, 54, 34, 64, 24],\n",
       " 'Assignment': (1, 2, 3, 4, 5, 6),\n",
       " 'date': {22, 25, 26},\n",
       " 'class_time': {'flutter': 4, 'backend': 5, 'android': 6}}"
      ]
     },
     "execution_count": 9,
     "metadata": {},
     "output_type": "execute_result"
    }
   ],
   "source": [
    "d4"
   ]
  },
  {
   "cell_type": "code",
   "execution_count": 11,
   "id": "848ba893-59e5-458a-840a-82aa828c8184",
   "metadata": {},
   "outputs": [
    {
     "data": {
      "text/plain": [
       "6"
      ]
     },
     "execution_count": 11,
     "metadata": {},
     "output_type": "execute_result"
    }
   ],
   "source": [
    "d4['class_time']['android']"
   ]
  },
  {
   "cell_type": "code",
   "execution_count": 12,
   "id": "a5c38852-e7ce-4540-9e7a-744abde42228",
   "metadata": {},
   "outputs": [],
   "source": [
    "d4['developer'] = ['amit','kishan','hardik','gaurang'] "
   ]
  },
  {
   "cell_type": "code",
   "execution_count": 13,
   "id": "cf9c11a7-a417-4b4e-9777-323ae820465c",
   "metadata": {},
   "outputs": [
    {
     "data": {
      "text/plain": [
       "{'number': [23, 54, 13, 54, 34, 64, 24],\n",
       " 'Assignment': (1, 2, 3, 4, 5, 6),\n",
       " 'date': {22, 25, 26},\n",
       " 'class_time': {'flutter': 4, 'backend': 5, 'android': 6},\n",
       " 'developer': ['amit', 'kishan', 'hardik', 'gaurang']}"
      ]
     },
     "execution_count": 13,
     "metadata": {},
     "output_type": "execute_result"
    }
   ],
   "source": [
    "d4"
   ]
  },
  {
   "cell_type": "code",
   "execution_count": 14,
   "id": "3c57ffbb-6b12-4331-a2eb-284475c37eea",
   "metadata": {},
   "outputs": [],
   "source": [
    "del d4['number']"
   ]
  },
  {
   "cell_type": "code",
   "execution_count": 15,
   "id": "58aebaa8-fda9-4f78-9057-1367c7a8f5d2",
   "metadata": {},
   "outputs": [
    {
     "data": {
      "text/plain": [
       "{'Assignment': (1, 2, 3, 4, 5, 6),\n",
       " 'date': {22, 25, 26},\n",
       " 'class_time': {'flutter': 4, 'backend': 5, 'android': 6},\n",
       " 'developer': ['amit', 'kishan', 'hardik', 'gaurang']}"
      ]
     },
     "execution_count": 15,
     "metadata": {},
     "output_type": "execute_result"
    }
   ],
   "source": [
    "d4"
   ]
  },
  {
   "cell_type": "code",
   "execution_count": 19,
   "id": "19d554b2-7e7a-497d-af4c-b46f4ad5cf3b",
   "metadata": {},
   "outputs": [
    {
     "data": {
      "text/plain": [
       "dict_values([(1, 2, 3, 4, 5, 6), {25, 26, 22}, {'flutter': 4, 'backend': 5, 'android': 6}, ['amit', 'kishan', 'hardik', 'gaurang']])"
      ]
     },
     "execution_count": 19,
     "metadata": {},
     "output_type": "execute_result"
    }
   ],
   "source": [
    "d4.values()"
   ]
  },
  {
   "cell_type": "code",
   "execution_count": 20,
   "id": "0a63bd53-fb68-4e50-bc43-cece6d607e9f",
   "metadata": {},
   "outputs": [
    {
     "data": {
      "text/plain": [
       "dict_items([('Assignment', (1, 2, 3, 4, 5, 6)), ('date', {25, 26, 22}), ('class_time', {'flutter': 4, 'backend': 5, 'android': 6}), ('developer', ['amit', 'kishan', 'hardik', 'gaurang'])])"
      ]
     },
     "execution_count": 20,
     "metadata": {},
     "output_type": "execute_result"
    }
   ],
   "source": [
    "d4.items()"
   ]
  },
  {
   "cell_type": "code",
   "execution_count": 21,
   "id": "06368582-b23b-4c50-a370-fdb8a8cc1fa1",
   "metadata": {},
   "outputs": [
    {
     "data": {
      "text/plain": [
       "[('Assignment', (1, 2, 3, 4, 5, 6)),\n",
       " ('date', {22, 25, 26}),\n",
       " ('class_time', {'flutter': 4, 'backend': 5, 'android': 6}),\n",
       " ('developer', ['amit', 'kishan', 'hardik', 'gaurang'])]"
      ]
     },
     "execution_count": 21,
     "metadata": {},
     "output_type": "execute_result"
    }
   ],
   "source": [
    "list(d4.items())"
   ]
  },
  {
   "cell_type": "code",
   "execution_count": 22,
   "id": "504d5bf7-49c1-4306-9372-19ea5d848bcd",
   "metadata": {},
   "outputs": [
    {
     "data": {
      "text/plain": [
       "(1, 2, 3, 4, 5, 6)"
      ]
     },
     "execution_count": 22,
     "metadata": {},
     "output_type": "execute_result"
    }
   ],
   "source": [
    "d4.pop('Assignment')"
   ]
  },
  {
   "cell_type": "code",
   "execution_count": 23,
   "id": "e57c7447-dd16-4171-9dd0-31d2ff8cf03d",
   "metadata": {},
   "outputs": [
    {
     "data": {
      "text/plain": [
       "{'date': {22, 25, 26},\n",
       " 'class_time': {'flutter': 4, 'backend': 5, 'android': 6},\n",
       " 'developer': ['amit', 'kishan', 'hardik', 'gaurang']}"
      ]
     },
     "execution_count": 23,
     "metadata": {},
     "output_type": "execute_result"
    }
   ],
   "source": [
    "d4"
   ]
  },
  {
   "cell_type": "code",
   "execution_count": null,
   "id": "86d45a83-4f50-4d56-aca8-44635743cf72",
   "metadata": {},
   "outputs": [],
   "source": []
  }
 ],
 "metadata": {
  "kernelspec": {
   "display_name": "Python 3 (ipykernel)",
   "language": "python",
   "name": "python3"
  },
  "language_info": {
   "codemirror_mode": {
    "name": "ipython",
    "version": 3
   },
   "file_extension": ".py",
   "mimetype": "text/x-python",
   "name": "python",
   "nbconvert_exporter": "python",
   "pygments_lexer": "ipython3",
   "version": "3.10.8"
  }
 },
 "nbformat": 4,
 "nbformat_minor": 5
}
