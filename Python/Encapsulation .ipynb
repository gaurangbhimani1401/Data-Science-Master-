{
 "cells": [
  {
   "cell_type": "code",
   "execution_count": 1,
   "id": "268a1bbb-c404-408c-8683-f5e34efdccb1",
   "metadata": {},
   "outputs": [],
   "source": [
    "class test:\n",
    "    def __init__(self, a, b):\n",
    "        self.a = a\n",
    "        self.b = b"
   ]
  },
  {
   "cell_type": "code",
   "execution_count": 2,
   "id": "f01f4dcb-93f3-4308-bc89-b16f881c8c5e",
   "metadata": {},
   "outputs": [],
   "source": [
    "t = test(12,143)"
   ]
  },
  {
   "cell_type": "code",
   "execution_count": 4,
   "id": "da909073-24ac-43e5-b7d1-13611d308c0f",
   "metadata": {},
   "outputs": [
    {
     "data": {
      "text/plain": [
       "12"
      ]
     },
     "execution_count": 4,
     "metadata": {},
     "output_type": "execute_result"
    }
   ],
   "source": [
    "t.a"
   ]
  },
  {
   "cell_type": "code",
   "execution_count": 5,
   "id": "d7164953-25b6-4ae5-b308-2a14b6e7c2bb",
   "metadata": {},
   "outputs": [],
   "source": [
    "t.a = 123"
   ]
  },
  {
   "cell_type": "code",
   "execution_count": 6,
   "id": "f5faf0bb-a317-4fa5-830d-48c8c1b31e7e",
   "metadata": {},
   "outputs": [
    {
     "data": {
      "text/plain": [
       "123"
      ]
     },
     "execution_count": 6,
     "metadata": {},
     "output_type": "execute_result"
    }
   ],
   "source": [
    "t.a"
   ]
  },
  {
   "cell_type": "code",
   "execution_count": 18,
   "id": "a517d95c-8211-4db3-b967-92b883b40565",
   "metadata": {},
   "outputs": [],
   "source": [
    "class car:\n",
    "    def __init__(self, year, make, model, speed):\n",
    "        self.__year = year\n",
    "        self.__make = make\n",
    "        self.__model = model\n",
    "        self.__speed = 0\n",
    "        \n",
    "    def set_speed(self,speed):\n",
    "        self.__speed = 0 if speed < 0 else speed\n",
    "        \n",
    "    def get_speed(self):\n",
    "        return self.__speed"
   ]
  },
  {
   "cell_type": "code",
   "execution_count": 19,
   "id": "e6aac739-3e69-44d3-adac-98949cc2c6d5",
   "metadata": {},
   "outputs": [],
   "source": [
    "c = car(2021, \"toyota\",\"inova\",120)"
   ]
  },
  {
   "cell_type": "code",
   "execution_count": 13,
   "id": "fe2e9ee0-b097-422d-b13f-d0ed421e0b8c",
   "metadata": {},
   "outputs": [
    {
     "ename": "AttributeError",
     "evalue": "'car' object has no attribute 'year'",
     "output_type": "error",
     "traceback": [
      "\u001b[0;31m---------------------------------------------------------------------------\u001b[0m",
      "\u001b[0;31mAttributeError\u001b[0m                            Traceback (most recent call last)",
      "Cell \u001b[0;32mIn[13], line 1\u001b[0m\n\u001b[0;32m----> 1\u001b[0m \u001b[43mc\u001b[49m\u001b[38;5;241;43m.\u001b[39;49m\u001b[43myear\u001b[49m\n",
      "\u001b[0;31mAttributeError\u001b[0m: 'car' object has no attribute 'year'"
     ]
    }
   ],
   "source": [
    "c.year"
   ]
  },
  {
   "cell_type": "code",
   "execution_count": 14,
   "id": "d952ae40-78be-4989-807c-7fc246b7bb79",
   "metadata": {},
   "outputs": [
    {
     "ename": "AttributeError",
     "evalue": "'car' object has no attribute '__year'",
     "output_type": "error",
     "traceback": [
      "\u001b[0;31m---------------------------------------------------------------------------\u001b[0m",
      "\u001b[0;31mAttributeError\u001b[0m                            Traceback (most recent call last)",
      "Cell \u001b[0;32mIn[14], line 1\u001b[0m\n\u001b[0;32m----> 1\u001b[0m \u001b[43mc\u001b[49m\u001b[38;5;241;43m.\u001b[39;49m\u001b[43m__year\u001b[49m\n",
      "\u001b[0;31mAttributeError\u001b[0m: 'car' object has no attribute '__year'"
     ]
    }
   ],
   "source": [
    "c.__year"
   ]
  },
  {
   "cell_type": "code",
   "execution_count": 16,
   "id": "7293dcb7-447c-4d3f-8ec6-488f24317dbf",
   "metadata": {},
   "outputs": [
    {
     "data": {
      "text/plain": [
       "2021"
      ]
     },
     "execution_count": 16,
     "metadata": {},
     "output_type": "execute_result"
    }
   ],
   "source": [
    "c._car__year"
   ]
  },
  {
   "cell_type": "code",
   "execution_count": 20,
   "id": "3197f757-517b-4896-9f22-6c62f4ec6b7b",
   "metadata": {},
   "outputs": [],
   "source": [
    "c.set_speed(-130)"
   ]
  },
  {
   "cell_type": "code",
   "execution_count": 21,
   "id": "f444a2cf-72a8-4124-93f6-531756d57740",
   "metadata": {},
   "outputs": [
    {
     "data": {
      "text/plain": [
       "0"
      ]
     },
     "execution_count": 21,
     "metadata": {},
     "output_type": "execute_result"
    }
   ],
   "source": [
    "c.get_speed()"
   ]
  },
  {
   "cell_type": "code",
   "execution_count": 22,
   "id": "3f12e05d-d9a1-4985-8457-a45114c1734c",
   "metadata": {},
   "outputs": [],
   "source": [
    "c.set_speed(120)"
   ]
  },
  {
   "cell_type": "code",
   "execution_count": 24,
   "id": "44f6fcc8-c910-4319-990c-8bcc6d4adf0e",
   "metadata": {},
   "outputs": [
    {
     "data": {
      "text/plain": [
       "120"
      ]
     },
     "execution_count": 24,
     "metadata": {},
     "output_type": "execute_result"
    }
   ],
   "source": [
    "c.get_speed()"
   ]
  },
  {
   "cell_type": "code",
   "execution_count": 29,
   "id": "47bfa728-6670-4e39-bcc5-6c17aa49219e",
   "metadata": {},
   "outputs": [],
   "source": [
    "class bank_account:\n",
    "    def __init__(self, balance):\n",
    "        self.__balance = balance\n",
    "        \n",
    "    def deposit(self, amount):\n",
    "        self.__balance = self.__balance + amount\n",
    "        \n",
    "    def withdraw(self, amount):\n",
    "        if self.__balance >= amount:\n",
    "            self.__balance = self.__balance - amount\n",
    "            return True\n",
    "        else:\n",
    "            return False\n",
    "        \n",
    "    def get_balance(self):\n",
    "        return self.__balance"
   ]
  },
  {
   "cell_type": "code",
   "execution_count": 30,
   "id": "662ce269-65ff-44e7-8a0a-10b821c71b2f",
   "metadata": {},
   "outputs": [],
   "source": [
    "Gaurang = bank_account(1000000)"
   ]
  },
  {
   "cell_type": "code",
   "execution_count": 31,
   "id": "2205ba41-34fc-4c40-894f-32ec8de2e768",
   "metadata": {},
   "outputs": [
    {
     "data": {
      "text/plain": [
       "1000000"
      ]
     },
     "execution_count": 31,
     "metadata": {},
     "output_type": "execute_result"
    }
   ],
   "source": [
    "Gaurang.get_balance()"
   ]
  },
  {
   "cell_type": "code",
   "execution_count": 32,
   "id": "33bebaad-963d-413a-85e1-3fa4d3423ff4",
   "metadata": {},
   "outputs": [],
   "source": [
    "Gaurang.deposit(50000)"
   ]
  },
  {
   "cell_type": "code",
   "execution_count": 33,
   "id": "a8233e45-d18f-40a7-a8f2-babe447ca0ab",
   "metadata": {},
   "outputs": [
    {
     "data": {
      "text/plain": [
       "1050000"
      ]
     },
     "execution_count": 33,
     "metadata": {},
     "output_type": "execute_result"
    }
   ],
   "source": [
    "Gaurang.get_balance()"
   ]
  },
  {
   "cell_type": "code",
   "execution_count": 34,
   "id": "0692e509-ff3c-4497-b7aa-637f3c9ec8c3",
   "metadata": {},
   "outputs": [
    {
     "data": {
      "text/plain": [
       "True"
      ]
     },
     "execution_count": 34,
     "metadata": {},
     "output_type": "execute_result"
    }
   ],
   "source": [
    "Gaurang.withdraw(150000)"
   ]
  },
  {
   "cell_type": "code",
   "execution_count": 35,
   "id": "131c70c6-21df-4e75-af64-1d76882ec45e",
   "metadata": {},
   "outputs": [
    {
     "data": {
      "text/plain": [
       "900000"
      ]
     },
     "execution_count": 35,
     "metadata": {},
     "output_type": "execute_result"
    }
   ],
   "source": [
    "Gaurang.get_balance()"
   ]
  },
  {
   "cell_type": "code",
   "execution_count": 36,
   "id": "ac773936-059e-42ee-b77f-3cc040d5194c",
   "metadata": {},
   "outputs": [
    {
     "data": {
      "text/plain": [
       "False"
      ]
     },
     "execution_count": 36,
     "metadata": {},
     "output_type": "execute_result"
    }
   ],
   "source": [
    "Gaurang.withdraw(1000000)"
   ]
  },
  {
   "cell_type": "code",
   "execution_count": 37,
   "id": "ea1430f0-27e7-48a2-b135-1c2a7e652958",
   "metadata": {},
   "outputs": [
    {
     "data": {
      "text/plain": [
       "900000"
      ]
     },
     "execution_count": 37,
     "metadata": {},
     "output_type": "execute_result"
    }
   ],
   "source": [
    "Gaurang.get_balance()"
   ]
  },
  {
   "cell_type": "code",
   "execution_count": null,
   "id": "c98d0de4-4229-4741-a7b2-ea3420115c51",
   "metadata": {},
   "outputs": [],
   "source": []
  }
 ],
 "metadata": {
  "kernelspec": {
   "display_name": "Python 3 (ipykernel)",
   "language": "python",
   "name": "python3"
  },
  "language_info": {
   "codemirror_mode": {
    "name": "ipython",
    "version": 3
   },
   "file_extension": ".py",
   "mimetype": "text/x-python",
   "name": "python",
   "nbconvert_exporter": "python",
   "pygments_lexer": "ipython3",
   "version": "3.10.8"
  }
 },
 "nbformat": 4,
 "nbformat_minor": 5
}
