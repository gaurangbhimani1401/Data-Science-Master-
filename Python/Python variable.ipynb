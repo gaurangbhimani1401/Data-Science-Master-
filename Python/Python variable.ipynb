{
 "cells": [
  {
   "cell_type": "code",
   "execution_count": 1,
   "id": "3ac4c130-c9d4-4b64-a700-8e63bbeec0b5",
   "metadata": {},
   "outputs": [],
   "source": [
    "aa = 1"
   ]
  },
  {
   "cell_type": "code",
   "execution_count": 2,
   "id": "6d0ccbb7-6c5c-458c-9d9b-1edc6ff5219b",
   "metadata": {},
   "outputs": [
    {
     "data": {
      "text/plain": [
       "1"
      ]
     },
     "execution_count": 2,
     "metadata": {},
     "output_type": "execute_result"
    }
   ],
   "source": [
    "a"
   ]
  },
  {
   "cell_type": "code",
   "execution_count": 3,
   "id": "7483f6ec-e13f-4b5f-9240-8cb697bc70f8",
   "metadata": {},
   "outputs": [
    {
     "data": {
      "text/plain": [
       "int"
      ]
     },
     "execution_count": 3,
     "metadata": {},
     "output_type": "execute_result"
    }
   ],
   "source": [
    "type(a)"
   ]
  },
  {
   "cell_type": "code",
   "execution_count": 4,
   "id": "3b689f23-3ba7-4375-84c9-46ff0265ba08",
   "metadata": {},
   "outputs": [],
   "source": [
    "b = \"gaurang\""
   ]
  },
  {
   "cell_type": "code",
   "execution_count": 5,
   "id": "793de46b-b653-47eb-8889-92dd15ea006c",
   "metadata": {},
   "outputs": [
    {
     "data": {
      "text/plain": [
       "str"
      ]
     },
     "execution_count": 5,
     "metadata": {},
     "output_type": "execute_result"
    }
   ],
   "source": [
    "type(b)"
   ]
  },
  {
   "cell_type": "code",
   "execution_count": 6,
   "id": "a4896d83-0332-42f2-aad5-b293d271c2a1",
   "metadata": {},
   "outputs": [],
   "source": [
    "c = 8647.3541"
   ]
  },
  {
   "cell_type": "code",
   "execution_count": 7,
   "id": "ea32089b-8d56-41ef-b8a1-4d76f4149a83",
   "metadata": {},
   "outputs": [
    {
     "data": {
      "text/plain": [
       "float"
      ]
     },
     "execution_count": 7,
     "metadata": {},
     "output_type": "execute_result"
    }
   ],
   "source": [
    "type(c)"
   ]
  },
  {
   "cell_type": "code",
   "execution_count": 8,
   "id": "638d94f5-632f-4c82-a610-883fa7cbe887",
   "metadata": {},
   "outputs": [],
   "source": [
    "d = True"
   ]
  },
  {
   "cell_type": "code",
   "execution_count": 9,
   "id": "015ab828-b8b8-4d23-b5ec-7f8043c38548",
   "metadata": {},
   "outputs": [
    {
     "data": {
      "text/plain": [
       "bool"
      ]
     },
     "execution_count": 9,
     "metadata": {},
     "output_type": "execute_result"
    }
   ],
   "source": [
    "type(d)"
   ]
  },
  {
   "cell_type": "code",
   "execution_count": 10,
   "id": "7f61fe56-4223-410f-a420-a9a5ebd7c87c",
   "metadata": {},
   "outputs": [],
   "source": [
    "e = False"
   ]
  },
  {
   "cell_type": "code",
   "execution_count": 11,
   "id": "fa47eb7f-8079-42de-b2f5-d6e5509a02fa",
   "metadata": {},
   "outputs": [
    {
     "data": {
      "text/plain": [
       "bool"
      ]
     },
     "execution_count": 11,
     "metadata": {},
     "output_type": "execute_result"
    }
   ],
   "source": [
    "type(e)"
   ]
  },
  {
   "cell_type": "code",
   "execution_count": 12,
   "id": "ace54055-68d7-4b4e-be0e-fed850b99925",
   "metadata": {},
   "outputs": [
    {
     "data": {
      "text/plain": [
       "1"
      ]
     },
     "execution_count": 12,
     "metadata": {},
     "output_type": "execute_result"
    }
   ],
   "source": [
    "True - False"
   ]
  },
  {
   "cell_type": "code",
   "execution_count": 13,
   "id": "0758326b-ca6b-4166-83df-2536b91b0719",
   "metadata": {},
   "outputs": [
    {
     "data": {
      "text/plain": [
       "0"
      ]
     },
     "execution_count": 13,
     "metadata": {},
     "output_type": "execute_result"
    }
   ],
   "source": [
    "True * False"
   ]
  },
  {
   "cell_type": "code",
   "execution_count": 17,
   "id": "b3b6379a-c07d-4890-8a2f-2824ed12a4dc",
   "metadata": {},
   "outputs": [],
   "source": [
    "f = 30+ 4j"
   ]
  },
  {
   "cell_type": "code",
   "execution_count": 18,
   "id": "8a53b8e5-076f-46c5-aeb5-968d6cb4c74a",
   "metadata": {},
   "outputs": [
    {
     "data": {
      "text/plain": [
       "complex"
      ]
     },
     "execution_count": 18,
     "metadata": {},
     "output_type": "execute_result"
    }
   ],
   "source": [
    "type(f)"
   ]
  },
  {
   "cell_type": "code",
   "execution_count": 21,
   "id": "77838ed8-3e82-486b-a323-336cb66badb4",
   "metadata": {},
   "outputs": [
    {
     "data": {
      "text/plain": [
       "30.0"
      ]
     },
     "execution_count": 21,
     "metadata": {},
     "output_type": "execute_result"
    }
   ],
   "source": [
    "f.real"
   ]
  },
  {
   "cell_type": "code",
   "execution_count": 22,
   "id": "50c5ea4c-9277-415f-8d4a-ecf03c59f6e4",
   "metadata": {},
   "outputs": [
    {
     "data": {
      "text/plain": [
       "4.0"
      ]
     },
     "execution_count": 22,
     "metadata": {},
     "output_type": "execute_result"
    }
   ],
   "source": [
    "f.imag"
   ]
  },
  {
   "cell_type": "code",
   "execution_count": 1,
   "id": "5f078f88-d87a-4ada-aeab-3011a6cd48f5",
   "metadata": {},
   "outputs": [],
   "source": [
    "str1 = \"Hello\"\n",
    "str2 = \"Gaurang\""
   ]
  },
  {
   "cell_type": "code",
   "execution_count": 2,
   "id": "c9312404-9902-44fa-ad5a-dda1b059d4be",
   "metadata": {},
   "outputs": [],
   "source": [
    "final_string = str1 +\",\" +str2+\"!\""
   ]
  },
  {
   "cell_type": "code",
   "execution_count": 3,
   "id": "f7c7d693-fb95-4892-a5c3-779fd49c03c1",
   "metadata": {},
   "outputs": [
    {
     "data": {
      "text/plain": [
       "'Hello,Gaurang!'"
      ]
     },
     "execution_count": 3,
     "metadata": {},
     "output_type": "execute_result"
    }
   ],
   "source": [
    "final_string"
   ]
  },
  {
   "cell_type": "code",
   "execution_count": 4,
   "id": "261b0b25-6885-4469-bc14-7e3e1daf3bf0",
   "metadata": {},
   "outputs": [
    {
     "data": {
      "text/plain": [
       "14"
      ]
     },
     "execution_count": 4,
     "metadata": {},
     "output_type": "execute_result"
    }
   ],
   "source": [
    "len(final_string)"
   ]
  },
  {
   "cell_type": "code",
   "execution_count": 5,
   "id": "ef3cc4c8-d81d-4b8d-a9f8-cae3bc4d97f6",
   "metadata": {},
   "outputs": [
    {
     "data": {
      "text/plain": [
       "'H'"
      ]
     },
     "execution_count": 5,
     "metadata": {},
     "output_type": "execute_result"
    }
   ],
   "source": [
    "#string slicing\n",
    "final_string[0]"
   ]
  },
  {
   "cell_type": "code",
   "execution_count": 6,
   "id": "d5e6f950-7915-4786-8e36-ef997e4ff871",
   "metadata": {},
   "outputs": [
    {
     "data": {
      "text/plain": [
       "'!'"
      ]
     },
     "execution_count": 6,
     "metadata": {},
     "output_type": "execute_result"
    }
   ],
   "source": [
    "final_string[-1]"
   ]
  },
  {
   "cell_type": "code",
   "execution_count": 7,
   "id": "c682a702-9ac1-47cc-b9c0-f9a317242e20",
   "metadata": {},
   "outputs": [
    {
     "data": {
      "text/plain": [
       "'Hello,Gaurang!'"
      ]
     },
     "execution_count": 7,
     "metadata": {},
     "output_type": "execute_result"
    }
   ],
   "source": [
    "final_string[0::]"
   ]
  },
  {
   "cell_type": "code",
   "execution_count": 8,
   "id": "e6be6cd6-2bcf-481c-a025-6bb3d4c401a9",
   "metadata": {},
   "outputs": [
    {
     "data": {
      "text/plain": [
       "'Hello'"
      ]
     },
     "execution_count": 8,
     "metadata": {},
     "output_type": "execute_result"
    }
   ],
   "source": [
    "final_string[0:5]"
   ]
  },
  {
   "cell_type": "code",
   "execution_count": 9,
   "id": "7e5953a7-08e5-42b3-9359-64ac9db06baa",
   "metadata": {},
   "outputs": [
    {
     "data": {
      "text/plain": [
       "[1, 2, 3, 4, 5]"
      ]
     },
     "execution_count": 9,
     "metadata": {},
     "output_type": "execute_result"
    }
   ],
   "source": [
    "list(range(1,6))"
   ]
  },
  {
   "cell_type": "code",
   "execution_count": 10,
   "id": "7ee3fbc2-564f-4ea2-b5f1-3c08e27b0e72",
   "metadata": {},
   "outputs": [
    {
     "data": {
      "text/plain": [
       "'HloGuag'"
      ]
     },
     "execution_count": 10,
     "metadata": {},
     "output_type": "execute_result"
    }
   ],
   "source": [
    "final_string[0::2]"
   ]
  },
  {
   "cell_type": "code",
   "execution_count": 11,
   "id": "0d181582-0a7a-42c9-b399-cbc7f8ee4523",
   "metadata": {},
   "outputs": [
    {
     "data": {
      "text/plain": [
       "False"
      ]
     },
     "execution_count": 11,
     "metadata": {},
     "output_type": "execute_result"
    }
   ],
   "source": [
    "final_string.isupper()"
   ]
  },
  {
   "cell_type": "code",
   "execution_count": 12,
   "id": "67a83f68-bd6e-4dc1-908f-1afac90cd391",
   "metadata": {},
   "outputs": [
    {
     "data": {
      "text/plain": [
       "False"
      ]
     },
     "execution_count": 12,
     "metadata": {},
     "output_type": "execute_result"
    }
   ],
   "source": [
    "final_string.islower()"
   ]
  },
  {
   "cell_type": "code",
   "execution_count": 13,
   "id": "723f7059-7664-4e98-84e0-c6745718b2cc",
   "metadata": {},
   "outputs": [
    {
     "data": {
      "text/plain": [
       "False"
      ]
     },
     "execution_count": 13,
     "metadata": {},
     "output_type": "execute_result"
    }
   ],
   "source": [
    "final_string.islower()"
   ]
  },
  {
   "cell_type": "code",
   "execution_count": 15,
   "id": "a7276d53-26f5-465f-8da4-2e1364767714",
   "metadata": {},
   "outputs": [
    {
     "data": {
      "text/plain": [
       "'HELLO,GAURANG!'"
      ]
     },
     "execution_count": 15,
     "metadata": {},
     "output_type": "execute_result"
    }
   ],
   "source": [
    "final_string.upper()"
   ]
  },
  {
   "cell_type": "code",
   "execution_count": 16,
   "id": "d45bd4b0-2f30-4cad-a8a3-51f987a8e8f8",
   "metadata": {},
   "outputs": [],
   "source": [
    "y = final_string.lower()"
   ]
  },
  {
   "cell_type": "code",
   "execution_count": 17,
   "id": "0202b1ed-3c8c-4e41-8982-58833b49009c",
   "metadata": {},
   "outputs": [
    {
     "data": {
      "text/plain": [
       "'hello,gaurang!'"
      ]
     },
     "execution_count": 17,
     "metadata": {},
     "output_type": "execute_result"
    }
   ],
   "source": [
    "y"
   ]
  },
  {
   "cell_type": "code",
   "execution_count": 18,
   "id": "c7752dc7-209d-4243-98ea-a7a57af943c3",
   "metadata": {},
   "outputs": [
    {
     "data": {
      "text/plain": [
       "False"
      ]
     },
     "execution_count": 18,
     "metadata": {},
     "output_type": "execute_result"
    }
   ],
   "source": [
    "y.isupper()"
   ]
  },
  {
   "cell_type": "code",
   "execution_count": 19,
   "id": "cc156c20-a765-4a04-9c36-ac06f3f81be7",
   "metadata": {},
   "outputs": [
    {
     "data": {
      "text/plain": [
       "'Hello,Gaurang!'"
      ]
     },
     "execution_count": 19,
     "metadata": {},
     "output_type": "execute_result"
    }
   ],
   "source": [
    "y.title()"
   ]
  },
  {
   "cell_type": "code",
   "execution_count": 20,
   "id": "3024d0f6-6ba4-4ec8-a9f8-763cae2a0bbc",
   "metadata": {},
   "outputs": [
    {
     "data": {
      "text/plain": [
       "'Hello,gaurang!'"
      ]
     },
     "execution_count": 20,
     "metadata": {},
     "output_type": "execute_result"
    }
   ],
   "source": [
    "y.capitalize()"
   ]
  },
  {
   "cell_type": "code",
   "execution_count": 21,
   "id": "29cfbcaa-c3ff-438c-a7f2-192c3bdbfbdd",
   "metadata": {},
   "outputs": [
    {
     "data": {
      "text/plain": [
       "'Hello,Gaurang!'"
      ]
     },
     "execution_count": 21,
     "metadata": {},
     "output_type": "execute_result"
    }
   ],
   "source": [
    "final_string"
   ]
  },
  {
   "cell_type": "code",
   "execution_count": 22,
   "id": "c5852c44-feaf-4a7d-b679-651fb0aab607",
   "metadata": {},
   "outputs": [
    {
     "data": {
      "text/plain": [
       "'Hey,Gaurang!'"
      ]
     },
     "execution_count": 22,
     "metadata": {},
     "output_type": "execute_result"
    }
   ],
   "source": [
    "final_string.replace('Hello','Hey')"
   ]
  },
  {
   "cell_type": "code",
   "execution_count": 23,
   "id": "3ab1b3a0-5be2-4146-be16-c9a01023b1bc",
   "metadata": {},
   "outputs": [],
   "source": [
    "final_string = '    Hey,Gaurang!    '#leading means above space and lading means below space"
   ]
  },
  {
   "cell_type": "code",
   "execution_count": 24,
   "id": "f3e5208b-c00d-4dbc-b2c9-23fc2a10584e",
   "metadata": {},
   "outputs": [
    {
     "data": {
      "text/plain": [
       "'    Hey,Gaurang!    '"
      ]
     },
     "execution_count": 24,
     "metadata": {},
     "output_type": "execute_result"
    }
   ],
   "source": [
    "final_string"
   ]
  },
  {
   "cell_type": "code",
   "execution_count": 25,
   "id": "c67ad6ea-5364-4a05-90f7-488c9d7df862",
   "metadata": {},
   "outputs": [
    {
     "data": {
      "text/plain": [
       "'Hey,Gaurang!'"
      ]
     },
     "execution_count": 25,
     "metadata": {},
     "output_type": "execute_result"
    }
   ],
   "source": [
    "final_string.strip()"
   ]
  },
  {
   "cell_type": "code",
   "execution_count": 26,
   "id": "bf1ff53a-aae1-4fd0-85bb-c57531da3f1a",
   "metadata": {},
   "outputs": [],
   "source": [
    "new_string = 'this is to learn the data science.'"
   ]
  },
  {
   "cell_type": "code",
   "execution_count": 27,
   "id": "369c8854-f21a-4e0a-8990-b638cedb4828",
   "metadata": {},
   "outputs": [
    {
     "data": {
      "text/plain": [
       "'this is to learn the data science.'"
      ]
     },
     "execution_count": 27,
     "metadata": {},
     "output_type": "execute_result"
    }
   ],
   "source": [
    "new_string"
   ]
  },
  {
   "cell_type": "code",
   "execution_count": 28,
   "id": "309388c8-00ad-40e0-a497-917f9d4dabc1",
   "metadata": {},
   "outputs": [],
   "source": [
    "stri = new_string.split()"
   ]
  },
  {
   "cell_type": "code",
   "execution_count": 29,
   "id": "3fff507a-4707-4e8d-ad4e-a3ea5c0bd45e",
   "metadata": {},
   "outputs": [
    {
     "data": {
      "text/plain": [
       "['this', 'is', 'to', 'learn', 'the', 'data', 'science.']"
      ]
     },
     "execution_count": 29,
     "metadata": {},
     "output_type": "execute_result"
    }
   ],
   "source": [
    "stri"
   ]
  },
  {
   "cell_type": "code",
   "execution_count": 30,
   "id": "1d639493-2791-420d-a3a4-69ad3105c553",
   "metadata": {},
   "outputs": [
    {
     "data": {
      "text/plain": [
       "'thisistolearnthedatascience.'"
      ]
     },
     "execution_count": 30,
     "metadata": {},
     "output_type": "execute_result"
    }
   ],
   "source": [
    "''.join(stri)"
   ]
  },
  {
   "cell_type": "code",
   "execution_count": 31,
   "id": "7c070716-e2ed-4ca6-b3c0-8f2cf797ff4a",
   "metadata": {},
   "outputs": [
    {
     "data": {
      "text/plain": [
       "'this is to learn the data science.'"
      ]
     },
     "execution_count": 31,
     "metadata": {},
     "output_type": "execute_result"
    }
   ],
   "source": [
    "' '.join(stri)"
   ]
  },
  {
   "cell_type": "code",
   "execution_count": 32,
   "id": "3828b3c4-e0d5-4d31-90a7-03b54c1ab983",
   "metadata": {},
   "outputs": [
    {
     "data": {
      "text/plain": [
       "'this*is*to*learn*the*data*science.'"
      ]
     },
     "execution_count": 32,
     "metadata": {},
     "output_type": "execute_result"
    }
   ],
   "source": [
    "'*'.join(stri)"
   ]
  },
  {
   "cell_type": "code",
   "execution_count": 33,
   "id": "9e36acd1-e46f-475b-b0ea-5512df9c8e1f",
   "metadata": {},
   "outputs": [],
   "source": [
    "#string formating\n",
    "\n",
    "name = 'jack'"
   ]
  },
  {
   "cell_type": "code",
   "execution_count": 34,
   "id": "a6da6bd4-45a5-48a6-8cd8-3f811131d047",
   "metadata": {},
   "outputs": [
    {
     "name": "stdout",
     "output_type": "stream",
     "text": [
      "hello,jack\n"
     ]
    }
   ],
   "source": [
    "print('hello,%s'%name)"
   ]
  },
  {
   "cell_type": "code",
   "execution_count": 35,
   "id": "f9191221-225c-44e2-a385-54b1ec8546dd",
   "metadata": {},
   "outputs": [
    {
     "name": "stdout",
     "output_type": "stream",
     "text": [
      "hellojack\n"
     ]
    }
   ],
   "source": [
    "print(f'hello{name}')"
   ]
  },
  {
   "cell_type": "code",
   "execution_count": 36,
   "id": "3eb49cce-c17f-4174-a9cd-bc1834c9a15f",
   "metadata": {},
   "outputs": [
    {
     "name": "stdout",
     "output_type": "stream",
     "text": [
      "hello, jack\n"
     ]
    }
   ],
   "source": [
    "print('hello, {}'.format(name))"
   ]
  },
  {
   "cell_type": "code",
   "execution_count": 37,
   "id": "37046fe3-1f52-4402-bd27-3750c1e05dde",
   "metadata": {},
   "outputs": [],
   "source": [
    "####analyse tweets\n"
   ]
  },
  {
   "cell_type": "code",
   "execution_count": 38,
   "id": "79f8950d-81fc-4cb0-ae72-e5e3e428741e",
   "metadata": {},
   "outputs": [],
   "source": [
    "tweets = {\"username\": \"user1\", \"timestamp\": \"2023-05-01 12:30\", \"likes\": 12, \"retweets\": 4, \"text\": \"I love this game!!! #GameBrand\"}\n",
    "    # {\"username\": \"user2\", \"timestamp\": \"2023-05-01 13:15\", \"likes\": 45, \"retweets\": 5, \"text\": \"I can't believe how bad this game is... #GameBrand #Disappointed\"},\n",
    "    # {\"username\": \"user3\", \"timestamp\": \"2023-05-01 13:47\", \"likes\": 23, \"retweets\": 2, \"text\": \"What a great game! #GameBrand #Fun\"},\n",
    "    # {\"username\": \"user4\", \"timestamp\": \"2023-05-01 14:05\", \"likes\": 78, \"retweets\": 7, \"text\": \"This game is too difficult. #GameBrand #Frustrated\"},\n",
    "    # {\"username\": \"user5\", \"timestamp\": \"2023-05-01 14:23\", \"likes\": 45, \"retweets\": 5, \"text\": \"I can't stop playing this game! #GameBrand #Addicted\"},\n",
    "    # {\"username\": \"user6\", \"timestamp\": \"2023-05-01 15:00\", \"likes\": 67, \"retweets\": 6, \"text\": \"The graphics in this game are amazing. #GameBrand #Impressed\"},\n",
    "    # {\"username\": \"user7\", \"timestamp\": \"2023-05-01 15:30\", \"likes\": 34, \"retweets\": 3, \"text\": \"I wish this game had better controls. #GameBrand #Frustrated\"},\n",
    "    # {\"username\": \"user8\", \"timestamp\": \"2023-05-01 16:00\", \"likes\": 23, \"retweets\": 2, \"text\": \"This game is a waste of money. #GameBrand #Disappointed\"},\n",
    "    # {\"username\": \"user9\", \"timestamp\": \"2023-05-01 16:45\", \"likes\": 56, \"retweets\": 5, \"text\": \"I can't wait for the sequel! #GameBrand #Excited\"},\n",
    "    # {\"username\": \"user10\", \"timestamp\": \"2023-05-01 17:00\", \"likes\": 78, \"retweets\": 7, \"text\": \"This game has too many bugs. #GameBrand #Frustrated\"}\n"
   ]
  },
  {
   "cell_type": "code",
   "execution_count": 39,
   "id": "4decf011-2029-4a7d-879d-6b45c4fa44a1",
   "metadata": {},
   "outputs": [],
   "source": [
    "#clean up the tweets"
   ]
  },
  {
   "cell_type": "code",
   "execution_count": 41,
   "id": "7fc6e19a-d915-49c9-adfc-33cb9da69ba0",
   "metadata": {},
   "outputs": [
    {
     "ename": "KeyError",
     "evalue": "0",
     "output_type": "error",
     "traceback": [
      "\u001b[0;31m---------------------------------------------------------------------------\u001b[0m",
      "\u001b[0;31mKeyError\u001b[0m                                  Traceback (most recent call last)",
      "Cell \u001b[0;32mIn[41], line 3\u001b[0m\n\u001b[1;32m      1\u001b[0m \u001b[38;5;28;01mfor\u001b[39;00m i \u001b[38;5;129;01min\u001b[39;00m \u001b[38;5;28mrange\u001b[39m(\u001b[38;5;28mlen\u001b[39m(tweets)):\n\u001b[1;32m      2\u001b[0m     \u001b[38;5;28;01mfor\u001b[39;00m tweet \u001b[38;5;129;01min\u001b[39;00m tweets:\n\u001b[0;32m----> 3\u001b[0m         text \u001b[38;5;241m=\u001b[39m \u001b[43mtweets\u001b[49m\u001b[43m[\u001b[49m\u001b[43mi\u001b[49m\u001b[43m]\u001b[49m[\u001b[38;5;124m'\u001b[39m\u001b[38;5;124mtext\u001b[39m\u001b[38;5;124m'\u001b[39m]\u001b[38;5;241m.\u001b[39mlower()\u001b[38;5;241m.\u001b[39mstrip()\n\u001b[1;32m      4\u001b[0m     tweet[\u001b[38;5;124m'\u001b[39m\u001b[38;5;124mtext\u001b[39m\u001b[38;5;124m'\u001b[39m] \u001b[38;5;241m=\u001b[39m text\n",
      "\u001b[0;31mKeyError\u001b[0m: 0"
     ]
    }
   ],
   "source": [
    "for i in range(len(tweets)):\n",
    "    for tweet in tweets:\n",
    "        text = tweets[i]['text'].lower().strip()\n",
    "    tweet['text'] = text"
   ]
  },
  {
   "cell_type": "code",
   "execution_count": null,
   "id": "84ffc4e7-2d25-4a62-b40a-9c1f9107d5ce",
   "metadata": {},
   "outputs": [],
   "source": [
    "text"
   ]
  },
  {
   "cell_type": "code",
   "execution_count": 42,
   "id": "c601388f-bc19-4a81-a2b6-606536bbb1e7",
   "metadata": {},
   "outputs": [
    {
     "ename": "AttributeError",
     "evalue": "'dict' object has no attribute 'split'",
     "output_type": "error",
     "traceback": [
      "\u001b[0;31m---------------------------------------------------------------------------\u001b[0m",
      "\u001b[0;31mAttributeError\u001b[0m                            Traceback (most recent call last)",
      "Cell \u001b[0;32mIn[42], line 1\u001b[0m\n\u001b[0;32m----> 1\u001b[0m [word \u001b[38;5;28;01mfor\u001b[39;00m word \u001b[38;5;129;01min\u001b[39;00m \u001b[43mtweets\u001b[49m\u001b[38;5;241;43m.\u001b[39;49m\u001b[43msplit\u001b[49m() \u001b[38;5;28;01mif\u001b[39;00m word\u001b[38;5;241m.\u001b[39mstartswith(\u001b[38;5;124m'\u001b[39m\u001b[38;5;124m#\u001b[39m\u001b[38;5;124m'\u001b[39m)]\n",
      "\u001b[0;31mAttributeError\u001b[0m: 'dict' object has no attribute 'split'"
     ]
    }
   ],
   "source": [
    "[word for word in tweets.split() if word.startswith('#')]"
   ]
  },
  {
   "cell_type": "code",
   "execution_count": 40,
   "id": "73c54c63-a90e-4f25-8ee8-7ce0746dcddc",
   "metadata": {},
   "outputs": [
    {
     "ename": "AttributeError",
     "evalue": "'dict' object has no attribute 'split'",
     "output_type": "error",
     "traceback": [
      "\u001b[0;31m---------------------------------------------------------------------------\u001b[0m",
      "\u001b[0;31mAttributeError\u001b[0m                            Traceback (most recent call last)",
      "Cell \u001b[0;32mIn[40], line 1\u001b[0m\n\u001b[0;32m----> 1\u001b[0m \u001b[38;5;28;01mfor\u001b[39;00m word \u001b[38;5;129;01min\u001b[39;00m \u001b[43mtweets\u001b[49m\u001b[38;5;241;43m.\u001b[39;49m\u001b[43msplit\u001b[49m():\n\u001b[1;32m      2\u001b[0m     \u001b[38;5;28;01mif\u001b[39;00m word\u001b[38;5;241m.\u001b[39mstartswith(\u001b[38;5;124m\"\u001b[39m\u001b[38;5;124m#\u001b[39m\u001b[38;5;124m\"\u001b[39m):\n\u001b[1;32m      3\u001b[0m         \u001b[38;5;28mprint\u001b[39m(word)\n",
      "\u001b[0;31mAttributeError\u001b[0m: 'dict' object has no attribute 'split'"
     ]
    }
   ],
   "source": [
    "for word in tweets.split():\n",
    "    if word.startswith(\"#\"):\n",
    "        print(word)"
   ]
  },
  {
   "cell_type": "code",
   "execution_count": null,
   "id": "0768522a-1140-4c48-bc66-2c485188cc72",
   "metadata": {},
   "outputs": [],
   "source": []
  }
 ],
 "metadata": {
  "kernelspec": {
   "display_name": "Python 3 (ipykernel)",
   "language": "python",
   "name": "python3"
  },
  "language_info": {
   "codemirror_mode": {
    "name": "ipython",
    "version": 3
   },
   "file_extension": ".py",
   "mimetype": "text/x-python",
   "name": "python",
   "nbconvert_exporter": "python",
   "pygments_lexer": "ipython3",
   "version": "3.10.8"
  }
 },
 "nbformat": 4,
 "nbformat_minor": 5
}
