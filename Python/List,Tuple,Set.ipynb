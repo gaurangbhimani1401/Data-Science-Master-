{
 "cells": [
  {
   "cell_type": "code",
   "execution_count": 1,
   "id": "5a1b41db-9efe-42b0-a2c0-4811218454e1",
   "metadata": {},
   "outputs": [],
   "source": [
    "l = [12,54,36,75,35,\"Hello\",\"World\",True,False]"
   ]
  },
  {
   "cell_type": "code",
   "execution_count": 4,
   "id": "078bf238-9f78-4916-a149-65a5aead62c2",
   "metadata": {},
   "outputs": [
    {
     "data": {
      "text/plain": [
       "list"
      ]
     },
     "execution_count": 4,
     "metadata": {},
     "output_type": "execute_result"
    }
   ],
   "source": [
    "type(l)"
   ]
  },
  {
   "cell_type": "code",
   "execution_count": 5,
   "id": "41021224-de13-4d7e-9bed-e0a55404125f",
   "metadata": {},
   "outputs": [
    {
     "data": {
      "text/plain": [
       "36"
      ]
     },
     "execution_count": 5,
     "metadata": {},
     "output_type": "execute_result"
    }
   ],
   "source": [
    "l[2]"
   ]
  },
  {
   "cell_type": "code",
   "execution_count": 6,
   "id": "9191a77e-1ec0-417b-b038-0d589698c5c6",
   "metadata": {},
   "outputs": [
    {
     "data": {
      "text/plain": [
       "[12, 54, 36]"
      ]
     },
     "execution_count": 6,
     "metadata": {},
     "output_type": "execute_result"
    }
   ],
   "source": [
    "l[0:3]"
   ]
  },
  {
   "cell_type": "code",
   "execution_count": 82,
   "id": "2ba4e9aa-9242-4ed2-87a8-c3017faeb6f0",
   "metadata": {},
   "outputs": [
    {
     "data": {
      "text/plain": [
       "[2,\n",
       " 1,\n",
       " [4, 4, 45, 'Gaurang', 2],\n",
       " 5,\n",
       " False,\n",
       " True,\n",
       " 'World',\n",
       " 'Hello',\n",
       " 35,\n",
       " 75,\n",
       " 36,\n",
       " 54,\n",
       " 12]"
      ]
     },
     "execution_count": 82,
     "metadata": {},
     "output_type": "execute_result"
    }
   ],
   "source": [
    "l[::-1]"
   ]
  },
  {
   "cell_type": "code",
   "execution_count": 8,
   "id": "cccbbe58-c151-4397-95da-f46203a626b7",
   "metadata": {},
   "outputs": [
    {
     "data": {
      "text/plain": [
       "[12, 36, 35, 'World', False]"
      ]
     },
     "execution_count": 8,
     "metadata": {},
     "output_type": "execute_result"
    }
   ],
   "source": [
    "l[0::2]"
   ]
  },
  {
   "cell_type": "code",
   "execution_count": 9,
   "id": "eb7453fa-bc94-4a3d-a898-bc22554eccef",
   "metadata": {},
   "outputs": [],
   "source": [
    "a = \"Gaurang\""
   ]
  },
  {
   "cell_type": "code",
   "execution_count": 10,
   "id": "0c2cb897-fb15-47b5-877d-f4de25ba283a",
   "metadata": {},
   "outputs": [
    {
     "data": {
      "text/plain": [
       "['G', 'a', 'u', 'r', 'a', 'n', 'g']"
      ]
     },
     "execution_count": 10,
     "metadata": {},
     "output_type": "execute_result"
    }
   ],
   "source": [
    "list(a)"
   ]
  },
  {
   "cell_type": "code",
   "execution_count": 11,
   "id": "6658a53c-8d6b-4905-bf63-87ffba113e98",
   "metadata": {},
   "outputs": [
    {
     "data": {
      "text/plain": [
       "[12, 54, 36, 75, 35, 'Hello', 'World', True, False]"
      ]
     },
     "execution_count": 11,
     "metadata": {},
     "output_type": "execute_result"
    }
   ],
   "source": [
    "l"
   ]
  },
  {
   "cell_type": "code",
   "execution_count": 13,
   "id": "91c45c76-ce6e-402f-9e68-0911e5edd398",
   "metadata": {},
   "outputs": [
    {
     "data": {
      "text/plain": [
       "'Hel'"
      ]
     },
     "execution_count": 13,
     "metadata": {},
     "output_type": "execute_result"
    }
   ],
   "source": [
    "l[5][0:3]"
   ]
  },
  {
   "cell_type": "code",
   "execution_count": 19,
   "id": "9e184080-272a-4668-ab5d-5e739acee47d",
   "metadata": {},
   "outputs": [
    {
     "data": {
      "text/plain": [
       "True"
      ]
     },
     "execution_count": 19,
     "metadata": {},
     "output_type": "execute_result"
    }
   ],
   "source": [
    "l[7]"
   ]
  },
  {
   "cell_type": "code",
   "execution_count": 22,
   "id": "a64a6708-cf2a-4158-8b65-dc1e20086201",
   "metadata": {},
   "outputs": [
    {
     "data": {
      "text/plain": [
       "'Tr'"
      ]
     },
     "execution_count": 22,
     "metadata": {},
     "output_type": "execute_result"
    }
   ],
   "source": [
    "str(l[7])[0:2]"
   ]
  },
  {
   "cell_type": "code",
   "execution_count": 23,
   "id": "fad350c8-1bf4-40d2-958e-98d2b5fce79a",
   "metadata": {},
   "outputs": [],
   "source": [
    "l1 = [2,4,6]"
   ]
  },
  {
   "cell_type": "code",
   "execution_count": 24,
   "id": "d311238d-a743-466b-99fb-e2871bc3143e",
   "metadata": {},
   "outputs": [
    {
     "data": {
      "text/plain": [
       "[12, 54, 36, 75, 35, 'Hello', 'World', True, False, 2, 4, 6]"
      ]
     },
     "execution_count": 24,
     "metadata": {},
     "output_type": "execute_result"
    }
   ],
   "source": [
    "l + l1"
   ]
  },
  {
   "cell_type": "code",
   "execution_count": 26,
   "id": "ef50ea7e-5a2d-4ffa-a276-99132aebd4a8",
   "metadata": {},
   "outputs": [
    {
     "data": {
      "text/plain": [
       "[2, 4, 6, 2, 4, 6, 2, 4, 6]"
      ]
     },
     "execution_count": 26,
     "metadata": {},
     "output_type": "execute_result"
    }
   ],
   "source": [
    "l1 * 3"
   ]
  },
  {
   "cell_type": "code",
   "execution_count": 27,
   "id": "1776fdd6-abb4-43ab-a747-82a610338453",
   "metadata": {},
   "outputs": [
    {
     "data": {
      "text/plain": [
       "9"
      ]
     },
     "execution_count": 27,
     "metadata": {},
     "output_type": "execute_result"
    }
   ],
   "source": [
    "len(l)"
   ]
  },
  {
   "cell_type": "code",
   "execution_count": 28,
   "id": "fda87de3-a841-4f9d-9b94-c6e8c0584589",
   "metadata": {},
   "outputs": [
    {
     "data": {
      "text/plain": [
       "[12, 54, 36, 75, 35, 'Hello', 'World', True, False]"
      ]
     },
     "execution_count": 28,
     "metadata": {},
     "output_type": "execute_result"
    }
   ],
   "source": [
    "l"
   ]
  },
  {
   "cell_type": "code",
   "execution_count": 29,
   "id": "33a4fbca-78a2-4f7b-bbdf-b8146da8cba8",
   "metadata": {},
   "outputs": [],
   "source": [
    "l.append(5)"
   ]
  },
  {
   "cell_type": "code",
   "execution_count": 30,
   "id": "04832158-ee71-415d-bb0f-866c203a65ed",
   "metadata": {},
   "outputs": [
    {
     "data": {
      "text/plain": [
       "[12, 54, 36, 75, 35, 'Hello', 'World', True, False, 5]"
      ]
     },
     "execution_count": 30,
     "metadata": {},
     "output_type": "execute_result"
    }
   ],
   "source": [
    "l"
   ]
  },
  {
   "cell_type": "code",
   "execution_count": 32,
   "id": "9fefb3db-bac1-477c-91be-0a14644336b8",
   "metadata": {},
   "outputs": [],
   "source": [
    "l.append(a)"
   ]
  },
  {
   "cell_type": "code",
   "execution_count": 33,
   "id": "c13a2512-d522-49db-a572-c23b04c951d3",
   "metadata": {},
   "outputs": [
    {
     "data": {
      "text/plain": [
       "[12, 54, 36, 75, 35, 'Hello', 'World', True, False, 5, 'Gaurang']"
      ]
     },
     "execution_count": 33,
     "metadata": {},
     "output_type": "execute_result"
    }
   ],
   "source": [
    "l"
   ]
  },
  {
   "cell_type": "code",
   "execution_count": 34,
   "id": "f552b43d-9b3e-47f7-9854-15287dcdf4c6",
   "metadata": {},
   "outputs": [],
   "source": [
    "l.append(l1)"
   ]
  },
  {
   "cell_type": "code",
   "execution_count": 35,
   "id": "b6d53d0f-b137-4341-af7e-1ee0554d1e94",
   "metadata": {},
   "outputs": [
    {
     "data": {
      "text/plain": [
       "[12, 54, 36, 75, 35, 'Hello', 'World', True, False, 5, 'Gaurang', [2, 4, 6]]"
      ]
     },
     "execution_count": 35,
     "metadata": {},
     "output_type": "execute_result"
    }
   ],
   "source": [
    "l"
   ]
  },
  {
   "cell_type": "code",
   "execution_count": 38,
   "id": "41f2f767-ab13-4a99-a7d3-9492b8cdfd9d",
   "metadata": {},
   "outputs": [
    {
     "data": {
      "text/plain": [
       "4"
      ]
     },
     "execution_count": 38,
     "metadata": {},
     "output_type": "execute_result"
    }
   ],
   "source": [
    "l[-1][1]"
   ]
  },
  {
   "cell_type": "code",
   "execution_count": 39,
   "id": "a7739b9d-7803-4433-8232-3cc9666b5b6d",
   "metadata": {},
   "outputs": [
    {
     "data": {
      "text/plain": [
       "[12, 54, 36, 75, 35, 'Hello', 'World', True, False, 5, 'Gaurang', [2, 4, 6]]"
      ]
     },
     "execution_count": 39,
     "metadata": {},
     "output_type": "execute_result"
    }
   ],
   "source": [
    "l"
   ]
  },
  {
   "cell_type": "code",
   "execution_count": 40,
   "id": "de63cbb7-766d-4793-82fb-bd04c30c8433",
   "metadata": {},
   "outputs": [],
   "source": [
    "l.extend([1,2,3])"
   ]
  },
  {
   "cell_type": "code",
   "execution_count": 41,
   "id": "97d963be-036a-4787-9a99-aa98699cec53",
   "metadata": {},
   "outputs": [
    {
     "data": {
      "text/plain": [
       "[12,\n",
       " 54,\n",
       " 36,\n",
       " 75,\n",
       " 35,\n",
       " 'Hello',\n",
       " 'World',\n",
       " True,\n",
       " False,\n",
       " 5,\n",
       " 'Gaurang',\n",
       " [2, 4, 6],\n",
       " 1,\n",
       " 2,\n",
       " 3]"
      ]
     },
     "execution_count": 41,
     "metadata": {},
     "output_type": "execute_result"
    }
   ],
   "source": [
    "l"
   ]
  },
  {
   "cell_type": "code",
   "execution_count": 42,
   "id": "ca6dc643-4864-465b-b00f-bc3d7e2bdaf1",
   "metadata": {},
   "outputs": [
    {
     "data": {
      "text/plain": [
       "[2, 4, 6]"
      ]
     },
     "execution_count": 42,
     "metadata": {},
     "output_type": "execute_result"
    }
   ],
   "source": [
    "l1"
   ]
  },
  {
   "cell_type": "code",
   "execution_count": 43,
   "id": "d571769e-7691-46cb-9743-678ecc7d03a0",
   "metadata": {},
   "outputs": [],
   "source": [
    "l1.insert(1,\"Gaurang\")"
   ]
  },
  {
   "cell_type": "code",
   "execution_count": 44,
   "id": "dfac4f37-6435-4ffc-8fed-8aaa2fcefc8d",
   "metadata": {},
   "outputs": [
    {
     "data": {
      "text/plain": [
       "[2, 'Gaurang', 4, 6]"
      ]
     },
     "execution_count": 44,
     "metadata": {},
     "output_type": "execute_result"
    }
   ],
   "source": [
    "l1"
   ]
  },
  {
   "cell_type": "code",
   "execution_count": 45,
   "id": "8c073a54-6890-4313-b352-d08eb3ee3ba6",
   "metadata": {},
   "outputs": [],
   "source": [
    "l1.insert(2,[2,3,4])"
   ]
  },
  {
   "cell_type": "code",
   "execution_count": 46,
   "id": "cff83bbd-ce83-4406-9e0b-fafb4577e380",
   "metadata": {},
   "outputs": [
    {
     "data": {
      "text/plain": [
       "[2, 'Gaurang', [2, 3, 4], 4, 6]"
      ]
     },
     "execution_count": 46,
     "metadata": {},
     "output_type": "execute_result"
    }
   ],
   "source": [
    "l1"
   ]
  },
  {
   "cell_type": "code",
   "execution_count": 47,
   "id": "38807596-f487-400b-b146-f71e207fd2f2",
   "metadata": {},
   "outputs": [],
   "source": [
    "l1.insert(-1,45)"
   ]
  },
  {
   "cell_type": "code",
   "execution_count": 48,
   "id": "1d8937e7-bfe8-42e0-b94a-a5c6fa281901",
   "metadata": {},
   "outputs": [
    {
     "data": {
      "text/plain": [
       "[2, 'Gaurang', [2, 3, 4], 4, 45, 6]"
      ]
     },
     "execution_count": 48,
     "metadata": {},
     "output_type": "execute_result"
    }
   ],
   "source": [
    "l1"
   ]
  },
  {
   "cell_type": "code",
   "execution_count": 49,
   "id": "53408940-09f7-4f4e-936c-6db558eba1e4",
   "metadata": {},
   "outputs": [
    {
     "data": {
      "text/plain": [
       "6"
      ]
     },
     "execution_count": 49,
     "metadata": {},
     "output_type": "execute_result"
    }
   ],
   "source": [
    "l1.pop()"
   ]
  },
  {
   "cell_type": "code",
   "execution_count": 51,
   "id": "c36872f7-fe5c-4934-850e-ae6612c5465a",
   "metadata": {},
   "outputs": [
    {
     "data": {
      "text/plain": [
       "[2, 'Gaurang', [2, 3, 4], 4, 45]"
      ]
     },
     "execution_count": 51,
     "metadata": {},
     "output_type": "execute_result"
    }
   ],
   "source": [
    "l1"
   ]
  },
  {
   "cell_type": "code",
   "execution_count": 52,
   "id": "131868c8-8415-4dd5-998b-6aa32835f16e",
   "metadata": {},
   "outputs": [
    {
     "data": {
      "text/plain": [
       "[2, 3, 4]"
      ]
     },
     "execution_count": 52,
     "metadata": {},
     "output_type": "execute_result"
    }
   ],
   "source": [
    "l1.pop(2)"
   ]
  },
  {
   "cell_type": "code",
   "execution_count": 53,
   "id": "8f201157-28f7-4154-a636-9a0790fb5108",
   "metadata": {},
   "outputs": [
    {
     "data": {
      "text/plain": [
       "[2, 'Gaurang', 4, 45]"
      ]
     },
     "execution_count": 53,
     "metadata": {},
     "output_type": "execute_result"
    }
   ],
   "source": [
    "l1"
   ]
  },
  {
   "cell_type": "code",
   "execution_count": 54,
   "id": "65db04b8-411a-4b00-a0f0-111ab6b9f901",
   "metadata": {},
   "outputs": [
    {
     "data": {
      "text/plain": [
       "[12,\n",
       " 54,\n",
       " 36,\n",
       " 75,\n",
       " 35,\n",
       " 'Hello',\n",
       " 'World',\n",
       " True,\n",
       " False,\n",
       " 5,\n",
       " 'Gaurang',\n",
       " [2, 'Gaurang', 4, 45],\n",
       " 1,\n",
       " 2,\n",
       " 3]"
      ]
     },
     "execution_count": 54,
     "metadata": {},
     "output_type": "execute_result"
    }
   ],
   "source": [
    "l"
   ]
  },
  {
   "cell_type": "code",
   "execution_count": 55,
   "id": "f33a087a-19e1-4415-a6cc-eb13386a0ac9",
   "metadata": {},
   "outputs": [],
   "source": [
    "l.remove(3)"
   ]
  },
  {
   "cell_type": "code",
   "execution_count": 56,
   "id": "3eef48fa-aa68-4abc-b535-870e1faf29e1",
   "metadata": {},
   "outputs": [
    {
     "data": {
      "text/plain": [
       "[12,\n",
       " 54,\n",
       " 36,\n",
       " 75,\n",
       " 35,\n",
       " 'Hello',\n",
       " 'World',\n",
       " True,\n",
       " False,\n",
       " 5,\n",
       " 'Gaurang',\n",
       " [2, 'Gaurang', 4, 45],\n",
       " 1,\n",
       " 2]"
      ]
     },
     "execution_count": 56,
     "metadata": {},
     "output_type": "execute_result"
    }
   ],
   "source": [
    "l"
   ]
  },
  {
   "cell_type": "code",
   "execution_count": 58,
   "id": "36069581-a6c2-4097-a0df-1f03a0687ffb",
   "metadata": {},
   "outputs": [],
   "source": [
    "l.remove(\"Gaurang\")"
   ]
  },
  {
   "cell_type": "code",
   "execution_count": 59,
   "id": "16709ee5-2259-47d3-a673-e1f964bc4d8f",
   "metadata": {},
   "outputs": [
    {
     "data": {
      "text/plain": [
       "[12,\n",
       " 54,\n",
       " 36,\n",
       " 75,\n",
       " 35,\n",
       " 'Hello',\n",
       " 'World',\n",
       " True,\n",
       " False,\n",
       " 5,\n",
       " [2, 'Gaurang', 4, 45],\n",
       " 1,\n",
       " 2]"
      ]
     },
     "execution_count": 59,
     "metadata": {},
     "output_type": "execute_result"
    }
   ],
   "source": [
    "l"
   ]
  },
  {
   "cell_type": "code",
   "execution_count": 60,
   "id": "ae2aa7cf-c252-493b-9789-3439592f59f8",
   "metadata": {},
   "outputs": [
    {
     "data": {
      "text/plain": [
       "[2, 'Gaurang', 4, 45]"
      ]
     },
     "execution_count": 60,
     "metadata": {},
     "output_type": "execute_result"
    }
   ],
   "source": [
    "l1"
   ]
  },
  {
   "cell_type": "code",
   "execution_count": 61,
   "id": "f58e6ab3-7761-4249-9787-89b5b02efd8b",
   "metadata": {},
   "outputs": [],
   "source": [
    "l1.append(4)"
   ]
  },
  {
   "cell_type": "code",
   "execution_count": 62,
   "id": "ff456fb3-467e-451d-96e1-474e1384017b",
   "metadata": {},
   "outputs": [
    {
     "data": {
      "text/plain": [
       "[2, 'Gaurang', 4, 45, 4]"
      ]
     },
     "execution_count": 62,
     "metadata": {},
     "output_type": "execute_result"
    }
   ],
   "source": [
    "l1"
   ]
  },
  {
   "cell_type": "code",
   "execution_count": 63,
   "id": "a28b1c63-c3d1-4bfa-8759-9e6d3a5fca7e",
   "metadata": {},
   "outputs": [],
   "source": [
    "l1.reverse()"
   ]
  },
  {
   "cell_type": "code",
   "execution_count": 64,
   "id": "1b4a815d-4caa-49ec-81f8-90b48a2d6b39",
   "metadata": {},
   "outputs": [
    {
     "data": {
      "text/plain": [
       "[4, 45, 4, 'Gaurang', 2]"
      ]
     },
     "execution_count": 64,
     "metadata": {},
     "output_type": "execute_result"
    }
   ],
   "source": [
    "l1"
   ]
  },
  {
   "cell_type": "code",
   "execution_count": 65,
   "id": "a8e56ba6-69cb-404d-ae34-141722e0489f",
   "metadata": {},
   "outputs": [
    {
     "data": {
      "text/plain": [
       "[2, 'Gaurang', 4, 45, 4]"
      ]
     },
     "execution_count": 65,
     "metadata": {},
     "output_type": "execute_result"
    }
   ],
   "source": [
    "l1[::-1]"
   ]
  },
  {
   "cell_type": "code",
   "execution_count": 66,
   "id": "c712d86b-c009-477a-9d3b-8e2341a597bd",
   "metadata": {},
   "outputs": [
    {
     "data": {
      "text/plain": [
       "[4, 45, 4, 'Gaurang', 2]"
      ]
     },
     "execution_count": 66,
     "metadata": {},
     "output_type": "execute_result"
    }
   ],
   "source": [
    "l1"
   ]
  },
  {
   "cell_type": "code",
   "execution_count": 67,
   "id": "1620a225-4a63-47e6-850a-eebbeaa11c25",
   "metadata": {},
   "outputs": [
    {
     "ename": "TypeError",
     "evalue": "'<' not supported between instances of 'str' and 'int'",
     "output_type": "error",
     "traceback": [
      "\u001b[0;31m---------------------------------------------------------------------------\u001b[0m",
      "\u001b[0;31mTypeError\u001b[0m                                 Traceback (most recent call last)",
      "Cell \u001b[0;32mIn[67], line 1\u001b[0m\n\u001b[0;32m----> 1\u001b[0m \u001b[43ml1\u001b[49m\u001b[38;5;241;43m.\u001b[39;49m\u001b[43msort\u001b[49m\u001b[43m(\u001b[49m\u001b[43m)\u001b[49m\n",
      "\u001b[0;31mTypeError\u001b[0m: '<' not supported between instances of 'str' and 'int'"
     ]
    }
   ],
   "source": [
    "l1.sort()"
   ]
  },
  {
   "cell_type": "code",
   "execution_count": 68,
   "id": "fef3f7dd-5a15-449f-ae74-944a7c876e50",
   "metadata": {},
   "outputs": [],
   "source": [
    "l2 = [12,65,23,65,34,654,23]"
   ]
  },
  {
   "cell_type": "code",
   "execution_count": 69,
   "id": "5d758593-197c-4ec9-8907-110ab89777e3",
   "metadata": {},
   "outputs": [],
   "source": [
    "l2.sort()"
   ]
  },
  {
   "cell_type": "code",
   "execution_count": 70,
   "id": "e2b8669f-848f-413a-8cd1-cb6236d77ded",
   "metadata": {},
   "outputs": [
    {
     "data": {
      "text/plain": [
       "[12, 23, 23, 34, 65, 65, 654]"
      ]
     },
     "execution_count": 70,
     "metadata": {},
     "output_type": "execute_result"
    }
   ],
   "source": [
    "l2"
   ]
  },
  {
   "cell_type": "code",
   "execution_count": 71,
   "id": "039199bf-0631-41a3-9d25-e23d26925bb3",
   "metadata": {},
   "outputs": [],
   "source": [
    "l3 = [\"hello\",\"world\",\"gaurang\",\"bhimani\"]"
   ]
  },
  {
   "cell_type": "code",
   "execution_count": 77,
   "id": "2a9a45c1-1a37-49dc-8d1f-0faa1f12e6ef",
   "metadata": {},
   "outputs": [],
   "source": [
    "l3.sort(reverse=True)"
   ]
  },
  {
   "cell_type": "code",
   "execution_count": 78,
   "id": "851740ab-3779-410e-b4b7-296cad032456",
   "metadata": {},
   "outputs": [
    {
     "data": {
      "text/plain": [
       "['world', 'hello', 'gaurang', 'bhimani']"
      ]
     },
     "execution_count": 78,
     "metadata": {},
     "output_type": "execute_result"
    }
   ],
   "source": [
    "l3"
   ]
  },
  {
   "cell_type": "code",
   "execution_count": 83,
   "id": "499918fb-f4b9-4ccf-b46b-7047775bc772",
   "metadata": {},
   "outputs": [
    {
     "data": {
      "text/plain": [
       "1"
      ]
     },
     "execution_count": 83,
     "metadata": {},
     "output_type": "execute_result"
    }
   ],
   "source": [
    "l3.count(\"gaurang\")"
   ]
  },
  {
   "cell_type": "code",
   "execution_count": 84,
   "id": "efc33ad4-ece7-420c-b649-c124096340d8",
   "metadata": {},
   "outputs": [
    {
     "data": {
      "text/plain": [
       "'Gaurang'"
      ]
     },
     "execution_count": 84,
     "metadata": {},
     "output_type": "execute_result"
    }
   ],
   "source": [
    "a"
   ]
  },
  {
   "cell_type": "code",
   "execution_count": 86,
   "id": "ee78c6db-4ed6-45af-80ee-70b5d5a676a1",
   "metadata": {},
   "outputs": [
    {
     "ename": "TypeError",
     "evalue": "'str' object does not support item assignment",
     "output_type": "error",
     "traceback": [
      "\u001b[0;31m---------------------------------------------------------------------------\u001b[0m",
      "\u001b[0;31mTypeError\u001b[0m                                 Traceback (most recent call last)",
      "Cell \u001b[0;32mIn[86], line 1\u001b[0m\n\u001b[0;32m----> 1\u001b[0m \u001b[43ma\u001b[49m\u001b[43m[\u001b[49m\u001b[38;5;241;43m0\u001b[39;49m\u001b[43m]\u001b[49m \u001b[38;5;241m=\u001b[39m \u001b[38;5;124m'\u001b[39m\u001b[38;5;124ma\u001b[39m\u001b[38;5;124m'\u001b[39m\n",
      "\u001b[0;31mTypeError\u001b[0m: 'str' object does not support item assignment"
     ]
    }
   ],
   "source": [
    "a[0] = 'a'"
   ]
  },
  {
   "cell_type": "code",
   "execution_count": 87,
   "id": "e9082e54-f5af-47f8-a53d-7994f6ab011d",
   "metadata": {},
   "outputs": [
    {
     "data": {
      "text/plain": [
       "[12, 23, 23, 34, 65, 65, 654]"
      ]
     },
     "execution_count": 87,
     "metadata": {},
     "output_type": "execute_result"
    }
   ],
   "source": [
    "l2"
   ]
  },
  {
   "cell_type": "code",
   "execution_count": 88,
   "id": "28b0384a-2c56-4065-b200-7c8e08df3cd2",
   "metadata": {},
   "outputs": [],
   "source": [
    "l2[0] = 13"
   ]
  },
  {
   "cell_type": "code",
   "execution_count": 89,
   "id": "f5e0dddb-e773-4922-a310-bec87e1c52f2",
   "metadata": {},
   "outputs": [
    {
     "data": {
      "text/plain": [
       "[4, 4, 45, 'Gaurang', 2]"
      ]
     },
     "execution_count": 89,
     "metadata": {},
     "output_type": "execute_result"
    }
   ],
   "source": [
    "l1"
   ]
  },
  {
   "cell_type": "code",
   "execution_count": 90,
   "id": "553db35b-74fc-4477-9a61-0547808168f8",
   "metadata": {},
   "outputs": [
    {
     "data": {
      "text/plain": [
       "[13, 23, 23, 34, 65, 65, 654]"
      ]
     },
     "execution_count": 90,
     "metadata": {},
     "output_type": "execute_result"
    }
   ],
   "source": [
    "l2"
   ]
  },
  {
   "cell_type": "code",
   "execution_count": 91,
   "id": "de2fb5fd-7ccb-478e-9e8c-d2470e89acb5",
   "metadata": {},
   "outputs": [
    {
     "data": {
      "text/plain": [
       "'Gaurang'"
      ]
     },
     "execution_count": 91,
     "metadata": {},
     "output_type": "execute_result"
    }
   ],
   "source": [
    "a"
   ]
  },
  {
   "cell_type": "code",
   "execution_count": 94,
   "id": "334678b8-d785-4cdf-93b8-ca58bede3873",
   "metadata": {},
   "outputs": [],
   "source": [
    "a1= a.replace('G','g')"
   ]
  },
  {
   "cell_type": "code",
   "execution_count": 95,
   "id": "62f27bda-ca9e-49a2-8c82-e87786c7fd59",
   "metadata": {},
   "outputs": [
    {
     "data": {
      "text/plain": [
       "'gaurang'"
      ]
     },
     "execution_count": 95,
     "metadata": {},
     "output_type": "execute_result"
    }
   ],
   "source": [
    "a1"
   ]
  },
  {
   "cell_type": "code",
   "execution_count": null,
   "id": "da190bbf-9dd8-41dc-9837-30171d574dfc",
   "metadata": {},
   "outputs": [],
   "source": []
  },
  {
   "cell_type": "markdown",
   "id": "69df4fc8-6f8e-4449-ad29-28a8414adb12",
   "metadata": {},
   "source": [
    "TUPLES"
   ]
  },
  {
   "cell_type": "code",
   "execution_count": 96,
   "id": "aca3a06f-2e3b-4329-8426-6570da3ae8c7",
   "metadata": {},
   "outputs": [],
   "source": [
    "t = (1,5,9,43,78,\"Gaurang\",\"Bhimani\",3.14,True,False)"
   ]
  },
  {
   "cell_type": "code",
   "execution_count": 97,
   "id": "da29bab3-b1a5-43a0-8f63-2eece81c9a83",
   "metadata": {},
   "outputs": [
    {
     "data": {
      "text/plain": [
       "(1, 5, 9, 43, 78, 'Gaurang', 'Bhimani', 3.14, True, False)"
      ]
     },
     "execution_count": 97,
     "metadata": {},
     "output_type": "execute_result"
    }
   ],
   "source": [
    "t"
   ]
  },
  {
   "cell_type": "code",
   "execution_count": 99,
   "id": "9cb8d29f-02d4-4421-b222-d17fca4f7ba7",
   "metadata": {},
   "outputs": [
    {
     "data": {
      "text/plain": [
       "tuple"
      ]
     },
     "execution_count": 99,
     "metadata": {},
     "output_type": "execute_result"
    }
   ],
   "source": [
    "type(t)"
   ]
  },
  {
   "cell_type": "code",
   "execution_count": 100,
   "id": "859c3abd-2bc3-4029-8c05-bc051e388a04",
   "metadata": {},
   "outputs": [
    {
     "data": {
      "text/plain": [
       "10"
      ]
     },
     "execution_count": 100,
     "metadata": {},
     "output_type": "execute_result"
    }
   ],
   "source": [
    "len(t)"
   ]
  },
  {
   "cell_type": "code",
   "execution_count": 101,
   "id": "84be48fd-fcb7-494c-acbb-22a869989cd3",
   "metadata": {},
   "outputs": [
    {
     "ename": "TypeError",
     "evalue": "'tuple' object does not support item assignment",
     "output_type": "error",
     "traceback": [
      "\u001b[0;31m---------------------------------------------------------------------------\u001b[0m",
      "\u001b[0;31mTypeError\u001b[0m                                 Traceback (most recent call last)",
      "Cell \u001b[0;32mIn[101], line 1\u001b[0m\n\u001b[0;32m----> 1\u001b[0m \u001b[43mt\u001b[49m\u001b[43m[\u001b[49m\u001b[38;5;241;43m0\u001b[39;49m\u001b[43m]\u001b[49m \u001b[38;5;241m=\u001b[39m \u001b[38;5;241m12\u001b[39m\n",
      "\u001b[0;31mTypeError\u001b[0m: 'tuple' object does not support item assignment"
     ]
    }
   ],
   "source": [
    "t[0] = 12"
   ]
  },
  {
   "cell_type": "code",
   "execution_count": 102,
   "id": "2dee2f75-837c-48a5-a7f9-b5d6911a8f0b",
   "metadata": {},
   "outputs": [
    {
     "data": {
      "text/plain": [
       "(False, True, 3.14, 'Bhimani', 'Gaurang', 78, 43, 9, 5, 1)"
      ]
     },
     "execution_count": 102,
     "metadata": {},
     "output_type": "execute_result"
    }
   ],
   "source": [
    "t[::-1]"
   ]
  },
  {
   "cell_type": "code",
   "execution_count": 105,
   "id": "1b7b9425-a5a2-4446-b2dd-65660b8a7aef",
   "metadata": {},
   "outputs": [
    {
     "data": {
      "text/plain": [
       "1"
      ]
     },
     "execution_count": 105,
     "metadata": {},
     "output_type": "execute_result"
    }
   ],
   "source": [
    "t.count(78)"
   ]
  },
  {
   "cell_type": "code",
   "execution_count": 109,
   "id": "8bd781e1-020c-4dad-9b4b-baa18e1de856",
   "metadata": {},
   "outputs": [
    {
     "data": {
      "text/plain": [
       "0"
      ]
     },
     "execution_count": 109,
     "metadata": {},
     "output_type": "execute_result"
    }
   ],
   "source": [
    "t.index(True)"
   ]
  },
  {
   "cell_type": "code",
   "execution_count": 5,
   "id": "f80cb14b-c70c-4d14-bb59-6bff4ca4bf93",
   "metadata": {},
   "outputs": [
    {
     "ename": "NameError",
     "evalue": "name 't' is not defined",
     "output_type": "error",
     "traceback": [
      "\u001b[0;31m---------------------------------------------------------------------------\u001b[0m",
      "\u001b[0;31mNameError\u001b[0m                                 Traceback (most recent call last)",
      "Cell \u001b[0;32mIn[5], line 1\u001b[0m\n\u001b[0;32m----> 1\u001b[0m \u001b[43mt\u001b[49m\n",
      "\u001b[0;31mNameError\u001b[0m: name 't' is not defined"
     ]
    }
   ],
   "source": [
    "t"
   ]
  },
  {
   "cell_type": "code",
   "execution_count": 2,
   "id": "1d0a5d47-97b1-4451-b066-1ad4884eff94",
   "metadata": {},
   "outputs": [
    {
     "ename": "NameError",
     "evalue": "name 't' is not defined",
     "output_type": "error",
     "traceback": [
      "\u001b[0;31m---------------------------------------------------------------------------\u001b[0m",
      "\u001b[0;31mNameError\u001b[0m                                 Traceback (most recent call last)",
      "Cell \u001b[0;32mIn[2], line 1\u001b[0m\n\u001b[0;32m----> 1\u001b[0m \u001b[43mt\u001b[49m\u001b[38;5;241m.\u001b[39mindex(\u001b[38;5;28;01mTrue\u001b[39;00m)\n",
      "\u001b[0;31mNameError\u001b[0m: name 't' is not defined"
     ]
    }
   ],
   "source": [
    "t.index(True)"
   ]
  },
  {
   "cell_type": "code",
   "execution_count": 4,
   "id": "31753851-6dd4-4179-962e-340dffe1aa1f",
   "metadata": {},
   "outputs": [
    {
     "ename": "NameError",
     "evalue": "name 't' is not defined",
     "output_type": "error",
     "traceback": [
      "\u001b[0;31m---------------------------------------------------------------------------\u001b[0m",
      "\u001b[0;31mNameError\u001b[0m                                 Traceback (most recent call last)",
      "Cell \u001b[0;32mIn[4], line 1\u001b[0m\n\u001b[0;32m----> 1\u001b[0m \u001b[43mt\u001b[49m\u001b[38;5;241m.\u001b[39mindex(\u001b[38;5;124m'\u001b[39m\u001b[38;5;124mGaurang\u001b[39m\u001b[38;5;124m'\u001b[39m)\n",
      "\u001b[0;31mNameError\u001b[0m: name 't' is not defined"
     ]
    }
   ],
   "source": [
    "t.index('Gaurang')"
   ]
  },
  {
   "cell_type": "code",
   "execution_count": 2,
   "id": "7503b0ac-4920-4c26-9047-6006f082dc2e",
   "metadata": {},
   "outputs": [],
   "source": [
    "t = ((1,5,9,43,78,\"Gaurang\",\"Bhimani\",3.14,True,False))"
   ]
  },
  {
   "cell_type": "code",
   "execution_count": 3,
   "id": "65fd0cad-40c9-4baf-b7e4-3f708ad00cf6",
   "metadata": {},
   "outputs": [
    {
     "data": {
      "text/plain": [
       "(1, 5, 9, 43, 78, 'Gaurang', 'Bhimani', 3.14, True, False)"
      ]
     },
     "execution_count": 3,
     "metadata": {},
     "output_type": "execute_result"
    }
   ],
   "source": [
    "t"
   ]
  },
  {
   "cell_type": "code",
   "execution_count": 4,
   "id": "ea0804a0-a731-4acc-8192-65b0bbd910e3",
   "metadata": {},
   "outputs": [
    {
     "data": {
      "text/plain": [
       "0"
      ]
     },
     "execution_count": 4,
     "metadata": {},
     "output_type": "execute_result"
    }
   ],
   "source": [
    "t.index(True)"
   ]
  },
  {
   "cell_type": "code",
   "execution_count": 5,
   "id": "7600a5b6-7870-44ed-a1ce-d9a30a9195fd",
   "metadata": {},
   "outputs": [
    {
     "data": {
      "text/plain": [
       "9"
      ]
     },
     "execution_count": 5,
     "metadata": {},
     "output_type": "execute_result"
    }
   ],
   "source": [
    "t.index(False)"
   ]
  },
  {
   "cell_type": "code",
   "execution_count": 6,
   "id": "685da9b9-d0d0-4f40-b246-5b4322f50fd6",
   "metadata": {},
   "outputs": [
    {
     "data": {
      "text/plain": [
       "5"
      ]
     },
     "execution_count": 6,
     "metadata": {},
     "output_type": "execute_result"
    }
   ],
   "source": [
    "t.index('Gaurang')"
   ]
  },
  {
   "cell_type": "code",
   "execution_count": 8,
   "id": "109bf5e8-9780-4d21-b5bb-bc19bf8aca11",
   "metadata": {},
   "outputs": [
    {
     "data": {
      "text/plain": [
       "0"
      ]
     },
     "execution_count": 8,
     "metadata": {},
     "output_type": "execute_result"
    }
   ],
   "source": [
    "t.index(1)"
   ]
  },
  {
   "cell_type": "markdown",
   "id": "371ca8fc-bbbb-41b9-8e8b-92f88f4901a2",
   "metadata": {},
   "source": [
    "SET"
   ]
  },
  {
   "cell_type": "code",
   "execution_count": 1,
   "id": "1708fbac-062a-463f-aacc-8e9f7c73a28a",
   "metadata": {},
   "outputs": [],
   "source": [
    "s1 = {1,43,54,23,'gaurang',3.14,True,True,False,(1,2,3)}"
   ]
  },
  {
   "cell_type": "code",
   "execution_count": 2,
   "id": "603b1bba-2033-441e-aa8f-f1d91e81c4b7",
   "metadata": {},
   "outputs": [
    {
     "data": {
      "text/plain": [
       "set"
      ]
     },
     "execution_count": 2,
     "metadata": {},
     "output_type": "execute_result"
    }
   ],
   "source": [
    "type(s1)"
   ]
  },
  {
   "cell_type": "code",
   "execution_count": 3,
   "id": "f1382df3-76b6-4337-985e-0e5ccbcb8a78",
   "metadata": {},
   "outputs": [
    {
     "data": {
      "text/plain": [
       "{(1, 2, 3), 1, 23, 3.14, 43, 54, False, 'gaurang'}"
      ]
     },
     "execution_count": 3,
     "metadata": {},
     "output_type": "execute_result"
    }
   ],
   "source": [
    "s1"
   ]
  },
  {
   "cell_type": "code",
   "execution_count": 4,
   "id": "1bbc0c4a-788a-48fd-8945-a37345f13dba",
   "metadata": {},
   "outputs": [],
   "source": [
    "s1.add(4)"
   ]
  },
  {
   "cell_type": "code",
   "execution_count": 5,
   "id": "d84d56cb-97ff-46fe-b2ca-7256de2bab80",
   "metadata": {},
   "outputs": [
    {
     "data": {
      "text/plain": [
       "{(1, 2, 3), 1, 23, 3.14, 4, 43, 54, False, 'gaurang'}"
      ]
     },
     "execution_count": 5,
     "metadata": {},
     "output_type": "execute_result"
    }
   ],
   "source": [
    "s1"
   ]
  },
  {
   "cell_type": "code",
   "execution_count": 9,
   "id": "4e0074c6-5f6e-4089-8d27-acc65a8d172c",
   "metadata": {},
   "outputs": [],
   "source": [
    "s1.remove(1)"
   ]
  },
  {
   "cell_type": "code",
   "execution_count": 10,
   "id": "4d0fc548-d7be-4bb1-814d-709bd24862ff",
   "metadata": {},
   "outputs": [
    {
     "data": {
      "text/plain": [
       "{(1, 2, 3), 3.14, 4, 43, 54, False, 'gaurang'}"
      ]
     },
     "execution_count": 10,
     "metadata": {},
     "output_type": "execute_result"
    }
   ],
   "source": [
    "s1"
   ]
  },
  {
   "cell_type": "code",
   "execution_count": null,
   "id": "3490dc2c-dc14-453e-b768-752362460af4",
   "metadata": {},
   "outputs": [],
   "source": []
  }
 ],
 "metadata": {
  "kernelspec": {
   "display_name": "Python 3 (ipykernel)",
   "language": "python",
   "name": "python3"
  },
  "language_info": {
   "codemirror_mode": {
    "name": "ipython",
    "version": 3
   },
   "file_extension": ".py",
   "mimetype": "text/x-python",
   "name": "python",
   "nbconvert_exporter": "python",
   "pygments_lexer": "ipython3",
   "version": "3.10.8"
  }
 },
 "nbformat": 4,
 "nbformat_minor": 5
}
