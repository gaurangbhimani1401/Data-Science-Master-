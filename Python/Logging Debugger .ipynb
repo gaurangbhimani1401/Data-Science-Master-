{
 "cells": [
  {
   "cell_type": "code",
   "execution_count": 2,
   "id": "887b7a28-7a9d-4ccf-8435-118f848d9a58",
   "metadata": {},
   "outputs": [
    {
     "name": "stdout",
     "output_type": "stream",
     "text": [
      "this is my print\n"
     ]
    }
   ],
   "source": [
    "print(\"this is my print\")"
   ]
  },
  {
   "cell_type": "code",
   "execution_count": 3,
   "id": "9082c8d3-c414-4733-8348-9b6b18a54954",
   "metadata": {},
   "outputs": [],
   "source": [
    "import logging"
   ]
  },
  {
   "cell_type": "code",
   "execution_count": 4,
   "id": "a3c53dfd-6e28-4b6e-8350-cc2262c02e34",
   "metadata": {},
   "outputs": [],
   "source": [
    "logging.basicConfig(filename = \"logg.log\",level = logging.INFO)"
   ]
  },
  {
   "cell_type": "code",
   "execution_count": 5,
   "id": "f4e7eee1-a091-4fd2-870d-c455594bccf2",
   "metadata": {},
   "outputs": [],
   "source": [
    "logging.info(\"log this line of the execution\")"
   ]
  },
  {
   "cell_type": "code",
   "execution_count": 6,
   "id": "13f3dfa3-271c-4e1a-a838-0af8c04362b3",
   "metadata": {},
   "outputs": [],
   "source": [
    "logging.info(\"store this in to the file\")"
   ]
  },
  {
   "cell_type": "code",
   "execution_count": 7,
   "id": "66a6f04a-84f4-48de-9372-37db9d9e3837",
   "metadata": {},
   "outputs": [],
   "source": [
    "# 1.NOTSET\n",
    "# 2.DEBUG\n",
    "# 3.INFO\n",
    "# 4.WARNING \n",
    "# 5.ERROR\n",
    "# 6.CRITICAL"
   ]
  },
  {
   "cell_type": "code",
   "execution_count": 8,
   "id": "7b8c06e4-c7e9-4edf-9076-1873bf50f2da",
   "metadata": {},
   "outputs": [],
   "source": [
    "logging.debug(\"this is my debug\")"
   ]
  },
  {
   "cell_type": "code",
   "execution_count": 9,
   "id": "56aa9191-b8ec-43d8-875b-c10c3a10d9ef",
   "metadata": {},
   "outputs": [],
   "source": [
    "logging.warning(\"this is my warning message\")"
   ]
  },
  {
   "cell_type": "code",
   "execution_count": 10,
   "id": "19f09065-2165-4b35-a09d-fed55de20b7f",
   "metadata": {},
   "outputs": [],
   "source": [
    "logging.error(\"this is my message\")"
   ]
  },
  {
   "cell_type": "code",
   "execution_count": 11,
   "id": "7e602c7b-37e3-4379-b142-2586fe7336aa",
   "metadata": {},
   "outputs": [],
   "source": [
    "logging.critical(\"this is my critical message\")"
   ]
  },
  {
   "cell_type": "code",
   "execution_count": 13,
   "id": "ec609f8e-7fd8-4c70-a45d-a9689bf7de18",
   "metadata": {},
   "outputs": [],
   "source": [
    "logging.shutdown()"
   ]
  },
  {
   "cell_type": "code",
   "execution_count": 8,
   "id": "ab239c84-ae52-4b83-a16e-a080840130dc",
   "metadata": {},
   "outputs": [],
   "source": [
    "import logging"
   ]
  },
  {
   "cell_type": "code",
   "execution_count": 2,
   "id": "6a9c6a6e-4eb7-4f24-89d4-257f980ceab6",
   "metadata": {},
   "outputs": [],
   "source": [
    "logging.basicConfig(filename = \"logg1.log\" , level = logging.DEBUG , format = '%(asctime)s %(message)s')"
   ]
  },
  {
   "cell_type": "code",
   "execution_count": 3,
   "id": "969bf738-203d-40bd-b9b1-017ed58d76b6",
   "metadata": {},
   "outputs": [],
   "source": [
    "logging.info(\"this is my info message to give the information\")\n",
    "logging.warning(\"this is my error message to give the error in the code\")\n",
    "logging.critical(\"this is the critical message in the code\")"
   ]
  },
  {
   "cell_type": "code",
   "execution_count": 4,
   "id": "50a5bf24-f131-4238-b306-1efd3b78b328",
   "metadata": {},
   "outputs": [],
   "source": [
    "logging.shutdown()"
   ]
  },
  {
   "cell_type": "code",
   "execution_count": 1,
   "id": "80ae76e7-25b6-47c6-b2c7-641242960b4f",
   "metadata": {},
   "outputs": [],
   "source": [
    "import logging"
   ]
  },
  {
   "cell_type": "code",
   "execution_count": 2,
   "id": "9b6ea07b-3c84-4ce1-875b-7320014d61ac",
   "metadata": {},
   "outputs": [],
   "source": [
    "logging.basicConfig(filename = \"logg2.log\" , level = logging.DEBUG , format = '%(asctime)s %(name)s %(levelname)s %(message)s' )"
   ]
  },
  {
   "cell_type": "code",
   "execution_count": 3,
   "id": "95569135-a8bc-43e5-ab69-99ae72415739",
   "metadata": {},
   "outputs": [],
   "source": [
    "logging.info(\"this is my info message to give the information\")\n",
    "logging.warning(\"this is my error message to give the error in the code\")\n",
    "logging.critical(\"this is the critical message in the code\")\n",
    "logging.critical(\"this is my 2nd critical\")"
   ]
  },
  {
   "cell_type": "code",
   "execution_count": 4,
   "id": "384be636-9170-4946-8c0e-963ab07e8d6f",
   "metadata": {},
   "outputs": [],
   "source": [
    "l = [1,2,32,54,[43,4,2,5],\"gaurang\",\"bhimani\"]"
   ]
  },
  {
   "cell_type": "code",
   "execution_count": 5,
   "id": "04000b9a-11f9-48fb-ae05-f4eb17653058",
   "metadata": {},
   "outputs": [],
   "source": [
    "l_int = []\n",
    "l_str = []\n",
    "\n",
    "for i in l:\n",
    "    logging.info(\"i am inside the for loop\")\n",
    "    if type(i)== list:\n",
    "        logging.info(\"this is the if condition for the list inside the list\")\n",
    "        for j in i:\n",
    "            logging.info(\"this is the for loop for the list inside the list\")\n",
    "            if type(j) == int:\n",
    "                l_int.append(j)\n",
    "                logging.info(\"this is to insert the information into the list\")\n",
    "    elif type(i) == int:\n",
    "        l_int.append(i)\n",
    "        logging.info(\"this to insert the information into the int list from the outer list \")\n",
    "    else:\n",
    "        if type(i) == str:\n",
    "            l_str.append(i)\n",
    "            logging.info(\"this is to insert the string inside the list\")"
   ]
  },
  {
   "cell_type": "code",
   "execution_count": 6,
   "id": "6c23754c-022c-4e82-8d3f-245d887c777e",
   "metadata": {},
   "outputs": [
    {
     "data": {
      "text/plain": [
       "[1, 2, 32, 54, 43, 4, 2, 5]"
      ]
     },
     "execution_count": 6,
     "metadata": {},
     "output_type": "execute_result"
    }
   ],
   "source": [
    "l_int"
   ]
  },
  {
   "cell_type": "code",
   "execution_count": 7,
   "id": "e7ffcb8e-8e83-4bba-b0fc-2ef3eea0be20",
   "metadata": {},
   "outputs": [
    {
     "data": {
      "text/plain": [
       "['gaurang', 'bhimani']"
      ]
     },
     "execution_count": 7,
     "metadata": {},
     "output_type": "execute_result"
    }
   ],
   "source": [
    "l_str"
   ]
  },
  {
   "cell_type": "code",
   "execution_count": 13,
   "id": "c9d25982-62cb-4d6b-b311-f2075b0054bb",
   "metadata": {},
   "outputs": [],
   "source": [
    "logging.shutdown()"
   ]
  },
  {
   "cell_type": "code",
   "execution_count": 10,
   "id": "c3b244d5-a2f2-4d81-9677-71bbb3ec828f",
   "metadata": {},
   "outputs": [],
   "source": [
    "import logging"
   ]
  },
  {
   "cell_type": "code",
   "execution_count": 11,
   "id": "7a5291ba-7302-4bae-931d-da369135212c",
   "metadata": {},
   "outputs": [],
   "source": [
    "logging.basicConfig(filename = \"logg3.log\" , level = logging.DEBUG , format = '%(asctime)s %(name)s %(levelname)s %(message)s' )"
   ]
  },
  {
   "cell_type": "code",
   "execution_count": 12,
   "id": "d05aa033-c82e-4e51-9c72-dc2457b696f1",
   "metadata": {},
   "outputs": [],
   "source": [
    "logging.info(\"this is my info message to give the information\")\n",
    "logging.warning(\"this is my error message to give the error in the code\")\n",
    "logging.critical(\"this is the critical message in the code\")\n",
    "logging.critical(\"this is my 2nd critical\")"
   ]
  },
  {
   "cell_type": "code",
   "execution_count": 13,
   "id": "c359744d-7fd1-4876-afe0-0df9d57c5321",
   "metadata": {},
   "outputs": [],
   "source": [
    "l = [1,2,32,54,[43,4,2,5],\"gaurang\",\"bhimani\"]"
   ]
  },
  {
   "cell_type": "code",
   "execution_count": 17,
   "id": "2c8c11e5-dd6d-482a-a82c-4091225e7c7a",
   "metadata": {},
   "outputs": [],
   "source": [
    "l_int = []\n",
    "l_str = []\n",
    "\n",
    "for i in l:\n",
    "    logging.info(\"i am inside the for loop\"+str(l))\n",
    "    if type(i)== list:\n",
    "        logging.info(\"this is the if condition for the list inside the list\"+str(i))\n",
    "        for j in i:\n",
    "            logging.info(\"this is the for loop for the list inside the list\"+str(j))\n",
    "            if type(j) == int:\n",
    "                l_int.append(j)\n",
    "                logging.info(\"this is to insert the information into the list{}\".format(j))\n",
    "    elif type(i) == int:\n",
    "        l_int.append(i)\n",
    "        logging.info(\"this to insert the information into the int list from the outer list \")\n",
    "    else:\n",
    "        if type(i) == str:\n",
    "            l_str.append(i)\n",
    "            logging.info(\"this is to insert the string inside the list\")\n",
    "            \n",
    "logging.info(\"my final result for the int is {l1} and the final result for the string is the {l2}\".format(l1 = l_int , l2 = l_str))"
   ]
  },
  {
   "cell_type": "code",
   "execution_count": 15,
   "id": "6508640d-ca90-4da7-b15b-e3f4362f3ceb",
   "metadata": {},
   "outputs": [
    {
     "data": {
      "text/plain": [
       "[1, 2, 32, 54, 43, 4, 2, 5]"
      ]
     },
     "execution_count": 15,
     "metadata": {},
     "output_type": "execute_result"
    }
   ],
   "source": [
    "l_int"
   ]
  },
  {
   "cell_type": "code",
   "execution_count": 8,
   "id": "9a5db792-1a46-4afc-8055-c302fd6d870b",
   "metadata": {},
   "outputs": [
    {
     "data": {
      "text/plain": [
       "['gaurang', 'bhimani']"
      ]
     },
     "execution_count": 8,
     "metadata": {},
     "output_type": "execute_result"
    }
   ],
   "source": [
    "l_str"
   ]
  },
  {
   "cell_type": "code",
   "execution_count": null,
   "id": "c78a088b-239b-4da0-a935-a5fdc9ae378c",
   "metadata": {},
   "outputs": [],
   "source": []
  }
 ],
 "metadata": {
  "kernelspec": {
   "display_name": "Python 3 (ipykernel)",
   "language": "python",
   "name": "python3"
  },
  "language_info": {
   "codemirror_mode": {
    "name": "ipython",
    "version": 3
   },
   "file_extension": ".py",
   "mimetype": "text/x-python",
   "name": "python",
   "nbconvert_exporter": "python",
   "pygments_lexer": "ipython3",
   "version": "3.10.8"
  }
 },
 "nbformat": 4,
 "nbformat_minor": 5
}
