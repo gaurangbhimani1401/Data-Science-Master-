{
 "cells": [
  {
   "cell_type": "code",
   "execution_count": 21,
   "id": "6e45f14f-afc6-44d5-b20d-60ce677a5473",
   "metadata": {},
   "outputs": [],
   "source": [
    "class cloudus :\n",
    "    def __init__(self, course_name, course_price):\n",
    "        self.course_name = course_name\n",
    "        self.__course_price = course_price\n",
    "        \n",
    "    @property\n",
    "    def course_price_access(self):\n",
    "        return self.__course_price\n",
    "    \n",
    "    @course_price_access.setter\n",
    "    def course_price_change(self ,price):\n",
    "        if price <= 3000:\n",
    "            pass\n",
    "        else:\n",
    "            self.__course_price = price \n",
    "            \n",
    "    @course_price_access.deleter\n",
    "    def course_price_del(self):\n",
    "        del self.__course_price\n",
    "            "
   ]
  },
  {
   "cell_type": "code",
   "execution_count": 22,
   "id": "7fb73d95-9028-41c2-971b-28ec9e75bc54",
   "metadata": {},
   "outputs": [],
   "source": [
    "cl = cloudus(\"data science master\", 3000)"
   ]
  },
  {
   "cell_type": "code",
   "execution_count": 9,
   "id": "529e28ba-162c-4044-88ae-728d624562e9",
   "metadata": {},
   "outputs": [
    {
     "data": {
      "text/plain": [
       "3000"
      ]
     },
     "execution_count": 9,
     "metadata": {},
     "output_type": "execute_result"
    }
   ],
   "source": [
    "cl._cloudus__course_price"
   ]
  },
  {
   "cell_type": "code",
   "execution_count": 14,
   "id": "ede03301-8395-475f-8c28-bc0f4c3f6d13",
   "metadata": {},
   "outputs": [
    {
     "data": {
      "text/plain": [
       "3000"
      ]
     },
     "execution_count": 14,
     "metadata": {},
     "output_type": "execute_result"
    }
   ],
   "source": [
    "cl.course_price_access"
   ]
  },
  {
   "cell_type": "code",
   "execution_count": 23,
   "id": "938783d7-b549-4e8d-b913-16bff05b6ac5",
   "metadata": {},
   "outputs": [],
   "source": [
    "cl.course_price_change = 3500"
   ]
  },
  {
   "cell_type": "code",
   "execution_count": 18,
   "id": "90f14163-25f0-4d39-b2e4-0ce9a335e26c",
   "metadata": {},
   "outputs": [
    {
     "data": {
      "text/plain": [
       "3500"
      ]
     },
     "execution_count": 18,
     "metadata": {},
     "output_type": "execute_result"
    }
   ],
   "source": [
    "cl.course_price_access"
   ]
  },
  {
   "cell_type": "code",
   "execution_count": 24,
   "id": "b3824858-a6ad-4ab0-a45c-be41cadf3cd4",
   "metadata": {},
   "outputs": [],
   "source": [
    "del cl.course_price_del"
   ]
  },
  {
   "cell_type": "code",
   "execution_count": 25,
   "id": "5f083a3a-9fad-4090-a30d-041abfa731dc",
   "metadata": {},
   "outputs": [
    {
     "ename": "AttributeError",
     "evalue": "'cloudus' object has no attribute '_cloudus__course_price'",
     "output_type": "error",
     "traceback": [
      "\u001b[0;31m---------------------------------------------------------------------------\u001b[0m",
      "\u001b[0;31mAttributeError\u001b[0m                            Traceback (most recent call last)",
      "Cell \u001b[0;32mIn[25], line 1\u001b[0m\n\u001b[0;32m----> 1\u001b[0m \u001b[43mcl\u001b[49m\u001b[38;5;241;43m.\u001b[39;49m\u001b[43mcourse_price_access\u001b[49m\n",
      "Cell \u001b[0;32mIn[21], line 8\u001b[0m, in \u001b[0;36mcloudus.course_price_access\u001b[0;34m(self)\u001b[0m\n\u001b[1;32m      6\u001b[0m \u001b[38;5;129m@property\u001b[39m\n\u001b[1;32m      7\u001b[0m \u001b[38;5;28;01mdef\u001b[39;00m \u001b[38;5;21mcourse_price_access\u001b[39m(\u001b[38;5;28mself\u001b[39m):\n\u001b[0;32m----> 8\u001b[0m     \u001b[38;5;28;01mreturn\u001b[39;00m \u001b[38;5;28;43mself\u001b[39;49m\u001b[38;5;241;43m.\u001b[39;49m\u001b[43m__course_price\u001b[49m\n",
      "\u001b[0;31mAttributeError\u001b[0m: 'cloudus' object has no attribute '_cloudus__course_price'"
     ]
    }
   ],
   "source": [
    "cl.course_price_access"
   ]
  },
  {
   "cell_type": "code",
   "execution_count": null,
   "id": "1b648221-787f-4e64-814a-f9899ee9e282",
   "metadata": {},
   "outputs": [],
   "source": []
  }
 ],
 "metadata": {
  "kernelspec": {
   "display_name": "Python 3 (ipykernel)",
   "language": "python",
   "name": "python3"
  },
  "language_info": {
   "codemirror_mode": {
    "name": "ipython",
    "version": 3
   },
   "file_extension": ".py",
   "mimetype": "text/x-python",
   "name": "python",
   "nbconvert_exporter": "python",
   "pygments_lexer": "ipython3",
   "version": "3.10.8"
  }
 },
 "nbformat": 4,
 "nbformat_minor": 5
}
