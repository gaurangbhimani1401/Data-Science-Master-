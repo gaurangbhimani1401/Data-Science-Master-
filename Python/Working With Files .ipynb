{
 "cells": [
  {
   "cell_type": "code",
   "execution_count": 8,
   "id": "927629ee-6fb7-470a-a428-1e2c99bb7ab5",
   "metadata": {},
   "outputs": [],
   "source": [
    "f = open(\"text.txt\", 'w')"
   ]
  },
  {
   "cell_type": "code",
   "execution_count": 10,
   "id": "ee110b6c-db67-43b3-a308-29667dbe7ae5",
   "metadata": {},
   "outputs": [
    {
     "data": {
      "text/plain": [
       "'/home/jovyan/work'"
      ]
     },
     "execution_count": 10,
     "metadata": {},
     "output_type": "execute_result"
    }
   ],
   "source": [
    "pwd"
   ]
  },
  {
   "cell_type": "code",
   "execution_count": 4,
   "id": "b75db3a2-5750-4741-978d-1457f11994f6",
   "metadata": {},
   "outputs": [
    {
     "name": "stdout",
     "output_type": "stream",
     "text": [
      "'Abstraction .ipynb'\n",
      " Assignment-1.ipynb\n",
      "'Class Methods .ipynb'\n",
      "'Condition and Iteration.ipynb'\n",
      "' Decorators .ipynb'\n",
      " Dictionary.ipynb\n",
      "'Encapsulation .ipynb'\n",
      "'Function part1.ipynb'\n",
      "'Generator Function.ipynb'\n",
      "'Inheritance .ipynb'\n",
      "'Lamda Function.ipynb'\n",
      " List,Tuple,Set.ipynb\n",
      "'Map, Reduce & Filter Function.ipynb'\n",
      "'OOPs part 1 .ipynb'\n",
      "'Polymorphism .ipynb'\n",
      "'Property Decorators Getters, Setters, And Deletes .ipynb'\n",
      "'python variable.ipynb'\n",
      " README.md\n",
      " sample-code.ipynb\n",
      "'Special (Magic Dunder) Methods .ipynb'\n",
      "' Static Method .ipynb'\n",
      " text.txt\n",
      "'Week-1 Assignment-1.ipynb'\n",
      "'Week 2 - PYTHON - Data Structures Assignment.ipynb'\n",
      "'Week-3 Assignment 1.ipynb'\n",
      "'Week-3 Assignment-2 .ipynb'\n",
      "'Week-4 OOPS TASK Assignment .ipynb'\n",
      "'Working With Files .ipynb'\n"
     ]
    }
   ],
   "source": [
    "ls"
   ]
  },
  {
   "cell_type": "code",
   "execution_count": 11,
   "id": "5a862073-2226-4767-ad7c-e19e68155975",
   "metadata": {},
   "outputs": [
    {
     "name": "stdout",
     "output_type": "stream",
     "text": [
      "[Errno 2] No such file or directory: 'name od directroy #change dierctory'\n",
      "/home/jovyan/work\n"
     ]
    }
   ],
   "source": [
    "cd name od directroy #change dierctory"
   ]
  },
  {
   "cell_type": "code",
   "execution_count": 12,
   "id": "c07cfb83-279d-42d2-b47d-5c576cb2e8c2",
   "metadata": {},
   "outputs": [
    {
     "data": {
      "text/plain": [
       "47"
      ]
     },
     "execution_count": 12,
     "metadata": {},
     "output_type": "execute_result"
    }
   ],
   "source": [
    "f.write(\"this is my first directory to write in the pyth\")"
   ]
  },
  {
   "cell_type": "code",
   "execution_count": 13,
   "id": "fce8b60f-91cc-4469-a556-2e9a2a426e75",
   "metadata": {},
   "outputs": [],
   "source": [
    "f.close()"
   ]
  },
  {
   "cell_type": "code",
   "execution_count": 17,
   "id": "8f960c65-8009-4e78-af0f-e5dd92643821",
   "metadata": {},
   "outputs": [],
   "source": [
    "f = open(\"text.txt\", 'w')"
   ]
  },
  {
   "cell_type": "code",
   "execution_count": 18,
   "id": "138fd43d-0bd8-4543-80dd-e78d8083659e",
   "metadata": {},
   "outputs": [
    {
     "data": {
      "text/plain": [
       "15"
      ]
     },
     "execution_count": 18,
     "metadata": {},
     "output_type": "execute_result"
    }
   ],
   "source": [
    "f.write(\"this is my file\")"
   ]
  },
  {
   "cell_type": "code",
   "execution_count": 19,
   "id": "74730f13-db4a-47cb-bf23-59c3d034aea1",
   "metadata": {},
   "outputs": [],
   "source": [
    "f.close()"
   ]
  },
  {
   "cell_type": "code",
   "execution_count": 20,
   "id": "75d0d1e8-93ec-4b51-88f8-481e76b39980",
   "metadata": {},
   "outputs": [],
   "source": [
    "f = open(\"text.txt\", 'a')"
   ]
  },
  {
   "cell_type": "code",
   "execution_count": 22,
   "id": "22a99fd0-ff02-4dd9-9135-df70dfdab372",
   "metadata": {},
   "outputs": [
    {
     "data": {
      "text/plain": [
       "112"
      ]
     },
     "execution_count": 22,
     "metadata": {},
     "output_type": "execute_result"
    }
   ],
   "source": [
    "f.write(\"We are sorry that we couldnt serve you at this moment. Please leave your message, we will get back to you soon..\")"
   ]
  },
  {
   "cell_type": "code",
   "execution_count": 41,
   "id": "fa0ba6e9-4895-49d3-866b-8d806453784b",
   "metadata": {},
   "outputs": [],
   "source": [
    "f.close()"
   ]
  },
  {
   "cell_type": "code",
   "execution_count": 42,
   "id": "1f85a0e9-f28a-4424-a7fc-167dbe3e702e",
   "metadata": {},
   "outputs": [],
   "source": [
    "f = open(\"text.txt\", 'r')"
   ]
  },
  {
   "cell_type": "code",
   "execution_count": 43,
   "id": "37a38189-f9a4-4de5-afcc-208ff2cd961b",
   "metadata": {},
   "outputs": [
    {
     "data": {
      "text/plain": [
       "'this is my file We are sorry that we couldnt serve you at this moment. Please leave your message, we will get back to you soon..'"
      ]
     },
     "execution_count": 43,
     "metadata": {},
     "output_type": "execute_result"
    }
   ],
   "source": [
    "f.read()"
   ]
  },
  {
   "cell_type": "code",
   "execution_count": 44,
   "id": "b3d75343-11cc-4bd3-a367-93405be3c25b",
   "metadata": {},
   "outputs": [
    {
     "data": {
      "text/plain": [
       "''"
      ]
     },
     "execution_count": 44,
     "metadata": {},
     "output_type": "execute_result"
    }
   ],
   "source": [
    "f.readline()"
   ]
  },
  {
   "cell_type": "code",
   "execution_count": 45,
   "id": "f4cf91e4-1968-477d-b879-3415ef970bb9",
   "metadata": {},
   "outputs": [
    {
     "data": {
      "text/plain": [
       "0"
      ]
     },
     "execution_count": 45,
     "metadata": {},
     "output_type": "execute_result"
    }
   ],
   "source": [
    "f.seek(0)"
   ]
  },
  {
   "cell_type": "code",
   "execution_count": 46,
   "id": "03f67f42-7ee2-457b-8a9b-f1540e628155",
   "metadata": {},
   "outputs": [
    {
     "data": {
      "text/plain": [
       "'this is my file We are sorry that we couldnt serve you at this moment. Please leave your message, we will get back to you soon..'"
      ]
     },
     "execution_count": 46,
     "metadata": {},
     "output_type": "execute_result"
    }
   ],
   "source": [
    "f.readline()"
   ]
  },
  {
   "cell_type": "code",
   "execution_count": 47,
   "id": "c428ab70-a951-4297-aeb9-700d835593a1",
   "metadata": {},
   "outputs": [
    {
     "data": {
      "text/plain": [
       "10"
      ]
     },
     "execution_count": 47,
     "metadata": {},
     "output_type": "execute_result"
    }
   ],
   "source": [
    "f.seek(10)"
   ]
  },
  {
   "cell_type": "code",
   "execution_count": 48,
   "id": "4542c111-3b8d-4dd4-b401-df8005b4ed2f",
   "metadata": {},
   "outputs": [
    {
     "data": {
      "text/plain": [
       "[' file We are sorry that we couldnt serve you at this moment. Please leave your message, we will get back to you soon..']"
      ]
     },
     "execution_count": 48,
     "metadata": {},
     "output_type": "execute_result"
    }
   ],
   "source": [
    "f.readlines()"
   ]
  },
  {
   "cell_type": "code",
   "execution_count": 49,
   "id": "2d70108b-328f-4fbe-b798-132a5a3b6538",
   "metadata": {},
   "outputs": [],
   "source": [
    "f1 = open(\"text.txt\",'r')"
   ]
  },
  {
   "cell_type": "code",
   "execution_count": 50,
   "id": "fadeb316-86da-41f5-9f8d-d5afab94a49b",
   "metadata": {},
   "outputs": [
    {
     "name": "stdout",
     "output_type": "stream",
     "text": [
      "this is my file We are sorry that we couldnt serve you at this moment. Please leave your message, we will get back to you soon..\n"
     ]
    }
   ],
   "source": [
    "for i in f1:\n",
    "    print(i)"
   ]
  },
  {
   "cell_type": "code",
   "execution_count": 53,
   "id": "9306511f-83eb-4ed1-8624-5ee8a95a6d86",
   "metadata": {},
   "outputs": [],
   "source": [
    "import os"
   ]
  },
  {
   "cell_type": "code",
   "execution_count": 55,
   "id": "94327556-ad46-4789-9088-3755ec2425ea",
   "metadata": {},
   "outputs": [
    {
     "data": {
      "text/plain": [
       "128"
      ]
     },
     "execution_count": 55,
     "metadata": {},
     "output_type": "execute_result"
    }
   ],
   "source": [
    "os.path.getsize(\"text.txt\")"
   ]
  },
  {
   "cell_type": "code",
   "execution_count": 58,
   "id": "64937f82-2664-4a8a-a8f8-97bcb2543157",
   "metadata": {},
   "outputs": [],
   "source": [
    "f2 = open(\"test.txt\",'w')"
   ]
  },
  {
   "cell_type": "code",
   "execution_count": 59,
   "id": "eac7ffd6-9d29-4750-a871-726ef74e4d11",
   "metadata": {},
   "outputs": [
    {
     "data": {
      "text/plain": [
       "128"
      ]
     },
     "execution_count": 59,
     "metadata": {},
     "output_type": "execute_result"
    }
   ],
   "source": [
    "f2.write(\"this is my file We are sorry that we couldnt serve you at this moment. Please leave your message, we will get back to you soon..\")"
   ]
  },
  {
   "cell_type": "code",
   "execution_count": 60,
   "id": "869a0652-c394-40da-af10-d1887df55c77",
   "metadata": {},
   "outputs": [],
   "source": [
    "f2.close()"
   ]
  },
  {
   "cell_type": "code",
   "execution_count": 62,
   "id": "77343ef1-240b-4cb2-8013-62ac67cdd6c1",
   "metadata": {},
   "outputs": [
    {
     "ename": "FileNotFoundError",
     "evalue": "[Errno 2] No such file or directory: 'test.txt' -> 'newtest.txt'",
     "output_type": "error",
     "traceback": [
      "\u001b[0;31m---------------------------------------------------------------------------\u001b[0m",
      "\u001b[0;31mFileNotFoundError\u001b[0m                         Traceback (most recent call last)",
      "Cell \u001b[0;32mIn[62], line 1\u001b[0m\n\u001b[0;32m----> 1\u001b[0m \u001b[43mos\u001b[49m\u001b[38;5;241;43m.\u001b[39;49m\u001b[43mrename\u001b[49m\u001b[43m(\u001b[49m\u001b[38;5;124;43m\"\u001b[39;49m\u001b[38;5;124;43mtest.txt\u001b[39;49m\u001b[38;5;124;43m\"\u001b[39;49m\u001b[43m,\u001b[49m\u001b[38;5;124;43m\"\u001b[39;49m\u001b[38;5;124;43mnewtest.txt\u001b[39;49m\u001b[38;5;124;43m\"\u001b[39;49m\u001b[43m)\u001b[49m\n",
      "\u001b[0;31mFileNotFoundError\u001b[0m: [Errno 2] No such file or directory: 'test.txt' -> 'newtest.txt'"
     ]
    }
   ],
   "source": [
    "os.rename(\"test.txt\",\"newtest.txt\")"
   ]
  },
  {
   "cell_type": "code",
   "execution_count": 63,
   "id": "dcd40f62-4d0a-4412-b036-b4348c64ded9",
   "metadata": {},
   "outputs": [],
   "source": [
    "import shutil"
   ]
  },
  {
   "cell_type": "code",
   "execution_count": 65,
   "id": "680bbe3e-0b42-49ff-aef1-05e802962608",
   "metadata": {},
   "outputs": [
    {
     "data": {
      "text/plain": [
       "'copy_newtest.txt'"
      ]
     },
     "execution_count": 65,
     "metadata": {},
     "output_type": "execute_result"
    }
   ],
   "source": [
    "shutil.copy(\"newtest.txt\",\"copy_newtest.txt\")"
   ]
  },
  {
   "cell_type": "code",
   "execution_count": 73,
   "id": "58f644b0-ac57-487a-bbe1-dfbf18dbdd27",
   "metadata": {},
   "outputs": [
    {
     "name": "stdout",
     "output_type": "stream",
     "text": [
      "this is my file We are sorry that we couldnt serve you at this moment. Please leave your message, we will get back to you soon..\n"
     ]
    }
   ],
   "source": [
    "with open(\"newtest.txt\",'r')as f:\n",
    "    print(f.read())"
   ]
  },
  {
   "cell_type": "code",
   "execution_count": null,
   "id": "20067fc4-edcc-4847-a35c-abbd61407954",
   "metadata": {},
   "outputs": [],
   "source": []
  },
  {
   "cell_type": "code",
   "execution_count": null,
   "id": "be77de83-be51-4412-b82d-cc457350db35",
   "metadata": {},
   "outputs": [],
   "source": []
  }
 ],
 "metadata": {
  "kernelspec": {
   "display_name": "Python 3 (ipykernel)",
   "language": "python",
   "name": "python3"
  },
  "language_info": {
   "codemirror_mode": {
    "name": "ipython",
    "version": 3
   },
   "file_extension": ".py",
   "mimetype": "text/x-python",
   "name": "python",
   "nbconvert_exporter": "python",
   "pygments_lexer": "ipython3",
   "version": "3.10.8"
  }
 },
 "nbformat": 4,
 "nbformat_minor": 5
}
