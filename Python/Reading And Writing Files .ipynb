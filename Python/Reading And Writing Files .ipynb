{
 "cells": [
  {
   "cell_type": "code",
   "execution_count": 8,
   "id": "fcb09b9f-d4e3-413e-89ea-f108c8a03e1f",
   "metadata": {},
   "outputs": [],
   "source": [
    "dic = {\n",
    "    \"name\" : \"gaurang bhimani\",\n",
    "    \"mail_id\" : \"gaurang@gmail.com\",\n",
    "    \"mobile_no\" : 9823564512,\n",
    "    \"subject\" : [\"data science\", \"data analatics\", \"big data\"]\n",
    "}"
   ]
  },
  {
   "cell_type": "code",
   "execution_count": 9,
   "id": "240041b8-a7d8-4231-b56a-4eb74a5ae0d9",
   "metadata": {},
   "outputs": [],
   "source": [
    "import json"
   ]
  },
  {
   "cell_type": "code",
   "execution_count": 10,
   "id": "56f6e106-918c-4ee5-afd0-06540fbf6854",
   "metadata": {},
   "outputs": [],
   "source": [
    "with open(\"jason file\", 'w') as f:\n",
    "    json.dump(dic, f)"
   ]
  },
  {
   "cell_type": "code",
   "execution_count": 13,
   "id": "b6e125c2-7d15-443a-8232-f1964d4b27aa",
   "metadata": {},
   "outputs": [],
   "source": [
    "with open(\"jason file\", 'r') as f:\n",
    "    dic1 = json.load(f)"
   ]
  },
  {
   "cell_type": "code",
   "execution_count": 14,
   "id": "93cd2e86-48f1-4cda-bb24-3c41dbb7de98",
   "metadata": {},
   "outputs": [
    {
     "data": {
      "text/plain": [
       "{'name': 'gaurang bhimani',\n",
       " 'mail_id': 'gaurang@gmail.com',\n",
       " 'mobile_no': 9823564512,\n",
       " 'subject': ['data science', 'data analatics', 'big data']}"
      ]
     },
     "execution_count": 14,
     "metadata": {},
     "output_type": "execute_result"
    }
   ],
   "source": [
    "dic1"
   ]
  },
  {
   "cell_type": "code",
   "execution_count": 15,
   "id": "dfeb442a-7b3f-4a64-86bd-f362219c4645",
   "metadata": {},
   "outputs": [],
   "source": [
    "import csv"
   ]
  },
  {
   "cell_type": "code",
   "execution_count": 21,
   "id": "9569249e-913a-4d75-8c1a-a047f82bb66b",
   "metadata": {},
   "outputs": [],
   "source": [
    "data = [[\"Name\",\"email_id\",\"mobile_no\"],\n",
    "        [\"Gaurang\",\"gaurang@gmail.com\",9856214589],\n",
    "        [\"goving\",\"govind@gmail.com\",6523189537],\n",
    "        [\"madhav\",\"govind@gmail.com\",9535486825]\n",
    "]"
   ]
  },
  {
   "cell_type": "code",
   "execution_count": 25,
   "id": "2074f9ae-c5a0-4c50-bc8d-942a6c26c6eb",
   "metadata": {},
   "outputs": [],
   "source": [
    "with open(\"data.csv\",'w') as f:\n",
    "    writer = csv.writer(f)\n",
    "    \n",
    "    for i in data:\n",
    "        writer.writerow(i)"
   ]
  },
  {
   "cell_type": "code",
   "execution_count": 28,
   "id": "12d375d4-458c-4ae1-85f5-0011dd44a46f",
   "metadata": {},
   "outputs": [
    {
     "name": "stdout",
     "output_type": "stream",
     "text": [
      "['Name', 'email_id', 'mobile_no']\n",
      "['Gaurang', 'gaurang@gmail.com', '9856214589']\n",
      "['goving', 'govind@gmail.com', '6523189537']\n",
      "['madhav', 'govind@gmail.com', '9535486825']\n"
     ]
    }
   ],
   "source": [
    "with open(\"data.csv\",'r')as f:\n",
    "    read_data = csv.reader(f)\n",
    "    \n",
    "    for i in read_data:\n",
    "        print(i)"
   ]
  },
  {
   "cell_type": "code",
   "execution_count": 32,
   "id": "b063382c-c5ba-4719-8776-ed203bf4ca7e",
   "metadata": {},
   "outputs": [],
   "source": [
    "with open(\"text1.bin\",'wb')as f:\n",
    "    f.write(b\"\\x01\\x02\\x03\\x04\\x64168547\")"
   ]
  },
  {
   "cell_type": "code",
   "execution_count": 34,
   "id": "0b35a01b-35f4-490e-a366-e6fa3b3f7e5f",
   "metadata": {},
   "outputs": [
    {
     "name": "stdout",
     "output_type": "stream",
     "text": [
      "b'\\x01\\x02\\x03\\x04d168547'\n"
     ]
    }
   ],
   "source": [
    "with open(\"text1.bin\",'rb')as f:\n",
    "    print(f.read())"
   ]
  },
  {
   "cell_type": "code",
   "execution_count": null,
   "id": "674abb99-8759-47ad-85dc-3e9c42f25274",
   "metadata": {},
   "outputs": [],
   "source": []
  }
 ],
 "metadata": {
  "kernelspec": {
   "display_name": "Python 3 (ipykernel)",
   "language": "python",
   "name": "python3"
  },
  "language_info": {
   "codemirror_mode": {
    "name": "ipython",
    "version": 3
   },
   "file_extension": ".py",
   "mimetype": "text/x-python",
   "name": "python",
   "nbconvert_exporter": "python",
   "pygments_lexer": "ipython3",
   "version": "3.10.8"
  }
 },
 "nbformat": 4,
 "nbformat_minor": 5
}
