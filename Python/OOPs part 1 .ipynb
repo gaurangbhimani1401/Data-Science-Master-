{
 "cells": [
  {
   "cell_type": "markdown",
   "id": "88167b0b-81b2-4f1d-a0bd-270f7534eb73",
   "metadata": {},
   "source": [
    "Object Oriented Programing language"
   ]
  },
  {
   "cell_type": "code",
   "execution_count": 1,
   "id": "87212605-3246-47a6-a923-1c557f44974a",
   "metadata": {},
   "outputs": [],
   "source": [
    "a = 1"
   ]
  },
  {
   "cell_type": "code",
   "execution_count": 2,
   "id": "52e4c487-e893-4f75-8777-4cc122a17665",
   "metadata": {},
   "outputs": [
    {
     "name": "stdout",
     "output_type": "stream",
     "text": [
      "<class 'int'>\n"
     ]
    }
   ],
   "source": [
    "print(type(a))"
   ]
  },
  {
   "cell_type": "code",
   "execution_count": 3,
   "id": "4d848e2e-f30f-4f0d-bca9-1b102325f323",
   "metadata": {},
   "outputs": [
    {
     "name": "stdout",
     "output_type": "stream",
     "text": [
      "<class 'str'>\n"
     ]
    }
   ],
   "source": [
    "print(type(\"gaurang\"))"
   ]
  },
  {
   "cell_type": "code",
   "execution_count": 6,
   "id": "7be323c9-f28d-47cd-8ca2-456fbf11d2e3",
   "metadata": {},
   "outputs": [],
   "source": [
    "class text:\n",
    "    pass"
   ]
  },
  {
   "cell_type": "code",
   "execution_count": 8,
   "id": "82ade5e0-ce96-4afb-8cc4-ab7428eab6c2",
   "metadata": {},
   "outputs": [],
   "source": [
    "a = text()"
   ]
  },
  {
   "cell_type": "code",
   "execution_count": 10,
   "id": "65087039-c44d-46e8-9e4b-e5e7ab31a901",
   "metadata": {},
   "outputs": [
    {
     "data": {
      "text/plain": [
       "__main__.text"
      ]
     },
     "execution_count": 10,
     "metadata": {},
     "output_type": "execute_result"
    }
   ],
   "source": [
    "type(a)"
   ]
  },
  {
   "cell_type": "code",
   "execution_count": 11,
   "id": "04c023bf-607c-4376-b9f5-b74b10dec68d",
   "metadata": {},
   "outputs": [
    {
     "name": "stdout",
     "output_type": "stream",
     "text": [
      "<class '__main__.text'>\n"
     ]
    }
   ],
   "source": [
    "print(type(a))"
   ]
  },
  {
   "cell_type": "code",
   "execution_count": 16,
   "id": "8ecb6baa-fcd0-46d4-9a02-d9583684d661",
   "metadata": {},
   "outputs": [],
   "source": [
    "class cloudus :\n",
    "    def welcome_message(self):\n",
    "        print('welcome to cloudus') "
   ]
  },
  {
   "cell_type": "code",
   "execution_count": 17,
   "id": "976b7ac4-ec47-44e0-b4ac-ebdc4c9e3d68",
   "metadata": {},
   "outputs": [],
   "source": [
    "gaurang = cloudus()"
   ]
  },
  {
   "cell_type": "code",
   "execution_count": 18,
   "id": "751c6d2f-054b-4b68-a3cc-94abb78b9c54",
   "metadata": {},
   "outputs": [
    {
     "name": "stdout",
     "output_type": "stream",
     "text": [
      "<class '__main__.cloudus'>\n"
     ]
    }
   ],
   "source": [
    "print(type(gaurang))"
   ]
  },
  {
   "cell_type": "code",
   "execution_count": 19,
   "id": "5efa311b-65e8-4877-8a01-93faa4978df8",
   "metadata": {},
   "outputs": [
    {
     "name": "stdout",
     "output_type": "stream",
     "text": [
      "welcome to cloudus\n"
     ]
    }
   ],
   "source": [
    "gaurang.welcome_message()"
   ]
  },
  {
   "cell_type": "code",
   "execution_count": 20,
   "id": "b13570bb-161c-4b63-969c-7c9812fd53c6",
   "metadata": {},
   "outputs": [],
   "source": [
    "amit = cloudus()"
   ]
  },
  {
   "cell_type": "code",
   "execution_count": 21,
   "id": "d50a25a0-f54b-41a2-ae30-57543598efdc",
   "metadata": {},
   "outputs": [
    {
     "name": "stdout",
     "output_type": "stream",
     "text": [
      "welcome to cloudus\n"
     ]
    }
   ],
   "source": [
    "amit.welcome_message()"
   ]
  },
  {
   "cell_type": "code",
   "execution_count": 22,
   "id": "f645da7a-6faf-4e41-a78e-f4e6b7c9ab41",
   "metadata": {},
   "outputs": [],
   "source": [
    "class cloudusinfo:\n",
    "    \n",
    "    def __init__(self, p_no , email , dev_id):\n",
    "        self.p_no = p_no\n",
    "        self.email = email\n",
    "        self.dev_id = dev_id\n",
    "        \n",
    "    def return_dev_detail(self):\n",
    "        return self.dev_id,self.p_no,self.email"
   ]
  },
  {
   "cell_type": "code",
   "execution_count": 23,
   "id": "fd4aa600-290e-442e-bfb0-52cf55d59e76",
   "metadata": {},
   "outputs": [
    {
     "ename": "TypeError",
     "evalue": "cloudusinfo.__init__() missing 3 required positional arguments: 'p_no', 'email', and 'dev_id'",
     "output_type": "error",
     "traceback": [
      "\u001b[0;31m---------------------------------------------------------------------------\u001b[0m",
      "\u001b[0;31mTypeError\u001b[0m                                 Traceback (most recent call last)",
      "Cell \u001b[0;32mIn[23], line 1\u001b[0m\n\u001b[0;32m----> 1\u001b[0m gaurang \u001b[38;5;241m=\u001b[39m \u001b[43mcloudusinfo\u001b[49m\u001b[43m(\u001b[49m\u001b[43m)\u001b[49m\n",
      "\u001b[0;31mTypeError\u001b[0m: cloudusinfo.__init__() missing 3 required positional arguments: 'p_no', 'email', and 'dev_id'"
     ]
    }
   ],
   "source": [
    "gaurang = cloudusinfo()"
   ]
  },
  {
   "cell_type": "code",
   "execution_count": 24,
   "id": "61e2c70a-05dc-4a9a-9f47-2e50c55502c9",
   "metadata": {},
   "outputs": [],
   "source": [
    "gaurang = cloudusinfo(8866841201,\"gaurang@gmail.com\",101)"
   ]
  },
  {
   "cell_type": "code",
   "execution_count": 27,
   "id": "232d29a7-8c56-45d2-81da-616ecac55779",
   "metadata": {},
   "outputs": [
    {
     "data": {
      "text/plain": [
       "<bound method cloudusinfo.return_dev_detail of <__main__.cloudusinfo object at 0x7fccadb546a0>>"
      ]
     },
     "execution_count": 27,
     "metadata": {},
     "output_type": "execute_result"
    }
   ],
   "source": [
    "gaurang.return_dev_detail"
   ]
  },
  {
   "cell_type": "code",
   "execution_count": 28,
   "id": "d4099517-8590-412a-9953-dfe6994c84f3",
   "metadata": {},
   "outputs": [
    {
     "data": {
      "text/plain": [
       "(101, 8866841201, 'gaurang@gmail.com')"
      ]
     },
     "execution_count": 28,
     "metadata": {},
     "output_type": "execute_result"
    }
   ],
   "source": [
    "gaurang.return_dev_detail()"
   ]
  },
  {
   "cell_type": "code",
   "execution_count": 29,
   "id": "77adfea0-d65d-4544-96fe-9e8662592566",
   "metadata": {},
   "outputs": [],
   "source": [
    "amit = cloudusinfo(982545789,\"amit@gmail.com\",102)"
   ]
  },
  {
   "cell_type": "code",
   "execution_count": 30,
   "id": "6d7d6b39-189a-4903-8775-501e6b44f390",
   "metadata": {},
   "outputs": [
    {
     "data": {
      "text/plain": [
       "(102, 982545789, 'amit@gmail.com')"
      ]
     },
     "execution_count": 30,
     "metadata": {},
     "output_type": "execute_result"
    }
   ],
   "source": [
    "amit.return_dev_detail()"
   ]
  },
  {
   "cell_type": "code",
   "execution_count": 39,
   "id": "2d6faef6-6027-4c3f-9cf4-e22a1ca6b16f",
   "metadata": {},
   "outputs": [],
   "source": [
    "class cloudusinfotech:\n",
    "    \n",
    "    def __init__(self, p_no , email , dev_id):\n",
    "        self.p_no1 = p_no\n",
    "        self.email1 = email\n",
    "        self.dev_id1 = dev_id\n",
    "        \n",
    "    def return_dev_detail(self):\n",
    "        return self.dev_id1,self.p_no1,self.email1"
   ]
  },
  {
   "cell_type": "code",
   "execution_count": 40,
   "id": "bb7873b1-a079-4150-a367-3ce17a7ce243",
   "metadata": {},
   "outputs": [],
   "source": [
    "mohan = cloudusinfotech(32165498789,\"mohan@gmail.com\",103)"
   ]
  },
  {
   "cell_type": "code",
   "execution_count": 41,
   "id": "82e9eda9-1d3a-4f68-951a-1a9d9b13d57f",
   "metadata": {},
   "outputs": [
    {
     "data": {
      "text/plain": [
       "(103, 32165498789, 'mohan@gmail.com')"
      ]
     },
     "execution_count": 41,
     "metadata": {},
     "output_type": "execute_result"
    }
   ],
   "source": [
    "mohan.return_dev_detail()"
   ]
  },
  {
   "cell_type": "code",
   "execution_count": 44,
   "id": "40145350-5b1e-445a-86a9-61700e1e924c",
   "metadata": {},
   "outputs": [
    {
     "data": {
      "text/plain": [
       "'gaurang@gmail.com'"
      ]
     },
     "execution_count": 44,
     "metadata": {},
     "output_type": "execute_result"
    }
   ],
   "source": [
    "gaurang.email"
   ]
  },
  {
   "cell_type": "code",
   "execution_count": 45,
   "id": "90fa0b98-e795-4c96-b62b-2e82d93a6dec",
   "metadata": {},
   "outputs": [
    {
     "data": {
      "text/plain": [
       "8866841201"
      ]
     },
     "execution_count": 45,
     "metadata": {},
     "output_type": "execute_result"
    }
   ],
   "source": [
    "gaurang.p_no"
   ]
  },
  {
   "cell_type": "code",
   "execution_count": 47,
   "id": "15608384-f651-4098-9f53-dde5838356f8",
   "metadata": {},
   "outputs": [
    {
     "data": {
      "text/plain": [
       "32165498789"
      ]
     },
     "execution_count": 47,
     "metadata": {},
     "output_type": "execute_result"
    }
   ],
   "source": [
    "mohan.p_no1"
   ]
  },
  {
   "cell_type": "code",
   "execution_count": null,
   "id": "67b6cbbe-6570-4e66-b7cf-286d44fcc567",
   "metadata": {},
   "outputs": [],
   "source": []
  }
 ],
 "metadata": {
  "kernelspec": {
   "display_name": "Python 3 (ipykernel)",
   "language": "python",
   "name": "python3"
  },
  "language_info": {
   "codemirror_mode": {
    "name": "ipython",
    "version": 3
   },
   "file_extension": ".py",
   "mimetype": "text/x-python",
   "name": "python",
   "nbconvert_exporter": "python",
   "pygments_lexer": "ipython3",
   "version": "3.10.8"
  }
 },
 "nbformat": 4,
 "nbformat_minor": 5
}
