{
 "cells": [
  {
   "cell_type": "code",
   "execution_count": 5,
   "id": "618d2f75-1060-4483-af2e-5e3caaa3beca",
   "metadata": {},
   "outputs": [
    {
     "name": "stdout",
     "output_type": "stream",
     "text": [
      "a is greater then 10\n"
     ]
    }
   ],
   "source": [
    "a = 10\n",
    "if a >= 10:\n",
    "    print(\"a is greater then 10\")"
   ]
  },
  {
   "cell_type": "code",
   "execution_count": 7,
   "id": "1d5674ab-070f-4d11-b92c-fe1ec96f95a1",
   "metadata": {},
   "outputs": [
    {
     "name": "stdout",
     "output_type": "stream",
     "text": [
      "a is less then 10\n"
     ]
    }
   ],
   "source": [
    "a = 5\n",
    "if a < 10:\n",
    "    print(\"a is less then 10\")"
   ]
  },
  {
   "cell_type": "code",
   "execution_count": 1,
   "id": "30c4a91d-0b13-49d0-95f9-7afed4d4a885",
   "metadata": {},
   "outputs": [
    {
     "name": "stdin",
     "output_type": "stream",
     "text": [
      "enter the number 10\n"
     ]
    },
    {
     "name": "stdout",
     "output_type": "stream",
     "text": [
      "this is default\n"
     ]
    }
   ],
   "source": [
    "a = int(input(\"enter the number\"))\n",
    "if a > 10:\n",
    "    print(\"a is greater then 10\")\n",
    "elif a < 10:\n",
    "    print(\"a is less then 10\")\n",
    "else:\n",
    "    print(\"this is default\")"
   ]
  },
  {
   "cell_type": "code",
   "execution_count": 6,
   "id": "4e6adb2f-e175-4287-b6f5-3f83ce10864b",
   "metadata": {},
   "outputs": [
    {
     "name": "stdout",
     "output_type": "stream",
     "text": [
      "1\n",
      "2\n",
      "3\n",
      "4\n",
      "code run sucessfully\n"
     ]
    }
   ],
   "source": [
    "i = 1\n",
    "n = 5\n",
    "\n",
    "while i < n :\n",
    "    print(i)\n",
    "    i = i+1\n",
    "    if i == 3:\n",
    "        continue\n",
    "else :\n",
    "    print(\"code run sucessfully\")\n"
   ]
  },
  {
   "cell_type": "code",
   "execution_count": 10,
   "id": "5c464c6b-07dc-409a-8066-599efe1f3f9d",
   "metadata": {},
   "outputs": [
    {
     "name": "stdout",
     "output_type": "stream",
     "text": [
      "G\n",
      "a\n",
      "u\n",
      "r\n",
      "a\n",
      "n\n",
      "g\n"
     ]
    }
   ],
   "source": [
    "a = \"Gaurang\"\n",
    "for i in a:\n",
    "    print(i)"
   ]
  },
  {
   "cell_type": "code",
   "execution_count": 13,
   "id": "7aa39d7c-79f5-47e2-9b14-9c9d73ab7379",
   "metadata": {},
   "outputs": [
    {
     "name": "stdout",
     "output_type": "stream",
     "text": [
      "12\n",
      "<class 'int'>\n",
      "54\n",
      "<class 'int'>\n",
      "76\n",
      "<class 'int'>\n",
      "asd\n",
      "<class 'str'>\n",
      "dfhg\n",
      "<class 'str'>\n",
      "534\n",
      "<class 'int'>\n",
      "34.43\n",
      "<class 'float'>\n",
      "True\n",
      "<class 'bool'>\n",
      "False\n",
      "<class 'bool'>\n",
      "(12+2j)\n",
      "<class 'complex'>\n",
      "this will execute after the for loop is execute sucessfully\n"
     ]
    }
   ],
   "source": [
    "l = [12,54,76,\"asd\",\"dfhg\",534,87,34.43,True,False,12 + 2j]\n",
    "\n",
    "for i in l:\n",
    "    print(i)\n",
    "    print((type(i)))\n",
    "else:\n",
    "    print(\"this will execute after the for loop is execute sucessfully\")"
   ]
  },
  {
   "cell_type": "code",
   "execution_count": 15,
   "id": "d9bf61d0-0b2f-4e90-b97a-d359c64f7fb8",
   "metadata": {},
   "outputs": [
    {
     "name": "stdout",
     "output_type": "stream",
     "text": [
      "12\n",
      "<class 'int'>\n",
      "54\n",
      "<class 'int'>\n",
      "76\n",
      "<class 'int'>\n",
      "asd\n",
      "<class 'str'>\n",
      "dfhg\n",
      "<class 'str'>\n",
      "534\n",
      "<class 'int'>\n",
      "34.43\n",
      "<class 'float'>\n",
      "True\n",
      "<class 'bool'>\n",
      "False\n",
      "<class 'bool'>\n",
      "(12+2j)\n",
      "<class 'complex'>\n",
      "this will execute after the for loop is execute sucessfully\n"
     ]
    }
   ],
   "source": [
    "l = [12,54,76,\"asd\",\"dfhg\",534,87,34.43,True,False,12 + 2j]\n",
    "\n",
    "for i in l:\n",
    "    if i == 87:\n",
    "        continue\n",
    "    print(i)\n",
    "    print((type(i)))\n",
    "else:\n",
    "    print(\"this will execute after the for loop is execute sucessfully\")"
   ]
  },
  {
   "cell_type": "code",
   "execution_count": 5,
   "id": "b1a8e811-b85a-4ea6-9d7c-6e3c9bde72a9",
   "metadata": {},
   "outputs": [
    {
     "data": {
      "text/plain": [
       "[0, 1, 2, 3, 4, 5, 6, 7, 8, 9]"
      ]
     },
     "execution_count": 5,
     "metadata": {},
     "output_type": "execute_result"
    }
   ],
   "source": [
    "list(range(10))"
   ]
  },
  {
   "cell_type": "code",
   "execution_count": 3,
   "id": "c6674c06-2648-4d6e-a0ac-2289423a22b6",
   "metadata": {},
   "outputs": [
    {
     "name": "stdin",
     "output_type": "stream",
     "text": [
      "enter the price 1001\n"
     ]
    },
    {
     "name": "stdout",
     "output_type": "stream",
     "text": [
      "I will not purchase\n"
     ]
    }
   ],
   "source": [
    "price = int(input(\"enter the price\"))\n",
    "if price > 1000:\n",
    "    print(\"I will not purchase\")\n",
    "    \n",
    "else:\n",
    "    print(\"I will purchase\")"
   ]
  },
  {
   "cell_type": "code",
   "execution_count": 6,
   "id": "c47e594d-ed40-4b7a-a31f-e6826b591a82",
   "metadata": {},
   "outputs": [],
   "source": [
    "l = [1,2,3,4,5,6,7,8,9]"
   ]
  },
  {
   "cell_type": "code",
   "execution_count": 10,
   "id": "1ef4c6eb-3008-44bb-a659-eaf11acb8c24",
   "metadata": {},
   "outputs": [
    {
     "name": "stdout",
     "output_type": "stream",
     "text": [
      "2\n",
      "3\n",
      "4\n",
      "5\n",
      "6\n",
      "7\n",
      "8\n",
      "9\n",
      "10\n"
     ]
    },
    {
     "data": {
      "text/plain": [
       "[2, 3, 4, 5, 6, 7, 8, 9, 10]"
      ]
     },
     "execution_count": 10,
     "metadata": {},
     "output_type": "execute_result"
    }
   ],
   "source": [
    "l1 = []\n",
    "for i in l:\n",
    "    print(i+1)\n",
    "    l1.append(i+1)\n",
    "l1"
   ]
  },
  {
   "cell_type": "code",
   "execution_count": 26,
   "id": "98242616-b10d-439b-91ee-2135bf343135",
   "metadata": {},
   "outputs": [],
   "source": [
    "l2 = [23,43,64,35,\"gaurang\",\"hello\",\"world\",43,53,64,24.32]"
   ]
  },
  {
   "cell_type": "code",
   "execution_count": 27,
   "id": "0985c446-b554-4211-80e4-b5935c9b4ff4",
   "metadata": {},
   "outputs": [
    {
     "data": {
      "text/plain": [
       "[23, 43, 64, 35, 'gaurang', 'hello', 'world', 43, 53, 64, 24.32]"
      ]
     },
     "execution_count": 27,
     "metadata": {},
     "output_type": "execute_result"
    }
   ],
   "source": [
    "l2"
   ]
  },
  {
   "cell_type": "code",
   "execution_count": 28,
   "id": "baadee86-0e95-4596-aa0a-09d1546a349a",
   "metadata": {},
   "outputs": [
    {
     "data": {
      "text/plain": [
       "['gaurang', 'hello', 'world']"
      ]
     },
     "execution_count": 28,
     "metadata": {},
     "output_type": "execute_result"
    }
   ],
   "source": [
    "num = []\n",
    "string = []\n",
    "\n",
    "for i in l2:\n",
    "    if type(i) == int or type(i) == float:\n",
    "        num.append(i)\n",
    "    else:\n",
    "        string.append(i)  \n",
    "    \n",
    "num\n",
    "string"
   ]
  },
  {
   "cell_type": "code",
   "execution_count": 29,
   "id": "21fb44fc-3510-4240-b2c1-033127c97103",
   "metadata": {},
   "outputs": [
    {
     "data": {
      "text/plain": [
       "[23, 43, 64, 35, 43, 53, 64, 24.32]"
      ]
     },
     "execution_count": 29,
     "metadata": {},
     "output_type": "execute_result"
    }
   ],
   "source": [
    "num"
   ]
  },
  {
   "cell_type": "code",
   "execution_count": 30,
   "id": "a566cf8b-0596-4b9b-b5dc-9efb3b15e3c0",
   "metadata": {},
   "outputs": [
    {
     "data": {
      "text/plain": [
       "['gaurang', 'hello', 'world']"
      ]
     },
     "execution_count": 30,
     "metadata": {},
     "output_type": "execute_result"
    }
   ],
   "source": [
    "string"
   ]
  },
  {
   "cell_type": "code",
   "execution_count": null,
   "id": "d6c8fdb9-bd62-4e7d-b9a0-590ae6e03399",
   "metadata": {},
   "outputs": [],
   "source": []
  }
 ],
 "metadata": {
  "kernelspec": {
   "display_name": "Python 3 (ipykernel)",
   "language": "python",
   "name": "python3"
  },
  "language_info": {
   "codemirror_mode": {
    "name": "ipython",
    "version": 3
   },
   "file_extension": ".py",
   "mimetype": "text/x-python",
   "name": "python",
   "nbconvert_exporter": "python",
   "pygments_lexer": "ipython3",
   "version": "3.10.8"
  }
 },
 "nbformat": 4,
 "nbformat_minor": 5
}
