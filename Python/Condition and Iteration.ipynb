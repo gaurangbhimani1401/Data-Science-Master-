{
 "cells": [
  {
   "cell_type": "code",
   "execution_count": 5,
   "id": "618d2f75-1060-4483-af2e-5e3caaa3beca",
   "metadata": {},
   "outputs": [
    {
     "name": "stdout",
     "output_type": "stream",
     "text": [
      "a is greater then 10\n"
     ]
    }
   ],
   "source": [
    "a = 10\n",
    "if a >= 10:\n",
    "    print(\"a is greater then 10\")"
   ]
  },
  {
   "cell_type": "code",
   "execution_count": 7,
   "id": "1d5674ab-070f-4d11-b92c-fe1ec96f95a1",
   "metadata": {},
   "outputs": [
    {
     "name": "stdout",
     "output_type": "stream",
     "text": [
      "a is less then 10\n"
     ]
    }
   ],
   "source": [
    "a = 5\n",
    "if a < 10:\n",
    "    print(\"a is less then 10\")"
   ]
  },
  {
   "cell_type": "code",
   "execution_count": 1,
   "id": "30c4a91d-0b13-49d0-95f9-7afed4d4a885",
   "metadata": {},
   "outputs": [
    {
     "name": "stdin",
     "output_type": "stream",
     "text": [
      "enter the number 10\n"
     ]
    },
    {
     "name": "stdout",
     "output_type": "stream",
     "text": [
      "this is default\n"
     ]
    }
   ],
   "source": [
    "a = int(input(\"enter the number\"))\n",
    "if a > 10:\n",
    "    print(\"a is greater then 10\")\n",
    "elif a < 10:\n",
    "    print(\"a is less then 10\")\n",
    "else:\n",
    "    print(\"this is default\")"
   ]
  },
  {
   "cell_type": "code",
   "execution_count": 6,
   "id": "4e6adb2f-e175-4287-b6f5-3f83ce10864b",
   "metadata": {},
   "outputs": [
    {
     "name": "stdout",
     "output_type": "stream",
     "text": [
      "1\n",
      "2\n",
      "3\n",
      "4\n",
      "code run sucessfully\n"
     ]
    }
   ],
   "source": [
    "i = 1\n",
    "n = 5\n",
    "\n",
    "while i < n :\n",
    "    print(i)\n",
    "    i = i+1\n",
    "    if i == 3:\n",
    "        continue\n",
    "else :\n",
    "    print(\"code run sucessfully\")\n"
   ]
  },
  {
   "cell_type": "code",
   "execution_count": 10,
   "id": "5c464c6b-07dc-409a-8066-599efe1f3f9d",
   "metadata": {},
   "outputs": [
    {
     "name": "stdout",
     "output_type": "stream",
     "text": [
      "G\n",
      "a\n",
      "u\n",
      "r\n",
      "a\n",
      "n\n",
      "g\n"
     ]
    }
   ],
   "source": [
    "a = \"Gaurang\"\n",
    "for i in a:\n",
    "    print(i)"
   ]
  },
  {
   "cell_type": "code",
   "execution_count": 13,
   "id": "7aa39d7c-79f5-47e2-9b14-9c9d73ab7379",
   "metadata": {},
   "outputs": [
    {
     "name": "stdout",
     "output_type": "stream",
     "text": [
      "12\n",
      "<class 'int'>\n",
      "54\n",
      "<class 'int'>\n",
      "76\n",
      "<class 'int'>\n",
      "asd\n",
      "<class 'str'>\n",
      "dfhg\n",
      "<class 'str'>\n",
      "534\n",
      "<class 'int'>\n",
      "34.43\n",
      "<class 'float'>\n",
      "True\n",
      "<class 'bool'>\n",
      "False\n",
      "<class 'bool'>\n",
      "(12+2j)\n",
      "<class 'complex'>\n",
      "this will execute after the for loop is execute sucessfully\n"
     ]
    }
   ],
   "source": [
    "l = [12,54,76,\"asd\",\"dfhg\",534,87,34.43,True,False,12 + 2j]\n",
    "\n",
    "for i in l:\n",
    "    print(i)\n",
    "    print((type(i)))\n",
    "else:\n",
    "    print(\"this will execute after the for loop is execute sucessfully\")"
   ]
  },
  {
   "cell_type": "code",
   "execution_count": 15,
   "id": "d9bf61d0-0b2f-4e90-b97a-d359c64f7fb8",
   "metadata": {},
   "outputs": [
    {
     "name": "stdout",
     "output_type": "stream",
     "text": [
      "12\n",
      "<class 'int'>\n",
      "54\n",
      "<class 'int'>\n",
      "76\n",
      "<class 'int'>\n",
      "asd\n",
      "<class 'str'>\n",
      "dfhg\n",
      "<class 'str'>\n",
      "534\n",
      "<class 'int'>\n",
      "34.43\n",
      "<class 'float'>\n",
      "True\n",
      "<class 'bool'>\n",
      "False\n",
      "<class 'bool'>\n",
      "(12+2j)\n",
      "<class 'complex'>\n",
      "this will execute after the for loop is execute sucessfully\n"
     ]
    }
   ],
   "source": [
    "l = [12,54,76,\"asd\",\"dfhg\",534,87,34.43,True,False,12 + 2j]\n",
    "\n",
    "for i in l:\n",
    "    if i == 87:\n",
    "        continue\n",
    "    print(i)\n",
    "    print((type(i)))\n",
    "else:\n",
    "    print(\"this will execute after the for loop is execute sucessfully\")"
   ]
  },
  {
   "cell_type": "code",
   "execution_count": 5,
   "id": "b1a8e811-b85a-4ea6-9d7c-6e3c9bde72a9",
   "metadata": {},
   "outputs": [
    {
     "data": {
      "text/plain": [
       "[0, 1, 2, 3, 4, 5, 6, 7, 8, 9]"
      ]
     },
     "execution_count": 5,
     "metadata": {},
     "output_type": "execute_result"
    }
   ],
   "source": [
    "list(range(10))"
   ]
  },
  {
   "cell_type": "code",
   "execution_count": 3,
   "id": "c6674c06-2648-4d6e-a0ac-2289423a22b6",
   "metadata": {},
   "outputs": [
    {
     "name": "stdin",
     "output_type": "stream",
     "text": [
      "enter the price 1001\n"
     ]
    },
    {
     "name": "stdout",
     "output_type": "stream",
     "text": [
      "I will not purchase\n"
     ]
    }
   ],
   "source": [
    "price = int(input(\"enter the price\"))\n",
    "if price > 1000:\n",
    "    print(\"I will not purchase\")\n",
    "    \n",
    "else:\n",
    "    print(\"I will purchase\")"
   ]
  },
  {
   "cell_type": "code",
   "execution_count": 6,
   "id": "c47e594d-ed40-4b7a-a31f-e6826b591a82",
   "metadata": {},
   "outputs": [],
   "source": [
    "l = [1,2,3,4,5,6,7,8,9]"
   ]
  },
  {
   "cell_type": "code",
   "execution_count": 10,
   "id": "1ef4c6eb-3008-44bb-a659-eaf11acb8c24",
   "metadata": {},
   "outputs": [
    {
     "name": "stdout",
     "output_type": "stream",
     "text": [
      "2\n",
      "3\n",
      "4\n",
      "5\n",
      "6\n",
      "7\n",
      "8\n",
      "9\n",
      "10\n"
     ]
    },
    {
     "data": {
      "text/plain": [
       "[2, 3, 4, 5, 6, 7, 8, 9, 10]"
      ]
     },
     "execution_count": 10,
     "metadata": {},
     "output_type": "execute_result"
    }
   ],
   "source": [
    "l1 = []\n",
    "for i in l:\n",
    "    print(i+1)\n",
    "    l1.append(i+1)\n",
    "l1"
   ]
  },
  {
   "cell_type": "code",
   "execution_count": 26,
   "id": "98242616-b10d-439b-91ee-2135bf343135",
   "metadata": {},
   "outputs": [],
   "source": [
    "l2 = [23,43,64,35,\"gaurang\",\"hello\",\"world\",43,53,64,24.32]"
   ]
  },
  {
   "cell_type": "code",
   "execution_count": 27,
   "id": "0985c446-b554-4211-80e4-b5935c9b4ff4",
   "metadata": {},
   "outputs": [
    {
     "data": {
      "text/plain": [
       "[23, 43, 64, 35, 'gaurang', 'hello', 'world', 43, 53, 64, 24.32]"
      ]
     },
     "execution_count": 27,
     "metadata": {},
     "output_type": "execute_result"
    }
   ],
   "source": [
    "l2"
   ]
  },
  {
   "cell_type": "code",
   "execution_count": 28,
   "id": "baadee86-0e95-4596-aa0a-09d1546a349a",
   "metadata": {},
   "outputs": [
    {
     "data": {
      "text/plain": [
       "['gaurang', 'hello', 'world']"
      ]
     },
     "execution_count": 28,
     "metadata": {},
     "output_type": "execute_result"
    }
   ],
   "source": [
    "num = []\n",
    "string = []\n",
    "\n",
    "for i in l2:\n",
    "    if type(i) == int or type(i) == float:\n",
    "        num.append(i)\n",
    "    else:\n",
    "        string.append(i)  \n",
    "    \n",
    "num\n",
    "string"
   ]
  },
  {
   "cell_type": "code",
   "execution_count": 29,
   "id": "21fb44fc-3510-4240-b2c1-033127c97103",
   "metadata": {},
   "outputs": [
    {
     "data": {
      "text/plain": [
       "[23, 43, 64, 35, 43, 53, 64, 24.32]"
      ]
     },
     "execution_count": 29,
     "metadata": {},
     "output_type": "execute_result"
    }
   ],
   "source": [
    "num"
   ]
  },
  {
   "cell_type": "code",
   "execution_count": 30,
   "id": "a566cf8b-0596-4b9b-b5dc-9efb3b15e3c0",
   "metadata": {},
   "outputs": [
    {
     "data": {
      "text/plain": [
       "['gaurang', 'hello', 'world']"
      ]
     },
     "execution_count": 30,
     "metadata": {},
     "output_type": "execute_result"
    }
   ],
   "source": [
    "string"
   ]
  },
  {
   "cell_type": "code",
   "execution_count": 31,
   "id": "d6c8fdb9-bd62-4e7d-b9a0-590ae6e03399",
   "metadata": {},
   "outputs": [
    {
     "data": {
      "text/plain": [
       "1"
      ]
     },
     "execution_count": 31,
     "metadata": {},
     "output_type": "execute_result"
    }
   ],
   "source": [
    "10 % 3"
   ]
  },
  {
   "cell_type": "markdown",
   "id": "e24b9ab1-d6b7-45aa-9f7a-f4b99dac17b0",
   "metadata": {},
   "source": [
    "Student Data base\n",
    "\n",
    "Student_id\n",
    "Gender - Department - Marks - Final_marks - backlog"
   ]
  },
  {
   "cell_type": "code",
   "execution_count": 1,
   "id": "d0dec56c-3e06-4941-8e83-132dcf359c91",
   "metadata": {},
   "outputs": [],
   "source": [
    "student_id = ['s01','so2','s03','s04','s05']\n",
    "gender = ['m','f','f','m','f']\n",
    "department = ['BCA','MCA','BBA','MBA','Data scientist']\n",
    "marks = [65.84,45,26.45,87,95.25]\n",
    "final_marks = [650,650,680,320,760]\n",
    "backlog = ['B','B','NB','NB','NB']"
   ]
  },
  {
   "cell_type": "markdown",
   "id": "a8bf8672-f7b9-4e92-875d-dbaa427d6b1f",
   "metadata": {},
   "source": [
    "if student get more than 70 in their sesional increse theor total marks bu 2% "
   ]
  },
  {
   "cell_type": "code",
   "execution_count": 2,
   "id": "7d3f0c69-6b72-4334-bdf0-4ec1d1c49ba4",
   "metadata": {},
   "outputs": [
    {
     "name": "stdout",
     "output_type": "stream",
     "text": [
      "There is no change\n",
      "There is no change\n",
      "There is no change\n"
     ]
    }
   ],
   "source": [
    "for i in range(len(student_id)):\n",
    "        if marks[i] > 70:\n",
    "            final_marks[i] = final_marks[i] +(final_marks[i] * 0.02)\n",
    "        else:\n",
    "            print(\"There is no change\") "
   ]
  },
  {
   "cell_type": "code",
   "execution_count": null,
   "id": "b70622e9-efd2-4fb0-b4f3-0de76e86d515",
   "metadata": {},
   "outputs": [],
   "source": []
  },
  {
   "cell_type": "markdown",
   "id": "3ce29106-d715-43a5-b107-9067b64581c8",
   "metadata": {},
   "source": [
    "s01,s04 getupdated backlog notic  s01 = backlog ,s04 = Backlog "
   ]
  },
  {
   "cell_type": "code",
   "execution_count": 3,
   "id": "4d345c8b-cfe2-46e0-a418-935a40c985c5",
   "metadata": {},
   "outputs": [],
   "source": [
    "update_student = ['s01', 's04']\n",
    "\n",
    "for i in range(len(student_id)):\n",
    "    if student_id[i] in update_student:\n",
    "        backlog[i] = 'B'"
   ]
  },
  {
   "cell_type": "code",
   "execution_count": 4,
   "id": "7744e056-3629-48a3-a836-1ac05a2f8ff9",
   "metadata": {},
   "outputs": [
    {
     "data": {
      "text/plain": [
       "['B', 'B', 'NB', 'B', 'NB']"
      ]
     },
     "execution_count": 4,
     "metadata": {},
     "output_type": "execute_result"
    }
   ],
   "source": [
    "backlog"
   ]
  },
  {
   "cell_type": "markdown",
   "id": "486d4fcf-2775-4e79-952b-d31d972a995c",
   "metadata": {},
   "source": [
    "if student total marks is > 750 and they nave no backlof they get high achiver scolarship then if a student has no backlog and has marks 650 and 700 they will get achiver scolarship"
   ]
  },
  {
   "cell_type": "code",
   "execution_count": 5,
   "id": "f890dda1-f864-4da3-b772-6d3295eeda97",
   "metadata": {},
   "outputs": [],
   "source": [
    "scolarship = [\"no scolarship\" for _ in range(len(student_id))]\n"
   ]
  },
  {
   "cell_type": "code",
   "execution_count": 6,
   "id": "a926ba62-13a2-472d-a29e-9887b8401772",
   "metadata": {},
   "outputs": [
    {
     "data": {
      "text/plain": [
       "['no scolarship',\n",
       " 'no scolarship',\n",
       " 'no scolarship',\n",
       " 'no scolarship',\n",
       " 'no scolarship']"
      ]
     },
     "execution_count": 6,
     "metadata": {},
     "output_type": "execute_result"
    }
   ],
   "source": [
    "scolarship"
   ]
  },
  {
   "cell_type": "code",
   "execution_count": 7,
   "id": "16218cc9-bf1a-4b79-acd4-e2661dae7826",
   "metadata": {},
   "outputs": [],
   "source": [
    "scolarship = []\n",
    "for _ in range(len(student_id)):\n",
    "    scolarship.append('no scolarshhip')"
   ]
  },
  {
   "cell_type": "code",
   "execution_count": 8,
   "id": "bafedf80-f3d9-4b5e-b96e-12791a0fd927",
   "metadata": {},
   "outputs": [
    {
     "data": {
      "text/plain": [
       "['no scolarshhip',\n",
       " 'no scolarshhip',\n",
       " 'no scolarshhip',\n",
       " 'no scolarshhip',\n",
       " 'no scolarshhip']"
      ]
     },
     "execution_count": 8,
     "metadata": {},
     "output_type": "execute_result"
    }
   ],
   "source": [
    "scolarship"
   ]
  },
  {
   "cell_type": "code",
   "execution_count": 9,
   "id": "bdb5f712-0ef4-4b0f-9a0f-36e8baaa9198",
   "metadata": {},
   "outputs": [
    {
     "data": {
      "text/plain": [
       "['BCA', 'MCA', 'BBA', 'MBA', 'Data scientist']"
      ]
     },
     "execution_count": 9,
     "metadata": {},
     "output_type": "execute_result"
    }
   ],
   "source": [
    "department"
   ]
  },
  {
   "cell_type": "code",
   "execution_count": 10,
   "id": "110d1072-9633-47df-9d74-b31481e3ff26",
   "metadata": {},
   "outputs": [
    {
     "name": "stdout",
     "output_type": "stream",
     "text": [
      "no scolarship is given\n",
      "no scolarship is given\n",
      "achiver scolarship to s03\n",
      "no scolarship is given\n",
      "no scolarship is given\n"
     ]
    }
   ],
   "source": [
    "for i in range(len(student_id)):\n",
    "    if department[i] == 'CS' and final_marks[i] > 750 and backlog[i] == 'NB':\n",
    "        scolarship[i] = 'high achiver scolarship'\n",
    "        print(f'high achiver scolarship to {student_id[i]}')\n",
    "    elif final_marks[i] >= 650 and final_marks[i] <= 700 and  backlog[i] == 'NB' :\n",
    "        scolarship[i] = 'achiver scolarship'\n",
    "        print(f'achiver scolarship to {student_id[i]}')\n",
    "    else:\n",
    "        print('no scolarship is given')\n",
    "        "
   ]
  },
  {
   "cell_type": "code",
   "execution_count": 11,
   "id": "39bf3b71-414d-41f6-b9e9-9adb58266deb",
   "metadata": {},
   "outputs": [
    {
     "data": {
      "text/plain": [
       "['no scolarshhip',\n",
       " 'no scolarshhip',\n",
       " 'achiver scolarship',\n",
       " 'no scolarshhip',\n",
       " 'no scolarshhip']"
      ]
     },
     "execution_count": 11,
     "metadata": {},
     "output_type": "execute_result"
    }
   ],
   "source": [
    "scolarship"
   ]
  },
  {
   "cell_type": "code",
   "execution_count": 12,
   "id": "7c6403fc-768d-49ec-afb0-820d1f658587",
   "metadata": {},
   "outputs": [],
   "source": [
    "std_db = {\n",
    "    'student id' : student_id,\n",
    "    'gender' : gender,\n",
    "    'department': department,\n",
    "    'marks': marks,\n",
    "    'final_marks': final_marks,\n",
    "    'backlog': backlog,\n",
    "    'scolarship':scolarship\n",
    "}"
   ]
  },
  {
   "cell_type": "code",
   "execution_count": 13,
   "id": "93f85589-40cb-41e9-a13f-3c22c7981d7a",
   "metadata": {},
   "outputs": [
    {
     "data": {
      "text/plain": [
       "{'student id': ['s01', 'so2', 's03', 's04', 's05'],\n",
       " 'gender': ['m', 'f', 'f', 'm', 'f'],\n",
       " 'department': ['BCA', 'MCA', 'BBA', 'MBA', 'Data scientist'],\n",
       " 'marks': [65.84, 45, 26.45, 87, 95.25],\n",
       " 'final_marks': [650, 650, 680, 326.4, 775.2],\n",
       " 'backlog': ['B', 'B', 'NB', 'B', 'NB'],\n",
       " 'scolarship': ['no scolarshhip',\n",
       "  'no scolarshhip',\n",
       "  'achiver scolarship',\n",
       "  'no scolarshhip',\n",
       "  'no scolarshhip']}"
      ]
     },
     "execution_count": 13,
     "metadata": {},
     "output_type": "execute_result"
    }
   ],
   "source": [
    "std_db"
   ]
  },
  {
   "cell_type": "code",
   "execution_count": 14,
   "id": "4e51a643-bb9c-40fb-810f-488722a7c0d2",
   "metadata": {},
   "outputs": [
    {
     "data": {
      "text/plain": [
       "dict_keys(['student id', 'gender', 'department', 'marks', 'final_marks', 'backlog', 'scolarship'])"
      ]
     },
     "execution_count": 14,
     "metadata": {},
     "output_type": "execute_result"
    }
   ],
   "source": [
    "std_db.keys()"
   ]
  },
  {
   "cell_type": "code",
   "execution_count": 15,
   "id": "4bf71a19-8418-4a1e-8f3b-38d6df91eab5",
   "metadata": {},
   "outputs": [
    {
     "data": {
      "text/plain": [
       "dict_values([['s01', 'so2', 's03', 's04', 's05'], ['m', 'f', 'f', 'm', 'f'], ['BCA', 'MCA', 'BBA', 'MBA', 'Data scientist'], [65.84, 45, 26.45, 87, 95.25], [650, 650, 680, 326.4, 775.2], ['B', 'B', 'NB', 'B', 'NB'], ['no scolarshhip', 'no scolarshhip', 'achiver scolarship', 'no scolarshhip', 'no scolarshhip']])"
      ]
     },
     "execution_count": 15,
     "metadata": {},
     "output_type": "execute_result"
    }
   ],
   "source": [
    "std_db.values()"
   ]
  },
  {
   "cell_type": "code",
   "execution_count": null,
   "id": "5437240b-98e0-4917-9d94-7326e5fe420e",
   "metadata": {},
   "outputs": [],
   "source": []
  }
 ],
 "metadata": {
  "kernelspec": {
   "display_name": "Python 3 (ipykernel)",
   "language": "python",
   "name": "python3"
  },
  "language_info": {
   "codemirror_mode": {
    "name": "ipython",
    "version": 3
   },
   "file_extension": ".py",
   "mimetype": "text/x-python",
   "name": "python",
   "nbconvert_exporter": "python",
   "pygments_lexer": "ipython3",
   "version": "3.10.8"
  }
 },
 "nbformat": 4,
 "nbformat_minor": 5
}
