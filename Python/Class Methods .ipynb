{
 "cells": [
  {
   "cell_type": "code",
   "execution_count": 11,
   "id": "62230540-6034-42e6-a884-7c52d575c926",
   "metadata": {},
   "outputs": [],
   "source": [
    "class cloudus:\n",
    "    def __init__(self, name, email):\n",
    "        self.name = name\n",
    "        self.email = email\n",
    "        \n",
    "    def student_details(self):\n",
    "        print(self.name,self.email)\n",
    "        "
   ]
  },
  {
   "cell_type": "code",
   "execution_count": 9,
   "id": "807cf399-a2c0-4630-8b13-c5ff1f55952b",
   "metadata": {},
   "outputs": [],
   "source": [
    "cl = cloudus(\"govind\",\"govind@gmai.com\")"
   ]
  },
  {
   "cell_type": "code",
   "execution_count": 3,
   "id": "3db49059-1eaa-45a0-838b-59b36ddb9b68",
   "metadata": {},
   "outputs": [
    {
     "data": {
      "text/plain": [
       "'govind@gmai.com'"
      ]
     },
     "execution_count": 3,
     "metadata": {},
     "output_type": "execute_result"
    }
   ],
   "source": [
    "cl.email"
   ]
  },
  {
   "cell_type": "code",
   "execution_count": 4,
   "id": "8701bd04-6d27-4d4c-a96b-c9a330b86dae",
   "metadata": {},
   "outputs": [
    {
     "data": {
      "text/plain": [
       "'govind'"
      ]
     },
     "execution_count": 4,
     "metadata": {},
     "output_type": "execute_result"
    }
   ],
   "source": [
    "cl.name"
   ]
  },
  {
   "cell_type": "code",
   "execution_count": 10,
   "id": "49759507-2eed-41d6-b0ce-5712d11bb71a",
   "metadata": {},
   "outputs": [
    {
     "name": "stdout",
     "output_type": "stream",
     "text": [
      "govind govind@gmai.com\n"
     ]
    }
   ],
   "source": [
    "cl.student_details()"
   ]
  },
  {
   "cell_type": "code",
   "execution_count": 13,
   "id": "dd3b73ed-c1fc-4dea-b793-ed4a7538c9b3",
   "metadata": {},
   "outputs": [],
   "source": [
    "class cloudus1:\n",
    "    def __init__(self, name, email):\n",
    "        self.name = name\n",
    "        self.email = email\n",
    "    \n",
    "    @classmethod    \n",
    "    def details(cls, name,email):\n",
    "        return cls(name,email)\n",
    "        \n",
    "    def student_details(self):\n",
    "        print(self.name,self.email)\n",
    "        "
   ]
  },
  {
   "cell_type": "code",
   "execution_count": 15,
   "id": "6f9f941f-9042-4181-a931-3729e95aa58c",
   "metadata": {},
   "outputs": [],
   "source": [
    "cl1 = cloudus1.details(\"gaurang\",\"gaurang@gmail.com\")"
   ]
  },
  {
   "cell_type": "code",
   "execution_count": 16,
   "id": "2d618f1f-49f0-4069-bb9e-af1f841ffe3b",
   "metadata": {},
   "outputs": [
    {
     "name": "stdout",
     "output_type": "stream",
     "text": [
      "gaurang gaurang@gmail.com\n"
     ]
    }
   ],
   "source": [
    "cl1.student_details()"
   ]
  },
  {
   "cell_type": "code",
   "execution_count": 17,
   "id": "a7902aa4-7e18-49a4-8ee3-07feb90c8447",
   "metadata": {},
   "outputs": [
    {
     "data": {
      "text/plain": [
       "'gaurang@gmail.com'"
      ]
     },
     "execution_count": 17,
     "metadata": {},
     "output_type": "execute_result"
    }
   ],
   "source": [
    "cl1.email"
   ]
  },
  {
   "cell_type": "code",
   "execution_count": 18,
   "id": "2b972c84-54e8-4f1d-a578-3e3f6f607bbf",
   "metadata": {},
   "outputs": [
    {
     "data": {
      "text/plain": [
       "'gaurang'"
      ]
     },
     "execution_count": 18,
     "metadata": {},
     "output_type": "execute_result"
    }
   ],
   "source": [
    "cl1.name"
   ]
  },
  {
   "cell_type": "code",
   "execution_count": 24,
   "id": "0e258024-6ece-4e42-a18f-f660273694d8",
   "metadata": {},
   "outputs": [],
   "source": [
    "class cloudus2:\n",
    "    \n",
    "    mobile_no = 8866552211\n",
    "    \n",
    "    def __init__(self, name, email):\n",
    "        self.name = name\n",
    "        self.email = email\n",
    "    \n",
    "    @classmethod\n",
    "    def change_mobile_no(cls, mobile):\n",
    "        cloudus2.mobile_no = mobile\n",
    "    \n",
    "    @classmethod    \n",
    "    def details(cls, name,email):\n",
    "        return cls(name,email)\n",
    "        \n",
    "    def student_details(self):\n",
    "        print(self.name,self.email,cloudus2.mobile_no)\n",
    "        "
   ]
  },
  {
   "cell_type": "code",
   "execution_count": 31,
   "id": "97659295-f5ed-408a-ad3e-7c9f91b2f6ae",
   "metadata": {},
   "outputs": [],
   "source": [
    "cl2 = cloudus2.details(\"hello\",\"hello@gmail.com\")"
   ]
  },
  {
   "cell_type": "code",
   "execution_count": 33,
   "id": "26b7206f-c25d-4815-bb92-d5a2f6282ccd",
   "metadata": {},
   "outputs": [],
   "source": [
    "cl2 = cloudus2(\"mohan\",\"mohan@gmail.com\")"
   ]
  },
  {
   "cell_type": "code",
   "execution_count": 28,
   "id": "9b8c9372-623b-4160-ac16-85ed022a0c75",
   "metadata": {},
   "outputs": [],
   "source": [
    "cloudus2.change_mobile_no(987654321)"
   ]
  },
  {
   "cell_type": "code",
   "execution_count": 29,
   "id": "87deeb14-e3af-4bb3-ae37-3b7f271a05a4",
   "metadata": {},
   "outputs": [
    {
     "data": {
      "text/plain": [
       "987654321"
      ]
     },
     "execution_count": 29,
     "metadata": {},
     "output_type": "execute_result"
    }
   ],
   "source": [
    "cloudus2.mobile_no"
   ]
  },
  {
   "cell_type": "code",
   "execution_count": 34,
   "id": "799a19e9-674e-4d5a-aeb8-f4506fdd0d08",
   "metadata": {},
   "outputs": [
    {
     "name": "stdout",
     "output_type": "stream",
     "text": [
      "mohan mohan@gmail.com 987654321\n"
     ]
    }
   ],
   "source": [
    "cl2.student_details()"
   ]
  },
  {
   "cell_type": "code",
   "execution_count": 37,
   "id": "3e2373ab-1c99-4337-8519-eea6afd56b70",
   "metadata": {},
   "outputs": [],
   "source": [
    "class cloudus3:\n",
    "    \n",
    "    mobile_no = 8866552211\n",
    "    \n",
    "    def __init__(self, name, email):\n",
    "        self.name = name\n",
    "        self.email = email\n",
    "    \n",
    "    @classmethod\n",
    "    def change_mobile_no(cls, mobile):\n",
    "        cloudus2.mobile_no = mobile\n",
    "    \n",
    "    @classmethod    \n",
    "    def details(cls, name,email):\n",
    "        return cls(name,email)\n",
    "        \n",
    "    def student_details(self):\n",
    "        print(self.name,self.email,cloudus2.mobile_no)\n",
    "        "
   ]
  },
  {
   "cell_type": "code",
   "execution_count": 38,
   "id": "9ace3bef-e1ee-47e3-a26b-b6cd7a621995",
   "metadata": {},
   "outputs": [],
   "source": [
    "def course_details(cls, course_name):\n",
    "    print(\"course name is\",course_name)"
   ]
  },
  {
   "cell_type": "code",
   "execution_count": 39,
   "id": "04e1b0a5-43bb-4321-8d78-ec0c567a0593",
   "metadata": {},
   "outputs": [],
   "source": [
    "cloudus3.course_details = classmethod(course_details)"
   ]
  },
  {
   "cell_type": "code",
   "execution_count": 40,
   "id": "d3568175-e89b-4e25-b723-ccbb6a18d918",
   "metadata": {},
   "outputs": [
    {
     "name": "stdout",
     "output_type": "stream",
     "text": [
      "course name is data science master\n"
     ]
    }
   ],
   "source": [
    "cloudus3.course_details(\"data science master\")"
   ]
  },
  {
   "cell_type": "code",
   "execution_count": 42,
   "id": "9eeb39d5-e4f6-4a76-92f0-d47c9a2e59df",
   "metadata": {},
   "outputs": [],
   "source": [
    "def mantor(cls, list_of_mantor):\n",
    "    print(list_of_mantor)"
   ]
  },
  {
   "cell_type": "code",
   "execution_count": 43,
   "id": "c577833e-3891-4582-a6a3-82660301993f",
   "metadata": {},
   "outputs": [],
   "source": [
    "cloudus3.mantor = classmethod(mantor)"
   ]
  },
  {
   "cell_type": "code",
   "execution_count": 45,
   "id": "17f89f3b-72e1-4aab-9da6-321f3b4c93a9",
   "metadata": {},
   "outputs": [
    {
     "name": "stdout",
     "output_type": "stream",
     "text": [
      "['Gaurang', 'bhimani']\n"
     ]
    }
   ],
   "source": [
    "cloudus3.mantor([\"Gaurang\",\"bhimani\"])"
   ]
  },
  {
   "cell_type": "code",
   "execution_count": 47,
   "id": "db6e149d-923d-4d21-a5a8-7f28e0d4f606",
   "metadata": {},
   "outputs": [],
   "source": [
    "class cloudus4:\n",
    "    \n",
    "    mobile_no = 8866552211\n",
    "    \n",
    "    def __init__(self, name, email):\n",
    "        self.name = name\n",
    "        self.email = email\n",
    "    \n",
    "    @classmethod\n",
    "    def change_mobile_no(cls, mobile):\n",
    "        cloudus2.mobile_no = mobile\n",
    "    \n",
    "    @classmethod    \n",
    "    def details(cls, name,email):\n",
    "        return cls(name,email)\n",
    "        \n",
    "    def student_details(self):\n",
    "        print(self.name,self.email,cloudus2.mobile_no)\n",
    "        "
   ]
  },
  {
   "cell_type": "code",
   "execution_count": 48,
   "id": "2e4d16b0-2a0e-4cfe-9da6-705981483ca4",
   "metadata": {},
   "outputs": [],
   "source": [
    "del cloudus4.change_mobile_no"
   ]
  },
  {
   "cell_type": "code",
   "execution_count": 49,
   "id": "2e03dc37-e07f-4ce2-9ceb-666ab88d4781",
   "metadata": {},
   "outputs": [
    {
     "ename": "AttributeError",
     "evalue": "type object 'cloudus4' has no attribute 'change_mobile_no'",
     "output_type": "error",
     "traceback": [
      "\u001b[0;31m---------------------------------------------------------------------------\u001b[0m",
      "\u001b[0;31mAttributeError\u001b[0m                            Traceback (most recent call last)",
      "Cell \u001b[0;32mIn[49], line 1\u001b[0m\n\u001b[0;32m----> 1\u001b[0m \u001b[43mcloudus4\u001b[49m\u001b[38;5;241;43m.\u001b[39;49m\u001b[43mchange_mobile_no\u001b[49m(\u001b[38;5;241m68461842\u001b[39m)\n",
      "\u001b[0;31mAttributeError\u001b[0m: type object 'cloudus4' has no attribute 'change_mobile_no'"
     ]
    }
   ],
   "source": [
    "cloudus4.change_mobile_no(68461842)"
   ]
  },
  {
   "cell_type": "code",
   "execution_count": 50,
   "id": "4e28834b-09b2-4fcc-b268-07637cee7788",
   "metadata": {},
   "outputs": [],
   "source": [
    "delattr(cloudus4, \"details\")"
   ]
  },
  {
   "cell_type": "code",
   "execution_count": 51,
   "id": "cd2a3cd7-87bd-4ea7-8fe8-0889ec2a99ab",
   "metadata": {},
   "outputs": [],
   "source": [
    "delattr(cloudus4,\"student_details\")"
   ]
  },
  {
   "cell_type": "code",
   "execution_count": 52,
   "id": "8a633fee-47dd-44e2-a09c-4b7def06e31c",
   "metadata": {},
   "outputs": [],
   "source": [
    "delattr(cloudus4, \"mobile_no\")"
   ]
  },
  {
   "cell_type": "code",
   "execution_count": null,
   "id": "76e4ca80-998c-42d9-83f5-eefb1fa4f456",
   "metadata": {},
   "outputs": [],
   "source": []
  }
 ],
 "metadata": {
  "kernelspec": {
   "display_name": "Python 3 (ipykernel)",
   "language": "python",
   "name": "python3"
  },
  "language_info": {
   "codemirror_mode": {
    "name": "ipython",
    "version": 3
   },
   "file_extension": ".py",
   "mimetype": "text/x-python",
   "name": "python",
   "nbconvert_exporter": "python",
   "pygments_lexer": "ipython3",
   "version": "3.10.8"
  }
 },
 "nbformat": 4,
 "nbformat_minor": 5
}
