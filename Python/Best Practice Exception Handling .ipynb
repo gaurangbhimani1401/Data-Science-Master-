{
 "cells": [
  {
   "cell_type": "code",
   "execution_count": 1,
   "id": "9fb67384-967c-486d-a1c8-8a2e0ecf64c8",
   "metadata": {},
   "outputs": [
    {
     "name": "stdout",
     "output_type": "stream",
     "text": [
      "division by zero\n"
     ]
    }
   ],
   "source": [
    "#alwways use the specific exception\n",
    "try :\n",
    "    a = 10/0\n",
    "except Exception as e:\n",
    "    print(e)"
   ]
  },
  {
   "cell_type": "code",
   "execution_count": 2,
   "id": "7d7d9c64-6334-43c8-83d9-de17be236d16",
   "metadata": {},
   "outputs": [
    {
     "name": "stdout",
     "output_type": "stream",
     "text": [
      "division by zero\n"
     ]
    }
   ],
   "source": [
    "try:\n",
    "    a = 10/0\n",
    "except ZeroDivisionError as e:\n",
    "    print(e)"
   ]
  },
  {
   "cell_type": "code",
   "execution_count": 3,
   "id": "aa8145a5-96df-4194-bdc7-d71724acda89",
   "metadata": {},
   "outputs": [
    {
     "name": "stdout",
     "output_type": "stream",
     "text": [
      "I am trying to handle zero devision error\n"
     ]
    }
   ],
   "source": [
    "#print always a proper message\n",
    "try:\n",
    "    a = 10/0\n",
    "except ZeroDivisionError as e:\n",
    "    print(\"I am trying to handle zero devision error\")"
   ]
  },
  {
   "cell_type": "code",
   "execution_count": 5,
   "id": "f59625c9-2c8f-4018-9fa1-dfac89a84f79",
   "metadata": {},
   "outputs": [],
   "source": [
    "#always try to logg your error\n",
    "import logging\n",
    "logging.basicConfig(filename = \"error.log\", level = logging.INFO)\n",
    "try :\n",
    "    a = 10/0\n",
    "except ZeroDivisionError as e:\n",
    "    logging.error(\"I am trying to handle zero devision error{}\".format(e))"
   ]
  },
  {
   "cell_type": "code",
   "execution_count": 6,
   "id": "ec632947-35cf-40c8-8b76-b31aa56dfd5a",
   "metadata": {},
   "outputs": [],
   "source": [
    "#always avoid to write multiple exception handling\n",
    "import logging\n",
    "logging.basicConfig(filename = \"error.log\", level = logging.INFO)\n",
    "try :\n",
    "    a = 10/0\n",
    "except FileExistsError as e:\n",
    "    logging.error(\"This is the file exist errer{}\".format(e))\n",
    "except AttributeError as e:\n",
    "    logging.error(\"this is the attribute erroe{}\".format(e))    \n",
    "except ZeroDivisionError as e:\n",
    "    logging.error(\"I am trying to handle zero devision error{}\".format(e))"
   ]
  },
  {
   "cell_type": "code",
   "execution_count": null,
   "id": "a820fec6-d128-4787-8bfb-3106fac52345",
   "metadata": {},
   "outputs": [],
   "source": [
    "#document all the error\n",
    "#clean up all the resource\n",
    "try :\n",
    "    with open(\"abc.txt\",'w')as f:\n",
    "        f.write(\"this is write in the abc file\")\n",
    "except FileExistsError as e:\n",
    "    logging.error(\"This is the file exist errer{}\".format(e))\n",
    "finally:\n",
    "    f.close()"
   ]
  }
 ],
 "metadata": {
  "kernelspec": {
   "display_name": "Python 3 (ipykernel)",
   "language": "python",
   "name": "python3"
  },
  "language_info": {
   "codemirror_mode": {
    "name": "ipython",
    "version": 3
   },
   "file_extension": ".py",
   "mimetype": "text/x-python",
   "name": "python",
   "nbconvert_exporter": "python",
   "pygments_lexer": "ipython3",
   "version": "3.10.8"
  }
 },
 "nbformat": 4,
 "nbformat_minor": 5
}
