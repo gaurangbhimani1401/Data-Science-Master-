{
 "cells": [
  {
   "cell_type": "code",
   "execution_count": 7,
   "id": "59b7fabd",
   "metadata": {},
   "outputs": [],
   "source": [
    "import requests\n",
    "from bs4 import BeautifulSoup as bs\n",
    "from urllib.request import urlopen\n",
    "import logging\n",
    "from selenium import webdriver\n",
    "from time import sleep\n",
    "from selenium import webdriver\n",
    "from selenium.webdriver.common.by import By\n"
   ]
  },
  {
   "cell_type": "code",
   "execution_count": 1,
   "id": "78cd0dab",
   "metadata": {},
   "outputs": [
    {
     "name": "stdout",
     "output_type": "stream",
     "text": [
      "Requirement already satisfied: selenium in c:\\users\\gaurang\\anaconda3\\lib\\site-packages (4.13.0)\n",
      "Requirement already satisfied: urllib3[socks]<3,>=1.26 in c:\\users\\gaurang\\anaconda3\\lib\\site-packages (from selenium) (1.26.16)\n",
      "Requirement already satisfied: trio~=0.17 in c:\\users\\gaurang\\anaconda3\\lib\\site-packages (from selenium) (0.22.2)\n",
      "Requirement already satisfied: trio-websocket~=0.9 in c:\\users\\gaurang\\anaconda3\\lib\\site-packages (from selenium) (0.11.1)\n",
      "Requirement already satisfied: certifi>=2021.10.8 in c:\\users\\gaurang\\anaconda3\\lib\\site-packages (from selenium) (2023.7.22)\n",
      "Requirement already satisfied: attrs>=20.1.0 in c:\\users\\gaurang\\anaconda3\\lib\\site-packages (from trio~=0.17->selenium) (22.1.0)\n",
      "Requirement already satisfied: sortedcontainers in c:\\users\\gaurang\\anaconda3\\lib\\site-packages (from trio~=0.17->selenium) (2.4.0)\n",
      "Requirement already satisfied: idna in c:\\users\\gaurang\\anaconda3\\lib\\site-packages (from trio~=0.17->selenium) (3.4)\n",
      "Requirement already satisfied: outcome in c:\\users\\gaurang\\anaconda3\\lib\\site-packages (from trio~=0.17->selenium) (1.2.0)\n",
      "Requirement already satisfied: sniffio in c:\\users\\gaurang\\anaconda3\\lib\\site-packages (from trio~=0.17->selenium) (1.2.0)\n",
      "Requirement already satisfied: cffi>=1.14 in c:\\users\\gaurang\\anaconda3\\lib\\site-packages (from trio~=0.17->selenium) (1.15.1)\n",
      "Requirement already satisfied: wsproto>=0.14 in c:\\users\\gaurang\\anaconda3\\lib\\site-packages (from trio-websocket~=0.9->selenium) (1.2.0)\n",
      "Requirement already satisfied: PySocks!=1.5.7,<2.0,>=1.5.6 in c:\\users\\gaurang\\anaconda3\\lib\\site-packages (from urllib3[socks]<3,>=1.26->selenium) (1.7.1)\n",
      "Requirement already satisfied: pycparser in c:\\users\\gaurang\\anaconda3\\lib\\site-packages (from cffi>=1.14->trio~=0.17->selenium) (2.21)\n",
      "Requirement already satisfied: h11<1,>=0.9.0 in c:\\users\\gaurang\\anaconda3\\lib\\site-packages (from wsproto>=0.14->trio-websocket~=0.9->selenium) (0.14.0)\n",
      "Note: you may need to restart the kernel to use updated packages.\n"
     ]
    }
   ],
   "source": [
    "pip install selenium"
   ]
  },
  {
   "cell_type": "code",
   "execution_count": 11,
   "id": "b7ffe872",
   "metadata": {},
   "outputs": [],
   "source": [
    "path = 'c://chromedriver.exe'"
   ]
  },
  {
   "cell_type": "code",
   "execution_count": 12,
   "id": "9df5832a",
   "metadata": {},
   "outputs": [],
   "source": [
    "browser = webdriver.Chrome()"
   ]
  },
  {
   "cell_type": "code",
   "execution_count": 13,
   "id": "592bf772",
   "metadata": {},
   "outputs": [],
   "source": [
    "browser.get('https://www.youtube.com/@PW-Foundation/videos')"
   ]
  },
  {
   "cell_type": "code",
   "execution_count": 14,
   "id": "db786717",
   "metadata": {},
   "outputs": [],
   "source": [
    "video_div = browser.find_element(By.CSS_SELECTOR, 'div#contents')\n",
    "video_links = video_div.find_elements(By.TAG_NAME, 'a')\n",
    "video_urls = [link.get_attribute('href') for link in video_links]"
   ]
  },
  {
   "cell_type": "code",
   "execution_count": 16,
   "id": "96de4a7f",
   "metadata": {},
   "outputs": [
    {
     "name": "stdout",
     "output_type": "stream",
     "text": [
      "https://www.youtube.com/watch?v=a2n9xcfXGpY\n",
      "https://www.youtube.com/watch?v=a2n9xcfXGpY\n",
      "None\n",
      "https://www.youtube.com/watch?v=a2n9xcfXGpY\n",
      "https://www.youtube.com/watch?v=S4nFKzoSCWs\n",
      "https://www.youtube.com/watch?v=S4nFKzoSCWs\n",
      "None\n",
      "https://www.youtube.com/watch?v=S4nFKzoSCWs\n",
      "https://www.youtube.com/watch?v=pecNtI_QXEI\n",
      "https://www.youtube.com/watch?v=pecNtI_QXEI\n",
      "None\n",
      "https://www.youtube.com/watch?v=pecNtI_QXEI\n",
      "https://www.youtube.com/watch?v=PXcgTSs-_p8\n",
      "https://www.youtube.com/watch?v=PXcgTSs-_p8\n",
      "None\n",
      "https://www.youtube.com/watch?v=PXcgTSs-_p8\n",
      "https://www.youtube.com/watch?v=JGJv4jlf8aQ\n",
      "https://www.youtube.com/watch?v=JGJv4jlf8aQ\n",
      "None\n",
      "https://www.youtube.com/watch?v=JGJv4jlf8aQ\n",
      "https://www.youtube.com/watch?v=0dMJLkO-SSw\n",
      "https://www.youtube.com/watch?v=0dMJLkO-SSw\n",
      "None\n",
      "https://www.youtube.com/watch?v=0dMJLkO-SSw\n",
      "https://www.youtube.com/watch?v=0CW4VbfH4kk\n",
      "https://www.youtube.com/watch?v=0CW4VbfH4kk\n",
      "None\n",
      "https://www.youtube.com/watch?v=0CW4VbfH4kk\n",
      "https://www.youtube.com/watch?v=gs2Ss52phYg\n",
      "https://www.youtube.com/watch?v=gs2Ss52phYg\n",
      "None\n",
      "https://www.youtube.com/watch?v=gs2Ss52phYg\n",
      "https://www.youtube.com/watch?v=8Pgsj94Gnkw\n",
      "https://www.youtube.com/watch?v=8Pgsj94Gnkw\n",
      "None\n",
      "https://www.youtube.com/watch?v=8Pgsj94Gnkw\n",
      "https://www.youtube.com/watch?v=yVkPfvFbQrg\n",
      "https://www.youtube.com/watch?v=yVkPfvFbQrg\n",
      "None\n",
      "https://www.youtube.com/watch?v=yVkPfvFbQrg\n",
      "https://www.youtube.com/watch?v=Al3qF9bfxCs\n",
      "https://www.youtube.com/watch?v=Al3qF9bfxCs\n",
      "None\n",
      "https://www.youtube.com/watch?v=Al3qF9bfxCs\n",
      "https://www.youtube.com/watch?v=dYh6Chnq0lo\n",
      "https://www.youtube.com/watch?v=dYh6Chnq0lo\n",
      "None\n",
      "https://www.youtube.com/watch?v=dYh6Chnq0lo\n",
      "https://www.youtube.com/watch?v=v22z2ixxN1c\n",
      "https://www.youtube.com/watch?v=v22z2ixxN1c\n",
      "None\n",
      "https://www.youtube.com/watch?v=v22z2ixxN1c\n",
      "https://www.youtube.com/watch?v=MksUgxuA8L4\n",
      "https://www.youtube.com/watch?v=MksUgxuA8L4\n",
      "None\n",
      "https://www.youtube.com/watch?v=MksUgxuA8L4\n",
      "https://www.youtube.com/watch?v=3TL4-e3z7CA\n",
      "https://www.youtube.com/watch?v=3TL4-e3z7CA\n",
      "None\n",
      "https://www.youtube.com/watch?v=3TL4-e3z7CA\n",
      "https://www.youtube.com/watch?v=U09HORTeaB8\n",
      "https://www.youtube.com/watch?v=U09HORTeaB8\n",
      "None\n",
      "https://www.youtube.com/watch?v=U09HORTeaB8\n",
      "https://www.youtube.com/watch?v=eazPrtheE14\n",
      "https://www.youtube.com/watch?v=eazPrtheE14\n",
      "None\n",
      "https://www.youtube.com/watch?v=eazPrtheE14\n",
      "https://www.youtube.com/watch?v=luqdZrYnFOM\n",
      "https://www.youtube.com/watch?v=luqdZrYnFOM\n",
      "None\n",
      "https://www.youtube.com/watch?v=luqdZrYnFOM\n",
      "https://www.youtube.com/watch?v=YiBqvPi8Q1I\n",
      "https://www.youtube.com/watch?v=YiBqvPi8Q1I\n",
      "None\n",
      "https://www.youtube.com/watch?v=YiBqvPi8Q1I\n",
      "https://www.youtube.com/watch?v=mw9mLdN6ssA\n",
      "https://www.youtube.com/watch?v=mw9mLdN6ssA\n",
      "None\n",
      "https://www.youtube.com/watch?v=mw9mLdN6ssA\n",
      "https://www.youtube.com/watch?v=LuTONVLzESM\n",
      "https://www.youtube.com/watch?v=LuTONVLzESM\n",
      "None\n",
      "https://www.youtube.com/watch?v=LuTONVLzESM\n",
      "https://www.youtube.com/watch?v=KWXKegvNa-I\n",
      "https://www.youtube.com/watch?v=KWXKegvNa-I\n",
      "None\n",
      "https://www.youtube.com/watch?v=KWXKegvNa-I\n",
      "https://www.youtube.com/watch?v=dArUpCasmnE\n",
      "https://www.youtube.com/watch?v=dArUpCasmnE\n",
      "None\n",
      "https://www.youtube.com/watch?v=dArUpCasmnE\n",
      "https://www.youtube.com/watch?v=HqG2QchBw8Y\n",
      "https://www.youtube.com/watch?v=HqG2QchBw8Y\n",
      "None\n",
      "https://www.youtube.com/watch?v=HqG2QchBw8Y\n",
      "https://www.youtube.com/watch?v=1izKrQHyx9M\n",
      "https://www.youtube.com/watch?v=1izKrQHyx9M\n",
      "None\n",
      "https://www.youtube.com/watch?v=1izKrQHyx9M\n",
      "https://www.youtube.com/watch?v=jXAb1evxaJc\n",
      "https://www.youtube.com/watch?v=jXAb1evxaJc\n",
      "None\n",
      "https://www.youtube.com/watch?v=jXAb1evxaJc\n",
      "https://www.youtube.com/watch?v=2dn7XMxRtPE\n",
      "https://www.youtube.com/watch?v=2dn7XMxRtPE\n",
      "None\n",
      "https://www.youtube.com/watch?v=2dn7XMxRtPE\n",
      "https://www.youtube.com/watch?v=Fks4dVnTb5M\n",
      "https://www.youtube.com/watch?v=Fks4dVnTb5M\n",
      "None\n",
      "https://www.youtube.com/watch?v=Fks4dVnTb5M\n"
     ]
    }
   ],
   "source": [
    "for link in video_urls[:]:\n",
    "    print(link)"
   ]
  },
  {
   "cell_type": "code",
   "execution_count": 17,
   "id": "a4ce00fb",
   "metadata": {},
   "outputs": [],
   "source": [
    "video_urls = [link for link in video_urls if link is not None]"
   ]
  },
  {
   "cell_type": "code",
   "execution_count": 18,
   "id": "5f04a0b6",
   "metadata": {},
   "outputs": [],
   "source": [
    "video_urls = list(set(video_urls))"
   ]
  },
  {
   "cell_type": "code",
   "execution_count": 19,
   "id": "3e0d2467",
   "metadata": {},
   "outputs": [],
   "source": [
    "first_five_values = video_urls[:5]"
   ]
  },
  {
   "cell_type": "code",
   "execution_count": 20,
   "id": "de992536",
   "metadata": {},
   "outputs": [
    {
     "data": {
      "text/plain": [
       "['https://www.youtube.com/watch?v=mw9mLdN6ssA',\n",
       " 'https://www.youtube.com/watch?v=gs2Ss52phYg',\n",
       " 'https://www.youtube.com/watch?v=dArUpCasmnE',\n",
       " 'https://www.youtube.com/watch?v=a2n9xcfXGpY',\n",
       " 'https://www.youtube.com/watch?v=8Pgsj94Gnkw']"
      ]
     },
     "execution_count": 20,
     "metadata": {},
     "output_type": "execute_result"
    }
   ],
   "source": [
    "first_five_values"
   ]
  },
  {
   "cell_type": "code",
   "execution_count": null,
   "id": "495c54d5",
   "metadata": {},
   "outputs": [],
   "source": []
  }
 ],
 "metadata": {
  "kernelspec": {
   "display_name": "Python 3 (ipykernel)",
   "language": "python",
   "name": "python3"
  },
  "language_info": {
   "codemirror_mode": {
    "name": "ipython",
    "version": 3
   },
   "file_extension": ".py",
   "mimetype": "text/x-python",
   "name": "python",
   "nbconvert_exporter": "python",
   "pygments_lexer": "ipython3",
   "version": "3.11.5"
  }
 },
 "nbformat": 4,
 "nbformat_minor": 5
}
