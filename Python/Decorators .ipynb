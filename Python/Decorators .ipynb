{
 "cells": [
  {
   "cell_type": "code",
   "execution_count": 1,
   "id": "99f00e0e-d720-45f3-8578-eb2547f13011",
   "metadata": {},
   "outputs": [],
   "source": [
    "def test():\n",
    "    print(\"this is the starting of the fun\")\n",
    "    print(5+6)\n",
    "    print(3+5)\n",
    "    print(\"this is the end of the program\")"
   ]
  },
  {
   "cell_type": "code",
   "execution_count": 2,
   "id": "d0e894e6-09b0-46d5-9aba-751d177ddcbd",
   "metadata": {},
   "outputs": [
    {
     "name": "stdout",
     "output_type": "stream",
     "text": [
      "this is the starting of the fun\n",
      "11\n",
      "8\n",
      "this is the end of the program\n"
     ]
    }
   ],
   "source": [
    "test()"
   ]
  },
  {
   "cell_type": "code",
   "execution_count": 1,
   "id": "c4cdba19-63d4-407f-b6e3-a3e10683766e",
   "metadata": {},
   "outputs": [],
   "source": [
    "def decorat(func):\n",
    "    def inner_def():\n",
    "        print(\"this is the starting of the fun\")\n",
    "        func()\n",
    "        print(\"this is the end of the program\")\n",
    "    return inner_def()"
   ]
  },
  {
   "cell_type": "code",
   "execution_count": 2,
   "id": "d6f52cd5-4ee9-4dcd-bf4d-165deb6e3b3a",
   "metadata": {},
   "outputs": [
    {
     "name": "stdout",
     "output_type": "stream",
     "text": [
      "this is the starting of the fun\n",
      "13\n",
      "this is the end of the program\n"
     ]
    }
   ],
   "source": [
    "@decorat\n",
    "def test1():\n",
    "    print(6+7)"
   ]
  },
  {
   "cell_type": "code",
   "execution_count": 3,
   "id": "cbda26cb-c387-499f-8beb-5f52e4815c28",
   "metadata": {},
   "outputs": [],
   "source": [
    "import time\n",
    "\n",
    "def timer_test(func):\n",
    "    def inner_time():\n",
    "        start = time.time()   \n",
    "        func()\n",
    "        end = time.time()\n",
    "        print(start - end)\n",
    "    return inner_time"
   ]
  },
  {
   "cell_type": "code",
   "execution_count": 4,
   "id": "89bcae37-f561-4569-88cd-0f1590356824",
   "metadata": {},
   "outputs": [],
   "source": [
    "def test2():\n",
    "    print(45+32)"
   ]
  },
  {
   "cell_type": "code",
   "execution_count": 5,
   "id": "78ef5350-f351-4a67-ad49-775a21128251",
   "metadata": {},
   "outputs": [
    {
     "name": "stdout",
     "output_type": "stream",
     "text": [
      "77\n"
     ]
    }
   ],
   "source": [
    "test2()"
   ]
  },
  {
   "cell_type": "code",
   "execution_count": null,
   "id": "8bf8f796-6526-4b56-a19e-27d415eef41c",
   "metadata": {},
   "outputs": [],
   "source": [
    "@timer_test\n",
    "def test2():\n",
    "    print(45+32)"
   ]
  },
  {
   "cell_type": "code",
   "execution_count": 7,
   "id": "4ba89202-b94b-4efe-bfb3-5dcf1601ac48",
   "metadata": {},
   "outputs": [
    {
     "name": "stdout",
     "output_type": "stream",
     "text": [
      "77\n",
      "-4.315376281738281e-05\n"
     ]
    }
   ],
   "source": [
    "test2()"
   ]
  },
  {
   "cell_type": "code",
   "execution_count": 4,
   "id": "aa9f7493-41d4-4401-90d5-43dd6c076b00",
   "metadata": {},
   "outputs": [],
   "source": [
    "@timer_test\n",
    "def test3():\n",
    "    for i in range(100000020):\n",
    "        pass"
   ]
  },
  {
   "cell_type": "code",
   "execution_count": 5,
   "id": "4ddca48b-fa0f-4421-b4e5-cbab2fa5e5c1",
   "metadata": {},
   "outputs": [
    {
     "name": "stdout",
     "output_type": "stream",
     "text": [
      "-2.460094451904297\n"
     ]
    }
   ],
   "source": [
    "test3()"
   ]
  },
  {
   "cell_type": "code",
   "execution_count": null,
   "id": "7c2d2d57-5ad3-423f-8ebd-0da68a57004f",
   "metadata": {},
   "outputs": [],
   "source": []
  },
  {
   "cell_type": "code",
   "execution_count": null,
   "id": "2bccbea6-5611-42ae-b0c4-5f470de342bf",
   "metadata": {},
   "outputs": [],
   "source": []
  }
 ],
 "metadata": {
  "kernelspec": {
   "display_name": "Python 3 (ipykernel)",
   "language": "python",
   "name": "python3"
  },
  "language_info": {
   "codemirror_mode": {
    "name": "ipython",
    "version": 3
   },
   "file_extension": ".py",
   "mimetype": "text/x-python",
   "name": "python",
   "nbconvert_exporter": "python",
   "pygments_lexer": "ipython3",
   "version": "3.10.8"
  }
 },
 "nbformat": 4,
 "nbformat_minor": 5
}
