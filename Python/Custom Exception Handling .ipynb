{
 "cells": [
  {
   "cell_type": "code",
   "execution_count": 1,
   "id": "a02a55a7-7e07-4ec9-ab48-d2f5eae59d7d",
   "metadata": {},
   "outputs": [],
   "source": [
    "# age = int(input(\"enter the age\"))\n",
    "# print(age)"
   ]
  },
  {
   "cell_type": "code",
   "execution_count": 15,
   "id": "abe4c011-932e-4741-a739-3733f54f9a16",
   "metadata": {},
   "outputs": [],
   "source": [
    "class ValidAgeError(Exception) :\n",
    "    \n",
    "    def  __init__(self, message) :\n",
    "        self.message = message\n",
    "    "
   ]
  },
  {
   "cell_type": "code",
   "execution_count": 16,
   "id": "46e53178-b05d-4cad-a063-e7a21701deb6",
   "metadata": {},
   "outputs": [],
   "source": [
    "def validage(age) :\n",
    "    if age < 0 :\n",
    "        raise ValidAgeError(\"entered age is negative\")\n",
    "    elif age > 200 :\n",
    "        raise ValidAgeError(\"entered age is too high\")\n",
    "    else :\n",
    "        print(\"valid age\")"
   ]
  },
  {
   "cell_type": "code",
   "execution_count": 17,
   "id": "06aae757-b17d-471e-8fc8-117427a147c6",
   "metadata": {},
   "outputs": [
    {
     "name": "stdin",
     "output_type": "stream",
     "text": [
      "enter the age 255\n"
     ]
    },
    {
     "name": "stdout",
     "output_type": "stream",
     "text": [
      "entered age is too high\n"
     ]
    }
   ],
   "source": [
    "try :\n",
    "    age = int(input(\"enter the age\"))\n",
    "    validage(age)\n",
    "except ValidAgeError as e:\n",
    "    print(e)"
   ]
  },
  {
   "cell_type": "code",
   "execution_count": null,
   "id": "b3f98a8c-b1f9-4be3-8d70-b9127bab7367",
   "metadata": {},
   "outputs": [],
   "source": []
  }
 ],
 "metadata": {
  "kernelspec": {
   "display_name": "Python 3 (ipykernel)",
   "language": "python",
   "name": "python3"
  },
  "language_info": {
   "codemirror_mode": {
    "name": "ipython",
    "version": 3
   },
   "file_extension": ".py",
   "mimetype": "text/x-python",
   "name": "python",
   "nbconvert_exporter": "python",
   "pygments_lexer": "ipython3",
   "version": "3.10.8"
  }
 },
 "nbformat": 4,
 "nbformat_minor": 5
}
