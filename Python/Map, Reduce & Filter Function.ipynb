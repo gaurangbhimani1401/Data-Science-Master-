{
 "cells": [
  {
   "cell_type": "code",
   "execution_count": 8,
   "id": "86966071-a863-45c4-bf30-b36148d52d3b",
   "metadata": {},
   "outputs": [],
   "source": [
    "l = [3,56,4,3,43,54,34]"
   ]
  },
  {
   "cell_type": "code",
   "execution_count": 16,
   "id": "27fd5aca-22f3-4910-a528-954e8735bf79",
   "metadata": {},
   "outputs": [],
   "source": [
    "def squre(l):\n",
    "    l1 = []\n",
    "    for i in l:\n",
    "        l1.append(i**2)\n",
    "    return l1"
   ]
  },
  {
   "cell_type": "code",
   "execution_count": 17,
   "id": "82693915-5480-4bb7-988c-caa2a9b81031",
   "metadata": {},
   "outputs": [
    {
     "data": {
      "text/plain": [
       "[9, 3136, 16, 9, 1849, 2916, 1156]"
      ]
     },
     "execution_count": 17,
     "metadata": {},
     "output_type": "execute_result"
    }
   ],
   "source": [
    "squre(l)"
   ]
  },
  {
   "cell_type": "code",
   "execution_count": 18,
   "id": "a86ad8c9-dcc7-4170-a0ac-629269f4e552",
   "metadata": {},
   "outputs": [],
   "source": [
    "def sq(x):\n",
    "    return x**2"
   ]
  },
  {
   "cell_type": "code",
   "execution_count": 20,
   "id": "813b6feb-5eb4-4bcd-adb4-5766137abfaf",
   "metadata": {},
   "outputs": [
    {
     "data": {
      "text/plain": [
       "[9, 3136, 16, 9, 1849, 2916, 1156]"
      ]
     },
     "execution_count": 20,
     "metadata": {},
     "output_type": "execute_result"
    }
   ],
   "source": [
    "list(map(sq , l))"
   ]
  },
  {
   "cell_type": "code",
   "execution_count": 24,
   "id": "44e92d91-ab4b-46a6-af32-977ada194559",
   "metadata": {},
   "outputs": [
    {
     "data": {
      "text/plain": [
       "[9, 3136, 16, 9, 1849, 2916, 1156]"
      ]
     },
     "execution_count": 24,
     "metadata": {},
     "output_type": "execute_result"
    }
   ],
   "source": [
    "list(map(lambda x : x**2 , l))"
   ]
  },
  {
   "cell_type": "code",
   "execution_count": 26,
   "id": "6465793b-24c9-4b8f-bcb5-cc6efdb9d490",
   "metadata": {},
   "outputs": [
    {
     "data": {
      "text/plain": [
       "[7, 9, 11, 13, 15]"
      ]
     },
     "execution_count": 26,
     "metadata": {},
     "output_type": "execute_result"
    }
   ],
   "source": [
    "l1 = [1,2,3,4,5]\n",
    "l2 = [6,7,8,9,10]\n",
    "\n",
    "list(map(lambda x,y : x+y , l1,l2))"
   ]
  },
  {
   "cell_type": "code",
   "execution_count": 27,
   "id": "55b9613e-ae21-4265-8973-8e15dda39c4f",
   "metadata": {},
   "outputs": [],
   "source": [
    "def add(x,y):\n",
    "    return x+y"
   ]
  },
  {
   "cell_type": "code",
   "execution_count": 28,
   "id": "e6a6a6e0-8bb1-4ae3-8080-90a2c9be9c98",
   "metadata": {},
   "outputs": [
    {
     "data": {
      "text/plain": [
       "[7, 9, 11, 13, 15]"
      ]
     },
     "execution_count": 28,
     "metadata": {},
     "output_type": "execute_result"
    }
   ],
   "source": [
    "list(map(add  , l1,l2))"
   ]
  },
  {
   "cell_type": "code",
   "execution_count": 30,
   "id": "2d010262-5d3d-4e46-b321-c7c938130837",
   "metadata": {},
   "outputs": [
    {
     "data": {
      "text/plain": [
       "['G', 'A', 'U', 'R', 'A', 'N', 'G']"
      ]
     },
     "execution_count": 30,
     "metadata": {},
     "output_type": "execute_result"
    }
   ],
   "source": [
    "a = 'gaurang'\n",
    "list(map(lambda s : s.upper(),a))"
   ]
  },
  {
   "cell_type": "code",
   "execution_count": 33,
   "id": "ba459444-32f6-4388-ad98-589a7e2aaf3e",
   "metadata": {},
   "outputs": [],
   "source": [
    "from functools import reduce"
   ]
  },
  {
   "cell_type": "code",
   "execution_count": 34,
   "id": "8ef1c5a4-9948-473c-933d-84c8e563be28",
   "metadata": {},
   "outputs": [],
   "source": [
    "l = [1,3,2,4,54,34,53]"
   ]
  },
  {
   "cell_type": "code",
   "execution_count": 35,
   "id": "7b5d15f2-14d4-4f3a-8014-f5871012a077",
   "metadata": {},
   "outputs": [
    {
     "data": {
      "text/plain": [
       "151"
      ]
     },
     "execution_count": 35,
     "metadata": {},
     "output_type": "execute_result"
    }
   ],
   "source": [
    "reduce(lambda x,y : x+y, l )"
   ]
  },
  {
   "cell_type": "code",
   "execution_count": 36,
   "id": "19d6b538-8654-4fd4-bdcd-f0aaec8996da",
   "metadata": {},
   "outputs": [
    {
     "data": {
      "text/plain": [
       "1"
      ]
     },
     "execution_count": 36,
     "metadata": {},
     "output_type": "execute_result"
    }
   ],
   "source": [
    "reduce(lambda x,y : x+y, [1] )"
   ]
  },
  {
   "cell_type": "code",
   "execution_count": 38,
   "id": "e66a8f4a-59f2-461c-b38e-661b43ebc5e7",
   "metadata": {},
   "outputs": [
    {
     "data": {
      "text/plain": [
       "2335392"
      ]
     },
     "execution_count": 38,
     "metadata": {},
     "output_type": "execute_result"
    }
   ],
   "source": [
    "reduce(lambda x,y : x*y, l)"
   ]
  },
  {
   "cell_type": "code",
   "execution_count": 39,
   "id": "dc87c73b-68b1-4a2a-ba36-6f3bd000482f",
   "metadata": {},
   "outputs": [
    {
     "data": {
      "text/plain": [
       "[1, 3, 2, 4, 54, 34, 53]"
      ]
     },
     "execution_count": 39,
     "metadata": {},
     "output_type": "execute_result"
    }
   ],
   "source": [
    "l"
   ]
  },
  {
   "cell_type": "code",
   "execution_count": 41,
   "id": "f0387041-8e54-4d5b-8ee8-17560188ff1c",
   "metadata": {},
   "outputs": [
    {
     "data": {
      "text/plain": [
       "54"
      ]
     },
     "execution_count": 41,
     "metadata": {},
     "output_type": "execute_result"
    }
   ],
   "source": [
    "reduce(lambda x,y : x if x>y else y,l)"
   ]
  },
  {
   "cell_type": "code",
   "execution_count": 42,
   "id": "be9b20d0-3943-4892-a20a-bc0cabd44cd9",
   "metadata": {},
   "outputs": [
    {
     "data": {
      "text/plain": [
       "[1, 3, 2, 4, 54, 34, 53]"
      ]
     },
     "execution_count": 42,
     "metadata": {},
     "output_type": "execute_result"
    }
   ],
   "source": [
    "l"
   ]
  },
  {
   "cell_type": "code",
   "execution_count": 43,
   "id": "2399dd4c-b283-4bfc-ad7d-7d1dff677e17",
   "metadata": {},
   "outputs": [
    {
     "data": {
      "text/plain": [
       "[2, 4, 54, 34]"
      ]
     },
     "execution_count": 43,
     "metadata": {},
     "output_type": "execute_result"
    }
   ],
   "source": [
    "list(filter(lambda x : x %2 == 0 , l))"
   ]
  },
  {
   "cell_type": "code",
   "execution_count": 44,
   "id": "ca81213f-f6d4-4573-9eae-fb047665e616",
   "metadata": {},
   "outputs": [
    {
     "data": {
      "text/plain": [
       "[1, 3, 53]"
      ]
     },
     "execution_count": 44,
     "metadata": {},
     "output_type": "execute_result"
    }
   ],
   "source": [
    "list(filter(lambda x : x % 2 != 0 , l))"
   ]
  },
  {
   "cell_type": "code",
   "execution_count": 45,
   "id": "a6e0d8d2-7fec-4806-8723-2388d8ca3848",
   "metadata": {},
   "outputs": [],
   "source": [
    "l1 = [1,31,32,-32,-23,-54]"
   ]
  },
  {
   "cell_type": "code",
   "execution_count": 46,
   "id": "81c46329-4d7b-4692-9b75-c00564eed243",
   "metadata": {},
   "outputs": [
    {
     "data": {
      "text/plain": [
       "[1, 31, 32, -32, -23, -54]"
      ]
     },
     "execution_count": 46,
     "metadata": {},
     "output_type": "execute_result"
    }
   ],
   "source": [
    "l1"
   ]
  },
  {
   "cell_type": "code",
   "execution_count": 51,
   "id": "ac8b6b1b-9751-4baf-9b9d-14cd4e1612a7",
   "metadata": {},
   "outputs": [
    {
     "data": {
      "text/plain": [
       "[-32, -23, -54]"
      ]
     },
     "execution_count": 51,
     "metadata": {},
     "output_type": "execute_result"
    }
   ],
   "source": [
    "list(filter(lambda x : x < 0 , l1))"
   ]
  },
  {
   "cell_type": "code",
   "execution_count": 52,
   "id": "02181db4-dd0d-4d4a-bd35-2cc968f7af9c",
   "metadata": {},
   "outputs": [],
   "source": [
    "s = ['gaurang','cloudus','bhimani','surat']"
   ]
  },
  {
   "cell_type": "code",
   "execution_count": 54,
   "id": "fd04f04c-e1fe-48a7-b093-ccb207883aa1",
   "metadata": {},
   "outputs": [
    {
     "data": {
      "text/plain": [
       "['gaurang', 'cloudus', 'bhimani', 'surat']"
      ]
     },
     "execution_count": 54,
     "metadata": {},
     "output_type": "execute_result"
    }
   ],
   "source": [
    "s"
   ]
  },
  {
   "cell_type": "code",
   "execution_count": 57,
   "id": "82480acb-6ad1-4657-aeaf-b65b5a92ea34",
   "metadata": {},
   "outputs": [
    {
     "data": {
      "text/plain": [
       "['surat']"
      ]
     },
     "execution_count": 57,
     "metadata": {},
     "output_type": "execute_result"
    }
   ],
   "source": [
    "list(filter(lambda x : len(x) < 6 , s))"
   ]
  },
  {
   "cell_type": "code",
   "execution_count": null,
   "id": "3b855c05-4ec9-49a9-bee7-a4db07046f0d",
   "metadata": {},
   "outputs": [],
   "source": []
  }
 ],
 "metadata": {
  "kernelspec": {
   "display_name": "Python 3 (ipykernel)",
   "language": "python",
   "name": "python3"
  },
  "language_info": {
   "codemirror_mode": {
    "name": "ipython",
    "version": 3
   },
   "file_extension": ".py",
   "mimetype": "text/x-python",
   "name": "python",
   "nbconvert_exporter": "python",
   "pygments_lexer": "ipython3",
   "version": "3.10.8"
  }
 },
 "nbformat": 4,
 "nbformat_minor": 5
}
