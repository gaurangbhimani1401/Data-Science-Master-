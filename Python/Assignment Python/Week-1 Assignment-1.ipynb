{
 "cells": [
  {
   "cell_type": "markdown",
   "id": "284f8ea4-6f74-46ef-ab73-5e218d198efa",
   "metadata": {},
   "source": [
    "Q1. Create one variable containing following type of data:\n",
    "(i) string\n",
    "(ii) list\n",
    "(iii) float\n",
    "(iv) tuple\n"
   ]
  },
  {
   "cell_type": "code",
   "execution_count": 19,
   "id": "88b70729-b9ca-4bf8-bfbf-4cd0b8d08e53",
   "metadata": {},
   "outputs": [],
   "source": [
    "my_string = \"apple\""
   ]
  },
  {
   "cell_type": "code",
   "execution_count": 20,
   "id": "1ee4cff4-0bed-47a9-842b-3fe0037dc074",
   "metadata": {},
   "outputs": [
    {
     "data": {
      "text/plain": [
       "str"
      ]
     },
     "execution_count": 20,
     "metadata": {},
     "output_type": "execute_result"
    }
   ],
   "source": [
    "type(my_string)"
   ]
  },
  {
   "cell_type": "code",
   "execution_count": 6,
   "id": "83fa7587-e497-4c1e-882c-7e47cc2e1c12",
   "metadata": {},
   "outputs": [],
   "source": [
    "my_list = [2,4,53,\"hello\",12.34,True,False]"
   ]
  },
  {
   "cell_type": "code",
   "execution_count": 11,
   "id": "708dd416-73f9-4f7c-81d0-4594a19cd610",
   "metadata": {},
   "outputs": [
    {
     "data": {
      "text/plain": [
       "list"
      ]
     },
     "execution_count": 11,
     "metadata": {},
     "output_type": "execute_result"
    }
   ],
   "source": [
    "type(my_list)"
   ]
  },
  {
   "cell_type": "code",
   "execution_count": 8,
   "id": "5f560e7f-c6ca-4af9-a94c-0d24389fb01a",
   "metadata": {},
   "outputs": [],
   "source": [
    "my_float = 20.45"
   ]
  },
  {
   "cell_type": "code",
   "execution_count": 12,
   "id": "2f74f5ff-e6b4-44eb-906e-28f15a322675",
   "metadata": {},
   "outputs": [
    {
     "data": {
      "text/plain": [
       "float"
      ]
     },
     "execution_count": 12,
     "metadata": {},
     "output_type": "execute_result"
    }
   ],
   "source": [
    "type(my_float)"
   ]
  },
  {
   "cell_type": "code",
   "execution_count": 13,
   "id": "c56c43e1-8cf7-4ddf-ae08-edcc7f0723d5",
   "metadata": {},
   "outputs": [],
   "source": [
    "my_tuple = (23,32,54,53,24,\"hello\",True)"
   ]
  },
  {
   "cell_type": "code",
   "execution_count": 14,
   "id": "14d6af81-7278-47fd-ac97-9330b87abdb8",
   "metadata": {},
   "outputs": [
    {
     "data": {
      "text/plain": [
       "tuple"
      ]
     },
     "execution_count": 14,
     "metadata": {},
     "output_type": "execute_result"
    }
   ],
   "source": [
    "type(my_tuple)"
   ]
  },
  {
   "cell_type": "markdown",
   "id": "d0f866cf-fb15-474b-98c5-d345489e4481",
   "metadata": {},
   "source": [
    "Q2. Given are some following variables containing data:\n",
    "(i) var1 = ‘ ‘\n",
    "(ii) var2 = ‘[ DS , ML , Python]’\n",
    "(iii) var3 = [ ‘DS’ , ’ML’ , ‘Python’ ]\n",
    "(iv) var4 = 1.\n",
    "What will be the data type of the above given variable."
   ]
  },
  {
   "cell_type": "code",
   "execution_count": 1,
   "id": "5a3e6903-6ed5-4c83-b9c1-7b80d89cac9d",
   "metadata": {},
   "outputs": [],
   "source": [
    "var1 = ''"
   ]
  },
  {
   "cell_type": "code",
   "execution_count": 2,
   "id": "1c34afcf-4fe2-495e-8655-e6f5735d1342",
   "metadata": {},
   "outputs": [
    {
     "data": {
      "text/plain": [
       "str"
      ]
     },
     "execution_count": 2,
     "metadata": {},
     "output_type": "execute_result"
    }
   ],
   "source": [
    "type(var1)"
   ]
  },
  {
   "cell_type": "code",
   "execution_count": 3,
   "id": "992bc4c6-295e-45e4-86a0-97b87c701251",
   "metadata": {},
   "outputs": [],
   "source": [
    "var2 = '[ DS , ML , Python]'"
   ]
  },
  {
   "cell_type": "code",
   "execution_count": 4,
   "id": "b51c8625-2ef1-43ad-84c1-e4318ff64499",
   "metadata": {},
   "outputs": [
    {
     "data": {
      "text/plain": [
       "str"
      ]
     },
     "execution_count": 4,
     "metadata": {},
     "output_type": "execute_result"
    }
   ],
   "source": [
    "type(var2)"
   ]
  },
  {
   "cell_type": "code",
   "execution_count": 5,
   "id": "4d367d7b-02d6-4468-9a22-7f6740352b3e",
   "metadata": {},
   "outputs": [],
   "source": [
    "var3 = [ 'DS' , 'ML' , 'Python' ]"
   ]
  },
  {
   "cell_type": "code",
   "execution_count": 6,
   "id": "30efc287-d9cf-49c7-b565-008a6d948e39",
   "metadata": {},
   "outputs": [
    {
     "data": {
      "text/plain": [
       "list"
      ]
     },
     "execution_count": 6,
     "metadata": {},
     "output_type": "execute_result"
    }
   ],
   "source": [
    "type(var3)"
   ]
  },
  {
   "cell_type": "code",
   "execution_count": 24,
   "id": "6ad0daa2-6879-4011-97b3-684396180b60",
   "metadata": {},
   "outputs": [],
   "source": [
    "var4 = 1."
   ]
  },
  {
   "cell_type": "code",
   "execution_count": 25,
   "id": "43594359-da59-45fa-98d8-a0d46040beea",
   "metadata": {},
   "outputs": [
    {
     "data": {
      "text/plain": [
       "float"
      ]
     },
     "execution_count": 25,
     "metadata": {},
     "output_type": "execute_result"
    }
   ],
   "source": [
    "type(var4)"
   ]
  },
  {
   "cell_type": "markdown",
   "id": "af442d70-48a3-4ce2-8dc1-ad215b16b010",
   "metadata": {},
   "source": [
    "Q3. Explain the use of the following operators using an example:\n",
    "(i) /\n",
    "(ii) %\n",
    "(iii) //\n",
    "(iv) **"
   ]
  },
  {
   "cell_type": "code",
   "execution_count": null,
   "id": "9f5c4501-b1f5-4f7f-a676-ebbf86e9eeec",
   "metadata": {},
   "outputs": [],
   "source": [
    "(i) / (Division Operator) --> These is use to make a devision between the two number."
   ]
  },
  {
   "cell_type": "code",
   "execution_count": 27,
   "id": "81952bcd-b1fd-4487-901f-701618c245b9",
   "metadata": {},
   "outputs": [
    {
     "data": {
      "text/plain": [
       "2.0"
      ]
     },
     "execution_count": 27,
     "metadata": {},
     "output_type": "execute_result"
    }
   ],
   "source": [
    "4/2"
   ]
  },
  {
   "cell_type": "code",
   "execution_count": null,
   "id": "aef557a0-a819-4fae-ae7d-66fdba5bb1e1",
   "metadata": {},
   "outputs": [],
   "source": [
    "(ii) % (Modulus Operator) -->The modulus operator calculate the remainder of the devision of the two number."
   ]
  },
  {
   "cell_type": "code",
   "execution_count": 30,
   "id": "06fdacc5-9048-4ea7-b755-99e910f4e96a",
   "metadata": {},
   "outputs": [
    {
     "data": {
      "text/plain": [
       "1"
      ]
     },
     "execution_count": 30,
     "metadata": {},
     "output_type": "execute_result"
    }
   ],
   "source": [
    "5%4"
   ]
  },
  {
   "cell_type": "code",
   "execution_count": null,
   "id": "dc7d2628-dc6c-41ee-b2bf-4037d920676e",
   "metadata": {},
   "outputs": [],
   "source": [
    "(iii) // (Floor Division Operator) -->The floor division operator performs floor division between two numbers and returns the quotient as an integer."
   ]
  },
  {
   "cell_type": "code",
   "execution_count": 32,
   "id": "7e8ae124-1576-415f-82e4-e230bf0fbff7",
   "metadata": {},
   "outputs": [
    {
     "data": {
      "text/plain": [
       "2"
      ]
     },
     "execution_count": 32,
     "metadata": {},
     "output_type": "execute_result"
    }
   ],
   "source": [
    "10//4"
   ]
  },
  {
   "cell_type": "code",
   "execution_count": null,
   "id": "1049ae6a-51d1-48c9-b31d-f4b0f681f666",
   "metadata": {},
   "outputs": [],
   "source": [
    "(iv) ** (Exponentiation Operator) -->The Exponentiation operator use to make the squre and the secound number use to give the power to the above number."
   ]
  },
  {
   "cell_type": "code",
   "execution_count": 33,
   "id": "35af587c-4c09-48ff-9bf2-0aef45edd542",
   "metadata": {},
   "outputs": [
    {
     "data": {
      "text/plain": [
       "8"
      ]
     },
     "execution_count": 33,
     "metadata": {},
     "output_type": "execute_result"
    }
   ],
   "source": [
    "2 ** 3"
   ]
  },
  {
   "cell_type": "markdown",
   "id": "6a08e1fd-0334-4219-b87d-6906ea8e40cc",
   "metadata": {},
   "source": [
    "Q4. Create a list of length 10 of your choice containing multiple types of data. Using for loop print the\n",
    "element and its data type."
   ]
  },
  {
   "cell_type": "code",
   "execution_count": 34,
   "id": "3f79341b-bf11-4c44-b2bc-6345950955b7",
   "metadata": {},
   "outputs": [
    {
     "name": "stdout",
     "output_type": "stream",
     "text": [
      "12\n",
      "<class 'int'>\n",
      "54\n",
      "<class 'int'>\n",
      "World\n",
      "<class 'str'>\n",
      "534\n",
      "<class 'int'>\n",
      "87\n",
      "<class 'int'>\n",
      "34.43\n",
      "<class 'float'>\n",
      "True\n",
      "<class 'bool'>\n",
      "False\n",
      "<class 'bool'>\n",
      "(12+2j)\n",
      "<class 'complex'>\n",
      "Hello\n",
      "<class 'str'>\n"
     ]
    }
   ],
   "source": [
    "l = [12,54,\"World\",534,87,34.43,True,False,12 + 2j,\"Hello\"]\n",
    "\n",
    "for i in l:\n",
    "    print(i)\n",
    "    print((type(i)))"
   ]
  },
  {
   "cell_type": "markdown",
   "id": "aa429111-3633-4793-aaa9-4ffb4d078292",
   "metadata": {},
   "source": [
    "Q5. Using a while loop, verify if the number A is purely divisible by number B and if so then how many\n",
    "times it can be divisible."
   ]
  },
  {
   "cell_type": "code",
   "execution_count": 7,
   "id": "7b38c2c5-208f-480a-b5c5-8cb4baa6b140",
   "metadata": {},
   "outputs": [
    {
     "name": "stdout",
     "output_type": "stream",
     "text": [
      "A is divisible by B 3 times\n"
     ]
    }
   ],
   "source": [
    "# Ans 5:-\n",
    "A = 1000\n",
    "B = 5\n",
    "count = 0\n",
    "\n",
    "while A % B == 0:\n",
    "    A = A // B\n",
    "    count += 1\n",
    "\n",
    "print(f\"A is divisible by B {count} times\")"
   ]
  },
  {
   "cell_type": "code",
   "execution_count": null,
   "id": "9440c45d-8a8e-4f7f-8de3-9c86d909b181",
   "metadata": {},
   "outputs": [],
   "source": []
  },
  {
   "cell_type": "markdown",
   "id": "1dbe1e16-8012-4159-999a-fa9ce36d9eb3",
   "metadata": {},
   "source": [
    "Q6. Create a list containing 25 int type data. Using for loop and if-else condition print if the element is\n",
    "divisible by 3 or not."
   ]
  },
  {
   "cell_type": "code",
   "execution_count": 35,
   "id": "1d1f6645-844f-486e-82e0-7c8b97c0cf24",
   "metadata": {},
   "outputs": [
    {
     "name": "stdout",
     "output_type": "stream",
     "text": [
      "12 is divisible by 3\n",
      "7 is not divisible by 3\n",
      "33 is divisible by 3\n",
      "18 is divisible by 3\n",
      "21 is divisible by 3\n",
      "9 is divisible by 3\n",
      "15 is divisible by 3\n",
      "4 is not divisible by 3\n",
      "6 is divisible by 3\n",
      "27 is divisible by 3\n",
      "30 is divisible by 3\n",
      "14 is not divisible by 3\n",
      "11 is not divisible by 3\n",
      "20 is not divisible by 3\n",
      "3 is divisible by 3\n",
      "8 is not divisible by 3\n",
      "17 is not divisible by 3\n",
      "22 is not divisible by 3\n",
      "25 is not divisible by 3\n",
      "36 is divisible by 3\n",
      "2 is not divisible by 3\n",
      "13 is not divisible by 3\n",
      "19 is not divisible by 3\n",
      "10 is not divisible by 3\n",
      "16 is not divisible by 3\n"
     ]
    }
   ],
   "source": [
    "my_list = [12, 7, 33, 18, 21, 9, 15, 4, 6, 27, 30, 14, 11, 20, 3, 8, 17, 22, 25, 36, 2, 13, 19, 10, 16]\n",
    "for num in my_list:\n",
    "    if num % 3 == 0:\n",
    "        print(num, \"is divisible by 3\")\n",
    "    else:\n",
    "        print(num, \"is not divisible by 3\")\n"
   ]
  },
  {
   "cell_type": "markdown",
   "id": "3849c963-0246-4eb1-9535-4aa73a1f62dc",
   "metadata": {},
   "source": [
    "Q7. What do you understand about mutable and immutable data types? Give examples for both showing\n",
    "this property."
   ]
  },
  {
   "cell_type": "code",
   "execution_count": null,
   "id": "73417192-9e6b-4d7b-b036-b43e96f26d49",
   "metadata": {},
   "outputs": [],
   "source": [
    "Mutable --> Mutable data type can be modify after they are created\n",
    "        --> Examples of mutable data types in Python include lists, dictionaries, and sets."
   ]
  },
  {
   "cell_type": "code",
   "execution_count": 40,
   "id": "734cdb9b-71c7-4be9-af37-57a0ca2f2f88",
   "metadata": {},
   "outputs": [],
   "source": [
    "a = [10,14,43,35]"
   ]
  },
  {
   "cell_type": "code",
   "execution_count": 43,
   "id": "921dc2bf-467b-4e8a-985a-7bbf791b509d",
   "metadata": {},
   "outputs": [
    {
     "data": {
      "text/plain": [
       "[10, 15, 43, 35]"
      ]
     },
     "execution_count": 43,
     "metadata": {},
     "output_type": "execute_result"
    }
   ],
   "source": [
    "a[1] = 15\n",
    "a"
   ]
  },
  {
   "cell_type": "code",
   "execution_count": null,
   "id": "9e6ee0e6-c72b-4efd-9991-08bfc649d99a",
   "metadata": {},
   "outputs": [],
   "source": [
    "Immutable -->Immutable data type can not be modify after they are created\n",
    "          -->Examples of immutable data types in Python include integers, floats, strings, and tuples."
   ]
  },
  {
   "cell_type": "code",
   "execution_count": 44,
   "id": "4e991388-6c18-44cf-bd53-d6d06a78fb1b",
   "metadata": {},
   "outputs": [],
   "source": [
    "b = \"apple\""
   ]
  },
  {
   "cell_type": "code",
   "execution_count": 45,
   "id": "093bc4ab-5c07-42c6-b06e-0fe027adad1b",
   "metadata": {},
   "outputs": [
    {
     "data": {
      "text/plain": [
       "'p'"
      ]
     },
     "execution_count": 45,
     "metadata": {},
     "output_type": "execute_result"
    }
   ],
   "source": [
    "b[1]"
   ]
  },
  {
   "cell_type": "code",
   "execution_count": 46,
   "id": "e767ae6c-3ddb-432a-81dd-669c2bd40e30",
   "metadata": {},
   "outputs": [
    {
     "ename": "TypeError",
     "evalue": "'str' object does not support item assignment",
     "output_type": "error",
     "traceback": [
      "\u001b[0;31m---------------------------------------------------------------------------\u001b[0m",
      "\u001b[0;31mTypeError\u001b[0m                                 Traceback (most recent call last)",
      "Cell \u001b[0;32mIn[46], line 1\u001b[0m\n\u001b[0;32m----> 1\u001b[0m \u001b[43mb\u001b[49m\u001b[43m[\u001b[49m\u001b[38;5;241;43m1\u001b[39;49m\u001b[43m]\u001b[49m \u001b[38;5;241m=\u001b[39m a\n",
      "\u001b[0;31mTypeError\u001b[0m: 'str' object does not support item assignment"
     ]
    }
   ],
   "source": [
    "b[1] = a"
   ]
  },
  {
   "cell_type": "code",
   "execution_count": null,
   "id": "1a576ae5-6d6c-4e5d-b8f6-3d84bf0b483a",
   "metadata": {},
   "outputs": [],
   "source": []
  }
 ],
 "metadata": {
  "kernelspec": {
   "display_name": "Python 3 (ipykernel)",
   "language": "python",
   "name": "python3"
  },
  "language_info": {
   "codemirror_mode": {
    "name": "ipython",
    "version": 3
   },
   "file_extension": ".py",
   "mimetype": "text/x-python",
   "name": "python",
   "nbconvert_exporter": "python",
   "pygments_lexer": "ipython3",
   "version": "3.10.8"
  }
 },
 "nbformat": 4,
 "nbformat_minor": 5
}
