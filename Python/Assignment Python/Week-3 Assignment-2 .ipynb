{
 "cells": [
  {
   "cell_type": "markdown",
   "id": "2ecca12c-e3cb-4687-8b33-49c0c3c0847a",
   "metadata": {},
   "source": [
    "Q1. Create a python program to sort the given list of tuples based on integer value using a\n",
    "lambda function."
   ]
  },
  {
   "cell_type": "code",
   "execution_count": 10,
   "id": "7651546b-e3d0-41f5-bb92-9755287ea147",
   "metadata": {},
   "outputs": [
    {
     "name": "stdout",
     "output_type": "stream",
     "text": [
      "('Jack Kallis', 25534)\n",
      "('Ricky Ponting', 27483)\n",
      "('Sachin Tendulkar', 34357)\n",
      "('Virat Kohli', 24936)\n"
     ]
    }
   ],
   "source": [
    "data = [('Sachin Tendulkar', 34357), ('Ricky Ponting', 27483), ('Jack Kallis', 25534), ('Virat Kohli', 24936)]\n",
    "sort_data = sorted(data, key = lambda x: x[0])\n",
    "\n",
    "for i in sort_data:\n",
    "    print(i)"
   ]
  },
  {
   "cell_type": "markdown",
   "id": "a1b3f321-1cf6-4130-9c77-7a0e3d80fb54",
   "metadata": {},
   "source": [
    "Q2. Write a Python Program to find the squares of all the numbers in the given list of integers using\n",
    "lambda and map functions."
   ]
  },
  {
   "cell_type": "code",
   "execution_count": 11,
   "id": "16464685-c419-456e-b92c-bed98569257d",
   "metadata": {},
   "outputs": [
    {
     "data": {
      "text/plain": [
       "[1, 4, 9, 16, 25, 36, 49, 64, 81, 100]"
      ]
     },
     "execution_count": 11,
     "metadata": {},
     "output_type": "execute_result"
    }
   ],
   "source": [
    "l = [1, 2, 3, 4, 5, 6, 7, 8, 9, 10]\n",
    "def squre(x):\n",
    "    return(x**2)\n",
    "list(map(lambda x: x**2 , l))\n",
    "    "
   ]
  },
  {
   "cell_type": "markdown",
   "id": "d26233cd-3501-42be-b359-7e958aae7669",
   "metadata": {},
   "source": [
    "Q3. Write a python program to convert the given list of integers into a tuple of strings. Use map and\n",
    "lambda functions"
   ]
  },
  {
   "cell_type": "code",
   "execution_count": 12,
   "id": "1b7d6c9c-0db9-4ad0-ae24-2023cf248b03",
   "metadata": {},
   "outputs": [
    {
     "name": "stdout",
     "output_type": "stream",
     "text": [
      "('1', '2', '3', '4', '5', '6', '7', '8', '9', '10')\n"
     ]
    }
   ],
   "source": [
    "Given_String = [1, 2, 3, 4, 5, 6, 7, 8, 9, 10]\n",
    "str_tuple = tuple(map(lambda x : str(x), Given_String))\n",
    "print(str_tuple)"
   ]
  },
  {
   "cell_type": "markdown",
   "id": "0bd2fbd8-b1db-48b7-b91e-293ee6758f87",
   "metadata": {},
   "source": [
    "Q4. Write a python program using reduce function to compute the product of a list containing numbers\n",
    "from 1 to 25."
   ]
  },
  {
   "cell_type": "code",
   "execution_count": 13,
   "id": "1a0d176a-9bdc-487f-8caf-810633001786",
   "metadata": {},
   "outputs": [
    {
     "name": "stdout",
     "output_type": "stream",
     "text": [
      "15511210043330985984000000\n"
     ]
    }
   ],
   "source": [
    "from functools import reduce\n",
    "num_list = list(range(1,26))\n",
    "\n",
    "product = reduce(lambda x,y : x * y , num_list)\n",
    "print(product)"
   ]
  },
  {
   "cell_type": "markdown",
   "id": "cf7eac6b-8720-40b5-a539-d9dfb23022d6",
   "metadata": {},
   "source": [
    "Q5. Write a python program to filter the numbers in a given list that are divisible by 2 and 3 using the\n",
    "filter function."
   ]
  },
  {
   "cell_type": "code",
   "execution_count": 17,
   "id": "12c30cde-6390-4664-b492-9bc27a6d4815",
   "metadata": {},
   "outputs": [
    {
     "name": "stdout",
     "output_type": "stream",
     "text": [
      "[6, 60, 90, 120]\n"
     ]
    }
   ],
   "source": [
    "numb = [2, 3, 6, 9, 27, 60, 90, 120, 55, 46]\n",
    "fil_numb = list(filter(lambda x: x % 2 == 0 and x % 3 == 0, numb))\n",
    "print(fil_numb)"
   ]
  },
  {
   "cell_type": "markdown",
   "id": "ba22ad02-d87c-47d6-b972-b43bcbb8fcf3",
   "metadata": {},
   "source": [
    "Q6. Write a python program to find palindromes in the given list of strings using lambda and filter function."
   ]
  },
  {
   "cell_type": "code",
   "execution_count": 19,
   "id": "d41d89cd-19d9-48f0-ade5-ba60797c4df8",
   "metadata": {},
   "outputs": [
    {
     "name": "stdout",
     "output_type": "stream",
     "text": [
      "['php', 'aba', 'radar', 'level']\n"
     ]
    }
   ],
   "source": [
    "string = ['python', 'php', 'aba', 'radar', 'level']\n",
    "pali = list(filter(lambda x: x == x[::-1], string))\n",
    "print(pali)"
   ]
  },
  {
   "cell_type": "code",
   "execution_count": null,
   "id": "0452cdf0-39f6-4120-b44f-b0e13f5e1f34",
   "metadata": {},
   "outputs": [],
   "source": []
  }
 ],
 "metadata": {
  "kernelspec": {
   "display_name": "Python 3 (ipykernel)",
   "language": "python",
   "name": "python3"
  },
  "language_info": {
   "codemirror_mode": {
    "name": "ipython",
    "version": 3
   },
   "file_extension": ".py",
   "mimetype": "text/x-python",
   "name": "python",
   "nbconvert_exporter": "python",
   "pygments_lexer": "ipython3",
   "version": "3.10.8"
  }
 },
 "nbformat": 4,
 "nbformat_minor": 5
}
