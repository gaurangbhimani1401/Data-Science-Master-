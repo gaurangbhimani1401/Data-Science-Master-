{
 "cells": [
  {
   "cell_type": "markdown",
   "id": "e0dbe94b-434a-4634-8b27-21d8e35f0bba",
   "metadata": {},
   "source": [
    "Q1. Which keyword is used to create a function? Create a function to return a list of odd numbers in the\n",
    "range of 1 to 25."
   ]
  },
  {
   "cell_type": "code",
   "execution_count": null,
   "id": "b14a24b1-0628-4231-b0f5-434a456acf92",
   "metadata": {},
   "outputs": [],
   "source": [
    "Ans 1:- The def keyword is used to create a function in Python. "
   ]
  },
  {
   "cell_type": "code",
   "execution_count": 1,
   "id": "a55b09cd-a77c-41ce-9001-89d6012968e7",
   "metadata": {},
   "outputs": [],
   "source": [
    "def odd():\n",
    "    odd_num = []\n",
    "    for i in range(1,26):\n",
    "        if i % 2 != 0:\n",
    "            odd_num.append(i)\n",
    "    return odd_num"
   ]
  },
  {
   "cell_type": "code",
   "execution_count": 4,
   "id": "3d1963bd-368f-4165-89b7-a6d7a333f29a",
   "metadata": {},
   "outputs": [
    {
     "name": "stdout",
     "output_type": "stream",
     "text": [
      "[1, 3, 5, 7, 9, 11, 13, 15, 17, 19, 21, 23, 25]\n"
     ]
    }
   ],
   "source": [
    "result = odd()\n",
    "print(result)"
   ]
  },
  {
   "cell_type": "markdown",
   "id": "3eac1032-6968-4789-8c57-6b823cf47dd5",
   "metadata": {},
   "source": [
    "Q2. Why *args and **kwargs is used in some functions? Create a function each for *args and **kwargs\n",
    "to demonstrate their use."
   ]
  },
  {
   "cell_type": "code",
   "execution_count": null,
   "id": "5c5d87ef-8143-4825-b970-a9270a116475",
   "metadata": {},
   "outputs": [],
   "source": [
    "Ans 2 :-\n",
    "The *args and **kwargs are used in Python functions to accept a variable number of arguments."
   ]
  },
  {
   "cell_type": "code",
   "execution_count": 5,
   "id": "c559c372-3d74-4c3e-b047-a043bd834faa",
   "metadata": {},
   "outputs": [
    {
     "name": "stdout",
     "output_type": "stream",
     "text": [
      "Hello, Gaurang!\n",
      "Hello, Bhimani!\n"
     ]
    }
   ],
   "source": [
    "def greet(*args):\n",
    "    for name in args:\n",
    "        print(\"Hello, \" + name + \"!\")\n",
    "\n",
    "greet(\"Gaurang\", \"Bhimani\")"
   ]
  },
  {
   "cell_type": "code",
   "execution_count": 8,
   "id": "05b06122-4530-4ea4-9bfa-e47f647fb6db",
   "metadata": {},
   "outputs": [
    {
     "name": "stdout",
     "output_type": "stream",
     "text": [
      "name: Gaurang\n",
      "age: 18\n",
      "State: Gujarat\n"
     ]
    }
   ],
   "source": [
    "def personal_detail(**kwargs):\n",
    "    for key, value in kwargs.items():\n",
    "        print(key + \": \" + value)\n",
    "\n",
    "personal_detail(name=\"Gaurang\", age=\"18\", State=\"Gujarat\")"
   ]
  },
  {
   "cell_type": "markdown",
   "id": "c50de788-2b6f-49f4-8747-ae18154d0bf1",
   "metadata": {},
   "source": [
    "Q3. What is an iterator in python? Name the method used to initialise the iterator object and the method\n",
    "used for iteration. Use these methods to print the first five elements of the given list [2, 4, 6, 8, 10, 12, 14,\n",
    "16, 18, 20]."
   ]
  },
  {
   "cell_type": "code",
   "execution_count": null,
   "id": "9c7ee666-61df-42ff-927f-ee56217015a3",
   "metadata": {},
   "outputs": [],
   "source": [
    "Ans 3:- Iterator is an object that allows iteration over a collection of elements.\n",
    "        It provides a way to access the elements.\n",
    "        To initialize an iterator object in Python we use the iter() method."
   ]
  },
  {
   "cell_type": "code",
   "execution_count": 9,
   "id": "8a4e35f5-ce24-4bee-93f9-487e1234527c",
   "metadata": {},
   "outputs": [
    {
     "name": "stdout",
     "output_type": "stream",
     "text": [
      "2\n",
      "4\n",
      "6\n",
      "8\n",
      "20\n"
     ]
    }
   ],
   "source": [
    "l = [2,4,6,8,20,13,34,32,34,54,3423,23,43,54]\n",
    "my_iterator = iter(l)\n",
    "\n",
    "for i in range(5):\n",
    "    e = next(my_iterator)\n",
    "    print(e)"
   ]
  },
  {
   "cell_type": "markdown",
   "id": "81a5f58b-6442-47cf-97d0-42eaa3b2f827",
   "metadata": {},
   "source": [
    "Q4. What is a generator function in python? Why yield keyword is used? Give an example of a generator\n",
    "function."
   ]
  },
  {
   "cell_type": "code",
   "execution_count": null,
   "id": "62eeb8c8-606e-4d71-ae8c-d8414d00c35b",
   "metadata": {},
   "outputs": [],
   "source": [
    "Ams :- A Generator function is a special type of function that returns an iterator instead of a single value.\n",
    "       Generator functions are defined using the yield keyword.\n",
    "       The yield keyword is used in a generator function to indicate where the value should be yielded or returned."
   ]
  },
  {
   "cell_type": "code",
   "execution_count": 7,
   "id": "e26f8182-7678-4cc3-8292-27499d648b04",
   "metadata": {},
   "outputs": [],
   "source": [
    "def even(n):\n",
    "    for i in range(n):\n",
    "        if i % 2 == 0:\n",
    "            yield i\n",
    "            \n",
    "gen = even(10)"
   ]
  },
  {
   "cell_type": "code",
   "execution_count": 8,
   "id": "cd651839-4980-44a0-bf32-8cf93bc51e4c",
   "metadata": {},
   "outputs": [
    {
     "name": "stdout",
     "output_type": "stream",
     "text": [
      "0\n",
      "2\n",
      "4\n",
      "6\n",
      "8\n"
     ]
    }
   ],
   "source": [
    "for j in gen:\n",
    "    print(j)"
   ]
  },
  {
   "cell_type": "markdown",
   "id": "08db2542-a73a-4354-a313-aaa69afd40b8",
   "metadata": {},
   "source": [
    "Q5. Create a generator function for prime numbers less than 1000. Use the next() method to print the first 20 prime numbers."
   ]
  },
  {
   "cell_type": "code",
   "execution_count": 9,
   "id": "ac3db497-74df-4adb-82f1-e0e5b27feeac",
   "metadata": {},
   "outputs": [],
   "source": [
    "def gen_prime():\n",
    "    num = 2\n",
    "    while True:\n",
    "        if is_prime(num):\n",
    "            yield num \n",
    "        num+=1\n",
    "        \n",
    "def is_prime(n):\n",
    "    if n < 2:\n",
    "        return False\n",
    "    for i in range(2, int(n**0.5) +1 ):\n",
    "        if n % 2 == 0:\n",
    "            return False\n",
    "        return True"
   ]
  },
  {
   "cell_type": "code",
   "execution_count": 12,
   "id": "123b4821-01db-4993-8bd8-92d34f1cd15c",
   "metadata": {},
   "outputs": [
    {
     "name": "stdout",
     "output_type": "stream",
     "text": [
      "5\n",
      "7\n",
      "9\n",
      "11\n",
      "13\n",
      "15\n",
      "17\n",
      "19\n",
      "21\n",
      "23\n",
      "25\n",
      "27\n",
      "29\n",
      "31\n",
      "33\n",
      "35\n",
      "37\n",
      "39\n",
      "41\n",
      "43\n"
     ]
    }
   ],
   "source": [
    "prime_gen = gen_prime()\n",
    "for _ in range(20):\n",
    "    print(next(prime_gen))"
   ]
  },
  {
   "cell_type": "markdown",
   "id": "098a7b63-5fd3-404f-b06c-b16496a2dded",
   "metadata": {},
   "source": [
    "Q6. Write a python program to print the first 10 Fibonacci numbers using a while loop."
   ]
  },
  {
   "cell_type": "code",
   "execution_count": 45,
   "id": "e46fe0e8-c2e3-4bb4-ac5a-21f148ca3bd3",
   "metadata": {},
   "outputs": [],
   "source": [
    "def fibo():\n",
    "    a,b = 0,1\n",
    "    while True:\n",
    "        yield a\n",
    "        a,b = b , a+b"
   ]
  },
  {
   "cell_type": "code",
   "execution_count": 46,
   "id": "713de513-b790-45ad-abd7-d2a472375e7f",
   "metadata": {},
   "outputs": [],
   "source": [
    "fib = fibo()"
   ]
  },
  {
   "cell_type": "code",
   "execution_count": 47,
   "id": "02386958-1723-47c1-927b-b7e077819dc6",
   "metadata": {},
   "outputs": [
    {
     "name": "stdout",
     "output_type": "stream",
     "text": [
      "0\n",
      "1\n",
      "1\n",
      "2\n",
      "3\n",
      "5\n",
      "8\n",
      "13\n",
      "21\n",
      "34\n"
     ]
    }
   ],
   "source": [
    "for i in range(10):\n",
    "    print(next(fib))"
   ]
  },
  {
   "cell_type": "markdown",
   "id": "afbbc4ea-b943-47a0-ad51-d7b2eb5bc246",
   "metadata": {},
   "source": [
    "Q7. Write a List Comprehension to iterate through the given string: ‘pwskills’.\n",
    "Expected output: ['p', 'w', 's', 'k', 'i', 'l', 'l', 's']"
   ]
  },
  {
   "cell_type": "code",
   "execution_count": 49,
   "id": "0dcb5765-a5af-4177-99fd-8f189170bd79",
   "metadata": {},
   "outputs": [
    {
     "name": "stdout",
     "output_type": "stream",
     "text": [
      "['p', 'w', 's', 'k', 'i', 'l', 'l', 's']\n"
     ]
    }
   ],
   "source": [
    "string = 'pwskills'\n",
    "list(string)\n",
    "print(output)"
   ]
  },
  {
   "cell_type": "markdown",
   "id": "7a340972-a905-458f-a431-63909c2dfd23",
   "metadata": {},
   "source": [
    "Q8. Write a python program to check whether a given number is Palindrome or not using a while loop."
   ]
  },
  {
   "cell_type": "code",
   "execution_count": 50,
   "id": "7266982e-61e5-42b2-af64-f072b1a677a1",
   "metadata": {},
   "outputs": [
    {
     "name": "stdin",
     "output_type": "stream",
     "text": [
      "Enter a number:  121\n"
     ]
    },
    {
     "name": "stdout",
     "output_type": "stream",
     "text": [
      "121 is a palindrome\n"
     ]
    }
   ],
   "source": [
    "def is_palind(number):\n",
    "    orig_number = number\n",
    "    rev_number = 0\n",
    "    \n",
    "    while number > 0:\n",
    "        digit = number % 10\n",
    "        rev_number = (rev_number * 10) + digit\n",
    "        number //= 10\n",
    "    \n",
    "    if orig_number == rev_number:\n",
    "        return True\n",
    "    else:\n",
    "        return False\n",
    "\n",
    "\n",
    "number = int(input(\"Enter a number: \"))\n",
    "\n",
    "if is_palind(number):\n",
    "    print(number, \"is a palindrome\")\n",
    "else:\n",
    "    print(number, \"is not a palindrome\")\n"
   ]
  },
  {
   "cell_type": "markdown",
   "id": "ee8dfd90-ffae-4af9-9e77-cc81f557ed28",
   "metadata": {},
   "source": [
    "Q9. Write a code to print odd numbers from 1 to 100 using list comprehension."
   ]
  },
  {
   "cell_type": "code",
   "execution_count": 54,
   "id": "f6343e91-163a-439c-ad14-621f28978a41",
   "metadata": {},
   "outputs": [],
   "source": [
    "odd_num = []\n",
    "for i in range(0,101):\n",
    "    if i %2 != 0:\n",
    "        odd_num.append(i)"
   ]
  },
  {
   "cell_type": "code",
   "execution_count": 55,
   "id": "049cdb38-864c-4f57-ab99-27739ce03f80",
   "metadata": {},
   "outputs": [
    {
     "data": {
      "text/plain": [
       "[1,\n",
       " 3,\n",
       " 5,\n",
       " 7,\n",
       " 9,\n",
       " 11,\n",
       " 13,\n",
       " 15,\n",
       " 17,\n",
       " 19,\n",
       " 21,\n",
       " 23,\n",
       " 25,\n",
       " 27,\n",
       " 29,\n",
       " 31,\n",
       " 33,\n",
       " 35,\n",
       " 37,\n",
       " 39,\n",
       " 41,\n",
       " 43,\n",
       " 45,\n",
       " 47,\n",
       " 49,\n",
       " 51,\n",
       " 53,\n",
       " 55,\n",
       " 57,\n",
       " 59,\n",
       " 61,\n",
       " 63,\n",
       " 65,\n",
       " 67,\n",
       " 69,\n",
       " 71,\n",
       " 73,\n",
       " 75,\n",
       " 77,\n",
       " 79,\n",
       " 81,\n",
       " 83,\n",
       " 85,\n",
       " 87,\n",
       " 89,\n",
       " 91,\n",
       " 93,\n",
       " 95,\n",
       " 97,\n",
       " 99]"
      ]
     },
     "execution_count": 55,
     "metadata": {},
     "output_type": "execute_result"
    }
   ],
   "source": [
    "odd_num"
   ]
  },
  {
   "cell_type": "code",
   "execution_count": null,
   "id": "04b8db37-154d-4112-ac7e-23e5f1f4fc0f",
   "metadata": {},
   "outputs": [],
   "source": []
  }
 ],
 "metadata": {
  "kernelspec": {
   "display_name": "Python 3 (ipykernel)",
   "language": "python",
   "name": "python3"
  },
  "language_info": {
   "codemirror_mode": {
    "name": "ipython",
    "version": 3
   },
   "file_extension": ".py",
   "mimetype": "text/x-python",
   "name": "python",
   "nbconvert_exporter": "python",
   "pygments_lexer": "ipython3",
   "version": "3.10.8"
  }
 },
 "nbformat": 4,
 "nbformat_minor": 5
}
