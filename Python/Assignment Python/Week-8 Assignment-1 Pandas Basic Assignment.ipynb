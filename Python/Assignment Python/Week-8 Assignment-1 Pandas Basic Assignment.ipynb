{
 "cells": [
  {
   "cell_type": "markdown",
   "id": "68d29221-3fbc-4bcc-85e7-7bc2239ec143",
   "metadata": {},
   "source": [
    "Q1. Create a Pandas Series that contains the following data: 4, 8, 15, 16, 23, and 42. Then, print the series."
   ]
  },
  {
   "cell_type": "code",
   "execution_count": 1,
   "id": "09c9bf24-04d5-4264-9713-fce60e94bdc1",
   "metadata": {},
   "outputs": [],
   "source": [
    "# Ans 1:- \n",
    "import pandas as pd\n",
    "data = [4,8,15,16,23,42]\n",
    "series = pd.Series(data)"
   ]
  },
  {
   "cell_type": "code",
   "execution_count": 2,
   "id": "d377dcdd-8434-4afd-aefc-52c0ef0350c7",
   "metadata": {},
   "outputs": [
    {
     "data": {
      "text/plain": [
       "0     4\n",
       "1     8\n",
       "2    15\n",
       "3    16\n",
       "4    23\n",
       "5    42\n",
       "dtype: int64"
      ]
     },
     "execution_count": 2,
     "metadata": {},
     "output_type": "execute_result"
    }
   ],
   "source": [
    "series"
   ]
  },
  {
   "cell_type": "code",
   "execution_count": null,
   "id": "907e65ff-d55e-4c18-a4f5-f0377adc484a",
   "metadata": {},
   "outputs": [],
   "source": []
  },
  {
   "cell_type": "markdown",
   "id": "9d48b859-7e33-4099-8dbf-57fb80321b70",
   "metadata": {},
   "source": [
    "Q2. Create a variable of list type containing 10 elements in it, and apply pandas.Series function on the\n",
    "variable print it."
   ]
  },
  {
   "cell_type": "code",
   "execution_count": 8,
   "id": "662e82f3-c72b-40ce-a672-dad40667bd47",
   "metadata": {},
   "outputs": [],
   "source": [
    "# Ans 2:- \n",
    "import pandas as pd\n",
    "my_list = [1,2,3,4,5,6,7,8,9,10]\n",
    "ser = pd.Series(my_list)"
   ]
  },
  {
   "cell_type": "code",
   "execution_count": 9,
   "id": "93406289-6ff2-4636-b44c-2b3494327074",
   "metadata": {},
   "outputs": [
    {
     "data": {
      "text/plain": [
       "0     1\n",
       "1     2\n",
       "2     3\n",
       "3     4\n",
       "4     5\n",
       "5     6\n",
       "6     7\n",
       "7     8\n",
       "8     9\n",
       "9    10\n",
       "dtype: int64"
      ]
     },
     "execution_count": 9,
     "metadata": {},
     "output_type": "execute_result"
    }
   ],
   "source": [
    "ser"
   ]
  },
  {
   "cell_type": "markdown",
   "id": "86695e3c-1559-4214-a67c-4fc60bcebf9b",
   "metadata": {},
   "source": [
    "Q3. Create a Pandas DataFrame that contains the following data:\n",
    "\n",
    "Name\n",
    "Alice\n",
    "Bob\n",
    "Claire\n",
    "\n",
    "Age\n",
    "25\n",
    "30\n",
    "27\n",
    "\n",
    "Gender\n",
    "Female\n",
    "Male\n",
    "Female\n",
    "\n",
    "Then, print the DataFrame."
   ]
  },
  {
   "cell_type": "code",
   "execution_count": 14,
   "id": "ff6e0418-125e-4853-9469-3ad9241bb109",
   "metadata": {},
   "outputs": [],
   "source": [
    "# Ans 3:-\n",
    "import pandas as pd\n",
    "data = {\n",
    "        'Name':['Alice','Bob','Claire'],\n",
    "        'Age': [25, 30, 27],\n",
    "        'Gender': ['Female', 'Male', 'Female']\n",
    "        }\n",
    "df = pd.DataFrame(data)"
   ]
  },
  {
   "cell_type": "code",
   "execution_count": 15,
   "id": "7d72088b-c547-487f-b5bf-3f58558738b8",
   "metadata": {},
   "outputs": [
    {
     "data": {
      "text/html": [
       "<div>\n",
       "<style scoped>\n",
       "    .dataframe tbody tr th:only-of-type {\n",
       "        vertical-align: middle;\n",
       "    }\n",
       "\n",
       "    .dataframe tbody tr th {\n",
       "        vertical-align: top;\n",
       "    }\n",
       "\n",
       "    .dataframe thead th {\n",
       "        text-align: right;\n",
       "    }\n",
       "</style>\n",
       "<table border=\"1\" class=\"dataframe\">\n",
       "  <thead>\n",
       "    <tr style=\"text-align: right;\">\n",
       "      <th></th>\n",
       "      <th>Name</th>\n",
       "      <th>Age</th>\n",
       "      <th>Gender</th>\n",
       "    </tr>\n",
       "  </thead>\n",
       "  <tbody>\n",
       "    <tr>\n",
       "      <th>0</th>\n",
       "      <td>Alice</td>\n",
       "      <td>25</td>\n",
       "      <td>Female</td>\n",
       "    </tr>\n",
       "    <tr>\n",
       "      <th>1</th>\n",
       "      <td>Bob</td>\n",
       "      <td>30</td>\n",
       "      <td>Male</td>\n",
       "    </tr>\n",
       "    <tr>\n",
       "      <th>2</th>\n",
       "      <td>Claire</td>\n",
       "      <td>27</td>\n",
       "      <td>Female</td>\n",
       "    </tr>\n",
       "  </tbody>\n",
       "</table>\n",
       "</div>"
      ],
      "text/plain": [
       "     Name  Age  Gender\n",
       "0   Alice   25  Female\n",
       "1     Bob   30    Male\n",
       "2  Claire   27  Female"
      ]
     },
     "execution_count": 15,
     "metadata": {},
     "output_type": "execute_result"
    }
   ],
   "source": [
    "df"
   ]
  },
  {
   "cell_type": "code",
   "execution_count": null,
   "id": "9bb5ec09-416d-40a7-b798-688f562a1bd4",
   "metadata": {},
   "outputs": [],
   "source": []
  },
  {
   "cell_type": "markdown",
   "id": "eacab5c8-3a5d-4887-9df2-43e824343102",
   "metadata": {},
   "source": [
    "Q4. What is ‘DataFrame’ in pandas and how is it different from pandas.series? Explain with an example."
   ]
  },
  {
   "cell_type": "code",
   "execution_count": null,
   "id": "33621591-a511-4697-9d45-629043bdba91",
   "metadata": {},
   "outputs": [],
   "source": [
    "Ans 4:-\n",
    "In Pandas, a DataFrame is a 2-dimensional labeled data structure that can store data of different types (e.g., numerical, textual, categorical) in a tabular form.\n",
    "It is similar to a table in a relational database or a spreadsheet in Excel."
   ]
  },
  {
   "cell_type": "code",
   "execution_count": null,
   "id": "c5525610-2f10-47dc-9849-7b7a8d9036b5",
   "metadata": {},
   "outputs": [],
   "source": [
    "On the other hand, a Series in Pandas is a one-dimensional labeled array that can hold data of any type.\n",
    "It is similar to a column in a DataFrame or a single column from an Excel sheet."
   ]
  },
  {
   "cell_type": "code",
   "execution_count": 16,
   "id": "6abfa336-a414-4f33-8470-531e643ec144",
   "metadata": {},
   "outputs": [],
   "source": [
    "# DataFrame\n",
    "import pandas as pd\n",
    "data = {\n",
    "        'Name':['Alice','Bob','Claire'],\n",
    "        'Age': [25, 30, 27],\n",
    "        'Gender': ['Female', 'Male', 'Female']\n",
    "        }\n",
    "df = pd.DataFrame(data)"
   ]
  },
  {
   "cell_type": "code",
   "execution_count": 17,
   "id": "3fd31284-0e0b-4792-9880-e86b20a48ac1",
   "metadata": {},
   "outputs": [
    {
     "data": {
      "text/html": [
       "<div>\n",
       "<style scoped>\n",
       "    .dataframe tbody tr th:only-of-type {\n",
       "        vertical-align: middle;\n",
       "    }\n",
       "\n",
       "    .dataframe tbody tr th {\n",
       "        vertical-align: top;\n",
       "    }\n",
       "\n",
       "    .dataframe thead th {\n",
       "        text-align: right;\n",
       "    }\n",
       "</style>\n",
       "<table border=\"1\" class=\"dataframe\">\n",
       "  <thead>\n",
       "    <tr style=\"text-align: right;\">\n",
       "      <th></th>\n",
       "      <th>Name</th>\n",
       "      <th>Age</th>\n",
       "      <th>Gender</th>\n",
       "    </tr>\n",
       "  </thead>\n",
       "  <tbody>\n",
       "    <tr>\n",
       "      <th>0</th>\n",
       "      <td>Alice</td>\n",
       "      <td>25</td>\n",
       "      <td>Female</td>\n",
       "    </tr>\n",
       "    <tr>\n",
       "      <th>1</th>\n",
       "      <td>Bob</td>\n",
       "      <td>30</td>\n",
       "      <td>Male</td>\n",
       "    </tr>\n",
       "    <tr>\n",
       "      <th>2</th>\n",
       "      <td>Claire</td>\n",
       "      <td>27</td>\n",
       "      <td>Female</td>\n",
       "    </tr>\n",
       "  </tbody>\n",
       "</table>\n",
       "</div>"
      ],
      "text/plain": [
       "     Name  Age  Gender\n",
       "0   Alice   25  Female\n",
       "1     Bob   30    Male\n",
       "2  Claire   27  Female"
      ]
     },
     "execution_count": 17,
     "metadata": {},
     "output_type": "execute_result"
    }
   ],
   "source": [
    "df"
   ]
  },
  {
   "cell_type": "code",
   "execution_count": 18,
   "id": "a538bbbb-b004-479b-b9a3-7a39267291c2",
   "metadata": {},
   "outputs": [],
   "source": [
    "# Series\n",
    "import pandas as pd\n",
    "data = {\n",
    "        'Name':['Alice','Bob','Claire'],\n",
    "        'Age': [25, 30, 27],\n",
    "        'Gender': ['Female', 'Male', 'Female']\n",
    "        }\n",
    "df = pd.Series(data)"
   ]
  },
  {
   "cell_type": "code",
   "execution_count": 19,
   "id": "231fc34c-dbfe-45e0-ab64-570eaa58b052",
   "metadata": {},
   "outputs": [
    {
     "data": {
      "text/plain": [
       "Name        [Alice, Bob, Claire]\n",
       "Age                 [25, 30, 27]\n",
       "Gender    [Female, Male, Female]\n",
       "dtype: object"
      ]
     },
     "execution_count": 19,
     "metadata": {},
     "output_type": "execute_result"
    }
   ],
   "source": [
    "df"
   ]
  },
  {
   "cell_type": "code",
   "execution_count": null,
   "id": "cede3d99-0b36-4c92-8a98-d713a3d421b4",
   "metadata": {},
   "outputs": [],
   "source": []
  },
  {
   "cell_type": "markdown",
   "id": "e931a0d7-35c4-4b68-8bbb-47e044521a5c",
   "metadata": {},
   "source": [
    "Q5. What are some common functions you can use to manipulate data in a Pandas DataFrame? Can\n",
    "you give an example of when you might use one of these functions?"
   ]
  },
  {
   "cell_type": "code",
   "execution_count": null,
   "id": "e32c07f0-b9cd-42d8-bb43-aa6465ab4e4f",
   "metadata": {},
   "outputs": [],
   "source": [
    "Ans 5:-\n",
    "head() - Returns the first n rows of the DataFrame. Useful to quickly inspect the data.\n",
    "df.head(5)"
   ]
  },
  {
   "cell_type": "code",
   "execution_count": null,
   "id": "a0c32768-c0d0-4794-b2ff-ad8ec9279afe",
   "metadata": {},
   "outputs": [],
   "source": [
    "tail() - Returns the last n rows of the DataFrame. Useful to quickly inspect the data.\n",
    "df.tail(3)"
   ]
  },
  {
   "cell_type": "code",
   "execution_count": null,
   "id": "74a5dcd2-5056-42fb-9b42-e59c127a03a5",
   "metadata": {},
   "outputs": [],
   "source": [
    "describe() - Generates descriptive statistics of the DataFrame, such as count, mean, standard deviation, minimum, maximum, and quartiles.\n",
    "df.describe()"
   ]
  },
  {
   "cell_type": "code",
   "execution_count": null,
   "id": "c88d0fd9-c865-4b6d-966f-524aa1400a5e",
   "metadata": {},
   "outputs": [],
   "source": [
    "loc[] - Allows for label-based indexing, enabling access to specific rows or columns by their labels.\n",
    "df.loc[:, 'Age']"
   ]
  },
  {
   "cell_type": "code",
   "execution_count": null,
   "id": "3d442855-ae7d-4037-88e5-2f289236884a",
   "metadata": {},
   "outputs": [],
   "source": [
    "iloc[] - Allows for integer-based indexing, enabling access to specific rows or columns by their integer positions.\n",
    "df.iloc[3]"
   ]
  },
  {
   "cell_type": "code",
   "execution_count": null,
   "id": "b7266a20-9ed4-4779-ad44-d69041a2e086",
   "metadata": {},
   "outputs": [],
   "source": []
  },
  {
   "cell_type": "markdown",
   "id": "82f86211-c6c4-4357-b3d2-6584677ff9ce",
   "metadata": {},
   "source": [
    "Q6. Which of the following is mutable in nature Series, DataFrame, Panel?"
   ]
  },
  {
   "cell_type": "code",
   "execution_count": null,
   "id": "3dee3361-7bfd-4ed1-9f5c-47b40272a001",
   "metadata": {},
   "outputs": [],
   "source": [
    "Ans 6:-\n",
    "Series:\n",
    "    A Series in pandas is a one-dimensional labeled array that can hold any data type.\n",
    "    It is mutable, meaning you can modify its values, add or remove elements, or change its index labels."
   ]
  },
  {
   "cell_type": "code",
   "execution_count": null,
   "id": "96473a6c-426a-4b11-9eb8-bd56859f62e1",
   "metadata": {},
   "outputs": [],
   "source": [
    "DataFrame:\n",
    "    A DataFrame is a two-dimensional labeled data structure with columns of potentially different data types.\n",
    "    It is also mutable, allowing you to modify its contents, add or remove columns or rows, or update values in specific cells."
   ]
  },
  {
   "cell_type": "code",
   "execution_count": null,
   "id": "5f86535a-0f71-430d-9e9d-5603b490cd9e",
   "metadata": {},
   "outputs": [],
   "source": [
    "Panel:\n",
    "    Panel was a three-dimensional data structure in pandas, but it has been deprecated since pandas version 0.20.\n",
    "    It is not mutable and has been replaced by other data structures like MultiIndex and Panel4D."
   ]
  },
  {
   "cell_type": "code",
   "execution_count": null,
   "id": "ddd2a598-c883-4c8f-9a0b-f31a60c697fb",
   "metadata": {},
   "outputs": [],
   "source": [
    "The mutual natural series in the nature Series, DataFrame, Panel is as above"
   ]
  },
  {
   "cell_type": "code",
   "execution_count": null,
   "id": "dffacfc0-1d68-41b7-a72e-488627b4ca62",
   "metadata": {},
   "outputs": [],
   "source": []
  },
  {
   "cell_type": "markdown",
   "id": "9b58c3bf-66b1-4f6f-b905-af880f2d54d1",
   "metadata": {},
   "source": [
    "Q7. Create a DataFrame using multiple Series. Explain with an example."
   ]
  },
  {
   "cell_type": "code",
   "execution_count": null,
   "id": "55d07180-1834-474e-9f5e-0bccc68db602",
   "metadata": {},
   "outputs": [],
   "source": [
    "Ans 7:-\n",
    "To create a DataFrame using multiple Series, you can pass a dictionary of Series objects to the DataFrame constructor.\n",
    "Each Series will represent a column in the DataFrame, and the keys of the dictionary will be used as the column names."
   ]
  },
  {
   "cell_type": "code",
   "execution_count": 1,
   "id": "8520b60a-2e40-4a67-a302-6db45efab4c0",
   "metadata": {},
   "outputs": [
    {
     "name": "stdout",
     "output_type": "stream",
     "text": [
      "     Name  Age  Gender\n",
      "0   Alice   25  Female\n",
      "1     Bob   30    Male\n",
      "2  Claire   27  Female\n"
     ]
    }
   ],
   "source": [
    "import pandas as pd\n",
    "name_series = pd.Series(['Alice', 'Bob', 'Claire'])\n",
    "age_series = pd.Series([25, 30, 27])\n",
    "gender_series = pd.Series(['Female', 'Male', 'Female'])\n",
    "\n",
    "data = {'Name': name_series,'Age':age_series,'Gender':gender_series}\n",
    "df = pd.DataFrame(data)\n",
    "print(df)"
   ]
  },
  {
   "cell_type": "code",
   "execution_count": null,
   "id": "fd0d6c97-de4f-4fad-a467-b99d12f32d7b",
   "metadata": {},
   "outputs": [],
   "source": []
  },
  {
   "cell_type": "code",
   "execution_count": null,
   "id": "a3be5e44-0cd2-411b-8ed2-689fcf19b14c",
   "metadata": {},
   "outputs": [],
   "source": []
  }
 ],
 "metadata": {
  "kernelspec": {
   "display_name": "Python 3 (ipykernel)",
   "language": "python",
   "name": "python3"
  },
  "language_info": {
   "codemirror_mode": {
    "name": "ipython",
    "version": 3
   },
   "file_extension": ".py",
   "mimetype": "text/x-python",
   "name": "python",
   "nbconvert_exporter": "python",
   "pygments_lexer": "ipython3",
   "version": "3.10.8"
  }
 },
 "nbformat": 4,
 "nbformat_minor": 5
}
