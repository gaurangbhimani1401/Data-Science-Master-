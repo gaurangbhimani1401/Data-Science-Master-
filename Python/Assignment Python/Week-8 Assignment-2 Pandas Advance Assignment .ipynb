{
 "cells": [
  {
   "cell_type": "markdown",
   "id": "04702e87-67d9-4aea-bf65-696fd01ee904",
   "metadata": {},
   "source": [
    "Q1. List any five functions of the pandas library with execution."
   ]
  },
  {
   "cell_type": "code",
   "execution_count": null,
   "id": "567bfce1-fe1a-4412-a3d8-1de927b92443",
   "metadata": {},
   "outputs": [],
   "source": [
    "Ans 1:-\n",
    "The five function of the pandas library with the execution is as follow:-"
   ]
  },
  {
   "cell_type": "code",
   "execution_count": null,
   "id": "9e8560be-c03f-42fe-a539-361916816bcb",
   "metadata": {},
   "outputs": [],
   "source": [
    "read_csv():\n",
    "    This function is used to read data from a CSV file and create a DataFrame."
   ]
  },
  {
   "cell_type": "code",
   "execution_count": 2,
   "id": "0d51d1d4-0d95-43d0-b675-3d8178088ffb",
   "metadata": {},
   "outputs": [
    {
     "name": "stdout",
     "output_type": "stream",
     "text": [
      "      Name           email_id   mobile_no\n",
      "0  Gaurang  gaurang@gmail.com  9856214589\n"
     ]
    }
   ],
   "source": [
    "import pandas as pd\n",
    "data = pd.read_csv('data.csv')\n",
    "print(data.head(1))"
   ]
  },
  {
   "cell_type": "code",
   "execution_count": null,
   "id": "e41dc49b-204f-4a08-8b44-e1570cce383f",
   "metadata": {},
   "outputs": [],
   "source": [
    "head():\n",
    "    It returns the first n rows of a DataFrame. By default, it returns the first 5 rows."
   ]
  },
  {
   "cell_type": "code",
   "execution_count": 3,
   "id": "70fc1e3c-9d1c-4627-bb9e-45b68a228ca0",
   "metadata": {},
   "outputs": [
    {
     "name": "stdout",
     "output_type": "stream",
     "text": [
      "   A  B\n",
      "0  1  a\n",
      "1  2  b\n",
      "2  3  c\n"
     ]
    }
   ],
   "source": [
    "import pandas as pd\n",
    "data = pd.DataFrame({'A': [1, 2, 3, 4, 5], 'B': ['a', 'b', 'c', 'd', 'e']})\n",
    "print(data.head(3))"
   ]
  },
  {
   "cell_type": "code",
   "execution_count": null,
   "id": "820c3bc2-d57f-463b-9abe-d7520002fe84",
   "metadata": {},
   "outputs": [],
   "source": [
    "describe():\n",
    "    This function generates descriptive statistics of a DataFrame, providing information like count, mean, standard deviation, minimum, maximum, and quartiles."
   ]
  },
  {
   "cell_type": "code",
   "execution_count": 4,
   "id": "22779113-49a6-4270-b0e1-a4fea728abe9",
   "metadata": {},
   "outputs": [
    {
     "name": "stdout",
     "output_type": "stream",
     "text": [
      "              A\n",
      "count  5.000000\n",
      "mean   3.000000\n",
      "std    1.581139\n",
      "min    1.000000\n",
      "25%    2.000000\n",
      "50%    3.000000\n",
      "75%    4.000000\n",
      "max    5.000000\n"
     ]
    }
   ],
   "source": [
    "import pandas as pd\n",
    "data = pd.DataFrame({'A': [1, 2, 3, 4, 5]})\n",
    "print(data.describe())"
   ]
  },
  {
   "cell_type": "code",
   "execution_count": null,
   "id": "7eed092b-3462-4828-83f1-8fe5fb5c6bb9",
   "metadata": {},
   "outputs": [],
   "source": [
    "groupby():\n",
    "    It is used to group data in a DataFrame based on one or more columns. It allows performing aggregations on the grouped data."
   ]
  },
  {
   "cell_type": "code",
   "execution_count": 5,
   "id": "aa5855ac-eb3b-4b14-812e-c715b95b173e",
   "metadata": {},
   "outputs": [
    {
     "name": "stdout",
     "output_type": "stream",
     "text": [
      "       Score\n",
      "Name        \n",
      "Alice   85.0\n",
      "Bob     80.0\n"
     ]
    }
   ],
   "source": [
    "import pandas as pd\n",
    "data = pd.DataFrame({'Name': ['Alice', 'Bob', 'Alice', 'Bob'],\n",
    "                     'Score': [80, 75, 90, 85]})\n",
    "grouped_data = data.groupby('Name').mean()\n",
    "print(grouped_data)"
   ]
  },
  {
   "cell_type": "code",
   "execution_count": null,
   "id": "5b5e95e8-7c84-4555-9fab-81ecfab7f4a2",
   "metadata": {},
   "outputs": [],
   "source": [
    "plot():\n",
    "    This function is used to create various types of plots, such as line plots, bar plots, scatter plots, etc."
   ]
  },
  {
   "cell_type": "code",
   "execution_count": 6,
   "id": "cc2ab9e4-4e6c-411c-a017-997e37ef78e2",
   "metadata": {},
   "outputs": [
    {
     "data": {
      "image/png": "[encoded data removed]",
      "text/plain": [
       "<Figure size 640x480 with 1 Axes>"
      ]
     },
     "metadata": {},
     "output_type": "display_data"
    }
   ],
   "source": [
    "import pandas as pd\n",
    "import matplotlib.pyplot as plt\n",
    "data = pd.DataFrame({'Year': [2010, 2011, 2012, 2013],\n",
    "                     'Sales': [100, 150, 120, 200]})\n",
    "data.plot(x='Year', y='Sales', kind='line')\n",
    "plt.show()"
   ]
  },
  {
   "cell_type": "code",
   "execution_count": null,
   "id": "54c90fa4-7b6d-4edc-b728-32b677827990",
   "metadata": {},
   "outputs": [],
   "source": []
  },
  {
   "cell_type": "markdown",
   "id": "22c42e8f-3db6-4959-9e42-784732859d47",
   "metadata": {},
   "source": [
    "Q2. Given a Pandas DataFrame df with columns 'A', 'B', and 'C', write a Python function to re-index the\n",
    "DataFrame with a new index that starts from 1 and increments by 2 for each row."
   ]
  },
  {
   "cell_type": "code",
   "execution_count": 10,
   "id": "d9a11c4f-14e1-414c-b28e-b78545b1ebe7",
   "metadata": {},
   "outputs": [
    {
     "data": {
      "text/plain": [
       "a                              Braund, Mr. Owen Harris\n",
       "b    Cumings, Mrs. John Bradley (Florence Briggs Th...\n",
       "c                               Heikkinen, Miss. Laina\n",
       "d         Futrelle, Mrs. Jacques Heath (Lily May Peel)\n",
       "e                             Allen, Mr. William Henry\n",
       "f                                     Moran, Mr. James\n",
       "g                              McCarthy, Mr. Timothy J\n",
       "h                       Palsson, Master. Gosta Leonard\n",
       "i    Johnson, Mrs. Oscar W (Elisabeth Vilhelmina Berg)\n",
       "j                  Nasser, Mrs. Nicholas (Adele Achem)\n",
       "dtype: object"
      ]
     },
     "execution_count": 10,
     "metadata": {},
     "output_type": "execute_result"
    }
   ],
   "source": [
    "# Ans 2:-\n",
    "df = pd.read_csv(\"https://raw.githubusercontent.com/datasciencedojo/datasets/master/titanic.csv\")\n",
    "s= df['Name'][0:10]\n",
    "l = ['a','b','c','d','e','f','g','h','i','j']\n",
    "pd.Series(list(s),index=l)"
   ]
  },
  {
   "cell_type": "code",
   "execution_count": null,
   "id": "d8ec0147-bda4-4663-9de5-f9f7ebeb245b",
   "metadata": {},
   "outputs": [],
   "source": []
  },
  {
   "cell_type": "markdown",
   "id": "74f5d8dc-f4c4-44eb-be36-409cf2482a6a",
   "metadata": {},
   "source": [
    "Q3. You have a Pandas DataFrame df with a column named 'Values'. Write a Python function that\n",
    "iterates over the DataFrame and calculates the sum of the first three values in the 'Values' column. The\n",
    "function should print the sum to the console.\n",
    "For example, if the 'Values' column of df contains the values [10, 20, 30, 40, 50], your function should\n",
    "calculate and print the sum of the first three values, which is 60."
   ]
  },
  {
   "cell_type": "code",
   "execution_count": 25,
   "id": "3883a167-e990-4312-900e-83bf6fadbefb",
   "metadata": {},
   "outputs": [
    {
     "name": "stdout",
     "output_type": "stream",
     "text": [
      "Sum of the first three values: 60\n"
     ]
    }
   ],
   "source": [
    "# Ans 3:-\n",
    "import pandas as pd\n",
    "def calculate_sum(df):\n",
    "    values_column = df['Values']\n",
    "    sum_of_first_three = sum(values_column[:3])\n",
    "    print(\"Sum of the first three values:\", sum_of_first_three)\n",
    "\n",
    "df = pd.DataFrame({'Values': [10, 20, 30, 40, 50]})\n",
    "calculate_sum(df)\n"
   ]
  },
  {
   "cell_type": "code",
   "execution_count": null,
   "id": "8d27276d-32c7-4192-b3e2-f8536877deb8",
   "metadata": {},
   "outputs": [],
   "source": []
  },
  {
   "cell_type": "markdown",
   "id": "57dbb2fc-a812-49f1-9ce1-8a4eb766e29a",
   "metadata": {},
   "source": [
    "Q4. Given a Pandas DataFrame df with a column 'Text', write a Python function to create a new column\n",
    "'Word_Count' that contains the number of words in each row of the 'Text' column."
   ]
  },
  {
   "cell_type": "code",
   "execution_count": 26,
   "id": "319cdc6c-368d-4727-aa3f-d035fb4b7bbb",
   "metadata": {},
   "outputs": [
    {
     "name": "stdout",
     "output_type": "stream",
     "text": [
      "                         Text  Word_Count\n",
      "0         Hello, how are you?           4\n",
      "1            I am doing well.           4\n",
      "2  Python programming is fun!           4\n"
     ]
    }
   ],
   "source": [
    "# Ans 4:-\n",
    "import pandas as pd\n",
    "\n",
    "def calculate_word_count(df):\n",
    "    df['Word_Count'] = df['Text'].apply(lambda x: len(str(x).split()))\n",
    "    return df\n",
    "data = {'Text': ['Hello, how are you?', 'I am doing well.', 'Python programming is fun!']}\n",
    "df = pd.DataFrame(data)\n",
    "df = calculate_word_count(df)\n",
    "print(df)"
   ]
  },
  {
   "cell_type": "code",
   "execution_count": null,
   "id": "b0fb4a9c-9d4d-4cbd-bea2-297b4dc0c096",
   "metadata": {},
   "outputs": [],
   "source": []
  },
  {
   "cell_type": "markdown",
   "id": "71f0fc0d-b132-42b8-ac21-b9a8e2950ca2",
   "metadata": {},
   "source": [
    "Q5. How are DataFrame.size() and DataFrame.shape() different?"
   ]
  },
  {
   "cell_type": "code",
   "execution_count": null,
   "id": "78fab70c-c55e-4293-b923-bb3d183d40b0",
   "metadata": {},
   "outputs": [],
   "source": [
    "Ans 5:-\n",
    "DataFrame.size:\n",
    "    It returns the total number of elements in the DataFrame, which is equal to the product of the number of rows and the number of columns.\n",
    "    It provides the total count of all values in the DataFrame, including missing or NaN values."
   ]
  },
  {
   "cell_type": "code",
   "execution_count": 27,
   "id": "77ffc9b8-5c1d-4c0c-a078-6d7547127cf1",
   "metadata": {},
   "outputs": [
    {
     "name": "stdout",
     "output_type": "stream",
     "text": [
      "6\n"
     ]
    }
   ],
   "source": [
    "import pandas as pd\n",
    "data = {'A': [1, 2, 3], 'B': [4, 5, 6]}\n",
    "df = pd.DataFrame(data)\n",
    "print(df.size) "
   ]
  },
  {
   "cell_type": "code",
   "execution_count": null,
   "id": "b871fc6d-c0dd-48ae-9544-b1c4f8fef297",
   "metadata": {},
   "outputs": [],
   "source": [
    "DataFrame.shape:\n",
    "    It returns a tuple that represents the dimensions of the DataFrame.\n",
    "    The tuple consists of two values: the number of rows and the number of columns, respectively.\n",
    "    It provides the structural information about the DataFrame."
   ]
  },
  {
   "cell_type": "code",
   "execution_count": 28,
   "id": "a0d4357f-2d37-45d0-993c-fbf87daf4e3d",
   "metadata": {},
   "outputs": [
    {
     "name": "stdout",
     "output_type": "stream",
     "text": [
      "(3, 2)\n"
     ]
    }
   ],
   "source": [
    "import pandas as pd\n",
    "data = {'A': [1, 2, 3], 'B': [4, 5, 6]}\n",
    "df = pd.DataFrame(data)\n",
    "print(df.shape) "
   ]
  },
  {
   "cell_type": "code",
   "execution_count": null,
   "id": "e9a748f7-9c81-4e97-84fc-d3cb06fff84d",
   "metadata": {},
   "outputs": [],
   "source": []
  },
  {
   "cell_type": "markdown",
   "id": "e8f174dd-1dc0-4c06-94a4-bd23ea4d51be",
   "metadata": {},
   "source": [
    "Q6. Which function of pandas do we use to read an excel file?"
   ]
  },
  {
   "cell_type": "code",
   "execution_count": null,
   "id": "5af01905-e438-47c4-ac61-00b2e700a22e",
   "metadata": {},
   "outputs": [],
   "source": [
    "Ans 6:-In pandas, the function used to read an Excel file is pandas.read_excel()"
   ]
  },
  {
   "cell_type": "code",
   "execution_count": null,
   "id": "faa15b9c-c16c-42e1-97a7-fb6aa0f05558",
   "metadata": {},
   "outputs": [],
   "source": [
    "import pandas as pd\n",
    "df = pd.read_excel('file.xlsx')\n",
    "print(df)"
   ]
  },
  {
   "cell_type": "code",
   "execution_count": null,
   "id": "9d4a1d5c-a7b1-4110-acec-e34a515f9b02",
   "metadata": {},
   "outputs": [],
   "source": []
  },
  {
   "cell_type": "markdown",
   "id": "bb4d312f-3d73-4423-8b3d-1ee948b31661",
   "metadata": {},
   "source": [
    "Q7. You have a Pandas DataFrame df that contains a column named 'Email' that contains email\n",
    "addresses in the format 'username@domain.com'. Write a Python function that creates a new column\n",
    "'Username' in df that contains only the username part of each email address.\n",
    "The username is the part of the email address that appears before the '@' symbol. For example, if the\n",
    "email address is 'john.doe@example.com', the 'Username' column should contain 'john.doe'. Your\n",
    "function should extract the username from each email address and store it in the new 'Username'\n",
    "column."
   ]
  },
  {
   "cell_type": "code",
   "execution_count": 31,
   "id": "7759a6b0-0003-4134-bce1-09cbd0b4d74c",
   "metadata": {},
   "outputs": [],
   "source": [
    "# Ans 7:-\n",
    "import pandas as pd\n",
    "def Extract_username(df):\n",
    "    df['username'] = df['Email'].str.split('@').str[0]\n",
    "    return df"
   ]
  },
  {
   "cell_type": "code",
   "execution_count": 36,
   "id": "48e705cb-5bca-4adb-8752-5a982c8affe2",
   "metadata": {},
   "outputs": [
    {
     "name": "stdout",
     "output_type": "stream",
     "text": [
      "                     Email     username\n",
      "0     john.doe@example.com     john.doe\n",
      "1   jane.smith@example.com   jane.smith\n",
      "2  bob.roberts@example.com  bob.roberts\n"
     ]
    }
   ],
   "source": [
    "data = {'Email':['john.doe@example.com', 'jane.smith@example.com', 'bob.roberts@example.com']}\n",
    "df = pd.DataFrame(data)\n",
    "df = Extract_username(df)\n",
    "print(df)"
   ]
  },
  {
   "cell_type": "code",
   "execution_count": null,
   "id": "6ae13fc7-f849-4c7a-b2cb-8a5f8b04ff4b",
   "metadata": {},
   "outputs": [],
   "source": []
  },
  {
   "cell_type": "markdown",
   "id": "d93b77b2-44bc-4911-a82a-d32783475653",
   "metadata": {},
   "source": [
    "Q8. You have a Pandas DataFrame df with columns 'A', 'B', and 'C'. Write a Python function that selects\n",
    "all rows where the value in column 'A' is greater than 5 and the value in column 'B' is less than 10. The\n",
    "function should return a new DataFrame that contains only the selected rows.\n",
    "For example, if df contains the following values:\n",
    "A B C\n",
    "0 3 5 1\n",
    "1 8 2 7\n",
    "2 6 9 4\n",
    "3 2 3 5\n",
    "4 9 1 2\n",
    "Your function should select the following rows: A B C\n",
    "1 8 2 7\n",
    "4 9 1 2\n",
    "The function should return a new DataFrame that contains only the selected rows."
   ]
  },
  {
   "cell_type": "code",
   "execution_count": 47,
   "id": "a82f355c-0c8c-41da-b927-d8e383e28972",
   "metadata": {},
   "outputs": [
    {
     "name": "stdout",
     "output_type": "stream",
     "text": [
      "   A  B  C\n",
      "1  8  2  7\n",
      "2  6  9  4\n",
      "4  9  1  2\n"
     ]
    }
   ],
   "source": [
    "# Ans 8:-\n",
    "import pandas as pd\n",
    "\n",
    "def selected_rows(df):\n",
    "    selected_rows = df[(df['A'] > 5) & (df['B'] < 10)]\n",
    "    return selected_rows\n",
    "data = {'A': [3, 8, 6, 2, 9],\n",
    "        'B': [5, 2, 9, 3, 1],\n",
    "        'C': [1, 7, 4, 5, 2]}\n",
    "df = pd.DataFrame(data)\n",
    "selected_df = selected_rows(df)\n",
    "print(selected_df)"
   ]
  },
  {
   "cell_type": "code",
   "execution_count": null,
   "id": "fd3eb131-f0c2-4164-8668-1b23caf2240a",
   "metadata": {},
   "outputs": [],
   "source": []
  },
  {
   "cell_type": "markdown",
   "id": "83d8bcfb-12f4-4226-895f-75b0acf362ae",
   "metadata": {},
   "source": [
    "Q9. Given a Pandas DataFrame df with a column 'Values', write a Python function to calculate the mean,\n",
    "median, and standard deviation of the values in the 'Values' column."
   ]
  },
  {
   "cell_type": "code",
   "execution_count": 51,
   "id": "7e84882e-9e4e-4f18-b05a-8f86c3154ed3",
   "metadata": {},
   "outputs": [
    {
     "name": "stdout",
     "output_type": "stream",
     "text": [
      "Mean: 30.0\n",
      "Median: 30.0\n",
      "Standard Deviation: 15.811388300841896\n"
     ]
    }
   ],
   "source": [
    "# Ans 9:-\n",
    "import pandas as pd\n",
    "\n",
    "def calculation_stat(df):\n",
    "    values = df['values']\n",
    "    mean = values.mean()\n",
    "    median = values.median()\n",
    "    stand_div = values.std()\n",
    "    return mean,median,stand_div\n",
    "\n",
    "data = {'values':[10,20,30,40,50]}\n",
    "df = pd.DataFrame(data)\n",
    "mean,median,stand_div = calculation_stat(df)\n",
    "print(\"Mean:\", mean)\n",
    "print(\"Median:\", median)\n",
    "print(\"Standard Deviation:\", stand_div)"
   ]
  },
  {
   "cell_type": "code",
   "execution_count": null,
   "id": "6610afef-bfc3-4f7f-86d1-5128a9f0de54",
   "metadata": {},
   "outputs": [],
   "source": []
  },
  {
   "cell_type": "markdown",
   "id": "acf9b7dd-6946-4e81-b17f-b0578b262d9f",
   "metadata": {},
   "source": [
    "Q10. Given a Pandas DataFrame df with a column 'Sales' and a column 'Date', write a Python function to\n",
    "create a new column 'MovingAverage' that contains the moving average of the sales for the past 7 days\n",
    "for each row in the DataFrame. The moving average should be calculated using a window of size 7 and\n",
    "should include the current day."
   ]
  },
  {
   "cell_type": "code",
   "execution_count": 2,
   "id": "ef1483be-cd45-4686-9426-e9605916431a",
   "metadata": {},
   "outputs": [],
   "source": [
    "# Ans 10:-\n",
    "import pandas as pd\n",
    "def calculate_moving_average(df):\n",
    "    window_size = 7\n",
    "    df['MovingAverage'] = df['Sales'].rolling(window=window_size, min_periods=1).mean()\n",
    "    return df"
   ]
  },
  {
   "cell_type": "code",
   "execution_count": 3,
   "id": "9ae13218-a1b5-4c51-b9a3-248354a2fdf2",
   "metadata": {},
   "outputs": [
    {
     "name": "stdout",
     "output_type": "stream",
     "text": [
      "         Date  Sales  MovingAverage\n",
      "0  2022-01-01    100     100.000000\n",
      "1  2022-01-02    120     110.000000\n",
      "2  2022-01-03     90     103.333333\n",
      "3  2022-01-04     80      97.500000\n",
      "4  2022-01-05    110     100.000000\n",
      "5  2022-01-06    130     105.000000\n",
      "6  2022-01-07     95     103.571429\n",
      "7  2022-01-08    105     104.285714\n"
     ]
    }
   ],
   "source": [
    "data = {'Date': ['2022-01-01', '2022-01-02', '2022-01-03', '2022-01-04', '2022-01-05', '2022-01-06', '2022-01-07', '2022-01-08'],\n",
    "        'Sales': [100, 120, 90, 80, 110, 130, 95, 105]}\n",
    "df = pd.DataFrame(data)\n",
    "df = calculate_moving_average(df)\n",
    "print(df)"
   ]
  },
  {
   "cell_type": "code",
   "execution_count": null,
   "id": "9c74bd37-3ce4-471f-b84b-3b3a5b89f385",
   "metadata": {},
   "outputs": [],
   "source": []
  },
  {
   "cell_type": "markdown",
   "id": "1ad6a327-3438-439b-8d15-0ac639e90c05",
   "metadata": {},
   "source": [
    "Q11. You have a Pandas DataFrame df with a column 'Date'. Write a Python function that creates a new\n",
    "column 'Weekday' in the DataFrame. The 'Weekday' column should contain the weekday name (e.g.\n",
    "Monday, Tuesday) corresponding to each date in the 'Date' column.\n",
    "For example, if df contains the following values:\n",
    "Date\n",
    "0 2023-01-01\n",
    "1 2023-01-02\n",
    "2 2023-01-03\n",
    "3 2023-01-04\n",
    "4 2023-01-05\n",
    "Your function should create the following DataFrame:\n",
    "\n",
    "Date Weekday\n",
    "0 2023-01-01 Sunday\n",
    "1 2023-01-02 Monday\n",
    "2 2023-01-03 Tuesday\n",
    "3 2023-01-04 Wednesday\n",
    "4 2023-01-05 Thursday\n",
    "The function should return the modified DataFrame."
   ]
  },
  {
   "cell_type": "code",
   "execution_count": 28,
   "id": "39612105-e977-4543-b74a-1b781d8e1838",
   "metadata": {},
   "outputs": [],
   "source": [
    "# Ans 11:-\n",
    "import pandas as pd\n",
    "def add_week_days(df):\n",
    "    df['week_days'] = pd.to_datetime(df['Date']).dt.day_name()\n",
    "    return df"
   ]
  },
  {
   "cell_type": "code",
   "execution_count": 29,
   "id": "8ae8e801-198c-4581-a7b2-f0b07bfa0df3",
   "metadata": {},
   "outputs": [
    {
     "name": "stdout",
     "output_type": "stream",
     "text": [
      "         Date  week_days\n",
      "0  2023-01-01     Sunday\n",
      "1  2023-01-02     Monday\n",
      "2  2023-01-03    Tuesday\n",
      "3  2023-01-04  Wednesday\n",
      "4  2023-01-05   Thursday\n"
     ]
    }
   ],
   "source": [
    "date = {'Date': ['2023-01-01', '2023-01-02', '2023-01-03', '2023-01-04', '2023-01-05']}\n",
    "df = pd.DataFrame(date)\n",
    "df = add_week_days(df)\n",
    "print(df)"
   ]
  },
  {
   "cell_type": "code",
   "execution_count": null,
   "id": "009a6a75-297b-46e5-9912-e4aa16f134b8",
   "metadata": {},
   "outputs": [],
   "source": []
  },
  {
   "cell_type": "markdown",
   "id": "e66ec886-9331-4e7d-bada-39f05a89a7f9",
   "metadata": {},
   "source": [
    "Q12. Given a Pandas DataFrame df with a column 'Date' that contains timestamps, write a Python\n",
    "function to select all rows where the date is between '2023-01-01' and '2023-01-31'."
   ]
  },
  {
   "cell_type": "code",
   "execution_count": 30,
   "id": "6502b6a9-2d28-4734-8f13-62c03c81ba4f",
   "metadata": {},
   "outputs": [],
   "source": [
    "# Ans 12:-\n",
    "import pandas as pd\n",
    "def select_rows_between_rows(df):\n",
    "    df['Date'] = pd.to_datetime(df['Date'])\n",
    "    mask = (df['Date'] >= '2023-01-01') & (df['Date'] <= '2023-01-31')\n",
    "    selected_rows = df.loc[mask]\n",
    "    return selected_rows"
   ]
  },
  {
   "cell_type": "code",
   "execution_count": 32,
   "id": "8ec40146-b528-4b59-8259-d13f39228b0b",
   "metadata": {},
   "outputs": [
    {
     "name": "stdout",
     "output_type": "stream",
     "text": [
      "        Date\n",
      "0 2023-01-01\n",
      "1 2023-01-15\n",
      "2 2023-01-31\n"
     ]
    }
   ],
   "source": [
    "data = {'Date': ['2023-01-01', '2023-01-15', '2023-01-31', '2023-02-10']}\n",
    "df = pd.DataFrame(data)\n",
    "selected_df = select_rows_between_rows(df)\n",
    "print(selected_df)"
   ]
  },
  {
   "cell_type": "code",
   "execution_count": null,
   "id": "2ca75f35-c68b-48c7-95ae-1257cb6847b0",
   "metadata": {},
   "outputs": [],
   "source": []
  },
  {
   "cell_type": "markdown",
   "id": "7eda859d-50a7-43d1-8581-98e2000ccac0",
   "metadata": {},
   "source": [
    "Q13. To use the basic functions of pandas, what is the first and foremost necessary library that needs to\n",
    "be imported?"
   ]
  },
  {
   "cell_type": "code",
   "execution_count": null,
   "id": "e7138333-07b3-47b1-bd19-c56e391109bf",
   "metadata": {},
   "outputs": [],
   "source": [
    "Ans 13:-\n",
    "The first and foremost library that needs to be imported to use the basic functions of pandas is the pandas library itself.\n",
    "import pandas as pd"
   ]
  }
 ],
 "metadata": {
  "kernelspec": {
   "display_name": "Python 3 (ipykernel)",
   "language": "python",
   "name": "python3"
  },
  "language_info": {
   "codemirror_mode": {
    "name": "ipython",
    "version": 3
   },
   "file_extension": ".py",
   "mimetype": "text/x-python",
   "name": "python",
   "nbconvert_exporter": "python",
   "pygments_lexer": "ipython3",
   "version": "3.10.8"
  }
 },
 "nbformat": 4,
 "nbformat_minor": 5
}
