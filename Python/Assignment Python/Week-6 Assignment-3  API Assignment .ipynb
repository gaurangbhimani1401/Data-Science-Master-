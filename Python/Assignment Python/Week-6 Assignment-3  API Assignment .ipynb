{
 "cells": [
  {
   "cell_type": "markdown",
   "id": "fa0b0d60-c9da-494e-a071-59c6f1fafd9e",
   "metadata": {},
   "source": [
    "Q1. What is an API? Give an example, where an API is used in real life."
   ]
  },
  {
   "cell_type": "code",
   "execution_count": null,
   "id": "94a1eb17-b1a3-4ad5-910a-129453e24abb",
   "metadata": {},
   "outputs": [],
   "source": [
    "Ans 1:- An API (Application Programming Interface) is a set of rules and protocols that allows different software applications to communicate with each other."
   ]
  },
  {
   "cell_type": "code",
   "execution_count": null,
   "id": "a14eac3b-d7df-45e2-96e9-549e57d78516",
   "metadata": {},
   "outputs": [],
   "source": [
    "Example of the api use in the real life are as follow:\n",
    "    Social media platforms often provide APIs that allow developers to integrate their applications with the platforms features and data.\n",
    "     The Twitter API"
   ]
  },
  {
   "cell_type": "code",
   "execution_count": null,
   "id": "cb481072-cdcc-4709-b24e-e52358da977e",
   "metadata": {},
   "outputs": [],
   "source": [
    "The Google Maps API, which provides developers with access to the mapping and location services of Google Maps to integrate their app in teir own app."
   ]
  },
  {
   "cell_type": "code",
   "execution_count": null,
   "id": "584d5499-0bed-4ae4-8ed9-52c20979dae9",
   "metadata": {},
   "outputs": [],
   "source": []
  },
  {
   "cell_type": "markdown",
   "id": "dd9ff5ed-7456-469a-b0f9-5de4164d8d84",
   "metadata": {},
   "source": [
    "Q2. Give advantages and disadvantages of using API."
   ]
  },
  {
   "cell_type": "code",
   "execution_count": null,
   "id": "28a17fa4-5575-428c-8e89-b69d7b6f17d2",
   "metadata": {},
   "outputs": [],
   "source": [
    "Ans 2:-\n",
    "Advantages of using APIs:\n",
    "    Increased Efficiency:\n",
    "        APIs allow different software applications to communicate and exchange data seamlessly, enabling efficient workflows and integration between systems."
   ]
  },
  {
   "cell_type": "code",
   "execution_count": null,
   "id": "e2d48e17-0ca5-41a9-98ed-a34e22774a5d",
   "metadata": {},
   "outputs": [],
   "source": [
    "Reusability:\n",
    "    APIs provide reusable components and services, saving development time and effort.\n",
    "    Developers can leverage existing APIs instead of building functionalities from scratch."
   ]
  },
  {
   "cell_type": "code",
   "execution_count": null,
   "id": "d9241cad-de58-4744-beff-f1f81e4fc8a3",
   "metadata": {},
   "outputs": [],
   "source": [
    "Scalability:\n",
    "    APIs facilitate the scaling of applications by allowing modular development and the integration of additional services as needed."
   ]
  },
  {
   "cell_type": "code",
   "execution_count": null,
   "id": "d330b32b-7c84-44a7-961c-8fb0e5912ece",
   "metadata": {},
   "outputs": [],
   "source": [
    "Disadvantages of using APIs:\n",
    "    Dependency:\n",
    "        When relying on external APIs, applications become dependent on the availability, reliability, and performance of those APIs."
   ]
  },
  {
   "cell_type": "code",
   "execution_count": null,
   "id": "f23974c3-8985-4eb2-9492-1bced47adcce",
   "metadata": {},
   "outputs": [],
   "source": [
    "Security Risks:\n",
    "    APIs can introduce security vulnerabilities if not properly secured and authenticated.\n",
    "    Exposing sensitive data or allowing unauthorized access can lead to data breaches or misuse."
   ]
  },
  {
   "cell_type": "code",
   "execution_count": null,
   "id": "205f2ce7-a2a1-4df8-bda3-0e27cfede1ff",
   "metadata": {},
   "outputs": [],
   "source": [
    "Cost and Pricing Models:\n",
    "    Some APIs may have usage limits, rate limiting, or require payment based on usage.\n",
    "    Depending on the requirements and scale of usage, the cost of using certain APIs can become a factor to consider."
   ]
  },
  {
   "cell_type": "code",
   "execution_count": null,
   "id": "872a2a74-e90a-48c0-912d-925d21cc91cc",
   "metadata": {},
   "outputs": [],
   "source": []
  },
  {
   "cell_type": "markdown",
   "id": "b4921870-ee8f-4c42-aedc-961cef8d2de8",
   "metadata": {},
   "source": [
    "Q3. What is a Web API? Differentiate between API and Web API."
   ]
  },
  {
   "cell_type": "code",
   "execution_count": null,
   "id": "883cb735-0a9e-421d-9efb-0641935a5777",
   "metadata": {},
   "outputs": [],
   "source": [
    "Ans 3:-\n",
    "An API (Application Programming Interface) is a set of rules and protocols that allows different software applications to communicate and interact with each other. "
   ]
  },
  {
   "cell_type": "code",
   "execution_count": null,
   "id": "113ad9e2-c28e-48d3-9316-5d08bcb05c03",
   "metadata": {},
   "outputs": [],
   "source": [
    "Scope:\n",
    "    APIs can be more general and encompass various types of interfaces and protocols, including not only web-based interactions but also local or system-level\n",
    "    interactions.\n",
    "    On the other hand, Web APIs specifically refer to APIs designed for web-based applications and interactions."
   ]
  },
  {
   "cell_type": "code",
   "execution_count": null,
   "id": "699d5783-a7b7-4f53-986f-7ea724936431",
   "metadata": {},
   "outputs": [],
   "source": [
    "Protocol:\n",
    "    APIs can utilize different protocols for communication, such as HTTP, TCP/IP, or even internal communication between components within a system.\n",
    "    Web APIs, as the name suggests, are primarily based on the HTTP protocol and are accessed using URLs."
   ]
  },
  {
   "cell_type": "code",
   "execution_count": null,
   "id": "5827f41c-b964-49e7-bf25-396fb0c9a041",
   "metadata": {},
   "outputs": [],
   "source": [
    "Web-Based Interactions: \n",
    "    Web APIs are specifically designed to enable web-based interactions, allowing other applications to access and consume the functionalities or data exposed by a \n",
    "    web service.\n",
    "    APIs, in a broader sense, can encompass a wider range of interactions beyond web-based applications."
   ]
  },
  {
   "cell_type": "code",
   "execution_count": null,
   "id": "a2dc532e-41ad-40ee-b337-4f0a032af84f",
   "metadata": {},
   "outputs": [],
   "source": []
  },
  {
   "cell_type": "markdown",
   "id": "73e6b880-b379-41ff-91c5-e1addf23f549",
   "metadata": {},
   "source": [
    "Q4. Explain REST and SOAP Architecture. Mention shortcomings of SOAP."
   ]
  },
  {
   "cell_type": "code",
   "execution_count": null,
   "id": "2b2a3dd6-b4b1-4966-879b-2649be0a1656",
   "metadata": {},
   "outputs": [],
   "source": [
    "Ans 4:-\n",
    "REST Architecture:\n",
    "    REST is an architectural style that emphasizes simplicity, scalability, and statelessness in web service design.\n",
    "    It is based on the principles of using standard HTTP methods (GET, POST, PUT, DELETE) and utilizing the URLs to represent resources.\n",
    "    It is lightweight, easy to understand, and widely adopted due to its simplicity and compatibility with the existing web infrastructure.\n",
    "    RESTful APIs typically use JSON or XML as the data interchange format."
   ]
  },
  {
   "cell_type": "code",
   "execution_count": null,
   "id": "d5252be6-39df-4e1e-8fa8-9563bfe4195a",
   "metadata": {},
   "outputs": [],
   "source": [
    "SOAP Architecture:\n",
    "    SOAP is a protocol and architectural style that defines a set of rules for structuring messages and exchanging structured information between web services.\n",
    "    It uses XML for message formatting and relies on the XML-based SOAP envelope to encapsulate the request and response data.\n",
    "    It provides standardized mechanisms for error handling, security, and message routing."
   ]
  },
  {
   "cell_type": "code",
   "execution_count": null,
   "id": "4fb32096-178b-4ae4-879c-07e392c674f4",
   "metadata": {},
   "outputs": [],
   "source": [
    "Shortcomings of SOAP:\n",
    "    Complexity: SOAP-based APIs tend to be more complex due to the extensive use of XML schemas and protocols.\n",
    "    Overhead: SOAP messages are larger compared to RESTful JSON messages due to XMLs verbose nature. \n",
    "    Limited caching: SOAP requests are often not cacheable by default, which can impact performance and scalability in distributed systems."
   ]
  },
  {
   "cell_type": "code",
   "execution_count": null,
   "id": "7ef154e7-accf-44e6-a160-fcf18666f04a",
   "metadata": {},
   "outputs": [],
   "source": []
  },
  {
   "cell_type": "markdown",
   "id": "50b06bb2-8bc6-4bf0-ae6f-f4ce3a9203f7",
   "metadata": {},
   "source": [
    "Q5. Differentiate between REST and SOAP."
   ]
  },
  {
   "cell_type": "code",
   "execution_count": null,
   "id": "254a04f6-b881-4677-a91e-dde593458c73",
   "metadata": {},
   "outputs": [],
   "source": [
    "Ans 5:-\n",
    "Architecture:\n",
    "    REST: \n",
    "        REST is an architectural style that is based on the principles of simplicity, scalability, and statelessness.\n",
    "        It utilizes standard HTTP methods and URLs to represent resources and perform operations on them.\n",
    "    SOAP: \n",
    "        SOAP is a protocol and architectural style that defines a set of rules for structuring messages and exchanging structured information between web services. "
   ]
  },
  {
   "cell_type": "code",
   "execution_count": null,
   "id": "8a84bf74-fd81-47a0-9700-051f46fe3593",
   "metadata": {},
   "outputs": [],
   "source": [
    "Data Format:\n",
    "    REST: \n",
    "        RESTful APIs commonly use JSON (JavaScript Object Notation) or XML (eXtensible Markup Language) as the data interchange format.\n",
    "        JSON is lightweight, easy to parse, and human-readable, making it popular for RESTful APIs.\n",
    "    SOAP:\n",
    "        SOAP uses XML as the data format for messages.\n",
    "        XML is more verbose and requires parsing, making it less efficient in terms of payload size and processing.\n"
   ]
  },
  {
   "cell_type": "code",
   "execution_count": null,
   "id": "edf26347-b164-4b9d-a580-d63650bd9994",
   "metadata": {},
   "outputs": [],
   "source": [
    "Flexibility:\n",
    "    REST:\n",
    "        RESTful APIs are flexible and can work well with evolving systems.\n",
    "        They allow for the addition or modification of resources and endpoints without breaking the existing functionality.\n",
    "    SOAP:\n",
    "        SOAP APIs have a more rigid contract defined by the XML schemas.\n",
    "        Making changes to the API contract can be more complex and may require updating the schema and ensuring backward compatibility."
   ]
  }
 ],
 "metadata": {
  "kernelspec": {
   "display_name": "Python 3 (ipykernel)",
   "language": "python",
   "name": "python3"
  },
  "language_info": {
   "codemirror_mode": {
    "name": "ipython",
    "version": 3
   },
   "file_extension": ".py",
   "mimetype": "text/x-python",
   "name": "python",
   "nbconvert_exporter": "python",
   "pygments_lexer": "ipython3",
   "version": "3.10.8"
  }
 },
 "nbformat": 4,
 "nbformat_minor": 5
}
