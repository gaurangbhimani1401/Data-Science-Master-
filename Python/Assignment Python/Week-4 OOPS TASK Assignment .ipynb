{
 "cells": [
  {
   "cell_type": "markdown",
   "id": "fac27daf-ce78-41c0-9a7d-a5abcde21645",
   "metadata": {},
   "source": [
    "Q1, Create a vehicle class with an init method having instance variables as name_of_vehicle, max_speed\n",
    "and average_of_vehicle."
   ]
  },
  {
   "cell_type": "code",
   "execution_count": 60,
   "id": "54d972c2-bb3b-4171-a276-e9263d4351b0",
   "metadata": {},
   "outputs": [],
   "source": [
    "#Ans 1:-\n",
    "\n",
    "class vehicle:\n",
    "    def __init__(self , name_of_vehicle, max_speed, average_of_vehicle):\n",
    "        self.name_of_vehicle = name_of_vehicle\n",
    "        self.max_speed = max_speed\n",
    "        self.average_of_vehicle = average_of_vehicle "
   ]
  },
  {
   "cell_type": "markdown",
   "id": "b57486b0-b8f2-4896-a619-2a28bab4df3c",
   "metadata": {},
   "source": [
    "Q2. Create a child class car from the vehicle class created in Que 1, which will inherit the vehicle class.Create a method named seating_capacity which takes capacity as an argument and returns the name ofthe vehicle and its seating capacity."
   ]
  },
  {
   "cell_type": "code",
   "execution_count": 62,
   "id": "3cdd3d6d-66ea-49bc-89c6-598b009042cf",
   "metadata": {},
   "outputs": [],
   "source": [
    "#Ans 2:-\n",
    "class Car(vehicle):\n",
    "        def seating_capacity(self, seating_capacity):\n",
    "            self.seating_capacity = seating_capacity\n",
    "            return f\"name of the vehicle is {self.name_of_vehicle} and seating capacity are{seating_capacity}\""
   ]
  },
  {
   "cell_type": "code",
   "execution_count": 63,
   "id": "7dd64f60-83b4-4d08-af39-a48fa5d5fa4a",
   "metadata": {},
   "outputs": [
    {
     "name": "stdout",
     "output_type": "stream",
     "text": [
      "name of the vehicle is Rolls Royce and seating capacity are4\n"
     ]
    }
   ],
   "source": [
    "car = Car(\"Rolls Royce\", 250, 7.1)\n",
    "Cars = car.seating_capacity(4)\n",
    "print(Cars)"
   ]
  },
  {
   "cell_type": "code",
   "execution_count": null,
   "id": "7d6ac461-28c6-443a-b786-53c9a01706a8",
   "metadata": {},
   "outputs": [],
   "source": []
  },
  {
   "cell_type": "markdown",
   "id": "f1c73e09-af0e-4c47-b315-13e5ecd92efc",
   "metadata": {},
   "source": [
    "Q3. What is multiple inheritance? Write a python code to demonstrate multiple inheritance."
   ]
  },
  {
   "cell_type": "code",
   "execution_count": null,
   "id": "41307100-a6ac-48a6-916c-1ac89b24d2e4",
   "metadata": {},
   "outputs": [],
   "source": [
    "# Ans 3:-\n",
    "Multiple inheritance is a feature in OOP'ss where a class can inherit attributes and methods from multiple parent classes. "
   ]
  },
  {
   "cell_type": "code",
   "execution_count": 69,
   "id": "ff4aa94d-fe1b-4c28-bb86-b89b7915465b",
   "metadata": {},
   "outputs": [],
   "source": [
    "class test1:\n",
    "    def test_class1(self):\n",
    "        return \"this is test 1\""
   ]
  },
  {
   "cell_type": "code",
   "execution_count": 70,
   "id": "ead302de-7553-4174-bb84-e714e2652ced",
   "metadata": {},
   "outputs": [],
   "source": [
    "class test2:\n",
    "    def test_class2(self):\n",
    "        return \"this is test 2\""
   ]
  },
  {
   "cell_type": "code",
   "execution_count": 71,
   "id": "7d82b9ee-8345-4d9d-9edf-4f4c389ef7b8",
   "metadata": {},
   "outputs": [],
   "source": [
    "class test3(test1,test2):\n",
    "    pass"
   ]
  },
  {
   "cell_type": "code",
   "execution_count": 72,
   "id": "647c1376-7186-4cfd-ad0a-20b356e545e5",
   "metadata": {},
   "outputs": [],
   "source": [
    "obj_class3 = test3()"
   ]
  },
  {
   "cell_type": "code",
   "execution_count": 74,
   "id": "cdaa9617-0b8b-439a-ad1b-22ab25e61f54",
   "metadata": {},
   "outputs": [
    {
     "data": {
      "text/plain": [
       "'this is test 1'"
      ]
     },
     "execution_count": 74,
     "metadata": {},
     "output_type": "execute_result"
    }
   ],
   "source": [
    "obj_class3.test_class1()"
   ]
  },
  {
   "cell_type": "code",
   "execution_count": 75,
   "id": "74c327b3-15d9-43e8-bc19-6e2820172d60",
   "metadata": {},
   "outputs": [
    {
     "data": {
      "text/plain": [
       "'this is test 2'"
      ]
     },
     "execution_count": 75,
     "metadata": {},
     "output_type": "execute_result"
    }
   ],
   "source": [
    "obj_class3.test_class2()"
   ]
  },
  {
   "cell_type": "code",
   "execution_count": null,
   "id": "d86d09b8-e19c-4b1e-a64f-b1ce22c16d40",
   "metadata": {},
   "outputs": [],
   "source": []
  },
  {
   "cell_type": "markdown",
   "id": "0fb8bd90-0e80-4ace-9d98-44a382d8f845",
   "metadata": {},
   "source": [
    "Q4. What are getter and setter in python? Create a class and create a getter and a setter method in this\n",
    "class."
   ]
  },
  {
   "cell_type": "code",
   "execution_count": null,
   "id": "a10f4aeb-1f4b-42ad-af09-7c08b10cb9f7",
   "metadata": {},
   "outputs": [],
   "source": [
    "#Ans 4:-\n",
    "In Python, getters and setters are methods used to access and modify the values of class attributes, respectively."
   ]
  },
  {
   "cell_type": "code",
   "execution_count": 2,
   "id": "9d0121d6-3607-48eb-8e42-f3e47ef55fee",
   "metadata": {},
   "outputs": [],
   "source": [
    "class Person:\n",
    "    \n",
    "    def __init__(self, name, age):\n",
    "        self._name = name\n",
    "        self._age = age\n",
    "\n",
    "    def get_name(self):\n",
    "        return self._name\n",
    "\n",
    "    def set_name(self, name):\n",
    "        self._name = name\n",
    "\n",
    "    def get_age(self):\n",
    "        return self._age\n",
    "\n",
    "    def set_age(self, age):\n",
    "        if age >= 0:\n",
    "            self._age = age\n",
    "        else:\n",
    "            print(\"Invalid age\")"
   ]
  },
  {
   "cell_type": "code",
   "execution_count": 9,
   "id": "6cf5e09c-2905-4e3d-94d0-107b482bf532",
   "metadata": {},
   "outputs": [],
   "source": [
    "person = Person(\"mohan\", 25)"
   ]
  },
  {
   "cell_type": "code",
   "execution_count": 10,
   "id": "e06646b5-bda1-4ea2-8e78-594f0133ea5d",
   "metadata": {},
   "outputs": [
    {
     "name": "stdout",
     "output_type": "stream",
     "text": [
      "mohan\n"
     ]
    }
   ],
   "source": [
    "print(person.get_name()) "
   ]
  },
  {
   "cell_type": "code",
   "execution_count": 11,
   "id": "329d5754-130b-4429-bf7e-5ba96b7aa1d6",
   "metadata": {},
   "outputs": [],
   "source": [
    "person.set_name(\"gaurang\")"
   ]
  },
  {
   "cell_type": "code",
   "execution_count": 12,
   "id": "799882ca-5fae-4104-bccb-ea50fde0e86f",
   "metadata": {},
   "outputs": [
    {
     "name": "stdout",
     "output_type": "stream",
     "text": [
      "gaurang\n"
     ]
    }
   ],
   "source": [
    "print(person.get_name())"
   ]
  },
  {
   "cell_type": "code",
   "execution_count": 13,
   "id": "919b541c-03b5-4d49-9548-c7e5ea0242ab",
   "metadata": {},
   "outputs": [
    {
     "name": "stdout",
     "output_type": "stream",
     "text": [
      "Invalid age\n"
     ]
    }
   ],
   "source": [
    "person.set_age(-10) "
   ]
  },
  {
   "cell_type": "code",
   "execution_count": 14,
   "id": "3afbcc71-abcb-4bcd-bd81-3cc86e387073",
   "metadata": {},
   "outputs": [
    {
     "name": "stdout",
     "output_type": "stream",
     "text": [
      "25\n"
     ]
    }
   ],
   "source": [
    "print(person.get_age())"
   ]
  },
  {
   "cell_type": "code",
   "execution_count": null,
   "id": "1cb060d1-b3e6-4ff9-b5ca-98ef256e2efb",
   "metadata": {},
   "outputs": [],
   "source": []
  },
  {
   "cell_type": "markdown",
   "id": "3c0bb56f-bac5-43ec-9950-31c5e1d64a54",
   "metadata": {},
   "source": [
    "Q5.What is method overriding in python? Write a python code to demonstrate method overriding."
   ]
  },
  {
   "cell_type": "code",
   "execution_count": null,
   "id": "ed55109e-fb25-4363-ab33-7c931b3a91b3",
   "metadata": {},
   "outputs": [],
   "source": [
    "Ans 5:- \n",
    "Method overriding in Python is a feature that allows a subclass to provide a different implementation of a method that is already defined in its superclass. "
   ]
  },
  {
   "cell_type": "code",
   "execution_count": 15,
   "id": "b84c3d61-6cc7-4bfb-b6b6-68c3ffd04b8a",
   "metadata": {},
   "outputs": [],
   "source": [
    "class Shape:\n",
    "    def area(self):\n",
    "        print(\"Calculating area in Shape class\")\n",
    "\n",
    "class Rectangle(Shape):\n",
    "    def area(self):\n",
    "        print(\"Calculating area in Rectangle class\")\n",
    "\n",
    "class Circle(Shape):\n",
    "    def area(self):\n",
    "        print(\"Calculating area in Circle class\")"
   ]
  },
  {
   "cell_type": "code",
   "execution_count": 16,
   "id": "772191f6-8edc-4b40-a744-9f4ec8ffdab4",
   "metadata": {},
   "outputs": [],
   "source": [
    "shape = Shape()\n",
    "rectangle = Rectangle()\n",
    "circle = Circle()"
   ]
  },
  {
   "cell_type": "code",
   "execution_count": 17,
   "id": "96f06184-544e-43f2-9f24-bc3b1e038d4e",
   "metadata": {},
   "outputs": [
    {
     "name": "stdout",
     "output_type": "stream",
     "text": [
      "Calculating area in Shape class\n",
      "Calculating area in Rectangle class\n",
      "Calculating area in Circle class\n"
     ]
    }
   ],
   "source": [
    "shape.area()\n",
    "rectangle.area()\n",
    "circle.area()"
   ]
  },
  {
   "cell_type": "code",
   "execution_count": null,
   "id": "95a5af07-5e4d-40d0-a6ac-fc7b73e98e63",
   "metadata": {},
   "outputs": [],
   "source": []
  }
 ],
 "metadata": {
  "kernelspec": {
   "display_name": "Python 3 (ipykernel)",
   "language": "python",
   "name": "python3"
  },
  "language_info": {
   "codemirror_mode": {
    "name": "ipython",
    "version": 3
   },
   "file_extension": ".py",
   "mimetype": "text/x-python",
   "name": "python",
   "nbconvert_exporter": "python",
   "pygments_lexer": "ipython3",
   "version": "3.10.8"
  }
 },
 "nbformat": 4,
 "nbformat_minor": 5
}
