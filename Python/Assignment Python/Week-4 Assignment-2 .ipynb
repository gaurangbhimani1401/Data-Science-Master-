{
 "cells": [
  {
   "cell_type": "markdown",
   "id": "424928a6-3d2b-46c5-8810-d1566a6067b8",
   "metadata": {},
   "source": [
    "Q1. What is Abstraction in OOps? Explain with an example."
   ]
  },
  {
   "cell_type": "code",
   "execution_count": null,
   "id": "6226749b-bc03-4f08-ba3b-815cdbb9783c",
   "metadata": {},
   "outputs": [],
   "source": [
    "Ans 1:-Abstraction in OOP is the concept of representing essential features of an object while hiding the unnecessary details & complexities"
   ]
  },
  {
   "cell_type": "code",
   "execution_count": 15,
   "id": "7cdde650-51fc-4fe7-a52d-c4458c79f726",
   "metadata": {},
   "outputs": [],
   "source": [
    "import abc\n",
    "\n",
    "class shape:\n",
    "    @abc.abstractmethod\n",
    "    def area(self):\n",
    "        pass\n",
    "    @abc.abstractmethod\n",
    "    def parameter(self):\n",
    "        pass"
   ]
  },
  {
   "cell_type": "code",
   "execution_count": 17,
   "id": "c846c1d0-9b2a-4c41-9d20-57f1aa41bb23",
   "metadata": {},
   "outputs": [],
   "source": [
    "class rectangle(shape):\n",
    "    def __init__(self, length, width):\n",
    "        self.length = length\n",
    "        self.width = width\n",
    "        \n",
    "    def area(self):\n",
    "        return self.length * self.width\n",
    "    \n",
    "    def parameter(self):\n",
    "        return 2*(self.length + self.width)"
   ]
  },
  {
   "cell_type": "code",
   "execution_count": 18,
   "id": "e317425a-0790-4d2f-9cdc-b6f705fe6d0f",
   "metadata": {},
   "outputs": [],
   "source": [
    "class circle(shape):\n",
    "    def __init__(self, radius):\n",
    "        self.radius = radius\n",
    "        \n",
    "    def area(self):\n",
    "        return 3.14 * self.radius **2\n",
    "                       \n",
    "    def parameter(self):\n",
    "        return 2 * 3.14 * self.radius"
   ]
  },
  {
   "cell_type": "code",
   "execution_count": 20,
   "id": "c455e7d4-8940-40a2-ab7a-c4cd53c0afb5",
   "metadata": {},
   "outputs": [],
   "source": [
    "Rect = rectangle(5,4)\n",
    "Circ = circle(5)"
   ]
  },
  {
   "cell_type": "code",
   "execution_count": 26,
   "id": "3d0efc20-930d-46df-ade3-8033dae60d9a",
   "metadata": {},
   "outputs": [
    {
     "data": {
      "text/plain": [
       "20"
      ]
     },
     "execution_count": 26,
     "metadata": {},
     "output_type": "execute_result"
    }
   ],
   "source": [
    "Rect.area()"
   ]
  },
  {
   "cell_type": "code",
   "execution_count": 27,
   "id": "79b88a99-eace-4049-9193-ae6033a47297",
   "metadata": {},
   "outputs": [
    {
     "data": {
      "text/plain": [
       "18"
      ]
     },
     "execution_count": 27,
     "metadata": {},
     "output_type": "execute_result"
    }
   ],
   "source": [
    "Rect.parameter()"
   ]
  },
  {
   "cell_type": "code",
   "execution_count": 28,
   "id": "abf26181-836d-449f-921c-365f4f691b0d",
   "metadata": {},
   "outputs": [
    {
     "data": {
      "text/plain": [
       "78.5"
      ]
     },
     "execution_count": 28,
     "metadata": {},
     "output_type": "execute_result"
    }
   ],
   "source": [
    "Circ.area()"
   ]
  },
  {
   "cell_type": "code",
   "execution_count": 29,
   "id": "e7ac5c40-7ce0-47e1-bb9f-29787e9c8951",
   "metadata": {},
   "outputs": [
    {
     "data": {
      "text/plain": [
       "31.400000000000002"
      ]
     },
     "execution_count": 29,
     "metadata": {},
     "output_type": "execute_result"
    }
   ],
   "source": [
    "Circ.parameter()"
   ]
  },
  {
   "cell_type": "code",
   "execution_count": null,
   "id": "4c5ce5bf-094e-4fc4-893d-76876c584af4",
   "metadata": {},
   "outputs": [],
   "source": []
  },
  {
   "cell_type": "markdown",
   "id": "aaef6c58-a8db-4748-8032-5f0885ecbb89",
   "metadata": {},
   "source": [
    "Q2. Differentiate between Abstraction and Encapsulation. Explain with an example."
   ]
  },
  {
   "cell_type": "markdown",
   "id": "22a894e3-9bdb-4d17-9fa5-da8554fd6dc5",
   "metadata": {},
   "source": [
    "Ans 2:- Abstraction"
   ]
  },
  {
   "cell_type": "code",
   "execution_count": null,
   "id": "f8f9a2df-ed46-465b-b60e-17ca52092b9a",
   "metadata": {},
   "outputs": [],
   "source": [
    "Abstraction focuses on hiding the unnecessary details and exposing only the essential features of system.\n",
    "It allows us to create simplified models or representations that capture the important aspects while omitting the complexities.\n",
    "In other words, abstraction provides a high-level view or interface to interact with objects or systems."
   ]
  },
  {
   "cell_type": "markdown",
   "id": "17c1c79a-146e-494c-8135-eb308386c9c5",
   "metadata": {},
   "source": [
    "Encapsulation"
   ]
  },
  {
   "cell_type": "code",
   "execution_count": null,
   "id": "3a325c90-f5aa-4eb2-ad22-88a48fba9bfd",
   "metadata": {},
   "outputs": [],
   "source": [
    "Encapsulation, on the other hand, focuses on bundling data and related behavior together within a single unit, known as a class.\n",
    "It ensures that the internal state and implementation details of an object are hidden from the outside world.\n",
    "The data is typically accessed and modified through well-defined interfaces, such as methods or properties, provided by the class."
   ]
  },
  {
   "cell_type": "code",
   "execution_count": null,
   "id": "15269a13-ba96-4ef9-b3d7-ba919edb1614",
   "metadata": {},
   "outputs": [],
   "source": []
  },
  {
   "cell_type": "markdown",
   "id": "683f3e82-536f-4462-9ef5-80e9dbb72441",
   "metadata": {},
   "source": [
    "Q3. What is abc module in python? Why is it used?"
   ]
  },
  {
   "cell_type": "code",
   "execution_count": null,
   "id": "36c01945-9540-40aa-8200-a686dafa3b94",
   "metadata": {},
   "outputs": [],
   "source": [
    "Ans 3:-The abc module in Python stands for \"Abstract Base Classes.\"\n",
    "       It provides a mechanism for defining abstract base classes in Python."
   ]
  },
  {
   "cell_type": "code",
   "execution_count": null,
   "id": "0aaa2e68-cbf3-495b-a08d-931a7a605832",
   "metadata": {},
   "outputs": [],
   "source": [
    "The abc module is used to define abstract base classes by using the ABC metaclass\n",
    "and the @abstractmethod decorator"
   ]
  },
  {
   "cell_type": "code",
   "execution_count": null,
   "id": "c79aef11-54bc-4483-a4f5-5c175ad5d9be",
   "metadata": {},
   "outputs": [],
   "source": []
  },
  {
   "cell_type": "markdown",
   "id": "15a8546a-1d65-4987-af6f-e0265bcba5af",
   "metadata": {},
   "source": [
    "Q4. How can we achieve data abstraction?"
   ]
  },
  {
   "cell_type": "code",
   "execution_count": null,
   "id": "399681d3-cb27-42f5-9d36-55849a86d564",
   "metadata": {},
   "outputs": [],
   "source": [
    "Ans 4:- Data abstraction in Python can be achieved using classes and objects."
   ]
  },
  {
   "cell_type": "code",
   "execution_count": 39,
   "id": "ae5e16fb-cf90-4c55-91bf-ddfa0e7e8f15",
   "metadata": {},
   "outputs": [],
   "source": [
    "class BankAccount:\n",
    "    def __init__(self, account_number, balance):\n",
    "        self.__account_number = account_number\n",
    "        self.__balance = balance\n",
    "\n",
    "    def get_account_number(self):\n",
    "        return self.__account_number\n",
    "\n",
    "    def get_balance(self):\n",
    "        return self.__balance\n",
    "\n",
    "    def deposit(self, amount):\n",
    "        self.__balance += amount"
   ]
  },
  {
   "cell_type": "code",
   "execution_count": 40,
   "id": "278ebfd0-bc6f-4891-b7a1-02b06fd72ded",
   "metadata": {},
   "outputs": [],
   "source": [
    "def withdraw(self, amount):\n",
    "        if self.__balance >= amount:\n",
    "            self.__balance -= amount\n",
    "        else:\n",
    "            print(\"Insufficient funds\")"
   ]
  },
  {
   "cell_type": "code",
   "execution_count": 42,
   "id": "6a0e407d-2b80-48a8-aa9b-bbd9e089d7f6",
   "metadata": {},
   "outputs": [
    {
     "name": "stdout",
     "output_type": "stream",
     "text": [
      "Account Number: 1234567890\n",
      "Balance: 1000\n",
      "Updated Balance: 1500\n"
     ]
    }
   ],
   "source": [
    "account = BankAccount(\"1234567890\", 1000)\n",
    "print(\"Account Number:\", account.get_account_number())\n",
    "print(\"Balance:\", account.get_balance())\n",
    "account.deposit(500)\n",
    "print(\"Updated Balance:\", account.get_balance())"
   ]
  },
  {
   "cell_type": "code",
   "execution_count": null,
   "id": "269db679-7874-4b15-8e9a-b8feb48569ac",
   "metadata": {},
   "outputs": [],
   "source": []
  },
  {
   "cell_type": "markdown",
   "id": "b233affc-7127-4d8d-94f1-bba890a1466c",
   "metadata": {},
   "source": [
    "Q5. Can we create an instance of an abstract class? Explain your answer."
   ]
  },
  {
   "cell_type": "code",
   "execution_count": null,
   "id": "e75c6b40-5a47-4a26-936f-e6540d2ffa2d",
   "metadata": {},
   "outputs": [],
   "source": [
    "Ans 5:- No, we cannot create an instance of an abstract class in Python.\n",
    "        An abstract class is a class that cannot be instantiated directly.\n",
    "        It serves as a blueprint for other classes to inherit from and provides a common\n",
    "        interfacefor its subclasses."
   ]
  }
 ],
 "metadata": {
  "kernelspec": {
   "display_name": "Python 3 (ipykernel)",
   "language": "python",
   "name": "python3"
  },
  "language_info": {
   "codemirror_mode": {
    "name": "ipython",
    "version": 3
   },
   "file_extension": ".py",
   "mimetype": "text/x-python",
   "name": "python",
   "nbconvert_exporter": "python",
   "pygments_lexer": "ipython3",
   "version": "3.10.8"
  }
 },
 "nbformat": 4,
 "nbformat_minor": 5
}
