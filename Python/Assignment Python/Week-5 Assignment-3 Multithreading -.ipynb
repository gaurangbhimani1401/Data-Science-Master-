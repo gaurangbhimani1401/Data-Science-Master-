{
 "cells": [
  {
   "cell_type": "markdown",
   "id": "58058846-8fdd-43ea-ab03-e86f47bad1de",
   "metadata": {},
   "source": [
    "Q1. What is multithreading in python? Why is it used? Name the module used to handle threads in python"
   ]
  },
  {
   "cell_type": "code",
   "execution_count": null,
   "id": "41a4e6cd-86b3-4776-bdbc-e29328be701a",
   "metadata": {},
   "outputs": [],
   "source": [
    "Ans 1:- Multithreading in Python refers to the concurrent execution of multiple threads within a single process.\n",
    "        Multithreading is commonly used in scenarios where multiple tasks or operations can be executed simultaneously, such as handling I/O operations, \n",
    "        network requests, or performing computationally intensive tasks.\n",
    "        The module used to handle threads in Python is called threading."
   ]
  },
  {
   "cell_type": "code",
   "execution_count": null,
   "id": "a1e1d163-469f-4a60-bf44-2fa6f54b9347",
   "metadata": {},
   "outputs": [],
   "source": []
  },
  {
   "cell_type": "markdown",
   "id": "ba62bcc2-eb12-4e9b-8577-086d25ea40b0",
   "metadata": {},
   "source": [
    "Q2. Why threading module used? Write the use of the following functions:\n",
    "1. activeCount()\n",
    "2. currentThread()\n",
    "3. enumerate()"
   ]
  },
  {
   "cell_type": "code",
   "execution_count": null,
   "id": "326fcb34-741f-45ad-a4df-38f5aabf7675",
   "metadata": {},
   "outputs": [],
   "source": [
    "Ans 2:- The threading module is used for creating and managing threads.\n",
    "        It provides a high-level interface and functions to work with threads effectively."
   ]
  },
  {
   "cell_type": "code",
   "execution_count": null,
   "id": "2fc444ee-91ba-435a-a737-09d4cecc4743",
   "metadata": {},
   "outputs": [],
   "source": [
    "1.activeCount():\n",
    "    This function is used to retrieve the number of Thread objects currently alive."
   ]
  },
  {
   "cell_type": "code",
   "execution_count": null,
   "id": "2b2a1d11-1911-4560-95f8-969cad96bd8b",
   "metadata": {},
   "outputs": [],
   "source": [
    "2.currentThread():\n",
    "    This function returns the Thread object corresponding to the current execution thread."
   ]
  },
  {
   "cell_type": "code",
   "execution_count": null,
   "id": "a142698b-cc65-4ce5-998e-8c212c237a9b",
   "metadata": {},
   "outputs": [],
   "source": [
    "3.enumerate():\n",
    "    This function returns a list of all Thread objects currently alive"
   ]
  },
  {
   "cell_type": "code",
   "execution_count": null,
   "id": "061253a1-498c-4cf3-9fe4-aa76f96c66c8",
   "metadata": {},
   "outputs": [],
   "source": []
  },
  {
   "cell_type": "markdown",
   "id": "55d0e364-fdba-41cc-a00d-2c41daa612e7",
   "metadata": {},
   "source": [
    "Q3. Explain the following functions:\n",
    "1.run()\n",
    "2.start()\n",
    "3.join()\n",
    "4.isAlive()"
   ]
  },
  {
   "cell_type": "code",
   "execution_count": null,
   "id": "80e0241f-1d9f-4c25-9ace-e308c971230c",
   "metadata": {},
   "outputs": [],
   "source": [
    "Ans 3:- run():\n",
    "    The run() method is the entry point for the thread's activity. \n",
    "    It contains the code that will be executed in the thread."
   ]
  },
  {
   "cell_type": "code",
   "execution_count": null,
   "id": "d0deee5d-95e6-4807-8fa2-0461fde5fd30",
   "metadata": {},
   "outputs": [],
   "source": [
    "start(): \n",
    "    The start() method is used to start the execution of a thread.\n",
    "    It creates a new thread of control and calls the run() method internally."
   ]
  },
  {
   "cell_type": "code",
   "execution_count": null,
   "id": "3e07e7e5-796f-4e94-aadf-07664ce95a30",
   "metadata": {},
   "outputs": [],
   "source": [
    "join():\n",
    "    The join() method is used to synchronize the execution of multiple threads.\n",
    "    It blocks the calling thread until the thread on which it is called completes its execution. "
   ]
  },
  {
   "cell_type": "code",
   "execution_count": null,
   "id": "6dbaf0a4-a18d-432f-a2a9-e27b3a90129d",
   "metadata": {},
   "outputs": [],
   "source": [
    "isAlive():\n",
    "    The isAlive() method is used to check if a thread is currently executing or alive.\n",
    "    It returns True if the thread is still running, and False otherwise."
   ]
  },
  {
   "cell_type": "code",
   "execution_count": null,
   "id": "d5dc8d29-4cd1-4be2-9872-6474b7abb371",
   "metadata": {},
   "outputs": [],
   "source": []
  },
  {
   "cell_type": "markdown",
   "id": "b60be115-efec-48a3-bb7a-58a9902b4ad2",
   "metadata": {},
   "source": [
    "Q4. Write a python program to create two threads. Thread one must print the list of squares and thread two must print the list of cubes."
   ]
  },
  {
   "cell_type": "code",
   "execution_count": 1,
   "id": "75863867-6c5a-4825-ba24-8dffe188586e",
   "metadata": {},
   "outputs": [],
   "source": [
    "# Ans 4:-\n",
    "\n",
    "import threading\n",
    "\n",
    "def print_squre():\n",
    "    for i in  range(1 , 6):\n",
    "        print(f\"Squre of the {i} is {i**2}\")\n",
    "        \n",
    "def print_cube():\n",
    "    for i in  range(1 , 6):\n",
    "        print(f\"Cube of the {i} is {i**3}\")"
   ]
  },
  {
   "cell_type": "code",
   "execution_count": 3,
   "id": "9bd84f5c-c74f-476c-9a62-5f273a6f09df",
   "metadata": {},
   "outputs": [
    {
     "name": "stdout",
     "output_type": "stream",
     "text": [
      "Squre of the 1 is 1\n",
      "Squre of the 2 is 4\n",
      "Squre of the 3 is 9\n",
      "Squre of the 4 is 16\n",
      "Squre of the 5 is 25\n",
      "Cube of the 1 is 1\n",
      "Cube of the 2 is 8\n",
      "Cube of the 3 is 27\n",
      "Cube of the 4 is 64\n",
      "Cube of the 5 is 125\n",
      "Main thread exiting\n"
     ]
    }
   ],
   "source": [
    "thread1 = threading.Thread(target=print_squre)\n",
    "thread2 = threading.Thread(target=print_cube)\n",
    "\n",
    "thread1.start()\n",
    "thread2.start()\n",
    "\n",
    "thread1.join()\n",
    "thread2.join()\n",
    "\n",
    "print(\"Main thread exiting\")"
   ]
  },
  {
   "cell_type": "code",
   "execution_count": null,
   "id": "9d0e1ece-b2be-498f-9828-df18946abebe",
   "metadata": {},
   "outputs": [],
   "source": []
  },
  {
   "cell_type": "markdown",
   "id": "ffbac379-08c1-4c46-8032-7a3c7ef129b0",
   "metadata": {},
   "source": [
    "Q5. State advantages and disadvantages of multithreading."
   ]
  },
  {
   "cell_type": "code",
   "execution_count": null,
   "id": "279ce115-49ad-488e-9381-8fd5b00459d7",
   "metadata": {},
   "outputs": [],
   "source": [
    "Ans 5:- Advantages of Multithreading:\n",
    "        Improved performance: Multithreading can enhance the performance of an application by allowing multiple tasks to execute concurrently.\n",
    "        Responsiveness: Multithreading enables applications to remain responsive during time-consuming operations.\n",
    "        Resource sharing: Threads can share data and resources within the same process, allowing for efficient communication and coordination between\n",
    "        different parts of the application."
   ]
  },
  {
   "cell_type": "code",
   "execution_count": null,
   "id": "1d9acc80-a991-4f19-8bbf-1c45dd577839",
   "metadata": {},
   "outputs": [],
   "source": [
    "Disadvantages of Multithreading:-\n",
    "    Complexity: Multithreaded programming introduces complexities such as thread synchronization, race conditions, and deadlocks.\n",
    "    Increased debugging difficulty: Debugging multithreaded applications can be more challenging due to the non-deterministic nature of thread execution \n",
    "and potential concurrency-related issues.\n",
    "    Overhead: Creating and managing threads incurs overhead in terms of memory and CPU usage."
   ]
  },
  {
   "cell_type": "code",
   "execution_count": null,
   "id": "9f440d7f-1623-46ab-a8b0-864306852770",
   "metadata": {},
   "outputs": [],
   "source": []
  },
  {
   "cell_type": "markdown",
   "id": "e051157f-1852-4749-a7e0-d49a0bb3b12b",
   "metadata": {},
   "source": [
    "Q6. Explain deadlocks and race conditions."
   ]
  },
  {
   "cell_type": "code",
   "execution_count": null,
   "id": "c1751e2d-c041-4152-84a8-c159bd8d96d2",
   "metadata": {},
   "outputs": [],
   "source": [
    "Ans 6:- Deadlock:\n",
    "            A deadlock is a situation where two or more threads are unable to proceed because each is waiting for a resource that is held by another thread in the set."
   ]
  },
  {
   "cell_type": "code",
   "execution_count": null,
   "id": "04086bc8-2b28-474c-b633-ba0218b25f86",
   "metadata": {},
   "outputs": [],
   "source": [
    "Race Condition:\n",
    "    A race condition occurs when the behavior of a program depends on the relative timing of events or operations"
   ]
  }
 ],
 "metadata": {
  "kernelspec": {
   "display_name": "Python 3 (ipykernel)",
   "language": "python",
   "name": "python3"
  },
  "language_info": {
   "codemirror_mode": {
    "name": "ipython",
    "version": 3
   },
   "file_extension": ".py",
   "mimetype": "text/x-python",
   "name": "python",
   "nbconvert_exporter": "python",
   "pygments_lexer": "ipython3",
   "version": "3.10.8"
  }
 },
 "nbformat": 4,
 "nbformat_minor": 5
}
