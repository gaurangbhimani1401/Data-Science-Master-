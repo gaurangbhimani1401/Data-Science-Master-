{
 "cells": [
  {
   "cell_type": "markdown",
   "id": "16428b1c-3b79-4f42-90bf-d674ad45aa01",
   "metadata": {},
   "source": [
    "Q1. What is Flask Framework? What are the advantages of Flask Framework?"
   ]
  },
  {
   "cell_type": "code",
   "execution_count": null,
   "id": "44cd5f72-9b40-4d8c-a5be-cee165f4c426",
   "metadata": {},
   "outputs": [],
   "source": [
    "Ans 1:- Flask is a micro web framework for Python that allows developers to build web applications quickly and with minimal boilerplate code.\n",
    "        It is lightweight, flexible, and designed to be easy to use."
   ]
  },
  {
   "cell_type": "code",
   "execution_count": null,
   "id": "9133979c-10ac-47a8-8ef2-10ed981ed932",
   "metadata": {},
   "outputs": [],
   "source": [
    "Advantages of Flask Framework:"
   ]
  },
  {
   "cell_type": "code",
   "execution_count": null,
   "id": "08f32e4d-8086-478c-8ff1-95d6a17d1087",
   "metadata": {},
   "outputs": [],
   "source": [
    "Lightweight and Minimalistic:\n",
    "    Flask follows a minimalist design philosophy, providing only the essential features required to build web applications. \n",
    "    It allows developers to choose the tools and libraries they want to use, providing more flexibility and control over the application's structure."
   ]
  },
  {
   "cell_type": "code",
   "execution_count": null,
   "id": "5ac7a77e-8bca-4051-82c5-a5d60d377a85",
   "metadata": {},
   "outputs": [],
   "source": [
    "Easy to Get Started:\n",
    "    Flask has a simple and intuitive syntax, making it easy for beginners to learn and start building web applications.\n",
    "    It provides a clear and concise API, allowing developers to focus on writing application logic rather than dealing with complex framework configurations."
   ]
  },
  {
   "cell_type": "code",
   "execution_count": null,
   "id": "95e6467d-e2e3-444c-9382-16fe07d597e0",
   "metadata": {},
   "outputs": [],
   "source": [
    "Extensible and Modular:\n",
    "    Flask allows developers to add additional functionalities through extensions.\n",
    "    There is a wide range of Flask extensions available for various purposes, such as database integration, authentication, form handling, and more."
   ]
  },
  {
   "cell_type": "code",
   "execution_count": null,
   "id": "acde8e75-809d-4167-82b0-79b4abaa5c05",
   "metadata": {},
   "outputs": [],
   "source": [
    "Scalability:\n",
    "    Despite being a micro framework, Flask can handle both small and large-scale applications.\n",
    "    It provides the flexibility to scale up the application by adding more components and utilizing various deployment options."
   ]
  },
  {
   "cell_type": "code",
   "execution_count": null,
   "id": "1f8d76f6-310a-4d54-9eb4-a9ddf533aad5",
   "metadata": {},
   "outputs": [],
   "source": []
  },
  {
   "cell_type": "markdown",
   "id": "e375d9ca-c3bb-4440-9573-af9d8dd8854f",
   "metadata": {},
   "source": [
    "Q2. Create a simple Flask application to display ‘Hello World!!’. Attach the screenshot of the output in\n",
    "Jupyter Notebook."
   ]
  },
  {
   "cell_type": "code",
   "execution_count": null,
   "id": "6dc1fa3d-1fa7-42d0-b0b1-f44e2f8cac78",
   "metadata": {},
   "outputs": [],
   "source": [
    "# Ans 2:-\n",
    "from flask import Flask\n",
    "app = Flask(__name__)\n",
    "@app.route(\"/Hello, World1!\")\n",
    "def hello_world1():\n",
    "    return \"<h3>Hello, World1!</h3>\""
   ]
  },
  {
   "cell_type": "code",
   "execution_count": null,
   "id": "377ba347-b5d4-4ceb-8563-3173b6c20279",
   "metadata": {},
   "outputs": [],
   "source": [
    "# I dont how to add the screen short so I attached the link of the output...please make it considered.\n",
    "\n",
    "https://orange-tailor-mkfsn.pwskills.app:5000/Hello,%20World1!"
   ]
  },
  {
   "cell_type": "code",
   "execution_count": null,
   "id": "8965da1a-70f1-49a5-be69-f15ecd9a25f9",
   "metadata": {},
   "outputs": [],
   "source": []
  },
  {
   "cell_type": "markdown",
   "id": "58e715bb-6f5c-4005-adf5-acd103f4ba07",
   "metadata": {},
   "source": [
    "Q3. What is App routing in Flask? Why do we use app routes?"
   ]
  },
  {
   "cell_type": "code",
   "execution_count": null,
   "id": "06e2bb2c-ca08-4033-892f-39d5f6c04ed2",
   "metadata": {},
   "outputs": [],
   "source": [
    "Ans 3:-In Flask, app routing refers to the process of mapping URL paths to specific functions or view handlers within a Flask application.\n",
    "       It allows you to define different routes or endpoints for your application, specifying what content or functionality should be displayed when a particular URL\n",
    "       is accessed."
   ]
  },
  {
   "cell_type": "code",
   "execution_count": null,
   "id": "8932e362-5e82-4288-be3d-f3bf8eca4d3c",
   "metadata": {},
   "outputs": [],
   "source": [
    "The @app.route() decorator is used in Flask to define routes.\n",
    "It specifies the URL path that should trigger the associated function."
   ]
  },
  {
   "cell_type": "code",
   "execution_count": null,
   "id": "50fe9c84-6275-44d4-bca3-9813593f3f83",
   "metadata": {},
   "outputs": [],
   "source": []
  },
  {
   "cell_type": "markdown",
   "id": "f100d714-d431-42a5-a468-0c5caca17795",
   "metadata": {},
   "source": [
    "Q4. Create a “/welcome” route to display the welcome message “Welcome to ABC Corporation” and a “/”\n",
    "route to show the following details:\n",
    "Company Name: ABC Corporation\n",
    "Location: India\n",
    "Contact Detail: 999-999-9999"
   ]
  },
  {
   "cell_type": "code",
   "execution_count": null,
   "id": "1dc7a85e-a0a7-42e4-86f1-ddeaf631738a",
   "metadata": {},
   "outputs": [],
   "source": [
    "# Ans :-4\n",
    "from flask import Flask\n",
    "\n",
    "ass = Flask(__name__)\n",
    "\n",
    "@ass.route(\"/welcome\")\n",
    "def welcome():\n",
    "    return\"Welcome to the ABC Corporation\"\n",
    "\n",
    "@ass.route(\"/contact\")\n",
    "def contact():\n",
    "    return'''Company Name: ABC Corporation\n",
    "             Location: India\n",
    "            Contact Detail: 999-999-9999'''\n",
    "\n",
    "if __name__==\"__main__\":\n",
    "    ass.run(host=\"0.0.0.0\")\n"
   ]
  },
  {
   "cell_type": "code",
   "execution_count": null,
   "id": "563cfeac-6864-4593-bb6a-5d0187e2af45",
   "metadata": {},
   "outputs": [],
   "source": [
    "# I dont how to add the screen short so I attached the output link...please make it considered.\n",
    "\n",
    "https://orange-tailor-mkfsn.pwskills.app:5000/welcome\n",
    "https://orange-tailor-mkfsn.pwskills.app:5000/contact"
   ]
  },
  {
   "cell_type": "code",
   "execution_count": null,
   "id": "0d461f21-68f6-4f92-91d7-03a827f37142",
   "metadata": {},
   "outputs": [],
   "source": []
  },
  {
   "cell_type": "markdown",
   "id": "41736358-495f-4af8-a90c-dbff895f9045",
   "metadata": {},
   "source": [
    "Q5. What function is used in Flask for URL Building? Write a Python code to demonstrate the working of the\n",
    "url_for() function."
   ]
  },
  {
   "cell_type": "code",
   "execution_count": null,
   "id": "8643fe33-c58e-443f-83c3-7a04ab659d2b",
   "metadata": {},
   "outputs": [],
   "source": [
    "Ans 5:-\n",
    "In Flask, the url_for() function is used for URL building.\n",
    "It is a powerful function that helps generate URLs for routes defined in your Flask application, allowing you to dynamically create URLs without hard-coding them."
   ]
  },
  {
   "cell_type": "code",
   "execution_count": null,
   "id": "c0034093-bdc5-4694-a639-8b5558c9b23d",
   "metadata": {},
   "outputs": [],
   "source": [
    "from flask import Flask,url_for\n",
    "\n",
    "ass = Flask(__name__)\n",
    "\n",
    "@ass.route('/index')\n",
    "def index():\n",
    "    hello_url = url_for('hello')\n",
    "    user_url = url_for('user_profile', username='gaurang')\n",
    "    return f\"URL for hello: {hello_url}<br>URL for user profile (gaurang): {user_url}\"\n",
    "\n",
    "@ass.route('/hello')\n",
    "def hello():\n",
    "    return 'Hello, World!'\n",
    "\n",
    "@ass.route('/user/<username>')\n",
    "def user_profile(username):\n",
    "    return f\"User Profile: {username}\"\n",
    "\n",
    "if __name__==\"__main__\":\n",
    "    ass.run(host=\"0.0.0.0\")"
   ]
  },
  {
   "cell_type": "code",
   "execution_count": null,
   "id": "d8f5d276-3584-42b3-bae2-312135b9a4e7",
   "metadata": {},
   "outputs": [],
   "source": [
    "# I dont how to add the screen short so I attached the output link...please make it considered.\n",
    "https://orange-tailor-mkfsn.pwskills.app:5000/index"
   ]
  }
 ],
 "metadata": {
  "kernelspec": {
   "display_name": "Python 3 (ipykernel)",
   "language": "python",
   "name": "python3"
  },
  "language_info": {
   "codemirror_mode": {
    "name": "ipython",
    "version": 3
   },
   "file_extension": ".py",
   "mimetype": "text/x-python",
   "name": "python",
   "nbconvert_exporter": "python",
   "pygments_lexer": "ipython3",
   "version": "3.10.8"
  }
 },
 "nbformat": 4,
 "nbformat_minor": 5
}
