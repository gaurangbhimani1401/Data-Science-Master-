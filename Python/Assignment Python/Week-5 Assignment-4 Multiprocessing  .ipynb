{
 "cells": [
  {
   "cell_type": "markdown",
   "id": "e4887af9-c8aa-4194-8d97-1d41c16dbb34",
   "metadata": {},
   "source": [
    "Q1. What is multiprocessing in python? Why is it useful?"
   ]
  },
  {
   "cell_type": "code",
   "execution_count": null,
   "id": "545253a0-b839-4a07-892f-9da83868d27f",
   "metadata": {},
   "outputs": [],
   "source": [
    "Ans 1:- Multiprocessing in Python refers to the capability of running multiple processes concurrently, utilizing multiple CPU cores or processors"
   ]
  },
  {
   "cell_type": "code",
   "execution_count": null,
   "id": "94862050-0976-4cf9-a5c2-484239830d9e",
   "metadata": {},
   "outputs": [],
   "source": [
    "Utilizing multiple CPU cores:\n",
    "    By utilizing multiple CPU cores, multiprocessing enables parallel execution of tasks, leading to improved processing speed and better utilization of\n",
    "    system resources."
   ]
  },
  {
   "cell_type": "code",
   "execution_count": null,
   "id": "53b884dd-1441-4c98-ad41-12d375a2d1d5",
   "metadata": {},
   "outputs": [],
   "source": [
    "Handling CPU-bound tasks:\n",
    "    CPU-bound tasks are those that require significant processing power and consume a substantial amount of CPU time."
   ]
  },
  {
   "cell_type": "code",
   "execution_count": null,
   "id": "52721e53-4990-4529-9da7-732ffe2c9ed7",
   "metadata": {},
   "outputs": [],
   "source": [
    "Enhanced responsiveness:\n",
    "    By running multiple processes concurrently, multiprocessing improves the responsiveness of an application."
   ]
  },
  {
   "cell_type": "code",
   "execution_count": null,
   "id": "23d9dc87-8f89-4cb5-99e6-7263c114a9d1",
   "metadata": {},
   "outputs": [],
   "source": []
  },
  {
   "cell_type": "markdown",
   "id": "8f8ccc21-9a2e-468e-bad9-7e681047e274",
   "metadata": {},
   "source": [
    "Q2. What are the differences between multiprocessing and multithreading?"
   ]
  },
  {
   "cell_type": "code",
   "execution_count": null,
   "id": "63b381df-49d5-4868-88e3-ed4491e4c613",
   "metadata": {},
   "outputs": [],
   "source": [
    "Ans 2:- Concept: \n",
    "    Multiprocessing involves running multiple processes simultaneously, where each process has its own memory space and resources.\n",
    "    Multithreading, on the other hand, involves running multiple threads within a single process, sharing the same memory space and resources."
   ]
  },
  {
   "cell_type": "code",
   "execution_count": null,
   "id": "711bc859-8670-4a6f-9c73-137ae21aa22e",
   "metadata": {},
   "outputs": [],
   "source": [
    "CPU Utilization:\n",
    "    Multiprocessing is beneficial for CPU-bound tasks as it allows the distribution of workload across multiple CPU cores, utilizing them efficiently.\n",
    "    Multithreading is suitable for I/O-bound tasks where threads can handle concurrent I/O operations and avoid blocking the main thread."
   ]
  },
  {
   "cell_type": "code",
   "execution_count": null,
   "id": "19e0885a-6d98-4006-b348-7f0ebacaf909",
   "metadata": {},
   "outputs": [],
   "source": [
    "Memory Isolation:\n",
    "    In multiprocessing, each process has its own memory space, which provides isolation and prevents interference between processes.\n",
    "    In multithreading, threads share the same memory space, which requires careful synchronization to avoid data inconsistencies and race conditions."
   ]
  },
  {
   "cell_type": "code",
   "execution_count": null,
   "id": "caa3ab72-12cb-44a4-9e57-b052ef0888ca",
   "metadata": {},
   "outputs": [],
   "source": [
    "Complexity: \n",
    "    Multiprocessing typically involves more overhead in terms of process creation, memory allocation, and communication between processes.\n",
    "    Multithreading is generally easier to implement and has less overhead since threads share the same memory space."
   ]
  },
  {
   "cell_type": "code",
   "execution_count": null,
   "id": "d129e155-8a38-4945-a48b-20bda8d64857",
   "metadata": {},
   "outputs": [],
   "source": []
  },
  {
   "cell_type": "markdown",
   "id": "25a44de5-bbe5-4dea-8cbd-2bfd8d541e68",
   "metadata": {},
   "source": [
    "Q3. Write a python code to create a process using the multiprocessing module."
   ]
  },
  {
   "cell_type": "code",
   "execution_count": 1,
   "id": "2faaf90c-0262-47cf-aefe-ef671dfdec12",
   "metadata": {},
   "outputs": [
    {
     "name": "stdout",
     "output_type": "stream",
     "text": [
      "workers process\n",
      "Main process\n"
     ]
    }
   ],
   "source": [
    "# Ans 3:-\n",
    "\n",
    "import multiprocessing\n",
    "\n",
    "def workers():\n",
    "    print(\"workers process\")\n",
    "    \n",
    "if __name__ == '__main__':\n",
    "    p = multiprocessing.Process(target=workers)\n",
    "    \n",
    "p.start()\n",
    "p.join()\n",
    "print(\"Main process\")"
   ]
  },
  {
   "cell_type": "code",
   "execution_count": null,
   "id": "d4c499c4-6e0b-4f4b-bf4f-f6ed26e77876",
   "metadata": {},
   "outputs": [],
   "source": []
  },
  {
   "cell_type": "markdown",
   "id": "4ec791c4-b60e-4aaa-ae89-00914611564a",
   "metadata": {},
   "source": [
    "Q4. What is a multiprocessing pool in python? Why is it used?"
   ]
  },
  {
   "cell_type": "code",
   "execution_count": null,
   "id": "037aed38-f6cc-42ea-9cc7-325e6647e5ea",
   "metadata": {},
   "outputs": [],
   "source": [
    "Ans 4:-A multiprocessing pool is a feature provided by the multiprocessing module that allows for the creation of a pool of worker processes."
   ]
  },
  {
   "cell_type": "code",
   "execution_count": null,
   "id": "f9b0e57d-d775-4dc6-b11f-20c4bb6bcec2",
   "metadata": {},
   "outputs": [],
   "source": [
    "Parallel Execution:\n",
    "    With a multiprocessing pool, you can divide the workload into smaller tasks and execute them in parallel across multiple processes."
   ]
  },
  {
   "cell_type": "code",
   "execution_count": null,
   "id": "aac0a03f-028b-48f2-bea1-14e2afb370a7",
   "metadata": {},
   "outputs": [],
   "source": [
    "Utilizing Multiple CPU Cores:\n",
    "    By using a pool of worker processes, you can take advantage of the available CPU cores on your system"
   ]
  },
  {
   "cell_type": "code",
   "execution_count": null,
   "id": "65da0bcb-bebb-4864-8913-96788540719d",
   "metadata": {},
   "outputs": [],
   "source": [
    "oad Balancing:\n",
    "    The multiprocessing pool automatically distributes the tasks among the worker processes, ensuring that the workload is evenly distributed"
   ]
  },
  {
   "cell_type": "code",
   "execution_count": null,
   "id": "bc7244ce-d210-4794-92c2-40109d9db529",
   "metadata": {},
   "outputs": [],
   "source": []
  },
  {
   "cell_type": "markdown",
   "id": "aa47789b-d36a-46f8-b1a0-4e9700d15b69",
   "metadata": {},
   "source": [
    "Q5. How can we create a pool of worker processes in python using the multiprocessing module?"
   ]
  },
  {
   "cell_type": "code",
   "execution_count": null,
   "id": "c7d432b7-1bc8-4c9a-b124-b92d4253e476",
   "metadata": {},
   "outputs": [],
   "source": [
    "Ans 5:-\n",
    "You can create a pool in Python, by worker processes using the multiprocessing.\n",
    "Pool class from the multiprocessing module."
   ]
  },
  {
   "cell_type": "code",
   "execution_count": null,
   "id": "d17a76a0-0c54-4d42-a767-918d95ebead1",
   "metadata": {},
   "outputs": [],
   "source": [
    "Import the multiprocessing module:\n",
    "Define a function that represents the task you want to execute in parallel.\n",
    "Create a Pool object by calling the multiprocessing.Pool() constructor. \n",
    "Use the map() method of the Pool object to distribute the tasks among the worker processes and collect the results\n",
    "Finally, close the pool using the close() method and wait for all the worker processes to finish using the join() method. "
   ]
  },
  {
   "cell_type": "code",
   "execution_count": 2,
   "id": "1abc715b-46da-4825-8b0b-b17226d005b1",
   "metadata": {},
   "outputs": [
    {
     "name": "stdout",
     "output_type": "stream",
     "text": [
      "[2, 4, 6, 8, 10]\n"
     ]
    }
   ],
   "source": [
    "import multiprocessing\n",
    "\n",
    "def process_task(number):\n",
    "    result = number * 2\n",
    "    return result\n",
    "\n",
    "if __name__ == '__main__':\n",
    "    pool = multiprocessing.Pool(4)\n",
    "    numbers = [1, 2, 3, 4, 5]\n",
    "    results = pool.map(process_task, numbers)\n",
    "    pool.close()\n",
    "    pool.join()\n",
    "    print(results)"
   ]
  },
  {
   "cell_type": "code",
   "execution_count": null,
   "id": "e6efdc92-7d2e-4088-b5d2-fd964b7397c4",
   "metadata": {},
   "outputs": [],
   "source": []
  },
  {
   "cell_type": "markdown",
   "id": "f3975bbe-ca66-4af7-8aa0-e7fe5c5c84ee",
   "metadata": {},
   "source": [
    "Q6. Write a python program to create 4 processes, each process should print a different number using the multiprocessing module in python."
   ]
  },
  {
   "cell_type": "code",
   "execution_count": 3,
   "id": "a964f660-8b44-4103-9828-8c2b21365e06",
   "metadata": {},
   "outputs": [
    {
     "name": "stdout",
     "output_type": "stream",
     "text": [
      "0\n",
      "1\n",
      "2\n",
      "3\n"
     ]
    }
   ],
   "source": [
    "# Ans 6:-\n",
    "import multiprocessing\n",
    "\n",
    "def print_number(number):\n",
    "    print(\"Number\",number)\n",
    "    \n",
    "if __name__ == '__main__':\n",
    "    processes = []\n",
    "    \n",
    "    for i in range(4):\n",
    "        process = multiprocessing.Process(target=print ,args=(i,))\n",
    "        processes.append(process)\n",
    "        process.start()\n",
    "        \n",
    "    for i in processes:\n",
    "        process.join()"
   ]
  },
  {
   "cell_type": "code",
   "execution_count": null,
   "id": "11c1d5e8-3a26-4cc8-98e5-a083a993d5c8",
   "metadata": {},
   "outputs": [],
   "source": []
  }
 ],
 "metadata": {
  "kernelspec": {
   "display_name": "Python 3 (ipykernel)",
   "language": "python",
   "name": "python3"
  },
  "language_info": {
   "codemirror_mode": {
    "name": "ipython",
    "version": 3
   },
   "file_extension": ".py",
   "mimetype": "text/x-python",
   "name": "python",
   "nbconvert_exporter": "python",
   "pygments_lexer": "ipython3",
   "version": "3.10.8"
  }
 },
 "nbformat": 4,
 "nbformat_minor": 5
}
