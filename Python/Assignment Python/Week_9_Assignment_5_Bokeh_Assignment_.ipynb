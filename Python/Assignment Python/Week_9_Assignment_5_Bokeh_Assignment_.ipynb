{
  "nbformat": 4,
  "nbformat_minor": 0,
  "metadata": {
    "colab": {
      "provenance": []
    },
    "kernelspec": {
      "name": "python3",
      "display_name": "Python 3"
    },
    "language_info": {
      "name": "python"
    }
  },
  "cells": [
    {
      "cell_type": "code",
      "execution_count": null,
      "metadata": {
        "id": "LsnMO7Qoav-T"
      },
      "outputs": [],
      "source": [
        "Q1. How can you create a Bokeh plot using Python code?"
      ]
    },
    {
      "cell_type": "code",
      "source": [
        "# Ans 1:-\n",
        "from bokeh.plotting import figure, show\n",
        "p = figure()\n",
        "p.line(x, y)\n",
        "p.circle(x, y)\n",
        "p.title.text = \"My Plot\"\n",
        "p.xaxis.axis_label = \"X-axis\"\n",
        "p.yaxis.axis_label = \"Y-axis\"\n",
        "show(p)"
      ],
      "metadata": {
        "id": "2p_wutpBa31m"
      },
      "execution_count": null,
      "outputs": []
    },
    {
      "cell_type": "code",
      "source": [
        "Q2. What are glyphs in Bokeh, and how can you add them to a Bokeh plot? Explain with an example."
      ],
      "metadata": {
        "id": "qgV4iMDCbT9m"
      },
      "execution_count": null,
      "outputs": []
    },
    {
      "cell_type": "code",
      "source": [
        "# Ans 2:-\n",
        "In Bokeh, glyphs are visual markers or shapes that represent the data points in a plot.\n",
        "They can be used to create various types of visualizations such as scatter plots, line plots, bar plots, etc."
      ],
      "metadata": {
        "id": "6n4zoY42bjML"
      },
      "execution_count": null,
      "outputs": []
    },
    {
      "cell_type": "code",
      "source": [
        "from bokeh.plotting import figure, show\n",
        "p = figure()\n",
        "p.line([1, 2, 3, 4, 5], [6, 7, 2, 4, 5])\n",
        "p.circle([1, 2, 3, 4, 5], [6, 7, 2, 4, 5], size=10, fill_color='red', line_color='black')\n",
        "show(p)"
      ],
      "metadata": {
        "id": "xeLjKFi9b1uY"
      },
      "execution_count": 2,
      "outputs": []
    },
    {
      "cell_type": "code",
      "source": [
        "Q3. How can you customize the appearance of a Bokeh plot, including the axes, title, and legend?"
      ],
      "metadata": {
        "id": "QJKvuZ81b_u8"
      },
      "execution_count": null,
      "outputs": []
    },
    {
      "cell_type": "code",
      "source": [
        "Ans 3:-\n",
        "Axes customization:\n",
        "\n",
        "To customize the axes labels, you can use the xaxis and yaxis properties of the Figure object and set their respective axis_label attributes.\n",
        "To customize the tick labels, ticks, or other properties of the axes, you can access the corresponding properties of the Axis objects, such as xaxis.major_label_text_color, yaxis.major_tick_line_color, etc.\n",
        "Title customization:\n",
        "\n",
        "To add a title to the plot, you can set the title property of the Figure object.\n",
        "To customize the appearance of the title, you can set various attributes of the Title object, such as text_color, text_font, text_font_style, etc.\n",
        "Legend customization:\n",
        "\n",
        "To add a legend to the plot, you can use the legend property of the Figure object and set its attributes like location, label_text_font, label_text_color, etc.\n",
        "To customize the appearance of the legend labels or other properties, you can access the corresponding properties of the Legend object, such as label_text_font_size, label_standoff, etc."
      ],
      "metadata": {
        "id": "fPG_28mOcGx0"
      },
      "execution_count": null,
      "outputs": []
    },
    {
      "cell_type": "code",
      "source": [
        "from bokeh.plotting import figure, show\n",
        "p = figure()\n",
        "p.xaxis.axis_label = \"X-axis\"\n",
        "p.yaxis.axis_label = \"Y-axis\"\n",
        "\n",
        "p.title.text = \"Custom Plot Title\"\n",
        "p.title.text_font_size = \"18pt\"\n",
        "p.title.text_color = \"blue\"\n",
        "\n",
        "p.legend.location = \"top_right\"\n",
        "p.legend.label_text_font_size = \"12pt\"\n",
        "p.legend.label_text_color = \"green\"\n",
        "\n",
        "show(p)"
      ],
      "metadata": {
        "colab": {
          "base_uri": "https://localhost:8080/"
        },
        "id": "fdVJNIMbcRK-",
        "outputId": "9cc336ac-c3f4-402f-9932-d26e8089fab1"
      },
      "execution_count": 3,
      "outputs": [
        {
          "output_type": "stream",
          "name": "stderr",
          "text": [
            "/usr/local/lib/python3.10/dist-packages/bokeh/models/plots.py:815: UserWarning: \n",
            "You are attempting to set `plot.legend.location` on a plot that has zero legends added, this will have no effect.\n",
            "\n",
            "Before legend properties can be set, you must add a Legend explicitly, or call a glyph method with a legend parameter set.\n",
            "\n",
            "  warnings.warn(_LEGEND_EMPTY_WARNING % attr)\n",
            "/usr/local/lib/python3.10/dist-packages/bokeh/models/plots.py:815: UserWarning: \n",
            "You are attempting to set `plot.legend.label_text_font_size` on a plot that has zero legends added, this will have no effect.\n",
            "\n",
            "Before legend properties can be set, you must add a Legend explicitly, or call a glyph method with a legend parameter set.\n",
            "\n",
            "  warnings.warn(_LEGEND_EMPTY_WARNING % attr)\n",
            "/usr/local/lib/python3.10/dist-packages/bokeh/models/plots.py:815: UserWarning: \n",
            "You are attempting to set `plot.legend.label_text_color` on a plot that has zero legends added, this will have no effect.\n",
            "\n",
            "Before legend properties can be set, you must add a Legend explicitly, or call a glyph method with a legend parameter set.\n",
            "\n",
            "  warnings.warn(_LEGEND_EMPTY_WARNING % attr)\n",
            "WARNING:bokeh.core.validation.check:W-1000 (MISSING_RENDERERS): Plot has no renderers: Figure(id='1246', ...)\n"
          ]
        }
      ]
    },
    {
      "cell_type": "code",
      "source": [
        "Q4. What is a Bokeh server, and how can you use it to create interactive plots that can be updated in\n",
        "real time?"
      ],
      "metadata": {
        "id": "Lh9uXnFvccC_"
      },
      "execution_count": null,
      "outputs": []
    },
    {
      "cell_type": "code",
      "source": [
        "# Ans 4:-\n",
        "A Bokeh server is a Python process that allows you to create and serve interactive Bokeh plots and applications.\n",
        "It enables you to build dynamic and interactive visualizations that can be updated in real time based on user interactions or data changes."
      ],
      "metadata": {
        "id": "WAiq3WeKchuI"
      },
      "execution_count": null,
      "outputs": []
    },
    {
      "cell_type": "code",
      "source": [
        "from bokeh.plotting import figure, curdoc\n",
        "from bokeh.models import ColumnDataSource, Slider\n",
        "\n",
        "# Create a ColumnDataSource\n",
        "x = [1, 2, 3, 4, 5]\n",
        "y = [6, 7, 2, 4, 5]\n",
        "source = ColumnDataSource(data=dict(x=x, y=y))\n",
        "\n",
        "# Create a plot\n",
        "p = figure(title=\"Interactive Line Plot\")\n",
        "line = p.line(x='x', y='y', source=source)\n",
        "\n",
        "# Create a slider\n",
        "slider = Slider(start=1, end=10, step=0.1, value=1, title=\"Multiplier\")\n",
        "\n",
        "# Define a callback function for the slider\n",
        "def update_data(attr, old, new):\n",
        "    # Update the y-values based on the slider value\n",
        "    source.data['y'] = [val * slider.value for val in y]\n",
        "\n",
        "# Add the callback to the slider\n",
        "slider.on_change('value', update_data)\n",
        "\n",
        "# Create the layout and add the plot and slider\n",
        "layout = column(p, slider)\n",
        "\n",
        "# Add the layout to the current document\n",
        "curdoc().add_root(layout)\n"
      ],
      "metadata": {
        "id": "pQUmVMtxctW2"
      },
      "execution_count": 6,
      "outputs": []
    },
    {
      "cell_type": "code",
      "source": [
        "Q5. How can you embed a Bokeh plot into a web page or dashboard using Flask or Django?"
      ],
      "metadata": {
        "id": "mr4PbVfXc_I-"
      },
      "execution_count": null,
      "outputs": []
    },
    {
      "cell_type": "code",
      "source": [
        "# Ans 5:-\n",
        "from flask import Flask, render_template\n",
        "from bokeh.embed import components\n",
        "from bokeh.plotting import figure\n",
        "\n",
        "app = Flask(__name__)\n",
        "\n",
        "@app.route('/')\n",
        "def index():\n",
        "    # Create the Bokeh plot\n",
        "    plot = figure(...)\n",
        "    plot.line(...)\n",
        "\n",
        "    # Generate the components\n",
        "    script, div = components(plot)\n",
        "\n",
        "    # Pass the components to the template\n",
        "    return render_template('index.html', script=script, div=div)\n",
        "\n"
      ],
      "metadata": {
        "id": "ZTt9NSrVdK-L"
      },
      "execution_count": 7,
      "outputs": []
    },
    {
      "cell_type": "code",
      "source": [],
      "metadata": {
        "id": "pvImcQ4OdwN7"
      },
      "execution_count": 8,
      "outputs": []
    },
    {
      "cell_type": "code",
      "source": [],
      "metadata": {
        "id": "kXKk4_U3dyr-"
      },
      "execution_count": null,
      "outputs": []
    }
  ]
}