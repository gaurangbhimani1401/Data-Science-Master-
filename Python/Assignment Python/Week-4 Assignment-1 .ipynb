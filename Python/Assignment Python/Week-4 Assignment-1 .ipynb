{
 "cells": [
  {
   "cell_type": "markdown",
   "id": "70025add-8138-4273-8822-aa5739987e8a",
   "metadata": {},
   "source": [
    "Q1. Explain Class and Object with respect to Object-Oriented Programming. Give a suitable example."
   ]
  },
  {
   "cell_type": "code",
   "execution_count": null,
   "id": "c64fa4ef-487c-4a46-ac6f-372c78d4c174",
   "metadata": {},
   "outputs": [],
   "source": [
    "Ans 1:- In object-oriented programming a class is a blueprint for creating objects. \n",
    "       It defines the structure and behavior of objects of that class.\n",
    "       It encapsulates data and methods that define the behavior and functionality of the objects.\n",
    "       A class serves as a blueprint that can be used to create multiple objects."
   ]
  },
  {
   "cell_type": "code",
   "execution_count": null,
   "id": "e7d67f8d-f80f-4f52-a8e0-be6f20d330d3",
   "metadata": {},
   "outputs": [],
   "source": [
    "An object, on the other hand, is an instance of a class.\n",
    "It represents a specific entity that is created based on the class definition."
   ]
  },
  {
   "cell_type": "code",
   "execution_count": 4,
   "id": "4b4a39f4-7927-47c2-b297-c6aa7117cc54",
   "metadata": {},
   "outputs": [],
   "source": [
    "class car:\n",
    "    def __init__(self, brand, modal):\n",
    "        self.brand = brand\n",
    "        self.modal = modal"
   ]
  },
  {
   "cell_type": "code",
   "execution_count": 5,
   "id": "6d848993-0305-498d-ab35-aa12cc7c554b",
   "metadata": {},
   "outputs": [],
   "source": [
    "def drive(self):\n",
    "        print(f\"The {self.brand} {self.model} is being driven.\")"
   ]
  },
  {
   "cell_type": "code",
   "execution_count": 14,
   "id": "7ee8bd68-0d40-46fd-ac18-58c382cb8bb0",
   "metadata": {},
   "outputs": [],
   "source": [
    "car1 = car(\"Toyota\", \"Fortunar\")\n",
    "car2 = car(\"Honda\", \"City\")"
   ]
  },
  {
   "cell_type": "code",
   "execution_count": 9,
   "id": "9f83c2d1-4eee-4e63-aa9d-2f51a11f02c1",
   "metadata": {},
   "outputs": [
    {
     "name": "stdout",
     "output_type": "stream",
     "text": [
      "Toyota\n",
      "City\n"
     ]
    }
   ],
   "source": [
    "print(car1.brand)\n",
    "print(car2.modal)"
   ]
  },
  {
   "cell_type": "code",
   "execution_count": null,
   "id": "4a621a42-364a-4ae2-bd06-4eadbd3a0903",
   "metadata": {},
   "outputs": [],
   "source": []
  },
  {
   "cell_type": "markdown",
   "id": "b2e50468-2305-4010-9c6f-dc522886dd1b",
   "metadata": {},
   "source": [
    "Q2. Name the four pillars of OOPs."
   ]
  },
  {
   "cell_type": "code",
   "execution_count": null,
   "id": "0615b3e4-a4f6-4b90-98f4-48d957bd50e0",
   "metadata": {},
   "outputs": [],
   "source": [
    "Ans 2:- The four pillars of object-oriented programming (OOP) are:\n",
    "        1)Encapsulation\n",
    "        2)Inheritance\n",
    "        3)Polymorphism\n",
    "        4)Abstraction"
   ]
  },
  {
   "cell_type": "code",
   "execution_count": null,
   "id": "46c4beaa-9ed8-4d78-9c7d-99de1677efd9",
   "metadata": {},
   "outputs": [],
   "source": []
  },
  {
   "cell_type": "markdown",
   "id": "893a3b1f-235b-4a5c-a556-1bba8d065946",
   "metadata": {},
   "source": [
    "Q3. Explain why the __init__() function is used. Give a suitable example."
   ]
  },
  {
   "cell_type": "code",
   "execution_count": null,
   "id": "a09bba68-d90b-43d0-a456-79bd2fd193a5",
   "metadata": {},
   "outputs": [],
   "source": [
    "Ans 3:- It is used to initialize the attributes or properties of the object.\n",
    "        The primary purpose of the __init__() function is to set the initial state of the object by assigning values to its attributes."
   ]
  },
  {
   "cell_type": "code",
   "execution_count": 13,
   "id": "0a050f1d-04fe-4cdd-a6a4-d596e440f51e",
   "metadata": {},
   "outputs": [],
   "source": [
    "class car:\n",
    "    def __init__(self, brand, modal):\n",
    "        self.brand = brand\n",
    "        self.modal = modal"
   ]
  },
  {
   "cell_type": "code",
   "execution_count": 15,
   "id": "9ee272fc-be1b-42f8-8591-42ffc72da5fa",
   "metadata": {},
   "outputs": [],
   "source": [
    "def drive(self):\n",
    "        print(f\"The {self.brand} {self.model} is being driven.\")"
   ]
  },
  {
   "cell_type": "code",
   "execution_count": 16,
   "id": "0a25dc36-d3b2-44e4-8b11-72b068e93ec4",
   "metadata": {},
   "outputs": [],
   "source": [
    "car1 = car(\"Toyota\", \"Fortunar\")\n",
    "car2 = car(\"Honda\", \"City\")"
   ]
  },
  {
   "cell_type": "code",
   "execution_count": 17,
   "id": "d36eed94-90b3-4812-a26c-ae1e4fd018d0",
   "metadata": {},
   "outputs": [
    {
     "name": "stdout",
     "output_type": "stream",
     "text": [
      "Toyota\n",
      "City\n"
     ]
    }
   ],
   "source": [
    "print(car1.brand)\n",
    "print(car2.modal)"
   ]
  },
  {
   "cell_type": "code",
   "execution_count": null,
   "id": "584ff104-c2f8-4f64-901d-30e5d75028e7",
   "metadata": {},
   "outputs": [],
   "source": []
  },
  {
   "cell_type": "markdown",
   "id": "780a7e44-64d5-4dfc-89e8-42a0cd4db1e3",
   "metadata": {},
   "source": [
    "Q4. Why self is used in OOPs?"
   ]
  },
  {
   "cell_type": "code",
   "execution_count": null,
   "id": "b4308570-4471-4092-8963-c84bc2fa080f",
   "metadata": {},
   "outputs": [],
   "source": [
    "Ans 4:-In OOP, self is a conventional name used as the first parameter in method definitions within a class.\n",
    "       It is a reference to the instance of the class itself."
   ]
  },
  {
   "cell_type": "code",
   "execution_count": null,
   "id": "c78c4d5d-d63a-483f-8939-85f1eeb2efed",
   "metadata": {},
   "outputs": [],
   "source": []
  },
  {
   "cell_type": "markdown",
   "id": "ff0981bc-592e-4231-8dbc-858c1e1a2fc5",
   "metadata": {},
   "source": [
    "Q5. What is inheritance? Give an example for each type of inheritance."
   ]
  },
  {
   "cell_type": "code",
   "execution_count": null,
   "id": "2f0f3d68-00cc-47b9-9dad-35e5e19f5829",
   "metadata": {},
   "outputs": [],
   "source": [
    "Ans 5:-Inheritance is a fundamental concept in OOP that allows a class to inherit properties and behaviors from another class.\n",
    "       It enables code reusability and promotes the creation of a hierarchical relationship between classes."
   ]
  },
  {
   "cell_type": "markdown",
   "id": "a2e93794-4fd4-45a1-a76b-1ea5d62d4638",
   "metadata": {},
   "source": [
    "Multiple Inheritance:"
   ]
  },
  {
   "cell_type": "code",
   "execution_count": 22,
   "id": "9ed0942f-08b2-437e-b688-5c653b810ba6",
   "metadata": {},
   "outputs": [],
   "source": [
    "class Flyers:\n",
    "    def fly(self):\n",
    "        print(\"Flying\")\n",
    "\n",
    "class Swimmer:\n",
    "    def swim(self):\n",
    "        print(\"Swimming\")\n",
    "\n",
    "class FlyingSwiming(Flyers, Swimmer):\n",
    "    pass"
   ]
  },
  {
   "cell_type": "code",
   "execution_count": 23,
   "id": "08b28ae5-70f0-4768-9c6f-da5c0037b595",
   "metadata": {},
   "outputs": [],
   "source": [
    "FS = FlyingSwiming()"
   ]
  },
  {
   "cell_type": "code",
   "execution_count": 24,
   "id": "95ee2a79-94d1-4d2b-88b0-c155d8ccb5b5",
   "metadata": {},
   "outputs": [
    {
     "name": "stdout",
     "output_type": "stream",
     "text": [
      "Flying\n",
      "Swimming\n"
     ]
    }
   ],
   "source": [
    "FS.fly()   \n",
    "FS.swim()"
   ]
  },
  {
   "cell_type": "markdown",
   "id": "9ec62965-24b5-4e88-9db1-fd42ee9f1be0",
   "metadata": {},
   "source": [
    "Multilevel Inheritance: "
   ]
  },
  {
   "cell_type": "code",
   "execution_count": 25,
   "id": "dbc66a41-0e69-4266-8081-583b830be3ec",
   "metadata": {},
   "outputs": [],
   "source": [
    "class Animal:\n",
    "    def speak(self):\n",
    "        print(\"Animal speaks\")\n",
    "\n",
    "class Dog(Animal):\n",
    "    def bark(self):\n",
    "        print(\"Dog barks\")\n",
    "\n",
    "class Bulldog(Dog):\n",
    "    def growl(self):\n",
    "        print(\"Bulldog growls\")"
   ]
  },
  {
   "cell_type": "code",
   "execution_count": 26,
   "id": "6aa1fb58-3c09-4317-a880-0c732ea535b4",
   "metadata": {},
   "outputs": [],
   "source": [
    "bulldog = Bulldog()"
   ]
  },
  {
   "cell_type": "code",
   "execution_count": 27,
   "id": "9cc2add7-17d1-4a70-9ad5-741706c7a037",
   "metadata": {},
   "outputs": [
    {
     "name": "stdout",
     "output_type": "stream",
     "text": [
      "Animal speaks\n",
      "Dog barks\n",
      "Bulldog growls\n"
     ]
    }
   ],
   "source": [
    "bulldog.speak()\n",
    "bulldog.bark()\n",
    "bulldog.growl()"
   ]
  },
  {
   "cell_type": "code",
   "execution_count": null,
   "id": "f607907a-a60e-45b3-9e9d-e9645cc7ca84",
   "metadata": {},
   "outputs": [],
   "source": []
  }
 ],
 "metadata": {
  "kernelspec": {
   "display_name": "Python 3 (ipykernel)",
   "language": "python",
   "name": "python3"
  },
  "language_info": {
   "codemirror_mode": {
    "name": "ipython",
    "version": 3
   },
   "file_extension": ".py",
   "mimetype": "text/x-python",
   "name": "python",
   "nbconvert_exporter": "python",
   "pygments_lexer": "ipython3",
   "version": "3.10.8"
  }
 },
 "nbformat": 4,
 "nbformat_minor": 5
}
