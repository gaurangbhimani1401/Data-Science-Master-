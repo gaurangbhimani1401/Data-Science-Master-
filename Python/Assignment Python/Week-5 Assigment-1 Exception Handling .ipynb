{
 "cells": [
  {
   "cell_type": "markdown",
   "id": "b05be00d-a25f-4290-a705-023d0f729acd",
   "metadata": {},
   "source": [
    "Q1. What is an Exception in python? Write the differen,between Exceptions and syntax errors"
   ]
  },
  {
   "cell_type": "code",
   "execution_count": null,
   "id": "e71ecd90-8b7c-4ba7-9bff-acf7ed71c575",
   "metadata": {},
   "outputs": [],
   "source": [
    "Ans 1:- An exception in Python is an event that occurs during the execution of a program that disrupts the normal flow of the execution of the program.\n",
    "        It represents an error or an exceptional condition that may occur while the program is running."
   ]
  },
  {
   "cell_type": "code",
   "execution_count": null,
   "id": "eb15ddbd-2a09-40b0-ae5c-0d4ad399b822",
   "metadata": {},
   "outputs": [],
   "source": [
    "Synatx error:\n",
    "            Syntax errors occur during the parsing phase of the program, before it is executed.\n",
    "            They are caused by violations of the Python syntax rules or grammar.\n",
    "\n",
    "Exceptions:\n",
    "           Exceptions occur during the execution of a program, after it has been parsed and is being executed.\n",
    "           They are typically caused by runtime conditions, such as invalid input, division by zero, accessing an undefined variable, or calling a non-existent function.\n",
    "    "
   ]
  },
  {
   "cell_type": "code",
   "execution_count": null,
   "id": "16366008-a4ea-44d8-8094-b8b18cf6a5e1",
   "metadata": {},
   "outputs": [],
   "source": []
  },
  {
   "cell_type": "markdown",
   "id": "f29545f3-1f1a-4eb5-82c2-31b0fe3559e6",
   "metadata": {},
   "source": [
    "Q2. What happens when an exception is not handled? Explain with an example."
   ]
  },
  {
   "cell_type": "code",
   "execution_count": null,
   "id": "c29de844-3302-48b4-8938-675252d4776a",
   "metadata": {},
   "outputs": [],
   "source": [
    "Ans 2:- When an exception is not handled in Python, it leads to the termination of the program and an error message is displayed."
   ]
  },
  {
   "cell_type": "code",
   "execution_count": 5,
   "id": "9fea1306-c688-49d1-be6c-7aad0371e2fd",
   "metadata": {},
   "outputs": [
    {
     "name": "stdout",
     "output_type": "stream",
     "text": [
      "Cannot divide by zero\n"
     ]
    }
   ],
   "source": [
    "try:\n",
    "    result = divide_numbers(10, 0)\n",
    "    print(\"Result:\", result)\n",
    "except ZeroDivisionError:\n",
    "    print(\"Cannot divide by zero\")\n"
   ]
  },
  {
   "cell_type": "code",
   "execution_count": null,
   "id": "05e562be-2404-48d0-ad2f-dbe6fc2e0e76",
   "metadata": {},
   "outputs": [],
   "source": []
  },
  {
   "cell_type": "markdown",
   "id": "1384d53c-b41c-42bc-ad2f-68f2f0c0ab7e",
   "metadata": {},
   "source": [
    "Q3. Which Python statements are used to catch and handle exceptions? Explain with an example"
   ]
  },
  {
   "cell_type": "code",
   "execution_count": null,
   "id": "077aef1c-865d-41cf-974b-72af597bf77b",
   "metadata": {},
   "outputs": [],
   "source": [
    "Ans 3:-In Python, the try and except statements are used to catch and handle exceptions.\n",
    "       The try block is used to enclose the code that might raise an exception, and the except block is used to specify the actions to be taken when a specific\n",
    "        exception is raised."
   ]
  },
  {
   "cell_type": "code",
   "execution_count": 6,
   "id": "7e399a2d-c60a-4c7d-85b2-51524e41dee8",
   "metadata": {},
   "outputs": [
    {
     "name": "stdin",
     "output_type": "stream",
     "text": [
      "Enter a number:  10\n",
      "Enter another number:  0\n"
     ]
    },
    {
     "name": "stdout",
     "output_type": "stream",
     "text": [
      "Cannot divide by zero\n"
     ]
    }
   ],
   "source": [
    "try:\n",
    "    num1 = int(input(\"Enter a number: \"))\n",
    "    num2 = int(input(\"Enter another number: \"))\n",
    "    result = num1 / num2\n",
    "    print(\"Result:\", result)\n",
    "except ZeroDivisionError:\n",
    "    print(\"Cannot divide by zero\")\n",
    "except ValueError:\n",
    "    print(\"Invalid input: please enter a valid integer\")"
   ]
  },
  {
   "cell_type": "code",
   "execution_count": null,
   "id": "77be99f1-fa14-48e0-8b54-bb46a00c3c2a",
   "metadata": {},
   "outputs": [],
   "source": []
  },
  {
   "cell_type": "markdown",
   "id": "202321a6-963c-4c6a-b61d-2db044962d3a",
   "metadata": {},
   "source": [
    "Q4. Explain withan example:\n",
    "a.try and else\n",
    "b.finall\n",
    "c.raise"
   ]
  },
  {
   "cell_type": "code",
   "execution_count": null,
   "id": "c752d7e2-f89c-4487-85e6-c8bbc77dd540",
   "metadata": {},
   "outputs": [],
   "source": [
    "Ans 4:-a. try and else:\n",
    "The else block is used in conjunction with the try block to specify a code block that should be executed if no exceptions occur."
   ]
  },
  {
   "cell_type": "code",
   "execution_count": 7,
   "id": "ddd0efbd-be13-458c-916a-4318f55eb07e",
   "metadata": {},
   "outputs": [
    {
     "name": "stdin",
     "output_type": "stream",
     "text": [
      "Enter a number:  10\n",
      "Enter another number:  0\n"
     ]
    },
    {
     "name": "stdout",
     "output_type": "stream",
     "text": [
      "Cannot divide by zero\n"
     ]
    }
   ],
   "source": [
    "try:\n",
    "    num1 = int(input(\"Enter a number: \"))\n",
    "    num2 = int(input(\"Enter another number: \"))\n",
    "    result = num1 / num2\n",
    "    print(\"Result:\", result)\n",
    "except ZeroDivisionError:\n",
    "    print(\"Cannot divide by zero\")\n",
    "except ValueError:\n",
    "    print(\"Invalid input: please enter a valid integer\")"
   ]
  },
  {
   "cell_type": "code",
   "execution_count": null,
   "id": "4fbe7046-2bbc-4577-b5d3-eacd703659f9",
   "metadata": {},
   "outputs": [],
   "source": [
    "b. finally:\n",
    "The finally block is used to specify a code block that should be executed regardless of whether an exception occurs or error occurs or not."
   ]
  },
  {
   "cell_type": "code",
   "execution_count": 11,
   "id": "b5545533-57f7-4524-86d6-02c83f10ddf6",
   "metadata": {},
   "outputs": [
    {
     "name": "stdout",
     "output_type": "stream",
     "text": [
      "finally block is executed sucessfully\n"
     ]
    }
   ],
   "source": [
    "try:\n",
    "    file = open(\"abc.txt\", 'r')\n",
    "finally:\n",
    "    file.close()\n",
    "    print(\"finally block is executed sucessfully\")\n"
   ]
  },
  {
   "cell_type": "code",
   "execution_count": null,
   "id": "ddb81782-ea1c-4cce-8e5e-8acdf9a1990a",
   "metadata": {},
   "outputs": [],
   "source": [
    "c. raise:\n",
    "The raise statement is used to manually raise an exception in Python."
   ]
  },
  {
   "cell_type": "code",
   "execution_count": 12,
   "id": "0f42a4a7-f6cb-49c0-92a8-8c6916eecb8b",
   "metadata": {},
   "outputs": [
    {
     "name": "stdin",
     "output_type": "stream",
     "text": [
      "Enter your age:  -23\n"
     ]
    },
    {
     "name": "stdout",
     "output_type": "stream",
     "text": [
      "Error: Invalid age: Age must be a positive number\n"
     ]
    }
   ],
   "source": [
    "def validate_age(age):\n",
    "    if age < 0:\n",
    "        raise ValueError(\"Invalid age: Age must be a positive number\")\n",
    "    elif age > 120:\n",
    "        raise ValueError(\"Invalid age: Age must be less than or equal to 120\")\n",
    "    else:\n",
    "        print(\"Age is valid\")\n",
    "\n",
    "try:\n",
    "    user_age = int(input(\"Enter your age: \"))\n",
    "    validate_age(user_age)\n",
    "except ValueError as e:\n",
    "    print(\"Error:\", str(e))\n"
   ]
  },
  {
   "cell_type": "code",
   "execution_count": null,
   "id": "60e19315-c187-46dd-a52d-69b4d1f1df7e",
   "metadata": {},
   "outputs": [],
   "source": []
  },
  {
   "cell_type": "markdown",
   "id": "98295fa1-e789-4407-8054-1a071dba4c6e",
   "metadata": {},
   "source": [
    "Q5. What are Custom Exceptions in python? Why do we need Custom Exceptions? Explain with an example"
   ]
  },
  {
   "cell_type": "code",
   "execution_count": null,
   "id": "18750177-a850-4302-affb-f12bba78c1c5",
   "metadata": {},
   "outputs": [],
   "source": [
    "Ans 5:-Custom exceptions in Python are user-defined exceptions that extend the built-in exception classes.\n",
    "       We need custom exceptions to handle application-specific errors or exceptional cases that are not covered by the built-in exception classes."
   ]
  },
  {
   "cell_type": "code",
   "execution_count": 13,
   "id": "3bc945d3-6734-497a-a094-36268b3d41ee",
   "metadata": {},
   "outputs": [
    {
     "name": "stdout",
     "output_type": "stream",
     "text": [
      "Error: Insufficient balance: Required 1500, available 1000\n"
     ]
    }
   ],
   "source": [
    "class InsufficientBalanceError(Exception):\n",
    "    def __init__(self, amount, balance):\n",
    "        self.amount = amount\n",
    "        self.balance = balance\n",
    "        super().__init__(f\"Insufficient balance: Required {amount}, available {balance}\")\n",
    "\n",
    "def withdraw(amount, balance):\n",
    "    if amount > balance:\n",
    "        raise InsufficientBalanceError(amount, balance)\n",
    "    else:\n",
    "        print(\"Withdrawal successful\")\n",
    "\n",
    "try:\n",
    "    account_balance = 1000\n",
    "    withdrawal_amount = 1500\n",
    "    withdraw(withdrawal_amount, account_balance)\n",
    "except InsufficientBalanceError as e:\n",
    "    print(\"Error:\", str(e))\n"
   ]
  },
  {
   "cell_type": "code",
   "execution_count": null,
   "id": "c5ba1080-0eb6-4815-ad8c-6ccbf4df4b7e",
   "metadata": {},
   "outputs": [],
   "source": []
  },
  {
   "cell_type": "markdown",
   "id": "5b3738ae-9c85-4664-ab68-faeffbfccee5",
   "metadata": {},
   "source": [
    "Q6. Create custom exception class. Use this class to handle an exception."
   ]
  },
  {
   "cell_type": "code",
   "execution_count": 14,
   "id": "a62952c1-14b5-44c1-8728-86d9d7b47ac1",
   "metadata": {},
   "outputs": [
    {
     "name": "stdout",
     "output_type": "stream",
     "text": [
      "Error: Division by zero is not allowed!\n"
     ]
    }
   ],
   "source": [
    "# Ans 6:-\n",
    "\n",
    "class CustomException(Exception):\n",
    "    def __init__(self, message):\n",
    "        self.message = message\n",
    "\n",
    "def divide_numbers(a, b):\n",
    "    if b == 0:\n",
    "        raise CustomException(\"Division by zero is not allowed!\")\n",
    "    else:\n",
    "        return a / b\n",
    "\n",
    "try:\n",
    "    result = divide_numbers(10, 0)\n",
    "    print(\"Result:\", result)\n",
    "except CustomException as e:\n",
    "    print(\"Error:\", e.message)\n"
   ]
  },
  {
   "cell_type": "code",
   "execution_count": null,
   "id": "9a3626ec-1899-4429-bb26-6829dd127df6",
   "metadata": {},
   "outputs": [],
   "source": []
  }
 ],
 "metadata": {
  "kernelspec": {
   "display_name": "Python 3 (ipykernel)",
   "language": "python",
   "name": "python3"
  },
  "language_info": {
   "codemirror_mode": {
    "name": "ipython",
    "version": 3
   },
   "file_extension": ".py",
   "mimetype": "text/x-python",
   "name": "python",
   "nbconvert_exporter": "python",
   "pygments_lexer": "ipython3",
   "version": "3.10.8"
  }
 },
 "nbformat": 4,
 "nbformat_minor": 5
}
