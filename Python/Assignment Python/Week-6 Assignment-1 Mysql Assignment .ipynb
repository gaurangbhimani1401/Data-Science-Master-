{
 "cells": [
  {
   "cell_type": "markdown",
   "id": "c9c46da4-89c6-4ea2-9c4e-c6c7997de00c",
   "metadata": {},
   "source": [
    "Q1. What is a database? Differentiate between SQL and NoSQL databases."
   ]
  },
  {
   "cell_type": "code",
   "execution_count": null,
   "id": "28851b2e-5227-4ba7-b319-6c2e60590629",
   "metadata": {},
   "outputs": [],
   "source": [
    "Ans 1:- A database is a structured collection of data that organized and managed data to serve various purposes, such as storing, retrieving, and manipulating the data.\n",
    "        It provides a way to store and organize data in a way that enables the way to efficient data management and retrieval."
   ]
  },
  {
   "cell_type": "code",
   "execution_count": null,
   "id": "b499b3c6-9602-4c2f-8d59-03eebf33372f",
   "metadata": {},
   "outputs": [],
   "source": [
    "SQL Databases:\n",
    "    SQL databases are based on the relational model, where data is organized into tables with predefined schemas.\n",
    "    They enforce strict data consistency and integrity through the use of ACID (Atomicity, Consistency, Isolation, Durability) properties.\n",
    "    SQL databases use SQL as the standard language for defining, manipulating, and querying data."
   ]
  },
  {
   "cell_type": "code",
   "execution_count": null,
   "id": "dbdb3300-a7fd-47e3-a6bb-855fa90d30d5",
   "metadata": {},
   "outputs": [],
   "source": [
    "NoSQL Databases:\n",
    "    NoSQL databases are non-relational databases that provide flexible schema designs.\n",
    "    They offer a more dynamic and scalable approach to data storage and retrieval.\n",
    "    NoSQL databases are designed for handling unstructured, semi-structured, and rapidly changing data."
   ]
  },
  {
   "cell_type": "code",
   "execution_count": null,
   "id": "b9959d4b-1282-4416-acea-637ef38e48c5",
   "metadata": {},
   "outputs": [],
   "source": []
  },
  {
   "cell_type": "markdown",
   "id": "3ec12884-da9a-40e8-bd8b-3639da52d6f1",
   "metadata": {},
   "source": [
    "Q2. What is DDL? Explain why CREATE, DROP, ALTER, and TRUNCATE are used with an example."
   ]
  },
  {
   "cell_type": "code",
   "execution_count": null,
   "id": "da5ddb80-9108-4020-92d9-dc76e026faa7",
   "metadata": {},
   "outputs": [],
   "source": [
    "Ans 2:- DDL stands for Data Definition Language.\n",
    "        It is a subset of SQL (Structured Query Language) that is used to define and manage the structure of a database."
   ]
  },
  {
   "cell_type": "code",
   "execution_count": null,
   "id": "c54d51aa-c86a-49b6-825e-200bc91476c4",
   "metadata": {},
   "outputs": [],
   "source": [
    "CREATE:\n",
    "    The CREATE statement is used to create new database objects such as tables, indexes, views, or constraints."
   ]
  },
  {
   "cell_type": "code",
   "execution_count": null,
   "id": "0519446e-f333-40c4-96b9-1724446dd870",
   "metadata": {},
   "outputs": [],
   "source": [
    "CREATE TABLE customers (\n",
    "  id INT,\n",
    "  name VARCHAR(50),\n",
    "  email VARCHAR(100)\n",
    ");"
   ]
  },
  {
   "cell_type": "code",
   "execution_count": null,
   "id": "c99edb2a-9e94-4111-a1bc-d08ecac87757",
   "metadata": {},
   "outputs": [],
   "source": [
    "DROP:\n",
    "    The DROP statement is used to delete existing database objects such as tables, indexes, views, or constraints."
   ]
  },
  {
   "cell_type": "code",
   "execution_count": null,
   "id": "717267d3-4dbe-4263-8350-dfd1e80efd32",
   "metadata": {},
   "outputs": [],
   "source": [
    "DROP TABLE customers;"
   ]
  },
  {
   "cell_type": "code",
   "execution_count": null,
   "id": "1027cbf6-1885-47f2-9786-51400af4a84b",
   "metadata": {},
   "outputs": [],
   "source": [
    "ALTER:\n",
    "    The ALTER statement is used to modify the structure of an existing database object."
   ]
  },
  {
   "cell_type": "code",
   "execution_count": null,
   "id": "0c3785db-85e8-46e3-acdd-312d9ffe7b01",
   "metadata": {},
   "outputs": [],
   "source": [
    "ALTER TABLE customer\n",
    "ADD COLUMN phone ITN(15)"
   ]
  },
  {
   "cell_type": "code",
   "execution_count": null,
   "id": "bb2a5fcd-b61b-4b68-82f7-1018f1f80e42",
   "metadata": {},
   "outputs": [],
   "source": [
    "TRUNCATE:\n",
    "    The TRUNCATE statement is used to delete all data from a table, but it retains the structure of the table."
   ]
  },
  {
   "cell_type": "code",
   "execution_count": null,
   "id": "f6e59205-59d2-4e7a-a2f5-46b114417060",
   "metadata": {},
   "outputs": [],
   "source": [
    "TRUNCATE TABLE customers;"
   ]
  },
  {
   "cell_type": "code",
   "execution_count": null,
   "id": "eef796fd-489f-4428-91eb-45f01788d3b0",
   "metadata": {},
   "outputs": [],
   "source": []
  },
  {
   "cell_type": "markdown",
   "id": "b825475a-0d07-465f-b859-dfc677a6c85a",
   "metadata": {},
   "source": [
    "Q3. What is DML? Explain INSERT, UPDATE, and DELETE with an example."
   ]
  },
  {
   "cell_type": "code",
   "execution_count": null,
   "id": "7bb933d1-b8e7-4d29-943c-f588948a9a7b",
   "metadata": {},
   "outputs": [],
   "source": [
    "Ans 3:-DML stands for Data Manipulation Language.\n",
    "       It is a subset of SQL (Structured Query Language) that is used to manipulate data stored in a database."
   ]
  },
  {
   "cell_type": "code",
   "execution_count": null,
   "id": "d39087c1-cd82-44e2-8997-c829d2f54055",
   "metadata": {},
   "outputs": [],
   "source": [
    "INSERT:\n",
    "    The INSERT statement is used to insert new records into a database table."
   ]
  },
  {
   "cell_type": "code",
   "execution_count": null,
   "id": "847de211-2177-45cb-bcea-41cee23569a0",
   "metadata": {},
   "outputs": [],
   "source": [
    "INSERT INTO customer(name,email)\n",
    "VALUES(\"Gauerang\",\"gaurang@gmail.com\")"
   ]
  },
  {
   "cell_type": "code",
   "execution_count": null,
   "id": "aca7ff63-4ea9-4f0a-a4b3-eb84ee069d43",
   "metadata": {},
   "outputs": [],
   "source": [
    "UPDATE:\n",
    "    The UPDATE statement is used to modify existing records in a database table."
   ]
  },
  {
   "cell_type": "code",
   "execution_count": null,
   "id": "818bf88b-9e94-4b36-89e1-b7ba03602c8b",
   "metadata": {},
   "outputs": [],
   "source": [
    "UPDATE customers\n",
    "SET email = 'gaurangb@gmiail.com'\n",
    "WHERE id = 1;"
   ]
  },
  {
   "cell_type": "code",
   "execution_count": null,
   "id": "88f3be18-b9e2-467e-ab77-e013cea57d1f",
   "metadata": {},
   "outputs": [],
   "source": [
    "DELETE:\n",
    "    The DELETE statement is used to delete existing records from a database table."
   ]
  },
  {
   "cell_type": "code",
   "execution_count": null,
   "id": "ff2ffc47-3943-4649-a0e0-75f69738c6e3",
   "metadata": {},
   "outputs": [],
   "source": [
    "DELETE FROM customers\n",
    "WHERE id = 1;"
   ]
  },
  {
   "cell_type": "code",
   "execution_count": null,
   "id": "ce229b16-fb81-481a-a558-68721a6b105c",
   "metadata": {},
   "outputs": [],
   "source": []
  },
  {
   "cell_type": "markdown",
   "id": "4e174e19-d956-4cf2-b290-5e3d86761ed9",
   "metadata": {},
   "source": [
    "Q4. What is DQL? Explain SELECT with an example."
   ]
  },
  {
   "cell_type": "code",
   "execution_count": null,
   "id": "82517a41-130b-4301-9482-e57390004af1",
   "metadata": {},
   "outputs": [],
   "source": [
    "Ans 4:-DQL stands for Data Query Language.\n",
    "       It is a subset of SQL (Structured Query Language) that is used to retrieve data from a database.\n",
    "       DQL statements are primarily focused on querying and selecting data from database tables."
   ]
  },
  {
   "cell_type": "code",
   "execution_count": null,
   "id": "45055805-5197-4827-ae15-d719d5234c8b",
   "metadata": {},
   "outputs": [],
   "source": [
    "SELECT * FROM employees;"
   ]
  },
  {
   "cell_type": "code",
   "execution_count": null,
   "id": "953f1d28-ca76-41c1-a3f1-77b3d6e52209",
   "metadata": {},
   "outputs": [],
   "source": [
    "SELECT * FROM employees WHERE age > 30;"
   ]
  },
  {
   "cell_type": "code",
   "execution_count": null,
   "id": "08b9f7f1-249a-4f08-9ea7-9036f17e2287",
   "metadata": {},
   "outputs": [],
   "source": [
    "SELECT name, age FROM employees;"
   ]
  },
  {
   "cell_type": "code",
   "execution_count": null,
   "id": "3504861a-47b3-45a0-b289-3edb9be200a4",
   "metadata": {},
   "outputs": [],
   "source": []
  },
  {
   "cell_type": "markdown",
   "id": "379d77e0-5892-4a19-877c-1b4b4022103e",
   "metadata": {},
   "source": [
    "Q5. Explain Primary Key and Foreign Key."
   ]
  },
  {
   "cell_type": "code",
   "execution_count": null,
   "id": "825ddb48-c0f9-4377-b76d-211af0251ece",
   "metadata": {},
   "outputs": [],
   "source": [
    "Ans 5:-\n",
    "Primary Key:\n",
    "    A primary key is a unique identifier for each record in a table.\n",
    "    It ensures that each row in a table is uniquely identified and allows for efficient retrieval and manipulation of data.\n",
    "    The primary key constraint enforces the following properties:\n",
    "        Uniqueness\n",
    "        Non-nullability\n",
    "        Immutable"
   ]
  },
  {
   "cell_type": "code",
   "execution_count": null,
   "id": "5f6036e3-6318-4f5d-8acf-a4feb086c819",
   "metadata": {},
   "outputs": [],
   "source": [
    "Foreign Key:\n",
    "    A foreign key is a column or a set of columns in a table that references the primary key of another table.\n",
    "    It establishes a relationship between two tables based on the values of the foreign key column(s) and the referenced primary key.\n",
    "    Properties of a foreign key are as follow:\n",
    "        Referential Integrity\n",
    "        Relationship Establishment\n",
    "        Optional or Mandatory"
   ]
  },
  {
   "cell_type": "code",
   "execution_count": null,
   "id": "d689c679-9d29-47de-a948-7ea9363fa7a9",
   "metadata": {},
   "outputs": [],
   "source": []
  },
  {
   "cell_type": "markdown",
   "id": "3ea1cd45-6780-4a66-8b9b-aed8e1973b88",
   "metadata": {},
   "source": [
    "Q6. Write a python code to connect MySQL to python. Explain the cursor() and execute() method."
   ]
  },
  {
   "cell_type": "code",
   "execution_count": null,
   "id": "bd253ffc-d108-40dd-9e80-0ce5c48dac86",
   "metadata": {},
   "outputs": [],
   "source": [
    "import mysql.connector\n",
    "\n",
    "mydb = mysql.connector.connect(\n",
    "  host=\"localhost\",\n",
    "  user=\"abc\",\n",
    "  password=\"password\"\n",
    ")\n",
    "mycursor = mydb.cursor()\n",
    "mycursor.execute(\"CREATE TABLE if not exists test2.test_table(c1 INT, c2 VARCHAR(50),c3 FLOAT,c4 VARCHAR(60),c5 INT )\")\n",
    "mydb.close()"
   ]
  },
  {
   "cell_type": "code",
   "execution_count": null,
   "id": "a08a32cf-5c45-496f-af5d-95ebfb5c5b5f",
   "metadata": {},
   "outputs": [],
   "source": [
    "Cursor():\n",
    "    The cursor() method creates a cursor object that is used to execute SQL queries and fetch the results.\n",
    "    The cursor acts as a control structure to manage the execution of SQL statements. "
   ]
  },
  {
   "cell_type": "code",
   "execution_count": null,
   "id": "40955b82-1669-4cd5-ab1a-28ec72f9406a",
   "metadata": {},
   "outputs": [],
   "source": [
    "Execute():\n",
    "    The execute() method is used to execute an SQL query or statement.\n",
    "    It takes the SQL query as a parameter and sends it to the MySQL server for execution."
   ]
  },
  {
   "cell_type": "code",
   "execution_count": null,
   "id": "75142da3-d0ba-40f4-9fb0-747a0f129bec",
   "metadata": {},
   "outputs": [],
   "source": []
  },
  {
   "cell_type": "markdown",
   "id": "0457b0ac-f6a3-40a4-84f2-6b13fac50f83",
   "metadata": {},
   "source": [
    "Q7. Give the order of execution of SQL clauses in an SQL query."
   ]
  },
  {
   "cell_type": "code",
   "execution_count": null,
   "id": "ca574056-00f5-44e7-99f7-652b2daa03c3",
   "metadata": {},
   "outputs": [],
   "source": [
    "Ans 7:-\n",
    "SELECT:\n",
    "    The SELECT clause is executed first to specify the columns to be retrieved from the database.\n",
    "\n",
    "FROM:\n",
    "    The FROM clause is executed after the SELECT clause to specify the table(s) from which the data will be retrieved.\n",
    "\n",
    "WHERE:\n",
    "    The WHERE clause is executed after the FROM clause to filter the data based on specified conditions.\n",
    "\n",
    "GROUP BY:\n",
    "    The GROUP BY clause is executed after the WHERE clause to group the data based on specified columns.\n",
    "\n",
    "HAVING:\n",
    "    The HAVING clause is executed after the GROUP BY clause to filter the grouped data based on specified conditions.\n",
    "\n",
    "ORDER BY:\n",
    "    The ORDER BY clause is executed after the HAVING clause to sort the data based on specified columns.\n",
    "\n",
    "LIMIT/OFFSET:\n",
    "    The LIMIT/OFFSET clause is executed last to limit the number of rows returned or skip a certain number of rows."
   ]
  }
 ],
 "metadata": {
  "kernelspec": {
   "display_name": "Python 3 (ipykernel)",
   "language": "python",
   "name": "python3"
  },
  "language_info": {
   "codemirror_mode": {
    "name": "ipython",
    "version": 3
   },
   "file_extension": ".py",
   "mimetype": "text/x-python",
   "name": "python",
   "nbconvert_exporter": "python",
   "pygments_lexer": "ipython3",
   "version": "3.10.8"
  }
 },
 "nbformat": 4,
 "nbformat_minor": 5
}
