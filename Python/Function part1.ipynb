{
 "cells": [
  {
   "cell_type": "code",
   "execution_count": 1,
   "id": "1871e0a2-a55c-40dc-ba29-fe911f911595",
   "metadata": {},
   "outputs": [
    {
     "name": "stdout",
     "output_type": "stream",
     "text": [
      "this is print\n"
     ]
    }
   ],
   "source": [
    "print(\"this is print\")"
   ]
  },
  {
   "cell_type": "code",
   "execution_count": 3,
   "id": "18738a98-caa2-494d-9fe0-0f9a9b0991bd",
   "metadata": {},
   "outputs": [],
   "source": [
    "def test():\n",
    "    print(\"this is my very fist function\")\n",
    "    "
   ]
  },
  {
   "cell_type": "code",
   "execution_count": 4,
   "id": "024a96e2-c1dc-4b2b-b072-5b95eed38883",
   "metadata": {},
   "outputs": [
    {
     "name": "stdout",
     "output_type": "stream",
     "text": [
      "this is my very fist function\n"
     ]
    }
   ],
   "source": [
    "test()"
   ]
  },
  {
   "cell_type": "code",
   "execution_count": 6,
   "id": "371cbe41-daa5-4f9f-8ded-e695c2c72e2a",
   "metadata": {},
   "outputs": [],
   "source": [
    "def test1():\n",
    "    return \"this is the first return\""
   ]
  },
  {
   "cell_type": "code",
   "execution_count": 7,
   "id": "27a8ed0f-bc32-4d55-9d6d-4c8c007b3b15",
   "metadata": {},
   "outputs": [
    {
     "data": {
      "text/plain": [
       "'this is the first return'"
      ]
     },
     "execution_count": 7,
     "metadata": {},
     "output_type": "execute_result"
    }
   ],
   "source": [
    "test1()"
   ]
  },
  {
   "cell_type": "code",
   "execution_count": 9,
   "id": "7fdbdc8b-ab2a-4a5c-9d16-273e793edaab",
   "metadata": {},
   "outputs": [
    {
     "data": {
      "text/plain": [
       "'this is the first returnGaurang'"
      ]
     },
     "execution_count": 9,
     "metadata": {},
     "output_type": "execute_result"
    }
   ],
   "source": [
    "test1() + \"Gaurang\""
   ]
  },
  {
   "cell_type": "code",
   "execution_count": 10,
   "id": "10b7dc03-84f5-4cc1-9ba0-e45108d92b5a",
   "metadata": {},
   "outputs": [],
   "source": [
    "def test3():\n",
    "    return \"Gaurang\",3.14,35+4j,[12,43,65,67],45"
   ]
  },
  {
   "cell_type": "code",
   "execution_count": 12,
   "id": "17a8f50c-a711-4ffe-b570-ff503985f48f",
   "metadata": {},
   "outputs": [
    {
     "data": {
      "text/plain": [
       "('Gaurang', 3.14, (35+4j), [12, 43, 65, 67], 45)"
      ]
     },
     "execution_count": 12,
     "metadata": {},
     "output_type": "execute_result"
    }
   ],
   "source": [
    "test3()"
   ]
  },
  {
   "cell_type": "code",
   "execution_count": 15,
   "id": "5357f64c-c401-42b3-87ab-901eebfa42d9",
   "metadata": {},
   "outputs": [],
   "source": [
    "a,b,c,d,e = test3()"
   ]
  },
  {
   "cell_type": "code",
   "execution_count": 16,
   "id": "99e571b3-52c8-45e9-b225-6d949fe40ceb",
   "metadata": {},
   "outputs": [
    {
     "data": {
      "text/plain": [
       "'Gaurang'"
      ]
     },
     "execution_count": 16,
     "metadata": {},
     "output_type": "execute_result"
    }
   ],
   "source": [
    "a"
   ]
  },
  {
   "cell_type": "code",
   "execution_count": 17,
   "id": "c50f939a-1a94-4074-9f06-5c85ad29eb5c",
   "metadata": {},
   "outputs": [
    {
     "data": {
      "text/plain": [
       "3.14"
      ]
     },
     "execution_count": 17,
     "metadata": {},
     "output_type": "execute_result"
    }
   ],
   "source": [
    "b"
   ]
  },
  {
   "cell_type": "code",
   "execution_count": 18,
   "id": "9476e564-8952-42f4-9c67-6d476a3539a4",
   "metadata": {},
   "outputs": [
    {
     "data": {
      "text/plain": [
       "(35+4j)"
      ]
     },
     "execution_count": 18,
     "metadata": {},
     "output_type": "execute_result"
    }
   ],
   "source": [
    "c"
   ]
  },
  {
   "cell_type": "code",
   "execution_count": 19,
   "id": "382ab8de-0ac2-4b5b-9ba7-0335094d2978",
   "metadata": {},
   "outputs": [
    {
     "data": {
      "text/plain": [
       "[12, 43, 65, 67]"
      ]
     },
     "execution_count": 19,
     "metadata": {},
     "output_type": "execute_result"
    }
   ],
   "source": [
    "d"
   ]
  },
  {
   "cell_type": "code",
   "execution_count": 20,
   "id": "60c2594b-4e5b-4b56-8924-96246cf84d09",
   "metadata": {},
   "outputs": [
    {
     "data": {
      "text/plain": [
       "45"
      ]
     },
     "execution_count": 20,
     "metadata": {},
     "output_type": "execute_result"
    }
   ],
   "source": [
    "e"
   ]
  },
  {
   "cell_type": "code",
   "execution_count": 24,
   "id": "faecd0d7-a50c-4139-916b-6c4968baf8c9",
   "metadata": {},
   "outputs": [],
   "source": [
    "def test4():\n",
    "    a = 2+3+4/3\n",
    "    return a"
   ]
  },
  {
   "cell_type": "code",
   "execution_count": 25,
   "id": "6cd701db-64d5-410e-ab19-d7b159bdd3ac",
   "metadata": {},
   "outputs": [
    {
     "data": {
      "text/plain": [
       "6.333333333333333"
      ]
     },
     "execution_count": 25,
     "metadata": {},
     "output_type": "execute_result"
    }
   ],
   "source": [
    "test4()"
   ]
  },
  {
   "cell_type": "code",
   "execution_count": 37,
   "id": "738b063e-3c9f-4af8-8efc-e70fee919cb9",
   "metadata": {},
   "outputs": [],
   "source": [
    "def test5(a,b,c):\n",
    "    d = a+b/c\n",
    "    return d"
   ]
  },
  {
   "cell_type": "code",
   "execution_count": 38,
   "id": "63c702c4-ff3a-433a-8d43-084aadcfefa2",
   "metadata": {},
   "outputs": [
    {
     "ename": "TypeError",
     "evalue": "test5() missing 3 required positional arguments: 'a', 'b', and 'c'",
     "output_type": "error",
     "traceback": [
      "\u001b[0;31m---------------------------------------------------------------------------\u001b[0m",
      "\u001b[0;31mTypeError\u001b[0m                                 Traceback (most recent call last)",
      "Cell \u001b[0;32mIn[38], line 1\u001b[0m\n\u001b[0;32m----> 1\u001b[0m \u001b[43mtest5\u001b[49m\u001b[43m(\u001b[49m\u001b[43m)\u001b[49m\n",
      "\u001b[0;31mTypeError\u001b[0m: test5() missing 3 required positional arguments: 'a', 'b', and 'c'"
     ]
    }
   ],
   "source": [
    "test5()"
   ]
  },
  {
   "cell_type": "code",
   "execution_count": 39,
   "id": "0d9fe6d1-6d99-4517-ae6f-656f4756fd94",
   "metadata": {},
   "outputs": [
    {
     "data": {
      "text/plain": [
       "2.625"
      ]
     },
     "execution_count": 39,
     "metadata": {},
     "output_type": "execute_result"
    }
   ],
   "source": [
    "test5(2,5,8)"
   ]
  },
  {
   "cell_type": "code",
   "execution_count": 41,
   "id": "98a7112f-f9be-4034-b8ed-bb388a0b85a9",
   "metadata": {},
   "outputs": [],
   "source": [
    "def test6(a,b):\n",
    "    return a+b"
   ]
  },
  {
   "cell_type": "code",
   "execution_count": 42,
   "id": "68a07677-c052-4276-9849-a2c8095e5c92",
   "metadata": {},
   "outputs": [
    {
     "data": {
      "text/plain": [
       "11"
      ]
     },
     "execution_count": 42,
     "metadata": {},
     "output_type": "execute_result"
    }
   ],
   "source": [
    "test6(5,6)"
   ]
  },
  {
   "cell_type": "code",
   "execution_count": 44,
   "id": "ff8d9913-546b-484f-9714-ad82f4f1cd28",
   "metadata": {},
   "outputs": [
    {
     "data": {
      "text/plain": [
       "'Gaurangbhimani'"
      ]
     },
     "execution_count": 44,
     "metadata": {},
     "output_type": "execute_result"
    }
   ],
   "source": [
    "test6('Gaurang' , 'bhimani')"
   ]
  },
  {
   "cell_type": "code",
   "execution_count": 14,
   "id": "4ec7b1e8-1c98-42ba-9613-b0cbb225ec96",
   "metadata": {},
   "outputs": [],
   "source": [
    "l = [32,43,23,43,\"Gaurang\",\"Bhimani\",[32,43,23,42]]"
   ]
  },
  {
   "cell_type": "code",
   "execution_count": 15,
   "id": "36b35eb1-acc9-4624-9f17-5637181af589",
   "metadata": {},
   "outputs": [],
   "source": [
    "l1 = []\n",
    "for i in l:\n",
    "    if type(i) == int or type(i) == float:\n",
    "        l1.append(i)"
   ]
  },
  {
   "cell_type": "code",
   "execution_count": 16,
   "id": "0a2cc3d4-0fd1-471d-852c-d527eb8426d6",
   "metadata": {},
   "outputs": [
    {
     "data": {
      "text/plain": [
       "[32, 43, 23, 43]"
      ]
     },
     "execution_count": 16,
     "metadata": {},
     "output_type": "execute_result"
    }
   ],
   "source": [
    "l1"
   ]
  },
  {
   "cell_type": "code",
   "execution_count": 17,
   "id": "8b5445f5-bb3d-4150-8479-39b7b2e6845a",
   "metadata": {},
   "outputs": [],
   "source": [
    "def test7(l):\n",
    "    l1 = []\n",
    "    for i in l:\n",
    "        if type(i) == int or type(i) == float:\n",
    "            l1.append(i)\n",
    "    return l1"
   ]
  },
  {
   "cell_type": "code",
   "execution_count": 18,
   "id": "820b0dbd-69ae-4c6f-9e68-424cf7737798",
   "metadata": {},
   "outputs": [
    {
     "data": {
      "text/plain": [
       "[32, 43, 23, 43]"
      ]
     },
     "execution_count": 18,
     "metadata": {},
     "output_type": "execute_result"
    }
   ],
   "source": [
    "test7(l)"
   ]
  },
  {
   "cell_type": "code",
   "execution_count": 19,
   "id": "957d4991-fd9c-42a9-ae86-21b7eb07ee6d",
   "metadata": {},
   "outputs": [],
   "source": [
    "def test8(a):\n",
    "\n",
    "    l = []\n",
    "    for i in a:\n",
    "        if type(i) == list:\n",
    "            for j in i:\n",
    "                l.append(j)\n",
    "        else:\n",
    "            if type(i) == int or type(i) == float:\n",
    "                l.append(i)\n",
    "    return l"
   ]
  },
  {
   "cell_type": "code",
   "execution_count": 20,
   "id": "10d450ca-808a-4425-bf0b-f4791f41e3e9",
   "metadata": {},
   "outputs": [
    {
     "data": {
      "text/plain": [
       "[32, 43, 23, 43, 32, 43, 23, 42]"
      ]
     },
     "execution_count": 20,
     "metadata": {},
     "output_type": "execute_result"
    }
   ],
   "source": [
    "test8(l)"
   ]
  },
  {
   "cell_type": "code",
   "execution_count": 21,
   "id": "b2ec499d-948d-42d5-9f39-100670329ff5",
   "metadata": {},
   "outputs": [],
   "source": [
    "def test9(a):\n",
    "    \"\"\" this is my function to extract the data from the list\"\"\"\n",
    "    l = []\n",
    "    for i in a:\n",
    "        if type(i) == list:\n",
    "            for j in i:\n",
    "                l.append(j)\n",
    "        else:\n",
    "            if type(i) == int or type(i) == float:\n",
    "                l.append(i)\n",
    "    return l"
   ]
  },
  {
   "cell_type": "code",
   "execution_count": null,
   "id": "cb13c3be-e78b-4944-a06a-ad7fdddc7a83",
   "metadata": {},
   "outputs": [],
   "source": [
    "test9()"
   ]
  },
  {
   "cell_type": "code",
   "execution_count": 24,
   "id": "9455e7f6-98f9-4153-a2f1-628c69baab23",
   "metadata": {},
   "outputs": [],
   "source": [
    "def test10(a,b):\n",
    "    return a+b"
   ]
  },
  {
   "cell_type": "code",
   "execution_count": 26,
   "id": "e09895dd-0874-4994-9aae-2e24b0c92295",
   "metadata": {},
   "outputs": [],
   "source": [
    "def test11(*args):\n",
    "    return args"
   ]
  },
  {
   "cell_type": "code",
   "execution_count": 27,
   "id": "b1106603-af30-40b9-933e-a798886ba6a1",
   "metadata": {},
   "outputs": [
    {
     "data": {
      "text/plain": [
       "tuple"
      ]
     },
     "execution_count": 27,
     "metadata": {},
     "output_type": "execute_result"
    }
   ],
   "source": [
    "type(test11())"
   ]
  },
  {
   "cell_type": "code",
   "execution_count": 28,
   "id": "46ade3e2-76d0-4229-8fae-5f01e630988d",
   "metadata": {},
   "outputs": [
    {
     "data": {
      "text/plain": [
       "(1, 2, 3)"
      ]
     },
     "execution_count": 28,
     "metadata": {},
     "output_type": "execute_result"
    }
   ],
   "source": [
    "test11(1,2,3)"
   ]
  },
  {
   "cell_type": "code",
   "execution_count": 29,
   "id": "1d86c4ac-a38e-43b9-b65a-0f519da991be",
   "metadata": {},
   "outputs": [],
   "source": [
    "def test12(*args , a):\n",
    "    return args,a"
   ]
  },
  {
   "cell_type": "code",
   "execution_count": 33,
   "id": "928a08e5-1ddc-4de1-bfc3-f320c7ec5127",
   "metadata": {},
   "outputs": [
    {
     "data": {
      "text/plain": [
       "((1, 2, 3, 4), 12)"
      ]
     },
     "execution_count": 33,
     "metadata": {},
     "output_type": "execute_result"
    }
   ],
   "source": [
    "test12(1,2,3,4, a = 12)"
   ]
  },
  {
   "cell_type": "code",
   "execution_count": 34,
   "id": "59d80b88-0ab5-4765-b3dc-405cd5b256d0",
   "metadata": {},
   "outputs": [],
   "source": [
    "def test14( c,d,a = 23, b = 12 ):\n",
    "    return a,b,c,d"
   ]
  },
  {
   "cell_type": "code",
   "execution_count": 35,
   "id": "20988524-a99e-4c2b-aa28-9834f3d11295",
   "metadata": {},
   "outputs": [
    {
     "ename": "TypeError",
     "evalue": "test14() missing 2 required positional arguments: 'c' and 'd'",
     "output_type": "error",
     "traceback": [
      "\u001b[0;31m---------------------------------------------------------------------------\u001b[0m",
      "\u001b[0;31mTypeError\u001b[0m                                 Traceback (most recent call last)",
      "Cell \u001b[0;32mIn[35], line 1\u001b[0m\n\u001b[0;32m----> 1\u001b[0m \u001b[43mtest14\u001b[49m\u001b[43m(\u001b[49m\u001b[43m)\u001b[49m\n",
      "\u001b[0;31mTypeError\u001b[0m: test14() missing 2 required positional arguments: 'c' and 'd'"
     ]
    }
   ],
   "source": [
    "test14()"
   ]
  },
  {
   "cell_type": "code",
   "execution_count": 36,
   "id": "2bdbd8bb-8bd9-4494-b327-ee1635cf135d",
   "metadata": {},
   "outputs": [
    {
     "data": {
      "text/plain": [
       "(23, 12, 12, 21)"
      ]
     },
     "execution_count": 36,
     "metadata": {},
     "output_type": "execute_result"
    }
   ],
   "source": [
    "test14(12,21)"
   ]
  },
  {
   "cell_type": "code",
   "execution_count": 37,
   "id": "778577ed-acd1-45ae-a602-cbd2f9ae02f5",
   "metadata": {},
   "outputs": [
    {
     "data": {
      "text/plain": [
       "(32, 12, 23, 45)"
      ]
     },
     "execution_count": 37,
     "metadata": {},
     "output_type": "execute_result"
    }
   ],
   "source": [
    "test14(23,45, a = 32)"
   ]
  },
  {
   "cell_type": "code",
   "execution_count": 38,
   "id": "5a87451f-e8c3-4eff-8704-e653d9015b06",
   "metadata": {},
   "outputs": [],
   "source": [
    "def test15(**kwargs):\n",
    "    return kwargs"
   ]
  },
  {
   "cell_type": "code",
   "execution_count": 39,
   "id": "30e68a8b-fc73-4521-9761-6f472fa58bf7",
   "metadata": {},
   "outputs": [
    {
     "data": {
      "text/plain": [
       "{}"
      ]
     },
     "execution_count": 39,
     "metadata": {},
     "output_type": "execute_result"
    }
   ],
   "source": [
    "test15()"
   ]
  },
  {
   "cell_type": "code",
   "execution_count": 40,
   "id": "084d9320-4be3-42c1-b0f9-ca90dc3de6b6",
   "metadata": {},
   "outputs": [
    {
     "data": {
      "text/plain": [
       "dict"
      ]
     },
     "execution_count": 40,
     "metadata": {},
     "output_type": "execute_result"
    }
   ],
   "source": [
    "type(test15())"
   ]
  },
  {
   "cell_type": "code",
   "execution_count": 43,
   "id": "a1cd5299-058c-4fb5-b46c-9689814bd474",
   "metadata": {},
   "outputs": [
    {
     "data": {
      "text/plain": [
       "{'a': [32.4, 34, 23, 54, 'gaurang'], 'b': 'bhimani', 'c': 21.32}"
      ]
     },
     "execution_count": 43,
     "metadata": {},
     "output_type": "execute_result"
    }
   ],
   "source": [
    "test15(a = [32.4,34,23,54,'gaurang'], b = 'bhimani', c = 21.32)"
   ]
  },
  {
   "cell_type": "code",
   "execution_count": null,
   "id": "513014ac-095d-4912-b1ad-71f221237e0f",
   "metadata": {},
   "outputs": [],
   "source": []
  }
 ],
 "metadata": {
  "kernelspec": {
   "display_name": "Python 3 (ipykernel)",
   "language": "python",
   "name": "python3"
  },
  "language_info": {
   "codemirror_mode": {
    "name": "ipython",
    "version": 3
   },
   "file_extension": ".py",
   "mimetype": "text/x-python",
   "name": "python",
   "nbconvert_exporter": "python",
   "pygments_lexer": "ipython3",
   "version": "3.10.8"
  }
 },
 "nbformat": 4,
 "nbformat_minor": 5
}
