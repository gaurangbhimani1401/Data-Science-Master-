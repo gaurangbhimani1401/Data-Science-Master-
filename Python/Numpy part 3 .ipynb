{
 "cells": [
  {
   "cell_type": "code",
   "execution_count": 1,
   "id": "52d06352-aa34-4daf-b632-245f117b325b",
   "metadata": {},
   "outputs": [],
   "source": [
    "import numpy as np"
   ]
  },
  {
   "cell_type": "code",
   "execution_count": 3,
   "id": "825c39a7-c51a-44ee-a9b0-eb40b929d111",
   "metadata": {},
   "outputs": [],
   "source": [
    "arr = np.array([3,4,6,2,5,6,5,3,4,3,3,456,867,3,76,2325,65])"
   ]
  },
  {
   "cell_type": "code",
   "execution_count": 4,
   "id": "2950919d-3787-484a-8069-67129706670f",
   "metadata": {},
   "outputs": [
    {
     "data": {
      "text/plain": [
       "array([   3,    4,    6,    2,    5,    6,    5,    3,    4,    3,    3,\n",
       "        456,  867,    3,   76, 2325,   65], dtype=int16)"
      ]
     },
     "execution_count": 4,
     "metadata": {},
     "output_type": "execute_result"
    }
   ],
   "source": [
    "np.short(arr)"
   ]
  },
  {
   "cell_type": "code",
   "execution_count": 5,
   "id": "d1f4d99c-fdf2-4cc8-bfaa-dee0ef61b943",
   "metadata": {},
   "outputs": [
    {
     "data": {
      "text/plain": [
       "14"
      ]
     },
     "execution_count": 5,
     "metadata": {},
     "output_type": "execute_result"
    }
   ],
   "source": [
    "np.searchsorted(arr,34)"
   ]
  },
  {
   "cell_type": "code",
   "execution_count": 6,
   "id": "609215b8-d113-4230-ba4c-ba5fd095f2c8",
   "metadata": {},
   "outputs": [],
   "source": [
    "arr1 = np.array([23,45,56,5,6,45,34,0,0,0,54,54,64])"
   ]
  },
  {
   "cell_type": "code",
   "execution_count": 7,
   "id": "abd19ad5-d46c-47ae-8e8c-cfd5863f7232",
   "metadata": {},
   "outputs": [
    {
     "data": {
      "text/plain": [
       "array([23, 45, 56,  5,  6, 45, 34,  0,  0,  0, 54, 54, 64])"
      ]
     },
     "execution_count": 7,
     "metadata": {},
     "output_type": "execute_result"
    }
   ],
   "source": [
    "arr1"
   ]
  },
  {
   "cell_type": "code",
   "execution_count": 8,
   "id": "3066a14a-48e2-4bbd-bd5a-46cbe2b91079",
   "metadata": {},
   "outputs": [
    {
     "data": {
      "text/plain": [
       "10"
      ]
     },
     "execution_count": 8,
     "metadata": {},
     "output_type": "execute_result"
    }
   ],
   "source": [
    "np.count_nonzero(arr1)"
   ]
  },
  {
   "cell_type": "code",
   "execution_count": 9,
   "id": "dae2b9b4-fe4e-431e-8420-6f4a43c76699",
   "metadata": {},
   "outputs": [
    {
     "data": {
      "text/plain": [
       "(array([ 0,  1,  2,  5,  6, 10, 11, 12]),)"
      ]
     },
     "execution_count": 9,
     "metadata": {},
     "output_type": "execute_result"
    }
   ],
   "source": [
    "np.where(arr1 >6)"
   ]
  },
  {
   "cell_type": "code",
   "execution_count": 14,
   "id": "2279b0ca-02d0-4376-bf39-d2902f41be4a",
   "metadata": {},
   "outputs": [
    {
     "data": {
      "text/plain": [
       "array([   4,    6,    5,    6,    5,    4,  456,  867,   76, 2325,   65])"
      ]
     },
     "execution_count": 14,
     "metadata": {},
     "output_type": "execute_result"
    }
   ],
   "source": [
    "np.extract(arr >3,arr)"
   ]
  },
  {
   "cell_type": "code",
   "execution_count": 15,
   "id": "453f1b3f-0c75-436f-988f-e683aa8bb36c",
   "metadata": {},
   "outputs": [
    {
     "data": {
      "text/plain": [
       "array([   3,    4,    6,    2,    5,    6,    5,    3,    4,    3,    3,\n",
       "        456,  867,    3,   76, 2325,   65])"
      ]
     },
     "execution_count": 15,
     "metadata": {},
     "output_type": "execute_result"
    }
   ],
   "source": [
    "arr"
   ]
  },
  {
   "cell_type": "code",
   "execution_count": 16,
   "id": "59be8681-d7fe-4353-9197-8352edf755a6",
   "metadata": {},
   "outputs": [
    {
     "data": {
      "text/plain": [
       "array([  216172782113783808,   288230376151711744,   432345564227567616,\n",
       "         144115188075855872,   360287970189639680,   432345564227567616,\n",
       "         360287970189639680,   216172782113783808,   288230376151711744,\n",
       "         216172782113783808,   216172782113783808, -4034943791147253760,\n",
       "        7134546234684997632,   216172782113783808,  5476377146882523136,\n",
       "        1515742749586882560,  4683743612465315840])"
      ]
     },
     "execution_count": 16,
     "metadata": {},
     "output_type": "execute_result"
    }
   ],
   "source": [
    "arr.byteswap()"
   ]
  },
  {
   "cell_type": "code",
   "execution_count": 17,
   "id": "e1e277f7-e50e-423e-90f0-44c514d82072",
   "metadata": {},
   "outputs": [],
   "source": [
    "a = np.copy(arr)"
   ]
  },
  {
   "cell_type": "code",
   "execution_count": 19,
   "id": "36f54f28-8ce0-4b93-b754-1666eca57e45",
   "metadata": {},
   "outputs": [
    {
     "data": {
      "text/plain": [
       "array([   3,    4,    6,    2,    5,    6,    5,    3,    4,    3,    3,\n",
       "        456,  867,    3,   76, 2325,   65])"
      ]
     },
     "execution_count": 19,
     "metadata": {},
     "output_type": "execute_result"
    }
   ],
   "source": [
    "a"
   ]
  },
  {
   "cell_type": "code",
   "execution_count": 21,
   "id": "9f9644d2-c717-4a06-8838-f2500a0e04e5",
   "metadata": {},
   "outputs": [],
   "source": [
    "b = arr.view()"
   ]
  },
  {
   "cell_type": "code",
   "execution_count": 23,
   "id": "5a00a752-c05f-4fe4-8bb7-033c69f37c6b",
   "metadata": {},
   "outputs": [],
   "source": [
    "b[0] = 30"
   ]
  },
  {
   "cell_type": "code",
   "execution_count": 24,
   "id": "d7801be1-f3a5-4a37-b63d-f4f382c2fea3",
   "metadata": {},
   "outputs": [
    {
     "data": {
      "text/plain": [
       "array([  30,    4,    6,    2,    5,    6,    5,    3,    4,    3,    3,\n",
       "        456,  867,    3,   76, 2325,   65])"
      ]
     },
     "execution_count": 24,
     "metadata": {},
     "output_type": "execute_result"
    }
   ],
   "source": [
    "b"
   ]
  },
  {
   "cell_type": "code",
   "execution_count": 25,
   "id": "fc28bdb1-3162-4a80-b034-16f447d3953d",
   "metadata": {},
   "outputs": [
    {
     "data": {
      "text/plain": [
       "array([   3,    4,    6,    2,    5,    6,    5,    3,    4,    3,    3,\n",
       "        456,  867,    3,   76, 2325,   65])"
      ]
     },
     "execution_count": 25,
     "metadata": {},
     "output_type": "execute_result"
    }
   ],
   "source": [
    "a"
   ]
  },
  {
   "cell_type": "code",
   "execution_count": 26,
   "id": "5ce7cc01-78dd-499b-b764-d0f597540157",
   "metadata": {},
   "outputs": [
    {
     "data": {
      "text/plain": [
       "array([  30,    4,    6,    2,    5,    6,    5,    3,    4,    3,    3,\n",
       "        456,  867,    3,   76, 2325,   65])"
      ]
     },
     "execution_count": 26,
     "metadata": {},
     "output_type": "execute_result"
    }
   ],
   "source": [
    "arr"
   ]
  },
  {
   "cell_type": "code",
   "execution_count": 27,
   "id": "1a501d1d-5c0d-4a37-8862-431f79da3a1b",
   "metadata": {},
   "outputs": [],
   "source": [
    "import numpy.matlib as nm"
   ]
  },
  {
   "cell_type": "code",
   "execution_count": 31,
   "id": "221f2a81-542e-4cd2-ada2-0612e09275b3",
   "metadata": {},
   "outputs": [
    {
     "data": {
      "text/plain": [
       "matrix([[0., 0., 0., 0.],\n",
       "        [0., 0., 0., 0.],\n",
       "        [0., 0., 0., 0.]])"
      ]
     },
     "execution_count": 31,
     "metadata": {},
     "output_type": "execute_result"
    }
   ],
   "source": [
    "nm.zeros((3,4))"
   ]
  },
  {
   "cell_type": "code",
   "execution_count": 32,
   "id": "882f79e5-e996-46e9-9511-65096bf16d02",
   "metadata": {},
   "outputs": [
    {
     "data": {
      "text/plain": [
       "matrix([[1., 1., 1., 1.],\n",
       "        [1., 1., 1., 1.],\n",
       "        [1., 1., 1., 1.]])"
      ]
     },
     "execution_count": 32,
     "metadata": {},
     "output_type": "execute_result"
    }
   ],
   "source": [
    "nm.ones((3,4))"
   ]
  },
  {
   "cell_type": "code",
   "execution_count": 34,
   "id": "5e486ce5-117c-46bc-bfe5-5de73386fa85",
   "metadata": {},
   "outputs": [
    {
     "data": {
      "text/plain": [
       "matrix([[1., 0., 0.],\n",
       "        [0., 1., 0.],\n",
       "        [0., 0., 1.]])"
      ]
     },
     "execution_count": 34,
     "metadata": {},
     "output_type": "execute_result"
    }
   ],
   "source": [
    "nm.eye(3)"
   ]
  },
  {
   "cell_type": "code",
   "execution_count": 36,
   "id": "249b84a3-bf0a-40b8-b570-e71a14f34ace",
   "metadata": {},
   "outputs": [],
   "source": [
    "arr1 = np.random.randint([[3,4],[4,5]])\n",
    "arr2 = np.random.randint([[3,4],[4,5]])"
   ]
  },
  {
   "cell_type": "code",
   "execution_count": 37,
   "id": "ce914e8b-8fcb-45d0-aa8e-a3fb7d889e72",
   "metadata": {},
   "outputs": [
    {
     "data": {
      "text/plain": [
       "array([[0, 2],\n",
       "       [3, 4]])"
      ]
     },
     "execution_count": 37,
     "metadata": {},
     "output_type": "execute_result"
    }
   ],
   "source": [
    "arr1"
   ]
  },
  {
   "cell_type": "code",
   "execution_count": 38,
   "id": "5e44788c-b105-4f22-83ea-f54e08396a5c",
   "metadata": {},
   "outputs": [
    {
     "data": {
      "text/plain": [
       "array([[0, 1],\n",
       "       [2, 0]])"
      ]
     },
     "execution_count": 38,
     "metadata": {},
     "output_type": "execute_result"
    }
   ],
   "source": [
    "arr2"
   ]
  },
  {
   "cell_type": "code",
   "execution_count": 39,
   "id": "96bb6e36-a915-4237-9419-0ebb4f38bac8",
   "metadata": {},
   "outputs": [
    {
     "data": {
      "text/plain": [
       "array([[4, 0],\n",
       "       [8, 3]])"
      ]
     },
     "execution_count": 39,
     "metadata": {},
     "output_type": "execute_result"
    }
   ],
   "source": [
    "np.dot(arr1,arr2)"
   ]
  },
  {
   "cell_type": "code",
   "execution_count": 40,
   "id": "28612260-9bd7-4df6-b61c-bd945db6c648",
   "metadata": {},
   "outputs": [
    {
     "data": {
      "text/plain": [
       "array([[4, 0],\n",
       "       [8, 3]])"
      ]
     },
     "execution_count": 40,
     "metadata": {},
     "output_type": "execute_result"
    }
   ],
   "source": [
    "arr1@arr2"
   ]
  },
  {
   "cell_type": "code",
   "execution_count": null,
   "id": "a73b1e6c-8c3b-4947-9348-8ad3a003a82e",
   "metadata": {},
   "outputs": [],
   "source": []
  }
 ],
 "metadata": {
  "kernelspec": {
   "display_name": "Python 3 (ipykernel)",
   "language": "python",
   "name": "python3"
  },
  "language_info": {
   "codemirror_mode": {
    "name": "ipython",
    "version": 3
   },
   "file_extension": ".py",
   "mimetype": "text/x-python",
   "name": "python",
   "nbconvert_exporter": "python",
   "pygments_lexer": "ipython3",
   "version": "3.10.8"
  }
 },
 "nbformat": 4,
 "nbformat_minor": 5
}
