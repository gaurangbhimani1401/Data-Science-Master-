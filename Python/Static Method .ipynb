{
 "cells": [
  {
   "cell_type": "code",
   "execution_count": 1,
   "id": "2fcf043c-b9a5-4f95-b0cf-be8453f65ca4",
   "metadata": {},
   "outputs": [],
   "source": [
    "class cloudus:\n",
    "    \n",
    "    def student_details(self, name, mail_id, mobile):\n",
    "        print(name,mail_id,mobile)"
   ]
  },
  {
   "cell_type": "code",
   "execution_count": 2,
   "id": "9062a73a-856c-4dbe-9280-bddba0dd94b7",
   "metadata": {},
   "outputs": [],
   "source": [
    "cl = cloudus()"
   ]
  },
  {
   "cell_type": "code",
   "execution_count": 3,
   "id": "8dc7078a-aee8-4c5f-8a3a-bc5f74fce459",
   "metadata": {},
   "outputs": [
    {
     "name": "stdout",
     "output_type": "stream",
     "text": [
      "gaurang gaurang@gmailo.com 982634596\n"
     ]
    }
   ],
   "source": [
    "cl.student_details(\"gaurang\",\"gaurang@gmailo.com\",982634596)"
   ]
  },
  {
   "cell_type": "code",
   "execution_count": 4,
   "id": "7a07c9ec-3f0a-48f5-b31a-f49bf42b060f",
   "metadata": {},
   "outputs": [],
   "source": [
    "class cloudus1:\n",
    "    \n",
    "    def student_details(self, name, mail_id, mobile):\n",
    "        print(name,mail_id,mobile)\n",
    "        \n",
    "    @staticmethod\n",
    "    def mantor_class(list_mantor):\n",
    "        print(list_mantor)\n",
    "    \n",
    "    def mantoe(self, mantoe_list):\n",
    "        print(mantoe_list)"
   ]
  },
  {
   "cell_type": "code",
   "execution_count": 5,
   "id": "297f9fe2-73a2-4a0c-a951-248da2a3b5e2",
   "metadata": {},
   "outputs": [
    {
     "name": "stdout",
     "output_type": "stream",
     "text": [
      "['gaurang', 'bhimani']\n"
     ]
    }
   ],
   "source": [
    "cloudus1.mantor_class([\"gaurang\",\"bhimani\"])"
   ]
  },
  {
   "cell_type": "code",
   "execution_count": 15,
   "id": "41d1b670-60e5-466a-8485-da0166f8c7f2",
   "metadata": {},
   "outputs": [],
   "source": [
    "class cloudus2:\n",
    "    \n",
    "    def student_details(self, name, mail_id, mobile):\n",
    "        print(name,mail_id,mobile)\n",
    "        \n",
    "    @staticmethod\n",
    "    def mantor_mail_id(mail_id):\n",
    "        print(mail_id)\n",
    "        \n",
    "    @staticmethod\n",
    "    def mantor_class(list_mantor):\n",
    "        cloudus2.mantor_mail_id([\"gaurang@gmail.com\",\"bhimani@gmailcom\"])\n",
    "        print(list_mantor)\n",
    "        \n",
    "    @classmethod\n",
    "    def class_name(cls):\n",
    "        cls.mantor_class([\"gaurang\",\"bhimani\"])\n",
    "        \n",
    "    def mantoe(self, mantoe_list):\n",
    "        print(mantoe_list)\n",
    "        self.mantor_class([\"gaurang\",\"bhimani\"])"
   ]
  },
  {
   "cell_type": "code",
   "execution_count": 11,
   "id": "4840e45f-e2fe-442f-a7bf-bb672118fb48",
   "metadata": {},
   "outputs": [
    {
     "name": "stdout",
     "output_type": "stream",
     "text": [
      "['gaurang', 'bhimani']\n"
     ]
    }
   ],
   "source": [
    "cloudus2.class_name()"
   ]
  },
  {
   "cell_type": "code",
   "execution_count": 14,
   "id": "a423db47-9cd4-47df-9a8c-0d7cc0183f98",
   "metadata": {},
   "outputs": [
    {
     "name": "stdout",
     "output_type": "stream",
     "text": [
      "['gaurang@gmail.com', 'bhimani@gmailcom']\n",
      "['gaurang', 'bhimani']\n"
     ]
    }
   ],
   "source": [
    "cloudus2.mantor_class([\"gaurang\",\"bhimani\"])"
   ]
  },
  {
   "cell_type": "code",
   "execution_count": 16,
   "id": "75a209dd-a053-43e4-89c9-e8453546b0dd",
   "metadata": {},
   "outputs": [],
   "source": [
    "cl = cloudus2()"
   ]
  },
  {
   "cell_type": "code",
   "execution_count": 18,
   "id": "bd267d13-436b-47f6-a067-2e7fa8832d29",
   "metadata": {},
   "outputs": [
    {
     "name": "stdout",
     "output_type": "stream",
     "text": [
      "['gaurang', 'bhimani']\n",
      "['gaurang@gmail.com', 'bhimani@gmailcom']\n",
      "['gaurang', 'bhimani']\n"
     ]
    }
   ],
   "source": [
    "cl.mantoe([\"gaurang\",\"bhimani\"])"
   ]
  },
  {
   "cell_type": "code",
   "execution_count": null,
   "id": "5698aa4a-404e-41f3-8bb6-0ca791ebe5ae",
   "metadata": {},
   "outputs": [],
   "source": []
  }
 ],
 "metadata": {
  "kernelspec": {
   "display_name": "Python 3 (ipykernel)",
   "language": "python",
   "name": "python3"
  },
  "language_info": {
   "codemirror_mode": {
    "name": "ipython",
    "version": 3
   },
   "file_extension": ".py",
   "mimetype": "text/x-python",
   "name": "python",
   "nbconvert_exporter": "python",
   "pygments_lexer": "ipython3",
   "version": "3.10.8"
  }
 },
 "nbformat": 4,
 "nbformat_minor": 5
}
