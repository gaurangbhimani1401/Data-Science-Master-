{
 "cells": [
  {
   "cell_type": "code",
   "execution_count": 1,
   "id": "8ed9ec84",
   "metadata": {},
   "outputs": [
    {
     "name": "stdout",
     "output_type": "stream",
     "text": [
      "Requirement already satisfied: selenium in c:\\users\\gaurang\\anaconda3\\lib\\site-packages (4.13.0)\n",
      "Requirement already satisfied: urllib3[socks]<3,>=1.26 in c:\\users\\gaurang\\anaconda3\\lib\\site-packages (from selenium) (1.26.16)\n",
      "Requirement already satisfied: trio~=0.17 in c:\\users\\gaurang\\anaconda3\\lib\\site-packages (from selenium) (0.22.2)\n",
      "Requirement already satisfied: trio-websocket~=0.9 in c:\\users\\gaurang\\anaconda3\\lib\\site-packages (from selenium) (0.11.1)\n",
      "Requirement already satisfied: certifi>=2021.10.8 in c:\\users\\gaurang\\anaconda3\\lib\\site-packages (from selenium) (2023.7.22)\n",
      "Requirement already satisfied: attrs>=20.1.0 in c:\\users\\gaurang\\anaconda3\\lib\\site-packages (from trio~=0.17->selenium) (22.1.0)\n",
      "Requirement already satisfied: sortedcontainers in c:\\users\\gaurang\\anaconda3\\lib\\site-packages (from trio~=0.17->selenium) (2.4.0)\n",
      "Requirement already satisfied: idna in c:\\users\\gaurang\\anaconda3\\lib\\site-packages (from trio~=0.17->selenium) (3.4)\n",
      "Requirement already satisfied: outcome in c:\\users\\gaurang\\anaconda3\\lib\\site-packages (from trio~=0.17->selenium) (1.2.0)\n",
      "Requirement already satisfied: sniffio in c:\\users\\gaurang\\anaconda3\\lib\\site-packages (from trio~=0.17->selenium) (1.2.0)\n",
      "Requirement already satisfied: cffi>=1.14 in c:\\users\\gaurang\\anaconda3\\lib\\site-packages (from trio~=0.17->selenium) (1.15.1)\n",
      "Requirement already satisfied: wsproto>=0.14 in c:\\users\\gaurang\\anaconda3\\lib\\site-packages (from trio-websocket~=0.9->selenium) (1.2.0)\n",
      "Requirement already satisfied: PySocks!=1.5.7,<2.0,>=1.5.6 in c:\\users\\gaurang\\anaconda3\\lib\\site-packages (from urllib3[socks]<3,>=1.26->selenium) (1.7.1)\n",
      "Requirement already satisfied: pycparser in c:\\users\\gaurang\\anaconda3\\lib\\site-packages (from cffi>=1.14->trio~=0.17->selenium) (2.21)\n",
      "Requirement already satisfied: h11<1,>=0.9.0 in c:\\users\\gaurang\\anaconda3\\lib\\site-packages (from wsproto>=0.14->trio-websocket~=0.9->selenium) (0.14.0)\n",
      "Note: you may need to restart the kernel to use updated packages.\n"
     ]
    }
   ],
   "source": [
    "pip install selenium"
   ]
  },
  {
   "cell_type": "code",
   "execution_count": 2,
   "id": "7726219e",
   "metadata": {},
   "outputs": [],
   "source": [
    "import requests\n",
    "from bs4 import BeautifulSoup as bs\n",
    "from urllib.request import urlopen\n",
    "import logging\n",
    "from selenium import webdriver\n",
    "from time import sleep\n",
    "from selenium import webdriver\n",
    "from selenium.webdriver.common.by import By\n",
    "import time\n",
    "import re"
   ]
  },
  {
   "cell_type": "markdown",
   "id": "ae7001d4",
   "metadata": {},
   "source": [
    "Q1. Write a python program to extract the video URL of the first five videos."
   ]
  },
  {
   "cell_type": "code",
   "execution_count": 20,
   "id": "ba1dba2d",
   "metadata": {},
   "outputs": [],
   "source": [
    "path = 'c://chromedriver.exe'\n",
    "browser = webdriver.Chrome()\n",
    "browser.get('https://www.youtube.com/@PW-Foundation/videos')"
   ]
  },
  {
   "cell_type": "code",
   "execution_count": 4,
   "id": "1949bd00",
   "metadata": {},
   "outputs": [],
   "source": [
    "video_div = browser.find_element(By.CSS_SELECTOR, 'div#contents')\n",
    "video_links = video_div.find_elements(By.TAG_NAME, 'a')\n",
    "video_urls = [link.get_attribute('href') for link in video_links]"
   ]
  },
  {
   "cell_type": "code",
   "execution_count": 5,
   "id": "3ba23a1e",
   "metadata": {},
   "outputs": [
    {
     "name": "stdout",
     "output_type": "stream",
     "text": [
      "https://www.youtube.com/watch?v=fP0E43Y6ldI\n",
      "https://www.youtube.com/watch?v=fP0E43Y6ldI\n",
      "None\n",
      "https://www.youtube.com/watch?v=fP0E43Y6ldI\n",
      "https://www.youtube.com/watch?v=a-AFvK0awlQ\n",
      "https://www.youtube.com/watch?v=a-AFvK0awlQ\n",
      "None\n",
      "https://www.youtube.com/watch?v=a-AFvK0awlQ\n",
      "https://www.youtube.com/watch?v=CjBEjMY-ljQ\n",
      "https://www.youtube.com/watch?v=CjBEjMY-ljQ\n",
      "None\n",
      "https://www.youtube.com/watch?v=CjBEjMY-ljQ\n",
      "https://www.youtube.com/watch?v=a2n9xcfXGpY\n",
      "https://www.youtube.com/watch?v=a2n9xcfXGpY\n",
      "None\n",
      "https://www.youtube.com/watch?v=a2n9xcfXGpY\n",
      "https://www.youtube.com/watch?v=S4nFKzoSCWs\n",
      "https://www.youtube.com/watch?v=S4nFKzoSCWs\n",
      "None\n",
      "https://www.youtube.com/watch?v=S4nFKzoSCWs\n",
      "https://www.youtube.com/watch?v=pecNtI_QXEI\n",
      "https://www.youtube.com/watch?v=pecNtI_QXEI\n",
      "None\n",
      "https://www.youtube.com/watch?v=pecNtI_QXEI\n",
      "https://www.youtube.com/watch?v=PXcgTSs-_p8\n",
      "https://www.youtube.com/watch?v=PXcgTSs-_p8\n",
      "None\n",
      "https://www.youtube.com/watch?v=PXcgTSs-_p8\n",
      "https://www.youtube.com/watch?v=JGJv4jlf8aQ\n",
      "https://www.youtube.com/watch?v=JGJv4jlf8aQ\n",
      "None\n",
      "https://www.youtube.com/watch?v=JGJv4jlf8aQ\n",
      "https://www.youtube.com/watch?v=0dMJLkO-SSw\n",
      "https://www.youtube.com/watch?v=0dMJLkO-SSw\n",
      "None\n",
      "https://www.youtube.com/watch?v=0dMJLkO-SSw\n",
      "https://www.youtube.com/watch?v=0CW4VbfH4kk\n",
      "https://www.youtube.com/watch?v=0CW4VbfH4kk\n",
      "None\n",
      "https://www.youtube.com/watch?v=0CW4VbfH4kk\n",
      "https://www.youtube.com/watch?v=gs2Ss52phYg\n",
      "https://www.youtube.com/watch?v=gs2Ss52phYg\n",
      "None\n",
      "https://www.youtube.com/watch?v=gs2Ss52phYg\n",
      "https://www.youtube.com/watch?v=8Pgsj94Gnkw\n",
      "https://www.youtube.com/watch?v=8Pgsj94Gnkw\n",
      "None\n",
      "https://www.youtube.com/watch?v=8Pgsj94Gnkw\n",
      "https://www.youtube.com/watch?v=yVkPfvFbQrg\n",
      "https://www.youtube.com/watch?v=yVkPfvFbQrg\n",
      "None\n",
      "https://www.youtube.com/watch?v=yVkPfvFbQrg\n",
      "https://www.youtube.com/watch?v=Al3qF9bfxCs\n",
      "https://www.youtube.com/watch?v=Al3qF9bfxCs\n",
      "None\n",
      "https://www.youtube.com/watch?v=Al3qF9bfxCs\n",
      "https://www.youtube.com/watch?v=dYh6Chnq0lo\n",
      "https://www.youtube.com/watch?v=dYh6Chnq0lo\n",
      "None\n",
      "https://www.youtube.com/watch?v=dYh6Chnq0lo\n",
      "https://www.youtube.com/watch?v=v22z2ixxN1c\n",
      "https://www.youtube.com/watch?v=v22z2ixxN1c\n",
      "None\n",
      "https://www.youtube.com/watch?v=v22z2ixxN1c\n",
      "https://www.youtube.com/watch?v=MksUgxuA8L4\n",
      "https://www.youtube.com/watch?v=MksUgxuA8L4\n",
      "None\n",
      "https://www.youtube.com/watch?v=MksUgxuA8L4\n",
      "https://www.youtube.com/watch?v=3TL4-e3z7CA\n",
      "https://www.youtube.com/watch?v=3TL4-e3z7CA\n",
      "None\n",
      "https://www.youtube.com/watch?v=3TL4-e3z7CA\n",
      "https://www.youtube.com/watch?v=U09HORTeaB8\n",
      "https://www.youtube.com/watch?v=U09HORTeaB8\n",
      "None\n",
      "https://www.youtube.com/watch?v=U09HORTeaB8\n",
      "https://www.youtube.com/watch?v=eazPrtheE14\n",
      "https://www.youtube.com/watch?v=eazPrtheE14\n",
      "None\n",
      "https://www.youtube.com/watch?v=eazPrtheE14\n",
      "https://www.youtube.com/watch?v=luqdZrYnFOM\n",
      "https://www.youtube.com/watch?v=luqdZrYnFOM\n",
      "None\n",
      "https://www.youtube.com/watch?v=luqdZrYnFOM\n",
      "https://www.youtube.com/watch?v=YiBqvPi8Q1I\n",
      "https://www.youtube.com/watch?v=YiBqvPi8Q1I\n",
      "None\n",
      "https://www.youtube.com/watch?v=YiBqvPi8Q1I\n",
      "https://www.youtube.com/watch?v=mw9mLdN6ssA\n",
      "https://www.youtube.com/watch?v=mw9mLdN6ssA\n",
      "None\n",
      "https://www.youtube.com/watch?v=mw9mLdN6ssA\n",
      "https://www.youtube.com/watch?v=LuTONVLzESM\n",
      "https://www.youtube.com/watch?v=LuTONVLzESM\n",
      "None\n",
      "https://www.youtube.com/watch?v=LuTONVLzESM\n",
      "https://www.youtube.com/watch?v=KWXKegvNa-I\n",
      "https://www.youtube.com/watch?v=KWXKegvNa-I\n",
      "None\n",
      "https://www.youtube.com/watch?v=KWXKegvNa-I\n",
      "https://www.youtube.com/watch?v=dArUpCasmnE\n",
      "https://www.youtube.com/watch?v=dArUpCasmnE\n",
      "None\n",
      "https://www.youtube.com/watch?v=dArUpCasmnE\n",
      "https://www.youtube.com/watch?v=HqG2QchBw8Y\n",
      "https://www.youtube.com/watch?v=HqG2QchBw8Y\n",
      "None\n",
      "https://www.youtube.com/watch?v=HqG2QchBw8Y\n",
      "https://www.youtube.com/watch?v=1izKrQHyx9M\n",
      "https://www.youtube.com/watch?v=1izKrQHyx9M\n",
      "None\n",
      "https://www.youtube.com/watch?v=1izKrQHyx9M\n"
     ]
    }
   ],
   "source": [
    "for link in video_urls[:]:\n",
    "    print(link)"
   ]
  },
  {
   "cell_type": "code",
   "execution_count": 6,
   "id": "a841430d",
   "metadata": {},
   "outputs": [],
   "source": [
    "video_urls = [link for link in video_urls if link is not None]"
   ]
  },
  {
   "cell_type": "code",
   "execution_count": 7,
   "id": "9360ec52",
   "metadata": {},
   "outputs": [
    {
     "data": {
      "text/plain": [
       "['https://www.youtube.com/watch?v=LuTONVLzESM',\n",
       " 'https://www.youtube.com/watch?v=1izKrQHyx9M',\n",
       " 'https://www.youtube.com/watch?v=MksUgxuA8L4',\n",
       " 'https://www.youtube.com/watch?v=gs2Ss52phYg',\n",
       " 'https://www.youtube.com/watch?v=JGJv4jlf8aQ']"
      ]
     },
     "execution_count": 7,
     "metadata": {},
     "output_type": "execute_result"
    }
   ],
   "source": [
    "video_urls = list(set(video_urls))\n",
    "first_five_values = video_urls[:5]\n",
    "first_five_values"
   ]
  },
  {
   "cell_type": "markdown",
   "id": "56d550f2",
   "metadata": {},
   "source": [
    "Q2. Write a python program to extract the URL of the video thumbnails of the first five videos."
   ]
  },
  {
   "cell_type": "code",
   "execution_count": 13,
   "id": "559f1b65",
   "metadata": {},
   "outputs": [
    {
     "name": "stdout",
     "output_type": "stream",
     "text": [
      "https://i.ytimg.com/vi/fP0E43Y6ldI/hqdefault.jpg?sqp=-oaymwEcCNACELwBSFXyq4qpAw4IARUAAIhCGAFwAcABBg==&rs=AOn4CLDBi1WXyp8mS3H0-0PGZfYlNZCB1g\n",
      "None\n",
      "https://i.ytimg.com/vi/a-AFvK0awlQ/hqdefault.jpg?sqp=-oaymwEcCNACELwBSFXyq4qpAw4IARUAAIhCGAFwAcABBg==&rs=AOn4CLAt3wWtwMyzachtZQPL80VHuYjmvA\n",
      "None\n",
      "https://i.ytimg.com/vi/CjBEjMY-ljQ/hqdefault.jpg?sqp=-oaymwEcCNACELwBSFXyq4qpAw4IARUAAIhCGAFwAcABBg==&rs=AOn4CLDUd44pmyjiWaDOxjinpD7sNohivA\n",
      "None\n",
      "https://i.ytimg.com/vi/a2n9xcfXGpY/hqdefault.jpg?sqp=-oaymwEcCNACELwBSFXyq4qpAw4IARUAAIhCGAFwAcABBg==&rs=AOn4CLDM63_VGXjbNae1cPcHVjr2Mghemg\n",
      "None\n",
      "https://i.ytimg.com/vi/S4nFKzoSCWs/hqdefault.jpg?sqp=-oaymwEcCNACELwBSFXyq4qpAw4IARUAAIhCGAFwAcABBg==&rs=AOn4CLB8beOv9Ij_uXofDKhSzu5nrW071g\n",
      "None\n",
      "https://i.ytimg.com/vi/pecNtI_QXEI/hqdefault.jpg?sqp=-oaymwEcCNACELwBSFXyq4qpAw4IARUAAIhCGAFwAcABBg==&rs=AOn4CLCUaioZYhbPNis8l-sODOS5C5fMIw\n",
      "None\n",
      "https://i.ytimg.com/vi/PXcgTSs-_p8/hqdefault.jpg?sqp=-oaymwEcCNACELwBSFXyq4qpAw4IARUAAIhCGAFwAcABBg==&rs=AOn4CLCNmNtdxO445Z9tXAXgmOxtbb6KEA\n",
      "None\n",
      "https://i.ytimg.com/vi/JGJv4jlf8aQ/hqdefault.jpg?sqp=-oaymwEcCNACELwBSFXyq4qpAw4IARUAAIhCGAFwAcABBg==&rs=AOn4CLAHj9uS5n2f9w8RW0bn9nvNbvI0JQ\n",
      "None\n",
      "https://i.ytimg.com/vi/0dMJLkO-SSw/hqdefault.jpg?sqp=-oaymwEcCNACELwBSFXyq4qpAw4IARUAAIhCGAFwAcABBg==&rs=AOn4CLDXE907XuT2NANzUXCoen3zFyl4Ng\n",
      "None\n",
      "https://i.ytimg.com/vi/0CW4VbfH4kk/hqdefault.jpg?sqp=-oaymwEcCNACELwBSFXyq4qpAw4IARUAAIhCGAFwAcABBg==&rs=AOn4CLDkhE1u_-PBoNtLeHxzmowbUgDICw\n",
      "None\n",
      "https://i.ytimg.com/vi/gs2Ss52phYg/hqdefault.jpg?sqp=-oaymwEcCNACELwBSFXyq4qpAw4IARUAAIhCGAFwAcABBg==&rs=AOn4CLCW-vxRI9GHti1wuVIldVfnCoF6Zw\n",
      "None\n",
      "https://i.ytimg.com/vi/8Pgsj94Gnkw/hqdefault.jpg?sqp=-oaymwEcCNACELwBSFXyq4qpAw4IARUAAIhCGAFwAcABBg==&rs=AOn4CLAka0MbpAolEM12LU4R5SjC3QndiA\n",
      "None\n",
      "None\n",
      "None\n",
      "None\n",
      "None\n",
      "None\n",
      "None\n",
      "None\n",
      "None\n",
      "None\n",
      "None\n",
      "None\n",
      "None\n",
      "None\n",
      "None\n",
      "None\n",
      "None\n",
      "None\n",
      "None\n",
      "None\n",
      "None\n",
      "None\n",
      "None\n",
      "None\n",
      "None\n",
      "None\n",
      "None\n",
      "None\n",
      "None\n",
      "None\n",
      "None\n",
      "None\n",
      "None\n"
     ]
    }
   ],
   "source": [
    "video_div = browser.find_element(By.CSS_SELECTOR, 'div#contents')\n",
    "\n",
    "video_links = video_div.find_elements(By.TAG_NAME, 'a')\n",
    "\n",
    "thumbnail_links = []\n",
    "\n",
    "\n",
    "for video_link in video_links:\n",
    "    try:\n",
    "        img_tag = video_link.find_element(By.TAG_NAME, 'img')\n",
    "        thumbnail_link = img_tag.get_attribute('src')\n",
    "        thumbnail_links.append(thumbnail_link)\n",
    "    except:\n",
    "        pass\n",
    "\n",
    "browser.quit()\n",
    "\n",
    "for thumbnail_link in thumbnail_links:\n",
    "    print(thumbnail_link)"
   ]
  },
  {
   "cell_type": "code",
   "execution_count": 14,
   "id": "f60bccbc",
   "metadata": {},
   "outputs": [],
   "source": [
    "thumbnaul_urls = [thumbnail_link for thumbnail_link in thumbnail_links if thumbnail_link is not None]\n",
    "thumbnaul_urls = list(set(thumbnaul_urls))\n",
    "first_five_thumbnail = thumbnaul_urls[:5]"
   ]
  },
  {
   "cell_type": "code",
   "execution_count": 15,
   "id": "223ee4f6",
   "metadata": {},
   "outputs": [
    {
     "data": {
      "text/plain": [
       "['https://i.ytimg.com/vi/0dMJLkO-SSw/hqdefault.jpg?sqp=-oaymwEcCNACELwBSFXyq4qpAw4IARUAAIhCGAFwAcABBg==&rs=AOn4CLDXE907XuT2NANzUXCoen3zFyl4Ng',\n",
       " 'https://i.ytimg.com/vi/PXcgTSs-_p8/hqdefault.jpg?sqp=-oaymwEcCNACELwBSFXyq4qpAw4IARUAAIhCGAFwAcABBg==&rs=AOn4CLCNmNtdxO445Z9tXAXgmOxtbb6KEA',\n",
       " 'https://i.ytimg.com/vi/CjBEjMY-ljQ/hqdefault.jpg?sqp=-oaymwEcCNACELwBSFXyq4qpAw4IARUAAIhCGAFwAcABBg==&rs=AOn4CLDUd44pmyjiWaDOxjinpD7sNohivA',\n",
       " 'https://i.ytimg.com/vi/fP0E43Y6ldI/hqdefault.jpg?sqp=-oaymwEcCNACELwBSFXyq4qpAw4IARUAAIhCGAFwAcABBg==&rs=AOn4CLDBi1WXyp8mS3H0-0PGZfYlNZCB1g',\n",
       " 'https://i.ytimg.com/vi/0CW4VbfH4kk/hqdefault.jpg?sqp=-oaymwEcCNACELwBSFXyq4qpAw4IARUAAIhCGAFwAcABBg==&rs=AOn4CLDkhE1u_-PBoNtLeHxzmowbUgDICw']"
      ]
     },
     "execution_count": 15,
     "metadata": {},
     "output_type": "execute_result"
    }
   ],
   "source": [
    "first_five_thumbnail"
   ]
  },
  {
   "cell_type": "markdown",
   "id": "395c70b0",
   "metadata": {},
   "source": [
    "Q4. Write a python program to extract the number of views of the first five videos."
   ]
  },
  {
   "cell_type": "code",
   "execution_count": 18,
   "id": "dc4f6a36",
   "metadata": {},
   "outputs": [
    {
     "name": "stdout",
     "output_type": "stream",
     "text": [
      "4.8K views\n",
      "4.8K views\n",
      "30K views\n",
      "16K views\n",
      "112K views\n",
      "123K views\n",
      "18K views\n",
      "45K views\n"
     ]
    }
   ],
   "source": [
    "\n",
    "contents_divs = browser.find_elements(By.CSS_SELECTOR, 'div#contents')\n",
    "\n",
    "for contents_div in contents_divs:\n",
    "    metadata_line_div = contents_div.find_element(By.CSS_SELECTOR, 'div#metadata-line')\n",
    "    \n",
    "    first_span = metadata_line_div.find_element(By.TAG_NAME, 'span')\n",
    "    span_text = first_span.text\n",
    "    \n",
    "    print(span_text)\n",
    "\n",
    "browser.quit()\n"
   ]
  },
  {
   "cell_type": "markdown",
   "id": "cbfd7083",
   "metadata": {},
   "source": [
    "Q3. Write a python program to extract the title of the first five videos."
   ]
  },
  {
   "cell_type": "code",
   "execution_count": 21,
   "id": "0c550fc9",
   "metadata": {},
   "outputs": [
    {
     "name": "stdout",
     "output_type": "stream",
     "text": [
      "FOREST AND WILDLIFE RESOURCES in 40mins || Class - 10th Boards\n",
      "Polynomials in 60 mins || Class - 10th Boards\n",
      "NATIONALISM IN INDIA in 45 mins || Class - 10 Borads\n",
      "5 Months MASTERPLAN for Class 10th Board !! 🎯 🔥\n",
      "Chemical Reactions and Equations in 55 in mins || Class - 10th Boards\n"
     ]
    }
   ],
   "source": [
    "\n",
    "browser.execute_script(\"window.scrollTo(0, document.body.scrollHeight);\")\n",
    "\n",
    "video_links = browser.find_elements(By.CSS_SELECTOR, 'div#contents a')\n",
    "\n",
    "video_titles = []\n",
    "\n",
    "for video_link in video_links:\n",
    "    try:\n",
    "        formatted_string_tag = video_link.find_element(By.CSS_SELECTOR, 'yt-formatted-string')\n",
    "        video_title = formatted_string_tag.text.strip()\n",
    "        if video_title:\n",
    "            video_titles.append(video_title)\n",
    "    except:\n",
    "        pass\n",
    "\n",
    "for title in video_titles[:5]:\n",
    "    print(title)\n"
   ]
  },
  {
   "cell_type": "markdown",
   "id": "9035cd96",
   "metadata": {},
   "source": [
    "Q5. Write a python program to extract the time of posting of video for the first five videos."
   ]
  },
  {
   "cell_type": "code",
   "execution_count": 22,
   "id": "15f936d3",
   "metadata": {},
   "outputs": [
    {
     "name": "stdout",
     "output_type": "stream",
     "text": [
      "Video 1 Time Ago: 20 hours ago\n",
      "Video 2 Time Ago: 20 hours ago\n",
      "Video 3 Time Ago: 6 days ago\n",
      "Video 4 Time Ago: 12 days ago\n",
      "Video 5 Time Ago: 1 month ago\n",
      "Video 6 Time Ago: 1 month ago\n",
      "Video 7 Time Ago: 2 months ago\n"
     ]
    }
   ],
   "source": [
    "contents_divs = browser.find_elements(By.CSS_SELECTOR, 'div#contents')\n",
    "\n",
    "# Initialize a list to store the extracted time data\n",
    "time_data = []\n",
    "\n",
    "# Define a regular expression pattern to match the time data\n",
    "time_pattern = re.compile(r'(\\d+\\s\\w+\\sago)')\n",
    "\n",
    "# Iterate through the <div> tags\n",
    "for contents_div in contents_divs:\n",
    "    try:\n",
    "        # Find the <div> tag with id 'metadata-line' within the current <div> tag\n",
    "        metadata_div = contents_div.find_element(By.CSS_SELECTOR, \"div#metadata-line\")\n",
    "        \n",
    "        # Get the text from the metadata <div>\n",
    "        metadata_text = metadata_div.text\n",
    "        \n",
    "        # Search for the time pattern within the metadata text\n",
    "        match = time_pattern.search(metadata_text)\n",
    "        \n",
    "        if match:\n",
    "            # Get the matched time data\n",
    "            time_data.append(match.group())\n",
    "        else:\n",
    "            time_data.append(\"N/A\")\n",
    "    except:\n",
    "        time_data.append(\"N/A\")\n",
    "\n",
    "# Close the webdriver\n",
    "browser.quit()\n",
    "\n",
    "# Print the extracted time data for each video\n",
    "for i, time in enumerate(time_data):\n",
    "    print(f\"Video {i + 1} Time Ago: {time}\")"
   ]
  },
  {
   "cell_type": "code",
   "execution_count": null,
   "id": "2ed43958",
   "metadata": {},
   "outputs": [],
   "source": []
  }
 ],
 "metadata": {
  "kernelspec": {
   "display_name": "Python 3 (ipykernel)",
   "language": "python",
   "name": "python3"
  },
  "language_info": {
   "codemirror_mode": {
    "name": "ipython",
    "version": 3
   },
   "file_extension": ".py",
   "mimetype": "text/x-python",
   "name": "python",
   "nbconvert_exporter": "python",
   "pygments_lexer": "ipython3",
   "version": "3.11.5"
  }
 },
 "nbformat": 4,
 "nbformat_minor": 5
}
