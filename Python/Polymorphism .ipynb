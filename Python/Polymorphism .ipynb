{
 "cells": [
  {
   "cell_type": "code",
   "execution_count": 1,
   "id": "b10617ac-856a-49b5-8f35-c98838b93eb9",
   "metadata": {},
   "outputs": [],
   "source": [
    "def test(a,b):\n",
    "    return a+b"
   ]
  },
  {
   "cell_type": "code",
   "execution_count": 2,
   "id": "e84ef499-fd59-489b-8b4f-bda70db33a4c",
   "metadata": {},
   "outputs": [
    {
     "data": {
      "text/plain": [
       "10"
      ]
     },
     "execution_count": 2,
     "metadata": {},
     "output_type": "execute_result"
    }
   ],
   "source": [
    "test(2,8)"
   ]
  },
  {
   "cell_type": "code",
   "execution_count": 6,
   "id": "070ae864-5b80-4210-885b-373c136ed348",
   "metadata": {},
   "outputs": [
    {
     "data": {
      "text/plain": [
       "'Gaurang Bhimani'"
      ]
     },
     "execution_count": 6,
     "metadata": {},
     "output_type": "execute_result"
    }
   ],
   "source": [
    "test(\"Gaurang\"  , \" Bhimani\")"
   ]
  },
  {
   "cell_type": "code",
   "execution_count": 7,
   "id": "0518dfa9-5a59-40b0-80cf-b069411e7659",
   "metadata": {},
   "outputs": [
    {
     "data": {
      "text/plain": [
       "[1, 2, 3, 4, 5, 6, 7, 8]"
      ]
     },
     "execution_count": 7,
     "metadata": {},
     "output_type": "execute_result"
    }
   ],
   "source": [
    "test([1,2,3,4],[5,6,7,8])"
   ]
  },
  {
   "cell_type": "code",
   "execution_count": 61,
   "id": "504a5c03-7eb8-408a-8257-7bc499144fa5",
   "metadata": {},
   "outputs": [],
   "source": [
    "class data_science:\n",
    "    def syllabus(self):\n",
    "        print(\"this is my syllabus for the data science function\")"
   ]
  },
  {
   "cell_type": "code",
   "execution_count": 62,
   "id": "a1956b21-468c-4a02-b48b-f5f9aa0786fe",
   "metadata": {},
   "outputs": [],
   "source": [
    "class web_dev:\n",
    "    def syllabus(self):\n",
    "        print(\"this is my syllabus for my web_dev class\")"
   ]
  },
  {
   "cell_type": "code",
   "execution_count": 63,
   "id": "8a529c9f-a0bc-4704-a2ce-e6ca444dabff",
   "metadata": {},
   "outputs": [],
   "source": [
    "def class_parcel(class_obj):\n",
    "    for i in class_obj:\n",
    "        i.syllabus()"
   ]
  },
  {
   "cell_type": "code",
   "execution_count": 64,
   "id": "d9ad4279-f41b-4faa-83da-331f81d2c186",
   "metadata": {},
   "outputs": [],
   "source": [
    "data_science = data_science()"
   ]
  },
  {
   "cell_type": "code",
   "execution_count": 65,
   "id": "82499bb3-a5bd-497e-ad02-ff687be8c004",
   "metadata": {},
   "outputs": [],
   "source": [
    "web_dev = web_dev()"
   ]
  },
  {
   "cell_type": "code",
   "execution_count": 66,
   "id": "d2c010ed-c661-47c6-a9e1-a0a896abac18",
   "metadata": {},
   "outputs": [],
   "source": [
    "class_obj = [data_science , web_dev]"
   ]
  },
  {
   "cell_type": "code",
   "execution_count": 67,
   "id": "6438e236-d670-4546-9b69-ca23ddcb20e1",
   "metadata": {},
   "outputs": [
    {
     "name": "stdout",
     "output_type": "stream",
     "text": [
      "this is my syllabus for the data science function\n",
      "this is my syllabus for my web_dev class\n"
     ]
    }
   ],
   "source": [
    "class_parcel(class_obj)"
   ]
  },
  {
   "cell_type": "code",
   "execution_count": null,
   "id": "781ad47d-107e-4483-999b-555f41f8b1e0",
   "metadata": {},
   "outputs": [],
   "source": []
  }
 ],
 "metadata": {
  "kernelspec": {
   "display_name": "Python 3 (ipykernel)",
   "language": "python",
   "name": "python3"
  },
  "language_info": {
   "codemirror_mode": {
    "name": "ipython",
    "version": 3
   },
   "file_extension": ".py",
   "mimetype": "text/x-python",
   "name": "python",
   "nbconvert_exporter": "python",
   "pygments_lexer": "ipython3",
   "version": "3.10.8"
  }
 },
 "nbformat": 4,
 "nbformat_minor": 5
}
