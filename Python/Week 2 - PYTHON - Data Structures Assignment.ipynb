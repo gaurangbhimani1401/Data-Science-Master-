{
 "cells": [
  {
   "cell_type": "markdown",
   "id": "dc8ad2e2-f6d1-4310-b58d-cc708c0db708",
   "metadata": {},
   "source": [
    "Q1. How do you comment code in Python? What are the different types of comments?"
   ]
  },
  {
   "cell_type": "code",
   "execution_count": 1,
   "id": "ebc2449d-9ff7-4f74-985e-2c1c8c49ef23",
   "metadata": {},
   "outputs": [],
   "source": [
    "Ans 1:- # This is the single line comment"
   ]
  },
  {
   "cell_type": "markdown",
   "id": "feaedd83-ee54-44ee-9288-cdbc55e3be4a",
   "metadata": {},
   "source": [
    "2. Multiline comment can be done by the single or double triple quotes."
   ]
  },
  {
   "cell_type": "code",
   "execution_count": null,
   "id": "7bc80ae9-44b8-4d26-a60d-cfa175b1ede2",
   "metadata": {},
   "outputs": [
    {
     "data": {
      "text/plain": [
       "'This is \\nthe \\nmultiline\\ncomment'"
      ]
     },
     "execution_count": 2,
     "metadata": {},
     "output_type": "execute_result"
    }
   ],
   "source": [
    "'''This is \n",
    "the \n",
    "multiline\n",
    "comment'''"
   ]
  },
  {
   "cell_type": "code",
   "execution_count": 3,
   "id": "40c19c67-251c-426d-a3c7-7783b096b0ad",
   "metadata": {},
   "outputs": [
    {
     "data": {
      "text/plain": [
       "'This is \\nthe \\nmultiline\\ncomment'"
      ]
     },
     "execution_count": 3,
     "metadata": {},
     "output_type": "execute_result"
    }
   ],
   "source": [
    "\"\"\"This is \n",
    "the \n",
    "multiline\n",
    "comment\"\"\""
   ]
  },
  {
   "cell_type": "markdown",
   "id": "253b4cc0-4e4b-4f6e-936a-93a2873af4f5",
   "metadata": {},
   "source": [
    "Q2. What are variables in Python? How do you declare and assign values to variables?"
   ]
  },
  {
   "cell_type": "raw",
   "id": "e9975c34-982e-4f7c-9657-27061c5fa679",
   "metadata": {},
   "source": [
    "Ans 2:- In Python variables are used to store the data. \n",
    "       They are placeholders that hold values of different datatypes such as numbers, strings, lists,etc.\n",
    "       "
   ]
  },
  {
   "cell_type": "raw",
   "id": "c27fb27a-4bcf-4715-b8d4-a3ca028bf9a8",
   "metadata": {},
   "source": [
    "To declare a variable in Python you simply choose a name for the variable and assign a value to it using the assignment operator."
   ]
  },
  {
   "cell_type": "raw",
   "id": "6ee89b07-2de9-44ab-a46f-1c64cdea6a83",
   "metadata": {},
   "source": [
    "ex :- variable_name = value"
   ]
  },
  {
   "cell_type": "markdown",
   "id": "0fe87136-2c9f-48ce-92d1-f83d714ddcfc",
   "metadata": {},
   "source": [
    "Q3. How do you convert one data type to another in Python?"
   ]
  },
  {
   "cell_type": "raw",
   "id": "fea96a4e-9c43-4a95-9d95-15760239da07",
   "metadata": {},
   "source": [
    "Ans 3:- In Python one can convert one data type to another using type conversion functions.\n",
    "      example of type conversion is as shown below."
   ]
  },
  {
   "cell_type": "code",
   "execution_count": null,
   "id": "0de507dd-77be-4ec8-9e21-8648b8d744dd",
   "metadata": {},
   "outputs": [],
   "source": [
    "int(input(\"enter the marks\"))"
   ]
  },
  {
   "cell_type": "raw",
   "id": "60dedeaa-0a74-448e-867f-f528fe388335",
   "metadata": {},
   "source": [
    "The input automatically input the string but due to the int function it take the input as a string and converted itself as the integer valur."
   ]
  },
  {
   "cell_type": "markdown",
   "id": "282f4664-7977-492c-99d4-c54ebbd0ec79",
   "metadata": {},
   "source": [
    "Q4. How do you write and execute a Python script from the command line?"
   ]
  },
  {
   "cell_type": "raw",
   "id": "e3c5b903-8187-4694-bff4-a89f0c01a1d1",
   "metadata": {},
   "source": [
    "Ans 4:- Following are the steps to write and execute a Python script from the command line :-\n",
    "\n",
    "       1)Open a text editor and create a new file with a extension '.py'. For ex, script.py.\n",
    "       2)Write a Python code in the text file. For ex simple \"Hello, World!\" program\n",
    "       3)Save the file.\n",
    "       4)Open the command line or terminal on your OS.\n",
    "       5)Navigate to the folder where the Python script is saved with the help of 'cd' command.\n",
    "       6)Once you are in the correct file, you can execute the Python script by typing python and script's filename.\n",
    "       7)Press Enter to execute the command."
   ]
  },
  {
   "cell_type": "markdown",
   "id": "0a62a412-efd8-4e23-9df4-e5a8d08b8372",
   "metadata": {},
   "source": [
    "Q5. Given a list my_list = [1, 2, 3, 4, 5], write the code to slice the list and obtain the sub-list [2, 3]."
   ]
  },
  {
   "cell_type": "code",
   "execution_count": 6,
   "id": "de685927-726b-4090-8daf-cf1ae29fa1d8",
   "metadata": {},
   "outputs": [],
   "source": [
    "# Ans 5:-\n",
    "my_list = [1, 2, 3, 4, 5]"
   ]
  },
  {
   "cell_type": "code",
   "execution_count": 7,
   "id": "ec5b72b2-e7aa-49be-94a3-29d58e89ada6",
   "metadata": {},
   "outputs": [],
   "source": [
    "sub_list = my_list[1:3]"
   ]
  },
  {
   "cell_type": "code",
   "execution_count": 8,
   "id": "12eb1e61-9fa8-4b38-826b-2394c8888993",
   "metadata": {},
   "outputs": [
    {
     "data": {
      "text/plain": [
       "[2, 3]"
      ]
     },
     "execution_count": 8,
     "metadata": {},
     "output_type": "execute_result"
    }
   ],
   "source": [
    "sub_list"
   ]
  },
  {
   "cell_type": "markdown",
   "id": "69c76134-2fc9-446b-9a1a-055a0b5b5ae7",
   "metadata": {},
   "source": [
    "Q6. What is a complex number in mathematics, and how is it represented in Python?"
   ]
  },
  {
   "cell_type": "raw",
   "id": "e1ada42d-b900-4b02-8a81-6ee1ff85d378",
   "metadata": {},
   "source": [
    "Ans 6:- In mathematics a Complex number is a number which consists of a real and an imaginary part.\n",
    "      ex :-  3 + 4j\n",
    "      In Python complex numbers are represented using the complex data type. The imaginary part is denoted by j or J to the numeric value.\n",
    "      ex :- z1 = 2 - 5j"
   ]
  },
  {
   "cell_type": "markdown",
   "id": "7677b9c3-cc97-4f33-9936-076967c82f58",
   "metadata": {},
   "source": [
    "Q7. What is the correct way to declare a variable named age and assign the value 25 to it?"
   ]
  },
  {
   "cell_type": "raw",
   "id": "23bcb5cb-387d-4a68-9dd6-aa0c404a7fdd",
   "metadata": {},
   "source": [
    "Ans 7:- The correct way to declare a variable named age and assign the value 25 to it in Python is as follows:-"
   ]
  },
  {
   "cell_type": "code",
   "execution_count": 9,
   "id": "0e0fca07-7873-47cf-bb55-fbfa1c46d741",
   "metadata": {},
   "outputs": [],
   "source": [
    "age = 25"
   ]
  },
  {
   "cell_type": "markdown",
   "id": "90604791-426c-4e29-83a0-81aed878ef2e",
   "metadata": {},
   "source": [
    "Q8. Declare a variable named price and assign the value 9.99 to it. What data type does this variable\n",
    "belong to?"
   ]
  },
  {
   "cell_type": "raw",
   "id": "f5a9e880-5c56-42d7-a6ab-cb4d6e75338d",
   "metadata": {},
   "source": [
    "Ans 8:-The variable named price with the value 9.99 in Python belongs to the data type called \"float\"."
   ]
  },
  {
   "cell_type": "code",
   "execution_count": 10,
   "id": "47710a53-ff56-4393-9166-41525e671569",
   "metadata": {},
   "outputs": [],
   "source": [
    "price = 9.99"
   ]
  },
  {
   "cell_type": "code",
   "execution_count": 11,
   "id": "0f948643-f2dc-4523-b439-21b094f9a873",
   "metadata": {},
   "outputs": [
    {
     "data": {
      "text/plain": [
       "float"
      ]
     },
     "execution_count": 11,
     "metadata": {},
     "output_type": "execute_result"
    }
   ],
   "source": [
    "type(price)"
   ]
  },
  {
   "cell_type": "markdown",
   "id": "7224c939-0ff4-4172-b933-34a02c72e41a",
   "metadata": {},
   "source": [
    "Q9. Create a variable named name and assign your full name to it as a string. How would you print the\n",
    "value of this variable?"
   ]
  },
  {
   "cell_type": "code",
   "execution_count": 12,
   "id": "6fe8fa82-b3f5-4d2d-b7e1-d3112ac25484",
   "metadata": {},
   "outputs": [
    {
     "name": "stdout",
     "output_type": "stream",
     "text": [
      "Gaurang Bhimani\n"
     ]
    }
   ],
   "source": [
    "# Ans 9:-\n",
    "name = \"Gaurang Bhimani\"\n",
    "print(name) \n"
   ]
  },
  {
   "cell_type": "code",
   "execution_count": 13,
   "id": "2cd669c8-621b-41a5-9dad-5543426515ef",
   "metadata": {},
   "outputs": [
    {
     "data": {
      "text/plain": [
       "str"
      ]
     },
     "execution_count": 13,
     "metadata": {},
     "output_type": "execute_result"
    }
   ],
   "source": [
    "type(name)"
   ]
  },
  {
   "cell_type": "markdown",
   "id": "15df2666-30a8-48c3-8043-097bd3427a9c",
   "metadata": {},
   "source": [
    "Q10. Given the string \"Hello, World!\", extract the substring \"World\"."
   ]
  },
  {
   "cell_type": "code",
   "execution_count": 15,
   "id": "34f1e409-42da-4a48-bb46-2b4cbfd6066e",
   "metadata": {},
   "outputs": [
    {
     "data": {
      "text/plain": [
       "'World'"
      ]
     },
     "execution_count": 15,
     "metadata": {},
     "output_type": "execute_result"
    }
   ],
   "source": [
    "# Ans 10:-\n",
    "string = 'Hello, World!'\n",
    "substring = string[7:12]\n",
    "substring"
   ]
  },
  {
   "cell_type": "markdown",
   "id": "de44f72a-cd9c-4e2a-9574-e8b5242986b0",
   "metadata": {},
   "source": [
    "Q11. Create a variable named \"is_student\" and assign it a boolean value indicating whether you are\n",
    "currently a student or not."
   ]
  },
  {
   "cell_type": "code",
   "execution_count": 16,
   "id": "c052b8d7-7c92-45ce-bdb8-e6a4f0532c77",
   "metadata": {},
   "outputs": [],
   "source": [
    "#Ans 11:-\n",
    "is_student = True"
   ]
  },
  {
   "cell_type": "code",
   "execution_count": 17,
   "id": "1f9d6551-f4b6-403e-9bd8-df988be56300",
   "metadata": {},
   "outputs": [
    {
     "data": {
      "text/plain": [
       "bool"
      ]
     },
     "execution_count": 17,
     "metadata": {},
     "output_type": "execute_result"
    }
   ],
   "source": [
    "type(is_student)"
   ]
  }
 ],
 "metadata": {
  "kernelspec": {
   "display_name": "Python 3 (ipykernel)",
   "language": "python",
   "name": "python3"
  },
  "language_info": {
   "codemirror_mode": {
    "name": "ipython",
    "version": 3
   },
   "file_extension": ".py",
   "mimetype": "text/x-python",
   "name": "python",
   "nbconvert_exporter": "python",
   "pygments_lexer": "ipython3",
   "version": "3.10.8"
  }
 },
 "nbformat": 4,
 "nbformat_minor": 5
}
